{
 "cells": [
  {
   "cell_type": "markdown",
   "metadata": {},
   "source": [
    "In this notebook, we add the eulogies of Fontenelle and make minor changes to the eulogies to correct some errors"
   ]
  },
  {
   "cell_type": "code",
   "execution_count": 1,
   "metadata": {},
   "outputs": [],
   "source": [
    "import pandas as pd"
   ]
  },
  {
   "cell_type": "code",
   "execution_count": 2,
   "metadata": {},
   "outputs": [],
   "source": [
    "#Loading the dataframes\n",
    "font = pd.read_csv('./../Data/Fontenelle.csv', header=None, names = ['Savant'])\n",
    "eul = pd.read_csv('./../Data/Dataframes/eulogies.csv')"
   ]
  },
  {
   "cell_type": "code",
   "execution_count": 4,
   "metadata": {},
   "outputs": [
    {
     "data": {
      "text/html": [
       "<div>\n",
       "<style scoped>\n",
       "    .dataframe tbody tr th:only-of-type {\n",
       "        vertical-align: middle;\n",
       "    }\n",
       "\n",
       "    .dataframe tbody tr th {\n",
       "        vertical-align: top;\n",
       "    }\n",
       "\n",
       "    .dataframe thead th {\n",
       "        text-align: right;\n",
       "    }\n",
       "</style>\n",
       "<table border=\"1\" class=\"dataframe\">\n",
       "  <thead>\n",
       "    <tr style=\"text-align: right;\">\n",
       "      <th></th>\n",
       "      <th>Savant</th>\n",
       "    </tr>\n",
       "  </thead>\n",
       "  <tbody>\n",
       "    <tr>\n",
       "      <th>0</th>\n",
       "      <td>Guillaume Amontons (1705)</td>\n",
       "    </tr>\n",
       "    <tr>\n",
       "      <th>1</th>\n",
       "      <td>Marc René de Voyer de Paulmy d'Argenson (1721)</td>\n",
       "    </tr>\n",
       "    <tr>\n",
       "      <th>2</th>\n",
       "      <td>Claude Berger (1712)</td>\n",
       "    </tr>\n",
       "    <tr>\n",
       "      <th>3</th>\n",
       "      <td>Pierre Blondin (1713)</td>\n",
       "    </tr>\n",
       "    <tr>\n",
       "      <th>4</th>\n",
       "      <td>Hermann Boerhaave (1738)</td>\n",
       "    </tr>\n",
       "  </tbody>\n",
       "</table>\n",
       "</div>"
      ],
      "text/plain": [
       "                                           Savant\n",
       "0                       Guillaume Amontons (1705)\n",
       "1  Marc René de Voyer de Paulmy d'Argenson (1721)\n",
       "2                            Claude Berger (1712)\n",
       "3                           Pierre Blondin (1713)\n",
       "4                        Hermann Boerhaave (1738)"
      ]
     },
     "execution_count": 4,
     "metadata": {},
     "output_type": "execute_result"
    }
   ],
   "source": [
    "font.head()"
   ]
  },
  {
   "cell_type": "code",
   "execution_count": 5,
   "metadata": {},
   "outputs": [
    {
     "data": {
      "text/plain": [
       "(66, 1)"
      ]
     },
     "execution_count": 5,
     "metadata": {},
     "output_type": "execute_result"
    }
   ],
   "source": [
    "font.shape"
   ]
  },
  {
   "cell_type": "code",
   "execution_count": 6,
   "metadata": {},
   "outputs": [
    {
     "data": {
      "text/html": [
       "<div>\n",
       "<style scoped>\n",
       "    .dataframe tbody tr th:only-of-type {\n",
       "        vertical-align: middle;\n",
       "    }\n",
       "\n",
       "    .dataframe tbody tr th {\n",
       "        vertical-align: top;\n",
       "    }\n",
       "\n",
       "    .dataframe thead th {\n",
       "        text-align: right;\n",
       "    }\n",
       "</style>\n",
       "<table border=\"1\" class=\"dataframe\">\n",
       "  <thead>\n",
       "    <tr style=\"text-align: right;\">\n",
       "      <th></th>\n",
       "      <th>Savant</th>\n",
       "      <th>Auteur</th>\n",
       "      <th>Annee</th>\n",
       "    </tr>\n",
       "  </thead>\n",
       "  <tbody>\n",
       "    <tr>\n",
       "      <th>0</th>\n",
       "      <td>Guillaume Amontons (1705)</td>\n",
       "      <td>Fontenelle</td>\n",
       "      <td>1705</td>\n",
       "    </tr>\n",
       "    <tr>\n",
       "      <th>1</th>\n",
       "      <td>Marc René de Voyer de Paulmy d'Argenson (1721)</td>\n",
       "      <td>Fontenelle</td>\n",
       "      <td>1721</td>\n",
       "    </tr>\n",
       "    <tr>\n",
       "      <th>2</th>\n",
       "      <td>Claude Berger (1712)</td>\n",
       "      <td>Fontenelle</td>\n",
       "      <td>1712</td>\n",
       "    </tr>\n",
       "    <tr>\n",
       "      <th>3</th>\n",
       "      <td>Pierre Blondin (1713)</td>\n",
       "      <td>Fontenelle</td>\n",
       "      <td>1713</td>\n",
       "    </tr>\n",
       "    <tr>\n",
       "      <th>4</th>\n",
       "      <td>Hermann Boerhaave (1738)</td>\n",
       "      <td>Fontenelle</td>\n",
       "      <td>1738</td>\n",
       "    </tr>\n",
       "  </tbody>\n",
       "</table>\n",
       "</div>"
      ],
      "text/plain": [
       "                                           Savant      Auteur Annee\n",
       "0                       Guillaume Amontons (1705)  Fontenelle  1705\n",
       "1  Marc René de Voyer de Paulmy d'Argenson (1721)  Fontenelle  1721\n",
       "2                            Claude Berger (1712)  Fontenelle  1712\n",
       "3                           Pierre Blondin (1713)  Fontenelle  1713\n",
       "4                        Hermann Boerhaave (1738)  Fontenelle  1738"
      ]
     },
     "execution_count": 6,
     "metadata": {},
     "output_type": "execute_result"
    }
   ],
   "source": [
    "def get_date(string):\n",
    "    '''\n",
    "    The purpose of this method is to get the date of the eulogy written\n",
    "    '''\n",
    "    string_sp = string.split('(')\n",
    "    date = string_sp[1][0:4]\n",
    "    return date\n",
    "\n",
    "#Adding a column with the name of the author for the merge with the entire dataframe of eulogies\n",
    "font['Auteur'] = font['Savant'].apply(lambda x : 'Fontenelle')\n",
    "\n",
    "#Adding a column containing the date of the eulogy\n",
    "font['Annee'] = font['Savant'].apply(lambda x : get_date(x))\n",
    "font.head()"
   ]
  },
  {
   "cell_type": "code",
   "execution_count": 7,
   "metadata": {},
   "outputs": [
    {
     "data": {
      "text/html": [
       "<div>\n",
       "<style scoped>\n",
       "    .dataframe tbody tr th:only-of-type {\n",
       "        vertical-align: middle;\n",
       "    }\n",
       "\n",
       "    .dataframe tbody tr th {\n",
       "        vertical-align: top;\n",
       "    }\n",
       "\n",
       "    .dataframe thead th {\n",
       "        text-align: right;\n",
       "    }\n",
       "</style>\n",
       "<table border=\"1\" class=\"dataframe\">\n",
       "  <thead>\n",
       "    <tr style=\"text-align: right;\">\n",
       "      <th></th>\n",
       "      <th>Savant</th>\n",
       "      <th>Auteur</th>\n",
       "      <th>Annee</th>\n",
       "    </tr>\n",
       "  </thead>\n",
       "  <tbody>\n",
       "    <tr>\n",
       "      <th>0</th>\n",
       "      <td>Guillaume Amontons</td>\n",
       "      <td>Fontenelle</td>\n",
       "      <td>1705</td>\n",
       "    </tr>\n",
       "    <tr>\n",
       "      <th>1</th>\n",
       "      <td>Marc René de Voyer de Paulmy d'Argenson</td>\n",
       "      <td>Fontenelle</td>\n",
       "      <td>1721</td>\n",
       "    </tr>\n",
       "    <tr>\n",
       "      <th>2</th>\n",
       "      <td>Claude Berger</td>\n",
       "      <td>Fontenelle</td>\n",
       "      <td>1712</td>\n",
       "    </tr>\n",
       "    <tr>\n",
       "      <th>3</th>\n",
       "      <td>Pierre Blondin</td>\n",
       "      <td>Fontenelle</td>\n",
       "      <td>1713</td>\n",
       "    </tr>\n",
       "    <tr>\n",
       "      <th>4</th>\n",
       "      <td>Hermann Boerhaave</td>\n",
       "      <td>Fontenelle</td>\n",
       "      <td>1738</td>\n",
       "    </tr>\n",
       "  </tbody>\n",
       "</table>\n",
       "</div>"
      ],
      "text/plain": [
       "                                     Savant      Auteur Annee\n",
       "0                       Guillaume Amontons   Fontenelle  1705\n",
       "1  Marc René de Voyer de Paulmy d'Argenson   Fontenelle  1721\n",
       "2                            Claude Berger   Fontenelle  1712\n",
       "3                           Pierre Blondin   Fontenelle  1713\n",
       "4                        Hermann Boerhaave   Fontenelle  1738"
      ]
     },
     "execution_count": 7,
     "metadata": {},
     "output_type": "execute_result"
    }
   ],
   "source": [
    "#Remove the date from the column 'Savant'\n",
    "font['Savant'] = font['Savant'].apply(lambda x : x.split('(')[0])\n",
    "font.head()"
   ]
  },
  {
   "cell_type": "code",
   "execution_count": 6,
   "metadata": {},
   "outputs": [],
   "source": [
    "#To see all rows\n",
    "pd.set_option('display.max_rows', 200)\n"
   ]
  },
  {
   "cell_type": "code",
   "execution_count": 8,
   "metadata": {},
   "outputs": [],
   "source": [
    "df_eul = pd.concat([font, eul], ignore_index = True)"
   ]
  },
  {
   "cell_type": "code",
   "execution_count": 3,
   "metadata": {},
   "outputs": [
    {
     "data": {
      "text/html": [
       "<div>\n",
       "<style scoped>\n",
       "    .dataframe tbody tr th:only-of-type {\n",
       "        vertical-align: middle;\n",
       "    }\n",
       "\n",
       "    .dataframe tbody tr th {\n",
       "        vertical-align: top;\n",
       "    }\n",
       "\n",
       "    .dataframe thead th {\n",
       "        text-align: right;\n",
       "    }\n",
       "</style>\n",
       "<table border=\"1\" class=\"dataframe\">\n",
       "  <thead>\n",
       "    <tr style=\"text-align: right;\">\n",
       "      <th></th>\n",
       "      <th>Savant</th>\n",
       "      <th>Auteur</th>\n",
       "      <th>Annee</th>\n",
       "      <th>Eloge</th>\n",
       "    </tr>\n",
       "  </thead>\n",
       "  <tbody>\n",
       "    <tr>\n",
       "      <th>0</th>\n",
       "      <td>Guillaume Amontons</td>\n",
       "      <td>Fontenelle</td>\n",
       "      <td>1705.0</td>\n",
       "      <td>NaN</td>\n",
       "    </tr>\n",
       "    <tr>\n",
       "      <th>1</th>\n",
       "      <td>Marc René de Voyer de Paulmy d'Argenson</td>\n",
       "      <td>Fontenelle</td>\n",
       "      <td>1721.0</td>\n",
       "      <td>NaN</td>\n",
       "    </tr>\n",
       "    <tr>\n",
       "      <th>2</th>\n",
       "      <td>Claude Berger</td>\n",
       "      <td>Fontenelle</td>\n",
       "      <td>1712.0</td>\n",
       "      <td>NaN</td>\n",
       "    </tr>\n",
       "    <tr>\n",
       "      <th>3</th>\n",
       "      <td>Pierre Blondin</td>\n",
       "      <td>Fontenelle</td>\n",
       "      <td>1713.0</td>\n",
       "      <td>NaN</td>\n",
       "    </tr>\n",
       "    <tr>\n",
       "      <th>4</th>\n",
       "      <td>Hermann Boerhaave</td>\n",
       "      <td>Fontenelle</td>\n",
       "      <td>1738.0</td>\n",
       "      <td>NaN</td>\n",
       "    </tr>\n",
       "  </tbody>\n",
       "</table>\n",
       "</div>"
      ],
      "text/plain": [
       "                                     Savant      Auteur   Annee Eloge\n",
       "0                       Guillaume Amontons   Fontenelle  1705.0   NaN\n",
       "1  Marc René de Voyer de Paulmy d'Argenson   Fontenelle  1721.0   NaN\n",
       "2                            Claude Berger   Fontenelle  1712.0   NaN\n",
       "3                           Pierre Blondin   Fontenelle  1713.0   NaN\n",
       "4                        Hermann Boerhaave   Fontenelle  1738.0   NaN"
      ]
     },
     "execution_count": 3,
     "metadata": {},
     "output_type": "execute_result"
    }
   ],
   "source": [
    "df_eul.head()"
   ]
  },
  {
   "cell_type": "code",
   "execution_count": 12,
   "metadata": {},
   "outputs": [
    {
     "data": {
      "text/html": [
       "<div>\n",
       "<style scoped>\n",
       "    .dataframe tbody tr th:only-of-type {\n",
       "        vertical-align: middle;\n",
       "    }\n",
       "\n",
       "    .dataframe tbody tr th {\n",
       "        vertical-align: top;\n",
       "    }\n",
       "\n",
       "    .dataframe thead th {\n",
       "        text-align: right;\n",
       "    }\n",
       "</style>\n",
       "<table border=\"1\" class=\"dataframe\">\n",
       "  <thead>\n",
       "    <tr style=\"text-align: right;\">\n",
       "      <th></th>\n",
       "      <th>Savant</th>\n",
       "      <th>Auteur</th>\n",
       "      <th>Annee</th>\n",
       "      <th>Eloge</th>\n",
       "    </tr>\n",
       "  </thead>\n",
       "  <tbody>\n",
       "    <tr>\n",
       "      <th>78</th>\n",
       "      <td>Darcet</td>\n",
       "      <td>Cuvier</td>\n",
       "      <td>1802.0</td>\n",
       "      <td>Nous l'avouons, ce n'est pas sans crainte que ...</td>\n",
       "    </tr>\n",
       "  </tbody>\n",
       "</table>\n",
       "</div>"
      ],
      "text/plain": [
       "    Savant  Auteur   Annee                                              Eloge\n",
       "78  Darcet  Cuvier  1802.0  Nous l'avouons, ce n'est pas sans crainte que ..."
      ]
     },
     "execution_count": 12,
     "metadata": {},
     "output_type": "execute_result"
    }
   ],
   "source": [
    "#Removing error on eulogy of Darcet that also contains the eulogy for Borda\n",
    "\n",
    "df_eul[df_eul['Savant']== 'Darcet']"
   ]
  },
  {
   "cell_type": "code",
   "execution_count": 17,
   "metadata": {},
   "outputs": [],
   "source": [
    "#eulogy for Darcet\n",
    "string_before = df_eul[df_eul['Savant']== 'Darcet'].reset_index().loc[0, 'Eloge'].split(\n",
    "    'NOTICE HISTORIQUE SUR JEAN CHARLES BORD')[0]\n",
    "\n",
    "#eulogy for Borda\n",
    "string_after = df_eul[df_eul['Savant']== 'Darcet'].reset_index().loc[0, 'Eloge'].split(\n",
    "    'NOTICE HISTORIQUE SUR JEAN CHARLES BORD')[1]"
   ]
  },
  {
   "cell_type": "code",
   "execution_count": 18,
   "metadata": {},
   "outputs": [
    {
     "data": {
      "text/plain": [
       "\"Nous l'avouons, ce n'est pas sans crainte que nous venons encore vous entretenir de l'un de nos confrères. L'exposé de découvertes récentes vous intéresserait peut-être plus que des détails répètes sur des travaux anciens†; mais c'est pour nous un devoir de rendre ces hommages à la mémoire des hommes utiles aux sciences et à l'humanité. Le souvenir des liens qui nous attachaient à eux nous fait exercer, il est vrai, ce touchant ministère avec le zèle du sentiment ; mais le souvenir de leurs services ne vous porterait-il pas aussi à prendre part à ces actes solennels de notre douleur, ou du moins à les excuser . \\\\n \\tQuelques personnes reprochent aux éloges académiques de n'être pas l'expression entière de la vérité, et de pallier trop souvent les fautes et les erreurs de ceux qu'ils ont pour objet : et sans doute ce n'est pas lorsque nos regrets sont encore dans toute leur force†; ce n'est pas lorsque nous parlons, pour ainsi dire, encore appuyés  sur l'urne funéraire d'un maître ou d'un ami, que l'on peut exiger de nous la froide impartialité de l'histoire. Mais n'y a-t-il pas en cela même une utilité particulière, et cette ingénieuse recherche de tout ce qu'un homme eut de louable ne peut-elle pas aussi profiter à l'humanité ? Les moralistes ordinaires sondent les replis les plus profonds du cúur humain pour y poursuivre et y dévoiler l'orgueil, la faiblesse et la vanité, sources impures et cachées de tant de vertus apparentes. Ils feraient presque pardonner le vice, tant ils prouvent qu'il est commun. On entend à cette tribune des moralistes d'une autre espèce : ils analysent aussi les ressorts secrets de notre intelligence et de notre volonté, mais leur but est plus consolant ; c'est de montrer que ces travers ou ces fautes, que la médiocrité aime tant à reprocher aux hommes de génie, ont presque toujours leur source dans des principes honnêtes, dans des penchants vertueux. Ils exercent d'avance l'office du temps, en effaçant les taches dont les contemporains ne se plaisent que trop à couvrir le mérite, et en montrant à l'émulation de la jeunesse l'image des grands hommes, entourée seulement de leur gloire, et telle que la postérité la verra, lorsque la jalousie aura cédé la place à la reconnaissance. \\\\n \\tSans doute il en est quelques-uns qui ont rendu cette bienveillance recherchée trop nécessaire à leur mémoire et dans l'éloge desquels on n'oserait se permettre ces réflexions, parce qu'elles seraient un trop fort correctif du bien qu'on dirait d'eux ; mais si jamais on peut les énoncer sans en craindre l'application, c'est en parlant  de l'homme qui fait le sujet de ce discours. Jamais aucun n'eut moins besoin des artifices d'un orateur, et ne put être montré plus aisément sous toutes ses faces : tout en lui fut bon, de ce bon simple et sans apprêts, qui paraît tel à tout le monde ; et les talents, la candeur et la probité s'alliaient si heureusement dans son caractère, qu'on ne pouvait le connaître sans le respecter et sans le chérir. \\\\n \\tUne partie de sa jeunesse se passa dans l'adversité. Son père était magistrat, et voulait qu'il se préparât à lui succéder : un goût naissant pour la physique lui faisait préférer l'étude de la médecine à celle de la jurisprudence. Une marâtre aigrissait encore l'humeur qu'occasionnaient ces différends, et le jeune Darcet se vit forcé de quitter la maison paternelle, et se rendit à Bordeaux pour s'y livrer à son penchant favori. \\\\n \\tC'est par un tel combat sur le choix d'un état que commence l'histoire de presque tous nos confrères. Rarement les paÔens consentent-ils à ce que leurs enfants courent la périlleuse carrière des travaux de l'esprit, et certes on ne peut blâmer leur prudence ; car le dernier des états est sans doute celui de l'homme de lettres sans talents, comme le plus méprisable est celui de l'homme de lettres sans courage. \\\\n \\tMais ceux qui ont vraiment reçu de la nature la noble destination d'éclairer leurs semblables sentent leurs forces, et c'est à la fois une sûre pierre de touche des deux qualités que cette destination suppose, quand ce charme ineffable qu'on éprouve à la recherche de la  vérité fait mépriser l'indigence et l'abandon momentané des hommes. Darcet subit complètement cette terrible épreuve. Son père lui refusa toute espèce de secours, et transporta son droit d'aînesse aux enfants d'un second lit†; en sorte qu'il se trouva bientôt dans une détresse si profonde, qu'il fut obligé, pour vivre, de donner des leçons de latin aux enfants d'un savetier. \\\\n \\tHeureusement pour lui et pour les sciences, un de ses camarades d'études, Roux, connu depuis à Paris comme professeur de chimie aux écoles de médecine, approchait du célèbre Montesquieu : il lui fit part de la situation de Darcet, et l'engagea à se le faire amener. Le président, voyant un jeune homme spirituel, instruit, modeste, et qui ne paraissait pas né pour cette infortune prit à lui l'intérêt le plus vif†; et s'étant assuré de l'honnêteté? de ses múurs et de l'étendue de ses connaissances, il lui confia l'éducation de son fils, et l'amena à Paris en 1742. \\\\n \\tDarcet passant subitement de la société? de gens vulgaires et mécaniques dans celle d'un homme que sa réputation et son rang liaient avec les personnages les plus illustres, ne s'y trouva point déplacé : il obtint bientôt l'estime et l'amitié? de son protecteur, devint le confident de ses travaux, et fut surtout employé par lui à recueillir et à ordonner les immenses matériaux de l'Esprit des Lois ; il assista en quelque sorte à la création de cet ouvrage, qui ne lui présentait plus cette jurisprudence étroite qui l'avait tant rebuté, mais qui le faisait jouir du spectacle nouveau pour lui de la  nature des choses, aussi impérieuse dans la formation des liens qui unissent les hommes, que dans celles des lois qui régissent les corps inanimés. Aussi possédait-il parfaitement ce livre immortel ; et personne n'entendait mieux et ne citait plus à propos ces lignes si concises et d'un sens si profond, que les gens ordinaires trouvaient jadis obscures, et dont les évènements de nos jours ont donné un si lumineux et quelquefois un si effrayant commentaire. \\\\n \\tCette intime confiance ne finit qu'avec la vie de Montesquieu, et ce fut même alors que celui-ci en donna la plus grande preuve. Persécuté en vain sur son lit de mort pour rétracter des passages de son livre qui n'avaient pas paru conformes à l'opinion dominante il s'aperçut que ceux qui l'obsédaient, désespérant de réussir dans leur entreprise, voulaient au moins glisser dans ses papiers quelque écrit qui contiendrait une rétractation, et qu'on donnerait comme de lui quand il ne serait plus. Ses parents étaient gagnés, et ses amis absents : ce fut à Darcet qu'il eut recours ; il lui remit les clefs de ses manuscrits ; et celui-ci fut obligé d'employer la force pour ne pas se les voir arracher. Ce dernier acte par lequel son ami lui léguait en quelque sorte le soin de son honneur, l'avait touché au point que c'était celui des évènements de sa vie qu'il rappelait avec le plus de complaisance, et il ne le faisait jamais sans une vive émotion. Il y ajoutait, lorsqu'il était avec ses amis, des détails sur les efforts de l'intrigue pour avilir un grand homme, bien remarquables, mais trop bas  pour que je puisse les rapporter dans une assemblée grave, sur tout à une époque ou? la connaissance en serait inutile, puisque nous sommes sans doute pour jamais débarrassés de la crainte de les voir renaître. L'éducation du jeune Secondât sous les yeux d'un père tel que Montesquieu, avait obligé Darcet de faire une étude approfondie des belles-lettres ; il en a fait preuve dans les notes dont il a enrichi le Traité des questions naturelles de Sénèque ce monument curieux des connaissances ou plutôt de l'ignorance des anciens sur la physique. \\\\n \\tJe n'aurais pas parlé d'un avantage qui semble appartenir à toute éducation libérale, si on ne paraissait y donner trop peu d'attention dans celle d'aujourd'hui. Quelques jeunes gens qui se livrent aux sciences avec succès négligent, dit-on, les lettres, et cependant celles-ci sont un besoin pour les premières. Qu'on se rappelle l'histoire des hommes qui ont le plus étendu le domaine des sciences, et l'on verra bientôt qu'il est plus nécessaire qu'on ne croit, pour apprendre à bien raisonner, de se nourrir des ouvrages qui ne passent d'ordinaire que pour bien écrits. En effet, les premiers éléments des sciences n'exercent peut-être pas assez la logique, précisément parce qu'ils sont trop évidents, et c'est en s'occupant des matières délicates de la morale et du goût qu'on acquiert cette finesse de tact qui conduit seule aux hautes découvertes. Comment d'ailleurs un homme capable de trouver des vérités nouvelles dédaignerait-il l'art de les imprimer dans l'esprit des autres, par cette  justesse d'expression, par cette vivacité d'images, charme des cúurs sensibles, et mérite éternel des ouvrages classiques . \\\\n \\tTout en s'occupant de son élève, Darcet continuait à étudier la médecine, et de toutes ses branches c'était la chimie qui le charmait le plus, parce que c'était celle qui lui paraissait la plus féconde en vues nouvelles et utiles. Son application le rendit bientôt l'élève chéri de Rouelle, qui lui-même s'était, à force de travail, élevé? de la condition d'un pauvre paysan au rang des professeurs célèbres. \\\\n \\tRouelle était un de ces hommes qui, par une grande vivacité d'élocution, par des idées hardies, une méthode vaste et simple à la fois, savent communiquer même aux gens du monde l'enthousiasme dont ils sont remplis pour leur art. \\\\n \\tUn jeune seigneur, passionné pour toutes les sortes de renommées, le comte de Lauraguais, faisait les frais de ses cours, et fréquentait souvent son laboratoire. Il y fut bientôt frappé du zèle et de l'intelligence de Darcet et de son ami Roux, qui était venu le trouver à Paris. Celui-ci nous dit M. de Lauragais dans des notes qu'il a bien voulu nous remettre, et dont nous avons tiré plusieurs faits intéressants, avait cet esprit qui promet de la capacité ; mais il était atrabilaire. Darcet était bon, simple et gai. Je demandai à Roux son amitié†; mais je donnai la mienne à Darcet, et dès lors nous fûmes inséparables. \\\\n \\tLe hasard voulut que les premiers travaux communs  des deux nouveaux amis fussent fort étrangers à cette chimie qui les avait liés, et, au lieu d'un laboratoire ce fut dans les camps que Darcet eut d'abord à suivre son protecteur. \\\\n \\tIl fit avec lui la campagne de 1756, et assista à la bataille d'Hastembeck. Il la vit de près ; car un boulet à ricochet l'ayant couvert de terre, son cheval effrayé l'emporta au milieu de la mêlée. Des officiers de sa connaissance voulaient le faire retirer : Non, dit-il en riant ; je ne serais peut-être pas venu ; mais, puisque j'y suis, je suis bien aise d'observer par moi-même les gens qui font, pour vivre, le métier de s'entretuer. Pendant la campagne de 57, Lauraguais et Darcet profitèrent de l'occupation du pays d'Hanovre pour visiter les mines du Hartz. Ils y passèrent, à diverses reprises, plusieurs jours sous terre, ayant seulement soin, dit toujours le premier dans ses notes, de s'informer de temps en temps de ce qui arrivait dessus. Ils apprirent trop tôt que M. de Soubise venait d'y être battu à Rosbach, et ils se hâtèrent de rejoindre l'armée, ou? ils se trouvèrent à la défaite de Crevelt. Le régiment de M. de Lauraguais y ayant été détruit, il aima mieux venir faire de la chimie que d'enlever un autre, et il ramena Darcet à Paris. \\\\n \\tRien ne fut épargné dès lors pour leurs expériences communes, et surtout pour leurs recherches sur les arts : les principales eurent la porcelaine pour objet. \\\\n \\tCette poterie précieuse, usitée à la Chine et au Japon depuis un temps immémorial, nous était apportée de là  par les Portugais depuis plus de deux siècles, lorsque le hasard enseigna à un chimiste allemand les moyens de l'imiter. C'était un garçon apothicaire de Berlin nommé Boetticher, qui, s'étant livré à quelques pratiques secrètes, eut le malheur de passer parmi le peuple pour posséder la pierre philosophale, et fut obligé de s'enfuir en Saxe. Il n'y fut pas plus tranquille. L'électeur ajoutant foi à ce bruit ridicule, et imaginant d'en tirer parti, fit enfermer ce malheureux avec menace de le faire pendre s'il ne lui faisait de l'or. On imagine bien qu'un tel ordre ne lui en fit pas faire†; mais, dans son embarras il essaya tant de combinaisons différentes, qu'enfin il découvrit ce mélange heureux de terres dont la Saxe a sûrement tiré plus de profit que jamais elle n'eût pu faire du grand úuvre. Elle y attachait un tel prix, qu'il était défendu, sous peine de mort, d'exporter même des échantillons de la terre qu'on y employait. Aussi les efforts des autres nations pour l'imiter furent -ils longtemps infructueux ; et le grand Réaumur lui-même après avoir fait venir de la Chine les deux principaux matériaux de la porcelaine, être connu le vrai principe de sa fabrication, ne parvint cependant qu'à faire une espèce de verre, opaque et blanc, à la vérité, mais qui ne perdait rien de sa fragilité. Les fabricants ordinaires, et la manufacture de Sèves elle-même, ne produisaient qu'une fritte composée de sable, de potasse et d'argile qui avait bien l'éclat extérieur de la porcelaine, mais qui se rayait aisément, et qu'un feu médiocre changeait en un verre noirâtre.  \\tLauraguais et Darcet firent, les premiers en France, une porcelaine dure et infusible, et cela non par hasard comme Boetticher, mais par une suite raisonnée de combinaisons de toutes les espèces de terres et de pierres. Aussi ne faisait-on en Saxe que la seule espèce de porcelaine dont on avait trouvé la recette, tandis qu'ils imitaient à leur gré toutes celles que le commerce nous apporte. C'est ce qui faisait dire à Darcet que les Saxons avaient bien le secret de leur belle porcelaine, mais qu'ils ne connaissaient pas l'art de faire la porcelaine. \\\\n \\tQu'il nous soit permis de remarquer en passant que cet art n'aurait été ni si tardif, ni si difficile à découvrir, si la simple minéralogie s'était trouvée alors dans l'état de perfection ou? elle est aujourd'hui. Réaumur recevant le pétunzé et le kaolin de la Chine, aurait à l'instant reconnu le premier pour un feldspath, et cette connaissance eût épargné à nos artistes quarante années de travaux infructueux. \\\\n \\tC'est à l'Institut national qu'il appartient de rappeler sans cesse que ces études générales qu'on affecte de regarder comme de pures spéculations, nous montrent réellement les chemins les plus courts pour arriver aux meilleurs procédés des arts. \\\\n \\tDarcet servait à la fois la pratique et la théorie. En faisant une invention lucrative, il faisait encore un très bon ouvrage de chimie. Ses expériences ne donnèrent pas toutes de belles porcelaines, mais toutes fournirent des faits utiles à la science, et il les recueillit sous le titre de Mémoire sur l'action d'un feu égal violent et  continué pendant plusieurs jours, sur un grand nombre de terres de pierres et de chaux métalliques 1766 et 1770. \\\\n \\tUn Allemand, nommé Pott, avait traité le même sujet†; mais Darcet essaya beaucoup plus de substances†; et comme il employait un feu bien plus actif, il obtint souvent d'autres résultats. La minéralogie gagna à ce travail une meilleure distribution de ses substances, et la peinture en émail plusieurs couleurs nouvelles. \\\\n \\tCe même feu lui donna occasion de répéter le premier en France, et de varier les curieuses expériences que l'empereur François I avait faites sur le diamant. Il vit cette pierre brillante se réduire en une fumée légère, même au travers d'une épaisse enveloppe de pâte de porcelaine†; et ne faisant point attention aux pores de cette pâte, il crut d'abord qu'il n'y avait qu'une simple évaporation sans concours de l'air. Mais de simples joailliers prouvèrent que cette prétendue évaporation n'avait pas lieu dans des vaisseaux mieux fermés, et Macquer vit bientôt après la flamme qui complétait la preuve de la combustion. \\\\n \\tOn sait que, dans ces dernières années, l'analyse du produit de cette combustion a montré que la nature du diamant ne diffère que bien peu de celle du charbon. Il ne faut pas voir seulement dans ces sortes de recherches la vérité isolée qu'elles nous montrent ; c'est par les vues qu'elles nous donnent sur les lois générales, et, dans ce cas-ci en particulier, sur le peu de rapport qu'il y a souvent entre les différences apparentes des corps et leurs principes réels, qu'on doit les estimer.  Darcet inventa ensuite un alliage métallique remarquable par la propriété singulière de se fondre à une chaleur moindre que celle de l'eau bouillante. Il consiste en huit parties de bismuth, cinq de plomb, et trois d'étain. Cette découverte ne dut d'abord paraître que curieuse ; on ne s'en servait que pour quelques grossières injections anatomiques : mais qui n'apprendrait à respecter jusqu'à la moindre expérience scientifique lorsqu'on saura que c'est sur celle-là surtout que repose le stéréotypage, cet art qui va doubler le bienfait de l'imprimerie, en faisant pénétrer jusque dans la plus pauvre chaumière le résultat des méditations des sages . \\\\n \\tOn lui doit encore la détermination de l'énorme quantité de substances nutritives contenue dans les os, quantité qui surpasse celle que fournirait un poids égal de chair ; et il avait annoncé depuis longtemps dans ses cours la possibilité d'extraire des os un produit semblable au suif. Ces deux découvertes pourront devenir utiles pour la multiplication d'objets d'une consommation journalière. \\\\n \\tMais ce n'est pas par ses découvertes seulement qu'il faut juger Darcet. Elles sont, il est vrai, pour un savant, le premier titre à la gloire ; mais elles ne sont pas le seul devoir auquel il s'engage. Dix-huit ans professeur au collège de France, Darcet répandit les lumières de la chimie dans les ateliers des arts ; il forma plusieurs des maîtres actuels de la science ; et comme le Gouvernement, dans les rétributions qu'il accordait aux professeurs, n'avait point encore calculé l'influence que des  leçons bien faites peuvent avoir sur la prospérité nationale , il était obligé de consacrer annuellement les deux tiers de ses honoraires aux frais de son cours. \\\\n \\tChimiste des manufactures de Sèves et des Gobelins, il perfectionna dans l'une les procédés de la cuisson, dans l'autre ceux de la teinture. Il n'eut point à introduire dans la première son invention des mélanges nécessaires à la porcelaine dure. Le hasard avait fait découvrir à son prédécesseur Macquer une terre toute préparée par la nature, qui rend désormais superflues les pénibles combinaisons de l'art. \\\\n \\tInspecteur des essais à la monnaie, il sut effrayer par une probité sévère ces intrigants que la pénurie des finances et la faiblesse du Gouvernement attirèrent pendant quelques années avec leurs projets, extravagants s'ils n'eussent été honteusement cupides. \\\\n \\tMembre de ces grands corps scientifiques appelés à éclairer le Gouvernement sur les matières de leur ressort , les gens de lettres sur les ouvrages qu'ils leur présentent, les artistes sur les machines qu'ils inventent, espèces de tribunaux ou? les rapporteurs ont plus d'autorité qu'ailleurs, parce que les juges ne possèdent pas également bien toutes les branches des sciences sur lesquelles ils ont à prononcer, et ou? ces rapporteurs ont par conséquent besoin d'être, s'il est possible, encore plus délicats et plus laborieux, il se distingua toujours par son rare discernement et par sa sévère justice. \\\\n \\tLa plus belle occasion qu'il eut de faire preuve d'une noble impartialité, fut quand la nouvelle chimie,  armée de ses expériences, de sa nomenclature et de ses formules, vint combattre l'ancienne corps à corps, et que, nommé par l'Académie des sciences l'un des Juges de ce grand défi, il lui fallut prononcer entre des opinions appuyées de l'assentiment d'un siècle entier, et des idées qui n'avoient encore de soutien qu'elles-mêmes ; entre la théorie qu'il avait enseignée toute sa vie, et celle à là découverte de laquelle il n'avait eu aucune part. Cette dernière circonstance dit assez à tous ceux qui connaissent des gens de lettres, combien il fallait qu'il eût de franchise pour non seulement ne point s'opposer à cette nouvelle doctrine, mais même pour l'introduire peu à peu dans ses ouvrages et dans ses cours, à mesure qu'il en constatait les bases. \\\\n \\tD'autres questions d'un intérêt immédiat, et non moins générales, furent encore soumises à son jugement, et lui demandèrent de longs travaux : telles furent celle de l'existence de l'or dans les cendres des végétaux, celle de sa dissolution dans l'acide nitrique, celle de l'épuration du métal des cloches. Partout il montra la même justice et la même sagacité. \\\\n \\tOn voit que tous ces travaux de Darcet furent modestes comme lui. Il chercha toujours plus l'utilité que la gloire. Il craignait plus d'errer qu'il ne désirait de jouir : de-là sa réserve extrême et sa lenteur à publier. Ajoutez qu'il n'eut jamais la force, ou, si l'on veut, la folie de sacrifier les jouissances de l'amitié à l'espoir de la célébrité ; et vous verrez pourquoi, avec des moyens multipliés, il ne s'est pas placé plus haut parmi les chimistes de son siècle.  \\tSon caractère résulte assez clairement de l'histoire de sa vie. D'une position assez triste, il a été élevé successivement jusqu'à l'une des places les plus éminentes de l'…tat, toujours porté par d'autres, et sans efforts de sa part comme sans résistance. Toujours content de sa situation présente, son contentement semblait rejaillir sur tout ce qui l'environnait ; le sentiment intime qu'il en avait lui-même ne lui permettait pas de connaître cette triste passion de la jalousie. Dans son intérieur, une égalité? d'humeur inaltérable, une gaîté? douce, une complaisance à toute épreuve, eussent à peine laissé croire qu'il était le chef de sa famille, si la tendre vénération de tous ceux qui la composaient ne l'eût sans cesse rappelé. \\\\n \\tOn a pu se demander pourquoi, à la fin d'une grande révolution, on a porté subitement à la première magistrature un homme qui n'y avait pris aucune part directe, et que ni l'éclat de son nom, ni son crédit, ni ses services, ne semblaient appeler à cette élévation. \\\\n \\tMais celui qui, dans le tumulte des partis, fut toujours respecté de tous ; celui qui, pour donner asile à l'opprimé, ne s'informa jamais de ses opinions ; celui que tant d'appâts offerts à l'ambition n'enlevèrent jamais à ses travaux obscurs, et qui, dévoué sans cesse à l'utilité publique, n'en imaginait point d'autre récompense que sa satisfaction intérieure, un tel homme n'était-il pas aussi un modèle à offrir aux citoyens, à une époque ou? il fallait donner pour base à l'édifice social la modération dans les désirs et toutes les vertus de la paix?  \""
      ]
     },
     "execution_count": 18,
     "metadata": {},
     "output_type": "execute_result"
    }
   ],
   "source": [
    "string_before"
   ]
  },
  {
   "cell_type": "code",
   "execution_count": 20,
   "metadata": {},
   "outputs": [],
   "source": [
    "#Correcting the eulogy in the line for Darcet\n",
    "df_eul['Eloge'][78] = string_before"
   ]
  },
  {
   "cell_type": "code",
   "execution_count": 23,
   "metadata": {},
   "outputs": [
    {
     "data": {
      "text/plain": [
       "\"Nous l'avouons, ce n'est pas sans crainte que nous venons encore vous entretenir de l'un de nos confrères. L'exposé de découvertes récentes vous intéresserait peut-être plus que des détails répètes sur des travaux anciens†; mais c'est pour nous un devoir de rendre ces hommages à la mémoire des hommes utiles aux sciences et à l'humanité. Le souvenir des liens qui nous attachaient à eux nous fait exercer, il est vrai, ce touchant ministère avec le zèle du sentiment ; mais le souvenir de leurs services ne vous porterait-il pas aussi à prendre part à ces actes solennels de notre douleur, ou du moins à les excuser . \\\\n \\tQuelques personnes reprochent aux éloges académiques de n'être pas l'expression entière de la vérité, et de pallier trop souvent les fautes et les erreurs de ceux qu'ils ont pour objet : et sans doute ce n'est pas lorsque nos regrets sont encore dans toute leur force†; ce n'est pas lorsque nous parlons, pour ainsi dire, encore appuyés  sur l'urne funéraire d'un maître ou d'un ami, que l'on peut exiger de nous la froide impartialité de l'histoire. Mais n'y a-t-il pas en cela même une utilité particulière, et cette ingénieuse recherche de tout ce qu'un homme eut de louable ne peut-elle pas aussi profiter à l'humanité ? Les moralistes ordinaires sondent les replis les plus profonds du cúur humain pour y poursuivre et y dévoiler l'orgueil, la faiblesse et la vanité, sources impures et cachées de tant de vertus apparentes. Ils feraient presque pardonner le vice, tant ils prouvent qu'il est commun. On entend à cette tribune des moralistes d'une autre espèce : ils analysent aussi les ressorts secrets de notre intelligence et de notre volonté, mais leur but est plus consolant ; c'est de montrer que ces travers ou ces fautes, que la médiocrité aime tant à reprocher aux hommes de génie, ont presque toujours leur source dans des principes honnêtes, dans des penchants vertueux. Ils exercent d'avance l'office du temps, en effaçant les taches dont les contemporains ne se plaisent que trop à couvrir le mérite, et en montrant à l'émulation de la jeunesse l'image des grands hommes, entourée seulement de leur gloire, et telle que la postérité la verra, lorsque la jalousie aura cédé la place à la reconnaissance. \\\\n \\tSans doute il en est quelques-uns qui ont rendu cette bienveillance recherchée trop nécessaire à leur mémoire et dans l'éloge desquels on n'oserait se permettre ces réflexions, parce qu'elles seraient un trop fort correctif du bien qu'on dirait d'eux ; mais si jamais on peut les énoncer sans en craindre l'application, c'est en parlant  de l'homme qui fait le sujet de ce discours. Jamais aucun n'eut moins besoin des artifices d'un orateur, et ne put être montré plus aisément sous toutes ses faces : tout en lui fut bon, de ce bon simple et sans apprêts, qui paraît tel à tout le monde ; et les talents, la candeur et la probité s'alliaient si heureusement dans son caractère, qu'on ne pouvait le connaître sans le respecter et sans le chérir. \\\\n \\tUne partie de sa jeunesse se passa dans l'adversité. Son père était magistrat, et voulait qu'il se préparât à lui succéder : un goût naissant pour la physique lui faisait préférer l'étude de la médecine à celle de la jurisprudence. Une marâtre aigrissait encore l'humeur qu'occasionnaient ces différends, et le jeune Darcet se vit forcé de quitter la maison paternelle, et se rendit à Bordeaux pour s'y livrer à son penchant favori. \\\\n \\tC'est par un tel combat sur le choix d'un état que commence l'histoire de presque tous nos confrères. Rarement les paÔens consentent-ils à ce que leurs enfants courent la périlleuse carrière des travaux de l'esprit, et certes on ne peut blâmer leur prudence ; car le dernier des états est sans doute celui de l'homme de lettres sans talents, comme le plus méprisable est celui de l'homme de lettres sans courage. \\\\n \\tMais ceux qui ont vraiment reçu de la nature la noble destination d'éclairer leurs semblables sentent leurs forces, et c'est à la fois une sûre pierre de touche des deux qualités que cette destination suppose, quand ce charme ineffable qu'on éprouve à la recherche de la  vérité fait mépriser l'indigence et l'abandon momentané des hommes. Darcet subit complètement cette terrible épreuve. Son père lui refusa toute espèce de secours, et transporta son droit d'aînesse aux enfants d'un second lit†; en sorte qu'il se trouva bientôt dans une détresse si profonde, qu'il fut obligé, pour vivre, de donner des leçons de latin aux enfants d'un savetier. \\\\n \\tHeureusement pour lui et pour les sciences, un de ses camarades d'études, Roux, connu depuis à Paris comme professeur de chimie aux écoles de médecine, approchait du célèbre Montesquieu : il lui fit part de la situation de Darcet, et l'engagea à se le faire amener. Le président, voyant un jeune homme spirituel, instruit, modeste, et qui ne paraissait pas né pour cette infortune prit à lui l'intérêt le plus vif†; et s'étant assuré de l'honnêteté? de ses múurs et de l'étendue de ses connaissances, il lui confia l'éducation de son fils, et l'amena à Paris en 1742. \\\\n \\tDarcet passant subitement de la société? de gens vulgaires et mécaniques dans celle d'un homme que sa réputation et son rang liaient avec les personnages les plus illustres, ne s'y trouva point déplacé : il obtint bientôt l'estime et l'amitié? de son protecteur, devint le confident de ses travaux, et fut surtout employé par lui à recueillir et à ordonner les immenses matériaux de l'Esprit des Lois ; il assista en quelque sorte à la création de cet ouvrage, qui ne lui présentait plus cette jurisprudence étroite qui l'avait tant rebuté, mais qui le faisait jouir du spectacle nouveau pour lui de la  nature des choses, aussi impérieuse dans la formation des liens qui unissent les hommes, que dans celles des lois qui régissent les corps inanimés. Aussi possédait-il parfaitement ce livre immortel ; et personne n'entendait mieux et ne citait plus à propos ces lignes si concises et d'un sens si profond, que les gens ordinaires trouvaient jadis obscures, et dont les évènements de nos jours ont donné un si lumineux et quelquefois un si effrayant commentaire. \\\\n \\tCette intime confiance ne finit qu'avec la vie de Montesquieu, et ce fut même alors que celui-ci en donna la plus grande preuve. Persécuté en vain sur son lit de mort pour rétracter des passages de son livre qui n'avaient pas paru conformes à l'opinion dominante il s'aperçut que ceux qui l'obsédaient, désespérant de réussir dans leur entreprise, voulaient au moins glisser dans ses papiers quelque écrit qui contiendrait une rétractation, et qu'on donnerait comme de lui quand il ne serait plus. Ses parents étaient gagnés, et ses amis absents : ce fut à Darcet qu'il eut recours ; il lui remit les clefs de ses manuscrits ; et celui-ci fut obligé d'employer la force pour ne pas se les voir arracher. Ce dernier acte par lequel son ami lui léguait en quelque sorte le soin de son honneur, l'avait touché au point que c'était celui des évènements de sa vie qu'il rappelait avec le plus de complaisance, et il ne le faisait jamais sans une vive émotion. Il y ajoutait, lorsqu'il était avec ses amis, des détails sur les efforts de l'intrigue pour avilir un grand homme, bien remarquables, mais trop bas  pour que je puisse les rapporter dans une assemblée grave, sur tout à une époque ou? la connaissance en serait inutile, puisque nous sommes sans doute pour jamais débarrassés de la crainte de les voir renaître. L'éducation du jeune Secondât sous les yeux d'un père tel que Montesquieu, avait obligé Darcet de faire une étude approfondie des belles-lettres ; il en a fait preuve dans les notes dont il a enrichi le Traité des questions naturelles de Sénèque ce monument curieux des connaissances ou plutôt de l'ignorance des anciens sur la physique. \\\\n \\tJe n'aurais pas parlé d'un avantage qui semble appartenir à toute éducation libérale, si on ne paraissait y donner trop peu d'attention dans celle d'aujourd'hui. Quelques jeunes gens qui se livrent aux sciences avec succès négligent, dit-on, les lettres, et cependant celles-ci sont un besoin pour les premières. Qu'on se rappelle l'histoire des hommes qui ont le plus étendu le domaine des sciences, et l'on verra bientôt qu'il est plus nécessaire qu'on ne croit, pour apprendre à bien raisonner, de se nourrir des ouvrages qui ne passent d'ordinaire que pour bien écrits. En effet, les premiers éléments des sciences n'exercent peut-être pas assez la logique, précisément parce qu'ils sont trop évidents, et c'est en s'occupant des matières délicates de la morale et du goût qu'on acquiert cette finesse de tact qui conduit seule aux hautes découvertes. Comment d'ailleurs un homme capable de trouver des vérités nouvelles dédaignerait-il l'art de les imprimer dans l'esprit des autres, par cette  justesse d'expression, par cette vivacité d'images, charme des cúurs sensibles, et mérite éternel des ouvrages classiques . \\\\n \\tTout en s'occupant de son élève, Darcet continuait à étudier la médecine, et de toutes ses branches c'était la chimie qui le charmait le plus, parce que c'était celle qui lui paraissait la plus féconde en vues nouvelles et utiles. Son application le rendit bientôt l'élève chéri de Rouelle, qui lui-même s'était, à force de travail, élevé? de la condition d'un pauvre paysan au rang des professeurs célèbres. \\\\n \\tRouelle était un de ces hommes qui, par une grande vivacité d'élocution, par des idées hardies, une méthode vaste et simple à la fois, savent communiquer même aux gens du monde l'enthousiasme dont ils sont remplis pour leur art. \\\\n \\tUn jeune seigneur, passionné pour toutes les sortes de renommées, le comte de Lauraguais, faisait les frais de ses cours, et fréquentait souvent son laboratoire. Il y fut bientôt frappé du zèle et de l'intelligence de Darcet et de son ami Roux, qui était venu le trouver à Paris. Celui-ci nous dit M. de Lauragais dans des notes qu'il a bien voulu nous remettre, et dont nous avons tiré plusieurs faits intéressants, avait cet esprit qui promet de la capacité ; mais il était atrabilaire. Darcet était bon, simple et gai. Je demandai à Roux son amitié†; mais je donnai la mienne à Darcet, et dès lors nous fûmes inséparables. \\\\n \\tLe hasard voulut que les premiers travaux communs  des deux nouveaux amis fussent fort étrangers à cette chimie qui les avait liés, et, au lieu d'un laboratoire ce fut dans les camps que Darcet eut d'abord à suivre son protecteur. \\\\n \\tIl fit avec lui la campagne de 1756, et assista à la bataille d'Hastembeck. Il la vit de près ; car un boulet à ricochet l'ayant couvert de terre, son cheval effrayé l'emporta au milieu de la mêlée. Des officiers de sa connaissance voulaient le faire retirer : Non, dit-il en riant ; je ne serais peut-être pas venu ; mais, puisque j'y suis, je suis bien aise d'observer par moi-même les gens qui font, pour vivre, le métier de s'entretuer. Pendant la campagne de 57, Lauraguais et Darcet profitèrent de l'occupation du pays d'Hanovre pour visiter les mines du Hartz. Ils y passèrent, à diverses reprises, plusieurs jours sous terre, ayant seulement soin, dit toujours le premier dans ses notes, de s'informer de temps en temps de ce qui arrivait dessus. Ils apprirent trop tôt que M. de Soubise venait d'y être battu à Rosbach, et ils se hâtèrent de rejoindre l'armée, ou? ils se trouvèrent à la défaite de Crevelt. Le régiment de M. de Lauraguais y ayant été détruit, il aima mieux venir faire de la chimie que d'enlever un autre, et il ramena Darcet à Paris. \\\\n \\tRien ne fut épargné dès lors pour leurs expériences communes, et surtout pour leurs recherches sur les arts : les principales eurent la porcelaine pour objet. \\\\n \\tCette poterie précieuse, usitée à la Chine et au Japon depuis un temps immémorial, nous était apportée de là  par les Portugais depuis plus de deux siècles, lorsque le hasard enseigna à un chimiste allemand les moyens de l'imiter. C'était un garçon apothicaire de Berlin nommé Boetticher, qui, s'étant livré à quelques pratiques secrètes, eut le malheur de passer parmi le peuple pour posséder la pierre philosophale, et fut obligé de s'enfuir en Saxe. Il n'y fut pas plus tranquille. L'électeur ajoutant foi à ce bruit ridicule, et imaginant d'en tirer parti, fit enfermer ce malheureux avec menace de le faire pendre s'il ne lui faisait de l'or. On imagine bien qu'un tel ordre ne lui en fit pas faire†; mais, dans son embarras il essaya tant de combinaisons différentes, qu'enfin il découvrit ce mélange heureux de terres dont la Saxe a sûrement tiré plus de profit que jamais elle n'eût pu faire du grand úuvre. Elle y attachait un tel prix, qu'il était défendu, sous peine de mort, d'exporter même des échantillons de la terre qu'on y employait. Aussi les efforts des autres nations pour l'imiter furent -ils longtemps infructueux ; et le grand Réaumur lui-même après avoir fait venir de la Chine les deux principaux matériaux de la porcelaine, être connu le vrai principe de sa fabrication, ne parvint cependant qu'à faire une espèce de verre, opaque et blanc, à la vérité, mais qui ne perdait rien de sa fragilité. Les fabricants ordinaires, et la manufacture de Sèves elle-même, ne produisaient qu'une fritte composée de sable, de potasse et d'argile qui avait bien l'éclat extérieur de la porcelaine, mais qui se rayait aisément, et qu'un feu médiocre changeait en un verre noirâtre.  \\tLauraguais et Darcet firent, les premiers en France, une porcelaine dure et infusible, et cela non par hasard comme Boetticher, mais par une suite raisonnée de combinaisons de toutes les espèces de terres et de pierres. Aussi ne faisait-on en Saxe que la seule espèce de porcelaine dont on avait trouvé la recette, tandis qu'ils imitaient à leur gré toutes celles que le commerce nous apporte. C'est ce qui faisait dire à Darcet que les Saxons avaient bien le secret de leur belle porcelaine, mais qu'ils ne connaissaient pas l'art de faire la porcelaine. \\\\n \\tQu'il nous soit permis de remarquer en passant que cet art n'aurait été ni si tardif, ni si difficile à découvrir, si la simple minéralogie s'était trouvée alors dans l'état de perfection ou? elle est aujourd'hui. Réaumur recevant le pétunzé et le kaolin de la Chine, aurait à l'instant reconnu le premier pour un feldspath, et cette connaissance eût épargné à nos artistes quarante années de travaux infructueux. \\\\n \\tC'est à l'Institut national qu'il appartient de rappeler sans cesse que ces études générales qu'on affecte de regarder comme de pures spéculations, nous montrent réellement les chemins les plus courts pour arriver aux meilleurs procédés des arts. \\\\n \\tDarcet servait à la fois la pratique et la théorie. En faisant une invention lucrative, il faisait encore un très bon ouvrage de chimie. Ses expériences ne donnèrent pas toutes de belles porcelaines, mais toutes fournirent des faits utiles à la science, et il les recueillit sous le titre de Mémoire sur l'action d'un feu égal violent et  continué pendant plusieurs jours, sur un grand nombre de terres de pierres et de chaux métalliques 1766 et 1770. \\\\n \\tUn Allemand, nommé Pott, avait traité le même sujet†; mais Darcet essaya beaucoup plus de substances†; et comme il employait un feu bien plus actif, il obtint souvent d'autres résultats. La minéralogie gagna à ce travail une meilleure distribution de ses substances, et la peinture en émail plusieurs couleurs nouvelles. \\\\n \\tCe même feu lui donna occasion de répéter le premier en France, et de varier les curieuses expériences que l'empereur François I avait faites sur le diamant. Il vit cette pierre brillante se réduire en une fumée légère, même au travers d'une épaisse enveloppe de pâte de porcelaine†; et ne faisant point attention aux pores de cette pâte, il crut d'abord qu'il n'y avait qu'une simple évaporation sans concours de l'air. Mais de simples joailliers prouvèrent que cette prétendue évaporation n'avait pas lieu dans des vaisseaux mieux fermés, et Macquer vit bientôt après la flamme qui complétait la preuve de la combustion. \\\\n \\tOn sait que, dans ces dernières années, l'analyse du produit de cette combustion a montré que la nature du diamant ne diffère que bien peu de celle du charbon. Il ne faut pas voir seulement dans ces sortes de recherches la vérité isolée qu'elles nous montrent ; c'est par les vues qu'elles nous donnent sur les lois générales, et, dans ce cas-ci en particulier, sur le peu de rapport qu'il y a souvent entre les différences apparentes des corps et leurs principes réels, qu'on doit les estimer.  Darcet inventa ensuite un alliage métallique remarquable par la propriété singulière de se fondre à une chaleur moindre que celle de l'eau bouillante. Il consiste en huit parties de bismuth, cinq de plomb, et trois d'étain. Cette découverte ne dut d'abord paraître que curieuse ; on ne s'en servait que pour quelques grossières injections anatomiques : mais qui n'apprendrait à respecter jusqu'à la moindre expérience scientifique lorsqu'on saura que c'est sur celle-là surtout que repose le stéréotypage, cet art qui va doubler le bienfait de l'imprimerie, en faisant pénétrer jusque dans la plus pauvre chaumière le résultat des méditations des sages . \\\\n \\tOn lui doit encore la détermination de l'énorme quantité de substances nutritives contenue dans les os, quantité qui surpasse celle que fournirait un poids égal de chair ; et il avait annoncé depuis longtemps dans ses cours la possibilité d'extraire des os un produit semblable au suif. Ces deux découvertes pourront devenir utiles pour la multiplication d'objets d'une consommation journalière. \\\\n \\tMais ce n'est pas par ses découvertes seulement qu'il faut juger Darcet. Elles sont, il est vrai, pour un savant, le premier titre à la gloire ; mais elles ne sont pas le seul devoir auquel il s'engage. Dix-huit ans professeur au collège de France, Darcet répandit les lumières de la chimie dans les ateliers des arts ; il forma plusieurs des maîtres actuels de la science ; et comme le Gouvernement, dans les rétributions qu'il accordait aux professeurs, n'avait point encore calculé l'influence que des  leçons bien faites peuvent avoir sur la prospérité nationale , il était obligé de consacrer annuellement les deux tiers de ses honoraires aux frais de son cours. \\\\n \\tChimiste des manufactures de Sèves et des Gobelins, il perfectionna dans l'une les procédés de la cuisson, dans l'autre ceux de la teinture. Il n'eut point à introduire dans la première son invention des mélanges nécessaires à la porcelaine dure. Le hasard avait fait découvrir à son prédécesseur Macquer une terre toute préparée par la nature, qui rend désormais superflues les pénibles combinaisons de l'art. \\\\n \\tInspecteur des essais à la monnaie, il sut effrayer par une probité sévère ces intrigants que la pénurie des finances et la faiblesse du Gouvernement attirèrent pendant quelques années avec leurs projets, extravagants s'ils n'eussent été honteusement cupides. \\\\n \\tMembre de ces grands corps scientifiques appelés à éclairer le Gouvernement sur les matières de leur ressort , les gens de lettres sur les ouvrages qu'ils leur présentent, les artistes sur les machines qu'ils inventent, espèces de tribunaux ou? les rapporteurs ont plus d'autorité qu'ailleurs, parce que les juges ne possèdent pas également bien toutes les branches des sciences sur lesquelles ils ont à prononcer, et ou? ces rapporteurs ont par conséquent besoin d'être, s'il est possible, encore plus délicats et plus laborieux, il se distingua toujours par son rare discernement et par sa sévère justice. \\\\n \\tLa plus belle occasion qu'il eut de faire preuve d'une noble impartialité, fut quand la nouvelle chimie,  armée de ses expériences, de sa nomenclature et de ses formules, vint combattre l'ancienne corps à corps, et que, nommé par l'Académie des sciences l'un des Juges de ce grand défi, il lui fallut prononcer entre des opinions appuyées de l'assentiment d'un siècle entier, et des idées qui n'avoient encore de soutien qu'elles-mêmes ; entre la théorie qu'il avait enseignée toute sa vie, et celle à là découverte de laquelle il n'avait eu aucune part. Cette dernière circonstance dit assez à tous ceux qui connaissent des gens de lettres, combien il fallait qu'il eût de franchise pour non seulement ne point s'opposer à cette nouvelle doctrine, mais même pour l'introduire peu à peu dans ses ouvrages et dans ses cours, à mesure qu'il en constatait les bases. \\\\n \\tD'autres questions d'un intérêt immédiat, et non moins générales, furent encore soumises à son jugement, et lui demandèrent de longs travaux : telles furent celle de l'existence de l'or dans les cendres des végétaux, celle de sa dissolution dans l'acide nitrique, celle de l'épuration du métal des cloches. Partout il montra la même justice et la même sagacité. \\\\n \\tOn voit que tous ces travaux de Darcet furent modestes comme lui. Il chercha toujours plus l'utilité que la gloire. Il craignait plus d'errer qu'il ne désirait de jouir : de-là sa réserve extrême et sa lenteur à publier. Ajoutez qu'il n'eut jamais la force, ou, si l'on veut, la folie de sacrifier les jouissances de l'amitié à l'espoir de la célébrité ; et vous verrez pourquoi, avec des moyens multipliés, il ne s'est pas placé plus haut parmi les chimistes de son siècle.  \\tSon caractère résulte assez clairement de l'histoire de sa vie. D'une position assez triste, il a été élevé successivement jusqu'à l'une des places les plus éminentes de l'…tat, toujours porté par d'autres, et sans efforts de sa part comme sans résistance. Toujours content de sa situation présente, son contentement semblait rejaillir sur tout ce qui l'environnait ; le sentiment intime qu'il en avait lui-même ne lui permettait pas de connaître cette triste passion de la jalousie. Dans son intérieur, une égalité? d'humeur inaltérable, une gaîté? douce, une complaisance à toute épreuve, eussent à peine laissé croire qu'il était le chef de sa famille, si la tendre vénération de tous ceux qui la composaient ne l'eût sans cesse rappelé. \\\\n \\tOn a pu se demander pourquoi, à la fin d'une grande révolution, on a porté subitement à la première magistrature un homme qui n'y avait pris aucune part directe, et que ni l'éclat de son nom, ni son crédit, ni ses services, ne semblaient appeler à cette élévation. \\\\n \\tMais celui qui, dans le tumulte des partis, fut toujours respecté de tous ; celui qui, pour donner asile à l'opprimé, ne s'informa jamais de ses opinions ; celui que tant d'appâts offerts à l'ambition n'enlevèrent jamais à ses travaux obscurs, et qui, dévoué sans cesse à l'utilité publique, n'en imaginait point d'autre récompense que sa satisfaction intérieure, un tel homme n'était-il pas aussi un modèle à offrir aux citoyens, à une époque ou? il fallait donner pour base à l'édifice social la modération dans les désirs et toutes les vertus de la paix?  \""
      ]
     },
     "execution_count": 23,
     "metadata": {},
     "output_type": "execute_result"
    }
   ],
   "source": [
    "#Checking it is correct\n",
    "df_eul.loc[78, 'Eloge']"
   ]
  },
  {
   "cell_type": "code",
   "execution_count": 24,
   "metadata": {},
   "outputs": [
    {
     "data": {
      "text/plain": [
       "\". \\\\n \\tPar le citoyen Lefèvre-Gineau. \\\\n \\tLu à la séance publique du 15 nivôse an 8. \\\\n \\tJean-Charles Borda, de l'Institut national, de la ci-devant Académie des sciences, chef de division dans la marine, naquit à Dax le 4 mai 1733, de Jean-Antoine de Borda et de Marie-Thérèse de Lacroix. \\\\n \\tIl est indifférent sans doute pour la gloire d'un homme recommandable par ses talents et par des travaux aussi nombreux qu'utiles, de savoir que quelques-uns de ses ancêtres ont, avant lui, représenté sur la scène du monde. Cependant lorsqu'un tel homme nous est enlevé? par la mort, l'intérêt qu'il inspire augmentant par le regret de l'avoir perdu, nous aimons à retrouver dans l'histoire ceux qui tiennent à lui par les liens du sang comme nous nous plaisons à rechercher autour de nous ceux qui lui furent attachés par les núuds de l'amitié. \\\\n \\tLa famille de Borda était originaire de Dax, et très anciennement connue dans le militaire. Brantôme parle d'un Borda, capitaine, dont le nom, dit cet auteur,  mérite d'être recommandé à la postérité. Un des frères de celui-ci, un oncle de son père, furent tués au champ d'honneur ; le premier à la bataille de Raucoux, l'autre au risban de Dunkerque, lorsque les Anglais essayèrent contre cette place en 1694, avec un succès funeste pour eux, une invention de guerre nouvelle qu'ils nommaient machine infernale. \\\\n \\tJean-Charles Borda commença ses études à Dax dans le collège des Barnabites, et dès lors donna des indices remarquables de cette facilité surprenante qu'il avait à juger les objets présentés à son esprit. Le professeur dictait en français, l'élève écrivait en latin ; et, par une fraude bien excusable, il faisait en même temps, dans des termes différents, une seconde traduction, qu'il donnait à son voisin. Il acheva ses études sous les Jésuites de la Flèche avec la même distinction ; tous les ans les prix proposés étaient pour lui l'occasion de plusieurs triomphes. \\\\n \\tD'aussi heureuses dispositions n'avoient pas échappé à ses maîtres. Ils lui proposèrent d'entrer dans leur ordre ; mais un goût déjà prononcé pour les mathématiques l'entraînait vers un autre but. Les Jésuites ne purent s'abstenir de lui marquer leurs regrets, et lui promirent une carrière brillante. \\\\n \\tIl ne rentra dans sa famille que pour y éprouver une contradiction la plus pénible qui puisse affliger un jeune homme ardent qui a conçu une passion exclusive. La géométrie, qu'il n'avait fait encore qu'entrevoir, avait éveillé dans lui cette passion. Il voulait la satisfaire en  entrant dans le génie militaire ; mais son père avait d'autres vues. Chargé de onze enfants avec très peu de fortune, obligé de soutenir deux de ses fils qui étaient au service, il regardait la magistrature comme un moyen de procurer à son fils un établissement moins dispendieux. Le jeune Borda se soumit avec répugnance, et tout le fruit de cette contrainte fut la perte de quelques années précieuses de sa jeunesse. Enfin, par les sollicitations d'un bon religieux ami de la maison, autant que par les instances de sa mère, il obtint la révocation d'une décision trop impérative et trop rigoureuse. \\\\n \\tA partir de ce moment il se livra tout entier à sa science favorite, et fit des progrès si rapides, qu'en 1753, n'ayant pas encore atteint l'âge de vingt ans, il fut trouvé digne d'être présenté à d'Alembert. Voici l'opinion qu'il donna de lui à ce savant illustre. ´ Il ira certainement très loin, disait d'Alembert dans une lettre écrite à un des parents de Borda†; je voudrais que sa position pût le faire songer à l'Académie : ce sera un très grand sujet à coup sûr.. \\\\n \\tUn témoignage d'estime aussi illustre fît renoncer Borda, pour quelque temps, au service du génie qui l'aurait éloigné de Paris. Admis dans les Chevau-légers, il y fît connaître et aimer l'étude des mathématiques, et devint lui-même le professeur de ses camarades. \\\\n \\tEn 1756 il lut à l'Académie un mémoire sur le mouvement des projectiles, qui obtint une mention particulière dans l'histoire de cette société savante ; et la même année il reçut une autre preuve d'estime bien  plus agréable pour lui ; il fut nommé associé de l'Académie. \\\\n \\tAide-de-camp de M. de Maillebois dans la campagne de 1757, il se trouva à la bataille d'Hastembeck le 26 juillet. Mais ce genre de service l'éloignait des sciences†; il revint à Paris, ou?, s'étant présenté pour le génie il fut reçu sans examen et employé sur-le-champ dans les ports. \\\\n \\tCette dernière circonstance décida du reste de sa vie. A la vue de la mer il accorda à cet élément et à la navigation une préférence qui ne s'est point démentie. \\\\n \\tSon premier essai fut l'examen des théories sur la résistance des fluides ; théories importantes à la navigation, car des principes qu'elles posent, dérive l'art de donner aux vaisseaux la forme qui éprouve la moindre résistance, et l'art de disposer les voiles, afin de réparer avec le plus grand avantage par le vent, les vitesses perdues. \\\\n \\tPlusieurs géomètres avaient élevé des doutes sur l'exactitude des théories qui étaient alors généralement admises ; mais personne encore n'avait songé à consulter l'expérience, seul juge souverain dans ces matières. \\\\n \\tA l'aide de machines fort simples qu'il conçut et fit exécuter, il soumit à la résistance de l'air et ensuite au choc de l'eau des surfaces de grandeur et de forme différentes, dont il changeait la position à son gré. Un cordon tiré par un poids, en se déroulant, faisait tourner avec rapidité un cylindre qui entrainait les surfaces soumises à cette expérience†; le temps plus ou moins long  que le poids employait à descendre de la même hauteur, indiquait la résistance plus ou moins grande de l'air†; le calcul faisait le reste. \\\\n \\tDe plusieurs lois dont se composaient alors les théories, une seule a été confirmée par ces expériences. Son travail fut le sujet de deux mémoires, l'un de 1763, l'autre de 1767 ; Borda termine le second par cette phrase remarquable et vraie : ´ La théorie ordinaire du choc des fluides, dit-il, ne donne que des rapports absolument faux. Il serait inutile et même dangereux de vouloir l'appliquer à la construction ª des vaisseaux.\\\\n \\tII fit en 1766 un autre mémoire sur l'écoulement des fluides qui entrent dans un vase ou qui en sortent par une ouverture. On ne se doute pas, quand on voit de l'eau couler ainsi, que la détermination des lois auxquelles ces écoulements sont soumis est un problème très difficile, et dont la solution exige une sagacité infinie et l'emploi d'une géométrie extrêmement fine. \\\\n \\tLes causes qui modifient ce problème sont très nombreuses, et sous peine d'établir une théorie fautive ou au moins incomplète, il n'est permis d'en négliger aucune. Daniel Bernoulli et d'Alembert avoient fait sur ces matières des ouvrages précieux. Ils étaient partis de principes différents ; mais leurs solutions ne s'accordaient pas. Borda reprit la question toute entière, la traita d'après un troisième principe, et fut conduit à une théorie plus générale et plus propre à s'accorder avec les faits. Il fit aussi de nouvelles expériences sur la  contraction de la veine fluide, qui non seulement confirmèrent la bonté du principe abstrait dont il s'était servi, mais qui lui apprirent encore que les expériences de Newton sur le même sujet avoient besoin d'une correction. \\\\n \\tSavoir les choses pour servir les hommes, a été l'unique et continuelle ambition de sa vie. En 1767 il examine dans un mémoire quelle est la forme la plus avantageuse, quelle est la position qu'il faut donner aux vannes des roues hydrauliques et aux roues elles-mêmes, pour qu'elles reçoivent de la part du courant d'eau la plus puissante impulsion. L'année suivante il compose un autre mémoire sur le calcul et sur la meilleure construction des pompes. Ces recherches le conduisirent à plusieurs conséquences qu'il vérifia sur- le-champ par d'heureuses applications, et dont le résultat devait être la réforme de quelques vices notables qu'il reconnut dans les pompes des vaisseaux. \\\\n \\tUne facilité surprenante à saisir les objets, un esprit extraordinaire de détail, une précision rare dans les idées, caractérisaient Borda. Le genre des recherches qui l'ont occupé, sa manière, son goût dominant pour ramener les théories à l'expérience et faire servir l'expérience à la pratique, sont une suite de ce caractère. Rarement il s'est livré aux spéculations de la géométrie pure. Cependant une question de cette nature captiva son esprit e. \\\\n \\t1767 : il s'agissait du problème des isopérimètres Euler avait donné une très belle méthode pour  résoudre ce problème ; Lagrange ensuite en avait trouvé une autre beaucoup plus simple, que l'illustre géomètre du nord s'était empressé d'adopter et de préférer hautement à la sienne. Cependant un géomètre célèbre de l'Académie contestait les résultats de Lagrange. Un tel dissentiment sur une question de géométrie piqua la curiosité de Borda. En suivant une route différente il atteignit au même but. Sa nouvelle méthode prouva la bonté de celle de Lagrange, et cette contestation tourna au profit de la science. \\\\n \\tLe dernier ouvrage de Borda qui se trouve dans l'Histoire de l'Académie est un Mémoire sur la théorie des projectiles en ayant égard à la résistance de l'air. Tout le monde connait la théorie du jet des bombes dans le vide, la nature de la courbe décrite, le rapport entre les portées et les angles de projection, et celui de la plus grande portée avec la vitesse initiale. Mais on ne lance pas des bombes dans le vide, et la résistance de l'air influe tellement sur les résultats, qu'ils deviennent méconnaissables. C'est bien pis lorsqu'il s'agit des boulets : leur vitesse étant presque infiniment grande la, colonne d'air qu'ils choquent dans des temps très courts est immense, et par conséquent la résistance de ce fluide est aussi très grande. \\\\n \\tNewton et Euler s'étaient occupés de ce problème dans la théorie des bombes ; Borda le résolut pour celle des boulets. Il compare les résultats calculés dans le vide avec ceux qu'il obtient ; ils en diffèrent d'une manière étonnante. Il trouve, par exemple, que la portée d'une  pièce de vingt-quatre est diminuée des neuf-dixièmes par la résistance de Pair, et la diminution est encore plus grande si le vent est contraire. Il a dressé des tables de résultats, calculées pour des pièces de tous les calibres, pour tous les angles, toutes les portées, pour différentes vitesses ; en sorte que la balistique est devenue par ses recherches une science presque nouvelle. \\\\n \\tNous allons maintenant tracer l'esquisse des travaux de Borda dans une autre carrière. \\\\n \\tLe genre et le succès de ses recherches avoient attiré sur lui l'attention de M, de Praslin, ministre de la marine, qui résolut de l'attacher au service de mer. L'esprit de corps s'opposait à cette promotion, l'usage et l'intérêt personnel appuyaient la résistance du corps de la marine†; mais le ministre tint ferme, et, par une exception aussi rare qu'honorable, Borda fut transporté en 1767, de l'arme du génie dans la marine militaire, avec le grade de sous-lieutenant de port. \\\\n \\tSa première campagne est de 1768 : il ne fit en quelque sorte dans ce voyage que prendre possession de l'élément qui venait de l'acquérir, et faire la reconnaissance du théâtre des expéditions importantes qui bientôt lui seraient confiées. \\\\n \\tDepuis plusieurs années le gouvernement excitait par des encouragements, et l'Académie des sciences invitait par des prix, les artistes à perfectionner les montres marines. En 1771 la frégate La Flore fut armée pour éprouver en mer les nouvelles montres et plusieurs instruments nouvellement proposés. L'Académie nomma  pour ses commissaires Borda et Pingre. M. de Verdun, lieutenant de vaisseau, qui commandait la frégate, était commissaire pour le gouvernement. Les instructions données à ces commissaires les chargeaient, non seulement d'éprouver et de juger les montres et les instruments qui leur étaient confiés, mais encore d'examiner toutes les méthodes de pratique et de calcul employées sur les vaisseaux, de multiplier les observations autant qu'il serait possible ; enfin de ne négliger rien de ce qui pou- voit être utile à la navigation. La relation de ce voyage a fait voir combien les commissaires ont mis de zèle et de soins à remplir cette honorable mission, et jusqu'à quel point ils ont justifié le choix qu'on avait fait d'eux. \\\\n \\tUne autre expédition non moins importante suivit celle-ci de près ; Borda en eut le commandement et là direction. Il s'agissait de déterminer la position des îles Canaries. Ces îles sont un point de la terre intéressant en géographie, parce que plusieurs peuples de l'Europe y font passer leur premier méridien, les uns au pic de Ténériffe, les autres à l'île de Fer ; le nôtre même était fixé à cette dernière île par une loi. Borda, élevé au grade de lieutenant de vaisseau en 1775, partit l'année suivante pour cette expédition, monté sur la frégate la Boussole, et ayant sous ses ordres l'Espiègle commandé par M. de Puységur. Ce voyage plein d'observations utiles et curieuses, n'a pas été publié ; il reste entièrement rédigé dans les manuscrits de Borda, et sera imprimé avec d'autres ouvrages et fragments de  recherches dont il s'occupait quelque temps avant sa mort. \\\\n \\tLes principaux faits géographiques en ont été consignés dans des notes supplémentaires ajoutées au voyage précédent. La position relative et absolue des Canaries s'y trouve déterminée par plusieurs points pris sur chacune d'elles et sur la côte d'Afrique, tous d'après des longitudes et des latitudes observées. \\\\n \\tC'était une occasion de vérifier la hauteur du pic de Ténériffe, sur laquelle on n'avait avant lui que des erreurs. Il en avait déjà exécuté une première fois la mesure par la trigonométrie, en 1771, et avait dressé des tables pour faire connaitre aux navigateurs leur position en mer par la hauteur apparente de cette montagne. Il recommença son travail sur les mêmes points qu'en 1771. Il reconnut et corrigea une erreur de chiffre. L'accord qui se trouve entre ces deux opérations ne permet pas de douter de l'exactitude de l'une ni de l'autre. \\\\n \\tIl vérifia aussi plusieurs faits singuliers racontés par les voyageurs qui sont montés au sommet du pic. A travers des obstacles et des dangers presque insurmontables, il gravit jusqu'à la cime ; il vit le cratère du volcan dont le souffle brûlant enflamme promptement le bois qu'on y plonge, et communique à l'air qu'on respire à l'entour une chaleur insupportable, tandis qu'au dessous il règne un froid excessif, puisqu'il maintient l'eau à l'état de glace pendant toute l'année, quoique dans un lieu situé très près du tropique.  Il ne s'étonna pas de ces merveilles; il en chercha la cause dans la disposition des ouvertures de la cave de glace, et les explications qu'il donne de ce phénomène et de beaucoup d'autres sont très satisfaisantes. Il rapporta plusieurs morceaux de minéralogie, qu'il soumit à l'examen des naturalistes. \\\\n \\tCe serait à des hommes qui ont été ses compagnons d'armes comme ils l'étaient dans les sciences, à des navigateurs célèbres dont la France honore les travaux, qui respectaient les talents de Borda, et qui siègent parmi nous (Les citoyens Bougainville et Fleurieu) ; ce serait à eux, dis-je, et non à moi, qu'il appartiendrait de peindre Borda dans l'époque de sa vie ou? nous sommes arrivés, dans cette belle campagne de M. d'Estaing , qui a si glorieusement contribué à la liberté des …tats-Unis , et dont le souvenir nous conservera sans doute l'affection de cette république. Ils diraient que pendant le cours de cette campagne mémorable, ou? Borda fut major général de notre armée navale, la sagesse de son administration, son économie prudente et non parcimonieuse, et l'ordre admirable de sa comptabilité, ont été dignes de servir à jamais de modèle à tous les généraux et à tous les ordonnateurs. \\\\n \\tAucune idée grande et utile n'échappait à son génie observateur. Le défaut d'uniformité dans la construction des vaisseaux dont se composaient nos armées navale. \\\\n \\téveilla ses réflexions. De-là résultait une discordance  dans les mouvements et un défaut d'ensemble dans l'exécution des signaux. Pourquoi ne pas donner la même forme à tous les navires, en s'attachant à celle qui réunirait des qualités supérieures ? De retour en France il fit adopter cette idée au gouvernement ; Le ministre ordonna aux constructeurs d'envoyer le plan d'un vaisseau de 74, canons, et Borda fut leur juge. On suivit la même marche pour les vaisseaux d'un autre rang, et l'expérience a prouvé les profondes connaissances du juge en confirmant ses choix. Les Anglais aussi, à cette occasion, par l'empressement qu'ils ont mis à nous imiter, ont avoué, une fois au moins, que l'enceinte de leur île n'est pas exclusivement le berceau de toutes les conceptions heureuses. \\\\n \\tEn 1781 il eut le commandement du vaisseau le Guerrier, et en 1782 celui du Solitaire, vaisseau de 64 canons, avec ordre d'escorter un corps de troupes qu'on envoyait à la Martinique. Il rendit les troupes à leur destination, et s'étant réuni à l'escadre commandée par M. de Grasse, il reçut de lui l'ordre de s'établir en croisière avec quelques frégates dans les parages voisins. Par une circonstance malheureuse, mais fréquente en mer, à la suite des ténèbres d'un épais brouillard, il se vit au milieu de huit vaisseaux de guerre anglais dont la vue lui avait été dérobée par les vapeurs. Il usa de toutes ses ressources pour échapper à des forces si supérieures aux siennes ; mais obligé d'en venir au combat, il se défendit avec autant de sang-froid que de courage.  Quoiqu'entièrement désemparé, il soutint le combat, pour laisser aux vaisseaux qu'il commandait , le temps de se mettre hors de danger. Enfin il fallut céder, et le Solitaire fut rendu dans l'état d'un vaisseau naufragé. \\\\n \\tIl fut traité avec distinction par les Anglais et renvoyé en France sur sa parole ; mais le chagrin de cette fatale catastrophe, et les fatigues de trois campagnes de guerre affaiblirent sa santé, et lui donnèrent des infirmités qui tous les ans prirent des caractères plus alarmants et abrégèrent le cours de sa vie. \\\\n \\tDès 1771 il avait senti que l'octant de Hadley, instrument le plus utile et le plus usuel de tous ceux qu'on emploie à la mer, pouvait être perfectionné. Mayer, célèbre astronome anglais, avait proposé en 1767 de substituer un cercle entier divisé à la partie de cercle qui est la base de l'octant ; il avait décrit les avantages et la construction de son nouvel instrument : idée heureuse, mais qui ne fut pas exécutée. Borda, qui en sentit l'importance, connut aussi les défauts qu'aurait l'instrument de Mayer : il ajouta aux idées de cet astronome d'autres idées plus heureuses encore, et, satisfait de la forme qu'il avait imaginée, il fit exécuter en 1777 son cercle entier de réflexion. C'était donner aux navigateurs un instrument portatif, dont l'exactitude pour leurs observations égalerait celle des grands instruments employés jusqu'alors en astronomie. Il décrivit cet instrument dans un ouvrage publié en 1789.  Le cercle entier qu'il a fait exécuter plus tard pour les astronomes, qui seul peut tenir lieu de tous les instruments d'astronomie, sans lequel nous n'aurions pas eu cette précision qui rendra à jamais immortelles les opérations faites pour déterminer les bases du système métrique, et que par reconnaissance les astronomes ont nommé cercle de Borda ce cercle , dis-je , est au fond une conséquence du cercle de réflexion. L'exactitude qu'il donne est due aux mêmes moyens , aux mêmes raisons; mais les idées accessoires par lesquelles Borda est parvenu à rendre le cercle entier capable de servir aux usages de l'astronomie et aux opérations géodésiques, sont une preuve nouvelle de la fécondité de ses ressources dans les plus petits détails. \\\\n \\tIl me reste à dire un mot de ce qu'il a fait pour la détermination des bases du nouveau système métrique. Sa part en inventions, en expériences, en zèle, en soins, est très riche dans cette opération immense en détails. Dans aucune autre circonstance son esprit n'a déployé plus de ressources ni plus de sagacité. \\\\n \\tIl fut un des commissaires nommés par l'Académie, en 1790, pour choisir les bases du système. Chargé, avec deux de ses confrères, de mesurer la longueur du pendule, il inventa une manière simple, commode, ingénieuse, de le mesurer avec une extrême précision. Celte méthode, fréquemment employée depuis dans le cours des opérations, est connue des artistes et mise aujourd'hui en pratique dans leurs ateliers.  Il inventa la forme donnée aux règles avec lesquelles on a mesuré les bases trigonométriques. Le moyen qu'il employa pour faire connaitre l'influence de la chaleur sur ces règles, a enrichi la physique d'un nouveau thermomètre plus sûr, plus étendu, plus comparable que nos thermomètres ordinaires. Les expériences qu'il a faites pour en déterminer la marche ont été le sujet d'un mémoire aussi précieux par ses résultats que piquant par ses procédés ingénieux. \\\\n \\tCette grande entreprise l'avait fortement intéressé dès l'abord ; elle était devenue, dans ses dernières années un objet de prédilection pour lui. Les obstacles sans nombre qu'elle avait éprouvés, ceux qui pouvaient encore survenir, lui en faisaient ardemment désirer la fin. Il excitait sans relâche le zèle des savants dans ce qui restait à faire, les animait au travail, et s'indignait des entraves souvent mises par la pénurie du trésor public. Plus d'une fois, par justice, par humanité, par amour pour la chose, il a avancé aux artistes des paiements que le gouvernement leur faisait trop attendre. \\\\n \\tEnfin le travail des observations était terminé, les conférences avec les savants commissaires étrangers étaient ouvertes ; il ne restait plus qu'à recueillir l'honneur attaché au succès : Borda n'eut pas cette satisfaction ; ses infirmités s'étaient accrues par la rigueur de l'hiver. Il négligea quelque temps d'appeler des secours, et lorsqu'il consentit à les recevoir il n'était plus temps. \\\\n \\tIl mourut au mois de ventôse an 7, ayant vu arriver  la mort jusqu'à lui sans que la tranquillité de son âme en parût altérée. \\\\n \\tIl aimait les lettres et même la poésie ; mais il était difficile en auteurs. Sa lecture favorite était celle d'Homère, l'Odyssée d'Homère. \\\\n \\tSa conversation était agréable et instructive ; une raison forte s'y mêlait aux saillies les plus piquantes. \\\\n \\tSon cúur était aimant et facile ; il inspirait rattachement et le respect. \\\\n \\tIl mettait peu de prix à la célébrité, mais beaucoup à la gloire d'avoir été utile aux hommes. \\\\n\""
      ]
     },
     "execution_count": 24,
     "metadata": {},
     "output_type": "execute_result"
    }
   ],
   "source": [
    "#Eulogy to Jean-Charles Borda\n",
    "string_after "
   ]
  },
  {
   "cell_type": "code",
   "execution_count": 27,
   "metadata": {},
   "outputs": [
    {
     "data": {
      "text/plain": [
       "\"\\\\n \\tJean-Charles Borda, de l'Institut national, de la ci-devant Académie des sciences, chef de division dans la marine, naquit à Dax le 4 mai 1733, de Jean-Antoine de Borda et de Marie-Thérèse de Lacroix. \\\\n \\tIl est indifférent sans doute pour la gloire d'un homme recommandable par ses talents et par des travaux aussi nombreux qu'utiles, de savoir que quelques-uns de ses ancêtres ont, avant lui, représenté sur la scène du monde. Cependant lorsqu'un tel homme nous est enlevé? par la mort, l'intérêt qu'il inspire augmentant par le regret de l'avoir perdu, nous aimons à retrouver dans l'histoire ceux qui tiennent à lui par les liens du sang comme nous nous plaisons à rechercher autour de nous ceux qui lui furent attachés par les núuds de l'amitié. \\\\n \\tLa famille de Borda était originaire de Dax, et très anciennement connue dans le militaire. Brantôme parle d'un Borda, capitaine, dont le nom, dit cet auteur,  mérite d'être recommandé à la postérité. Un des frères de celui-ci, un oncle de son père, furent tués au champ d'honneur ; le premier à la bataille de Raucoux, l'autre au risban de Dunkerque, lorsque les Anglais essayèrent contre cette place en 1694, avec un succès funeste pour eux, une invention de guerre nouvelle qu'ils nommaient machine infernale. \\\\n \\tJean-Charles Borda commença ses études à Dax dans le collège des Barnabites, et dès lors donna des indices remarquables de cette facilité surprenante qu'il avait à juger les objets présentés à son esprit. Le professeur dictait en français, l'élève écrivait en latin ; et, par une fraude bien excusable, il faisait en même temps, dans des termes différents, une seconde traduction, qu'il donnait à son voisin. Il acheva ses études sous les Jésuites de la Flèche avec la même distinction ; tous les ans les prix proposés étaient pour lui l'occasion de plusieurs triomphes. \\\\n \\tD'aussi heureuses dispositions n'avoient pas échappé à ses maîtres. Ils lui proposèrent d'entrer dans leur ordre ; mais un goût déjà prononcé pour les mathématiques l'entraînait vers un autre but. Les Jésuites ne purent s'abstenir de lui marquer leurs regrets, et lui promirent une carrière brillante. \\\\n \\tIl ne rentra dans sa famille que pour y éprouver une contradiction la plus pénible qui puisse affliger un jeune homme ardent qui a conçu une passion exclusive. La géométrie, qu'il n'avait fait encore qu'entrevoir, avait éveillé dans lui cette passion. Il voulait la satisfaire en  entrant dans le génie militaire ; mais son père avait d'autres vues. Chargé de onze enfants avec très peu de fortune, obligé de soutenir deux de ses fils qui étaient au service, il regardait la magistrature comme un moyen de procurer à son fils un établissement moins dispendieux. Le jeune Borda se soumit avec répugnance, et tout le fruit de cette contrainte fut la perte de quelques années précieuses de sa jeunesse. Enfin, par les sollicitations d'un bon religieux ami de la maison, autant que par les instances de sa mère, il obtint la révocation d'une décision trop impérative et trop rigoureuse. \\\\n \\tA partir de ce moment il se livra tout entier à sa science favorite, et fit des progrès si rapides, qu'en 1753, n'ayant pas encore atteint l'âge de vingt ans, il fut trouvé digne d'être présenté à d'Alembert. Voici l'opinion qu'il donna de lui à ce savant illustre. ´ Il ira certainement très loin, disait d'Alembert dans une lettre écrite à un des parents de Borda†; je voudrais que sa position pût le faire songer à l'Académie : ce sera un très grand sujet à coup sûr.. \\\\n \\tUn témoignage d'estime aussi illustre fît renoncer Borda, pour quelque temps, au service du génie qui l'aurait éloigné de Paris. Admis dans les Chevau-légers, il y fît connaître et aimer l'étude des mathématiques, et devint lui-même le professeur de ses camarades. \\\\n \\tEn 1756 il lut à l'Académie un mémoire sur le mouvement des projectiles, qui obtint une mention particulière dans l'histoire de cette société savante ; et la même année il reçut une autre preuve d'estime bien  plus agréable pour lui ; il fut nommé associé de l'Académie. \\\\n \\tAide-de-camp de M. de Maillebois dans la campagne de 1757, il se trouva à la bataille d'Hastembeck le 26 juillet. Mais ce genre de service l'éloignait des sciences†; il revint à Paris, ou?, s'étant présenté pour le génie il fut reçu sans examen et employé sur-le-champ dans les ports. \\\\n \\tCette dernière circonstance décida du reste de sa vie. A la vue de la mer il accorda à cet élément et à la navigation une préférence qui ne s'est point démentie. \\\\n \\tSon premier essai fut l'examen des théories sur la résistance des fluides ; théories importantes à la navigation, car des principes qu'elles posent, dérive l'art de donner aux vaisseaux la forme qui éprouve la moindre résistance, et l'art de disposer les voiles, afin de réparer avec le plus grand avantage par le vent, les vitesses perdues. \\\\n \\tPlusieurs géomètres avaient élevé des doutes sur l'exactitude des théories qui étaient alors généralement admises ; mais personne encore n'avait songé à consulter l'expérience, seul juge souverain dans ces matières. \\\\n \\tA l'aide de machines fort simples qu'il conçut et fit exécuter, il soumit à la résistance de l'air et ensuite au choc de l'eau des surfaces de grandeur et de forme différentes, dont il changeait la position à son gré. Un cordon tiré par un poids, en se déroulant, faisait tourner avec rapidité un cylindre qui entrainait les surfaces soumises à cette expérience†; le temps plus ou moins long  que le poids employait à descendre de la même hauteur, indiquait la résistance plus ou moins grande de l'air†; le calcul faisait le reste. \\\\n \\tDe plusieurs lois dont se composaient alors les théories, une seule a été confirmée par ces expériences. Son travail fut le sujet de deux mémoires, l'un de 1763, l'autre de 1767 ; Borda termine le second par cette phrase remarquable et vraie : ´ La théorie ordinaire du choc des fluides, dit-il, ne donne que des rapports absolument faux. Il serait inutile et même dangereux de vouloir l'appliquer à la construction ª des vaisseaux.\\\\n \\tII fit en 1766 un autre mémoire sur l'écoulement des fluides qui entrent dans un vase ou qui en sortent par une ouverture. On ne se doute pas, quand on voit de l'eau couler ainsi, que la détermination des lois auxquelles ces écoulements sont soumis est un problème très difficile, et dont la solution exige une sagacité infinie et l'emploi d'une géométrie extrêmement fine. \\\\n \\tLes causes qui modifient ce problème sont très nombreuses, et sous peine d'établir une théorie fautive ou au moins incomplète, il n'est permis d'en négliger aucune. Daniel Bernoulli et d'Alembert avoient fait sur ces matières des ouvrages précieux. Ils étaient partis de principes différents ; mais leurs solutions ne s'accordaient pas. Borda reprit la question toute entière, la traita d'après un troisième principe, et fut conduit à une théorie plus générale et plus propre à s'accorder avec les faits. Il fit aussi de nouvelles expériences sur la  contraction de la veine fluide, qui non seulement confirmèrent la bonté du principe abstrait dont il s'était servi, mais qui lui apprirent encore que les expériences de Newton sur le même sujet avoient besoin d'une correction. \\\\n \\tSavoir les choses pour servir les hommes, a été l'unique et continuelle ambition de sa vie. En 1767 il examine dans un mémoire quelle est la forme la plus avantageuse, quelle est la position qu'il faut donner aux vannes des roues hydrauliques et aux roues elles-mêmes, pour qu'elles reçoivent de la part du courant d'eau la plus puissante impulsion. L'année suivante il compose un autre mémoire sur le calcul et sur la meilleure construction des pompes. Ces recherches le conduisirent à plusieurs conséquences qu'il vérifia sur- le-champ par d'heureuses applications, et dont le résultat devait être la réforme de quelques vices notables qu'il reconnut dans les pompes des vaisseaux. \\\\n \\tUne facilité surprenante à saisir les objets, un esprit extraordinaire de détail, une précision rare dans les idées, caractérisaient Borda. Le genre des recherches qui l'ont occupé, sa manière, son goût dominant pour ramener les théories à l'expérience et faire servir l'expérience à la pratique, sont une suite de ce caractère. Rarement il s'est livré aux spéculations de la géométrie pure. Cependant une question de cette nature captiva son esprit e. \\\\n \\t1767 : il s'agissait du problème des isopérimètres Euler avait donné une très belle méthode pour  résoudre ce problème ; Lagrange ensuite en avait trouvé une autre beaucoup plus simple, que l'illustre géomètre du nord s'était empressé d'adopter et de préférer hautement à la sienne. Cependant un géomètre célèbre de l'Académie contestait les résultats de Lagrange. Un tel dissentiment sur une question de géométrie piqua la curiosité de Borda. En suivant une route différente il atteignit au même but. Sa nouvelle méthode prouva la bonté de celle de Lagrange, et cette contestation tourna au profit de la science. \\\\n \\tLe dernier ouvrage de Borda qui se trouve dans l'Histoire de l'Académie est un Mémoire sur la théorie des projectiles en ayant égard à la résistance de l'air. Tout le monde connait la théorie du jet des bombes dans le vide, la nature de la courbe décrite, le rapport entre les portées et les angles de projection, et celui de la plus grande portée avec la vitesse initiale. Mais on ne lance pas des bombes dans le vide, et la résistance de l'air influe tellement sur les résultats, qu'ils deviennent méconnaissables. C'est bien pis lorsqu'il s'agit des boulets : leur vitesse étant presque infiniment grande la, colonne d'air qu'ils choquent dans des temps très courts est immense, et par conséquent la résistance de ce fluide est aussi très grande. \\\\n \\tNewton et Euler s'étaient occupés de ce problème dans la théorie des bombes ; Borda le résolut pour celle des boulets. Il compare les résultats calculés dans le vide avec ceux qu'il obtient ; ils en diffèrent d'une manière étonnante. Il trouve, par exemple, que la portée d'une  pièce de vingt-quatre est diminuée des neuf-dixièmes par la résistance de Pair, et la diminution est encore plus grande si le vent est contraire. Il a dressé des tables de résultats, calculées pour des pièces de tous les calibres, pour tous les angles, toutes les portées, pour différentes vitesses ; en sorte que la balistique est devenue par ses recherches une science presque nouvelle. \\\\n \\tNous allons maintenant tracer l'esquisse des travaux de Borda dans une autre carrière. \\\\n \\tLe genre et le succès de ses recherches avoient attiré sur lui l'attention de M, de Praslin, ministre de la marine, qui résolut de l'attacher au service de mer. L'esprit de corps s'opposait à cette promotion, l'usage et l'intérêt personnel appuyaient la résistance du corps de la marine†; mais le ministre tint ferme, et, par une exception aussi rare qu'honorable, Borda fut transporté en 1767, de l'arme du génie dans la marine militaire, avec le grade de sous-lieutenant de port. \\\\n \\tSa première campagne est de 1768 : il ne fit en quelque sorte dans ce voyage que prendre possession de l'élément qui venait de l'acquérir, et faire la reconnaissance du théâtre des expéditions importantes qui bientôt lui seraient confiées. \\\\n \\tDepuis plusieurs années le gouvernement excitait par des encouragements, et l'Académie des sciences invitait par des prix, les artistes à perfectionner les montres marines. En 1771 la frégate La Flore fut armée pour éprouver en mer les nouvelles montres et plusieurs instruments nouvellement proposés. L'Académie nomma  pour ses commissaires Borda et Pingre. M. de Verdun, lieutenant de vaisseau, qui commandait la frégate, était commissaire pour le gouvernement. Les instructions données à ces commissaires les chargeaient, non seulement d'éprouver et de juger les montres et les instruments qui leur étaient confiés, mais encore d'examiner toutes les méthodes de pratique et de calcul employées sur les vaisseaux, de multiplier les observations autant qu'il serait possible ; enfin de ne négliger rien de ce qui pou- voit être utile à la navigation. La relation de ce voyage a fait voir combien les commissaires ont mis de zèle et de soins à remplir cette honorable mission, et jusqu'à quel point ils ont justifié le choix qu'on avait fait d'eux. \\\\n \\tUne autre expédition non moins importante suivit celle-ci de près ; Borda en eut le commandement et là direction. Il s'agissait de déterminer la position des îles Canaries. Ces îles sont un point de la terre intéressant en géographie, parce que plusieurs peuples de l'Europe y font passer leur premier méridien, les uns au pic de Ténériffe, les autres à l'île de Fer ; le nôtre même était fixé à cette dernière île par une loi. Borda, élevé au grade de lieutenant de vaisseau en 1775, partit l'année suivante pour cette expédition, monté sur la frégate la Boussole, et ayant sous ses ordres l'Espiègle commandé par M. de Puységur. Ce voyage plein d'observations utiles et curieuses, n'a pas été publié ; il reste entièrement rédigé dans les manuscrits de Borda, et sera imprimé avec d'autres ouvrages et fragments de  recherches dont il s'occupait quelque temps avant sa mort. \\\\n \\tLes principaux faits géographiques en ont été consignés dans des notes supplémentaires ajoutées au voyage précédent. La position relative et absolue des Canaries s'y trouve déterminée par plusieurs points pris sur chacune d'elles et sur la côte d'Afrique, tous d'après des longitudes et des latitudes observées. \\\\n \\tC'était une occasion de vérifier la hauteur du pic de Ténériffe, sur laquelle on n'avait avant lui que des erreurs. Il en avait déjà exécuté une première fois la mesure par la trigonométrie, en 1771, et avait dressé des tables pour faire connaitre aux navigateurs leur position en mer par la hauteur apparente de cette montagne. Il recommença son travail sur les mêmes points qu'en 1771. Il reconnut et corrigea une erreur de chiffre. L'accord qui se trouve entre ces deux opérations ne permet pas de douter de l'exactitude de l'une ni de l'autre. \\\\n \\tIl vérifia aussi plusieurs faits singuliers racontés par les voyageurs qui sont montés au sommet du pic. A travers des obstacles et des dangers presque insurmontables, il gravit jusqu'à la cime ; il vit le cratère du volcan dont le souffle brûlant enflamme promptement le bois qu'on y plonge, et communique à l'air qu'on respire à l'entour une chaleur insupportable, tandis qu'au dessous il règne un froid excessif, puisqu'il maintient l'eau à l'état de glace pendant toute l'année, quoique dans un lieu situé très près du tropique.  Il ne s'étonna pas de ces merveilles; il en chercha la cause dans la disposition des ouvertures de la cave de glace, et les explications qu'il donne de ce phénomène et de beaucoup d'autres sont très satisfaisantes. Il rapporta plusieurs morceaux de minéralogie, qu'il soumit à l'examen des naturalistes. \\\\n \\tCe serait à des hommes qui ont été ses compagnons d'armes comme ils l'étaient dans les sciences, à des navigateurs célèbres dont la France honore les travaux, qui respectaient les talents de Borda, et qui siègent parmi nous (Les citoyens Bougainville et Fleurieu) ; ce serait à eux, dis-je, et non à moi, qu'il appartiendrait de peindre Borda dans l'époque de sa vie ou? nous sommes arrivés, dans cette belle campagne de M. d'Estaing , qui a si glorieusement contribué à la liberté des …tats-Unis , et dont le souvenir nous conservera sans doute l'affection de cette république. Ils diraient que pendant le cours de cette campagne mémorable, ou? Borda fut major général de notre armée navale, la sagesse de son administration, son économie prudente et non parcimonieuse, et l'ordre admirable de sa comptabilité, ont été dignes de servir à jamais de modèle à tous les généraux et à tous les ordonnateurs. \\\\n \\tAucune idée grande et utile n'échappait à son génie observateur. Le défaut d'uniformité dans la construction des vaisseaux dont se composaient nos armées navale. \\\\n \\téveilla ses réflexions. De-là résultait une discordance  dans les mouvements et un défaut d'ensemble dans l'exécution des signaux. Pourquoi ne pas donner la même forme à tous les navires, en s'attachant à celle qui réunirait des qualités supérieures ? De retour en France il fit adopter cette idée au gouvernement ; Le ministre ordonna aux constructeurs d'envoyer le plan d'un vaisseau de 74, canons, et Borda fut leur juge. On suivit la même marche pour les vaisseaux d'un autre rang, et l'expérience a prouvé les profondes connaissances du juge en confirmant ses choix. Les Anglais aussi, à cette occasion, par l'empressement qu'ils ont mis à nous imiter, ont avoué, une fois au moins, que l'enceinte de leur île n'est pas exclusivement le berceau de toutes les conceptions heureuses. \\\\n \\tEn 1781 il eut le commandement du vaisseau le Guerrier, et en 1782 celui du Solitaire, vaisseau de 64 canons, avec ordre d'escorter un corps de troupes qu'on envoyait à la Martinique. Il rendit les troupes à leur destination, et s'étant réuni à l'escadre commandée par M. de Grasse, il reçut de lui l'ordre de s'établir en croisière avec quelques frégates dans les parages voisins. Par une circonstance malheureuse, mais fréquente en mer, à la suite des ténèbres d'un épais brouillard, il se vit au milieu de huit vaisseaux de guerre anglais dont la vue lui avait été dérobée par les vapeurs. Il usa de toutes ses ressources pour échapper à des forces si supérieures aux siennes ; mais obligé d'en venir au combat, il se défendit avec autant de sang-froid que de courage.  Quoiqu'entièrement désemparé, il soutint le combat, pour laisser aux vaisseaux qu'il commandait , le temps de se mettre hors de danger. Enfin il fallut céder, et le Solitaire fut rendu dans l'état d'un vaisseau naufragé. \\\\n \\tIl fut traité avec distinction par les Anglais et renvoyé en France sur sa parole ; mais le chagrin de cette fatale catastrophe, et les fatigues de trois campagnes de guerre affaiblirent sa santé, et lui donnèrent des infirmités qui tous les ans prirent des caractères plus alarmants et abrégèrent le cours de sa vie. \\\\n \\tDès 1771 il avait senti que l'octant de Hadley, instrument le plus utile et le plus usuel de tous ceux qu'on emploie à la mer, pouvait être perfectionné. Mayer, célèbre astronome anglais, avait proposé en 1767 de substituer un cercle entier divisé à la partie de cercle qui est la base de l'octant ; il avait décrit les avantages et la construction de son nouvel instrument : idée heureuse, mais qui ne fut pas exécutée. Borda, qui en sentit l'importance, connut aussi les défauts qu'aurait l'instrument de Mayer : il ajouta aux idées de cet astronome d'autres idées plus heureuses encore, et, satisfait de la forme qu'il avait imaginée, il fit exécuter en 1777 son cercle entier de réflexion. C'était donner aux navigateurs un instrument portatif, dont l'exactitude pour leurs observations égalerait celle des grands instruments employés jusqu'alors en astronomie. Il décrivit cet instrument dans un ouvrage publié en 1789.  Le cercle entier qu'il a fait exécuter plus tard pour les astronomes, qui seul peut tenir lieu de tous les instruments d'astronomie, sans lequel nous n'aurions pas eu cette précision qui rendra à jamais immortelles les opérations faites pour déterminer les bases du système métrique, et que par reconnaissance les astronomes ont nommé cercle de Borda ce cercle , dis-je , est au fond une conséquence du cercle de réflexion. L'exactitude qu'il donne est due aux mêmes moyens , aux mêmes raisons; mais les idées accessoires par lesquelles Borda est parvenu à rendre le cercle entier capable de servir aux usages de l'astronomie et aux opérations géodésiques, sont une preuve nouvelle de la fécondité de ses ressources dans les plus petits détails. \\\\n \\tIl me reste à dire un mot de ce qu'il a fait pour la détermination des bases du nouveau système métrique. Sa part en inventions, en expériences, en zèle, en soins, est très riche dans cette opération immense en détails. Dans aucune autre circonstance son esprit n'a déployé plus de ressources ni plus de sagacité. \\\\n \\tIl fut un des commissaires nommés par l'Académie, en 1790, pour choisir les bases du système. Chargé, avec deux de ses confrères, de mesurer la longueur du pendule, il inventa une manière simple, commode, ingénieuse, de le mesurer avec une extrême précision. Celte méthode, fréquemment employée depuis dans le cours des opérations, est connue des artistes et mise aujourd'hui en pratique dans leurs ateliers.  Il inventa la forme donnée aux règles avec lesquelles on a mesuré les bases trigonométriques. Le moyen qu'il employa pour faire connaitre l'influence de la chaleur sur ces règles, a enrichi la physique d'un nouveau thermomètre plus sûr, plus étendu, plus comparable que nos thermomètres ordinaires. Les expériences qu'il a faites pour en déterminer la marche ont été le sujet d'un mémoire aussi précieux par ses résultats que piquant par ses procédés ingénieux. \\\\n \\tCette grande entreprise l'avait fortement intéressé dès l'abord ; elle était devenue, dans ses dernières années un objet de prédilection pour lui. Les obstacles sans nombre qu'elle avait éprouvés, ceux qui pouvaient encore survenir, lui en faisaient ardemment désirer la fin. Il excitait sans relâche le zèle des savants dans ce qui restait à faire, les animait au travail, et s'indignait des entraves souvent mises par la pénurie du trésor public. Plus d'une fois, par justice, par humanité, par amour pour la chose, il a avancé aux artistes des paiements que le gouvernement leur faisait trop attendre. \\\\n \\tEnfin le travail des observations était terminé, les conférences avec les savants commissaires étrangers étaient ouvertes ; il ne restait plus qu'à recueillir l'honneur attaché au succès : Borda n'eut pas cette satisfaction ; ses infirmités s'étaient accrues par la rigueur de l'hiver. Il négligea quelque temps d'appeler des secours, et lorsqu'il consentit à les recevoir il n'était plus temps. \\\\n \\tIl mourut au mois de ventôse an 7, ayant vu arriver  la mort jusqu'à lui sans que la tranquillité de son âme en parût altérée. \\\\n \\tIl aimait les lettres et même la poésie ; mais il était difficile en auteurs. Sa lecture favorite était celle d'Homère, l'Odyssée d'Homère. \\\\n \\tSa conversation était agréable et instructive ; une raison forte s'y mêlait aux saillies les plus piquantes. \\\\n \\tSon cúur était aimant et facile ; il inspirait rattachement et le respect. \\\\n \\tIl mettait peu de prix à la célébrité, mais beaucoup à la gloire d'avoir été utile aux hommes. \\\\n\""
      ]
     },
     "execution_count": 27,
     "metadata": {},
     "output_type": "execute_result"
    }
   ],
   "source": [
    "#Recuperating solely the eulogy without the information\n",
    "eloge = string_after.split('la séance publique du 15 nivôse an 8.')[1].strip()\n",
    "eloge"
   ]
  },
  {
   "cell_type": "code",
   "execution_count": 6,
   "metadata": {},
   "outputs": [],
   "source": [
    "#Adding new row to dataframe\n",
    "new_row = {'Savant' : 'Borda', 'Auteur' : 'Lefevre-Gineau', 'Annee' : 1800, 'Eloge' : eloge}\n",
    "\n",
    "df_seul = df_eul.append(new_row, ignore_index = True)"
   ]
  },
  {
   "cell_type": "code",
   "execution_count": 7,
   "metadata": {},
   "outputs": [],
   "source": [
    "df_seul.to_csv('./../Data/Dataframes/eulogies.csv')"
   ]
  },
  {
   "cell_type": "code",
   "execution_count": 8,
   "metadata": {},
   "outputs": [
    {
     "data": {
      "text/plain": [
       "(390, 4)"
      ]
     },
     "execution_count": 8,
     "metadata": {},
     "output_type": "execute_result"
    }
   ],
   "source": [
    "df_seul.shape"
   ]
  },
  {
   "cell_type": "code",
   "execution_count": 9,
   "metadata": {},
   "outputs": [
    {
     "data": {
      "text/plain": [
       "(390, 5)"
      ]
     },
     "execution_count": 9,
     "metadata": {},
     "output_type": "execute_result"
    }
   ],
   "source": [
    "#Checking it worked\n",
    "df_test = pd.read_csv('./../Data/Dataframes/eulogies.csv')\n",
    "df_test.shape"
   ]
  },
  {
   "cell_type": "code",
   "execution_count": 10,
   "metadata": {},
   "outputs": [
    {
     "data": {
      "text/html": [
       "<div>\n",
       "<style scoped>\n",
       "    .dataframe tbody tr th:only-of-type {\n",
       "        vertical-align: middle;\n",
       "    }\n",
       "\n",
       "    .dataframe tbody tr th {\n",
       "        vertical-align: top;\n",
       "    }\n",
       "\n",
       "    .dataframe thead th {\n",
       "        text-align: right;\n",
       "    }\n",
       "</style>\n",
       "<table border=\"1\" class=\"dataframe\">\n",
       "  <thead>\n",
       "    <tr style=\"text-align: right;\">\n",
       "      <th></th>\n",
       "      <th>Unnamed: 0</th>\n",
       "      <th>Savant</th>\n",
       "      <th>Auteur</th>\n",
       "      <th>Annee</th>\n",
       "      <th>Eloge</th>\n",
       "    </tr>\n",
       "  </thead>\n",
       "  <tbody>\n",
       "    <tr>\n",
       "      <th>385</th>\n",
       "      <td>385</td>\n",
       "      <td>Ampère</td>\n",
       "      <td>Arago</td>\n",
       "      <td>1839.0</td>\n",
       "      <td>Messieurs, je dois aujourd'hui, conformément à...</td>\n",
       "    </tr>\n",
       "    <tr>\n",
       "      <th>386</th>\n",
       "      <td>386</td>\n",
       "      <td>Poisson</td>\n",
       "      <td>Arago</td>\n",
       "      <td>1850.0</td>\n",
       "      <td>Naissance de Poisson. - Sa jeunesse.- son admi...</td>\n",
       "    </tr>\n",
       "    <tr>\n",
       "      <th>387</th>\n",
       "      <td>387</td>\n",
       "      <td>Gay-Lussac</td>\n",
       "      <td>Arago</td>\n",
       "      <td>1852.0</td>\n",
       "      <td>La biographie dont je vais donner lecture est ...</td>\n",
       "    </tr>\n",
       "    <tr>\n",
       "      <th>388</th>\n",
       "      <td>388</td>\n",
       "      <td>Malus</td>\n",
       "      <td>Arago</td>\n",
       "      <td>1855.0</td>\n",
       "      <td>Naissance de Malus. son éducation littéraire -...</td>\n",
       "    </tr>\n",
       "    <tr>\n",
       "      <th>389</th>\n",
       "      <td>389</td>\n",
       "      <td>Borda</td>\n",
       "      <td>Lefevre-Gineau</td>\n",
       "      <td>1800.0</td>\n",
       "      <td>\\n \\tJean-Charles Borda, de l'Institut nationa...</td>\n",
       "    </tr>\n",
       "  </tbody>\n",
       "</table>\n",
       "</div>"
      ],
      "text/plain": [
       "     Unnamed: 0      Savant          Auteur   Annee  \\\n",
       "385         385      Ampère           Arago  1839.0   \n",
       "386         386     Poisson           Arago  1850.0   \n",
       "387         387  Gay-Lussac           Arago  1852.0   \n",
       "388         388       Malus           Arago  1855.0   \n",
       "389         389       Borda  Lefevre-Gineau  1800.0   \n",
       "\n",
       "                                                 Eloge  \n",
       "385  Messieurs, je dois aujourd'hui, conformément à...  \n",
       "386  Naissance de Poisson. - Sa jeunesse.- son admi...  \n",
       "387  La biographie dont je vais donner lecture est ...  \n",
       "388  Naissance de Malus. son éducation littéraire -...  \n",
       "389  \\n \\tJean-Charles Borda, de l'Institut nationa...  "
      ]
     },
     "execution_count": 10,
     "metadata": {},
     "output_type": "execute_result"
    }
   ],
   "source": [
    "df_test.tail()"
   ]
  }
 ],
 "metadata": {
  "kernelspec": {
   "display_name": "Python 3",
   "language": "python",
   "name": "python3"
  },
  "language_info": {
   "codemirror_mode": {
    "name": "ipython",
    "version": 3
   },
   "file_extension": ".py",
   "mimetype": "text/x-python",
   "name": "python",
   "nbconvert_exporter": "python",
   "pygments_lexer": "ipython3",
   "version": "3.8.5"
  }
 },
 "nbformat": 4,
 "nbformat_minor": 5
}
