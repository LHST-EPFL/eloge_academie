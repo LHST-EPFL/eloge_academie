{
 "cells": [
  {
   "cell_type": "markdown",
   "id": "appreciated-crowd",
   "metadata": {},
   "source": [
    "The purpose of this notebook is to parse the files of the eulogies that are in .txt and to save them in dataframes with the author, the scientist it is about and the date of the eulogy."
   ]
  },
  {
   "cell_type": "code",
   "execution_count": 1,
   "id": "secret-merchant",
   "metadata": {},
   "outputs": [],
   "source": [
    "import pandas as pd\n",
    "import re\n",
    "\n",
    "#https://ipython.org/ipython-doc/3/config/extensions/autoreload.html\n",
    "\n",
    "%load_ext autoreload\n",
    "%autoreload 2"
   ]
  },
  {
   "cell_type": "markdown",
   "id": "approximate-farming",
   "metadata": {},
   "source": [
    "# 1. Parsing the Fouchy eulogies"
   ]
  },
  {
   "cell_type": "markdown",
   "id": "cardiovascular-kingston",
   "metadata": {},
   "source": [
    "### Parsing the Fouchy txt"
   ]
  },
  {
   "cell_type": "code",
   "execution_count": 2,
   "id": "secondary-brick",
   "metadata": {},
   "outputs": [],
   "source": [
    "DATA_FOLDER = './../Data/Txt/'\n",
    "\n",
    "\n",
    "#https://www.pythontutorial.net/python-basics/python-read-text-file/\n",
    "\n",
    "\n",
    "#Loading the Fouchy eulogies, loaded as rb because otherwise exception raised of invalid start byte\n",
    "with open(DATA_FOLDER + 'fouchy_txt.txt', 'rb') as f:\n",
    "    lines = f.readlines()"
   ]
  },
  {
   "cell_type": "code",
   "execution_count": 3,
   "id": "early-consortium",
   "metadata": {},
   "outputs": [
    {
     "data": {
      "text/plain": [
       "b'========== \\r <savant> De Bragelongne\\r <auteur> Fouchy\\r <annee> 1744 \\r\\tChristophe-Bernard de Bragelongne, Pr\\x90tre, Doyen et Comte de l\\xd5\\x83glise de St. Julien de Brioude, naquit \\x88 Paris en 1688, de Christo'"
      ]
     },
     "execution_count": 3,
     "metadata": {},
     "output_type": "execute_result"
    }
   ],
   "source": [
    "lines[0][0:200]"
   ]
  },
  {
   "cell_type": "code",
   "execution_count": 4,
   "id": "bigger-rates",
   "metadata": {
    "scrolled": true
   },
   "outputs": [
    {
     "data": {
      "text/plain": [
       "'========== \\r <savant> De Bragelongne\\r <auteur> Fouchy\\r <annee> 1744 \\r\\tChristophe-Bernard de Bragelongne, Prêtre, Doyen et Comte de l’Église de St. Julien de Brioude, naquit à Paris en 1688, de Christo'"
      ]
     },
     "execution_count": 4,
     "metadata": {},
     "output_type": "execute_result"
    }
   ],
   "source": [
    "# we decode the data encrypted in Bytes using 'mac_roman' to correctly output special characters like ê\n",
    "# https://docs.python.org/fr/3/library/codecs.html\n",
    "lines[0][0:200].decode(\"mac_roman\")"
   ]
  },
  {
   "cell_type": "code",
   "execution_count": 5,
   "id": "friendly-frank",
   "metadata": {},
   "outputs": [],
   "source": [
    "# Decode every line and store every line in a new list\n",
    "\n",
    "line_dec = []\n",
    "\n",
    "for l in lines :\n",
    "    line_dec.append(l.decode(\"mac_roman\"))"
   ]
  },
  {
   "cell_type": "code",
   "execution_count": 6,
   "id": "infectious-shade",
   "metadata": {},
   "outputs": [],
   "source": [
    "# Parse the different eulogies from the lines with the scientist, author, year and eulogy\n",
    "\n",
    "# https://stackoverflow.com/questions/44258529/get-string-between-two-strings/44258570\n",
    "\n",
    "\n",
    "def get_info_fouchy(string):\n",
    "    savant = re.findall('<savant>(.+?)<auteur>', string)[0].replace('\\r', '').strip()\n",
    "    auteur = re.findall('<auteur>(.+?)<annee>', string)[0].replace('\\r', '').strip()\n",
    "    annee = string.split('<annee>')[1][1:5]\n",
    "    eloge = string.split('<annee> ' + str(annee))[1].strip()\n",
    "    return savant, auteur, annee, eloge"
   ]
  },
  {
   "cell_type": "code",
   "execution_count": 7,
   "id": "helpful-protection",
   "metadata": {
    "scrolled": true
   },
   "outputs": [
    {
     "data": {
      "text/plain": [
       "('De Bragelongne',\n",
       " 'Fouchy',\n",
       " '1744',\n",
       " \"Christophe-Bernard de Bragelongne, Prêtre, Doyen et Comte de l’Église de St. Julien de Brioude, naquit à Paris en 1688, de Christophe de Bragelongne, Conseiller au Parlement, et de Charlotte Pinette de Charmois. \\\\n La maison de Bragelongne est extrêmement ancienne : elle remonte par des titres et des filiations bien prouvées, au moins jusqu’à l’an 1400 ; mais ce qui doit encore plus en relever l’éclat, c’est qu’elle n’a jamais cessé de produire d’excellents sujets qui ont rempli avec distinction les premières places de la Robe et de l’Épée : espèce de Noblesse toujours renaissante, la seule qui mérite la vénération des peuples et les faveurs du Souverain. Le jeune Bragelongne donna dès ses plus tendres années des marques d’un esprit vif et pénétrant. Il fit ses études au Collège des Jésuites de Paris, et réussit également dans tous les genres de Littérature qui lui furent proposés. Grec, Belles Lettres, Philosophie, Mathématiques, tout s’imprimait dans son esprit avec une égale facilitée. Il est vrai qu’il savait employer son temps d’une façon peu ordinaire à ceux de son âge ; et si des personnes extrêmement respectables ne me servaient de garants, je n’oserais avancer qu’il passait ordinairement les jours de congé enfermé avec le P. Malebranche, qui de son côté avait pris pour lui une tendre estime. C’était dans les conférences qu’il avait avec ce grand homme, qu’il se délassait de ses autres travaux. Quelle devait être l’étendue du génie d’un jeune homme de dix-sept ans, à qui les entretiens du P. Malebranche servaient de divertissements !  \\\\n les progrès que fit M. l’Abbé de Bragelongne dans les Mathématiques et la Physique, furent si rapides, qu’en 1711 il obtint une place d’élève dans cette Académie, étant à peine âgé de vingt trois ans, c’est-à-dire, qu’il y fut admis presqu’aussitôt que les Règlements le permettaient.  \\\\n Il donna immédiatement après sa réception un Mémoire sur les Quadratures des Courbes. Il avait eu dessein, et il en fait mention lui-même au commencement de son Mémoire, de donner une méthode pour intégrer les quantités différentielles à plusieurs variables ; mais il n’a jamais lu que la première partie de cet Ouvrage, qui traite de la Quadrature des Courbes. La Géométrie, si certaine partout ailleurs, n’a pu encore trouver un moyen assuré de savoir si l’espace enfermé par de certaines courbes est quarrable ou non : le calcul infinitésimal en a forcé quelques-unes à se découvrir ; mais une infinité d’autres se sont refusées au travail des Géomètres. En attendant que cette vaste et ténébreuse région soit soumise au calcul, M. l’Abbe de Bragelongne a trouvé le moyen d’y faire, pour ainsi dire, des courses : il enseigne à transformer une courbe non quarrable en une autre, qu’il démontre renfermer un espace égal à la première ; et souvent cette seconde se peut quarrer exactement. Une méthode aussi ingénieuse doit faire regretter la seconde partie de ce Mémoire, qu’il n’a pas donnée. On aurait peut-être peine à lui pardonner cette négligence, si un motif auquel nous ne pouvons que le louer d’avoir déféré, ne l’avait forcé d’interrompre ses occupations académiques.  \\\\n Un de ses oncles, Doyen et Comte du Chapitre de Brioude, avait remarqué en lui dès son enfance un esprit si parfait et des mœurs si réglées, qu’il avait cru le devoir lier à l’État Ecclésiastique. Dans cette vue, il lui avait fait prendre la tonsure, et l’avait pourvu d’un Comté dans son Chapitre. M. L’Abbé de Bragelongne ne fut pas plutôt engagé dans le Sacerdoce, que son oncle crut faire un présent au Chapitre de Brioude, en lui procurant un tel Doyen, et résigna à son neveu sa place et le Prieuré de Lusignan dont il était revêtu.  \\\\n M. l’Abbé de Bragelongne s’était fait à Paris une infinité d’amis distingués par leur naissance ou par leurs talents. M. le Cardinal de Polignac, M. le Chancelier, Messieurs Molé, Talon, de Fontenelle, de Mairan, de la Motté, et quelques autres de ce mérite, composaient presque toutes ses connaissances. Le respect seul nous empêche de mettre à la tête de tant d’illustres noms celui d’une grande Princesse, [* S. A. S. Madame la Duchesse du Maine] *à la Cour de laquelle M. l’Abbé de Bragelongne était admis, et dont le Palais peut à plus juste titre porter le nom de séjour des Muses, que le Parnasse de l’ancienne Grèce.  \\\\n Nonobstant le charme de toutes ces liaisons, il n’hésita pas un moment à les sacrifier à son devoir : il ne crut pas que l'usage, ou plutôt l’abus introduit parmi les Bénéficiers, de se dispenser si facilement de la résidence, fût un titre suffisant pour lui, et partit pour Brioude, où il a toujours constamment demeuré, si ce n’est lorsque les affaires de son Chapitre ou de sa famille l’ont obligé à faire quelques voyages à Paris.  \\\\n Il est aisé de voir combien ces longues absences étaient contraires aux lois et aux devoirs académiques, auxquels M. l’Abbé de Bragelongne était assujetti par la place qu’il occupait alors ; cependant l’Académie qui en respectait le motif, eut pour lui des égards qu’elle n’aurait pas eu pour tout autre ; elle se contenta de profiter de ses voyages à Paris. Enfin en 1728 elle trouva moyen de le placer de manière qu’un de ses devoirs ne fit plus d’obstacle à l’autre : il fut nommé à la placé d’Associé libre, vacante par la mort du P. Reyneau. Il était juste que l’ami et le disciple du P. Mallebranche devint le successeur de celui qui l’avait en quelque sorte remplacé dans l’Académie. Quoique la nouvelle place de M. l’Abbé de Bragelongne le dispensât de l’assiduité et ou travail académique, il n’a jamais usé de ce droit. Pendant son séjour à Paris, il était aussi exact aux assemblées qu’il lui était possible ; il se chargeait volontiers de l’examen d’une infinité de Mémoires, d’Ouvrages, de Projets, qui ne sont souvent présentés à l’Académie qu’en trop grand nombre : travail pénible, ignoré du Public même, pour le bien duquel il est entrepris, et qui dès lors ne peut l’être que par quelqu’un assez généreux, pour sacrifier sa propre gloire à l’utilité de ses Concitoyens.  \\\\n En 1730, il commença à donner à l’Académie le principal ouvrage que nous ayons de lui, son Traité des Lignes du quatrième ordre. Il le continua pendant les années suivantes, et ne l’interrompit que parce que l’ouvrage devenant plus considérable qu’il n’avait pensé, il se détermina à le faire paraître à part, ce qui fait qu’il n’y a que les deux premiers Mémoires qui ayent été imprimés parmi ceux de l’Académie.  \\\\n Depuis que l’analyse appliquée à la Géométrie a donné lieu de mieux connaître la nature des lignes, les Géomètres les ont séparées en plusieurs ordres. La ligne droite compose seule le premier. Les quatre sections coniques remplissent le second ; mais il ne faut pas s’imaginer que les autres ordres contiennent une aussi petite quantité de lignes : le troisième est déjà si considérable par le nombre des courbes qu’il renferme, et par les phénomènes singuliers qu’elles présentent, que M. Newton l’a jugé digne de ses recherches, et en a fait le sujet d’un de ses plus savants Ouvrages. On pensera aisément que le quatrième ordre doit offrir un bien plus grand nombre de lignes, et des bizarreries encore plus frappantes. Cependant M. l’Abbé de Bragelongne avait entrepris de faire l’énumération de toutes ces courbes, de les examiner à fond, et de les suivre dans tous les détours artificieux dont elles semblent prendre plaisir à s’envelopper.  \\\\n On se tromperait si l’on jugeait du mérite de ce travail, par celui qu’on pourrait faire sur des courbes plus simples, telles que feraient, par exemple, celles du second degré : celles ci sont aisées à suivre dans tous leurs contours, les yeux seuls suffiraient presque pour faire reconnaître leur nature. Il n’en est pas de même des courbes d’un ordre supérieur, elles sont souvent composées de lignes qui semblent n’avoir rien de commun entre elles ; souvent elles disparaissent pendant un certain espace de leur cours, en cela semblables à ces fleuves qui se perdent sous terre, pour aller renaître dans d’autres régions ; d’autres s’enfoncent dans l’abîme de l’infini, et c’est là quelquefois qu’il faut chercher cette continuité secrète qui unit les parties d’une même courbe qui paraissent les plus détachées. Des points d’une ligne qui paraissent tout semblables à d’autres points, en renferment quelquefois deux ou trois, et souvent plusieurs parties essentielles de la courbe. Enfin ce n’est qu’avec une attention continuelle et une sagacité extrême, que le plus laborieux Géomètre peut, à l’aide de l’analyse et de la Métaphysique la plus subtile, démêler tous les détours de ce nouveau Dédale.  \\\\n Tel était l’Ouvrage que M. l’Abbé de Bragelongne avait entrepris, et dont il avait commencé la lecture à l’Académie. Nous ignorons encore si ce qui restait à faire s’est trouvé dans ses papiers, ou si le public a cette perte à regretter.  \\\\n Nous ne dissimulerons pas ici que ce qui a paru de cet ouvrage, a été attaqué par un savant Géomètre de cette Académie, qui a cru y remarquer des fautes ; mais M. l’Abbé de Bragelongne n’était pas rendu, on sait qu’il méditait une réponse. D’ailleurs quand on pourrait avec justice lui reprocher de s’être quelquefois trompé, serait-il étonnant qu’il eût fait quelques faux pas en fuyant des routes qu'il avait été obligé de se frayer lui- même dans une partie de la Géométrie, où nul autre avant lui n’avait osé s’engager si avant ?  \\\\n Jusqu’ici nous n’avons considéré M. l’Abbé de Bragelongne que comme Géomètre et comme Académicien ; c’en serait assez pour sa gloire, mais ce serait trop peu pour la vérité. Il avait toujours cultivé assidument les Belles Lettres ; il entendait parfaitement le Grec et assez bien l’Hébreu. Il avait fait une étude particulière de l’Histoire, il avait même entrepris d’écrire celle des Empereurs Romains, qu’il avait poussée jusqu’à l’Empereur Decius, lorsqu’il fut rappelé à Brioude en 1741, par quelques affaires de son Chapitre, auxquelles sa présence était nécessaire ; car l’esprit d’affaires, d’arrangement, de discussion, tout opposé qu’il est aux talents que possédait M. l’Abbé de Bragelongne, faisait cependant une partie de son mérite.  \\\\n Le zèle qui l’animait l’engagea à ménager trop peu sa santé. Il s’excéda de travail et de fatigue, et usa à tel point son tempérament, d’ailleurs assez vif, qu’il fut frappé le 20 février dernier d’un coup de sang, qui l’emporta en cinq heures, âgé de cinquante six ans.  \\\\n On a pu voir, par tout ce que nous venons de dire, combien son esprit était vif et aisé : si on ajoute à cela une extrême politesse, une grande douceur, des mœurs très réglées, un attachement inviolable à tous ses devoirs, et surtout à ceux de la Religion, on aura une idée assez juste du caractère de M. l’Abbé de Bragelongne. Sa conversation était vive, enjouée, et soutenue d’une infinité de traits, que lui fournissait avec abondance sa vaste lecture.  \\\\n Les Ouvrages qu’il avait entrepris témoignent assez qu’il n’avait amassé tant de matériaux, que pour les mettre en œuvre. Son âge lui permettait d’espérer qu’il verrait le Public profiter de ses recherches ; la mort précipitée qui l’a privé du seul fruit qu’il attendait de ses travaux, ne doit pas au moins le frustrer de notre reconnaissance.  \\\\n La place d’Associé libre qu’occupait M. l’Abbé de Bragelongne, a été remplie par M. de la Chevaleraye, Chevalier de l’Ordre de S. Lazare, Capitaine des Gardes de S. A. S. Monseigneur le Prince de Conty.\")"
      ]
     },
     "execution_count": 7,
     "metadata": {},
     "output_type": "execute_result"
    }
   ],
   "source": [
    "get_info_fouchy(line_dec[0])"
   ]
  },
  {
   "cell_type": "code",
   "execution_count": 8,
   "id": "historical-reaction",
   "metadata": {},
   "outputs": [
    {
     "name": "stdout",
     "output_type": "stream",
     "text": [
      "Number of eulogies : 20\n"
     ]
    }
   ],
   "source": [
    "print(\"Number of eulogies : \" + str(len(line_dec)))"
   ]
  },
  {
   "cell_type": "code",
   "execution_count": 9,
   "id": "flush-harassment",
   "metadata": {
    "scrolled": true
   },
   "outputs": [
    {
     "name": "stdout",
     "output_type": "stream",
     "text": [
      "=======\n",
      "Savant  : De Bragelongne\n",
      "Auteur : Fouchy\n",
      "Annee : 1744\n",
      "Debut eloge : Christophe-Bernard de Bragelon\n",
      "=======\n",
      "Savant  : De Torcy\n",
      "Auteur : Fouchy\n",
      "Annee : 1746\n",
      "Debut eloge : Jean-Baptiste Colbert, Marquis\n",
      "=======\n",
      "Savant  : La Peyronnie\n",
      "Auteur : Fouchy\n",
      "Annee : 1747\n",
      "Debut eloge : Francois de La Peyronnie naqui\n",
      "=======\n",
      "Savant  : Bernoulli\n",
      "Auteur : Fouchy\n",
      "Annee : 1748\n",
      "Debut eloge : Jean Bernoulli naquit à Bâle l\n",
      "=======\n",
      "Savant  : D'Aiguillon\n",
      "Auteur : Fouchy\n",
      "Annee : 1750\n",
      "Debut eloge : Armand-Louis du Plessis de Ric\n",
      "=======\n",
      "Savant  : De Crouzas\n",
      "Auteur : Fouchy\n",
      "Annee : 1750\n",
      "Debut eloge : Jean-Pierre de Crouzas naquit \n",
      "=======\n",
      "Savant  : Petit\n",
      "Auteur : Fouchy\n",
      "Annee : 1751\n",
      "Debut eloge : Jean-Louis Petit naquit à Pari\n",
      "=======\n",
      "Savant  : Terrasson\n",
      "Auteur : Fouchy\n",
      "Annee : 1751\n",
      "Debut eloge : Jean Terrasson naquit à Lyon e\n",
      "=======\n",
      "Savant  : D’Aguesseau\n",
      "Auteur : Fouchy\n",
      "Annee : 1751\n",
      "Debut eloge : Henri-François D’Aguesseau, Ch\n",
      "=======\n",
      "Savant  : D'Albert\n",
      "Auteur : Fouchy\n",
      "Annee : 1752\n",
      "Debut eloge : Charles, Marquis d’Albert, La \n",
      "=======\n",
      "Savant  : Geoffroy\n",
      "Auteur : Fouchy\n",
      "Annee : 1752\n",
      "Debut eloge : Claude Joseph Geoffroy naquit \n",
      "=======\n",
      "Savant  : Chicoyneau\n",
      "Auteur : Fouchy\n",
      "Annee : 1753\n",
      "Debut eloge : François Chicoyneau naquit à M\n",
      "=======\n",
      "Savant  : Sloane\n",
      "Auteur : Fouchy\n",
      "Annee : 1753\n",
      "Debut eloge : Hans Sloane, Chevalier Baronet\n",
      "=======\n",
      "Savant  : D'Onsenbray\n",
      "Auteur : Fouchy\n",
      "Annee : 1754\n",
      "Debut eloge : Louis-Léon Pajot, Chevalier, C\n",
      "=======\n",
      "Savant  : Wolff\n",
      "Auteur : Fouchy\n",
      "Annee : 1755\n",
      "Debut eloge : Chrétien Wolff, libre Baron du\n",
      "=======\n",
      "Savant  : Folkes\n",
      "Auteur : Fouchy\n",
      "Annee : 1756\n",
      "Debut eloge : Martin Folkes Écuyer président\n",
      "=======\n",
      "Savant  : Moivre\n",
      "Auteur : Fouchy\n",
      "Annee : 1756\n",
      "Debut eloge : Abraham Moivre naquit à Vitry \n",
      "=======\n",
      "Savant  : Lowendal\n",
      "Auteur : Fouchy\n",
      "Annee : 1755\n",
      "Debut eloge : Woldemar, Comte de Lowendal et\n",
      "=======\n",
      "Savant  : Helvétius\n",
      "Auteur : Fouchy\n",
      "Annee : 1755\n",
      "Debut eloge : Jean Claude Adrien Helvétius, \n",
      "=======\n",
      "Savant  : Boyer\n",
      "Auteur : Fouchy\n",
      "Annee : 1756\n",
      "Debut eloge : Ancien Evêque De Mirepoix dix \n"
     ]
    }
   ],
   "source": [
    "# Printing to check that it is correct\n",
    "\n",
    "for l in line_dec :\n",
    "    savant, auteur, annee, eloge = get_info_fouchy(l)\n",
    "    print(\"=======\")\n",
    "    print(\"Savant  : \" + savant)\n",
    "    print(\"Auteur : \" + auteur)\n",
    "    print(\"Annee : \" + annee)\n",
    "    print(\"Debut eloge : \" + eloge[0:30])\n"
   ]
  },
  {
   "cell_type": "markdown",
   "id": "thick-relevance",
   "metadata": {},
   "source": [
    "### Save to dataframe"
   ]
  },
  {
   "cell_type": "code",
   "execution_count": 10,
   "id": "hazardous-yesterday",
   "metadata": {},
   "outputs": [],
   "source": [
    "# https://stackoverflow.com/questions/13784192/creating-an-empty-pandas-dataframe-then-filling-it\n",
    "# Save the newly parsed data as a dataframe with columns 'Savant' 'Auteur' 'Annee' 'Eloge'\n",
    "\n",
    "\n",
    "DF_PATH = './../Data/Dataframes/'\n",
    "\n",
    "def save_as_df(name_func, line_dec_func, name, PATH = DF_PATH) :\n",
    "    '''\n",
    "    Method to save the eulogies as dataframes with columns 'Savant', 'Auteur', 'Annee', 'Eloge'\n",
    "    Inputs :\n",
    "        - name_func (function): name of the function that extracts the information of all eulogies\n",
    "                                given a list of lines \n",
    "        - line_dec_func (list of str) : list of strings where each element of the list contains an eulogy\n",
    "        - name (str) : name to store the created dataframe\n",
    "        - PATH (str) : path where to save the dataframe created, by default './../Data/Dataframes/'\n",
    "    '''\n",
    "    data = []\n",
    "\n",
    "    for l in line_dec_func :\n",
    "        savant, auteur, annee, eloge = name_func(l)\n",
    "        data.append([savant, auteur, annee, eloge])\n",
    "\n",
    "    df = pd.DataFrame(data, columns=['Savant', 'Auteur', 'Annee', 'Eloge']) \n",
    "    df.to_csv(DF_PATH + 'dataframe_' + name + '.csv', index=False)\n",
    "    \n",
    "\n",
    "#Creating the dataframe for Fouchy eulogies    \n",
    "save_as_df(get_info_fouchy, line_dec, 'Fouchy')"
   ]
  },
  {
   "cell_type": "code",
   "execution_count": 11,
   "id": "pacific-amount",
   "metadata": {},
   "outputs": [
    {
     "data": {
      "text/html": [
       "<div>\n",
       "<style scoped>\n",
       "    .dataframe tbody tr th:only-of-type {\n",
       "        vertical-align: middle;\n",
       "    }\n",
       "\n",
       "    .dataframe tbody tr th {\n",
       "        vertical-align: top;\n",
       "    }\n",
       "\n",
       "    .dataframe thead th {\n",
       "        text-align: right;\n",
       "    }\n",
       "</style>\n",
       "<table border=\"1\" class=\"dataframe\">\n",
       "  <thead>\n",
       "    <tr style=\"text-align: right;\">\n",
       "      <th></th>\n",
       "      <th>Savant</th>\n",
       "      <th>Auteur</th>\n",
       "      <th>Annee</th>\n",
       "      <th>Eloge</th>\n",
       "    </tr>\n",
       "  </thead>\n",
       "  <tbody>\n",
       "    <tr>\n",
       "      <th>0</th>\n",
       "      <td>De Bragelongne</td>\n",
       "      <td>Fouchy</td>\n",
       "      <td>1744</td>\n",
       "      <td>Christophe-Bernard de Bragelongne, Prêtre, Doy...</td>\n",
       "    </tr>\n",
       "    <tr>\n",
       "      <th>1</th>\n",
       "      <td>De Torcy</td>\n",
       "      <td>Fouchy</td>\n",
       "      <td>1746</td>\n",
       "      <td>Jean-Baptiste Colbert, Marquis de Torcy, Crois...</td>\n",
       "    </tr>\n",
       "  </tbody>\n",
       "</table>\n",
       "</div>"
      ],
      "text/plain": [
       "           Savant  Auteur  Annee  \\\n",
       "0  De Bragelongne  Fouchy   1744   \n",
       "1        De Torcy  Fouchy   1746   \n",
       "\n",
       "                                               Eloge  \n",
       "0  Christophe-Bernard de Bragelongne, Prêtre, Doy...  \n",
       "1  Jean-Baptiste Colbert, Marquis de Torcy, Crois...  "
      ]
     },
     "execution_count": 11,
     "metadata": {},
     "output_type": "execute_result"
    }
   ],
   "source": [
    "#Test to check if it worked\n",
    "df_try = pd.read_csv(DF_PATH + 'dataframe_Fouchy.csv')\n",
    "df_try.head(2)"
   ]
  },
  {
   "cell_type": "markdown",
   "id": "standard-estate",
   "metadata": {},
   "source": [
    "# 2. Mairan"
   ]
  },
  {
   "cell_type": "markdown",
   "id": "enhanced-supervision",
   "metadata": {},
   "source": [
    "Parsing the eulogies for the secretary Mairan"
   ]
  },
  {
   "cell_type": "code",
   "execution_count": 26,
   "id": "focused-usage",
   "metadata": {},
   "outputs": [],
   "source": [
    "with open(DATA_FOLDER + 'mairan_txt.txt', 'r') as f:\n",
    "    lines = f.readlines()"
   ]
  },
  {
   "cell_type": "code",
   "execution_count": 27,
   "id": "aggressive-attendance",
   "metadata": {},
   "outputs": [
    {
     "data": {
      "text/plain": [
       "['========== \\n',\n",
       " ' <savant> Petit\\n',\n",
       " ' <auteur> Mairan \\n',\n",
       " ' <annee> 1741\\n',\n",
       " \"\\tFrançois Pourfour Du Petit naquit à Paris le 24 Juin 1664, de parents qui étaient dans le commerce, et qu’il perdit étant encore enfant. Les personnes qui furent chargées de son éducation trouvèrent en lui un obstacle presqu’invincible à ses premières études, un défaut de  mémoire qui se montrait également par la difficulté d’apprendre et par celle de retenir. Ce ne fut qu’à force de travail et par les soins de quelques-uns de ses Maîtres, dont il ne laissa pas de gagner l'affection, qu’il fit ses basses classes. Il éprouva les mêmes difficultés en Seconde et en Rhétorique ; sa mémoire toujours indocile ne le servait pas mieux pour les règles de Poésie et pour les préceptes d’Éloquence, qu’elle avait fait pour les mots latins et pour les leçons de Grammaire ; mais il s’obstinait de même à les étudier, comme par un pressentiment de ce qui devait les suivre. C’est de cette manière laborieuse et tardive que M. Petit vint à bout d’apprendre assez de Latin et de Belles Lettres pour pouvoir monter en Philosophie. La Logique et la Métaphysique  par où l’on a coutume de commencer la Philosophie, n’eurent pour lui aucune sorte d’attrait ; il ne voyait encore là que des mots à apprendre. Mais enfin la Physique parut, et à sa vue toutes les facultés de l’âme du jeune Étudiant s’ouvrirent pour la recevoir ; son esprit saisit, sa mémoire garda tout ce qui lui fut présenté par la Physique, et il se trouva tout à coup une facilité à comprendre et à retenir, dont la découverte fut sans doute la plus flatteuse qu'il ait faite de sa vie. \\n\"]"
      ]
     },
     "execution_count": 27,
     "metadata": {},
     "output_type": "execute_result"
    }
   ],
   "source": [
    "# Showing what is loaded\n",
    "lines[0:5]"
   ]
  },
  {
   "cell_type": "code",
   "execution_count": 28,
   "id": "formed-communication",
   "metadata": {},
   "outputs": [],
   "source": [
    "# Transforming a list of strings into one string\n",
    "all_lines = ''\n",
    "\n",
    "for l in lines :\n",
    "    all_lines = all_lines + \" \" + l"
   ]
  },
  {
   "cell_type": "code",
   "execution_count": 29,
   "id": "necessary-experiment",
   "metadata": {},
   "outputs": [],
   "source": [
    "#Split by ========== as it's an indicator of a new eulogy\n",
    "line_dec_mairan = all_lines.split('==========')"
   ]
  },
  {
   "cell_type": "code",
   "execution_count": 30,
   "id": "attached-portsmouth",
   "metadata": {},
   "outputs": [
    {
     "name": "stdout",
     "output_type": "stream",
     "text": [
      "Number of lines : 11\n"
     ]
    }
   ],
   "source": [
    "print('Number of lines : ' + str(len(line_dec_mairan)))"
   ]
  },
  {
   "cell_type": "code",
   "execution_count": 31,
   "id": "previous-kernel",
   "metadata": {},
   "outputs": [
    {
     "data": {
      "text/plain": [
       "' '"
      ]
     },
     "execution_count": 31,
     "metadata": {},
     "output_type": "execute_result"
    }
   ],
   "source": [
    "#First line\n",
    "line_dec_mairan[0]"
   ]
  },
  {
   "cell_type": "code",
   "execution_count": 32,
   "id": "animated-newsletter",
   "metadata": {},
   "outputs": [
    {
     "data": {
      "text/plain": [
       "' '"
      ]
     },
     "execution_count": 32,
     "metadata": {},
     "output_type": "execute_result"
    }
   ],
   "source": [
    "#Removing first line that is a blank space\n",
    "line_dec_mairan.pop(0)"
   ]
  },
  {
   "cell_type": "code",
   "execution_count": 33,
   "id": "divided-citizenship",
   "metadata": {},
   "outputs": [
    {
     "name": "stdout",
     "output_type": "stream",
     "text": [
      "Number of lines : 10\n"
     ]
    }
   ],
   "source": [
    "print('Number of lines : ' + str(len(line_dec_mairan)))"
   ]
  },
  {
   "cell_type": "code",
   "execution_count": 34,
   "id": "incorrect-roberts",
   "metadata": {},
   "outputs": [],
   "source": [
    "def get_info_mairan(string):\n",
    "    '''\n",
    "    Method to obtain given an eulogy, the scientist it is about, the author, the year it was published, the eulogy\n",
    "    itself\n",
    "    Input :\n",
    "        - string (str) : string containing all the information and eulogy\n",
    "    Outputs :\n",
    "        - savant (str) : scientist\n",
    "        - auteur (str) : author of the eulogy\n",
    "        - annee (str) : year it was published\n",
    "        - eloge (str) : eulogy\n",
    "    '''\n",
    "    \n",
    "    # flag DOTALL was added because of the \\n in the text\n",
    "    savant = re.findall('<savant>(.+?)<auteur>', string, flags = re.DOTALL)[0].replace('\\n', '').strip()\n",
    "    auteur = re.findall('<auteur>(.+?)<annee>', string, flags = re.DOTALL)[0].replace('\\n', '').strip()\n",
    "    annee = string.split('<annee>')[1][1:5]\n",
    "    eloge = string.split('<annee> ' + str(annee))[1].strip()\n",
    "    return savant,auteur, annee, eloge"
   ]
  },
  {
   "cell_type": "code",
   "execution_count": 35,
   "id": "rubber-stake",
   "metadata": {},
   "outputs": [
    {
     "data": {
      "text/plain": [
       "('Petit',\n",
       " 'Mairan',\n",
       " '1741',\n",
       " \"François Pourfour Du Petit naquit à Paris le 24 Juin 1664, de parents qui étaient dans le commerce, et qu’il perdit étant encore enfant. Les personnes qui furent chargées de son éducation trouvèrent en lui un obstacle presqu’invincible à ses premières études, un défaut de  mémoire qui se montrait également par la difficulté d’apprendre et par celle de retenir. Ce ne fut qu’à force de travail et par les soins de quelques-uns de ses Maîtres, dont il ne laissa pas de gagner l'affection, qu’il fit ses basses classes. Il éprouva les mêmes difficultés en Seconde et en Rhétorique ; sa mémoire toujours indocile ne le servait pas mieux pour les règles de Poésie et pour les préceptes d’Éloquence, qu’elle avait fait pour les mots latins et pour les leçons de Grammaire ; mais il s’obstinait de même à les étudier, comme par un pressentiment de ce qui devait les suivre. C’est de cette manière laborieuse et tardive que M. Petit vint à bout d’apprendre assez de Latin et de Belles Lettres pour pouvoir monter en Philosophie. La Logique et la Métaphysique  par où l’on a coutume de commencer la Philosophie, n’eurent pour lui aucune sorte d’attrait ; il ne voyait encore là que des mots à apprendre. Mais enfin la Physique parut, et à sa vue toutes les facultés de l’âme du jeune Étudiant s’ouvrirent pour la recevoir ; son esprit saisit, sa mémoire garda tout ce qui lui fut présenté par la Physique, et il se trouva tout à coup une facilité à comprendre et à retenir, dont la découverte fut sans doute la plus flatteuse qu'il ait faite de sa vie. \\n \\tC’est donc à la Physique, mais à la Physique de Descartes, et à la partie expérimentale de cette Physique, que M. Petit fut redevable d’une si heureuse révolution ; car il lui fallait des expériences, des faits et du mécanisme ; et toute autre manière de philosopher eût été encore pour  lui un langage inintelligible. C’en était fait de notre Académicien s’il avait rencontré la Philosophie d’Aristote, telle qu’on la dictait en ce temps-là ; mais heureusement il trouva dans le Collège de Beauvais, où il étudiait, un Professeur de Philosophie Cartésien, et de plus, assez hardi ou assez adroit pour enseigner les Principes de Descartes, malgré les défenses expresses qu’il y avait alors sur ce sujet. \\n \\tM. Petit n’eut pas plutôt fini ses études, qu’il lui prit envie de voyager. La modicité de son revenu ne l’arrêta pas : il savait déjà en tirer parti avec ordre et économie. Il parcourut ainsi presque toutes les Provinces du Royaume, et une grande partie de la Flandre, et toujours en Physicien, observant partout la Nature, et recherchant avec soin le  commerce des Savants qui l’avaient observée ; car des Savants, selon lui, c’étaient des Physiciens ou des Naturalistes, et surtout des Cartésiens. Il ne voyait rien hors de la qui méritât ce titre ; et il est vrai que si quelqu’un pouvait être excusable de borner ainsi le savoir au seul objet de ses recherches, et la saine Philosophie à ses opinions particulières, M. Petit l’eût été plus qu’un autre, après l’espèce de miracle que la Physique Cartésienne venait d’opérer en sa personne. \\n \\tLe peu qu’il avait appris d’Histoire Naturelle, de Chimie et d’Anatomie au Collège de Beauvais, avait fait une grande impression sur son esprit, et le rapport que ces connaissances ont naturellement avec la Médecine, l’avait lié par préférence avec des Médecins. Un de ceux avec  qui la liaison devint le plus intime ; et dont il retira le plus d’instruction, fut M. Blondin établi à la Rochelle, bon Cartésien, qui avait une bibliothèque choisie, un jardin de plantes médicinales, et un cabinet de curiosités naturelles. M. Blondin lui apprit l’Ostéologie sur un Squelette humain, lui montra la position des viscères, l’anatomie du cerveau, celle des yeux et de l’oreille, tant sur l’homme que sur divers animaux, et finit par lui conseiller de se faire Médecin. M. Petit y était déjà assez porté, et il se détermina aisément à embrasser une profession dont l’étude et l’exercice s’accordaient si bien avec ses occupations les plus chéries. Il partit pour Montpellier vers la fin de 1687 ; année où M. Chirac, devenu depuis si célèbre, et Membre de l’Académie des Sciences , commençait d’enseigner dans cette ville les différentes parties de la Médecine. M. Petit les étudia sous lui ; il trouva du temps encore pour y faire un cours de Chimie, et ayant enfin reçu le bonnet de Docteur, il revint à Paris en 1690, âgé de 26 ans. \\n \\tDeux grands Maîtres donnaient alors des leçons publiques dans le Jardin du Roi. M. Duverney y enseignait l’Anatomie, et M. de Tournefort la Botanique, pendant que feu M. Lémery, qui ne se distinguait pas moins dans la Chimie, enseignait cette Science avec un applaudissement général dans son propre Laboratoire, et y attirait une foule d’auditeurs de tous états. M. Petit fut assidu aux Cours tant publics que particuliers de ces trois hommes fameux, et s’acquit bientôt leur estime et leur amitié ; il disséquait, il opérait et il herborisait tour à tour avec eux. Il voulut aussi être particulièrement au fait de la Chirurgie, c’est-à-dire, se mettre en état de la pratiquer ; car c’était-là sa manière d’étudier les théories susceptibles de pratique. Et soit qu’il eût inspiré le même goût à M. de Tournefort, ou que M. de Tournefort sentit assez par lui-même combien il importe au Médecin de connaître à fond les opérations chirurgicales, ils allèrent tous les deux pendant six mois faire les pansements des blessés à l’hôpital de la Charité. \\n \\tLes années 1691 et 1692 se passèrent dans ces exercices. C’était le fort de la guerre commencée en 1688, et la Flandre, où Louis XIV en personne venait d’assiéger et de prendre Namur, en était le principal théâtre. Une armée de cent mille hommes y offrait abondamment à M. Petit de quoi mettre en œuvre ses connaissances, et en même temps de quoi les augmenter. Il se présenta pour aller servir dans les hôpitaux du Roi destinés à cette armée ; il fut agréé, et il partit le 1er d’Avril 1693. La bataille de Nerwinde et le siège de Charleroi suivirent de près son départ. Il fut d’abord établi dans l’hôpital de Mons avec M. Brisseau Médecin qui en avait la direction, et qui lui céda peu de temps après plusieurs malades pour lesquels il fût couché sur l’État. Il fut chargé à diverses reprises de l’hôpital de Namur, et il était enfermé dans cette place lorsque les Alliés en firent le siège et la reprirent sur la France en 1695 ; il passa ensuite à l’Hôpital de Dinant. Partout  il donna des preuves de son zèle, de son désintéressement et de sa capacité. Des blessés et des malades sans nombre lui étaient amenés de toutes parts, et il montrait parfaitement par son exemple, combien il est à désirer dans ces occasions pressantes, que le Médecin et le Chirurgien se réunissent ou ne fassent qu’un, à la manière des Anciens. M. Petit procura mille biens sous cette double fonction. \\n \\tLa grande connaissance qu’il avait acquise des plantes et des drogues médicinales, et plus encore son inflexibilité à n’en souffrir que de bien conditionnées dans les hôpitaux qui lui étaient confiés, n’y furent pas moins utiles ; mais elles pensèrent le perdre plus d’une fois. Parmi les Commissaires et les Entrepreneurs pour l’achat et l’entretien des  remèdes et des vivres dans les hôpitaux d’armée, il ne se rencontre que trop souvent des hommes qui sacrifieraient sans pitié à leur intérêt des milliers d’autres hommes, l’armée et l’État. M. Petit qui était devenu leur fléau, ne pouvait manquer de se voir bientôt exposé à leurs traits. On tenta tous les moyens de noircir sa conduite, ce qui n’était pas facile, ou du moins de traverser ses desseins, de l’inquiéter et de le rebuter ; mais il eut le bonheur de trouver des Supérieurs éclairés, qui reconnurent sa probité et qui louèrent sa sévérité ; les Commissaires infidèles ou suspects furent chassés. Toujours protégé, secondé par Messieurs de Bagnols et Voisin, l’un Intendant de la Flandre, l’autre du Hainaut, et tous deux si capables d’entrer dans des vues utiles, M. Petit  faisait établir dans les hôpitaux mêmes des Laboratoires de Chimie et des chambres d’Anatomie ; il exerçait en même temps ses élèves à connaître les plantes, à les cueillir et à les préparer dans la saison et dans les circonstances les plus convenable soit pour en tirer des remèdes, soit pour les garder et en faire un sujet d’étude. C’est ainsi qu’il assembla dès lors et qu’il dessécha un grand nombre de plantes, qui firent le commencement d’un Herbier de trente gros volumes in-folio qu’il a laissés. \\n \\tIl revint à Paris après la Paix de Ryswick en 1697, et il se rendit l’année suivante au camp de Compiègne où il fut chargé des malades avec M. Prouvenza Médecin Inspecteur des hôpitaux, et comme lui grand amateur de la Botanique. M. Petit  reçut de M. Prouvenza dans cette occasion et dans plusieurs autres, des marques d’estime et d’amitié qu’il voulut reconnaître d’une manière conforme à leur commun penchant. Il s’était engagé de nouveau à servir dans les hôpitaux de Flandre, lorsque la succession à la Couronne d’Espagne ralluma la guerre en Europe. Comme il s’acheminait vers Ruremonde où il avait été appelé, et qu’à son ordinaire il herborisait sur sa route, il aperçut au bord d’une petite rivière tout proche de Wert dans le Comté de Horn une plante dont les feuilles étaient de la couleur du Plantin, mais d’une figure fort différente. L'ayant examinée de plus près, il la trouva aussi d’un caractère qui ne ressemblait à aucun des Genres rapportés dans les Institutions de Botanique, et il la  nomma sur le champ Prouvenzalia. Il en a nommé une autre Dantia, du nom de M. Danti d’Isnard, membre de cette Compagnie, qui lui avait beaucoup aidé à la composition de son Herbier. C’est ainsi qu’en ont souvent usé les Astronomes en faveur de leurs amis ou de leurs protecteurs, lorsqu’ils ont découvert quelque nouvel objet dans le Ciel ; et si l’on est sensible à voir transmettre son nom à la postérité, on doit assurément être flatté de le trouver écrit sur des monuments si durables. \\n \\tM. Petit demeura à Ruremonde, à Bruxelles et dans quelques autres Villes des Pays bas pendant tout le cours de cette Guerre, et il nous suffira de dire qu’il s’y acquitta de ses devoirs comme dans la précédente ; même application à servir, à s’instruire et à instruire ceux qui  servaient sous lui ; mêmes succès suivis des mêmes éloges. \\n \\tIl se fixa enfin à Paris après la paix d’Utrecht en 1713, et il s’y maria en 1717. Content d’une petite fortune, qui était moins son ouvrage que la suite naturelle de ses services il ne songea nullement à l’augmenter, et à se faire dans cette Capitale des pratiques utiles que sa réputation lui eût attirées s’il avait voulu l’accompagner de quelques soins. Mais l’étude du cabinet, la Physique et les expériences l’emportèrent sur les sollicitations de la Fortune. Résolu désormais de consacrer tout son loisir à ce premier objet de ses inclinations, et comptant s'en être acquis le droit par ses travaux passés il tourna uniquement ses vues et ses désirs vers l’Académie des Sciences. C’est là en effet qu’il allait retrouver,  non le Cartésianisme, mais l’esprit de Descartes, l’amour des expériences, et toute l’ardeur que ce Philosophe fit paraître pour s’en procurer le secours, sa circonspection dans leur choix, sa manière de les expliquer et de raisonner sur les Phénomènes de la Nature, toujours par le seul mécanisme, soit qu’il s’y montre, soit qu’il s’y cache ; en un mot l’esprit de doute et de discussion qui caractérise son immortelle méthode et cette Académie : ou plutôt c’est là que M. Petit allait voir Descartes préféré par les uns, Newton par les autres, et plus souvent Descartes associé à Newton, à Leibniz, à Aristote même, et à tous les grands génies dont les méditations et les veilles ont enrichi l’esprit humain de quelque nouvelle connaissance. \\n \\tIl se présenta donc pour entrer à  l’Académie en 1722, il y fut reçu, et trois ans après il y obtint la place de Pensionnaire Anatomiste vacante par la Vétérance de M. Duverney. \\n \\tUne vie presque toujours ambulante et des fonctions jusqu’ici opposées au recueillement nécessaire pour la composition des ouvrages, n’avaient pas empêché M. Petit de publier en 1710 trois Dissertations en forme de Lettres, qui furent imprimées à Namur sous le titre de Lettres d’un Médecin des Hôpitaux du Roi à un autre Médecin de ses amis. Il n’en fit tirer que 200 exemplaires, ce qui a rendu cet ouvrage infiniment rare, et qui nous engage à en donner une idée. C’est un petit in-4° rempli de faits, d’observations et d’expériences, qui peint parfaitement les occupations parmi lesquelles les il a été enfanté et dont il est le fruit. \\n \\tLa première, et sans difficulté la plus importante de ces Lettres, contient un nouveau système du Cerveau. Ce système a pour objet l’entrelacement de plusieurs nerfs ou filets médullaires, qui partent de la mœlle allongée, et qui passent obliquement de l’épaisseur de l’une de ses portions latérales dans l’épaisseur de l’autre portion. L'Auteur démontre la nécessité de cette mécanique par cinq observations, principales accompagnées d’un grand nombre d’autres, et il en établit la réalité par l’inspection même de la mœlle allongée, dont il donne des figures d’après les dissections qu’il en a faites. Ce n’est pas seulement de nos jours que cet entrelacement de nerfs a été soupçonné et admis par d’habiles Anatomistes ; Cassius et Arétéus, très anciens Médecins, et qui vivaient vers le commencement du premier siècle, ont cru que les nerfs s’entrelaçaient à leur origine, et se croisaient de manière que ceux du côté droit passaient au côté gauche, et ceux du côté gauche passaient au côté droit. Eh ! comment expliquer sans cela cet accident si ordinaire après certaines blessures, où certains coups reçus à un côté de la tête sont presque toujours suivis de la paralysie du bras ou de la jambe du côté opposé. Mais il y a loin souvent du simple soupçon et de la raison de convenance, à la vérification et à la certitude du fait. C’est en ce sens, et M. Petit en avertit lui-même, qu’on peut bien appeler nouveau un système qui n’avait passe jusqu’alors que pour une conjecture dans l’esprit de  quelques Auteurs, et qui est présentement fondé sur des preuves solides, et sur une structure du Cerveau qu’il nous a dévoilée. C’est en effet le témoignage que lui rendent nos plus habiles Anatomistes, et c’est principalement sur ce témoignage, et en considération de cette découverte que M. Petit fut reçu à l’Académie des Sciences. \\n \\tSa seconde Lettre n’est presque qu’une suite de la première. Il y traite encore du Cerveau ; il examine d’où viennent les esprits qui produisent le sentiment, s’ils partent du Cervelet, ou seulement de quelque endroit de la moelle allongée. Ce fluide subtil, cette espèce de matière éthérée capable de se porter avec rapidité du Cerveau dans les parties pour y produire le mouvement, et des parties dans le Cerveau pour y  exciter les sensations, est ce que tous les Anatomistes ont nommé esprits animaux. Quelques-uns les composent d’Airet de Nitre, quelques autres les font consister en des corpuscules salins, volatils de la nature de l’esprit de sel ammoniac, ou volatils sulfureux, tels que ceux de l’esprit de vin, et enfin il y a eu et il y a encore d’habiles Anatomistes qui en ont totalement nié l’existence : ample matière aux expériences chimiques sur le sang des Animaux, et l’on peut s’assurer que M. Petit ne les a pas épargnées. Elles le conduisent presque toujours à la négative, ou pour le moins au doute et à l’incertitude sur toutes ces questions. Ses expériences ne sont pas plus favorables au système des acides et des alcalis qu’on l’avait engagé à examiner par cette autre question : Si les esprits animaux fermentent avec quelque partie du sang pour faire la contraction des muscles, et si cette partie du sang est acide ou alcaline? Rien ne lui paraît plus suspect que les raisonnements fondés sur ces prétendues fermentations d’acides et d’alcalis dans le corps humain, ni plus dangereux que de s’en faire un principe dans la pratique des maladies. Il préparait ainsi, et peu s’en faut qu’il n’annonçât la chute d’un système entièrement banni aujourd’hui de la Médecine, mais qui régnait encore alors avec toute l’autorité d’une opinion à la mode. \\n \\tLa troisième Lettre a pour but l’établissement de quelques nouveaux genres de Plantes où la Provenzalia et la Dantia ne sont pas oubliées, et une critique de quelques endroits des Éléments ou Institutions de Botanique  de M. de Tourfenort qui était mort depuis deux ans, et dont M. Petit reconnait toujours les rares talents et la supériorité dans cette Science \\n \\tNous passerons plus succinctement sur les ouvrages qu'il a fait imprimer avec nos Mémoires qui sont entre les mains de tout le monde. \\n \\tCes ouvrages sont cependant assez considérables par leur objet et par leur nombre. La Physique expérimentale, l’Anatomie, la Chimie, et même un peu de Physique raisonnée et systématique, y paraissent tour à tour. Ce qu'il a fait sur l’ascension des liqueurs dans les tuyaux capillaires, et sur la cause des végétations salines, est de ce dernier genre. Mais la plus grande partie des Mémoires qu’il a donnés depuis son entrée à l’Académie, roulent sur la  description anatomique des yeux de l’homme et de divers animaux, sur les dimensions exactes et portées à une précision scrupuleuse des parties qui les composent, sur la nature, les causes et l’opération de la Cataracte, et en général sur tout ce qui concerne la mécanique de l’Œil et la Vision. \\n \\tIl avait imaginé et fait construire un Ophthalmomètre, instrument destiné à mesurer les parties de l’œil, et plusieurs autres Machines pour constater ce qu’il avançait sur toute cette matière, ou pour diriger la main de ceux qui ont à opérer sur cet organe délicat. Une des plus importantes à ce dessein était un globe de verre creux représentant au naturel un oeil dont le Cristallin est cataracté : car on sait aujourd’hui, et M. Petit n’a pas peu contribué à  mettre ce fait hors de doute, que ce que l’on appelle communément la Cataracte, et qu’on attribuait autrefois à une pellicule membraneuse qui se formait dans l’œil, n’est presque jamais qu’une altération ou une maladie du Cristallin, un épaississement, et l’opacité qui s’en ensuit. Ce que l’âge a coutume d’ôter de clarté à la vue, ne vient aussi pour l’ordinaire, selon M. Petit, que du changement arrivé à cette partie qui se colore de plus en plus ; et il nous fit voir un jour dans nos Assemblées, quarante ou cinquante Cristallins de tous âges, dont la substance allait de plus en plus en jaunissant, et la transparence en diminuant par degrés insensibles depuis l’enfance jusqu’à l’extrême vieillesse. \\n \\tC’est donc sur cette partie qu’il faut opérer, c’est le Cristallin qu’il  s’agit d’abattre, et non cette prétendue membrane qui n’existe presque jamais. Or l’œil artificiel dont nous venons de parler, et qui est fort grand, a été construit de manière qu’avec une aiguille proportionnée on y fait toute l’opération de la Cataracte, et qu’on voit au travers du verre la courbe qu’il faut faire décrire au Cristallin en l’abattant, pour n’endommager que le moins qu’il est possible les parties qui l’environnent. \\n \\tAidé par tant de secours, armé de tous ces instruments que la connaissance exacte des parties lui avait suggérés, aimant d’ailleurs à opérer, et s’y étant exercé toute sa vie, on peut juger que M. Petit ne dédaigna pas de pratiquer lui-même ses leçons. Il mit la main à l’œuvre, et ce fut presque toujours avec le succès qu’on en devait attendre, et qu’il s’était préparé par ses soins et par ses recherches. Il en a eu quelquefois pour témoins des personnes aussi illustres par leur savoir, que respectables par leur dignité. Au mois d’Avril 1726 étant à Fresnes chez M. le Chancelier, il abattit en sa présence les Cataractes à une fille âgée de soixante ans, qui y était venue de Meaux ; la malade fut parfaitement guérie en trois jours, elle s’en retourna à cheval, et elle voit encore aujourd’hui. \\n \\tMalgré ces succès M. Petit se rendait chaque jour plus difficile à entreprendre l’opération de la Cataracte, et dans ses dernières années il ne la pratiquait guère que sur les pauvres, à qui il procurait, avec la vue, tous les secours que sa compassion naturelle et la charité chrétienne  pouvaient lui inspirer; car outre mille inconvénients, quelquefois inévitables, qui se rencontrent dans cette opération par la disposition accidentelle des malades, leur peu d’exactitude à observer le régime qu’il avait coutume de leur imposer, l’en avait souvent rebuté. \\n \\tSa théorie et sa méthode sur ce sujet furent attaqués par M. Hecquet dans un Traité des maladies des Yeux, et dans quelques autres Ouvrages de ce savant Médecin. M. Petit répondit solidement à ses objections par des Lettres qu’il fit imprimer en 1729, et qui ne contiennent d’ailleurs qu’une extension et une explication de ce qu’il avait avancé là-dessus dans les Mémoires de l’Académie. \\n \\tSa manière d’écrire était négligée et sans aucun agrément, il n’avait  jamais su ou voulu savoir ce que c’était que de limer un ouvrage; il aurait peut-être trop regretté le temps qu’il en coûte, et il faut convenir que le genre auquel il s’était principalement attaché, avait peu à perdre par ces sortes de négligences. Renfermé dans les faits, il dénombrait et il détaillait, rarement il discutait ; occupé à découvrir et à voir, il rapportait ce qu’il avait vu, et dans l’ordre qu’il l’avait vu, toujours avec beaucoup de fidélité et de candeur ; car il aimait souverainement la vérité, et il ne souffrait qu’avec peine tout badinage qui lui paraissait la blesser, quelque ingénieux qu’il pût être. \\n \\tLe 3 Juin de cette année il tomba malade d’une hernie qu’il avait depuis longtemps. Le huitième jour de sa maladie on lui  fit une opération qui dura 16 minutes, et qu’il souffrit avec une constance peu commune. Il mourut le 28 du même mois avec des sentiments de religion et de piété dont la naissance n’était point due aux approches de la mort, mais à la conviction des vérités qui avaient fait la règle de sa vie. \\n \\tDe quatre enfants mâles qu’il avait eus de son mariage, il ne reste que l’aîné qui a embrassé la même profession que son père, et qui nous a déjà donné des preuves qu’il pourra un jour lui succéder dans cette Compagnie.\")"
      ]
     },
     "execution_count": 35,
     "metadata": {},
     "output_type": "execute_result"
    }
   ],
   "source": [
    "# example\n",
    "\n",
    "get_info_mairan(line_dec_mairan[0])"
   ]
  },
  {
   "cell_type": "code",
   "execution_count": 36,
   "id": "unique-student",
   "metadata": {
    "scrolled": true
   },
   "outputs": [
    {
     "name": "stdout",
     "output_type": "stream",
     "text": [
      "=======\n",
      "Savant  : Petit\n",
      "Auteur : Mairan\n",
      "Annee : 1741\n",
      "Debut eloge : François Pourfour Du Petit naq\n",
      "=======\n",
      "Savant  : De Polignac\n",
      "Auteur : Mairan\n",
      "Annee : 1742\n",
      "Debut eloge : Melchior de Polignac, Cardinal\n",
      "=======\n",
      "Savant  : Boulduc\n",
      "Auteur : Mairan\n",
      "Annee : 1742\n",
      "Debut eloge : Gilles-François Boulduc, premi\n",
      "=======\n",
      "Savant  : Halley\n",
      "Auteur : Mairan\n",
      "Annee : 1742\n",
      "Debut eloge : Edmond Halley fils d’Edmond Ha\n",
      "=======\n",
      "Savant  : De Bremond\n",
      "Auteur : Mairan\n",
      "Annee : 1743\n",
      "Debut eloge : Ce que le sang peut communique\n",
      "=======\n",
      "Savant  : De Molières\n",
      "Auteur : Mairan\n",
      "Annee : 1743\n",
      "Debut eloge : Joseph Privat de Molières, Prê\n",
      "=======\n",
      "Savant  : Hunauld\n",
      "Auteur : Mairan\n",
      "Annee : 1743\n",
      "Debut eloge : François Joseph Hunauld naquit\n",
      "=======\n",
      "Savant  : De Fleury\n",
      "Auteur : Mairan\n",
      "Annee : 1743\n",
      "Debut eloge : André Hercule De Fleury ancien\n",
      "=======\n",
      "Savant  : Bignon\n",
      "Auteur : Mairan\n",
      "Annee : 1743\n",
      "Debut eloge : Jean-Paul Bignon, Abbé de Sain\n",
      "=======\n",
      "Savant  : Lémery\n",
      "Auteur : Mairan\n",
      "Annee : 1743\n",
      "Debut eloge : Nicolas Lémery, l’un des ancie\n"
     ]
    }
   ],
   "source": [
    "#Print to check it worked for all\n",
    "\n",
    "for l in line_dec_mairan :\n",
    "    savant, author, year, eulogy = get_info_mairan(l)\n",
    "    print(\"=======\")\n",
    "    print(\"Savant  : \" + savant)\n",
    "    print(\"Auteur : \" + author)\n",
    "    print(\"Annee : \" + year)\n",
    "    print(\"Debut eloge : \" + eulogy[0:30])"
   ]
  },
  {
   "cell_type": "code",
   "execution_count": 37,
   "id": "electric-language",
   "metadata": {},
   "outputs": [],
   "source": [
    "#Saving it\n",
    "save_as_df(get_info_mairan, line_dec_mairan, 'Mairan')"
   ]
  },
  {
   "cell_type": "code",
   "execution_count": 38,
   "id": "resident-opportunity",
   "metadata": {},
   "outputs": [
    {
     "data": {
      "text/html": [
       "<div>\n",
       "<style scoped>\n",
       "    .dataframe tbody tr th:only-of-type {\n",
       "        vertical-align: middle;\n",
       "    }\n",
       "\n",
       "    .dataframe tbody tr th {\n",
       "        vertical-align: top;\n",
       "    }\n",
       "\n",
       "    .dataframe thead th {\n",
       "        text-align: right;\n",
       "    }\n",
       "</style>\n",
       "<table border=\"1\" class=\"dataframe\">\n",
       "  <thead>\n",
       "    <tr style=\"text-align: right;\">\n",
       "      <th></th>\n",
       "      <th>Savant</th>\n",
       "      <th>Auteur</th>\n",
       "      <th>Annee</th>\n",
       "      <th>Eloge</th>\n",
       "    </tr>\n",
       "  </thead>\n",
       "  <tbody>\n",
       "    <tr>\n",
       "      <th>0</th>\n",
       "      <td>Petit</td>\n",
       "      <td>Mairan</td>\n",
       "      <td>1741</td>\n",
       "      <td>François Pourfour Du Petit naquit à Paris le 2...</td>\n",
       "    </tr>\n",
       "    <tr>\n",
       "      <th>1</th>\n",
       "      <td>De Polignac</td>\n",
       "      <td>Mairan</td>\n",
       "      <td>1742</td>\n",
       "      <td>Melchior de Polignac, Cardinal Prêtre de l’Égl...</td>\n",
       "    </tr>\n",
       "    <tr>\n",
       "      <th>2</th>\n",
       "      <td>Boulduc</td>\n",
       "      <td>Mairan</td>\n",
       "      <td>1742</td>\n",
       "      <td>Gilles-François Boulduc, premier Apothicaire d...</td>\n",
       "    </tr>\n",
       "    <tr>\n",
       "      <th>3</th>\n",
       "      <td>Halley</td>\n",
       "      <td>Mairan</td>\n",
       "      <td>1742</td>\n",
       "      <td>Edmond Halley fils d’Edmond Halley citoyen de ...</td>\n",
       "    </tr>\n",
       "    <tr>\n",
       "      <th>4</th>\n",
       "      <td>De Bremond</td>\n",
       "      <td>Mairan</td>\n",
       "      <td>1743</td>\n",
       "      <td>Ce que le sang peut communiquer de disposition...</td>\n",
       "    </tr>\n",
       "    <tr>\n",
       "      <th>5</th>\n",
       "      <td>De Molières</td>\n",
       "      <td>Mairan</td>\n",
       "      <td>1743</td>\n",
       "      <td>Joseph Privat de Molières, Prêtre, Lecteur et ...</td>\n",
       "    </tr>\n",
       "    <tr>\n",
       "      <th>6</th>\n",
       "      <td>Hunauld</td>\n",
       "      <td>Mairan</td>\n",
       "      <td>1743</td>\n",
       "      <td>François Joseph Hunauld naquit à Châteaubriant...</td>\n",
       "    </tr>\n",
       "    <tr>\n",
       "      <th>7</th>\n",
       "      <td>De Fleury</td>\n",
       "      <td>Mairan</td>\n",
       "      <td>1743</td>\n",
       "      <td>André Hercule De Fleury ancien Evêque de Fréju...</td>\n",
       "    </tr>\n",
       "    <tr>\n",
       "      <th>8</th>\n",
       "      <td>Bignon</td>\n",
       "      <td>Mairan</td>\n",
       "      <td>1743</td>\n",
       "      <td>Jean-Paul Bignon, Abbé de Saint Quentin en l’I...</td>\n",
       "    </tr>\n",
       "    <tr>\n",
       "      <th>9</th>\n",
       "      <td>Lémery</td>\n",
       "      <td>Mairan</td>\n",
       "      <td>1743</td>\n",
       "      <td>Nicolas Lémery, l’un des anciens Membres de ce...</td>\n",
       "    </tr>\n",
       "  </tbody>\n",
       "</table>\n",
       "</div>"
      ],
      "text/plain": [
       "        Savant  Auteur  Annee  \\\n",
       "0        Petit  Mairan   1741   \n",
       "1  De Polignac  Mairan   1742   \n",
       "2      Boulduc  Mairan   1742   \n",
       "3       Halley  Mairan   1742   \n",
       "4   De Bremond  Mairan   1743   \n",
       "5  De Molières  Mairan   1743   \n",
       "6      Hunauld  Mairan   1743   \n",
       "7    De Fleury  Mairan   1743   \n",
       "8       Bignon  Mairan   1743   \n",
       "9       Lémery  Mairan   1743   \n",
       "\n",
       "                                               Eloge  \n",
       "0  François Pourfour Du Petit naquit à Paris le 2...  \n",
       "1  Melchior de Polignac, Cardinal Prêtre de l’Égl...  \n",
       "2  Gilles-François Boulduc, premier Apothicaire d...  \n",
       "3  Edmond Halley fils d’Edmond Halley citoyen de ...  \n",
       "4  Ce que le sang peut communiquer de disposition...  \n",
       "5  Joseph Privat de Molières, Prêtre, Lecteur et ...  \n",
       "6  François Joseph Hunauld naquit à Châteaubriant...  \n",
       "7  André Hercule De Fleury ancien Evêque de Fréju...  \n",
       "8  Jean-Paul Bignon, Abbé de Saint Quentin en l’I...  \n",
       "9  Nicolas Lémery, l’un des anciens Membres de ce...  "
      ]
     },
     "execution_count": 38,
     "metadata": {},
     "output_type": "execute_result"
    }
   ],
   "source": [
    "#checking it worked correctly\n",
    "\n",
    "df = pd.read_csv(DF_PATH + 'dataframe_Mairan.csv')\n",
    "df.head(10)"
   ]
  },
  {
   "cell_type": "markdown",
   "id": "spiritual-lingerie",
   "metadata": {},
   "source": [
    "# 3. Condorcet"
   ]
  },
  {
   "cell_type": "markdown",
   "id": "manual-grocery",
   "metadata": {},
   "source": [
    "To create the dataframe for Condorcet"
   ]
  },
  {
   "cell_type": "markdown",
   "id": "blessed-torture",
   "metadata": {},
   "source": [
    "## a. Condorcet 1\n",
    "\n",
    "First file"
   ]
  },
  {
   "cell_type": "code",
   "execution_count": 39,
   "id": "cellular-haven",
   "metadata": {},
   "outputs": [],
   "source": [
    "#Loading data\n",
    "\n",
    "with open(DATA_FOLDER + 'condorcet_1_txt.txt', 'r') as f:\n",
    "    lines = f.readlines()"
   ]
  },
  {
   "cell_type": "code",
   "execution_count": 40,
   "id": "informed-squad",
   "metadata": {},
   "outputs": [
    {
     "data": {
      "text/plain": [
       "['\\ufeff<savant> de la Chambre\\n',\n",
       " '<auteur> Condorcet\\n',\n",
       " '<annee> 1773\\n',\n",
       " \"<eloge> [Condorcet avait mis, en marge de cette première partie des Éloges, quelques indications des corrections ou des développements qu’il avait le projet d’y faire. Nous les avons précieusement conservées : elles donnent une idée de sa manière de travailler, et sa simplicité, sa candeur, son amour pour la vérité s’y montrent à chaque mot. (Note des premiers éditeurs.)] \\\\n Marin Cureau de la Chambre, médecin ordinaire du roi, naquit au Mans vers 1613. Le chancelier Séguier se l’attacha, moins pour son habileté dans la médecine, que pour l’étendue et la variété de Ses connaissances. La confiance de ce ministre fournissait à la Chambre le moyen d’être utile aux gens de lettres, et il en saisissait avidement toutes les occasions. Il était bien éloigné de dédaigner les Sciences après avoir fait fortune par elles : espèce d’ingratitude qui n’est malheureusement que trop commune. Le cardinal de Richelieu lui donna une place dans l’Académie française, lors de Son établissement en 1635, et le chargea, en 1640, de répondre au livre de Hersant, en faveur des prétentions de la cour de Rome. Ce livre fut regardé en France comme séditieux, et l’on ordonna des recherches contre l’auteur, qui chercha un asile auprès de ceux dont il avait défendu la cause ; mais à Rome même il fut poursuivi par l’inquisition, comme janséniste, et excommunié pour n’avoir point comparu. Des hommes, accoutumés à regarder comme un devoir le zèle qu’on montre pour leurs intérêts, se croient aisément dispensés de toute reconnaissance. Le choix que le cardinal fit de Cureau, pour répondre au livre de Hersant, prouve que cet académicien avait étudié des Sciences bien éloignées de la physique. Il intitula son livre Philalethes, ami de la vérité ; comme si dans de pareilles matières il y avait d’autre vérité à chercher que le plus grand bien des nations ! \\\\n \\tSes ouvrages de physique, dont on trouve la liste dans l’Histoire de l’Académie française, sont absolument oubliés, comme tous ceux qui ne contiennent ni faits nouveaux ni découvertes, et qui, ne représentant la nature qu’à travers les opinions du moment, périssent avec elles. Du moins ceux de Cureau sont-ils écrits en français, et d’un style moins inintelligible que celui des écoles ; ce qui était alors un mérite pour des livres de Science. Mais aussi on y rencontre des traits de ce bel esprit bourgeois et pédantesque, qui infectait alors tous nos livres de prose, hors ceux de Descartes et de Pascal, et qui marqua en France le passage de la barbarie au bon goût. On trouve, par exemple, dans la liste de ces ouvrages, une dissertation intitulée Nouvelles conjectures sur les causes de la lumière du débordement du Nil, et de l’amour d’inclination. Au reste, un tel titre est moins ridicule que ces thèses Sur l’amour, que le cardinal de Richelieu fit soutenir dans son palais, avec l’appareil et la forme des thèses de Sorbonne. \\\\n \\tLa Chambre avait entrepris un grand ouvrage : l’Art de connaître les hommes. L'histoire naturelle de l’homme et celle de ses mœurs, la morale et la métaphysique, tout entrait dans son plan. On en a imprimé quelques parties, et entre autres l’ouvrage intitule le Système de l’âme. \\\\n \\tL’auteur y parle de l’extension de l’âme, de ses parties, de sa grandeur, de sa figure. Son extension est réelle, dit-il, comme celle des corps, et elle n’en diffère que parce qu’elle n’est pas impénétrable. Il croirait presque blasphémer, s’il ne lui supposait pas cette extension ; car alors elle serait sans limites, et immense comme Dieu. L’âme de l’homme est plus grande que celle de l’éléphant, de la baleine, et des plus grands arbres. Si elle est indivisible, ce n’est pas qu’elle soit simple, c’est que, comme les atomes, elle résiste à la division. \\\\n \\tCes étranges assertions [Expliquer pourquoi ces assertions ne parurent point impies.] se trouvent dans un livre dédié à Louis XIV ; et non seulement l’auteur ne fut point persécuté, mais il n’en eut pas moins la réputation d’un philosophe religieux (voyez Moreri et l’Histoire de l’Académie). On pardonna donc à la Chambre ses opinions en faveur de sa piété, ou peut-être dût-il au peu de succès de Son ouvrage le bonheur d’échapper à l’envie. Elle avait pour lors de plus grands objets, Pascal et la mémoire récente de Descartes. \\\\n \\tLa Chambre promettait encore un commentaire sur Hippocrate, et une traduction de la physique d’Aristote ; mais il n’a laissé qu’un discours préliminaire, et le premier des huit livres de la physique. C’est, de tous ses ouvrages, le Seul qui eût pu garantir son nom de l’oubli. \\\\n \\tCependant il était très fécond sur toutes sortes de sujets, et l’on a de lui jusqu’à un ouvrage sur la chiromancie, art frivole et dangereux, auquel le siècle dernier, tout éclairé qu’il était, attachait encore de l’importance, et dont aujourd’hui on ne daignerait pas même réfuter les chimères. \\\\n \\tIl mourut le 29 novembre 1675, laissant deux enfants, l’un médecin du roi, l’autre curé de Saint-Barthélemy et membre de l’Académie française. Ce bon curé, qui n’avait que deux passions, la littérature et les arts, vendit, en 1693, jusqu’à son cabinet et sa bibliothèque, pour soulager ses paroissiens dans une contagion causée par la disette, et il mourut en leur prodiguant ses soins et ses secours. Éloge de Roberval [Sur ses expériences et sa querelle avec Torricelli, voir la Vie de Torricelli, par l’abbé Fabrini; et sur ses démêlés avec Descartes, voir la Vie de Descartes, par Baillet] \\\\n \\tGilles Personne naquit, en 1602, au village de Roberval, diocèse de Beauvais, et il a porté dans la Suite le nom du lieu de sa naissance. Après s’être trouvé avec Descartes au siège de la Rochelle Giège qui, par la hardiesse et la nouveauté des moyens que Richelieu employa pour réduire cette place, offrait un spectacle digne de la curiosité des mathématiciens), Roberval vint à Paris en 1629, et fit connaissance avec le père Mersenne. \\\\n \\tNous ne parlerons point de ses travaux sur la physique [Roberval ayant fait exécuter une machine, elle ne produisit pas l’effet qu’il en attendait : étonné de son erreur, il regardait la machine avec colère : Voyez, dit Mariotte, M. de Roberval, qui dit des injures à la nature, parce qu’elle ne veut pas s’accorder aux les lois de sa géométrie]. Quoique né avec du génie, il ne pouvait avoir de Succès dans ce genre de recherches. Pour y réussir alors, il ne suffisait pas de savoir appliquer le calcul à des principes démontrés, il fallait créer les principes mêmes ; ce qui exige non seulement le talent de la géométrie, mais des qualités plus rares encore, et que Roberval était bien loin de posséder. Cependant on a de lui un ouvrage de physique systématique, intitulé Aristarque de Samos, que quelques érudits, trompés par le titre, crurent de ce philosophe grec. Dans cet ouvrage, Roberval attribue à toutes les particules de la matière une attraction réciproque. \\\\n \\tCette idée sublime d’une gravitation universelle s’était donc présentée aux physiciens dans un temps antérieur à Newton ; plusieurs astronomes avaient même senti qu’en supposant une force qui attirerait les planètes vers un centre, et en la combinant avec une autre qui serait dans la direction de la tangente de leurs orbites, on pourrait expliquer leur mouvement ; mais il restait à savoir ce que ces forces devaient être, pour s’accorder avec les phénomènes dont Kepler avait deviné les lois. Ainsi Kepler avait trouvé, par l’observation, que les aires sont proportionnelles aux temps ; et Newton a prouvé que cette loi s’observe toutes les fois qu’un corps, lancé dans le vide avec une vitesse donnée, est attiré à chaque instant par un centre fixe. Kepler avait observé que l’orbite des planètes est une ellipse ; et Newton a prouvé qu’alors la force, dirigée vers le foyer, est en raison inverse du carré des distances. Enfin, Newton a démontré que les différentes planètes décrivent leurs orbites avec des forces telles, qu’à des distances égales du soleil, la force attractive de cet astre serait la même pour toutes les planètes, quelque différence qu'il y ait entre leurs masses ; et il en a conclu que la force d’attraction est, comme celle d’inertie, proportionnelle à la masse. \\\\n \\tC’est uniquement à ces déterminations exactes et démontrées que Newton a dû sa gloire ; mais de simples vues, quelque grandes, quelque heureuses qu’elles aient, ne peuvent, ni être mises sur la même ligne qu’une découverte précise et bien prononcée, ni diminuer le mérite de celle dont elles ont été le germe. \\\\n \\tRoberval s’était fait une méthode géométrique pour déterminer les aires, les surfaces et les Solides, et il l’avait employée avec succès pour résoudre plusieurs problèmes proposés par Fermat, bien avant que Cavalleri eût trouvé la méthode des indivisibles. Mais comme le géomètre français se plaisait à cacher ses méthodes, pour étonner davantage par des solutions de problèmes particuliers, inaccessibles aux méthodes connues, il eut le désagrément de voir paraître la méthode de Cavalleri avant d’avoir donné la sienne. On est souvent la dupe de ces petits stratagèmes qu’inspire l’amour de la réputation, qui n’est pas toujours l’amour de la gloire. Jamais celui-ci n’est contraire ni à l’intérêt général, ni au progrès des lumières. \\\\n \\tLa méthode de Roberval pour les tangentes, quoique fort ingénieuse, cet très inférieure à celles de Descartes et de Fermat. Elle considère chaque courbe comme étant décrite par un mouvement composé, et la position de la tangente dépend de la direction de ce mouvement à chaque point, et par conséquent du rapport qu’ont les deux mouvements qui le composent. On a voulu trouver dans cette méthode l’origine de celle des fluxions ; mais le mérite de Newton n’est pas d’avoir employé la considération du mouvement pour faire entendre sa méthode ; c’est d’avoir donné des formules pour exprimer les fluxions, quelle que fût l’équation entre les lignes fluentes. \\\\n \\tRoberval était ami de Fermat. Lorsque Descartes eut écrit au père Mersenne que la méthode de maximis, employée par Fermat pour trouver les tangentes, était insuffisante et même fautive, Roberval en prit la défense ; et, dans un écrit donné sous le nom des amis de Fermat, il osa dire que lorsque Descartes entendrait mieux cette méthode, il rendrait plus de justice à l’auteur. Cette réponse devait irriter Descartes, qui avait en effet montré plus d’envie de critiquer Fermat que de l’entendre. Quelque temps après, Roberval annonça qu'il avait carré les cycloïdes, et donna ses résultats. Descartes, qui les vit dans une lettre de Mersenne, en trouva la démons tration d’une manière fort simple, par la méthode des anciens ; et il écrivit à Mersenne qu’il était étonné que Roberval fit tant de cas d’une solution facile pour les plus médliocres géomêtres. Roberval prêtendit que si Descartes n’eût pas connu son résultat, il eût trouvé la solution moins facile ; et quand on la lit dans les lettres de Descartes, on ne peut s’empêcher de croire que Roberval avait raison. \\\\n \\tVers le même temps, Mersenne envoya à Descartes le problème de la tangente des roulettes, que les géomètres de Paris n’avaient pu résoudre. Descartes donna de ces problèmes une solution d’une simplicité et d’une élégance admirables, et toujours en employant la méthode des anciens, précisément parce qu’elle était plus familière à Ses adversaires qu’à lui. Il ajoutait encore qu’il n’attachait aucune valeur à cette solution, et qu’il ne l’avait cherchée que pour montrer combien on avait tort de faire tant de bruit pour des choses si faciles. \\\\n \\tCe ton de supériorité blessa d’autant plus Roberval, qu’il ne put jamais résoudre ce problème des tangentes, et qu’il eut le malheur d’en proposer successivement cinq ou six solutions, arrangées d’après celles de Descartes ou de Fermat, mais trop défectueuses ou trop maladroitement déguisées. Dès lors il fut l’ennemi déclaré de Descartes, et fit contre sa géométrie des objections telles, qu’on ne peut croire qu’un si habile géomètre les ait proposées de bonne foi. Ces objections ne portaient que sur quelques conséquences particulières de la méthode ; et quand leur auteur aurait eu raison sur tous les points, il aurait été encore inexcusable de chercher à déprimer un ouvrage qui devait faire une révolution dans l’analyse, comme le Discours sur la méthode en avait fait une dans la philosophie. \\\\n \\tRoberval eut ensuite quelque avantage dans la recherche des centres de percussion. Descartes et lui donnaient leurs méthodes comme générales, et aucune des deux ne l’était absolument ; mais celle de Roberval s’étendait à des cas qui échappaient à celle de Descartes, et Roberval, en le surpassant, lui prouva qu’il méritait aussi d’être compté parmi les géomètres. \\\\n \\tIl y a une classe de lignes courbes qu’on connait encore sous le nom de lignes Robervalliennes ; et c’est Torricelli qui leur a donné ce nom, quoiqu’il eût à se plaindre de Roberval. Ces lignes sont formées par la rencontre des parallèles à l’axe d’une courbe menée par chacun de ses points, avec des parallèles menées aux tangentes des mêmes points, et passant par un point fixe pris sur l’axe ; ces courbes fournissent un moyen très ingénieux de carrer les paraboles, et de trouver des espaces finis, égaux en grandeur à des espaces infinis. Ce moyen est si simple, qu’il suffit de jeter les yeux sur la construction de ces courbes pour en voir sur le champ l’usage et l’application. \\\\n \\tRoberval résolut encore différente problèmes sur la cycloïde ; et quoique ses méthodes soient inférieures à celles de Pascal et de Wallis, elles ne laissent pas d’annoncer un véritable talent, qu’on est fâché de voir se perdre presque tout entier dans des disputes vaines, et dans des recherches que les découvertes de Descartes rendaient superflues. \\\\n \\tIl y avait alors au Collège royal une chaire fondée par Ramus, et qui tous les trois ans revenait au concours. Le professeur proposait des problèmes et si quelqu’un les résolvait mieux que lui, le professeur était obligé de lui céder sa place. Cette institution, qui ne subsiste plus, était excellente dans un temps où la rareté des livres rendait ces chaires également honorables et utiles. Les prix des académies, institués depuis, sont plus avantageux aux progrès des sciences, et excitent la même émulation, sans qu’on ait à craindre le reproche, toujours odieux, d’avoir dépouillé quelqu’un de sa place. Roberval conserva cette chaire jusqu’à la mort ; et c’était, disait-il, pour en être plus sûr qu’il gardait ses découvertes dans son portefeuille. Mais il en avait encore une autre raison : il sentait avec peine la Supériorité de Descartes, et même de Fermat ; ne pouvant prétendre au premier rang, il voulait du moins que ce mystère cachât son infériorité. Peut-être même espérait-il trouver, parmi les envieux de Descartes, des hommes qui lui donneraient la préférence : car souvent on se plait à élever un mérite inconnu, qu’on peut mettre à telle place qu’on veut sans blesser Ses propres prétentions, tandis qu’on rabaisse les talents dont l’éclat nous humilie. Cette vanité malentendu nuisit à la réputation et au repos de Roberval. S'il avait étudié la géométrie de Descartes, au lieu de la combattre, il aurait été le premier parmi Ses disciples ; et cette gloire eût mieux valu sans doute que le triste honneur d’avoir été son ennemi plutôt que son rival. Pourquoi faut-il que tant d’hommes, faits pour contribuer aux progrès des Sciences, perdent, à combattre un homme supérieur, les forces qu’ils ne devraient employer que contre la résistance de la nature ? Pourquoi faut-il qu’ils sacrifient si misérablement, à une petitesse d’amour propre l’intérêt des Sciences et celui de leur véritable gloire ; \\\\n \\tRoberval mourut en 1676. Ses ouvrages, recueillis par l’abbé Gallois, son ami, sont imprimés dans les anciens Mémoires de l’Académie. Dans ses méthodes, presque toujours obscures et embarrassées, on ne peut cependant méconnaître l’empreinte du génie. \\\\n \\tMalgré un amour propre facile à blesser, et qui ménageait peu celui des autres, Roberval eut des amis. Sans parler du père Mersenne, qui, ne pouvant avoir de réputation par lui-même, voulait mêler son nom à tous les noms célèbres, ni de l’abbé Gallois, qu’unissait avec lui une haine commune pour les découvertes nouvelles, Pascal le père fut constamment son ami, et cela Seul prouve que Roberval eut des vertus.\\n\"]"
      ]
     },
     "execution_count": 40,
     "metadata": {},
     "output_type": "execute_result"
    }
   ],
   "source": [
    "lines[0:4]"
   ]
  },
  {
   "cell_type": "code",
   "execution_count": 42,
   "id": "interim-submission",
   "metadata": {},
   "outputs": [
    {
     "name": "stdout",
     "output_type": "stream",
     "text": [
      "Number of lines : 157\n"
     ]
    }
   ],
   "source": [
    "print('Number of lines : ' + str(len(lines)))"
   ]
  },
  {
   "cell_type": "code",
   "execution_count": 43,
   "id": "korean-azerbaijan",
   "metadata": {},
   "outputs": [],
   "source": [
    "#Merging all the lines\n",
    "all_lines = ''\n",
    "\n",
    "\n",
    "for l in lines :\n",
    "    #Removing starting and ending spaces\n",
    "    l = l.strip()\n",
    "    if l.startswith('<savant>'):\n",
    "        #if it is the start of a new eulogy thanks to <savant> add the indicator '======' to perform a split later on\n",
    "        l = '======' + l\n",
    "    all_lines = all_lines + \" \" + l"
   ]
  },
  {
   "cell_type": "code",
   "execution_count": 44,
   "id": "special-liabilities",
   "metadata": {},
   "outputs": [
    {
     "data": {
      "text/plain": [
       "' \\ufeff<savant> de la Chambre <auteur> Condorcet <annee> 1773 <eloge> [Condorcet avait mis, en marge de c'"
      ]
     },
     "execution_count": 44,
     "metadata": {},
     "output_type": "execute_result"
    }
   ],
   "source": [
    "all_lines[0:100]"
   ]
  },
  {
   "cell_type": "code",
   "execution_count": 45,
   "id": "orange-cooperation",
   "metadata": {},
   "outputs": [],
   "source": [
    "lines_dec_cond1 = all_lines.split('======')"
   ]
  },
  {
   "cell_type": "code",
   "execution_count": 46,
   "id": "official-hobby",
   "metadata": {},
   "outputs": [
    {
     "name": "stdout",
     "output_type": "stream",
     "text": [
      "Number of lines obtained : 39\n"
     ]
    }
   ],
   "source": [
    "print(\"Number of lines obtained : \" + str(len(lines_dec_cond1)))"
   ]
  },
  {
   "cell_type": "code",
   "execution_count": 47,
   "id": "daily-creator",
   "metadata": {},
   "outputs": [
    {
     "name": "stdout",
     "output_type": "stream",
     "text": [
      "Number of eulogies in it 39\n"
     ]
    }
   ],
   "source": [
    "count = all_lines.count('<annee>')\n",
    "\n",
    "print(\"Number of eulogies in it \" + str(count))"
   ]
  },
  {
   "cell_type": "code",
   "execution_count": 48,
   "id": "false-terminal",
   "metadata": {},
   "outputs": [],
   "source": [
    "def get_info_condorcet(string):\n",
    "    '''\n",
    "    Get information from eulogies written by Condorcet\n",
    "    Input :\n",
    "        - string (str) : line containing information + eulogy\n",
    "    Outputs :\n",
    "        - savant (str) : Name of the scientist\n",
    "        - auteur (str) : Name of the author\n",
    "        - annee (str) : Year of publication\n",
    "        - eloge (str) : eulogy itself\n",
    "    '''\n",
    "    savant = re.findall('<savant>(.+?)<auteur>', string, flags = re.DOTALL)[0].replace('\\n', '').strip()\n",
    "    auteur = re.findall('<auteur>(.+?)<annee>', string, flags = re.DOTALL)[0].replace('\\n', '').strip()\n",
    "    annee = string.split('<annee>')[1][0:5].strip()\n",
    "    eloge = string.split('<eloge>')[1].strip()\n",
    "    return savant,auteur, annee, eloge"
   ]
  },
  {
   "cell_type": "code",
   "execution_count": 49,
   "id": "instant-lending",
   "metadata": {
    "scrolled": true
   },
   "outputs": [
    {
     "name": "stdout",
     "output_type": "stream",
     "text": [
      "=======\n",
      "Savant  : de la Chambre\n",
      "Auteur : Condorcet\n",
      "Annee : 1773\n",
      "Debut eloge : [Condorcet avait mis, en marge\n",
      "=======\n",
      "Savant  : Frenicle\n",
      "Auteur : Condorcet\n",
      "Annee : 1773\n",
      "Debut eloge : Nicolas Frenicle de Bessy, con\n",
      "=======\n",
      "Savant  : Picard\n",
      "Auteur : Condorcet\n",
      "Annee : 1773\n",
      "Debut eloge : [Voyez sur Picard l’Histoire c\n",
      "=======\n",
      "Savant  : Mariotte\n",
      "Auteur : Condorcet\n",
      "Annee : 1773\n",
      "Debut eloge : Edme Mariotte naquit à Dijon, \n",
      "=======\n",
      "Savant  : Duclos\n",
      "Auteur : Condorcet\n",
      "Annee : 1773\n",
      "Debut eloge : Samuel Cotreau Duclos, médecin\n",
      "=======\n",
      "Savant  : Blondel\n",
      "Auteur : Condorcet\n",
      "Annee : 1773\n",
      "Debut eloge : François Blondel naquit à Ribe\n",
      "=======\n",
      "Savant  : Huygens\n",
      "Auteur : Condorcet\n",
      "Annee : 1773\n",
      "Debut eloge : Christian Huygens naquit à la \n",
      "=======\n",
      "Savant  : Charas\n",
      "Auteur : Condorcet\n",
      "Annee : 1773\n",
      "Debut eloge : Moïse Charas naquit à Usez ver\n",
      "=======\n",
      "Savant  : Roëmer\n",
      "Auteur : Condorcet\n",
      "Annee : 1773\n",
      "Debut eloge : [Voyez le Recueil des œuvres d\n",
      "=======\n",
      "Savant  : Rohaut\n",
      "Auteur : Condorcet\n",
      "Annee : 1773\n",
      "Debut eloge : Au sortir du collège, où l’on \n",
      "=======\n",
      "Savant  : Bartholin\n",
      "Auteur : Condorcet\n",
      "Annee : 1773\n",
      "Debut eloge : Parmi un grand nombre de famil\n",
      "=======\n",
      "Savant  : Boyle\n",
      "Auteur : Condorcet\n",
      "Annee : 1773\n",
      "Debut eloge : On ignorait encore en Angleter\n",
      "=======\n",
      "Savant  : Bellini\n",
      "Auteur : Condorcet\n",
      "Annee : 1773\n",
      "Debut eloge : Laurent Bellini, né à Pise en \n",
      "=======\n",
      "Savant  : Cowper\n",
      "Auteur : Condorcet\n",
      "Annee : 1773\n",
      "Debut eloge : Cowper, célèbre chirurgien ang\n",
      "=======\n",
      "Savant  : Pitcarne\n",
      "Auteur : Condorcet\n",
      "Annee : 1773\n",
      "Debut eloge : Pitcarne s’est rendu célèbre p\n",
      "=======\n",
      "Savant  : Flamstead\n",
      "Auteur : Condorcet\n",
      "Annee : 1773\n",
      "Debut eloge : Flamstead naquit en 1641, dans\n",
      "=======\n",
      "Savant  : Leuwenhoeck\n",
      "Auteur : Condorcet\n",
      "Annee : 1773\n",
      "Debut eloge : Né en Hollande en 1632, ce phy\n",
      "=======\n",
      "Savant  : Cheselden\n",
      "Auteur : Condorcet\n",
      "Annee : 1773\n",
      "Debut eloge : Il ne doit pas être placé au n\n",
      "=======\n",
      "Savant  : Peyssonnel\n",
      "Auteur : Condorcet\n",
      "Annee : 1773\n",
      "Debut eloge : Les naturalistes doivent à M. \n",
      "=======\n",
      "Savant  : Bianchi\n",
      "Auteur : Condorcet\n",
      "Annee : 1773\n",
      "Debut eloge : Il est mort en 1760, âgé de qu\n",
      "=======\n",
      "Savant  : Muschenbroek\n",
      "Auteur : Condorcet\n",
      "Annee : 1773\n",
      "Debut eloge : On trouve, dans ses ouvrages, \n",
      "=======\n",
      "Savant  : Klingenstierna\n",
      "Auteur : Condorcet\n",
      "Annee : 1773\n",
      "Debut eloge : La Suède, occupée à réparer le\n",
      "=======\n",
      "Savant  : Le Cat\n",
      "Auteur : Condorcet\n",
      "Annee : 1773\n",
      "Debut eloge : Il avait placé son nom sur la \n",
      "=======\n",
      "Savant  : Le Seur\n",
      "Auteur : Condorcet\n",
      "Annee : 1773\n",
      "Debut eloge : [Condorcet écrivait à Voltaire\n",
      "=======\n",
      "Savant  : Bevis\n",
      "Auteur : Condorcet\n",
      "Annee : 1773\n",
      "Debut eloge : Ce savant, mort en 1771, à l’â\n",
      "=======\n",
      "Savant  : Fontaine\n",
      "Auteur : Condorcet\n",
      "Annee : 1771\n",
      "Debut eloge : Alexis Fontaine naquit à Clave\n",
      "=======\n",
      "Savant  : de La Condamine\n",
      "Auteur : Condorcet\n",
      "Annee : 1774\n",
      "Debut eloge : Charles-Marie de La Condamine,\n",
      "=======\n",
      "Savant  : Trudaine\n",
      "Auteur : Condorcet\n",
      "Annee : 1777\n",
      "Debut eloge : Jean-Charles Philibert Trudain\n",
      "=======\n",
      "Savant  : de Jussieu\n",
      "Auteur : Condorcet\n",
      "Annee : 1777\n",
      "Debut eloge : Bernard de Jussieu, docteur en\n",
      "=======\n",
      "Savant  : de Bourdelin\n",
      "Auteur : Condorcet\n",
      "Annee : 1777\n",
      "Debut eloge : Louis Claude de Bourdelin, doc\n",
      "=======\n",
      "Savant  : de Haller\n",
      "Auteur : Condorcet\n",
      "Annee : 1777\n",
      "Debut eloge : Albert de Haller, membre du co\n",
      "=======\n",
      "Savant  : Malouin\n",
      "Auteur : Condorcet\n",
      "Annee : 1778\n",
      "Debut eloge : Paul-Jacques Malouin, pensionn\n",
      "=======\n",
      "Savant  : de Linné\n",
      "Auteur : Condorcet\n",
      "Annee : 1778\n",
      "Debut eloge : Charles de Linné, plus connu s\n",
      "=======\n",
      "Savant  : de Jussieu\n",
      "Auteur : Condorcet\n",
      "Annee : 1779\n",
      "Debut eloge : Joseph de Jussieu, associé de \n",
      "=======\n",
      "Savant  : d’Arci\n",
      "Auteur : Condorcet\n",
      "Annee : 1779\n",
      "Debut eloge : Patrice d’Arci, pensionnaire-g\n",
      "=======\n",
      "Savant  : Lieutaud\n",
      "Auteur : Condorcet\n",
      "Annee : 1780\n",
      "Debut eloge : Joseph Lieutaud, conseiller d’\n",
      "=======\n",
      "Savant  : Bucquet\n",
      "Auteur : Condorcet\n",
      "Annee : 1780\n",
      "Debut eloge : Jean-Baptiste-Michel Bucquet, \n",
      "=======\n",
      "Savant  : Berrin\n",
      "Auteur : Condorcet\n",
      "Annee : 1781\n",
      "Debut eloge : Exupère-Joseph Bertin, docteur\n",
      "=======\n",
      "Savant  : Courtanvaux\n",
      "Auteur : Condorcet\n",
      "Annee : 1781\n",
      "Debut eloge : François César le Tellier, mar\n"
     ]
    }
   ],
   "source": [
    "#Checking everything works correctly\n",
    "\n",
    "for l in lines_dec_cond1 :\n",
    "    savant, auteur, annee, eloge = get_info_condorcet(l)\n",
    "    print(\"=======\")\n",
    "    print(\"Savant  : \" + savant)\n",
    "    print(\"Auteur : \" + auteur)\n",
    "    print(\"Annee : \" + annee)\n",
    "    print(\"Debut eloge : \" + eloge[0:30])"
   ]
  },
  {
   "cell_type": "code",
   "execution_count": 50,
   "id": "interstate-green",
   "metadata": {},
   "outputs": [],
   "source": [
    "# Saving it as dataframe\n",
    "\n",
    "save_as_df(get_info_condorcet, lines_dec_cond1, 'Condorcet_1')"
   ]
  },
  {
   "cell_type": "code",
   "execution_count": 51,
   "id": "employed-validity",
   "metadata": {
    "scrolled": true
   },
   "outputs": [
    {
     "data": {
      "text/html": [
       "<div>\n",
       "<style scoped>\n",
       "    .dataframe tbody tr th:only-of-type {\n",
       "        vertical-align: middle;\n",
       "    }\n",
       "\n",
       "    .dataframe tbody tr th {\n",
       "        vertical-align: top;\n",
       "    }\n",
       "\n",
       "    .dataframe thead th {\n",
       "        text-align: right;\n",
       "    }\n",
       "</style>\n",
       "<table border=\"1\" class=\"dataframe\">\n",
       "  <thead>\n",
       "    <tr style=\"text-align: right;\">\n",
       "      <th></th>\n",
       "      <th>Savant</th>\n",
       "      <th>Auteur</th>\n",
       "      <th>Annee</th>\n",
       "      <th>Eloge</th>\n",
       "    </tr>\n",
       "  </thead>\n",
       "  <tbody>\n",
       "    <tr>\n",
       "      <th>0</th>\n",
       "      <td>de la Chambre</td>\n",
       "      <td>Condorcet</td>\n",
       "      <td>1773</td>\n",
       "      <td>[Condorcet avait mis, en marge de cette premiè...</td>\n",
       "    </tr>\n",
       "    <tr>\n",
       "      <th>1</th>\n",
       "      <td>Frenicle</td>\n",
       "      <td>Condorcet</td>\n",
       "      <td>1773</td>\n",
       "      <td>Nicolas Frenicle de Bessy, conseiller à la cou...</td>\n",
       "    </tr>\n",
       "    <tr>\n",
       "      <th>2</th>\n",
       "      <td>Picard</td>\n",
       "      <td>Condorcet</td>\n",
       "      <td>1773</td>\n",
       "      <td>[Voyez sur Picard l’Histoire céleste. Il a sou...</td>\n",
       "    </tr>\n",
       "    <tr>\n",
       "      <th>3</th>\n",
       "      <td>Mariotte</td>\n",
       "      <td>Condorcet</td>\n",
       "      <td>1773</td>\n",
       "      <td>Edme Mariotte naquit à Dijon, ou du moins il y...</td>\n",
       "    </tr>\n",
       "    <tr>\n",
       "      <th>4</th>\n",
       "      <td>Duclos</td>\n",
       "      <td>Condorcet</td>\n",
       "      <td>1773</td>\n",
       "      <td>Samuel Cotreau Duclos, médecin ordinaire du ro...</td>\n",
       "    </tr>\n",
       "    <tr>\n",
       "      <th>5</th>\n",
       "      <td>Blondel</td>\n",
       "      <td>Condorcet</td>\n",
       "      <td>1773</td>\n",
       "      <td>François Blondel naquit à Ribemont, en Picardi...</td>\n",
       "    </tr>\n",
       "    <tr>\n",
       "      <th>6</th>\n",
       "      <td>Huygens</td>\n",
       "      <td>Condorcet</td>\n",
       "      <td>1773</td>\n",
       "      <td>Christian Huygens naquit à la Haye, le 14 avri...</td>\n",
       "    </tr>\n",
       "    <tr>\n",
       "      <th>7</th>\n",
       "      <td>Charas</td>\n",
       "      <td>Condorcet</td>\n",
       "      <td>1773</td>\n",
       "      <td>Moïse Charas naquit à Usez vers 1618, d’une fa...</td>\n",
       "    </tr>\n",
       "    <tr>\n",
       "      <th>8</th>\n",
       "      <td>Roëmer</td>\n",
       "      <td>Condorcet</td>\n",
       "      <td>1773</td>\n",
       "      <td>[Voyez le Recueil des œuvres de Leibniz, par M...</td>\n",
       "    </tr>\n",
       "    <tr>\n",
       "      <th>9</th>\n",
       "      <td>Rohaut</td>\n",
       "      <td>Condorcet</td>\n",
       "      <td>1773</td>\n",
       "      <td>Au sortir du collège, où l’on n’enseignait enc...</td>\n",
       "    </tr>\n",
       "    <tr>\n",
       "      <th>10</th>\n",
       "      <td>Bartholin</td>\n",
       "      <td>Condorcet</td>\n",
       "      <td>1773</td>\n",
       "      <td>Parmi un grand nombre de familles où l’amour d...</td>\n",
       "    </tr>\n",
       "    <tr>\n",
       "      <th>11</th>\n",
       "      <td>Boyle</td>\n",
       "      <td>Condorcet</td>\n",
       "      <td>1773</td>\n",
       "      <td>On ignorait encore en Angleterre en 1666 les e...</td>\n",
       "    </tr>\n",
       "    <tr>\n",
       "      <th>12</th>\n",
       "      <td>Bellini</td>\n",
       "      <td>Condorcet</td>\n",
       "      <td>1773</td>\n",
       "      <td>Laurent Bellini, né à Pise en 1643, se fit con...</td>\n",
       "    </tr>\n",
       "    <tr>\n",
       "      <th>13</th>\n",
       "      <td>Cowper</td>\n",
       "      <td>Condorcet</td>\n",
       "      <td>1773</td>\n",
       "      <td>Cowper, célèbre chirurgien anglais, naquit en ...</td>\n",
       "    </tr>\n",
       "    <tr>\n",
       "      <th>14</th>\n",
       "      <td>Pitcarne</td>\n",
       "      <td>Condorcet</td>\n",
       "      <td>1773</td>\n",
       "      <td>Pitcarne s’est rendu célèbre par des ouvrages ...</td>\n",
       "    </tr>\n",
       "    <tr>\n",
       "      <th>15</th>\n",
       "      <td>Flamstead</td>\n",
       "      <td>Condorcet</td>\n",
       "      <td>1773</td>\n",
       "      <td>Flamstead naquit en 1641, dans le comté de Der...</td>\n",
       "    </tr>\n",
       "    <tr>\n",
       "      <th>16</th>\n",
       "      <td>Leuwenhoeck</td>\n",
       "      <td>Condorcet</td>\n",
       "      <td>1773</td>\n",
       "      <td>Né en Hollande en 1632, ce physicien célèbre d...</td>\n",
       "    </tr>\n",
       "    <tr>\n",
       "      <th>17</th>\n",
       "      <td>Cheselden</td>\n",
       "      <td>Condorcet</td>\n",
       "      <td>1773</td>\n",
       "      <td>Il ne doit pas être placé au nombre des grands...</td>\n",
       "    </tr>\n",
       "    <tr>\n",
       "      <th>18</th>\n",
       "      <td>Peyssonnel</td>\n",
       "      <td>Condorcet</td>\n",
       "      <td>1773</td>\n",
       "      <td>Les naturalistes doivent à M. Peyssonnel les p...</td>\n",
       "    </tr>\n",
       "    <tr>\n",
       "      <th>19</th>\n",
       "      <td>Bianchi</td>\n",
       "      <td>Condorcet</td>\n",
       "      <td>1773</td>\n",
       "      <td>Il est mort en 1760, âgé de quatre-vingts ans,...</td>\n",
       "    </tr>\n",
       "    <tr>\n",
       "      <th>20</th>\n",
       "      <td>Muschenbroek</td>\n",
       "      <td>Condorcet</td>\n",
       "      <td>1773</td>\n",
       "      <td>On trouve, dans ses ouvrages, une longue suite...</td>\n",
       "    </tr>\n",
       "    <tr>\n",
       "      <th>21</th>\n",
       "      <td>Klingenstierna</td>\n",
       "      <td>Condorcet</td>\n",
       "      <td>1773</td>\n",
       "      <td>La Suède, occupée à réparer les pertes que les...</td>\n",
       "    </tr>\n",
       "    <tr>\n",
       "      <th>22</th>\n",
       "      <td>Le Cat</td>\n",
       "      <td>Condorcet</td>\n",
       "      <td>1773</td>\n",
       "      <td>Il avait placé son nom sur la liste de presque...</td>\n",
       "    </tr>\n",
       "    <tr>\n",
       "      <th>23</th>\n",
       "      <td>Le Seur</td>\n",
       "      <td>Condorcet</td>\n",
       "      <td>1773</td>\n",
       "      <td>[Condorcet écrivait à Voltaire, le 16 février ...</td>\n",
       "    </tr>\n",
       "    <tr>\n",
       "      <th>24</th>\n",
       "      <td>Bevis</td>\n",
       "      <td>Condorcet</td>\n",
       "      <td>1773</td>\n",
       "      <td>Ce savant, mort en 1771, à l’âge de soixante-s...</td>\n",
       "    </tr>\n",
       "    <tr>\n",
       "      <th>25</th>\n",
       "      <td>Fontaine</td>\n",
       "      <td>Condorcet</td>\n",
       "      <td>1771</td>\n",
       "      <td>Alexis Fontaine naquit à Claveison en Dauphiné...</td>\n",
       "    </tr>\n",
       "    <tr>\n",
       "      <th>26</th>\n",
       "      <td>de La Condamine</td>\n",
       "      <td>Condorcet</td>\n",
       "      <td>1774</td>\n",
       "      <td>Charles-Marie de La Condamine, pensionnaire ch...</td>\n",
       "    </tr>\n",
       "    <tr>\n",
       "      <th>27</th>\n",
       "      <td>Trudaine</td>\n",
       "      <td>Condorcet</td>\n",
       "      <td>1777</td>\n",
       "      <td>Jean-Charles Philibert Trudaine, conseiller d’...</td>\n",
       "    </tr>\n",
       "    <tr>\n",
       "      <th>28</th>\n",
       "      <td>de Jussieu</td>\n",
       "      <td>Condorcet</td>\n",
       "      <td>1777</td>\n",
       "      <td>Bernard de Jussieu, docteur en médecine des fa...</td>\n",
       "    </tr>\n",
       "    <tr>\n",
       "      <th>29</th>\n",
       "      <td>de Bourdelin</td>\n",
       "      <td>Condorcet</td>\n",
       "      <td>1777</td>\n",
       "      <td>Louis Claude de Bourdelin, docteur régent, et ...</td>\n",
       "    </tr>\n",
       "    <tr>\n",
       "      <th>30</th>\n",
       "      <td>de Haller</td>\n",
       "      <td>Condorcet</td>\n",
       "      <td>1777</td>\n",
       "      <td>Albert de Haller, membre du conseil souverain ...</td>\n",
       "    </tr>\n",
       "    <tr>\n",
       "      <th>31</th>\n",
       "      <td>Malouin</td>\n",
       "      <td>Condorcet</td>\n",
       "      <td>1778</td>\n",
       "      <td>Paul-Jacques Malouin, pensionnaire chimiste de...</td>\n",
       "    </tr>\n",
       "    <tr>\n",
       "      <th>32</th>\n",
       "      <td>de Linné</td>\n",
       "      <td>Condorcet</td>\n",
       "      <td>1778</td>\n",
       "      <td>Charles de Linné, plus connu sous le nom de Li...</td>\n",
       "    </tr>\n",
       "    <tr>\n",
       "      <th>33</th>\n",
       "      <td>de Jussieu</td>\n",
       "      <td>Condorcet</td>\n",
       "      <td>1779</td>\n",
       "      <td>Joseph de Jussieu, associé de l’Académie des s...</td>\n",
       "    </tr>\n",
       "    <tr>\n",
       "      <th>34</th>\n",
       "      <td>d’Arci</td>\n",
       "      <td>Condorcet</td>\n",
       "      <td>1779</td>\n",
       "      <td>Patrice d’Arci, pensionnaire-géomètre de l’Aca...</td>\n",
       "    </tr>\n",
       "    <tr>\n",
       "      <th>35</th>\n",
       "      <td>Lieutaud</td>\n",
       "      <td>Condorcet</td>\n",
       "      <td>1780</td>\n",
       "      <td>Joseph Lieutaud, conseiller d’État, premier mé...</td>\n",
       "    </tr>\n",
       "    <tr>\n",
       "      <th>36</th>\n",
       "      <td>Bucquet</td>\n",
       "      <td>Condorcet</td>\n",
       "      <td>1780</td>\n",
       "      <td>Jean-Baptiste-Michel Bucquet, censeur royal, d...</td>\n",
       "    </tr>\n",
       "    <tr>\n",
       "      <th>37</th>\n",
       "      <td>Berrin</td>\n",
       "      <td>Condorcet</td>\n",
       "      <td>1781</td>\n",
       "      <td>Exupère-Joseph Bertin, docteur en médecine de ...</td>\n",
       "    </tr>\n",
       "    <tr>\n",
       "      <th>38</th>\n",
       "      <td>Courtanvaux</td>\n",
       "      <td>Condorcet</td>\n",
       "      <td>1781</td>\n",
       "      <td>François César le Tellier, marquis de Courtanv...</td>\n",
       "    </tr>\n",
       "  </tbody>\n",
       "</table>\n",
       "</div>"
      ],
      "text/plain": [
       "             Savant     Auteur  Annee  \\\n",
       "0     de la Chambre  Condorcet   1773   \n",
       "1          Frenicle  Condorcet   1773   \n",
       "2            Picard  Condorcet   1773   \n",
       "3          Mariotte  Condorcet   1773   \n",
       "4            Duclos  Condorcet   1773   \n",
       "5           Blondel  Condorcet   1773   \n",
       "6           Huygens  Condorcet   1773   \n",
       "7            Charas  Condorcet   1773   \n",
       "8            Roëmer  Condorcet   1773   \n",
       "9            Rohaut  Condorcet   1773   \n",
       "10        Bartholin  Condorcet   1773   \n",
       "11            Boyle  Condorcet   1773   \n",
       "12          Bellini  Condorcet   1773   \n",
       "13           Cowper  Condorcet   1773   \n",
       "14         Pitcarne  Condorcet   1773   \n",
       "15        Flamstead  Condorcet   1773   \n",
       "16      Leuwenhoeck  Condorcet   1773   \n",
       "17        Cheselden  Condorcet   1773   \n",
       "18       Peyssonnel  Condorcet   1773   \n",
       "19          Bianchi  Condorcet   1773   \n",
       "20     Muschenbroek  Condorcet   1773   \n",
       "21   Klingenstierna  Condorcet   1773   \n",
       "22           Le Cat  Condorcet   1773   \n",
       "23          Le Seur  Condorcet   1773   \n",
       "24            Bevis  Condorcet   1773   \n",
       "25         Fontaine  Condorcet   1771   \n",
       "26  de La Condamine  Condorcet   1774   \n",
       "27         Trudaine  Condorcet   1777   \n",
       "28       de Jussieu  Condorcet   1777   \n",
       "29     de Bourdelin  Condorcet   1777   \n",
       "30        de Haller  Condorcet   1777   \n",
       "31          Malouin  Condorcet   1778   \n",
       "32         de Linné  Condorcet   1778   \n",
       "33       de Jussieu  Condorcet   1779   \n",
       "34           d’Arci  Condorcet   1779   \n",
       "35         Lieutaud  Condorcet   1780   \n",
       "36          Bucquet  Condorcet   1780   \n",
       "37           Berrin  Condorcet   1781   \n",
       "38      Courtanvaux  Condorcet   1781   \n",
       "\n",
       "                                                Eloge  \n",
       "0   [Condorcet avait mis, en marge de cette premiè...  \n",
       "1   Nicolas Frenicle de Bessy, conseiller à la cou...  \n",
       "2   [Voyez sur Picard l’Histoire céleste. Il a sou...  \n",
       "3   Edme Mariotte naquit à Dijon, ou du moins il y...  \n",
       "4   Samuel Cotreau Duclos, médecin ordinaire du ro...  \n",
       "5   François Blondel naquit à Ribemont, en Picardi...  \n",
       "6   Christian Huygens naquit à la Haye, le 14 avri...  \n",
       "7   Moïse Charas naquit à Usez vers 1618, d’une fa...  \n",
       "8   [Voyez le Recueil des œuvres de Leibniz, par M...  \n",
       "9   Au sortir du collège, où l’on n’enseignait enc...  \n",
       "10  Parmi un grand nombre de familles où l’amour d...  \n",
       "11  On ignorait encore en Angleterre en 1666 les e...  \n",
       "12  Laurent Bellini, né à Pise en 1643, se fit con...  \n",
       "13  Cowper, célèbre chirurgien anglais, naquit en ...  \n",
       "14  Pitcarne s’est rendu célèbre par des ouvrages ...  \n",
       "15  Flamstead naquit en 1641, dans le comté de Der...  \n",
       "16  Né en Hollande en 1632, ce physicien célèbre d...  \n",
       "17  Il ne doit pas être placé au nombre des grands...  \n",
       "18  Les naturalistes doivent à M. Peyssonnel les p...  \n",
       "19  Il est mort en 1760, âgé de quatre-vingts ans,...  \n",
       "20  On trouve, dans ses ouvrages, une longue suite...  \n",
       "21  La Suède, occupée à réparer les pertes que les...  \n",
       "22  Il avait placé son nom sur la liste de presque...  \n",
       "23  [Condorcet écrivait à Voltaire, le 16 février ...  \n",
       "24  Ce savant, mort en 1771, à l’âge de soixante-s...  \n",
       "25  Alexis Fontaine naquit à Claveison en Dauphiné...  \n",
       "26  Charles-Marie de La Condamine, pensionnaire ch...  \n",
       "27  Jean-Charles Philibert Trudaine, conseiller d’...  \n",
       "28  Bernard de Jussieu, docteur en médecine des fa...  \n",
       "29  Louis Claude de Bourdelin, docteur régent, et ...  \n",
       "30  Albert de Haller, membre du conseil souverain ...  \n",
       "31  Paul-Jacques Malouin, pensionnaire chimiste de...  \n",
       "32  Charles de Linné, plus connu sous le nom de Li...  \n",
       "33  Joseph de Jussieu, associé de l’Académie des s...  \n",
       "34  Patrice d’Arci, pensionnaire-géomètre de l’Aca...  \n",
       "35  Joseph Lieutaud, conseiller d’État, premier mé...  \n",
       "36  Jean-Baptiste-Michel Bucquet, censeur royal, d...  \n",
       "37  Exupère-Joseph Bertin, docteur en médecine de ...  \n",
       "38  François César le Tellier, marquis de Courtanv...  "
      ]
     },
     "execution_count": 51,
     "metadata": {},
     "output_type": "execute_result"
    }
   ],
   "source": [
    "# Checking it worked\n",
    "\n",
    "df_c1 = pd.read_csv(DF_PATH + 'dataframe_Condorcet_1.csv')\n",
    "df_c1"
   ]
  },
  {
   "cell_type": "markdown",
   "id": "endangered-oregon",
   "metadata": {},
   "source": [
    "## b. Condorcet 2\n",
    "\n",
    "For the second file"
   ]
  },
  {
   "cell_type": "code",
   "execution_count": 52,
   "id": "handed-basics",
   "metadata": {},
   "outputs": [],
   "source": [
    "# Loading data\n",
    "\n",
    "with open(DATA_FOLDER + 'condorcet_2_txt.txt', 'r') as f:\n",
    "    lines = f.readlines()"
   ]
  },
  {
   "cell_type": "code",
   "execution_count": 54,
   "id": "planned-sudan",
   "metadata": {},
   "outputs": [
    {
     "data": {
      "text/plain": [
       "[\"Éloges des Académiciens de l'académie royale des sciences, morts depuis l’An 1788.\\n\",\n",
       " '<savant> Euler\\n',\n",
       " '<auteur> Condorcet\\n',\n",
       " '<annee> 1783\\n',\n",
       " \"<eloge> Léonard Euler, directeur de la classe de mathématiques dans l’Académie de Petersbourg, et auparavant dans celle de Berlin ; de la société royale de Londres, des académies de Turin, de Lisbonne et de Bâle ; associé étranger de celle des sciences, naquit à Bâle le 15 avril 1707, de Paul Euler et de Marguerite Brucker. \\\\n\\tSon père, devenu, en 1708, pasteur du village de Riechen près de Bâle, fut son premier instituteur, et eut bientôt le plaisir de voir ces espérances des talents et de la gloire d’un fils, si douces pour un cœur paternel, naître et se fortifier sous ses yeux et par ses soins. \\\\n\\tIl avait étudié les mathématiques sous Jacques Bernoulli ; on sait que cet homme illustre joignait à un grand génie pour les sciences, une philosophie profonde, qui n’accompagne pas toujours ce génie, mais qui sert à lui donner plus d’étendue et à le rendre plus utile : dans ses leçons, il faisait sentir à ses disciples que la géométrie n’est pas une science isolée, et la leur présentait comme la base et la clef de toutes les connaissances humaines, comme la science où l’on peut le mieux observer la marche de l’esprit, celle dont la culture exerce le plus utilement nos facultés, puisqu’elle donne à l’entendement de la force et de la justesse à la fois ; enfin, comme une étude également précieuse par le nombre ou la variété de ses applications, et par l’avantage de faire contracter l’habitude d’une méthode de raisonner, qui peut s’employer ensuite à la recherche des vérités de tous les genres, et nous guider dans la conduite de la vie. \\\\n\\tPaul Euler, pénétré des principes de son maître, enseigna les éléments des mathématiques à son fils, quoiqu’il le destinât à l’étude de la théologie ; et lorsque le jeune Euler fut envoyé à l’université de Bâle, il se trouva digne de recevoir les leçons de Jean Bernoulli. Son application, ses dispositions heureuses lui méritèrent bientôt l’amitié de Daniel et de Nicolas Bernoulli, disciples et déjà rivaux de leur père ; il eut même le bonheur d’obtenir celle du sévère Jean Bernoulli, qui voulut bien lui donner, une fois par semaine, une leçon particulière, destinée à éclaircir les difficultés qui se présentaient à lui dans le cours de ses lectures et de ses travaux : les autres jours étaient employés par M. Euler à se mettre en état de profiter de cette faveur signalée \\\\n\\tCette méthode excellente empêchait son génie naissant de s’épuiser contre des obstacles invincibles, de s’égarer dans les routes nouvelles qu’il cherchait à s’ouvrir ; elle guidait et secondait ses efforts : mais en même temps elle l’obligeait de déployer toutes ses forces, qu’il augmentait encore par un exercice proportionné à son âge et à l’étendue de ses connaissances. Il ne jouit pas longtemps de cet avantage ; et à peine eut-il obtenu le titre de maître ès arts, que son père, qui le destinait à lui succéder, l’obligea de quitter les mathématiques pour la théologie : heureusement cette rigueur ne fut que passagère, on lui fit aisément entendre que son fils était né pour remplacer dans l’Europe Jean Bernoulli, et non pour être pasteur de Riechen. \\\\n\\tUn ouvrage que M. Euler fit à dix-neuf ans, sur la mâture des vaisseaux, sujet proposé par l’Académie des sciences, obtint un accessit en 1727 ; honneur d’autant plus grand, que le jeune habitant des Alpes n’avait pu être aidé par aucune connaissance pratique, et qu’il n’avait été vaincu que par M. Bouguer, géomètre habile, alors dans la force de son talent, et déjà depuis dix ans professeur d’hydrographie dans une ville maritime. \\\\n\\tM. Euler concourait en même temps pour une chaire dans l’université de Bâle ; mais c’est le sort qui prononce entre les savants admis à disputer ces places, et il ne fut pas favorable, nous ne disons point à M. Euler, mais à sa patrie, qui le perdit peu de jours après et pour toujours. Deux ans auparavant , Nicolas et Daniel Bernoulli avaient été appelés en Russie ; M. Euler, qui les vit partir avec regret, obtint d’eux la promesse de chercher à lui procurer le même honneur qu’il ambitionnait de partager ; et il ne faut pas en être surpris. La splendeur de la capitale d’un grand empire, cet éclat qui, se répandant sur les travaux dont elle est le théâtre et sur les hommes qui l’habitent, semble ajouter à leur gloire, peut aisément séduire la jeunesse, et frapper le citoyen libre, mais obscur et pauvre, d’une petite république. MM. Bernoulli furent fidèles à leur parole, et se donnèrent, pour avoir auprès d’eux un concurrent si redoutable, autant de soins que des hommes ordinaires en auraient pu prendre pour écarter leurs rivaux. \\\\n\\tLe voyage de M. Euler fut entrepris sous de tristes auspices ; il apprit bientôt que Nicolas Bernoulli avait déjà été victime de la rigueur du climat ; et le jour même où il entra sur les terres de l’empire russe, fut celui de la mort de Catherine Iere, évènement qui parut d’abord menacer d’une dissolution prochaine l’académie dont cette princesse, fidèle aux vues de son époux, venait d’achever la fondation. M. Euler, éloigné de sa patrie, n’ayant point, comme M. Daniel Bernoulli, à y rapporter un nom célèbre et respecté, prit la résolution d’entrer dans la marine russe. Un des amiraux de Pierre Ier lui avait déjà promis une place, lorsque, heureusement pour la géométrie, l’orage élevé contre les sciences se dissipa ; M. Euler obtint le titre de professeur, succéda, en 1733, à M. Daniel Bernoulli, lorsque cet homme illustre se retira dans son pays ; et la même année il épousa mademoiselle Gsell, sa compatriote, fille d’un peintre que Pierre Ier avait ramené en Russie, au retour de son premier voyage Dès lors, pour nous servir de l’expression de Bacon, M. Euler sentit qu'il avait donné des otages à la fortune, et que le pays où il pouvait espérer de former un établissement pour sa famille était devenu pour lui une patrie nécessaire. Né chez une nation où tous les gouvernements conservent au moins l’apparence et le langage des constitutions républicaines, où, malgré des distinctions plus réelles que celles qui séparent les premiers esclaves d’un despote du dernier de ses sujets, on a soigneusement, gardé toutes les formes de l’égalité ; où le respect qu’on doit aux lois s’étend jusqu’aux usages les plus indifférents, pourvu que l’antiquité ou l’opinion vulgaire les ait consacrés ; M. Euler se trouvait transporté dans un pays où le prince exerce une autorité sans bornes, où la loi la plus sacrée des gouvernements absolus, celle qui règle la succession à l’empire, était alors incertaine et méprisée ; où des chefs, esclaves du souverain, régnaient despotiquement sur un peuple esclave ; et c’était dans le moment où cet empire, gouverné par un étranger ambitieux, défiant et cruel, gémissait sous la tyrannie de Biren et offrait un spectacle aussi effrayant qu’instructif aux savants qui étaient venus chercher dans son sein la gloire, la fortune, et la liberté de goûter en paix les douceurs de l’étude. \\\\n\\tOn sent tout ce que dut éprouver l’âme de M. Euler , lié à ce séjour par une chaîne qu’il ne pouvait plus rompre : peut-être doit-on à cette circonstance de sa vie cette opiniâtreté pour le travail dont il prit alors l’habitude, et qui devint son unique ressource dans une capitale où l’on ne trouvait plus que des satellites, ou des ennemis du ministre, les uns occupés de flatter ses soupçons, les autres de s’y dérober. Cette impression fut si forte sur M. Euler, qu’il la conservait encore, lorsqu’en 1741, l’année d’après la chute de Biren dont la tyrannie fit place à un gouvernement plus modéré et plus humain, il quitta Pétersbourg pour se rendre à Berlin, où le roi de Prusse l’avait appelé. Il fut présenté à la reine mère : cette princesse se plaisait dans la conversation des hommes éclairés, et elle les accueillait avec cette familiarité noble qui annonce dans les princes les sentiments d’une grandeur personnelle, indépendante de leurs titres, et qui est devenue un des caractères de cette famille auguste. Cependant, la reine de Prusse ne put obtenir de M. Euler que des monosyllabes ; elle lui reprocha cette timidité, cet embarras qu’elle croyait ne pas mériter d’inspirer : Pourquoi ne voulez-vous donc pas me parler, lui dit-elle ; Madame, répondit-il, parce que je viens d’un pays où, quand on parle, on est perdu \\\\n\\tParvenu au moment de rendre compte des travaux immenses de M. Euler, j’ai senti l’impossibilité d’en suivre les détails, de faire connaître cette foule de découvertes, de méthodes nouvelles, de vues ingénieuses répandues dans plus de trente ouvrages publiés à part, et dans près de sept cents mémoires, dont environ deux cents, déposés à l’Académie de Pétersbourg, avant sa mort, sont destinés à enrichir successivement la collection qu’elle publie. \\\\n\\tMais un caractère particulier m’a semblé le distinguer des hommes illustres qui, en suivant la même carrière, ont obtenu une gloire que la sienne n’a pas éclipsée ; c’est d’avoir embrassé les sciences mathématiques dans leur universalité, d’en avoir successivement perfectionné les différentes parties, et, en les enrichissant toutes par des découvertes importantes, d’avoir produit une révolution utile dans la manière de les traiter. J’ai donc cru qu’en formant un tableau méthodique des différentes branches de ces sciences ; en marquant pour chacune les progrès, les changements heureux qu’elle doit au génie de M. Euler, j’aurais du moins, autant que mes forces me le permettent, donné une idée plus juste de cet homme célèbre qui, par la réunion de tant de qualités extraordinaires, a été pour ainsi dire un phénomène dont l’histoire des sciences ne nous avait encore offert aucun exemple. \\\\n\\tL’algèbre n’avait été pendant longtemps qu’une science très bornée ; cette manière de ne considérer l’idée de la grandeur que dans le dernier degré d’abstraction où l’esprit humain puisse atteindre; la rigueur avec laquelle on sépare de cette idée tout ce qui, en occupant l’imagination, pourrait donner quelque appui ou quelque repos à l’intelligence; enfin l’extrême généralité des signes que cette science emploie, la rendent, en quelque sorte, trop étrangère à notre nature, trop éloignée de nos conceptions communes, pour que l’esprit humain pût aisément s’y plaire et en acquérir facilement l’habitude. La marche même des méthodes algébriques rebutait encore les hommes les plus propres à ces méditations ; pour peu que l’objet qu’on poursuit soit compliqué, elles forcent de l’oublier totalement, pour ne songer qu’à leurs formules ; la route qu’on suit est assurée ; mais le but où l’on veut arriver, le point d’où l’on est parti, disparaissent également aux regards du géomètre ; et il a fallu longtemps du courage pour oser perdre la terre de vue, et s’exposer sur la foi d’une science nouvelle. Aussi, en jetant les yeux sur les ouvrages des grands géomètres du siècle dernier, de ceux même auxquels l’algèbre doit les découvertes les plus importantes, on verra combien peu ils étaient accoutumés à manier ce même instrument qu’ils ont tant perfectionné ; et l’on ne pourra s’empêcher de regarder comme l’ouvrage de M. Euler, la révolution qui a rendu l’analyse algébrique une méthode lumineuse, universelle, applicable à tout, et même facile. \\\\n\\tAprès avoir donné sur la forme des racines des équations algébriques, sur leur solution générale, sur l’élimination, plusieurs théories nouvelles, et des vues ingénieuses ou profondes, M. Euler porta ses recherches sur le calcul des quantités transcendantes. Leibniz et les deux Bernoulli se partagent la gloire d’avoir introduit dans l’analyse algébrique les fonctions exponentielles et logarithmiques. Cotes avait donné le moyen de représenter, par des sinus ou des cosinus, les racines de certaines équations algébriques. \\\\n\\tUn usage heureux de ces découvertes conduisit M. Euler à observer les rapports singuliers des quantités exponentielles et logarithmiques avec les transcendantes nées dans le cercle, et ensuite à trouver des méthodes au moyen desquelles, faisant disparaître de la solution des problèmes les termes imaginaires qui s’y seraient présentés et qui auraient embarrassé le calcul, quoiqu’on sût qu’ils dussent se détruire, et réduisant les formules à une expression plus simple et plus commode, il est parvenu à donner une forme entièrement nouvelle à la partie de l’analyse qui s’applique aux questions d’astronomie et de physique. Cette forme a été adoptée par tous les géomètres ; elle est devenue d’un usage commun, et elle a produit dans cette partie du calcul à peu près la même révolution que la découverte des logarithmes avait produite dans les calculs ordinaires. \\\\n\\tAinsi, à certaines époques, où, après de grands efforts, les sciences mathématiques semblent avoir épuisé toutes les ressources de l’esprit humain, et atteindre le terme marqué à leurs progrès, tout à coup une nouvelle méthode de calcul vient s’introduire dans ces sciences et leur donner une face nouvelle ; bientôt on les voit s’enrichir rapidement par la solution d’un grand nombre de problèmes importants dont les géomètres n’avaient osé s’occuper, rebutés par la difficulté, et pour ainsi dire par l’impossibilité physique de conduire leurs calculs jusqu’à un résultat réel. Peut-être la justice exigerait-elle de réserver, à celui qui a su introduire ces méthodes et les rendre usuelles, une portion dans la gloire de tous ceux qui les emploient avec succès ; mais du moins il a sur leur reconnaissance des droits qu’ils ne pourraient contester sans ingratitude. \\\\n\\tL’analyse des séries a occupé M. Euler dans presque toutes les époques de sa vie : c’est même une des parties de ses ouvrages où l’on voit briller le plus cette finesse, cette sagacité, cette variété de moyens et de ressources qui le caractérisent. \\\\n\\tLes fractions continues, inventées par le vicomte Brouncker, paraissaient presque oubliées des géomètres ; M. Euler en perfectionna la théorie, en multiplia les applications, et en fit sentir toute l’importance. \\\\n\\tSes recherches, presque absolument neuves sur les séries de produits indéfinis, offrent des ressources nécessaires à la solution d’un grand nombre de questions utiles ou curieuses ; et c’est surtout en imaginant ainsi de nouvelles formes de série, et en les employant non-seulement à des approximations dont on est si souvent forcé de se contenter, mais aussi à la découverte de vérités absolues et rigoureuses, que M. Euler a su agrandir cette branche de l’analyse aujourd’hui si vaste, et bornée avant lui à un petit nombre de méthodes et d’applications. \\\\n\\tLe calcul intégral, l’instrument le plus fécond de découvertes que jamais les hommes aient possédé, a changé de face depuis les ouvrages de M. Euler ; il a perfectionné, étendu, simplifié toutes les méthodes employées ou proposées avant lui : on lui doit la solution générale des équations linéaires, premier fondement de ces formules d’approximation si variées et si utiles. \\\\n\\tUne foule de méthodes particulières, fondées sur différents principes, sont répandues dans ses ouvrages et réunies dans son traité du calcul intégral : là on le voit, par un heureux usage des substitutions ou rappeler à une méthode connue des équations qui semblaient s’y refuser, ou réduire aux premières différentielles des équations d’ordres supérieurs ; tantôt, en considérant la forme des intégrales, il en déduit les conditions des équations différentielles auxquelles elles peuvent satisfaire ; et tantôt l’examen de la forme des facteurs, qui rendent une différentielle complète, le conduit à former des classes générales d’équations intégrales : quelquefois une propriété particulière qu’il remarque dans une équation, lui offre un moyen de séparer les indéterminées qui semblaient devoir y rester confondues ; ailleurs, si une équation où elles sont séparées se dérobe aux méthodes communes, c’est en mêlant ces indéterminées qu’il parvient à connaître l’intégrale. Au premier coup d’œil, le choix et la réussite de ces moyens peuvent sembler, en quelque sorte, appartenir au hasard ; cependant, un succès si fréquent et si sûr oblige de reconnaître une autre cause, et il n’est pas toujours impossible de suivre le fil délié qui a guidé le génie. Si, par exemple, on considère la forme des substitutions employées par M. Euler, on découvrira souvent ce qui a pu lui faire prévoir que cette opération produirait l’effet dont il avait besoin ; et si on examine la forme que dans une de ses plus belles méthodes, il suppose aux facteurs d’une équation du second ordre, on verra qu’il s’est arrêté à une de celles qui appartiennent particulièrement à cet ordre d’équations. A la vérité, cette suite d’idées qui dirige alors un analyste est moins une méthode dont il puisse développer la marche, qu’une sorte d’instinct particulier dont il serait difficile de rendre compte, et souvent il aime mieux ne pas faire l’histoire de ses pensées, que de s’exposer au soupçon d’en avoir donné un roman ingénieux, et fait après coup. \\\\n\\tM. Euler a observé que les équations différentielles sont susceptibles de solutions particulières qui ne sont pas comprises dans la solution générale. M. Clairaut a fait aussi la même remarque : mais M. Euler a montré depuis pourquoi ces intégrales particulières étaient exclues de la solution générale ; et il est le premier qui se soit occupé de cette théorie, perfectionnée depuis par plusieurs géomètres célèbres, et dans laquelle le mémoire de M. de La Grange, sur la nature de ces intégrales et leur usage dans la solution des problèmes, n’a plus rien laissé à désirer. \\\\n\\tNous citerons encore une partie de ce calcul qui appartient presque en entier à M. Euler ; c’est celle où l’on cherche des intégrales particulières pour une certaine valeur déterminée des inconnues que renferme l’équation ; cette théorie est d’autant plus importante, que souvent l’intégrale générale se dérobe absolument à nos recherches, et que dans les problèmes où une valeur approchée de l’intégrale ne suffit pas aux vues qu’on se propose, la connaissance de ces intégrales particulières peut suppléer à ce défaut. \\\\n\\tEn effet, on connaît alors, du moins pour certains points, la valeur rigoureuse ; et cette connaissance, unie à celle d’une valeur générale approchée, doit suffire à presque tous les besoins de l’analyse. \\\\n\\tPersonne n’a fait un usage plus étendu et plus heureux des méthodes qui donnent la valeur de plus en plus approchée d’une quantité déterminée par des équations différentielles, et dont on a déjà une première valeur ; et il s’est également occupé de donner un moyen direct de déduire immédiatement de l’équation même une valeur assez voisine de la vraie, pour que les puissances élevées de leur différence puissent être négligées ; moyen sans lequel les méthodes d’approximation en usage parmi les géomètres ne pourraient s’étendre aux équations pour lesquelles les observations ou des considérations particulières ne donnent pas cette première valeur dont ces méthodes supposent la connaissance. \\\\n\\tCe que nous avons dit suffit pour montrer jusqu’à quel point M. Euler avait approfondi la nature des équations différentielles, la source des difficultés qui s’opposent à l’intégration, et la manière de les éluder ou de les vaincre ; son grand ouvrage sur cet objet est non seulement un recueil précieux de méthodes neuves et étendues, c’est encore une mine féconde de découvertes, que tout homme, né avec quelque talent, ne peut parcourir sans en rapporter de riches dépouilles. L’on peut dire de cette partie des travaux de M. Euler, comme de beaucoup d’autres, que les méthodes qu’elle renferme serviront longtemps après lui, à résoudre des questions importantes et difficiles, et que ses ouvrages produiront encore et plus d’une découverte et plus d’une réputation. \\\\n\\tLe calcul aux différences finies n’était presque connu que par l’ouvrage obscur, mais plein de sagacité, de Taylor : M. Euler en fit une branche importante du calcul intégral, lui donna une notation simple et commode, et sut l’appliquer avec succès à la recherche de leurs sommes, ou de l’expression de leurs termes généraux, à celle de la racine des équations déterminées, à la manière d’avoir, par un calcul facile, la valeur approchée des produits, ou des sommes indéfinies de certains nombres \\\\n\\tC’est à M. D’Alembert qu’appartient réellement la découverte du calcul aux différences partielles, puisque c’est à lui qu’est due la connaissance de la forme générale de leurs intégrales ; mais, dans les premiers ouvrages de M. D’Alembert, on voyait plus le résultat du calcul que le calcul lui-même ; c’est à M. Euler que l’on en doit la notation ; il a su se le rendre propre, en quelque manière, par la profonde théorie qui l’a conduit à résoudre un grand nombre de ces équations, à distinguer les formes des intégrales pour les différents ordres et pour les différents nombres de variables, à réduire ces équations, lorsqu’elles ont certaines formes, à des intégrations ordinaires ; à donner les moyens de rappeler à ces formes, par d’heureuses substitutions, celles qui s’en éloignent ; en un mot, en découvrant, dans la nature des équations aux différences partielles, plusieurs de ces propriétés singulières qui en rendent la théorie générale si difficile et si piquante, qualités presque inséparables en géométrie, où le degré de la difficulté est si souvent la mesure de l’intérêt qu’on prend à une question, de l’honneur qu’on attache à une découverte. L’influence d’une vérité nouvelle sur la science même, ou sur quelque application importante, est le seul avantage qui puisse balancer ce mérite de la difficulté vaincue, chez des hommes pour qui le plaisir d’apercevoir une vérité est toujours proportionné aux efforts qu’elle leur a coûtés. \\\\n\\tM. Euler n’avait négligé aucune partie de l’analyse : il a démontré quelques-uns des théorèmes de Fermat, sur l’analyse indéterminée, et en a trouvé plusieurs autres non moins curieux, non moins difficiles à découvrir. La marche du cavalier au jeu d’échecs, et différents autres problèmes de situation, ont aussi piqué sa curiosité et exercé son génie : il mêlait aux recherches les plus importantes ces amusements, souvent plus difficiles, mais presque inutiles et aux progrès mêmes de la science et aux applications tentées jusqu’ici. M. Euler avait un esprit trop sage pour ne pas sentir l’inconvénient de se livrer longtemps à ces recherches purement curieuses, mais trop étendu en même temps pour ne pas voir que leur inutilité ne devait être que momentanée, et que le seul moyen de la faire cesser était de chercher à les approfondir et à les généraliser. \\\\n\\tL’application de l’algèbre à la géométrie avait occupé, depuis Descartes, presque tous les géomètres du dernier siècle ; mais M. Euler a prouvé qu’ils n’avaient pas, à beaucoup près, tout épuisé. On lui doit de nouvelles recherches sur le nombre des points qui déterminent une ligne courbe dont le degré est connu, et sur celui des intersections des lignes de différents degrés ; on lui doit également l’équation générale des courbes, dont les développées, les secondes, les troisièmes développées, en un mot les développées d’un ordre quelconque, sont semblables à la courbe génératrice ; équation remarquable par son extrême simplicité. \\\\n\\tLa théorie générale des surfaces courbes était peu connue, et M. Euler est le premier qui l’ait développée dans un ouvrage élémentaire : il y ajouta celle des rayons osculateurs de ces surfaces ; et il parvint à cette conclusion singulière, que la courbure d’un élément de surface est déterminée par deux des rayons osculateurs des courbes formées par l’intersection de la surface et d’un plan qui passe par la perpendiculaire au point donné ; que ces rayons sont le plus grand et le plus petit de tous ceux qui appartiennent à la suite des courbes ainsi formées, et qu’enfin ils se trouvent toujours dans des plans perpendiculaires l’un à l’autre. \\\\n\\tIl donna de plus une méthode pour déterminer les surfaces qui peuvent être développées sur un plan, et une théorie des projections géographiques de la sphère. Ces deux ouvrages renferment une application de calcul des différences partielles à des problèmes géométriques ; application qui peut s’étendre à beaucoup de questions intéressantes, et dont la première idée est due à M. Euler. \\\\n\\tSes recherches sur les courbes qui, tracées sur une sphère, sont rectifiables algébriquement, et sur les surfaces courbes, dont les parties correspondantes à des parties d’un plan donné, sont égales entre elles l’ont conduit à une nouvelle espèce d’analyse, à laquelle il donne le nom d’analyse infinitésimale indéterminée, parce que, comme l’analyse indéterminée ordinaire, les quantités qui restent arbitraires sont assujetties à certaines conditions ; et de même que l’analyse indéterminée a pu servir quelquefois à la perfection de l’algèbre, M. Euler regardait sa nouvelle analyse comme une science qui devait un jour être utile aux progrès du calcul intégral. \\\\n\\tEn effet, ces questions particulières, qui ne tiennent pas au corps méthodique des sciences mathématiques, qui n’entrent point dans les applications qu’on peut en faire, ne doivent pas être regardées seulement comme des moyens d’exercer les forces ou de faire briller le génie des géomètres ; presque toujours, dans les sciences, on commence par cultiver séparément quelques parties isolées ; à mesure que les découvertes successives se multiplient, les liaisons qui unissent ces parties se laissent successivement apercevoir ; et le plus souvent c’est aux lu mières qui résultent de cette réunion que sont dues les grandes découvertes qui sont époque dans l’histoire de l’esprit humain. \\\\n\\tLa question de déterminer les courbes ou les surfaces pour lesquelles certaines fonctions indéfinies sont plus grandes ou plus petites que pour toutes les autres, avait exercé les géomètres les plus illus tres du siècle dernier. Les solutions des problèmes du solide de la moindre résistance, de la courbe de plus vite descente, de la plus grande des aires isopérimètres avaient été célèbres en Europe. La méthode générale de résoudre le problème était cachée dans ces solutions, et surtout dans celle que Jacques Bernoulli avait trouvée pour la question des isopérimètres, et qui lui avait donné sur son frère un avantage que tant de chefs-d’œuvre, enfantés depuis par Jean Bernoulli, n’ont pu faire oublier. Mais il fallait développer cette méthode, il fallait la réduire en formules générales ; et c’est ce que fit M. Euler, dans un ouvrage imprimé en 1744, et l’un des plus beaux monuments de son génie. Pour trouver ces formules, il avait été obligé d’employer la considération des lignes courbes ; quinze ans après un jeune géomètre (M. de La Grange), qui dans ses premiers essais annonçait un digne successeur d’Euler, résolut le même problème par une méthode purement analytique : M. Euler admira le premier ce nouvel effort de l’art du calcul, s’occupa lui-même d’exposer la nouvelle méthode, d’en présenter les principes, et d’en donner le développement avec cette clarté, cette élégance qui brillent dans tous ses ouvrages ; jamais le génie ne reçut et ne rendit un plus bel hommage et jamais il ne se montra plus supérieur à ces petites passions que le partage d’un peu de gloire rend si actives et si violentes dans les hommes ordinaires. Nous terminerons cet exposé des travaux de M. Euler sur l’analyse pure, en observant qu’il serait injuste de borner son influence sur les progrès des mathématiques, aux découvertes sans nombre dont ses ouvrages sont remplis. Ces communications qu'il a ouvertes entre toutes les parties d’une science si vaste ; ces vues générales, que souvent même il n’indique pas, mais qui n’échappent point à un esprit attentif ; ces routes dont il s’est contenté d’ouvrir l’entrée, et d’aplanir les premiers obstacles, sont encore autant de bienfaits dont les sciences s’enrichiront, et dont la postérité jouira, en oubliant peut-être la main dont elle les aura reçus. \\\\n\\tLe traité de mécanique que M. Euler donna en 1736, est le premier grand ouvrage où l’analyse ait été appliquée à la science du mouvement. Le nombre des choses neuves ou présentées d’une manière nouvelle, qui entrent dans ce traité, eût étonné les géomètres, si M. Euler n’en eût déjà publié séparément la plus grande partie. \\\\n\\tDans ses nombreux travaux sur la même science, il fut toujours fidèle à l’analyse ; et l’usage heureux qu’il en a fait a mérité à cette méthode la préférence qu’elle a enfin obtenue sur toutes les autres La solution du problème où l’on cherche le mouvement d’un corps lancé dans l’espace et attiré vers deux points fixes, est devenue célèbre par l’art avec lequel des substitutions dont M. Euler savait si bien prévoir la forme, l’ont conduit à réduire aux quadratures, des équations que leur complication et leur forme pouvaient faire regarder comme insolubles. Il appliqua l’analyse au mouvement d’un corps solide d’une figure donnée et elle le conduisit à ce beau théorème déjà donné par segner, qu’un corps d’une figure quelconque peut tourner librement, d’un mouvement uniforme, autour de trois axes perpendiculaires entre eux, à la connaissance de plusieurs propriétés singulières de ces trois axes principaux, et enfin aux équations générales du mouvement d’un corps, quelles que soient sa figure et la loi des forces accélératrices qui agissent sur ses éléments et sur quelques-unes de ses parties. \\\\n\\tLe problème des cordes vibrantes, et tous ceux qui appartiennent à la théorie du son ou des lois des oscillations de l’air, ont été soumis à l’analyse par les nouvelles méthodes dont il enrichit le calcul des différences partielles. Une théorie du mouvement des fluides, appuyée sur ce même calcul, étonna par la clarté qu’il a répandue sur des questions si épineuses, et la facilité qu'il a su donner à des méthodes fondées sur une analyse si profonde. \\\\n\\tTous les problèmes de l’astronomie physique, qui ont été traités dans ce siècle, ont été résolus par des méthodes analytiques particulières à M. Euler. Son calcul des perturbations de l’orbite terrestre, surtout sa théorie de la lune, sont des modèles de la simplicité et de la précision auxquelles on peut porter ces méthodes ; et en lisant ce dernier ouvrage on n’est pas moins étonné de voir jusqu’où un homme d’un grand génie, animé du désir de ne rien laisser à faire sur une question importante, peut pousser la patience et l’opiniâtreté du travail. \\\\n\\tL’astronomie n’employait que des méthodes géométriques ; M. Euler sentit tout ce qu’elle pouvait espérer des secours de l’analyse, et il le prouva par des exemples qui, imités depuis par plusieurs savants célèbres, pourront un jour faire prendre à cette science une forme nouvelle. \\\\n\\tIl embrassa la science navale dans un grand ouvrage auquel une savante analyse sert de base, et où les questions les plus difficiles sont soumises à ces méthodes générales et fécondes qu’il savait si bien créer et employer : longtemps après, il publia, sur la même matière, un abrégé élémentaire de ce même traité, où il renferme, sous la forme la plus simple, ce qui peut être utile à la pratique, et ce que doivent savoir ceux qui se consacrent au service de mer. Cet ouvrage, quoique destiné par l’auteur aux seules écoles de l’empire de Russie, lui mérita une gratification du roi, qui jugea que des travaux utiles à tous les hommes avaient des droits à la reconnaissance de tous les souverains, et voulut montrer que même aux extrémités de l’Europe, des talents si rares ne pouvaient échapper ni à ses regards ni à ses bienfaits. M. Euler fut sensible à cette marque de l’estime d’un roi puissant, et elle reçut un nouveau prix à ses yeux de la main qui la lui transmit : c’était celle de M. Turgot, ministre respecté dans l’Europe, par ses lumières comme par ses vertus fait pour commander à l’opinion plutôt que pour lui obéir et dont le suffrage, toujours dicté par la vérité, et jamais par le désir d’attirer sur lui même l’approbation publique, pouvait flatter un sage trop accoutumé à la gloire pour être encore sensible au bruit de sa renommée. Dans les hommes d’un génie supérieur, l’extrême simplicité de caractère peut s’allier avec les qualités de l’esprit qui semblent le plus annoncer de l’habileté ou de la finesse ; aussi M. Euler, malgré cette simplicité qui ne ce démentit jamais, savait cependant distinguer, avec une sagacité toujours indulgente il est vrai, les hommages d’une admiration éclairée, et ceux que la vanité prodigue aux grands hommes pour s’assurer du moins le mérite de l’enthousiasme. \\\\n\\tSes travaux sur la dioptrique sont fondés sur une analyse moins profonde, et on est tenté de lui en savoir gré, comme d’une espèce de sacrifice. Les différents rayons dont un rayon solaire est formé subissent dans le même milieu des réfractions différent rentes ; séparés ainsi des rayons voisins, ils paraissent seuls, ou moins mélangés, et donnent la sensation de couleur qui leur est propre : cette réfrangibilité varie dans les différents milieux pour chaque rayon, et suivant une loi qui n’est pas la même que celle de la réfraction moyenne dans ces milieux : cette observation donnait lieu de croire que deux prismes inégaux et de différentes matières, combinés ensemble, pourraient détourner un rayon de sa route sans le décomposer, ou plutôt en replaçant, par une triple réfraction, les rayons élémentaires dans une direction parallèle. \\\\n\\tDe la vérité de cette conjecture pouvait dépendre, dans les lunettes, la destruction des iris qui colorent les objets vus à travers les verres lenticulaires : M. Euler était convaincu de la possibilité du succès, d’après cette idée métaphysique, que si l’œil a été composé de diverses humeurs, c’est uniquement dans l’intention de détruire les effets de l’aberration de réfrangibilité, il ne s’agissait donc que de chercher à imiter l’opération de la nature, et il en proposa les moyens, d’après une théorie qu’il s’était formée. Ses premiers essais excitèrent les physiciens à s’occuper d’un objet qu’ils paraissaient avoir négligé ; leurs expériences ne s’accordèrent point avec la théorie de M. Euler, mais elles confirmèrent les vues qu'il avait eues sur la perfection des lunettes. Instruit alors par eux des lois de la dispersion dans les différents milieux, il abandonna ses premières idées, soumit au calcul les résultats de leurs expériences, et enrichit la dioptrique de formules analytiques, simples, commodes, générales, applicables à tous les instruments qu’on peut construire. \\\\n\\tOn a encore de M. Euler quelques essais sur la théorie générale de la lumière, dont il cherchait à concilier les phénomènes avec les lois des oscillations d’un fluide, parce que l’hypothèse de l’émission des rayons en ligne droite lui paraissait présenter des difficultés insurmontables. \\\\n\\tLa théorie de l’aimant, celle de la propagation du feu, les lois de la cohésion des corps et celles des frottements, devinrent aussi pour lui l’occasion de savants calculs, appuyés malheureusement sur des hypothèses plutôt que sur des expériences. \\\\n\\tLe calcul des probabilités, l’arithmétique politique, furent encore l’objet de ses infatigables travaux ; nous ne citerons ici que ses recherches sur les tables de mortalité, et sur les moyens de les déduire des phénomènes avec plus d’exactitude ; sa méthode de prendre un milieu entre des observations ; ses calculs sur l’établissement d’une caisse d’emprunt, dont le but est d’assurer aux veuves, aux enfants, ou une somme fixe ou une rente payable après la mort d’un mari ou d’un père ; moyen ingénieux, imaginé par des géomètres philosophes, pour contre-balancer le mal moral qui résulte de l’établissement des rentes viagères, et pour rendre utiles aux familles les plus petites épargnes que leur chef peut faire sur son gain journalier, ou sur les appointements, soit d’une commission, soit d’une place. \\\\n\\tOn a vu, dans l’éloge de M. Daniel Bernoulli, qu’il avait partagé avec M. Euler seul la gloire d’avoir remporté treize prix à l’Académie des sciences ; souvent ils travaillèrent pour les mêmes sujets, et l’honneur de l’emporter sur son concurrent fut encore partagé entre eux, sans que jamais cette rivalité ait suspendu les témoignages réciproques de leur estime, ou refroidi le sentiment de leur amitié. En examinant les sujets sur lesquels l’un et l’autre ont obtenu la victoire, on voit que le succès a dépendu surtout du caractère de leur talent : lorsque la question exigeait de l’adresse dans la manière de l’envisager, un usage lieureux de l’expérience, ou des vues de physique ingénieuses et neuves, l’avantage était pour M. Daniel Bernoulli ; n’offrait-elle à vaincre que de grandes difficultés de calcul, fallait-il créer de nouvelles méthodes d’analyse, c’était M. Euler qui l’emportait : et si l’on pouvait avoir la témérité de vouloir juger entre eux, ce ne serait pas entre deux hommes qu’on aurait à prononcer, ce serait entre deux genres d’esprit, entre deux manières d’employer le génie. \\\\n\\tNous n’aurions donné qu’une idée très imparfaite de la fécondité de M. Euler, si nous n’ajoutions, à cette faible esquisse de ses travaux, qu’il est peu de sujets importants pour lesquels il ne soit revenu sur ses traces, en refaisant même plusieurs fois son premier ouvrage : tantôt il substituait une méthode directe et analytique à une méthode indirecte ; tantôt il étendait sa première solution à des cas qui lui avaient d’abord échappé ; ajoutant presque toujours de nouveaux exemples qu’il savait choisir avec un art singulier, parmi ceux qui offraient ou quelque application utile ou quelque remarque curieuse. La seule intention de donner à son travail une forme plus méthodique, d’y répandre plus de clarté, d’y ajouter un nouveau degré de simplicité, suffisait pour le déterminer à des travaux immenses ; jamais géomètre n’a tant écrit, et jamais aucun n’a donné à ses ouvrages un tel degré de perfection. \\\\n\\tLorsqu’il publiait un mémoire sur un objet nouveau, il exposait avec simplicité la route qu'il avait parcourue, il en faisait observer les difficultés ou les détours ; et, après avoir fait suivre scrupuleusement à ses lecteurs la marche de son esprit dans ses premiers essais, il leur montrait ensuite comment il était parvenu à trouver une route plus simple : on voit qu’il préférait l’instruction de ses disciples à la petite satisfaction de les étonner, et qu’il croyait n’en pas faire assez pour la science, s’il n’ajoutait, aux vérités nouvelles dont il l’enrichissait, l’exposition naïve des idées qui l’y avaient conduit. \\\\n\\tCette méthode d’embrasser ainsi toutes les branches des mathématiques, d’avoir, pour ainsi dire toujours présentes à l’esprit toutes les questions et toutes les théories, était pour M. Euler une source de découvertes, fermée pour presque tous les autres, ouverte pour lui seul : ainsi, dans la suite de ses travaux, tantôt s’offrait à lui une méthode singulière d’intégrer les équations en les différenciant, tantôt une remarque sur une question d’analyse ou de mécanique le conduisait à la solution d’une équation différentielle très compliquée, qui échappait aux méthodes directes ; c’est quelquefois un problème en apparence très difficile, qu’il résout en un instant par une méthode très simple, ou un problème qui parait élémentaire, et dont la solution a des difficultés qu’il ne peut vaincre que par de grands efforts ; d’autres fois, des combinaisons de nombres singuliers, des séries d’une forme nouvelle lui présentent des questions piquantes par leur nouveauté, ou le mènent à des vérités inattendues. M. Euler avertissait alors avec soin que c’était au hasard qu’il devait les découvertes de ce genre ; ce n’était pas en diminuer le mérite, car on voyait aisément que ce hasard ne pourrait arriver qu’à un homme qui joindrait à une vaste étendue de connaissances la sagacité la plus rare. \\\\n\\tD’ailleurs, peut-être ne faudrait-il pas le louer de cette candeur, quand même elle lui aurait coûté un peu de sa gloire : les hommes d’un grand génie ont rarement ces petites ruses de l’amour propre, qui ne servent qu’à rapetisser aux yeux des juges éclairés ceux qu’elles agrandissent dans l’opinion de la multitude ; soit que l’homme de génie sente qu’il ne sera jamais plus grand qu’en se montrant tel qu’il est, soit que l’opinion n’ait pas sur lui cet empire qu’elle exerce avec tant de tyrannie sur les autres hommes. \\\\n\\tLorsqu’on lit la vie d’un grand homme, soit conviction de l’imperfection attachée à la faiblesse humaine, soit que la justice dont nous sommes capables ne puisse atteindre jusqu’à reconnaître dans nos semblables une supériorité dont rien ne nous console, soit enfin que l’idée de la perfection dans un autre nous blesse ou nous humilie encore plus que celle de la grandeur, il semble qu’on a besoin de trouver un endroit faible ; on cherche quelque défaut qui puisse nous relever à nos propres yeux, et l’on est involontairement porté à se défier de la sincérité de l’écrivain, s’il ne nous montre pas cet endroit faible, s’il ne soulève point le voile importun dont ces défauts sont couverts. \\\\n\\tM. Euler paraissait quelquefois ne s’occuper que du plaisir de calculer, et regarder le point de mécanique ou de physique qu’il examinait, seulement comme une occasion d’exercer son génie et de se livrer à sa passion dominante. Aussi les savants lui ont-ils reproché d’avoir quelquefois prodigué son calcul à des hypothèses physiques, ou même à des principes métaphysiques dont il n’avait pas assez examiné, ou la vraisemblance ou la solidité ; ils lui reprochaient aussi de s’être trop reposé sur les ressources du calcul, et d’avoir négligé celles que pouvait lui donner l’examen des questions mêmes qu’il se proposait de résoudre. Nous conviendrons que le premier reproche n’était pas sans fondement ; nous avouerons que M. Euler le métaphysicien, ou même le physicien, n’a pas été si grand que le géomètre, et l’on doit regretter sans doute que plusieurs parties de ses ouvrages, par exemple, de ceux qu'il a faits sur la science navale, sur l’artillerie, n’aient presque été utiles qu’aux progrès de la science du calcul : mais nous croyons que le second reproche est beaucoup moins mérité ; partout, dans les ouvrages de M. Euler, on le voit occupé d’ajouter aux richesses de l’analyse, d’en étendre et d’en multiplier les applications ; en même temps qu’elle parait son instrument unique, on voit qu’il a voulu en faire un instrument universel. Le progrès naturel des sciences mathématiques devait amener cette révolution; mais il l’a vue pour ainsi dire s’accomplir sous ses yeux ; c’est à son génie que nous la devons ; elle a été le prix de ses efforts et de ses découvertes. Ainsi, lors même qu’il paraissait abuser de l’analyse et en épuiser tous les secrets pour résoudre une question dont quelques réflexions étrangères au calcul lui eussent donné une solution simple et facile, souvent il ne cherchait qu’à montrer les forces et les ressources de son art ; et on doit lui pardonner si quelquefois, en paraissant s’occuper d’une autre science, c’était encore au progrès et à la propagation de l’analyse que ses travaux étaient consacrés, puisque la révolution qui en a été le fruit est un de ses premiers droits à la reconnaissance des hommes, et un de ses plus beaux titres à la gloire. \\\\n\\tJe n’ai pas cru devoir interrompre le détail des travaux de M. Euler par le récit des évènements très simples et très peu multipliés de sa vie. \\\\n\\tIl s’établit à Berlin en 1741, et y resta jusqu’en 1766. Madame la princesse d’Anhalt-Dessau, nièce du roi de Prusse, voulut recevoir de lui quelques leçons de physique ; ces leçons ont été publiées sous le nom de Lettres à une princesse d’Allemagne, ouvrage précieux par la clarté singulière avec laquelle il y a exposé les vérités les plus importantes de la mécanique, de l’astronomie physique, de l’optique et de la théorie des sons, et par des vues ingénieuses moins philosophiques, mais plus savantes que celles qui ont fait survivre la pluralité des mondes de Fontenelle au système des tourbillons. Le nom d’Euler, si grand dans les sciences, l’idée imposante que l’on se forme de ses ouvrages, destinés à développer ce que l’analyse a de plus épineux et de plus abstrait, donnent à ces lettres si simples, si faciles, un charme singulier : ceux qui n’ont pas étudié les mathématiques, étonnés, flattés peut-être de pouvoir entendre un ouvrage d’Euler, lui savent gré de s’être mis à leur portée ; et ces détails élémentaires des sciences acquièrent une sorte de grandeur par le rapprochement qu’on en a fait avec la gloire et le génie de l’homme illustre qui les a tracés. \\\\n\\tLe roi de Prusse employa M. Euler à des calculs sur les monnaies, à la conduite des eaux de sans souci, à l’examen de plusieurs canaux de navigation. Ce prince n’était pas né pour croire que de grands talents et des connaissances profondes fussent jamais des qualités superflues ou dangereuses, et le bonheur de pouvoir être utile, un avantage réservé par la nature à l’ignorance et à la médiocrité. \\\\n\\tEn 1750, M. Euler fit le voyage de Francfort pour y recevoir sa mère, veuve alors, et la ramener à Berlin ; il eut le bonheur de l’y conserver jusqu’en 1761. Pendant onze ans elle jouit de la gloire de son fils, comme le cœur d’une mère sait en jouir, et fut plus heureuse encore peut-être par ses soins tendres et assidus dont cette gloire augmentait le prix. \\\\n\\tCe fut pendant son séjour à Berlin, que M. Euler, lié par la reconnaissance à M. de Maupertuis, se crut obligé de défendre ce principe de la moindre action, sur lequel le président de l’Académie de Prusse avait fondé l’espérance d’une si grande renommée. Le moyen que choisit M. Euler ne pouvait guère être employé que par lui ; c’était de résoudre par ce principe quelques-uns des problèmes les plus difficiles de la mécanique : ainsi, dans les temps fabuleux, les dieux daignaient fabriquer, pour les guerriers qu’ils favorisaient, des armes impénétrables aux coups de leurs adversaires. \\\\n\\tNous désirerions que la reconnaissance de M. Euler se fût bornée à une protection si noble et si digne de lui ; mais on ne peut se dissimuler qu’il n’ait montré trop de dureté dans ses réponses à Kœnig ; et c’est avec douleur que nous sommes obligés de compter un grand homme parmi les ennemis d’un savant malheureux et persécuté. Heureusement toute la vie de M. Euler le met à l’abri d’un soupçon plus grave ; sans cette simplicité, cette indifférence pour la renommée, qu’il a montrées constamment, on aurait pu croire que les plaisanteries d’un illustre partisan de M. Kœnig (plaisanteries que M. de Voltaire lui-même a depuis condamnées à un juste oubli) avaient altéré le caractère du sage et paisible géomètre ; mais s’il fit alors une faute, c’est à l’excès seul de la reconnaissance qu’il faut l’attribuer ; et c’est par un sentiment respectable qu’il a été injuste une seule fois dans sa vie. \\\\n\\tLes Russes ayant pénétré dans la Marche du Brandebourg, en 1760, pillèrent une métairie que M. Euler avait auprès de Charlotembourg : mais le général Tottleben n’était pas venu faire la guerre aux sciences : instruit de la perte que M. Euler avait essuyée, il s’empressa de la réparer, en faisant payer le dommage à un prix fort au-dessus de la valeur réelle; et il rendit compte de ce manque d’égards involontaire à l’impératrice Élisabeth, qui ajouta un don de quatre mille florins à une indemnité déjà beaucoup plus que suffisante. Ce trait n’a point été connu en Europe, et nous citons avec enthousiasme quelques actions semblables que les anciens nous ont transmises : cette différence dans nos jugements n’est-elle pas une preuve de ces progrès heureux de l’espèce humaine, que quelques écrivains s’obstinent à nier encore, apparemment pour éviter qu’on ne les accuse d’en avoir été les complices ? \\\\n\\tLe gouvernement de Russie n’avait jamais traité M. Euler comme un étranger ; une partie de ses appointements lui fut toujours payée, malgré son absence ; et l’impératrice l’ayant appelé en 1766, il consentit à retourner à Pétersbourg \\\\n\\tEn 1735, les efforts que lui avait coûté un calcul astronomique, pour lequel les autres académiciens demandaient plusieurs mois, et qu'il acheva en peu de jours, lui avaient causé une maladie suivie de la perte d’un œil ; il avait lieu de craindre une cécité complète s’il s’exposait de nouveau dans un climat dont l’influence lui était contraire : l’intérêt de ses enfants l’emporta sur cette crainte ; et si on songe que l’étude était pour M. Euler une passion exclusive, on jugera sans doute que peu d’exemples d’amour paternel ont mieux prouvé qu’il est la plus puissante et la plus douce de nos affections. \\\\n\\tIl essuya, peu d’années après, le malheur qu’il avait prévu ; mais il conserva, heureusement pour lui et pour les sciences, la faculté de distinguer encore de grands caractères tracés sur une ardoise avec de la craie ; ses fils, ses élèves, copiaient ses calculs, écrivaient sous sa dictée le reste de ses mé moires ; et si on en juge par leur nombre, et souvent par le génie qu’on y retrouve, on pourrait croire que l’absence encore plus absolue de toute distraction, et la nouvelle énergie que ce recueillement forcé donnait à toutes ses facultés, lui ont fait plus gagner, que l'affaiblissement de sa vue n’a pu lui faire perdre de facilité et de moyens pour le travail. \\\\n\\tD’ailleurs, M. Euler, par la nature de son génie, par l’habitude de sa vie, s’était même involontairement préparé des ressources extraordinaires : en examinant ces grandes formules analytiques, si rares avant lui, si fréquentes dans ses ouvrages, dont la combinaison et le développement réunissent tant de simplicité et d’élégance, dont la forme même plait aux yeux comme à l’esprit, on voit qu’elles ne sont pas le fruit d’un calcul tracé sur le papier, et que produites tout entières dans sa tête, elles y ont été créées par une imagination également puissante et active. Il existe dans l’analyse (et M. Euler en a beaucoup multiplié le nombre), des formules d’une application commune et presque journalière ; il les avait toujours présentes à l’esprit, les savait par cœur, les récitait dans la conversation ; et M. D’Alembert, lorsqu’il le vit à Berlin, fut étonné d’un effort de mémoire qui supposait dans l’esprit de M. Euler tant de netteté et tant de vigueur à la fois. Enfin, sa facilité à calculer de tête était portée à un degré qu’on croirait à peine, si l’histoire de ses travaux n’avait accoutumé aux prodiges : on l’a vu, dans l’intention d’exercer son petit-fils aux extractions des racines, se former la table des six premières puissances de tous les nombres, depuis 1 jusqu’à 100, et la conserver exactement dans sa mémoire. \\\\n\\tDeux de ses disciples avaient calculé jusqu’au dix septième terme une série convergente assez compliquée ; leurs résultats, quoique formés d’après un calcul écrit, différaient d’une unité au cinquantième chiffre : ils firent part de cette dispute à leur maître ; M. Euler refit le calcul entier dans sa tête, et sa décision se trouva conforme à la vérité. \\\\n\\tDepuis la perte de sa vue, il n’avait d’autre amusement que de faire des aimants artificiels, et de donner des leçons de mathématiques à un de ses petits- fils, qui lui paraissait annoncer d’heureuses dispositions. \\\\n\\tIl allait encore quelquefois à l’Académie, principalement dans les circonstances difficiles, où il croyait que sa présence pouvait être utile pour y maintenir la liberté. On sent combien un président perpétuel, nommé par la cour, peut troubler le repos d’une académie, et tout ce qu’elle en doit craindre, lorsque, n’étant pas choisi dans la classe des savants, il ne se sent pas même arrêté par le besoin qu’a sa réputation du suffrage de ses confrères : comment des hommes, uniquement occupés de leurs paisibles travaux, et ne sachant parler que le langage des sciences, pourraient-ils alors se défendre, surtout si, étrangers, isolés, éloignés de leur patrie, ils tiennent tout du gouvernement auquel ils ont à demander justice contre le chef que ce gouvernement même leur a donné ; \\\\n\\tMais il est un degré de gloire où l’on se trouve au dessus de la crainte ; c’est lorsque l’Europe entière s’élèverait contre une injure personnelle faite à un grand homme, qu’il peut sans risque déployer contre l’injustice l’autorité de sa renommée, et élever en faveur des sciences une voix qu’on ne peut empêcher de se faire entendre : M. Euler, tout simple, tout modeste qu’il était, sentait ses forces, et les a plus d’une fois heureusement employées. \\\\n\\tEn 1771, la ville de Pétersbourg éprouva un incendie terrible ; les flammes gagnèrent la maison de M. Euler ; un Bâlois, M. Pierre Grimm (dont le nom mérite sans doute d’être conservé), apprend le danger de son illustre compatriote, aveugle et souffrant; il se précipite au travers des flammes, pénètre jus qu’à lui, le charge sur ses épaules et le sauve au péril de sa vie. La bibliothèque, les meubles de M. Euler furent consumés, mais les soins empressés du comte Orloff sauvèrent ses manuscrits ; et cette attention, au milieu du trouble et des horreurs de ce grand désastre, est un des hommages les plus vrais et les plus flatteurs que jamais l’autorité publique ait rendus au génie des sciences : la maison de M. Euler était un des bienfaits de l’impératrice, un nouveau bienfait en répara promptement la perte. \\\\n\\tIl a eu de sa première femme treize enfants, dont huit morts en bas âge ; ses trois fils lui ont survécu, et il eut le malheur de perdre ses deux filles dans la dernière année de sa vie ; de trente-huit petits enfants, vingt-six vivaient encore à l’époque de sa mort. \\\\n\\tEn 1776, il épousa en secondes noces Mlle Gsell, sœur de père de sa première femme ; il avait gardé toute la simplicité de mœurs dont la maison paternelle lui avait donné l’exemple ; tant qu’'il a conservé la vue, il rassemblait tous les soirs, pour la prière commune, ses petits enfants, ses domestiques et ceux de ses élèves qui logeaient chez lui ; il leur lisait un chapitre de la Bible, et quelquefois accompagnait cette lecture d’une exhortation. \\\\n\\tIl était très religieux ; on a de lui une preuve nouvelle de l’existence de Dieu et de la spiritualité de l’âme : cette dernière même a été adoptée dans plusieurs écoles de théologie. Il avait conservé scrupuleusement la religion de son pays, qui est le calvinisme rigide ; et il ne parait pas qu’à l’exemple de la plupart des savants protestants, il se soit permis d’adopter des opinions particulières, et de se former un système de religion. \\\\n\\tSon érudition était très étendue, surtout dans l’histoire des mathématiques ; on a prétendu qu’il avait porté sa curiosité jusqu’à s’instruire des procédés et des règles de l’astrologie, et que même il en avait fait quelques applications ; cependant, lors qu’en 1740 on lui donna ordre de faire l’horoscope du prince Yvan, il représenta que cette fonction appartenait à M. Kraaff, qui, en qualité d’astronome de la cour, fut obligé de la remplir. Cette crédulité, qu’on est étonné de trouver à cette époque dans la cour de Russie, était générale un siècle auparavant dans toutes les cours de l’Europe ; celles de l’Asie n’en ont pas encore secoué le joug ; et il faut avouer que si on en excepte les maximes communes de la morale, il n’y a jusqu’ici aucune vérité qui puisse se glorifier d’avoir été adoptée aussi généralement et aussi longtemps que beaucoup d’erreurs, ou ridicules ou funestes. \\\\n\\tM. Euler avait étudié presque toutes les branches de la physique, l’anatomie, la chimie, la botanique ; mais sa supériorité dans les mathématiques ne lui permettait pas d’attacher la plus petite importance à ses connaissances dans les autres genres, quoique assez étendues pour qu’un homme plus susceptible des petitesses de l’amour propre eût pu aspirer à une sorte d’universalité. \\\\n\\tL’étude de la littérature ancienne et des langues savantes avait fait partie de son éducation ; il en conserva le goût toute sa vie, et n’oublia rien de ce qu'il avait appris ; mais il n’eut jamais ni le temps ni le désir d’ajouter à ses premières études : il n’avait pas lu les poètes modernes, et savait par cœur l’Énéide. Cependant M. Euler ne perdait pas de vue les mathématiques, même lorsqu’il récitait les vers de Virgile ; tout était propre à lui rappeler cet objet presque unique de ses pensées ; et on trouve dans ses ouvrages un savant mémoire sur une question de mécanique, dont il racontait qu’un vers de l’Énéide lui avait donné la première idée. \\\\n\\tOn a dit que, pour les hommes d’un grand talent, le plaisir du travail en était une récompense plus douce encore que la gloire ; si cette vérité avait besoin d’être prouvée par des exemples, celui de M. Euler ne permettrait plus d’en douter. \\\\n\\tJamais, dans ses savantes discussions avec de célèbres géomètres, il n’a laissé échapper un seul trait qui pût faire soupçonner qu’il se soit occupé des intérêts de son amour propre. Jamais il n’a réclamé aucune de ses découvertes ; et si on revendiquait quelque chose dans ses ouvrages, il s’empressait de réparer une injustice involontaire sans même trop examiner si l’équité rigoureuse exigeait de lui un abandon absolu. Y avait-on relevé quelque erreur ; si le reproche était mal fondé, il l’oubliait ; s’il était juste, il se corrigeait, et ne songeait même pas à observer que souvent le mérite de ceux qui se vantaient d’avoir aperçu ses fautes, consistait dans une application facile des méthodes que lui-même leur avait enseignées, à des théories dont il avait aplani d’avance les plus grandes difficultés. \\\\n\\tPresque toujours les hommes médiocres cherchent à se faire valoir par une sévérité proportionnée à la haute idée qu’ils veulent donner de leur jugement ou de leur génie ; inexorables pour tout ce qui s’élève au-dessus d’eux, ils ne pardonnent même pas à l’infériorité : on dirait qu’un sentiment secret les avertit du besoin qu’ils ont de rabaisser les autres. Au contraire, le premier mouvement de M. Euler le portait à célébrer les talents dès l’instant où quelques essais heureux frappaient ses regards, et sans attendre que l’opinion publique eût sollicité son suffrage. \\\\n\\tOn le voit employer son temps à refaire, à éclaircir ses ouvrages, et même à résoudre des problèmes déjà résolus, qui ne lui laissaient plus que le mérite de plus d’élégance et de méthode, avec la même ardeur, la même constance qu’il eût mises à poursuivre une vérité nouvelle dont la découverte aurait ajouté à sa renommée. D’ailleurs, si le désir ardent de la gloire eût existé au fond de son cœur la franchise de son caractère ne lui eût pas permis d’en cacher les mouvements. Mais cette gloire dont il s’occupait si peu vint le chercher. La fécondité singulière de son génie frappait même ceux qui n’étaient pas en état d’entendre ses ouvrages. Quoique uniquement livré à la géométrie, sa réputation s’étendit parmi les hommes les plus étrangers à cette science ; et il fut pour l’Europe entière non seulement un grand géomètre, mais un grand homme. Il est d’usage en Russie, d’accorder des titres militaires à des hommes très étrangers au service ; c’est rendre hommage au préjugé qui faisait regarder cet état comme la seule procession noble, et avouer en même temps qu’on en reconnaît toute la fausseté : quelques savants ont obtenu jusqu’au grade de général-major ; M. Euler n’en eut et n’en voulait avoir aucun : mais quel titre pouvait honorer le nom d’Euler ? Et alors le respect pour la conservation des droits naturels de l’homme impose, en quelque sorte, le devoir de donner l’exemple d’une sage indifférence pour ces hochets de la vanité humaine, si puérils, mais si dangereux. \\\\n\\tLa plupart des princes du Nord, dont il était personnellement connu, lui ont donné des marques de leur estime, ou plutôt de la vénération qu’on ne pouvait refuser à la réunion d’une vertu si simple et d’un génie si vaste et si élevé. Dans le voyage que le prince royal de Prusse fit à Pétersbourg, il prévint la visite de M. Euler, et passa quelques heures à côté du lit de cet illustre vieillard, ayant ses mains dans les siennes, et tenant sur ses genoux un petit-fils d’Euler, que ses dispositions précoces pour la géométrie avaient rendu l’objet particulier de sa tendresse paternelle. \\\\n\\tTous les mathématiciens célèbres qui existent aujourd’hui sont ses élèves : il n’en est aucun qui ne se soit formé par la lecture de ses ouvrages ; qui n’ait reçu de lui les formules, la méthode qu’il emploie ; qui, dans ses découvertes, ne soit guidé et soutenu par le génie d’Euler. Il doit cet honneur à la révolution qu'il a produite dans les sciences mathématiques, en les soumettant toutes à l’analyse ; à sa force pour le travail, qui lui a permis d’embrasser toute l’étendue de ces sciences ; à l’ordre qu'il a su mettre dans ses grands ouvrages ; à la simplicité, à l’élégance de ses formules ; à la clarté de ses méthodes et de ses démonstrations, qu’augmentent encore la multiplicité et le choix de ses exemples. Ni Newton, ni Descartes même, dont l’influence a été si puissante, n’ont obtenu cette gloire, et jus qu’ici, seul entre les géomètres, M. Euler l’a possédée tout entière et sans partage. Mais, comme professeur il a formé des élèves qui lui appartiennent plus particulièrement, et parmi lesquels nous citerons son fils aîné, que l’Académie des sciences a choisi pour le remplacer, sans craindre que cette succession honorable accordée au nom d’Euler, comme à celui de Bernoulli, pût devenir un exemple dangereux ; un second fils, livré aujourd’hui à l’étude de la médecine, mais qui, dans sa jeunesse, a remporté dans cette académie un prix sur les altérations du moyen mouvement des planètes ; M. Lexell, qu’une mort prématurée vient d’enlever aux sciences ; enfin, M. Fuss, le plus jeune de ses disciples, le compagnon de ses derniers travaux, qui, envoyé de Bâle à M. Euler, par M. Daniel Bernoulli, s’est montré digne, par ses ouvrages, du choix de Bernoulli et des leçons d’Euler ; et qui, après avoir rendu dans l’Académie de Pétersbourg un hommage public à son illustre maître, vient de s’unir à sa petite-fille. \\\\n\\tDe seize professeurs attachés à l’Académie de Pétersbourg, huit avaient été formés par lui ; et tous, connus par leurs ouvrages, et décorés de titres académiques, se glorifiaient de pouvoir y ajouter celui de disciples d’Euler. \\\\n\\tIl avait conservé toute sa facilité, et en apparence toutes ses forces ; aucun changement n’annonçait que les sciences fussent menacées de le perdre. Le 7 septembre 1783, après s’être amusé à calculer sur une ardoise les lois du mouvement ascensionnel des machines aérostatiques, dont la découverte récente occupait alors toute l’Europe, il dîna avec M. Lexell et sa famille, parla de la planète d’Herschell, et des calculs qui en déterminent l’orbite ; peu de temps après, il fit venir son petit-fils, avec lequel il badinait en prenant quelques tasses de thé, lorsque tout à coup la pipe qu’il tenait à la main lui échappa, et il cessa de calculer et de vivre. \\\\n\\tTelle fut la fin d’un des hommes les plus grands, les plus extraordinaires que la nature ait jamais produits ; dont le génie fut également capable des plus grands efforts et du travail le plus continu ; qui multiplia ses productions au-delà de ce qu’on eût osé attendre des forces humaines, et qui cependant fut original dans chacune ; dont la tête fut toujours occupée et l’âme toujours calme ; qui enfin, par une destinée malheureusement trop rare réunit et mérita de réunir un bonheur presque sans nuage à une gloire qui ne fut jamais contestée. \\\\n\\tSa mort a été regardée comme une perte publique, même dans le pays qu’il habitait : l’Académie de Pétersbourg a porté solennellement son deuil, et lui a décerné à ses frais un buste de marbre qui doit être placé dans ses salles d’assemblées ; elle lui avait déjà rendu, pendant sa vie, un honneur plus singulier. Dans un tableau allégorique, la géométrie s’appuie sur une planche chargée de calculs, et ce sont les formules de sa nouvelle théorie de la lune que l’académie a ordonné d’y inscrire. Ainsi, un pays, qu’au commencement de ce siècle nous regardions encore comme barbare, apprend aux nations les plus éclairées de l’Europe à honorer la vic des grands hommes et leur mémoire récente : il donne à ces nations un exemple que plusieurs d’entre elles auraient à rougir, peut-être, de n’avoir su ni prévenir ni même imiter. \\n\"]"
      ]
     },
     "execution_count": 54,
     "metadata": {},
     "output_type": "execute_result"
    }
   ],
   "source": [
    "lines[0:5]"
   ]
  },
  {
   "cell_type": "code",
   "execution_count": 56,
   "id": "ancient-coach",
   "metadata": {},
   "outputs": [],
   "source": [
    "#Merging everything in one line to make it easier for processing\n",
    "all_lines = ''\n",
    "\n",
    "for l in lines :\n",
    "    #Remove beginning and ending spaces\n",
    "    l = l.strip()\n",
    "    #if it is the beginning of a eulogy we add a tag '======' to split later on\n",
    "    if l.startswith('<savant>'):\n",
    "        l = '======' + l\n",
    "    all_lines = all_lines + \" \" + l"
   ]
  },
  {
   "cell_type": "code",
   "execution_count": 57,
   "id": "continuing-stone",
   "metadata": {},
   "outputs": [
    {
     "data": {
      "text/plain": [
       "\" Éloges des Académiciens de l'académie royale des sciences, morts depuis l’An 1788. ======<savant> Euler <auteur> Condorcet <annee> 1783 <eloge> Léonard Euler, directeur de la classe de mathématiques \""
      ]
     },
     "execution_count": 57,
     "metadata": {},
     "output_type": "execute_result"
    }
   ],
   "source": [
    "all_lines[0:200]"
   ]
  },
  {
   "cell_type": "code",
   "execution_count": 58,
   "id": "missing-twenty",
   "metadata": {},
   "outputs": [],
   "source": [
    "#Splitting all the eulogies\n",
    "lines_dec_c2 = all_lines.split('======')"
   ]
  },
  {
   "cell_type": "code",
   "execution_count": 59,
   "id": "controlling-simpson",
   "metadata": {},
   "outputs": [
    {
     "name": "stdout",
     "output_type": "stream",
     "text": [
      "Number of lines 28\n"
     ]
    }
   ],
   "source": [
    "print(\"Number of lines \" + str(len(lines_dec_c2)))"
   ]
  },
  {
   "cell_type": "code",
   "execution_count": 60,
   "id": "spoken-jonathan",
   "metadata": {},
   "outputs": [
    {
     "data": {
      "text/plain": [
       "\" Éloges des Académiciens de l'académie royale des sciences, morts depuis l’An 1788. \""
      ]
     },
     "execution_count": 60,
     "metadata": {},
     "output_type": "execute_result"
    }
   ],
   "source": [
    "lines_dec_c2[0]"
   ]
  },
  {
   "cell_type": "code",
   "execution_count": 61,
   "id": "comparable-factory",
   "metadata": {},
   "outputs": [
    {
     "data": {
      "text/plain": [
       "\" Éloges des Académiciens de l'académie royale des sciences, morts depuis l’An 1788. \""
      ]
     },
     "execution_count": 61,
     "metadata": {},
     "output_type": "execute_result"
    }
   ],
   "source": [
    "#Removing the first line as it is a title and not part of an eulogy\n",
    "\n",
    "lines_dec_c2.pop(0)"
   ]
  },
  {
   "cell_type": "code",
   "execution_count": 62,
   "id": "experienced-subscription",
   "metadata": {},
   "outputs": [
    {
     "name": "stdout",
     "output_type": "stream",
     "text": [
      "Number of lines in list 27\n"
     ]
    }
   ],
   "source": [
    "print(\"Number of lines in list \" + str(len(lines_dec_c2)))"
   ]
  },
  {
   "cell_type": "code",
   "execution_count": 63,
   "id": "comparative-balloon",
   "metadata": {},
   "outputs": [
    {
     "name": "stdout",
     "output_type": "stream",
     "text": [
      "Number of eulogies in the file 27\n"
     ]
    }
   ],
   "source": [
    "#Checking we have the correct number of eulogies\n",
    "print(\"Number of eulogies in the file \" + str(all_lines.count('<savant>')))"
   ]
  },
  {
   "cell_type": "code",
   "execution_count": 64,
   "id": "subsequent-uzbekistan",
   "metadata": {},
   "outputs": [
    {
     "name": "stdout",
     "output_type": "stream",
     "text": [
      "=======\n",
      "Savant  : Euler\n",
      "Auteur : Condorcet\n",
      "Annee : 1783\n",
      "Debut eloge : Léonard Euler, directeur de la\n",
      "=======\n",
      "Savant  : Bézout\n",
      "Auteur : Condorcet\n",
      "Annee : 1783\n",
      "Debut eloge : Étienne Bézout, de l’Académie \n",
      "=======\n",
      "Savant  : d’Alembert\n",
      "Auteur : Condorcet\n",
      "Annee : 1783\n",
      "Debut eloge : Jean le Rond D’Alembert, secré\n",
      "=======\n",
      "Savant  : de Tressan\n",
      "Auteur : Condorcet\n",
      "Annee : 1783\n",
      "Debut eloge : Louis Élisabeth de la Vergne, \n",
      "=======\n",
      "Savant  : Wargentin\n",
      "Auteur : Condorcet\n",
      "Annee : 1783\n",
      "Debut eloge : Pierre Wargentin, chevalier de\n",
      "=======\n",
      "Savant  : Macquer\n",
      "Auteur : Condorcet\n",
      "Annee : 1784\n",
      "Debut eloge : Pierre-Joseph Macquer, docteur\n",
      "=======\n",
      "Savant  : Bergman\n",
      "Auteur : Condorcet\n",
      "Annee : 1784\n",
      "Debut eloge : Torbern Bergman, professeur de\n",
      "=======\n",
      "Savant  : Morand\n",
      "Auteur : Condorcet\n",
      "Annee : 1784\n",
      "Debut eloge : Jean-François Clément Morand, \n",
      "=======\n",
      "Savant  : Cassini\n",
      "Auteur : Condorcet\n",
      "Annee : 1784\n",
      "Debut eloge : César-François Cassini de Thur\n",
      "=======\n",
      "Savant  : Milly\n",
      "Auteur : Condorcet\n",
      "Annee : 1784\n",
      "Debut eloge : Nicolas Christiern de Thy, com\n",
      "=======\n",
      "Savant  : de Courtivron\n",
      "Auteur : Condorcet\n",
      "Annee : 1785\n",
      "Debut eloge : Gaspard Le Compasseur de Créqu\n",
      "=======\n",
      "Savant  : de Praslin\n",
      "Auteur : Condorcet\n",
      "Annee : 1785\n",
      "Debut eloge : César-Gabriel de Choiseul, duc\n",
      "=======\n",
      "Savant  : Guettard\n",
      "Auteur : Condorcet\n",
      "Annee : 1786\n",
      "Debut eloge : Jean-Étienne Guettard, docteur\n",
      "=======\n",
      "Savant  : de Gua\n",
      "Auteur : Condorcet\n",
      "Annee : 1786\n",
      "Debut eloge : Jean-Paul de Gua de Malves, pr\n",
      "=======\n",
      "Savant  : de Paulmy\n",
      "Auteur : Condorcet\n",
      "Annee : 1787\n",
      "Debut eloge : Marc-Antoine-René de Voyer d’A\n",
      "=======\n",
      "Savant  : Bouvart\n",
      "Auteur : Condorcet\n",
      "Annee : 1787\n",
      "Debut eloge : Le véritable éloge d’un médeci\n",
      "=======\n",
      "Savant  : de Lassone\n",
      "Auteur : Condorcet\n",
      "Annee : 1788\n",
      "Debut eloge : Joseph-Marie-François de Lasso\n",
      "=======\n",
      "Savant  : de Luynes\n",
      "Auteur : Condorcet\n",
      "Annee : 1788\n",
      "Debut eloge : Paul d’Albert de Luynes, cardi\n",
      "=======\n",
      "Savant  : de Fouchy\n",
      "Auteur : Condorcet\n",
      "Annee : 1788\n",
      "Debut eloge : Jean-Paul Grandjean de Fouchy,\n",
      "=======\n",
      "Savant  : de Buffon\n",
      "Auteur : Condorcet\n",
      "Annee : 1788\n",
      "Debut eloge : George-Louis le Clerc, comte d\n",
      "=======\n",
      "Savant  : Franklin\n",
      "Auteur : Condorcet\n",
      "Annee : 1790\n",
      "Debut eloge : Benjamin Franklin naquit à Bos\n",
      "=======\n",
      "Savant  : de Camper\n",
      "Auteur : Condorcet\n",
      "Annee : 1789\n",
      "Debut eloge : Pierre Camper, membre du conse\n",
      "=======\n",
      "Savant  : Fougeroux\n",
      "Auteur : Condorcet\n",
      "Annee : 1789\n",
      "Debut eloge : Auguste Denis Fougeroux, de l’\n",
      "=======\n",
      "Savant  : de Fourcroy\n",
      "Auteur : Condorcet\n",
      "Annee : 1804\n",
      "Debut eloge : Charles-René de Fourcroy, maré\n",
      "=======\n",
      "Savant  : Turgot\n",
      "Auteur : Condorcet\n",
      "Annee : 1789\n",
      "Debut eloge : Étienne-François Turgot, assoc\n",
      "=======\n",
      "Savant  : de L'Hôpital\n",
      "Auteur : Condorcet\n",
      "Annee : 1777\n",
      "Debut eloge : Chancelier de France. Discours\n",
      "=======\n",
      "Savant  : Pascal\n",
      "Auteur : Condorcet\n",
      "Annee : 1778\n",
      "Debut eloge : Blaise Pascal naquit à Clermon\n"
     ]
    }
   ],
   "source": [
    "#Printing to check it worked\n",
    "for l in lines_dec_c2 :\n",
    "    savant, auteur, annee, eloge = get_info_condorcet(l)\n",
    "    print(\"=======\")\n",
    "    print(\"Savant  : \" + savant)\n",
    "    print(\"Auteur : \" + auteur)\n",
    "    print(\"Annee : \" + annee)\n",
    "    print(\"Debut eloge : \" + eloge[0:30])"
   ]
  },
  {
   "cell_type": "code",
   "execution_count": 65,
   "id": "capable-validation",
   "metadata": {},
   "outputs": [],
   "source": [
    "# Saving it\n",
    "\n",
    "save_as_df(get_info_condorcet, lines_dec_c2, 'Condorcet_2')"
   ]
  },
  {
   "cell_type": "code",
   "execution_count": 67,
   "id": "absolute-booth",
   "metadata": {
    "scrolled": true
   },
   "outputs": [
    {
     "data": {
      "text/html": [
       "<div>\n",
       "<style scoped>\n",
       "    .dataframe tbody tr th:only-of-type {\n",
       "        vertical-align: middle;\n",
       "    }\n",
       "\n",
       "    .dataframe tbody tr th {\n",
       "        vertical-align: top;\n",
       "    }\n",
       "\n",
       "    .dataframe thead th {\n",
       "        text-align: right;\n",
       "    }\n",
       "</style>\n",
       "<table border=\"1\" class=\"dataframe\">\n",
       "  <thead>\n",
       "    <tr style=\"text-align: right;\">\n",
       "      <th></th>\n",
       "      <th>Savant</th>\n",
       "      <th>Auteur</th>\n",
       "      <th>Annee</th>\n",
       "      <th>Eloge</th>\n",
       "    </tr>\n",
       "  </thead>\n",
       "  <tbody>\n",
       "    <tr>\n",
       "      <th>0</th>\n",
       "      <td>Euler</td>\n",
       "      <td>Condorcet</td>\n",
       "      <td>1783</td>\n",
       "      <td>Léonard Euler, directeur de la classe de mathé...</td>\n",
       "    </tr>\n",
       "    <tr>\n",
       "      <th>1</th>\n",
       "      <td>Bézout</td>\n",
       "      <td>Condorcet</td>\n",
       "      <td>1783</td>\n",
       "      <td>Étienne Bézout, de l’Académie des sciences et ...</td>\n",
       "    </tr>\n",
       "    <tr>\n",
       "      <th>2</th>\n",
       "      <td>d’Alembert</td>\n",
       "      <td>Condorcet</td>\n",
       "      <td>1783</td>\n",
       "      <td>Jean le Rond D’Alembert, secrétaire perpétuel ...</td>\n",
       "    </tr>\n",
       "    <tr>\n",
       "      <th>3</th>\n",
       "      <td>de Tressan</td>\n",
       "      <td>Condorcet</td>\n",
       "      <td>1783</td>\n",
       "      <td>Louis Élisabeth de la Vergne, comte de Tressan...</td>\n",
       "    </tr>\n",
       "    <tr>\n",
       "      <th>4</th>\n",
       "      <td>Wargentin</td>\n",
       "      <td>Condorcet</td>\n",
       "      <td>1783</td>\n",
       "      <td>Pierre Wargentin, chevalier de l’Étoile polair...</td>\n",
       "    </tr>\n",
       "    <tr>\n",
       "      <th>5</th>\n",
       "      <td>Macquer</td>\n",
       "      <td>Condorcet</td>\n",
       "      <td>1784</td>\n",
       "      <td>Pierre-Joseph Macquer, docteur-régent de la fa...</td>\n",
       "    </tr>\n",
       "    <tr>\n",
       "      <th>6</th>\n",
       "      <td>Bergman</td>\n",
       "      <td>Condorcet</td>\n",
       "      <td>1784</td>\n",
       "      <td>Torbern Bergman, professeur de chimie à Upsal,...</td>\n",
       "    </tr>\n",
       "    <tr>\n",
       "      <th>7</th>\n",
       "      <td>Morand</td>\n",
       "      <td>Condorcet</td>\n",
       "      <td>1784</td>\n",
       "      <td>Jean-François Clément Morand, docteur régent d...</td>\n",
       "    </tr>\n",
       "    <tr>\n",
       "      <th>8</th>\n",
       "      <td>Cassini</td>\n",
       "      <td>Condorcet</td>\n",
       "      <td>1784</td>\n",
       "      <td>César-François Cassini de Thury, noble siennoi...</td>\n",
       "    </tr>\n",
       "    <tr>\n",
       "      <th>9</th>\n",
       "      <td>Milly</td>\n",
       "      <td>Condorcet</td>\n",
       "      <td>1784</td>\n",
       "      <td>Nicolas Christiern de Thy, comte de Milly, des...</td>\n",
       "    </tr>\n",
       "  </tbody>\n",
       "</table>\n",
       "</div>"
      ],
      "text/plain": [
       "       Savant     Auteur  Annee  \\\n",
       "0       Euler  Condorcet   1783   \n",
       "1      Bézout  Condorcet   1783   \n",
       "2  d’Alembert  Condorcet   1783   \n",
       "3  de Tressan  Condorcet   1783   \n",
       "4   Wargentin  Condorcet   1783   \n",
       "5     Macquer  Condorcet   1784   \n",
       "6     Bergman  Condorcet   1784   \n",
       "7      Morand  Condorcet   1784   \n",
       "8     Cassini  Condorcet   1784   \n",
       "9       Milly  Condorcet   1784   \n",
       "\n",
       "                                               Eloge  \n",
       "0  Léonard Euler, directeur de la classe de mathé...  \n",
       "1  Étienne Bézout, de l’Académie des sciences et ...  \n",
       "2  Jean le Rond D’Alembert, secrétaire perpétuel ...  \n",
       "3  Louis Élisabeth de la Vergne, comte de Tressan...  \n",
       "4  Pierre Wargentin, chevalier de l’Étoile polair...  \n",
       "5  Pierre-Joseph Macquer, docteur-régent de la fa...  \n",
       "6  Torbern Bergman, professeur de chimie à Upsal,...  \n",
       "7  Jean-François Clément Morand, docteur régent d...  \n",
       "8  César-François Cassini de Thury, noble siennoi...  \n",
       "9  Nicolas Christiern de Thy, comte de Milly, des...  "
      ]
     },
     "execution_count": 67,
     "metadata": {},
     "output_type": "execute_result"
    }
   ],
   "source": [
    "# Checking it worked\n",
    "\n",
    "dfc2 = pd.read_csv(DF_PATH + 'dataframe_Condorcet_2.csv')\n",
    "dfc2.head(10)"
   ]
  },
  {
   "cell_type": "markdown",
   "id": "hungarian-karaoke",
   "metadata": {},
   "source": [
    "# 4. 19ème siècle 1e série"
   ]
  },
  {
   "cell_type": "code",
   "execution_count": 68,
   "id": "graphic-finish",
   "metadata": {
    "scrolled": true
   },
   "outputs": [
    {
     "data": {
      "text/plain": [
       "['.DS_Store',\n",
       " 'Corpus 19e-20e série B.3_pyt.txt',\n",
       " 'Corpus 19e-20e série B.2_pyt.txt',\n",
       " 'Corpus 19e-20e série B.4_pyt.txt',\n",
       " 'Corpus 19e-20e série B.1_pyth.txt']"
      ]
     },
     "execution_count": 68,
     "metadata": {},
     "output_type": "execute_result"
    }
   ],
   "source": [
    "import os \n",
    "\n",
    "#Getting all the files present in a directory\n",
    "entries = os.listdir(DATA_FOLDER + '19e/')\n",
    "entries"
   ]
  },
  {
   "cell_type": "code",
   "execution_count": 69,
   "id": "modular-jungle",
   "metadata": {},
   "outputs": [],
   "source": [
    "#Reading all the files and storing them in a list\n",
    "lines = []\n",
    "for i in range(1, len(entries)):\n",
    "    with open(DATA_FOLDER + '19e/' + entries[i], 'rb') as f:\n",
    "        lines.append(f.readlines())"
   ]
  },
  {
   "cell_type": "code",
   "execution_count": 72,
   "id": "stunning-giving",
   "metadata": {},
   "outputs": [
    {
     "name": "stdout",
     "output_type": "stream",
     "text": [
      "Number of files :4\n"
     ]
    }
   ],
   "source": [
    "print('Number of files :' + str(len(lines)))"
   ]
  },
  {
   "cell_type": "code",
   "execution_count": 73,
   "id": "governmental-consumption",
   "metadata": {},
   "outputs": [
    {
     "data": {
      "text/plain": [
       "b'<savant> Pelletier\\r\\n'"
      ]
     },
     "execution_count": 73,
     "metadata": {},
     "output_type": "execute_result"
    }
   ],
   "source": [
    "#First line\n",
    "lines[3][0]"
   ]
  },
  {
   "cell_type": "code",
   "execution_count": 74,
   "id": "manufactured-miami",
   "metadata": {},
   "outputs": [],
   "source": [
    "#Merging all the lines and tagging the one that are the start of an eulogy\n",
    "\n",
    "lines_dec = []\n",
    "for l in lines :\n",
    "    all_lines = ''\n",
    "    for l_sec1 in l :\n",
    "        #decoding them with mac-roman for special characters\n",
    "        l_sec = l_sec1.decode(\"mac-roman\")\n",
    "        l_sec = l_sec.strip()\n",
    "        if l_sec.startswith('<savant>'):\n",
    "            l_sec = '======' + l_sec\n",
    "        all_lines = all_lines + \" \" + l_sec\n",
    "    lines_dec.append(all_lines)\n",
    "        "
   ]
  },
  {
   "cell_type": "code",
   "execution_count": 77,
   "id": "optional-expert",
   "metadata": {},
   "outputs": [],
   "source": [
    "#dictionnary for characters that were wrongly written in the eulogy\n",
    "lookp_dict ={'‡': 'à', '˘' :'ù', 'Í' : 'ê',  '‚' : 'â', 'Ë' : 'è', 'í' : \"'\", 'È' :'é', 'Ó' :'î', 'Á' :'ç', \n",
    "             '˚' : 'û', 'Ù' : 'ô', 'c?' : 'ç'}"
   ]
  },
  {
   "cell_type": "code",
   "execution_count": 78,
   "id": "dominant-convergence",
   "metadata": {},
   "outputs": [],
   "source": [
    "#correcting the wrong characters\n",
    "\n",
    "lines_dec_corr = []\n",
    "for l in lines_dec :\n",
    "    for key in lookp_dict.keys():\n",
    "        l = l.replace(key, lookp_dict[key])\n",
    "    lines_dec_corr.append(l)"
   ]
  },
  {
   "cell_type": "code",
   "execution_count": 82,
   "id": "explicit-offer",
   "metadata": {},
   "outputs": [
    {
     "data": {
      "text/plain": [
       "' ======<savant> Lalande <auteur> Delambre <annee> 1808 <eloge>\\\\n \\tAu seul nom de M. de Lalande on es'"
      ]
     },
     "execution_count": 82,
     "metadata": {},
     "output_type": "execute_result"
    }
   ],
   "source": [
    "lines_dec_corr[0][0:100]"
   ]
  },
  {
   "cell_type": "code",
   "execution_count": 83,
   "id": "light-writer",
   "metadata": {},
   "outputs": [
    {
     "data": {
      "text/plain": [
       "4"
      ]
     },
     "execution_count": 83,
     "metadata": {},
     "output_type": "execute_result"
    }
   ],
   "source": [
    "len(lines_dec_corr)"
   ]
  },
  {
   "cell_type": "code",
   "execution_count": 84,
   "id": "narrative-pressing",
   "metadata": {},
   "outputs": [
    {
     "name": "stdout",
     "output_type": "stream",
     "text": [
      "<savant> Lalande <auteur> Dela\n",
      "Number of lines obtained : 7\n",
      "<savant> Priestley <auteur> Cu\n",
      "Number of lines obtained : 6\n",
      "<savant> Bougainville <auteur>\n",
      "Number of lines obtained : 6\n",
      "<savant> Pelletier <auteur> La\n",
      "Number of lines obtained : 8\n"
     ]
    }
   ],
   "source": [
    "#Splitting the eulogies and checking we have the correct numbers\n",
    "l_by_eul = []\n",
    "for l in lines_dec_corr :\n",
    "    eul = l.split('======')\n",
    "    print(eul[1][0:30])\n",
    "    eul.pop(0)\n",
    "    print('Number of lines obtained : ' + str(len(eul)))\n",
    "    l_by_eul.append(eul)"
   ]
  },
  {
   "cell_type": "code",
   "execution_count": 85,
   "id": "unable-duncan",
   "metadata": {
    "scrolled": true
   },
   "outputs": [
    {
     "name": "stdout",
     "output_type": "stream",
     "text": [
      "7\n",
      "<savant> Lalande <auteur> Dela\n",
      "<savant>Broussonnet <auteur> C\n",
      "<savant>Berthoud <auteur>Delam\n",
      "<savant>Lassus <auteur>Cuvier \n",
      "<savant>Ventenat <auteur> Cuvi\n",
      "<savant>Montgolfier <auteur> D\n",
      "<savant> Fourcroy <auteur>Cuvi\n",
      " \n",
      "6\n",
      "<savant> Priestley <auteur> Cu\n",
      "<savant> Dolomieu <auteur> Lac\n",
      "<savant> Martin Cels <auteur> \n",
      "<savant> Adanson <auteur> Cuvi\n",
      "<savant> Brisson <auteur> Dela\n",
      "<savant> Coulomb <auteur> Dela\n",
      " \n",
      "6\n",
      "<savant> Bougainville <auteur>\n",
      "<savant> Maskelyne <auteur> De\n",
      "<savant> Desessarts <auteur> C\n",
      "<savant> Cavendish <auteur> Cu\n",
      "<savant> Malus <auteur> Delamb\n",
      "<savant> Lagrange <auteur> Del\n",
      " \n",
      "8\n",
      "<savant> Pelletier <auteur> La\n",
      "<savant> Bayen <auteur> Lassus\n",
      "<savant> Daubenton <auteur>  C\n",
      "<savant> Lemonnier <auteur> Cu\n",
      "<savant> Héritier <auteur> Cuv\n",
      "<savant> Gilbert <auteur> Cuvi\n",
      "<savant> Darcet <auteur> Cuvie\n",
      "<savant> Méchain <auteur> Dela\n",
      " \n"
     ]
    }
   ],
   "source": [
    "#Checking everything is correct\n",
    "for eul_pap in l_by_eul :\n",
    "    print(len(eul_pap))\n",
    "    for eul in eul_pap :\n",
    "        print(eul[0:30])\n",
    "    print(' ')"
   ]
  },
  {
   "cell_type": "code",
   "execution_count": 86,
   "id": "sophisticated-pound",
   "metadata": {},
   "outputs": [
    {
     "name": "stdout",
     "output_type": "stream",
     "text": [
      "=======\n",
      "Savant  : Lalande\n",
      "Auteur : Delambre\n",
      "Annee : 1808\n",
      "Debut eloge : \\n \tAu seul nom de M. de Lalan\n",
      "=======\n",
      "Savant  : Broussonnet\n",
      "Auteur : Cuvier\n",
      "Annee : 1808\n",
      "Debut eloge : \\n \tPierre-Marie-Auguste Brous\n",
      "=======\n",
      "Savant  : Berthoud\n",
      "Auteur : Delambre\n",
      "Annee : 1809\n",
      "Debut eloge : \\n \tFerdinand Berthoud, horlog\n",
      "=======\n",
      "Savant  : Lassus\n",
      "Auteur : Cuvier\n",
      "Annee : 1809\n",
      "Debut eloge : \\n \tLes éloges publics de l'In\n",
      "=======\n",
      "Savant  : Ventenat\n",
      "Auteur : Cuvier\n",
      "Annee : 1809\n",
      "Debut eloge : \\n \t…tienne-Pierre Ventenat, m\n",
      "=======\n",
      "Savant  : Montgolfier\n",
      "Auteur : Delambre\n",
      "Annee : 1811\n",
      "Debut eloge : \\n \tJoseph-Michel Montgolfier,\n",
      "=======\n",
      "Savant  : Fourcroy\n",
      "Auteur : Cuvier\n",
      "Annee : 1811\n",
      "Debut eloge : \\n \tL'histoire de cette longue\n",
      "=======\n",
      "Savant  : Priestley\n",
      "Auteur : Cuvier\n",
      "Annee : 1805\n",
      "Debut eloge : Messieurs, \\n\tJ'ai à vous entr\n",
      "=======\n",
      "Savant  : Dolomieu\n",
      "Auteur : Lacepède\n",
      "Annee : 1802\n",
      "Debut eloge : Peu de temps s'est écoulé depu\n",
      "=======\n",
      "Savant  : Martin Cels\n",
      "Auteur : Cuvier\n",
      "Annee : 1806\n",
      "Debut eloge : Jacques-Martin Cels, cultivate\n",
      "=======\n",
      "Savant  : Adanson\n",
      "Auteur : Cuvier\n",
      "Annee : 1807\n",
      "Debut eloge : Lorsque nous paraissons à cett\n",
      "=======\n",
      "Savant  : Brisson\n",
      "Auteur : Delambre\n",
      "Annee : 1807\n",
      "Debut eloge : Mathurin-Jacques Brisson, de l\n",
      "=======\n",
      "Savant  : Coulomb\n",
      "Auteur : Delambre\n",
      "Annee : 1807\n",
      "Debut eloge : Charles-Augustin Coulomb, lieu\n",
      "=======\n",
      "Savant  : Bougainville\n",
      "Auteur : Delambre\n",
      "Annee : 1813\n",
      "Debut eloge : Louis-Antoine de Bougainville,\n",
      "=======\n",
      "Savant  : Maskelyne\n",
      "Auteur : Delambre\n",
      "Annee : 1813\n",
      "Debut eloge : Névil Maskelyne, docteur en th\n",
      "=======\n",
      "Savant  : Desessarts\n",
      "Auteur : Cuvier\n",
      "Annee : 1812\n",
      "Debut eloge : Jean-Charles Desessarts, médec\n",
      "=======\n",
      "Savant  : Cavendish\n",
      "Auteur : Cuvier\n",
      "Annee : 1812\n",
      "Debut eloge : Parmi les hommes que nous avon\n",
      "=======\n",
      "Savant  : Malus\n",
      "Auteur : Delambre\n",
      "Annee : 1812\n",
      "Debut eloge : Sur la vie et les ouvrages de \n",
      "=======\n",
      "Savant  : Lagrange\n",
      "Auteur : Delambre\n",
      "Annee : 1812\n",
      "Debut eloge : Joseph-Louis Lagrange, l'un de\n",
      "=======\n",
      "Savant  : Pelletier\n",
      "Auteur : Lassus\n",
      "Annee : 1798\n",
      "Debut eloge : Bertrand Pelletier, membre de \n",
      "=======\n",
      "Savant  : Bayen\n",
      "Auteur : Lassus\n",
      "Annee : 1798\n",
      "Debut eloge : Pierre Bayen, membre de l'Inst\n",
      "=======\n",
      "Savant  : Daubenton\n",
      "Auteur : Cuvier\n",
      "Annee : 1800\n",
      "Debut eloge : Louis-Jean-Marie Daubenton, me\n",
      "=======\n",
      "Savant  : Lemonnier\n",
      "Auteur : Cuvier\n",
      "Annee : 1800\n",
      "Debut eloge : Si l'Institut national ne publ\n",
      "=======\n",
      "Savant  : Héritier\n",
      "Auteur : Cuvier\n",
      "Annee : 1801\n",
      "Debut eloge : Les hommes dont la classe de p\n",
      "=======\n",
      "Savant  : Gilbert\n",
      "Auteur : Cuvier\n",
      "Annee : 1801\n",
      "Debut eloge : Certaines personnes trouveront\n",
      "=======\n",
      "Savant  : Darcet\n",
      "Auteur : Cuvier\n",
      "Annee : 1802\n",
      "Debut eloge : Nous l'avouons, ce n'est pas s\n",
      "=======\n",
      "Savant  : Méchain\n",
      "Auteur : Delambre\n",
      "Annee : 1805\n",
      "Debut eloge : Pierre-François-André Méchain,\n"
     ]
    }
   ],
   "source": [
    "#Checking everything works when getting the information\n",
    "for eul_pap in l_by_eul :\n",
    "    for l in eul_pap :\n",
    "        savant, auteur, annee, eloge = get_info_condorcet(l)\n",
    "        print(\"=======\")\n",
    "        print(\"Savant  : \" + savant)\n",
    "        print(\"Auteur : \" + auteur)\n",
    "        print(\"Annee : \" + annee)\n",
    "        print(\"Debut eloge : \" + eloge[0:30])"
   ]
  },
  {
   "cell_type": "code",
   "execution_count": 87,
   "id": "above-content",
   "metadata": {},
   "outputs": [],
   "source": [
    "#saving as df\n",
    "for i, eul_pap in enumerate(l_by_eul) :\n",
    "    \n",
    "    save_as_df(get_info_condorcet, eul_pap, '19e_siecle_1ere_' + str(i))"
   ]
  },
  {
   "cell_type": "markdown",
   "id": "southeast-leisure",
   "metadata": {},
   "source": [
    "# 5. 19eme siècle 2ème partie"
   ]
  },
  {
   "cell_type": "code",
   "execution_count": 96,
   "id": "meaningful-creativity",
   "metadata": {
    "scrolled": true
   },
   "outputs": [
    {
     "data": {
      "text/plain": [
       "['.DS_Store',\n",
       " 'Corpus_19e-20e,_2e_série_A_1302_fin_pyth.txt',\n",
       " 'Corpus_19e-20e,_2e_série_C_1173_pyth.txt',\n",
       " 'Corpus_19e-20e,_2e_série_C_849_pyth.txt',\n",
       " 'Corpus_19e-20e,_2e_série_B_1-682_pyth.txt',\n",
       " 'Corpus_19e-20e,_2e_série_C_1173-1538_pyth.txt',\n",
       " 'Corpus_19e-20e,_2e_série_C_456_pyth.txt',\n",
       " 'Corpus_19e-20e,_2e_série_A_550_pyt.txt',\n",
       " 'Corpus_19e-20e,_2e_série_B_fin_pyth.txt',\n",
       " 'Corpus_19e-20e,_2e_série_C_1540-1930_pyth.txt',\n",
       " 'Corpus_19e-20e,_2e_série_B_683-1281_pyth.txt',\n",
       " 'Corpus_19e-20e,_2e_série_C_213_pyth.txt',\n",
       " 'Corpus_19e-20e,_2e_série_C-1931-fin_pyth.txt',\n",
       " 'Corpus_19e-20e,_2e_série_A_551-1301_pyth.txt']"
      ]
     },
     "execution_count": 96,
     "metadata": {},
     "output_type": "execute_result"
    }
   ],
   "source": [
    "#List of the files \n",
    "\n",
    "entries = os.listdir(DATA_FOLDER + '19e2/')\n",
    "entries"
   ]
  },
  {
   "cell_type": "code",
   "execution_count": 97,
   "id": "wrapped-contamination",
   "metadata": {},
   "outputs": [],
   "source": [
    "#Reading all the files\n",
    "lines = []\n",
    "for i in range(1, len(entries)):\n",
    "    with open(DATA_FOLDER + '19e2/' + entries[i], 'rb') as f:\n",
    "        lines.append(f.readlines())"
   ]
  },
  {
   "cell_type": "code",
   "execution_count": 98,
   "id": "mysterious-peninsula",
   "metadata": {},
   "outputs": [
    {
     "data": {
      "text/plain": [
       "\" ==========<savant> Pelletier <auteur> Lassus <annee> 1798 <eloge> \\t Bertrand Pelletier, membre de l'Institut national des sciences et arts dans la section de chimie, naquit à Bayonne en 1761, et mour\""
      ]
     },
     "execution_count": 98,
     "metadata": {},
     "output_type": "execute_result"
    }
   ],
   "source": [
    "l[0:200]"
   ]
  },
  {
   "cell_type": "code",
   "execution_count": 99,
   "id": "chubby-representation",
   "metadata": {},
   "outputs": [],
   "source": [
    "#Tagging and decoding the lines\n",
    "\n",
    "lines_dec = []\n",
    "for l in lines :\n",
    "    all_lines = ''\n",
    "    for l_sec1 in l :\n",
    "        l_sec = l_sec1.decode(\"mac-roman\")\n",
    "        l_sec = l_sec.strip()\n",
    "        if l_sec.startswith('<savant>'):\n",
    "            l_sec = '==========' + l_sec\n",
    "        all_lines = all_lines + \" \" + l_sec\n",
    "    lines_dec.append(all_lines)"
   ]
  },
  {
   "cell_type": "code",
   "execution_count": 100,
   "id": "moral-connecticut",
   "metadata": {},
   "outputs": [],
   "source": [
    "#Replacing wrong characters\n",
    "lines_dec_corr = []\n",
    "for l in lines_dec :\n",
    "    for key in lookp_dict.keys():\n",
    "        l = l.replace(key, lookp_dict[key])\n",
    "    lines_dec_corr.append(l)"
   ]
  },
  {
   "cell_type": "code",
   "execution_count": 103,
   "id": "valuable-swift",
   "metadata": {
    "scrolled": false
   },
   "outputs": [
    {
     "name": "stdout",
     "output_type": "stream",
     "text": [
      "Number of files : 13\n"
     ]
    }
   ],
   "source": [
    "print('Number of files : ' + str(len(lines_dec_corr)))"
   ]
  },
  {
   "cell_type": "code",
   "execution_count": 104,
   "id": "collaborative-dayton",
   "metadata": {
    "scrolled": true
   },
   "outputs": [
    {
     "name": "stdout",
     "output_type": "stream",
     "text": [
      "  \n",
      "<savant> D'Aubert-Aubert Du-Petit-Thouar\n",
      "Number of lines obtained : 6\n",
      "  \n",
      "<savant>Grandidier <auteur>Alfred Lacroi\n",
      "Number of lines obtained : 6\n",
      " \n",
      "<savant> Saint-Vincent <auteur> Alfred L\n",
      "Number of lines obtained : 12\n",
      " \n",
      "<savant>Beautemps-Beaupré <auteur>De Bea\n",
      "Number of lines obtained : 11\n",
      " \n",
      "<savant>Biot <auteur>Picard <annee>1927 \n",
      "Number of lines obtained : 4\n",
      " \n",
      "<savant> Claude Bernard \t <auteur> Van T\n",
      "Number of lines obtained : 6\n",
      "  \n",
      "<savant>Banks <auteur>Cuvier <annee>1821\n",
      "Number of lines obtained : 18\n",
      "  \n",
      "<savant>De La Gournerie <auteur> Bertran\n",
      "Number of lines obtained : 21\n",
      "  \n",
      "<savant>Boussinesq <auteur>Picard <annee\n",
      "Number of lines obtained : 5\n",
      "  \n",
      "<savant> Jean Plana <auteur> De Beaumont\n",
      "Number of lines obtained : 17\n",
      "  \n",
      "<savant>Hermite <auteur>Darboux <annee> \n",
      "Number of lines obtained : 5\n",
      " \n",
      "<savant>Onnes <auteur>Picard <annee> 193\n",
      "Number of lines obtained : 5\n",
      " \n",
      "<savant> Volta <auteur> Arago <annee> 18\n",
      "Number of lines obtained : 13\n"
     ]
    }
   ],
   "source": [
    "l_by_eul = []\n",
    "for l in lines_dec_corr :\n",
    "    eul = l.split('==========')\n",
    "    print(eul[0])\n",
    "    print(eul[1][0:40])\n",
    "    #eul = eul[1:-1]\n",
    "    eul.pop(0)\n",
    "    print('Number of lines obtained : ' + str(len(eul)))\n",
    "    l_by_eul.append(eul)"
   ]
  },
  {
   "cell_type": "code",
   "execution_count": 105,
   "id": "chronic-indication",
   "metadata": {},
   "outputs": [
    {
     "name": "stdout",
     "output_type": "stream",
     "text": [
      "6\n",
      "<savant> D'Aubert-Aubert Du-Petit-Thouars <auteur>\n",
      "<savant>Lazare-Nicolas-Marguerite Carnot <auteur> \n",
      "<savant> Benjamen Delessert <auteur> Flourens <ann\n",
      "<savant> Etienne Geoffroy Saint-Hilaire <auteur> F\n",
      "<savant> Bailly <auteur>Arago <annee>1844 <eloge> \n",
      "<savant>Gaspard Monge <auteur>Arago <annee>1846 <e\n",
      " \n",
      "6\n",
      "<savant>Grandidier <auteur>Alfred Lacroix <annee>1\n",
      "<savant> Bonnier <auteur> Molliard <annee> 1923 <e\n",
      "<savant> Fizeau <auteur> Picard <annee> 1923 <elog\n",
      "<savant> Edwards <auteur>Alfred Lacroix <annee> 19\n",
      "<savant>Tannery <auteur>Picard <annee> 1925 <eloge\n",
      "<savant> Boussingault <auteur>Alfred Lacroix <anne\n",
      " \n",
      "12\n",
      "<savant> Saint-Vincent <auteur> Alfred Lacroix <an\n",
      "<savant> Darboux <auteur> Picard <annee> 1917 <elo\n",
      "<savant> Dolomieu <auteur> Alfred Lacroix <annee> \n",
      "<savant>Kelvin <auteur> Picard <annee> 1919 <eloge\n",
      "<savant> Laparrent <auteur> Alfred Lacroix <annee>\n",
      "<savant>Schloesing <auteur> Lindet <annee> 1920 <e\n",
      "<savant> Duhem <auteur> Picard <annee> 1921 <eloge\n",
      "<savant> Guyou <auteur> Fournier <annee> 1921 <elo\n",
      "<savant> Humbert <auteur> Borel <annee> 1922 <elog\n",
      "<savant> Carpentier <auteur> d'Ocagne <annee> 1922\n",
      "<savant>Carnot <auteur>Breton <annee> 1922 <eloge>\n",
      "<savant> Jordan <auteur>Lebesgue <annee> 1923 <elo\n",
      " \n",
      "11\n",
      "<savant>Beautemps-Beaupré <auteur>De Beaumont <ann\n",
      "<savant>Thenard <auteur>Flourens <annee>1860 <elog\n",
      "<savant> Adrien-Marie Legendre <auteur>De Beaumont\n",
      "<savant> Magendie <auteur> Flourens <annee> 1858 <\n",
      "<savant> Tiedemann <auteur> Flourens <annee> 1861 \n",
      "<savant> Oersted <auteur> De Beaumont <annee> 1862\n",
      "<savant> Duméril <auteur>Flourens <annee> 1803 <el\n",
      "<savant> Bravais <auteur> De Beaumont <annee> 1865\n",
      "<savant> Faraday <auteur>Dumas <annee> 1868 <eloge\n",
      "<savant> Jules Pelouze <auteur> Dumas <annee>1870.\n",
      "<savant>Piobert <auteur>Morin <annee> 1871 <eloge>\n",
      " \n",
      "4\n",
      "<savant>Biot <auteur>Picard <annee>1927 <eloge>\\n \n",
      "<savant>Troisieme fauteuil de la section de minera\n",
      "<savant>Beudant et Legrand Des Cloizeaux <auteur>A\n",
      "<savant>Lippman <auteur>Picard <annee>1931 <eloge>\n",
      " \n",
      "6\n",
      "<savant> Claude Bernard \t <auteur> Van Tieghem \t <\n",
      "<savant> Dumas\t <auteur>Van Tieghem\t <annee> 1912 \n",
      "<savant> Poincarre\t <auteur> Darboux\t <annee> 1913\n",
      "<savant> Michel-Levy\t <auteur> Alfred Lacroix\t <an\n",
      "<savant> Maurice Levy\t <auteur>Lecornu\t <annee> 19\n",
      "<savant> Lucas-Championnière \t <auteur>Richet\t <an\n",
      " \n",
      "18\n",
      "<savant>Banks <auteur>Cuvier <annee>1821 <eloge>\\n\n",
      "<savant>William Herschel <auteur>Fourier <annee>18\n",
      "<savant>Duhamel <auteur>Cuvier <annee> 1822 <eloge\n",
      "<savant>Breguet <auteur>Fourier <annee>1826 <eloge\n",
      "<savant>Richard <auteur> Cuvier <annee> 1828 <elog\n",
      "<savant>Thouin <auteur>Cuvier <annee>1828 <eloge>\\\n",
      "<savant>Charles <annee>1838 <auteur>Fourier <eloge\n",
      "<savant>Hauy <annee>1823 <auteur>Cuvier <eloge>\\n\t\n",
      "<savant>Berthollet <annee>1824 <auteur>Cuvier <elo\n",
      "<savant>Lacépède <annee>1826 <auteur>Cuvier <eloge\n",
      "<savant>Ramond <annee>1826 <auteur>Cuvier <eloge>\\\n",
      "<savant>Halle <annee>1827 <auteur>Cuvier <eloge>\\n\n",
      "<savant> Corvisart <annee>1827 <auteur>Cuvier <elo\n",
      "<savant>Pinel <annee>1827 <auteur>Cuvier <eloge>\\n\n",
      "<savant>Laplace <annee>1829 <auteur>Fourier <eloge\n",
      "<savant>Bosc <annee>1829 <auteur>Cuvier <eloge>\\n\t\n",
      "<savant>Humphry Davy <auteur>Cuvier <annee>1830 <e\n",
      "<savant>Vauquelin <auteur>Cuvier <annee>1821 <elog\n",
      " \n",
      "21\n",
      "<savant>De La Gournerie <auteur> Bertrand <annee>1\n",
      "<savant> Flourens <auteur> Vulpian <annee>1886 <el\n",
      "<savant>De Lôme <auteur>Bertrand <annee>1887 <elog\n",
      "<savant> Yvon-Villarceau <auteur> Bertrand <annee>\n",
      "<savant> Lavoisier <auteur> Berthelot <annee>1889 \n",
      "<savant>Poinsot <auteur> Bertrand <annee>1890 <elo\n",
      "<savant>Cosson <auteur> Bertrand <annee>1890 <elog\n",
      "<savant>Edwards <auteur>Berthelot <annee>1891 <elo\n",
      "<savant> Chasles <auteur> Bertrand <annee>1892 <el\n",
      "<savant> Decaisne <auteur>Berthelot <annee>1893 <e\n",
      "<savant>Cordier <auteur>Bertrand <annee>1894 <elog\n",
      "<savant>Pâris <auteur>Bertrand <annee>1895 <eloge>\n",
      "<savant> Mallard <auteur> Berthelot <annee>1896 <e\n",
      "<savant> Cauchy <auteur> Bertrand <annee>1898 <elo\n",
      "<savant>Brown-Séquard <auteur> Berthelot <annee>18\n",
      "<savant>Tisserand <auteur> Bertrand <annee>1899 <e\n",
      "<savant> Naudin <auteur> Berthelot <annee>1900 <el\n",
      "<savant>Bertrand <auteur> Darboux <annee>1901 <elo\n",
      "<savant> Chevreul <auteur>Berthelot <annee>1902 <e\n",
      "<savant>Perrier <auteur>Darboux <annee>1903 <eloge\n",
      "<savant> Daubrée <auteur> Berthelot <annee>1904 <e\n",
      " \n",
      "5\n",
      "<savant>Boussinesq <auteur>Picard <annee>1933 <elo\n",
      "<savant>Michelson <auteur>Picard <annee>1935 \t \\n \n",
      "<savant>Cinq De Jussieu Leur Rôle D'animateurs Des\n",
      "<savant>Villard et Gouy <auteur>Picard <annee>1937\n",
      "<savant> quatre botanistes \t \\n ayant travaille po\n",
      " \n",
      "17\n",
      "<savant> Jean Plana <auteur> De Beaumont <annee> 1\n",
      "<savant> Saint-Hilaire <auteur> Dumas <annee>1812 \n",
      "<savant>De Beaumont <auteur> Bertrand <annee> 1819\n",
      "<savant>Alexandre Brongniart et Adolphe Brongniart\n",
      "<savant>Rive <auteur> Dumas <annee>1874. <eloge>\tM\n",
      "<savant>Poncelet <auteur>Bertrand <annee>1875 <elo\n",
      "<savant>Lamé <auteur>Bertrand <annee>1878 <eloge>\t\n",
      "<savant>Balard <auteur>Dumas <annee>1879 <eloge>\tM\n",
      "<savant>Le Verrier <auteur>Bertrand <annee>1879 <e\n",
      "<savant>Belgrand <auteur> Bertrand <annee> 1880 <e\n",
      "<savant>Regnault <auteur>Dumas <annee>1881 <eloge>\n",
      "<savant>Foucault <auteur>Bertrand <annee>1882 <elo\n",
      "<savant>Dupin <auteur>Bertrand <annee>1883 <eloge>\n",
      "<savant> Charles et Henri Sainte-Claire-Deville <a\n",
      "<savant>Puiseux <auteur>Bertrand <annee>1884 <elog\n",
      "<savant>Arago <auteur> Jamin <annee>1885 <eloge>\tD\n",
      "<savant> Combes <auteur>Bertrand <annee>1885 <elog\n",
      " \n",
      "5\n",
      "<savant>Hermite <auteur>Darboux <annee> 1905 <elog\n",
      "<savant>Fouque <auteur> Berthelot <annee> 1906 <el\n",
      "<savant>Abbadie <auteur> Darboux <annee> 1907 <elo\n",
      "<savant>Duchartre <auteur>Van Tieghem <annee> 1908\n",
      "<savant>Meusnier <auteur> Darboux <annee> 1909 <el\n",
      " \n",
      "5\n",
      "<savant>Onnes <auteur>Picard <annee> 1939 <eloge> \n",
      "<savant> Membres et correspondants  de l'academie \n",
      "<savant>Hamy <auteur>Picard <annee> 1941 <eloge> \t\n",
      "<savant>  Picard <auteur> De Broglie <annee> 1942 \n",
      "<savant> Membres et correspondants zoologistes et \n",
      " \n",
      "13\n",
      "<savant> Volta <auteur> Arago <annee> 1831 <eloge>\n",
      "<savant> Lamarck <auteur>Cuvier <annee>1822 <eloge\n",
      "<savant>Percy <auteur>Flourens <annee>1833 <eloge>\n",
      "<savant> Young <auteur> Arago <annee>1832 <eloge> \n",
      "<savant> Cuvier <auteur> Flourens <annee> 1834 <el\n",
      "<savant> Fourier <auteur> Arago <annee>1833 <eloge\n",
      "<savant> Chaptal <auteur>Flourens <annee>1835 <elo\n",
      "<savant>Desfontaines <auteur>Flourens <annee> 1837\n",
      "<savant> de Labillardière <auteur> Flourens <annee\n",
      "<savant> de Jussieu <auteur> Flourens <annee> 1838\n",
      "<savant> Cuvier <auteur> Flourens <annee> 1840 <el\n",
      "<savant> Pyramus de Candolle <auteur> Flourens <an\n",
      "<savant>Condorcet <auteur>Arago <annee> 1841 <elog\n",
      " \n"
     ]
    }
   ],
   "source": [
    "for eul_pap in l_by_eul :\n",
    "    print(len(eul_pap))\n",
    "    for eul in eul_pap :\n",
    "        print(eul[0:50])\n",
    "    print(' ')"
   ]
  },
  {
   "cell_type": "code",
   "execution_count": 107,
   "id": "hundred-violin",
   "metadata": {},
   "outputs": [],
   "source": [
    "def get_info_19e(string):\n",
    "    '''\n",
    "    Get information from eulogies written in 19e\n",
    "    Input :\n",
    "        - string (str) : line containing information + eulogy\n",
    "    Outputs :\n",
    "        - savant (str) : Name of the scientist\n",
    "        - auteur (str) : Name of the author\n",
    "        - annee (str) : Year of publication\n",
    "        - eloge (str) : eulogy itself\n",
    "    '''\n",
    "    savant = re.findall('<savant>(.+?)<', string, flags = re.DOTALL)[0].replace('\\\\n', '').strip()\n",
    "    auteur = re.findall('<auteur>(.+?)<', string, flags = re.DOTALL)[0].replace('\\\\n', '').strip()\n",
    "    annee = string.split('<annee>')[1][0:5].strip()\n",
    "    eloge = string.split('<eloge>')[1].strip()\n",
    "    return savant,auteur, annee, eloge"
   ]
  },
  {
   "cell_type": "code",
   "execution_count": 108,
   "id": "digital-coordinate",
   "metadata": {},
   "outputs": [
    {
     "name": "stdout",
     "output_type": "stream",
     "text": [
      "=======\n",
      "Savant  : D'Aubert-Aubert Du-Petit-Thouars\n",
      "Auteur : Flourens\n",
      "Annee : 1845\n",
      "Debut eloge : \\n\tL'homme célèbre dont j'écri\n",
      "=======\n",
      "Savant  : Lazare-Nicolas-Marguerite Carnot\n",
      "Auteur : Arago\n",
      "Annee : 1837\n",
      "Debut eloge : \\n\tEnfance de Carnot, son éduc\n",
      "=======\n",
      "Savant  : Benjamen Delessert\n",
      "Auteur : Flourens\n",
      "Annee : 1850\n",
      "Debut eloge : \\n\tDès que l'Académie put se d\n",
      "=======\n",
      "Savant  : Etienne Geoffroy Saint-Hilaire\n",
      "Auteur : Flourens\n",
      "Annee : 1852\n",
      "Debut eloge : \\n\tCette Académie a compté, da\n",
      "=======\n",
      "Savant  : Bailly\n",
      "Auteur : Arago\n",
      "Annee : 1844\n",
      "Debut eloge : \\n\tMessieurs [Lue dans la séan\n",
      "=======\n",
      "Savant  : Gaspard Monge\n",
      "Auteur : Arago\n",
      "Annee : 1846\n",
      "Debut eloge : \\n\tLe maréchal de Saxe raconta\n",
      "=======\n",
      "Savant  : Grandidier\n",
      "Auteur : Alfred Lacroix\n",
      "Annee : 1922\n",
      "Debut eloge : \\n Messieurs, \t \\n Choisir dan\n",
      "=======\n",
      "Savant  : Bonnier\n",
      "Auteur : Molliard\n",
      "Annee : 1923\n",
      "Debut eloge : \\n Bonnier (Gaston- Eugène-Mar\n",
      "=======\n",
      "Savant  : Fizeau\n",
      "Auteur : Picard\n",
      "Annee : 1923\n",
      "Debut eloge : \\n Messieurs, \t \\n Des travaux\n",
      "=======\n",
      "Savant  : Edwards\n",
      "Auteur : Alfred Lacroix\n",
      "Annee : 1924\n",
      "Debut eloge : \\n Messieurs, \t \\n Pendant les\n",
      "=======\n",
      "Savant  : Tannery\n",
      "Auteur : Picard\n",
      "Annee : 1925\n",
      "Debut eloge : \\n Messieurs, \t \\n C'est un de\n",
      "=======\n",
      "Savant  : Boussingault\n",
      "Auteur : Alfred Lacroix\n",
      "Annee : 1926\n",
      "Debut eloge : \\n Messieurs, \t \\n Un arrêté r\n",
      "=======\n",
      "Savant  : Saint-Vincent\n",
      "Auteur : Alfred Lacroix\n",
      "Annee : 1916\n",
      "Debut eloge : \\n Messieurs, \t \\n Au moment o\n",
      "=======\n",
      "Savant  : Darboux\n",
      "Auteur : Picard\n",
      "Annee : 1917\n",
      "Debut eloge : \\n Messieurs, \t \\n La tâche tr\n",
      "=======\n",
      "Savant  : Dolomieu\n",
      "Auteur : Alfred Lacroix\n",
      "Annee : 1918\n",
      "Debut eloge : \\n Messieurs, \t \\n Au cours de\n",
      "=======\n",
      "Savant  : Kelvin\n",
      "Auteur : Picard\n",
      "Annee : 1919\n",
      "Debut eloge : \\n Messieurs, \t \\n Une des plu\n",
      "=======\n",
      "Savant  : Laparrent\n",
      "Auteur : Alfred Lacroix\n",
      "Annee : 1920\n",
      "Debut eloge : \\n Messieurs, \t \\n Ce n'est po\n",
      "=======\n",
      "Savant  : Schloesing\n",
      "Auteur : Lindet\n",
      "Annee : 1920\n",
      "Debut eloge : \\n La belle carrière scientifi\n",
      "=======\n",
      "Savant  : Duhem\n",
      "Auteur : Picard\n",
      "Annee : 1921\n",
      "Debut eloge : \\n Messieurs, \t \\n Nos classif\n",
      "=======\n",
      "Savant  : Guyou\n",
      "Auteur : Fournier\n",
      "Annee : 1921\n",
      "Debut eloge : \\n I. \t \\n Emile Guyou est né,\n",
      "=======\n",
      "Savant  : Humbert\n",
      "Auteur : Borel\n",
      "Annee : 1922\n",
      "Debut eloge : \\n I. \t \\n Georges Humbert est\n",
      "=======\n",
      "Savant  : Carpentier\n",
      "Auteur : d'Ocagne\n",
      "Annee : 1922\n",
      "Debut eloge : \\n Il serait, sans doute, poss\n",
      "=======\n",
      "Savant  : Carnot\n",
      "Auteur : Breton\n",
      "Annee : 1922\n",
      "Debut eloge : \\n Adolphe Carnot, dont le nom\n",
      "=======\n",
      "Savant  : Jordan\n",
      "Auteur : Lebesgue\n",
      "Annee : 1923\n",
      "Debut eloge : \\n La section de Géométrie vie\n",
      "=======\n",
      "Savant  : Beautemps-Beaupré\n",
      "Auteur : De Beaumont\n",
      "Annee : 1859\n",
      "Debut eloge : Messieurs, \\n\tToutes les gloir\n",
      "=======\n",
      "Savant  : Thenard\n",
      "Auteur : Flourens\n",
      "Annee : 1860\n",
      "Debut eloge : \\n\tNée du goût du merveilleux \n",
      "=======\n",
      "Savant  : Adrien-Marie Legendre\n",
      "Auteur : De Beaumont\n",
      "Annee : 1861\n",
      "Debut eloge : Messieurs, \\n\tOn a dit que le \n",
      "=======\n",
      "Savant  : Magendie\n",
      "Auteur : Flourens\n",
      "Annee : 1858\n",
      "Debut eloge : ´ Quand on a bien du mérite, ª\n",
      "=======\n",
      "Savant  : Tiedemann\n",
      "Auteur : Flourens\n",
      "Annee : 1861\n",
      "Debut eloge : En dépit de son nom, le sens c\n",
      "=======\n",
      "Savant  : Oersted\n",
      "Auteur : De Beaumont\n",
      "Annee : 1862\n",
      "Debut eloge : \\n\tMessieurs, \\n\tLa science es\n",
      "=======\n",
      "Savant  : Duméril\n",
      "Auteur : Flourens\n",
      "Annee : 1803\n",
      "Debut eloge : \\n\tIl y a quelques années à pe\n",
      "=======\n",
      "Savant  : Bravais\n",
      "Auteur : De Beaumont\n",
      "Annee : 1865\n",
      "Debut eloge : \\n\tMessieurs, \\n\tL'un des dons\n",
      "=======\n",
      "Savant  : Faraday\n",
      "Auteur : Dumas\n",
      "Annee : 1868\n",
      "Debut eloge : \\n\tAu moment où l'Académie dai\n",
      "=======\n",
      "Savant  : Jules Pelouze\n",
      "Auteur : Dumas\n",
      "Annee : 1870.\n",
      "Debut eloge : Messieurs, \\n\tDepuis le commen\n",
      "=======\n",
      "Savant  : Piobert\n",
      "Auteur : Morin\n",
      "Annee : 1871\n",
      "Debut eloge : \\n\tMessieurs, \\n\tC'est ordinai\n",
      "=======\n",
      "Savant  : Biot\n",
      "Auteur : Picard\n",
      "Annee : 1927\n",
      "Debut eloge : \\n \tMessieurs, \\n \tLa vie des \n",
      "=======\n",
      "Savant  : Troisieme fauteuil de la section de mineralogie.\n",
      "Auteur : Alfred Lacroix\n",
      "Annee : 1928\n",
      "Debut eloge : \\n \tMessieurs, \\n \tSuivant une\n",
      "=======\n",
      "Savant  : Beudant et Legrand Des Cloizeaux\n",
      "Auteur : Alfred Lacroix\n",
      "Annee : 1930\n",
      "Debut eloge : Messieurs, \\n \tDans la classif\n",
      "=======\n",
      "Savant  : Lippman\n",
      "Auteur : Picard\n",
      "Annee : 1931\n",
      "Debut eloge : \\n \tMessieurs \\n \tIl y a eu de\n",
      "=======\n",
      "Savant  : Claude Bernard\n",
      "Auteur : Van Tieghem\n",
      "Annee : 1910\n",
      "Debut eloge : \\n Messieurs \t \\n C'est seulem\n",
      "=======\n",
      "Savant  : Dumas\n",
      "Auteur : Van Tieghem\n",
      "Annee : 1912\n",
      "Debut eloge : \\n Messieurs \t \\n Parmi les de\n",
      "=======\n",
      "Savant  : Poincarre\n",
      "Auteur : Darboux\n",
      "Annee : 1913\n",
      "Debut eloge : \\n Messieurs \t \\n II y a un an\n",
      "=======\n",
      "Savant  : Michel-Levy\n",
      "Auteur : Alfred Lacroix\n",
      "Annee : 1914\n",
      "Debut eloge : \\n Messieurs \t \\n Aux heures l\n",
      "=======\n",
      "Savant  : Maurice Levy\n",
      "Auteur : Lecornu\n",
      "Annee : 1915\n",
      "Debut eloge : \\n Je ne saurais, dans les cir\n",
      "=======\n",
      "Savant  : Lucas-Championnière\n",
      "Auteur : Richet\n",
      "Annee : 1913\n",
      "Debut eloge : \\n Le grand-père de Lucas-Cham\n",
      "=======\n",
      "Savant  : Banks\n",
      "Auteur : Cuvier\n",
      "Annee : 1821\n",
      "Debut eloge : \\n\tLes ouvrages que laisse apr\n",
      "=======\n",
      "Savant  : William Herschel\n",
      "Auteur : Fourier\n",
      "Annee : 1824\n",
      "Debut eloge : \\n\tMessieurs, \\n\tWilliam Hersc\n",
      "=======\n",
      "Savant  : Duhamel\n",
      "Auteur : Cuvier\n",
      "Annee : 1822\n",
      "Debut eloge : \\n\tPrononcé dans la séance pub\n",
      "=======\n",
      "Savant  : Breguet\n",
      "Auteur : Fourier\n",
      "Annee : 1826\n",
      "Debut eloge : Messieurs, \\n\tUn grand artiste\n",
      "=======\n",
      "Savant  : Richard\n",
      "Auteur : Cuvier\n",
      "Annee : 1828\n",
      "Debut eloge : \\n\tM. Richard nous offre l'exe\n",
      "=======\n",
      "Savant  : Thouin\n",
      "Auteur : Cuvier\n",
      "Annee : 1828\n",
      "Debut eloge : \\n\tRien ne prouve mieux à quel\n",
      "=======\n",
      "Savant  : Charles\n",
      "Auteur : Fourier\n",
      "Annee : 1838\n",
      "Debut eloge : \\n\tEn consacrant ce discours à\n",
      "=======\n",
      "Savant  : Hauy\n",
      "Auteur : Cuvier\n",
      "Annee : 1823\n",
      "Debut eloge : \\n\tL'histoire des sciences pré\n",
      "=======\n",
      "Savant  : Berthollet\n",
      "Auteur : Cuvier\n",
      "Annee : 1824\n",
      "Debut eloge : \\n\tQuelque grande, quelque heu\n",
      "=======\n",
      "Savant  : Lacépède\n",
      "Auteur : Cuvier\n",
      "Annee : 1826\n",
      "Debut eloge : \\n\tChargés de consigner dans l\n",
      "=======\n",
      "Savant  : Ramond\n",
      "Auteur : Cuvier\n",
      "Annee : 1826\n",
      "Debut eloge : \\n\tDans cette biographie de l'\n",
      "=======\n",
      "Savant  : Halle\n",
      "Auteur : Cuvier\n",
      "Annee : 1827\n",
      "Debut eloge : \\n\tDe tout temps l'ancienne Ac\n",
      "=======\n",
      "Savant  : Corvisart\n",
      "Auteur : Cuvier\n",
      "Annee : 1827\n",
      "Debut eloge : \\n\tJean-Nicolas Corvisart, le \n",
      "=======\n",
      "Savant  : Pinel\n",
      "Auteur : Cuvier\n",
      "Annee : 1827\n",
      "Debut eloge : \\n\tPhilippe Pinel a été presqu\n",
      "=======\n",
      "Savant  : Laplace\n",
      "Auteur : Fourier\n",
      "Annee : 1829\n",
      "Debut eloge : \\n\tMessieurs, \\n\tLe nom de Lap\n",
      "=======\n",
      "Savant  : Bosc\n",
      "Auteur : Cuvier\n",
      "Annee : 1829\n",
      "Debut eloge : \\n\tLouis-Augustin Guillaume Bo\n",
      "=======\n",
      "Savant  : Humphry Davy\n",
      "Auteur : Cuvier\n",
      "Annee : 1830\n",
      "Debut eloge : \\n\tUn célèbre académicien, par\n",
      "=======\n",
      "Savant  : Vauquelin\n",
      "Auteur : Cuvier\n",
      "Annee : 1821\n",
      "Debut eloge : \\n\tLe juste respect que l'Acad\n",
      "=======\n",
      "Savant  : De La Gournerie\n",
      "Auteur : Bertrand\n",
      "Annee : 1885\n",
      "Debut eloge : \\n\tMessieurs \\n\tAvant de louer\n",
      "=======\n",
      "Savant  : Flourens\n",
      "Auteur : Vulpian\n",
      "Annee : 1886\n",
      "Debut eloge : \\n\tMessieurs \\n\tOn se représen\n",
      "=======\n",
      "Savant  : De Lôme\n",
      "Auteur : Bertrand\n",
      "Annee : 1887\n",
      "Debut eloge : \\n\tMessieurs \\n\tL'auteur d'un \n",
      "=======\n",
      "Savant  : Yvon-Villarceau\n",
      "Auteur : Bertrand\n",
      "Annee : 1888\n",
      "Debut eloge : \\n\tMessieurs, \\n\tLes éloges pr\n",
      "=======\n",
      "Savant  : Lavoisier\n",
      "Auteur : Berthelot\n",
      "Annee : 1889\n",
      "Debut eloge : Messieurs, \\n\tLa France a célé\n",
      "=======\n",
      "Savant  : Poinsot\n",
      "Auteur : Bertrand\n",
      "Annee : 1890\n",
      "Debut eloge : \\n\tMessieurs, \\n\tJ'ai beaucoup\n",
      "=======\n",
      "Savant  : Cosson\n",
      "Auteur : Bertrand\n",
      "Annee : 1890\n",
      "Debut eloge : \\n\tMessieurs, \\n\tL'excellent e\n",
      "=======\n",
      "Savant  : Edwards\n",
      "Auteur : Berthelot\n",
      "Annee : 1891\n",
      "Debut eloge : \\n\tMessieurs \\n\tLe savant dont\n",
      "=======\n",
      "Savant  : Chasles\n",
      "Auteur : Bertrand\n",
      "Annee : 1892\n",
      "Debut eloge : \\n\tMessieurs \\n\tMichel Chasles\n",
      "=======\n",
      "Savant  : Decaisne\n",
      "Auteur : Berthelot\n",
      "Annee : 1893\n",
      "Debut eloge : \\n\tMessieurs, \\n\tLa Science a \n",
      "=======\n",
      "Savant  : Cordier\n",
      "Auteur : Bertrand\n",
      "Annee : 1894\n",
      "Debut eloge : \\n\tLa séance dans laquelle l'A\n",
      "=======\n",
      "Savant  : Pâris\n",
      "Auteur : Bertrand\n",
      "Annee : 1895\n",
      "Debut eloge : \\n\tMessieurs \\n\tFrançois-Edmon\n",
      "=======\n",
      "Savant  : Mallard\n",
      "Auteur : Berthelot\n",
      "Annee : 1896\n",
      "Debut eloge : \\n\tMessieurs \\n\tLa minéralogie\n",
      "=======\n",
      "Savant  : Cauchy\n",
      "Auteur : Bertrand\n",
      "Annee : 1898\n",
      "Debut eloge : \\n\tMessieurs, \\n\tLorsqu'en 183\n",
      "=======\n",
      "Savant  : Brown-Séquard\n",
      "Auteur : Berthelot\n",
      "Annee : 1898\n",
      "Debut eloge : \\n\tGeber, philosophe et chimis\n",
      "=======\n",
      "Savant  : Tisserand\n",
      "Auteur : Bertrand\n",
      "Annee : 1899\n",
      "Debut eloge : \\n\tMessieurs, \\n\t\" Newton est \n",
      "=======\n",
      "Savant  : Naudin\n",
      "Auteur : Berthelot\n",
      "Annee : 1900\n",
      "Debut eloge : \\n\tMessieurs, \\n\tLes savants, \n",
      "=======\n",
      "Savant  : Bertrand\n",
      "Auteur : Darboux\n",
      "Annee : 1901\n",
      "Debut eloge : \\n\tMessieurs, \\n\tAppelé pour l\n",
      "=======\n",
      "Savant  : Chevreul\n",
      "Auteur : Berthelot\n",
      "Annee : 1902\n",
      "Debut eloge : \\n\tMessieurs, \\n\tLa science et\n",
      "=======\n",
      "Savant  : Perrier\n",
      "Auteur : Darboux\n",
      "Annee : 1903\n",
      "Debut eloge : \\n\tLorsque le voyageur quitte \n",
      "=======\n",
      "Savant  : Daubrée\n",
      "Auteur : Berthelot\n",
      "Annee : 1904\n",
      "Debut eloge : \\n\tMessieurs, \\n\tChaque profes\n",
      "=======\n",
      "Savant  : Boussinesq\n",
      "Auteur : Picard\n",
      "Annee : 1933\n",
      "Debut eloge : \\n Messieurs, \t \\n Il y eut lo\n",
      "=======\n",
      "Savant  : Michelson\n",
      "Auteur : Picard\n",
      "Annee : 1935\n",
      "Debut eloge : \\n Messieurs, \t \\n L'histoire \n",
      "=======\n",
      "Savant  : Cinq De Jussieu Leur Rôle D'animateurs Des Recherches D'histoire Naturelle Dans Les Colonies Francaises. Leurs Principaux Correspondants.\n",
      "Auteur : Alfred Lacroix\n",
      "Annee : 1936\n",
      "Debut eloge : Messieurs, \t \\n A deux reprise\n",
      "=======\n",
      "Savant  : Villard et Gouy\n",
      "Auteur : Picard\n",
      "Annee : 1937\n",
      "Debut eloge : \\n Messieurs, \t \\n C'est le de\n",
      "=======\n",
      "Savant  : quatre botanistes \t  ayant travaille pour la france d'outre-ler \t  de la fin du siecle dernier a nos jours\n",
      "Auteur : Alfred Lacroix\n",
      "Annee : 1938\n",
      "Debut eloge : \\n Messieurs, \t \\n A trois rep\n",
      "=======\n",
      "Savant  : Jean Plana\n",
      "Auteur : De Beaumont\n",
      "Annee : 1812\n",
      "Debut eloge : \\n\tMessieurs \\n\tLe cadre biséc\n",
      "=======\n",
      "Savant  : Saint-Hilaire\n",
      "Auteur : Dumas\n",
      "Annee : 1812\n",
      "Debut eloge : Messieurs, \\n\tQuelques famille\n",
      "=======\n",
      "Savant  : De Beaumont\n",
      "Auteur : Bertrand\n",
      "Annee : 1819\n",
      "Debut eloge : Messieurs, \\n\tLa famille d'…li\n",
      "=======\n",
      "Savant  : Alexandre Brongniart et Adolphe Brongniart\n",
      "Auteur : Dumas\n",
      "Annee : 1811\n",
      "Debut eloge : Messieurs \\n\tAu moment où l'Ac\n",
      "=======\n",
      "Savant  : Rive\n",
      "Auteur : Dumas\n",
      "Annee : 1874.\n",
      "Debut eloge : Messieurs, \\n\tIl y a un an, l'\n",
      "=======\n",
      "Savant  : Poncelet\n",
      "Auteur : Bertrand\n",
      "Annee : 1875\n",
      "Debut eloge : Chamfort raconte qu'un médecin\n",
      "=======\n",
      "Savant  : Lamé\n",
      "Auteur : Bertrand\n",
      "Annee : 1878\n",
      "Debut eloge : Messieurs, \\n\tGabriel Lamé a m\n",
      "=======\n",
      "Savant  : Balard\n",
      "Auteur : Dumas\n",
      "Annee : 1879\n",
      "Debut eloge : Messieurs, \\n\tIl y a trois ans\n",
      "=======\n",
      "Savant  : Le Verrier\n",
      "Auteur : Bertrand\n",
      "Annee : 1879\n",
      "Debut eloge : Messieurs, \\n\tAu temps seul ap\n",
      "=======\n",
      "Savant  : Belgrand\n",
      "Auteur : Bertrand\n",
      "Annee : 1880\n",
      "Debut eloge : Messieurs, \\n\tLa mort nous moi\n",
      "=======\n",
      "Savant  : Regnault\n",
      "Auteur : Dumas\n",
      "Annee : 1881\n",
      "Debut eloge : \\n\tMessieurs, \\n\tCe n'est pas \n",
      "=======\n",
      "Savant  : Foucault\n",
      "Auteur : Bertrand\n",
      "Annee : 1882\n",
      "Debut eloge : Messieurs \\n\tS'il est vrai, co\n",
      "=======\n",
      "Savant  : Dupin\n",
      "Auteur : Bertrand\n",
      "Annee : 1883\n",
      "Debut eloge : Messieurs, \\n\tVers le milieu d\n",
      "=======\n",
      "Savant  : Charles et Henri Sainte-Claire-Deville\n",
      "Auteur : Dumas\n",
      "Annee : 1884\n",
      "Debut eloge : Messieurs, \\n\tIl est rare de v\n",
      "=======\n",
      "Savant  : Puiseux\n",
      "Auteur : Bertrand\n",
      "Annee : 1884\n",
      "Debut eloge : Messieurs, icislas\tLe Secrétai\n",
      "=======\n",
      "Savant  : Arago\n",
      "Auteur : Jamin\n",
      "Annee : 1885\n",
      "Debut eloge : Dans l'ancienne province du Ro\n",
      "=======\n",
      "Savant  : Combes\n",
      "Auteur : Bertrand\n",
      "Annee : 1885\n",
      "Debut eloge : Messieurs, \\n\tFaire chaque jou\n",
      "=======\n",
      "Savant  : Hermite\n",
      "Auteur : Darboux\n",
      "Annee : 1905\n",
      "Debut eloge : \\n Messieurs, \t \\n \" La mort n\n",
      "=======\n",
      "Savant  : Fouque\n",
      "Auteur : Berthelot\n",
      "Annee : 1906\n",
      "Debut eloge : \\n l. \t \\n La connaissance du \n",
      "=======\n",
      "Savant  : Abbadie\n",
      "Auteur : Darboux\n",
      "Annee : 1907\n",
      "Debut eloge : \\n Depuis l'année 1721, où l'A\n",
      "=======\n",
      "Savant  : Duchartre\n",
      "Auteur : Van Tieghem\n",
      "Annee : 1908\n",
      "Debut eloge : \\n MESSIEURS, \t \\n La Science \n",
      "=======\n",
      "Savant  : Meusnier\n",
      "Auteur : Darboux\n",
      "Annee : 1909\n",
      "Debut eloge : \\n Messieurs, \t \\n Dans la bel\n",
      "=======\n",
      "Savant  : Onnes\n",
      "Auteur : Picard\n",
      "Annee : 1939\n",
      "Debut eloge : Messieurs, \t\\n Je me propose a\n",
      "=======\n",
      "Savant  : Membres et correspondants  de l'academie des sciences ayant travaille dans l'Afrique du nord francaise depuis le XVIIIe siecle : les botanistes\n",
      "Auteur : Alfred Lacroix\n",
      "Annee : 1940\n",
      "Debut eloge : Messieurs, \t\\n Cette année enc\n",
      "=======\n",
      "Savant  : Hamy\n",
      "Auteur : Picard\n",
      "Annee : 1941\n",
      "Debut eloge : \\n Messieurs, \t\\n Il est dans \n",
      "=======\n",
      "Savant  : Picard\n",
      "Auteur : De Broglie\n",
      "Annee : 1942\n",
      "Debut eloge : \\n Messieurs, \t\\n Dans notre C\n",
      "=======\n",
      "Savant  : Membres et correspondants zoologistes et biologistes de l'academie des sciences ayant travaille sur les côtes des colonies francaises de l'afrique du nord et du nord-est depuis le Xviiie siecle\n",
      "Auteur : Alfred Lacroix\n",
      "Annee : 1943\n",
      "Debut eloge : \\n Messieurs, \t\\n Depuis un si\n",
      "=======\n",
      "Savant  : Volta\n",
      "Auteur : Arago\n",
      "Annee : 1831\n",
      "Debut eloge : \\n\tMessieurs, \\n\tL'ambre jaune\n",
      "=======\n",
      "Savant  : Lamarck\n",
      "Auteur : Cuvier\n",
      "Annee : 1822\n",
      "Debut eloge : \\n\tParmi les hommes livrés à l\n",
      "=======\n",
      "Savant  : Percy\n",
      "Auteur : Flourens\n",
      "Annee : 1833\n",
      "Debut eloge : \\n\tPierre-François Percy, memb\n",
      "=======\n",
      "Savant  : Young\n",
      "Auteur : Arago\n",
      "Annee : 1832\n",
      "Debut eloge : Messieurs, \\n\tLa mort qui, san\n",
      "=======\n",
      "Savant  : Cuvier\n",
      "Auteur : Flourens\n",
      "Annee : 1834\n",
      "Debut eloge : \\n\tLorsqu'une nation perd un d\n",
      "=======\n",
      "Savant  : Fourier\n",
      "Auteur : Arago\n",
      "Annee : 1833\n",
      "Debut eloge : \\n\tMessieurs, \\n\tUn académicie\n",
      "=======\n",
      "Savant  : Chaptal\n",
      "Auteur : Flourens\n",
      "Annee : 1835\n",
      "Debut eloge : \\n\tL'Homme célèbre dont j'ai à\n",
      "=======\n",
      "Savant  : Desfontaines\n",
      "Auteur : Flourens\n",
      "Annee : 1837\n",
      "Debut eloge : \\n\tParmi les savants dont les \n",
      "=======\n",
      "Savant  : de Labillardière\n",
      "Auteur : Flourens\n",
      "Annee : 1837\n",
      "Debut eloge : La vie de M. de Labillardière \n",
      "=======\n",
      "Savant  : de Jussieu\n",
      "Auteur : Flourens\n",
      "Annee : 1838\n",
      "Debut eloge : La famille des Jussieu est ori\n",
      "=======\n",
      "Savant  : Cuvier\n",
      "Auteur : Flourens\n",
      "Annee : 1840\n",
      "Debut eloge : Parmi les hommes auxquels nos \n",
      "=======\n",
      "Savant  : Pyramus de Candolle\n",
      "Auteur : Flourens\n",
      "Annee : 1842\n",
      "Debut eloge : \\n\tL'Académie a perdu, en peu \n",
      "=======\n",
      "Savant  : Condorcet\n",
      "Auteur : Arago\n",
      "Annee : 1841\n",
      "Debut eloge : \\n\tIntroduction. \\n\tDans les d\n"
     ]
    }
   ],
   "source": [
    "#Printing to check it worked\n",
    "for eul_pap in l_by_eul :\n",
    "    for l in eul_pap :\n",
    "        savant, auteur, annee, eloge = get_info_19e(l)\n",
    "        print(\"=======\")\n",
    "        print(\"Savant  : \" + savant)\n",
    "        print(\"Auteur : \" + auteur)\n",
    "        print(\"Annee : \" + str(annee))\n",
    "        print(\"Debut eloge : \" + eloge[0:30])"
   ]
  },
  {
   "cell_type": "code",
   "execution_count": 109,
   "id": "cloudy-identity",
   "metadata": {},
   "outputs": [],
   "source": [
    "#save as dataframe\n",
    "for i, eul_pap in enumerate(l_by_eul) :\n",
    "    \n",
    "    save_as_df(get_info_19e, eul_pap, '19e_siecle_2eme_' + str(i))"
   ]
  },
  {
   "cell_type": "markdown",
   "id": "random-swift",
   "metadata": {},
   "source": [
    "# 6. 19eme siècle arago"
   ]
  },
  {
   "cell_type": "code",
   "execution_count": 110,
   "id": "associate-component",
   "metadata": {},
   "outputs": [],
   "source": [
    "#Reading the file\n",
    "with open(DATA_FOLDER + 'corpus19-20_arago_txt.txt', 'rb') as f:\n",
    "    lines = f.readlines()"
   ]
  },
  {
   "cell_type": "code",
   "execution_count": 111,
   "id": "dietary-installation",
   "metadata": {},
   "outputs": [],
   "source": [
    "# Decode every line and store every line in a new list\n",
    "\n",
    "line_dec = []\n",
    "\n",
    "for l in lines :\n",
    "    line_dec.append(l.decode(\"mac_roman\"))"
   ]
  },
  {
   "cell_type": "code",
   "execution_count": 112,
   "id": "fuzzy-shell",
   "metadata": {},
   "outputs": [
    {
     "data": {
      "text/plain": [
       "'<savant> Fresnel \\\\n<auteur> Arago  \\\\n<annee> 1830 \\\\n<eloge> Messieurs, \" il est des hommes ‡ qui líon succËde et que personne ne remplace.\" : Ces paroles díun des plus honorables Ècrivains de notre te'"
      ]
     },
     "execution_count": 112,
     "metadata": {},
     "output_type": "execute_result"
    }
   ],
   "source": [
    "line_dec[0][0:200]"
   ]
  },
  {
   "cell_type": "code",
   "execution_count": 113,
   "id": "known-report",
   "metadata": {},
   "outputs": [
    {
     "data": {
      "text/plain": [
       "1"
      ]
     },
     "execution_count": 113,
     "metadata": {},
     "output_type": "execute_result"
    }
   ],
   "source": [
    "len(line_dec)"
   ]
  },
  {
   "cell_type": "code",
   "execution_count": 114,
   "id": "protecting-modem",
   "metadata": {},
   "outputs": [],
   "source": [
    "#Replacing wrongly written characters\n",
    "lines_dec_corr = []\n",
    "for l in line_dec :\n",
    "    for key in lookp_dict.keys():\n",
    "        l = l.replace(key, lookp_dict[key])\n",
    "    lines_dec_corr.append(l)"
   ]
  },
  {
   "cell_type": "code",
   "execution_count": 115,
   "id": "pregnant-edgar",
   "metadata": {},
   "outputs": [
    {
     "data": {
      "text/plain": [
       "'<savant> Fresnel \\\\n<auteur> Arago  \\\\n<annee> 1830 \\\\n<eloge> Messieurs, \" il est des hommes à qui l\\'on succède et que personne ne remplace.\" : Ces paroles d\\'un des plus honorables écrivains de notre te'"
      ]
     },
     "execution_count": 115,
     "metadata": {},
     "output_type": "execute_result"
    }
   ],
   "source": [
    "lines_dec_corr[0][0:200]"
   ]
  },
  {
   "cell_type": "code",
   "execution_count": 116,
   "id": "formed-worship",
   "metadata": {},
   "outputs": [],
   "source": [
    "#splitting the eulogies\n",
    "lines_dec_sp = lines_dec_corr[0].split('<savant>')"
   ]
  },
  {
   "cell_type": "code",
   "execution_count": 117,
   "id": "healthy-balance",
   "metadata": {},
   "outputs": [
    {
     "name": "stdout",
     "output_type": "stream",
     "text": [
      "Number of eulogies : 6\n"
     ]
    }
   ],
   "source": [
    "print('Number of eulogies : ' + str(len(lines_dec_sp)))"
   ]
  },
  {
   "cell_type": "code",
   "execution_count": 118,
   "id": "mighty-cliff",
   "metadata": {},
   "outputs": [
    {
     "data": {
      "text/plain": [
       "''"
      ]
     },
     "execution_count": 118,
     "metadata": {},
     "output_type": "execute_result"
    }
   ],
   "source": [
    "lines_dec_sp[0]"
   ]
  },
  {
   "cell_type": "code",
   "execution_count": 119,
   "id": "ongoing-field",
   "metadata": {},
   "outputs": [
    {
     "name": "stdout",
     "output_type": "stream",
     "text": [
      "Number of eulogies : 5\n"
     ]
    }
   ],
   "source": [
    "#Removing the first line as it is a blak space\n",
    "lines_dec_sp.pop(0)\n",
    "print('Number of eulogies : ' + str(len(lines_dec_sp)))\n",
    "lines_dc_tag = []\n",
    "for l in lines_dec_sp :\n",
    "    #Tagging eulogies\n",
    "    lines_dc_tag.append('<savant>' + l)\n"
   ]
  },
  {
   "cell_type": "code",
   "execution_count": 120,
   "id": "exceptional-rugby",
   "metadata": {},
   "outputs": [
    {
     "data": {
      "text/plain": [
       "'<savant> Fresnel \\\\n<auteur> Arago  \\\\n<annee> 1830 \\\\n<eloge> Messieurs, \" il est des hommes à qui l\\'on succède et que personne ne remplace.\" : Ces paroles d\\'un des plus honorables écrivains de notre te'"
      ]
     },
     "execution_count": 120,
     "metadata": {},
     "output_type": "execute_result"
    }
   ],
   "source": [
    "lines_dc_tag[0][0:200]"
   ]
  },
  {
   "cell_type": "code",
   "execution_count": 121,
   "id": "thrown-cancellation",
   "metadata": {},
   "outputs": [
    {
     "name": "stdout",
     "output_type": "stream",
     "text": [
      "=======\n",
      "Savant  : Fresnel\n",
      "Auteur : Arago\n",
      "Annee : 1830\n",
      "Debut eloge : Messieurs, \" il est des hommes\n",
      "=======\n",
      "Savant  : Ampère\n",
      "Auteur : Arago\n",
      "Annee : 1839\n",
      "Debut eloge : Messieurs, je dois aujourd'hui\n",
      "=======\n",
      "Savant  : Poisson\n",
      "Auteur : Arago\n",
      "Annee : 1850\n",
      "Debut eloge : Naissance de Poisson. - Sa jeu\n",
      "=======\n",
      "Savant  : Gay-Lussac\n",
      "Auteur : Arago\n",
      "Annee : 1852\n",
      "Debut eloge : La biographie dont je vais don\n",
      "=======\n",
      "Savant  : Malus\n",
      "Auteur : Arago\n",
      "Annee : 1855\n",
      "Debut eloge : Naissance de Malus. son éducat\n"
     ]
    }
   ],
   "source": [
    "#Checking everything worked\n",
    "for l in lines_dc_tag :\n",
    "    savant, auteur, annee, eloge = get_info_19e(l)\n",
    "    print(\"=======\")\n",
    "    print(\"Savant  : \" + savant)\n",
    "    print(\"Auteur : \" + auteur)\n",
    "    print(\"Annee : \" + str(annee))\n",
    "    print(\"Debut eloge : \" + eloge[0:30])"
   ]
  },
  {
   "cell_type": "code",
   "execution_count": 122,
   "id": "increased-transsexual",
   "metadata": {},
   "outputs": [],
   "source": [
    "#save as dataframe\n",
    "save_as_df(get_info_19e, lines_dc_tag, 'Arago')"
   ]
  },
  {
   "cell_type": "markdown",
   "id": "assured-johnson",
   "metadata": {},
   "source": [
    "# 7. Merging all dataframes"
   ]
  },
  {
   "cell_type": "code",
   "execution_count": 123,
   "id": "delayed-deputy",
   "metadata": {},
   "outputs": [
    {
     "data": {
      "text/plain": [
       "['dataframe_19e_siecle_1ere_2.csv',\n",
       " 'dataframe_19e_siecle_1ere_3.csv',\n",
       " 'dataframe_19e_siecle_1ere_1.csv',\n",
       " 'dataframe_19e_siecle_1ere_0.csv',\n",
       " 'dataframe_19e_siecle_2eme_0.csv',\n",
       " 'dataframe_Condorcet_1.csv',\n",
       " 'dataframe_19e_siecle_2eme_1.csv',\n",
       " 'dataframe_19e_siecle_2eme_3.csv',\n",
       " 'dataframe_Condorcet_2.csv',\n",
       " 'dataframe_Mairan.csv',\n",
       " 'dataframe_19e_siecle_2eme_2.csv',\n",
       " 'dataframe_19e_siecle_2eme_6.csv',\n",
       " 'dataframe_19e_siecle_2eme_7.csv',\n",
       " 'eulogies.csv',\n",
       " 'dataframe_19e_siecle_2eme_5.csv',\n",
       " 'dataframe_19e_siecle_2eme_4.csv',\n",
       " 'dataframe_19e_siecle_2eme_9.csv',\n",
       " 'dataframe_19e_siecle_2eme_8.csv',\n",
       " '.ipynb_checkpoints',\n",
       " 'dataframe_Fouchy.csv',\n",
       " 'sec_perp.csv',\n",
       " 'dataframe_19e_siecle_2eme_11.csv',\n",
       " 'dataframe_19e_siecle_2eme_10.csv',\n",
       " 'dataframe_19e_siecle_2eme_12.csv',\n",
       " 'dataframe_Arago.csv']"
      ]
     },
     "execution_count": 123,
     "metadata": {},
     "output_type": "execute_result"
    }
   ],
   "source": [
    "#Loading all eulogies\n",
    "PATH_DF = './../Data/Dataframes'\n",
    "entries = os.listdir(PATH_DF)\n",
    "entries"
   ]
  },
  {
   "cell_type": "code",
   "execution_count": 124,
   "id": "continent-immigration",
   "metadata": {},
   "outputs": [
    {
     "data": {
      "text/plain": [
       "'eulogies.csv'"
      ]
     },
     "execution_count": 124,
     "metadata": {},
     "output_type": "execute_result"
    }
   ],
   "source": [
    "entries.pop(entries.index('sec_perp.csv'))\n",
    "entries.pop(entries.index('.ipynb_checkpoints'))\n",
    "entries.pop(entries.index('eulogies.csv'))"
   ]
  },
  {
   "cell_type": "code",
   "execution_count": 125,
   "id": "czech-patio",
   "metadata": {
    "scrolled": true
   },
   "outputs": [
    {
     "data": {
      "text/plain": [
       "['dataframe_19e_siecle_1ere_2.csv',\n",
       " 'dataframe_19e_siecle_1ere_3.csv',\n",
       " 'dataframe_19e_siecle_1ere_1.csv',\n",
       " 'dataframe_19e_siecle_1ere_0.csv',\n",
       " 'dataframe_19e_siecle_2eme_0.csv',\n",
       " 'dataframe_Condorcet_1.csv',\n",
       " 'dataframe_19e_siecle_2eme_1.csv',\n",
       " 'dataframe_19e_siecle_2eme_3.csv',\n",
       " 'dataframe_Condorcet_2.csv',\n",
       " 'dataframe_Mairan.csv',\n",
       " 'dataframe_19e_siecle_2eme_2.csv',\n",
       " 'dataframe_19e_siecle_2eme_6.csv',\n",
       " 'dataframe_19e_siecle_2eme_7.csv',\n",
       " 'dataframe_19e_siecle_2eme_5.csv',\n",
       " 'dataframe_19e_siecle_2eme_4.csv',\n",
       " 'dataframe_19e_siecle_2eme_9.csv',\n",
       " 'dataframe_19e_siecle_2eme_8.csv',\n",
       " 'dataframe_Fouchy.csv',\n",
       " 'dataframe_19e_siecle_2eme_11.csv',\n",
       " 'dataframe_19e_siecle_2eme_10.csv',\n",
       " 'dataframe_19e_siecle_2eme_12.csv',\n",
       " 'dataframe_Arago.csv']"
      ]
     },
     "execution_count": 125,
     "metadata": {},
     "output_type": "execute_result"
    }
   ],
   "source": [
    "entries"
   ]
  },
  {
   "cell_type": "code",
   "execution_count": 126,
   "id": "freelance-prize",
   "metadata": {},
   "outputs": [],
   "source": [
    "ls = []\n",
    "for path in entries:\n",
    "    ls.append(pd.read_csv(PATH_DF + '/' + path))"
   ]
  },
  {
   "cell_type": "code",
   "execution_count": 127,
   "id": "blind-stranger",
   "metadata": {},
   "outputs": [],
   "source": [
    "eulogies = pd.concat(ls, ignore_index = True)"
   ]
  },
  {
   "cell_type": "code",
   "execution_count": 128,
   "id": "thirty-buyer",
   "metadata": {},
   "outputs": [
    {
     "data": {
      "text/html": [
       "<div>\n",
       "<style scoped>\n",
       "    .dataframe tbody tr th:only-of-type {\n",
       "        vertical-align: middle;\n",
       "    }\n",
       "\n",
       "    .dataframe tbody tr th {\n",
       "        vertical-align: top;\n",
       "    }\n",
       "\n",
       "    .dataframe thead th {\n",
       "        text-align: right;\n",
       "    }\n",
       "</style>\n",
       "<table border=\"1\" class=\"dataframe\">\n",
       "  <thead>\n",
       "    <tr style=\"text-align: right;\">\n",
       "      <th></th>\n",
       "      <th>Savant</th>\n",
       "      <th>Auteur</th>\n",
       "      <th>Annee</th>\n",
       "      <th>Eloge</th>\n",
       "    </tr>\n",
       "  </thead>\n",
       "  <tbody>\n",
       "    <tr>\n",
       "      <th>0</th>\n",
       "      <td>Bougainville</td>\n",
       "      <td>Delambre</td>\n",
       "      <td>1813.0</td>\n",
       "      <td>Louis-Antoine de Bougainville, sénateur, comte...</td>\n",
       "    </tr>\n",
       "    <tr>\n",
       "      <th>1</th>\n",
       "      <td>Maskelyne</td>\n",
       "      <td>Delambre</td>\n",
       "      <td>1813.0</td>\n",
       "      <td>Névil Maskelyne, docteur en théologie, membre ...</td>\n",
       "    </tr>\n",
       "    <tr>\n",
       "      <th>2</th>\n",
       "      <td>Desessarts</td>\n",
       "      <td>Cuvier</td>\n",
       "      <td>1812.0</td>\n",
       "      <td>Jean-Charles Desessarts, médecin, membre de l'...</td>\n",
       "    </tr>\n",
       "    <tr>\n",
       "      <th>3</th>\n",
       "      <td>Cavendish</td>\n",
       "      <td>Cuvier</td>\n",
       "      <td>1812.0</td>\n",
       "      <td>Parmi les hommes que nous avons coutume de cél...</td>\n",
       "    </tr>\n",
       "    <tr>\n",
       "      <th>4</th>\n",
       "      <td>Malus</td>\n",
       "      <td>Delambre</td>\n",
       "      <td>1812.0</td>\n",
       "      <td>Sur la vie et les ouvrages de m-, et de m. Le ...</td>\n",
       "    </tr>\n",
       "  </tbody>\n",
       "</table>\n",
       "</div>"
      ],
      "text/plain": [
       "         Savant    Auteur   Annee  \\\n",
       "0  Bougainville  Delambre  1813.0   \n",
       "1     Maskelyne  Delambre  1813.0   \n",
       "2    Desessarts    Cuvier  1812.0   \n",
       "3     Cavendish    Cuvier  1812.0   \n",
       "4         Malus  Delambre  1812.0   \n",
       "\n",
       "                                               Eloge  \n",
       "0  Louis-Antoine de Bougainville, sénateur, comte...  \n",
       "1  Névil Maskelyne, docteur en théologie, membre ...  \n",
       "2  Jean-Charles Desessarts, médecin, membre de l'...  \n",
       "3  Parmi les hommes que nous avons coutume de cél...  \n",
       "4  Sur la vie et les ouvrages de m-, et de m. Le ...  "
      ]
     },
     "execution_count": 128,
     "metadata": {},
     "output_type": "execute_result"
    }
   ],
   "source": [
    "eulogies.head()"
   ]
  },
  {
   "cell_type": "code",
   "execution_count": 129,
   "id": "associate-cooler",
   "metadata": {},
   "outputs": [
    {
     "data": {
      "text/html": [
       "<div>\n",
       "<style scoped>\n",
       "    .dataframe tbody tr th:only-of-type {\n",
       "        vertical-align: middle;\n",
       "    }\n",
       "\n",
       "    .dataframe tbody tr th {\n",
       "        vertical-align: top;\n",
       "    }\n",
       "\n",
       "    .dataframe thead th {\n",
       "        text-align: right;\n",
       "    }\n",
       "</style>\n",
       "<table border=\"1\" class=\"dataframe\">\n",
       "  <thead>\n",
       "    <tr style=\"text-align: right;\">\n",
       "      <th></th>\n",
       "      <th>Savant</th>\n",
       "      <th>Auteur</th>\n",
       "      <th>Annee</th>\n",
       "      <th>Eloge</th>\n",
       "    </tr>\n",
       "  </thead>\n",
       "  <tbody>\n",
       "    <tr>\n",
       "      <th>252</th>\n",
       "      <td>Fresnel</td>\n",
       "      <td>Arago</td>\n",
       "      <td>1830.0</td>\n",
       "      <td>Messieurs, \" il est des hommes à qui l'on succ...</td>\n",
       "    </tr>\n",
       "    <tr>\n",
       "      <th>253</th>\n",
       "      <td>Ampère</td>\n",
       "      <td>Arago</td>\n",
       "      <td>1839.0</td>\n",
       "      <td>Messieurs, je dois aujourd'hui, conformément à...</td>\n",
       "    </tr>\n",
       "    <tr>\n",
       "      <th>254</th>\n",
       "      <td>Poisson</td>\n",
       "      <td>Arago</td>\n",
       "      <td>1850.0</td>\n",
       "      <td>Naissance de Poisson. - Sa jeunesse.- son admi...</td>\n",
       "    </tr>\n",
       "    <tr>\n",
       "      <th>255</th>\n",
       "      <td>Gay-Lussac</td>\n",
       "      <td>Arago</td>\n",
       "      <td>1852.0</td>\n",
       "      <td>La biographie dont je vais donner lecture est ...</td>\n",
       "    </tr>\n",
       "    <tr>\n",
       "      <th>256</th>\n",
       "      <td>Malus</td>\n",
       "      <td>Arago</td>\n",
       "      <td>1855.0</td>\n",
       "      <td>Naissance de Malus. son éducation littéraire -...</td>\n",
       "    </tr>\n",
       "  </tbody>\n",
       "</table>\n",
       "</div>"
      ],
      "text/plain": [
       "         Savant Auteur   Annee  \\\n",
       "252     Fresnel  Arago  1830.0   \n",
       "253      Ampère  Arago  1839.0   \n",
       "254     Poisson  Arago  1850.0   \n",
       "255  Gay-Lussac  Arago  1852.0   \n",
       "256       Malus  Arago  1855.0   \n",
       "\n",
       "                                                 Eloge  \n",
       "252  Messieurs, \" il est des hommes à qui l'on succ...  \n",
       "253  Messieurs, je dois aujourd'hui, conformément à...  \n",
       "254  Naissance de Poisson. - Sa jeunesse.- son admi...  \n",
       "255  La biographie dont je vais donner lecture est ...  \n",
       "256  Naissance de Malus. son éducation littéraire -...  "
      ]
     },
     "execution_count": 129,
     "metadata": {},
     "output_type": "execute_result"
    }
   ],
   "source": [
    "eulogies.tail()"
   ]
  },
  {
   "cell_type": "code",
   "execution_count": 130,
   "id": "adult-omega",
   "metadata": {},
   "outputs": [
    {
     "name": "stdout",
     "output_type": "stream",
     "text": [
      "Number of eulogies in dataframe : 257\n"
     ]
    }
   ],
   "source": [
    "print(\"Number of eulogies in dataframe : \" + str(eulogies.shape[0]))"
   ]
  },
  {
   "cell_type": "code",
   "execution_count": 131,
   "id": "floppy-minneapolis",
   "metadata": {},
   "outputs": [],
   "source": [
    "# Save it\n",
    "\n",
    "eulogies.to_csv(DF_PATH + 'eulogies.csv', index = False)"
   ]
  },
  {
   "cell_type": "code",
   "execution_count": 132,
   "id": "atmospheric-opposition",
   "metadata": {},
   "outputs": [
    {
     "data": {
      "text/html": [
       "<div>\n",
       "<style scoped>\n",
       "    .dataframe tbody tr th:only-of-type {\n",
       "        vertical-align: middle;\n",
       "    }\n",
       "\n",
       "    .dataframe tbody tr th {\n",
       "        vertical-align: top;\n",
       "    }\n",
       "\n",
       "    .dataframe thead th {\n",
       "        text-align: right;\n",
       "    }\n",
       "</style>\n",
       "<table border=\"1\" class=\"dataframe\">\n",
       "  <thead>\n",
       "    <tr style=\"text-align: right;\">\n",
       "      <th></th>\n",
       "      <th>Savant</th>\n",
       "      <th>Auteur</th>\n",
       "      <th>Annee</th>\n",
       "      <th>Eloge</th>\n",
       "    </tr>\n",
       "  </thead>\n",
       "  <tbody>\n",
       "    <tr>\n",
       "      <th>0</th>\n",
       "      <td>Bougainville</td>\n",
       "      <td>Delambre</td>\n",
       "      <td>1813.0</td>\n",
       "      <td>Louis-Antoine de Bougainville, sénateur, comte...</td>\n",
       "    </tr>\n",
       "    <tr>\n",
       "      <th>1</th>\n",
       "      <td>Maskelyne</td>\n",
       "      <td>Delambre</td>\n",
       "      <td>1813.0</td>\n",
       "      <td>Névil Maskelyne, docteur en théologie, membre ...</td>\n",
       "    </tr>\n",
       "    <tr>\n",
       "      <th>2</th>\n",
       "      <td>Desessarts</td>\n",
       "      <td>Cuvier</td>\n",
       "      <td>1812.0</td>\n",
       "      <td>Jean-Charles Desessarts, médecin, membre de l'...</td>\n",
       "    </tr>\n",
       "    <tr>\n",
       "      <th>3</th>\n",
       "      <td>Cavendish</td>\n",
       "      <td>Cuvier</td>\n",
       "      <td>1812.0</td>\n",
       "      <td>Parmi les hommes que nous avons coutume de cél...</td>\n",
       "    </tr>\n",
       "    <tr>\n",
       "      <th>4</th>\n",
       "      <td>Malus</td>\n",
       "      <td>Delambre</td>\n",
       "      <td>1812.0</td>\n",
       "      <td>Sur la vie et les ouvrages de m-, et de m. Le ...</td>\n",
       "    </tr>\n",
       "  </tbody>\n",
       "</table>\n",
       "</div>"
      ],
      "text/plain": [
       "         Savant    Auteur   Annee  \\\n",
       "0  Bougainville  Delambre  1813.0   \n",
       "1     Maskelyne  Delambre  1813.0   \n",
       "2    Desessarts    Cuvier  1812.0   \n",
       "3     Cavendish    Cuvier  1812.0   \n",
       "4         Malus  Delambre  1812.0   \n",
       "\n",
       "                                               Eloge  \n",
       "0  Louis-Antoine de Bougainville, sénateur, comte...  \n",
       "1  Névil Maskelyne, docteur en théologie, membre ...  \n",
       "2  Jean-Charles Desessarts, médecin, membre de l'...  \n",
       "3  Parmi les hommes que nous avons coutume de cél...  \n",
       "4  Sur la vie et les ouvrages de m-, et de m. Le ...  "
      ]
     },
     "execution_count": 132,
     "metadata": {},
     "output_type": "execute_result"
    }
   ],
   "source": [
    "# Check it worked\n",
    "\n",
    "df_test = pd.read_csv(DF_PATH + 'eulogies.csv')\n",
    "df_test.head(5)"
   ]
  },
  {
   "cell_type": "code",
   "execution_count": 133,
   "id": "civil-fourth",
   "metadata": {},
   "outputs": [
    {
     "data": {
      "text/html": [
       "<div>\n",
       "<style scoped>\n",
       "    .dataframe tbody tr th:only-of-type {\n",
       "        vertical-align: middle;\n",
       "    }\n",
       "\n",
       "    .dataframe tbody tr th {\n",
       "        vertical-align: top;\n",
       "    }\n",
       "\n",
       "    .dataframe thead th {\n",
       "        text-align: right;\n",
       "    }\n",
       "</style>\n",
       "<table border=\"1\" class=\"dataframe\">\n",
       "  <thead>\n",
       "    <tr style=\"text-align: right;\">\n",
       "      <th></th>\n",
       "      <th>Savant</th>\n",
       "      <th>Auteur</th>\n",
       "      <th>Annee</th>\n",
       "      <th>Eloge</th>\n",
       "    </tr>\n",
       "  </thead>\n",
       "  <tbody>\n",
       "    <tr>\n",
       "      <th>252</th>\n",
       "      <td>Fresnel</td>\n",
       "      <td>Arago</td>\n",
       "      <td>1830.0</td>\n",
       "      <td>Messieurs, \" il est des hommes à qui l'on succ...</td>\n",
       "    </tr>\n",
       "    <tr>\n",
       "      <th>253</th>\n",
       "      <td>Ampère</td>\n",
       "      <td>Arago</td>\n",
       "      <td>1839.0</td>\n",
       "      <td>Messieurs, je dois aujourd'hui, conformément à...</td>\n",
       "    </tr>\n",
       "    <tr>\n",
       "      <th>254</th>\n",
       "      <td>Poisson</td>\n",
       "      <td>Arago</td>\n",
       "      <td>1850.0</td>\n",
       "      <td>Naissance de Poisson. - Sa jeunesse.- son admi...</td>\n",
       "    </tr>\n",
       "    <tr>\n",
       "      <th>255</th>\n",
       "      <td>Gay-Lussac</td>\n",
       "      <td>Arago</td>\n",
       "      <td>1852.0</td>\n",
       "      <td>La biographie dont je vais donner lecture est ...</td>\n",
       "    </tr>\n",
       "    <tr>\n",
       "      <th>256</th>\n",
       "      <td>Malus</td>\n",
       "      <td>Arago</td>\n",
       "      <td>1855.0</td>\n",
       "      <td>Naissance de Malus. son éducation littéraire -...</td>\n",
       "    </tr>\n",
       "  </tbody>\n",
       "</table>\n",
       "</div>"
      ],
      "text/plain": [
       "         Savant Auteur   Annee  \\\n",
       "252     Fresnel  Arago  1830.0   \n",
       "253      Ampère  Arago  1839.0   \n",
       "254     Poisson  Arago  1850.0   \n",
       "255  Gay-Lussac  Arago  1852.0   \n",
       "256       Malus  Arago  1855.0   \n",
       "\n",
       "                                                 Eloge  \n",
       "252  Messieurs, \" il est des hommes à qui l'on succ...  \n",
       "253  Messieurs, je dois aujourd'hui, conformément à...  \n",
       "254  Naissance de Poisson. - Sa jeunesse.- son admi...  \n",
       "255  La biographie dont je vais donner lecture est ...  \n",
       "256  Naissance de Malus. son éducation littéraire -...  "
      ]
     },
     "execution_count": 133,
     "metadata": {},
     "output_type": "execute_result"
    }
   ],
   "source": [
    "df_test.tail(5)"
   ]
  }
 ],
 "metadata": {
  "kernelspec": {
   "display_name": "Python 3 (ipykernel)",
   "language": "python",
   "name": "python3"
  },
  "language_info": {
   "codemirror_mode": {
    "name": "ipython",
    "version": 3
   },
   "file_extension": ".py",
   "mimetype": "text/x-python",
   "name": "python",
   "nbconvert_exporter": "python",
   "pygments_lexer": "ipython3",
   "version": "3.8.5"
  }
 },
 "nbformat": 4,
 "nbformat_minor": 5
}
