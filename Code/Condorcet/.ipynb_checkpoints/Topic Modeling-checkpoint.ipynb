{
 "cells": [
  {
   "cell_type": "markdown",
   "id": "advised-course",
   "metadata": {},
   "source": [
    "# Topic Modeling"
   ]
  },
  {
   "cell_type": "markdown",
   "id": "unknown-contrast",
   "metadata": {},
   "source": [
    "## 1. Load and imports"
   ]
  },
  {
   "cell_type": "code",
   "execution_count": 4,
   "id": "improved-failure",
   "metadata": {
    "scrolled": true
   },
   "outputs": [
    {
     "name": "stderr",
     "output_type": "stream",
     "text": [
      "/var/folders/n1/2dp16v113lv8x5rwt1t69_v40000gn/T/ipykernel_32080/2568179296.py:12: TqdmDeprecationWarning: This function will be removed in tqdm==5.0.0\n",
      "Please use `tqdm.notebook.tqdm` instead of `tqdm.tqdm_notebook`\n",
      "  tqdm_notebook().pandas()\n"
     ]
    },
    {
     "data": {
      "application/vnd.jupyter.widget-view+json": {
       "model_id": "098c20259dab4df2a5c5727250d6d534",
       "version_major": 2,
       "version_minor": 0
      },
      "text/plain": [
       "HBox(children=(HTML(value=''), FloatProgress(value=1.0, bar_style='info', layout=Layout(width='20px'), max=1.0…"
      ]
     },
     "metadata": {},
     "output_type": "display_data"
    }
   ],
   "source": [
    "import pandas as pd\n",
    "import numpy as np\n",
    "import matplotlib.pyplot as plt\n",
    "import re\n",
    "import spacy\n",
    "import nltk\n",
    "import octis\n",
    "from tqdm import tqdm_notebook\n",
    "from tqdm import tqdm\n",
    "\n",
    "tqdm.pandas()\n",
    "tqdm_notebook().pandas()"
   ]
  },
  {
   "cell_type": "code",
   "execution_count": 5,
   "id": "divine-trader",
   "metadata": {},
   "outputs": [],
   "source": [
    "%load_ext autoreload\n",
    "\n",
    "%autoreload 2"
   ]
  },
  {
   "cell_type": "code",
   "execution_count": 6,
   "id": "buried-ability",
   "metadata": {},
   "outputs": [
    {
     "name": "stdout",
     "output_type": "stream",
     "text": [
      "\n"
     ]
    }
   ],
   "source": [
    "df_cond = pd.read_csv('./../../Data/Dataframes/df_condorcet_processed.csv')"
   ]
  },
  {
   "cell_type": "markdown",
   "id": "damaged-variable",
   "metadata": {},
   "source": [
    "## 2. Pre-Processing"
   ]
  },
  {
   "cell_type": "markdown",
   "id": "moderate-northwest",
   "metadata": {},
   "source": [
    "### a. Removing Side info"
   ]
  },
  {
   "cell_type": "code",
   "execution_count": 7,
   "id": "bridal-ozone",
   "metadata": {},
   "outputs": [],
   "source": [
    "df_cond['Side_Info'] = df_cond['Eloge'].apply(lambda x : re.findall('\\[(.*?)\\]', x))"
   ]
  },
  {
   "cell_type": "code",
   "execution_count": 8,
   "id": "juvenile-crown",
   "metadata": {},
   "outputs": [],
   "source": [
    "df_cond['Eloge'] = df_cond['Eloge'].apply(lambda x : re.sub('\\[(.*?)\\]','', x))"
   ]
  },
  {
   "cell_type": "markdown",
   "id": "regulation-conspiracy",
   "metadata": {},
   "source": [
    "### b. Removing \\n, \\t, non useful spaces"
   ]
  },
  {
   "cell_type": "code",
   "execution_count": 9,
   "id": "supposed-leather",
   "metadata": {},
   "outputs": [],
   "source": [
    "df_cond['Eloge'] = df_cond['Eloge'].apply(lambda x : x.replace(\"\\\\n\", \"\").replace(\"\\\\t\", \"\").replace(\"\\n\", \"\").replace(\"\\t\", \"\")\n",
    "                               .strip())"
   ]
  },
  {
   "cell_type": "markdown",
   "id": "thirty-syria",
   "metadata": {},
   "source": [
    "### c. Removing punctuations"
   ]
  },
  {
   "cell_type": "code",
   "execution_count": 10,
   "id": "psychological-pakistan",
   "metadata": {},
   "outputs": [],
   "source": [
    "df_cond['Eloge_no_punkt'] = df_cond['Eloge'].apply(lambda x : re.sub(r'[^\\w\\s]', ' ', x))\n"
   ]
  },
  {
   "cell_type": "markdown",
   "id": "employed-agriculture",
   "metadata": {},
   "source": [
    "### d. Removing stop-words and words smaller than 2"
   ]
  },
  {
   "cell_type": "code",
   "execution_count": 11,
   "id": "logical-product",
   "metadata": {},
   "outputs": [
    {
     "name": "stdout",
     "output_type": "stream",
     "text": [
      "Number of stop-words in spacy : 507\n",
      "Number of stop-words in nltk : 157\n"
     ]
    }
   ],
   "source": [
    "from spacy.lang.fr.stop_words import STOP_WORDS as fr_stop\n",
    "from nltk.corpus import stopwords\n",
    "\n",
    "stop_words =set(stopwords.words('french'))\n",
    "\n",
    "print('Number of stop-words in spacy : ' + str(len(fr_stop)))\n",
    "print('Number of stop-words in nltk : ' + str(len(stop_words)))"
   ]
  },
  {
   "cell_type": "code",
   "execution_count": 12,
   "id": "downtown-showcase",
   "metadata": {},
   "outputs": [],
   "source": [
    "df_cond['Eloge_no_sw_no_punkt'] = df_cond['Eloge_no_punkt'].apply(lambda x : \" \".join([i for i in x.split() if \n",
    "                                                                             (i not in fr_stop and len(i)>2)]))\n"
   ]
  },
  {
   "cell_type": "markdown",
   "id": "automatic-departure",
   "metadata": {},
   "source": [
    "### e. Stem"
   ]
  },
  {
   "cell_type": "code",
   "execution_count": 13,
   "id": "robust-archives",
   "metadata": {},
   "outputs": [
    {
     "data": {
      "application/vnd.jupyter.widget-view+json": {
       "model_id": "030e2f467f7d48bab0f9df6b01c4e594",
       "version_major": 2,
       "version_minor": 0
      },
      "text/plain": [
       "HBox(children=(HTML(value=''), FloatProgress(value=0.0, max=66.0), HTML(value='')))"
      ]
     },
     "metadata": {},
     "output_type": "display_data"
    },
    {
     "name": "stdout",
     "output_type": "stream",
     "text": [
      "\n"
     ]
    }
   ],
   "source": [
    "from nltk.stem.snowball import SnowballStemmer\n",
    "stemmer = SnowballStemmer(language='french')\n",
    "\n",
    "df_cond['Eloge_stem'] = df_cond['Eloge_no_sw_no_punkt'].progress_apply(lambda x : [stemmer.stem(word) for word in\n",
    "                                                                         x.split()])"
   ]
  },
  {
   "cell_type": "markdown",
   "id": "above-claim",
   "metadata": {},
   "source": [
    "### f. Remove numbers"
   ]
  },
  {
   "cell_type": "code",
   "execution_count": 14,
   "id": "stainless-reserve",
   "metadata": {},
   "outputs": [],
   "source": [
    "df_cond['Eloge_stem'] = df_cond['Eloge_stem'].apply(lambda x : ' '.join([i for i in x if not i.isdigit()]))"
   ]
  },
  {
   "cell_type": "markdown",
   "id": "trained-robert",
   "metadata": {},
   "source": [
    "## 3. Topic Modelling"
   ]
  },
  {
   "cell_type": "code",
   "execution_count": 15,
   "id": "contrary-tract",
   "metadata": {},
   "outputs": [
    {
     "data": {
      "application/vnd.jupyter.widget-view+json": {
       "model_id": "92d9ed74bcf04810958eddb53f355a99",
       "version_major": 2,
       "version_minor": 0
      },
      "text/plain": [
       "HBox(children=(HTML(value=''), FloatProgress(value=0.0, max=66.0), HTML(value='')))"
      ]
     },
     "metadata": {},
     "output_type": "display_data"
    },
    {
     "name": "stdout",
     "output_type": "stream",
     "text": [
      "\n"
     ]
    }
   ],
   "source": [
    "from gensim.models import Phrases\n",
    "\n",
    "df_cond['tokens'] = df_cond['Eloge_lem'].progress_apply(lambda x : x.split())"
   ]
  },
  {
   "cell_type": "code",
   "execution_count": 16,
   "id": "adverse-shopper",
   "metadata": {},
   "outputs": [],
   "source": [
    "#adding bigrams\n",
    "bigram_measures = nltk.collocations.BigramAssocMeasures()\n",
    "\n",
    "finder = nltk.collocations.BigramCollocationFinder.from_documents([x.split() for x in df_cond['Eloge_lem']])\n",
    "# Filter only those that occur at least 50 times\n",
    "finder.apply_freq_filter(50)\n",
    "bigram_scores = finder.score_ngrams(bigram_measures.pmi)"
   ]
  },
  {
   "cell_type": "code",
   "execution_count": 17,
   "id": "turned-springfield",
   "metadata": {},
   "outputs": [],
   "source": [
    "bigram_pmi = pd.DataFrame(bigram_scores)\n",
    "bigram_pmi.columns = ['bigram', 'pmi']\n",
    "bigram_pmi.sort_values(by='pmi', axis = 0, ascending = False, inplace = True)"
   ]
  },
  {
   "cell_type": "code",
   "execution_count": 25,
   "id": "vocational-motor",
   "metadata": {},
   "outputs": [
    {
     "name": "stderr",
     "output_type": "stream",
     "text": [
      "[nltk_data] Downloading package averaged_perceptron_tagger to\n",
      "[nltk_data]     /Users/clemencebarsi/nltk_data...\n",
      "[nltk_data]   Package averaged_perceptron_tagger is already up-to-\n",
      "[nltk_data]       date!\n"
     ]
    }
   ],
   "source": [
    "import nltk\n",
    "nltk.download('averaged_perceptron_tagger')\n",
    "# Example filter for noun-type structures bigrams\n",
    "\n",
    "def bigram_filter(bigram):\n",
    "    #tag = nltk.pos_tag(bigram)\n",
    "    #if tag[0][1] not in ['JJ', 'NN'] and tag[1][1] not in ['NN']:\n",
    "     #   return False\n",
    "    if bigram[0] in fr_stop or bigram[1] in fr_stop:\n",
    "        return False\n",
    "    #if 'n' in bigram or 't' in bigram:\n",
    "     #   return False\n",
    "    #if 'PRON' in bigram:\n",
    "     #   return False\n",
    "    return True\n",
    "# Can eyeball list and choose PMI threshold where n-grams stop making sense\n",
    "# In this case, get top 500 bigrams/trigrams with highest PMI score\n",
    "filtered_bigram = bigram_pmi[bigram_pmi.apply(lambda bigram: bigram_filter(bigram['bigram'])and bigram.pmi > 5, axis = 1)][:500]\n",
    "bigrams = [' '.join(x) for x in filtered_bigram.bigram.values if len(x[0]) > 2 or len(x[1]) > 2]"
   ]
  },
  {
   "cell_type": "code",
   "execution_count": 26,
   "id": "agreed-programmer",
   "metadata": {},
   "outputs": [
    {
     "data": {
      "text/plain": [
       "['histoire naturel', 'petit nombre', 'grand nombre', 'académie science']"
      ]
     },
     "execution_count": 26,
     "metadata": {},
     "output_type": "execute_result"
    }
   ],
   "source": [
    "bigrams[:10]\n"
   ]
  },
  {
   "cell_type": "code",
   "execution_count": 27,
   "id": "adjusted-hospital",
   "metadata": {},
   "outputs": [
    {
     "name": "stderr",
     "output_type": "stream",
     "text": [
      "/Users/clemencebarsi/miniconda3/lib/python3.8/site-packages/pandas/core/generic.py:5491: SettingWithCopyWarning: \n",
      "A value is trying to be set on a copy of a slice from a DataFrame.\n",
      "Try using .loc[row_indexer,col_indexer] = value instead\n",
      "\n",
      "See the caveats in the documentation: https://pandas.pydata.org/pandas-docs/stable/user_guide/indexing.html#returning-a-view-versus-a-copy\n",
      "  self[name] = value\n"
     ]
    }
   ],
   "source": [
    "def replace_ngram(x):\n",
    "   # for gram in trigrams:\n",
    "   #x = x.replace(gram, '_'.join(gram.split()))\n",
    "    for gram in bigrams:\n",
    "        x = x.replace(gram, '_'.join(gram.split()))\n",
    "    return x\n",
    "\n",
    "reviews_w_ngrams = df_cond.copy()\n",
    "\n",
    "reviews_1776 = df_cond[df_cond['Annee']<1776]\n",
    "\n",
    "reviews_1789 = df_cond[(df_cond['Annee']>=1776)|(df_cond['Annee']<1789)]\n",
    "\n",
    "reviews_1791 = df_cond[(df_cond['Annee']>=1789)]\n",
    "\n",
    "reviews_w_ngrams.Eloge_lem = reviews_w_ngrams.Eloge_lem.map(lambda x: replace_ngram(x))\n",
    "\n",
    "reviews_w_ngrams = reviews_w_ngrams.Eloge_lem.map(lambda x: [word for word in x.split() if word not in fr_stop \n",
    "                                                         and len(word) > 2])\n",
    "\n",
    "reviews_1776.Eloge_lem = reviews_1776.Eloge_lem.map(lambda x: replace_ngram(x))\n",
    "\n",
    "reviews_1776 = reviews_1776.Eloge_lem.map(lambda x: [word for word in x.split() if word not in fr_stop \n",
    "                                                         and len(word) > 2])\n",
    "reviews_1789.Eloge_lem = reviews_1789.Eloge_lem.map(lambda x: replace_ngram(x))\n",
    "\n",
    "reviews_1789 = reviews_1789.Eloge_lem.map(lambda x: [word for word in x.split() if word not in fr_stop \n",
    "                                                         and len(word) > 2])\n",
    "reviews_1791.Eloge_lem = reviews_1791.Eloge_lem.map(lambda x: replace_ngram(x))\n",
    "\n",
    "reviews_1791 = reviews_1791.Eloge_lem.map(lambda x: [word for word in x.split() if word not in fr_stop \n",
    "                                                         and len(word) > 2])"
   ]
  },
  {
   "cell_type": "code",
   "execution_count": 28,
   "id": "fiscal-transaction",
   "metadata": {},
   "outputs": [],
   "source": [
    "def noun_only(x):\n",
    "    pos_comment = nltk.pos_tag(x)\n",
    "    filtered = [word[0] for word in pos_comment if word[1] in ['NN']]\n",
    "    # to filter both noun and verbs\n",
    "    #filtered = [word[0] for word in pos_comment if word[1] in ['NN','VB', 'VBD', 'VBG', 'VBN', 'VBZ']]\n",
    "    return filtered\n",
    "\n",
    "final_reviews = reviews_w_ngrams.map(noun_only)\n",
    "\n",
    "final_1776 = reviews_1776.map(noun_only)\n",
    "\n",
    "final_1789 = reviews_1789.map(noun_only)\n",
    "\n",
    "final_1791 = reviews_1791.map(noun_only)\n",
    "\n"
   ]
  },
  {
   "cell_type": "code",
   "execution_count": 29,
   "id": "lonely-mirror",
   "metadata": {},
   "outputs": [],
   "source": [
    "import gensim\n",
    "\n",
    "dictionary = gensim.corpora.Dictionary(final_reviews)\n",
    "doc_term_matrix = [dictionary.doc2bow(doc) for doc in final_reviews]\n"
   ]
  },
  {
   "cell_type": "code",
   "execution_count": 30,
   "id": "spare-worry",
   "metadata": {},
   "outputs": [
    {
     "name": "stderr",
     "output_type": "stream",
     "text": [
      "100%|███████████████████████████████████████████| 24/24 [05:55<00:00, 14.80s/it]\n"
     ]
    }
   ],
   "source": [
    "coherence = []\n",
    "for k in tqdm(range(1,25)):\n",
    "    #print('Round: '+str(k))\n",
    "    Lda = gensim.models.ldamodel.LdaModel\n",
    "    ldamodel = Lda(doc_term_matrix, num_topics=k, id2word = dictionary, passes=40,iterations=200, chunksize = 10000, eval_every = None)\n",
    "    \n",
    "    cm = gensim.models.coherencemodel.CoherenceModel(model=ldamodel, texts=final_reviews,dictionary=dictionary, coherence='c_v')\n",
    "    coherence.append((k,cm.get_coherence()))"
   ]
  },
  {
   "cell_type": "code",
   "execution_count": 31,
   "id": "racial-clone",
   "metadata": {},
   "outputs": [
    {
     "data": {
      "image/png": "[encoded data removed]",
      "text/plain": [
       "<Figure size 432x288 with 1 Axes>"
      ]
     },
     "metadata": {
      "needs_background": "light"
     },
     "output_type": "display_data"
    }
   ],
   "source": [
    "x_val = [x[0] for x in coherence]\n",
    "y_val = [x[1] for x in coherence]\n",
    "\n",
    "plt.plot(x_val,y_val)\n",
    "plt.scatter(x_val,y_val)\n",
    "plt.title('Number of Topics vs. Coherence')\n",
    "plt.xlabel('Number of Topics')\n",
    "plt.ylabel('Coherence')\n",
    "plt.xticks(x_val)\n",
    "plt.show()"
   ]
  },
  {
   "cell_type": "code",
   "execution_count": 32,
   "id": "eleven-engine",
   "metadata": {},
   "outputs": [],
   "source": [
    "Lda = gensim.models.ldamodel.LdaModel\n",
    "ldamodel = Lda(doc_term_matrix, num_topics=14, id2word = dictionary, passes=40,iterations=200,  chunksize = 10000, eval_every = None, random_state=0)"
   ]
  },
  {
   "cell_type": "code",
   "execution_count": 33,
   "id": "convinced-relaxation",
   "metadata": {},
   "outputs": [
    {
     "data": {
      "text/html": [
       "\n",
       "<link rel=\"stylesheet\" type=\"text/css\" href=\"https://cdn.jsdelivr.net/gh/bmabey/pyLDAvis@3.3.1/pyLDAvis/js/ldavis.v1.0.0.css\">\n",
       "\n",
       "\n",
       "<div id=\"ldavis_el320801403345522147683254941472\"></div>\n",
       "<script type=\"text/javascript\">\n",
       "\n",
       "var ldavis_el320801403345522147683254941472_data = {\"mdsDat\": {\"x\": [-0.10625122574923622, -0.1256315177858632, -0.15233477897849362, -0.13847879147375147, -0.08916681931154322, -0.07827433671556314, -0.03352969071024039, 0.015869039702507342, 0.036240190627150365, 0.06333324752859558, 0.13541899169050575, 0.14942740553045555, 0.1616933307626454, 0.16168495488283094], \"y\": [-0.015220321196251945, -0.05035403169759002, 0.039978888459626674, -0.018081033427867568, -0.016693060784355434, 0.12783423391595486, -0.11611340009188681, 0.043516190579583336, 0.024584439065724658, -0.022505282551100236, 0.01272916685249878, 0.003909931719309854, -0.006793946189889636, -0.006791774653756138], \"topics\": [1, 2, 3, 4, 5, 6, 7, 8, 9, 10, 11, 12, 13, 14], \"cluster\": [1, 1, 1, 1, 1, 1, 1, 1, 1, 1, 1, 1, 1, 1], \"Freq\": [63.29365947108607, 11.61366610466647, 7.161777436931181, 6.245918500336321, 3.2475992638091067, 2.983760127758428, 2.161388959791496, 1.576029858105569, 0.9039848110616635, 0.6244650921067495, 0.12168679723056726, 0.05458341049740846, 0.005740083309492083, 0.005740083309492083]}, \"tinfo\": {\"Term\": [\"pouvoir\", \"faire\", \"homme\", \"devoir\", \"ouvrage\", \"science\", \"voir\", \"bien\", \"m\\u00e9decin\", \"donner\", \"travail\", \"plante\", \"observation\", \"nature\", \"ami\", \"falloir\", \"esprit\", \"m\\u00e9thode\", \"party\", \"place\", \"opinion\", \"croire\", \"objet\", \"jamais\", \"conna\\u00eetre\", \"p\\u00e8r\", \"point\", \"vouloir\", \"talent\", \"difficile\", \"perrault\", \"pens\\u00e9e\", \"jussieu\", \"puisser\", \"mod\\u00e8le\", \"magistratur\", \"probabilit\\u00e9\", \"horreur\", \"condorcet\", \"r\\u00e9former\", \"exclure\", \"imp\\u00f4t\", \"tranquillement\", \"hopital\", \"violer\", \"trudaine\", \"parti\", \"chancelier\", \"lorrain\", \"clerger\", \"haller\", \"partout\", \"denrer\", \"successif\", \"convention\", \"demanda\", \"gottingue\", \"morale\", \"volonter\", \"orgueil\", \"pay\", \"conversation\", \"crime\", \"ennemis\", \"chef\", \"libre\", \"vertueux\", \"autorit\\u00e9\", \"homme\", \"entra\\u00eener\", \"religion\", \"administration\", \"raison\", \"citoyen\", \"penser\", \"vertu\", \"loi\", \"pouvoir\", \"opinion\", \"peuple\", \"croire\", \"faire\", \"jamais\", \"v\\u00e9riter\", \"libert\\u00e9\", \"devoir\", \"vouloir\", \"nation\", \"esprit\", \"voir\", \"bien\", \"force\", \"humain\", \"g\\u00e9nie\", \"bonheur\", \"caract\\u00e8r\", \"lumi\\u00e8re\", \"science\", \"donner\", \"connaissance\", \"nature\", \"ouvrage\", \"trop\", \"falloir\", \"place\", \"point\", \"savoir\", \"roi\", \"regarder\", \"objet\", \"travail\", \"conna\\u00eetre\", \"art\", \"condamine\", \"choiseul\", \"praslin\", \"tangent\", \"peyssonnel\", \"huygen\", \"quito\", \"abber\", \"rohaut\", \"radeau\", \"lob\", \"l\\u00e9thargie\", \"loterie\", \"bertin\", \"veine\", \"pl\\u00e9nipotentiaire\", \"lieue\", \"escadre\", \"sph\\u00e9rique\", \"cuen\\u00e7er\", \"horloge\", \"condamin\", \"cureau\", \"rejaillir\", \"blessur\", \"d\\u00e9savantage\", \"navigateur\", \"subtil\", \"joue\", \"pendule\", \"descarte\", \"centrifuge\", \"foie\", \"inoculation\", \"pendul\", \"m\\u00e9ridien\", \"vase\", \"abb\\u00e9\", \"\\u00e9quateur\", \"vibration\", \"courbe\", \"cyclo\\u00efde\", \"duc\", \"marine\", \"vaisseau\", \"fran\\u00e7ais\", \"faire\", \"pouvoir\", \"trouver\", \"voyage\", \"devoir\", \"homme\", \"courage\", \"point\", \"ami\", \"bien\", \"m\\u00e9moire\", \"acad\\u00e9mie\", \"peine\", \"donner\", \"voir\", \"contre\", \"nation\", \"malheur\", \"ouvrage\", \"falloir\", \"science\", \"vouloir\", \"force\", \"observation\", \"presque\", \"objet\", \"croire\", \"place\", \"savoir\", \"alcali\", \"malouin\", \"chara\", \"volatil\", \"laboratoire\", \"gastrique\", \"teinture\", \"vip\\u00e8r\", \"macquer\", \"vapeur\", \"porcelaine\", \"platine\", \"vip\\u00e8re\", \"chal\", \"faudrait\", \"venin\", \"chimi\", \"compl\\u00e9ment\", \"a\\u00e9riforme\", \"recette\", \"chimiste\", \"chimie\", \"imbiber\", \"pitcarne\", \"grille\", \"caen\", \"farin\", \"parmentier\", \"hunter\", \"remercier\", \"laboratoir\", \"substance\", \"rouelle\", \"alt\\u00e9ration\", \"bleu\", \"m\\u00e9tallique\", \"viande\", \"chimique\", \"sel\", \"m\\u00e9decine\", \"m\\u00e9decin\", \"temp\\u00e9rature\", \"suc\", \"d\\u00e9monstrateur\", \"science\", \"professeur\", \"singulier\", \"pouvoir\", \"faire\", \"conna\\u00eetre\", \"devoir\", \"travail\", \"analyse\", \"rem\\u00e8de\", \"corps\", \"air\", \"exp\\u00e9rience\", \"point\", \"ouvrage\", \"donner\", \"presque\", \"art\", \"bien\", \"croire\", \"mort\", \"nature\", \"homme\", \"esprit\", \"m\\u00e9moire\", \"savoir\", \"partie\", \"principe\", \"opinion\", \"voir\", \"arci\", \"mariotte\", \"poudre\", \"robin\", \"projectile\", \"d\\u00e9rob\", \"ind\\u00e9finier\", \"homog\\u00e8ne\", \"int\\u00e9gration\", \"dijon\", \"th\\u00e9or\\u00e8m\", \"turc\", \"castel\", \"cuiseau\", \"giratoire\", \"allum\\u00e9\", \"tierce\", \"irland\", \"manipulation\", \"dext\\u00e9rit\\u00e9\", \"r\\u00e9publicain\", \"cercl\", \"sinc\\u00e9rit\\u00e9\", \"d\\u00e9lier\", \"scrupuleusement\", \"f\\u00e9conde\", \"pu\\u00e9ril\", \"\\u00e9nonce\", \"diff\\u00e9rentiel\", \"charbon\", \"euler\", \"artillerie\", \"\\u00e9quation\", \"solution\", \"augmentation\", \"finie\", \"chevalier\", \"calculs\", \"probl\\u00e8m\", \"tautochrone\", \"sensation\", \"g\\u00e9om\\u00e8tre\", \"exp\\u00e9rience\", \"g\\u00e9om\\u00e9trie\", \"vitesse\", \"partiel\", \"intellectuel\", \"m\\u00e9chanceter\", \"principe\", \"th\\u00e9orie\", \"analyse\", \"probl\\u00e8me\", \"m\\u00e9thode\", \"mouvement\", \"donner\", \"pouvoir\", \"objet\", \"science\", \"faire\", \"ouvrage\", \"calcul\", \"donne\", \"loi\", \"travail\", \"sagacit\\u00e9\", \"recherche\", \"conna\\u00eetre\", \"employer\", \"devoir\", \"chercher\", \"homme\", \"force\", \"bien\", \"voir\", \"nature\", \"savoir\", \"trouver\", \"parallaxe\", \"affinit\\u00e9\", \"observatoir\", \"montmirail\", \"brah\\u00e9\", \"concentration\", \"sch\\u00e9ell\", \"minute\", \"tycho\", \"thury\", \"vinaigre\", \"gaz\", \"tabl\", \"picard\", \"m\\u00e9ridienne\", \"musschenbroek\", \"longitude\", \"v\\u00e9rification\", \"chaumi\\u00e8re\", \"jeaurat\", \"doudeauville\", \"colombe\", \"pr\\u00e9serv\\u00e8rent\", \"contenu\", \"d\\u00e9tonation\", \"diamer\", \"chalumeau\", \"voie\", \"apprennent\", \"calcula\", \"toise\", \"phlogistiqu\", \"triangle\", \"astronomique\", \"carte\", \"v\\u00e9rifier\", \"su\\u00e8de\", \"variation\", \"soleil\", \"distance\", \"g\\u00e9ographie\", \"fixe\", \"attraction\", \"r\\u00e9fraction\", \"entreprise\", \"observation\", \"instrument\", \"travail\", \"observateur\", \"faire\", \"position\", \"mesure\", \"ex\\u00e9cuter\", \"d\\u00e9terminer\", \"terre\", \"recherche\", \"pouvoir\", \"devoir\", \"degr\\u00e9\", \"voir\", \"acad\\u00e9mie\", \"science\", \"roi\", \"bien\", \"point\", \"conna\\u00eetre\", \"nature\", \"homme\", \"partie\", \"plaisir\", \"erreur\", \"donner\", \"objet\", \"exp\\u00e9rience\", \"prendre\", \"m\\u00e9thode\", \"pistil\", \"trianon\", \"plant\", \"poussi\\u00e8re\", \"fructification\", \"linner\", \"linn\\u00e9\", \"stigmat\", \"nourritur\", \"fleur\", \"dispos\\u00e9e\", \"spontan\\u00e9\", \"hermaphrodite\", \"accomplissement\", \"perp\\u00e9tuit\\u00e9\", \"figuier\", \"mus\\u00e9um\", \"apport\\u00e9\", \"linnaeu\", \"f\\u00e9condation\", \"\\u00e9tamine\", \"tig\", \"botaniste\", \"reproduction\", \"d\\u00e9crite\", \"rer\", \"appliquant\", \"sommet\", \"moururent\", \"syst\\u00e9matiquer\", \"f\\u00e9conder\", \"accidentel\", \"plante\", \"femelle\", \"botanique\", \"poussi\\u00e8r\", \"jardin\", \"m\\u00e2le\", \"naturaliste\", \"classer\", \"caract\\u00e8re\", \"party\", \"esp\\u00e8ce\", \"nature\", \"disciple\", \"individu\", \"science\", \"pouvoir\", \"m\\u00e9thode\", \"faire\", \"voir\", \"ouvrage\", \"homme\", \"observation\", \"jour\", \"donner\", \"bien\", \"travail\", \"falloir\", \"honneur\", \"vie\", \"presque\", \"devoir\", \"argenson\", \"bourdelin\", \"paulmy\", \"doyen\", \"madame\", \"vanh\\u0153y\", \"d\\u00e9plair\", \"polonais\", \"assortir\", \"latinit\\u00e9\", \"s\\u00e9datif\", \"paradox\", \"venise\", \"promptitude\", \"recherch\\u00e9\", \"ambassade\", \"disgracier\", \"renaissanter\", \"d\\u00e9sint\\u00e9ress\\u00e9e\", \"communauter\", \"pr\\u00e9sage\", \"quil\", \"inapplication\", \"anonyme\", \"oracle\", \"lisant\", \"naissant\", \"fournirent\", \"p\\u0153t\", \"commerc\", \"dette\", \"marquis\", \"marqui\", \"roman\", \"sel\", \"bienfaisance\", \"d\\u00e9partement\", \"retir\", \"d\\u00e9shonorer\", \"r\\u00e9publique\", \"place\", \"ministre\", \"militaire\", \"biblioth\\u00e8qu\", \"lettre\", \"minist\\u00e8re\", \"intrigue\", \"acte\", \"renouvellement\", \"pouvoir\", \"si\\u00e8cle\", \"homme\", \"opinion\", \"maison\", \"esprit\", \"devoir\", \"faire\", \"philosophe\", \"chercher\", \"trop\", \"ouvrage\", \"travail\", \"peuple\", \"vouloir\", \"voir\", \"gloir\", \"obliger\", \"conna\\u00eetre\", \"sentiment\", \"r\\u00e9putation\", \"histoire\", \"point\", \"nation\", \"jamais\", \"perdre\", \"lassone\", \"frenicle\", \"luyne\", \"leuwenhoeck\", \"spermatique\", \"animalcule\", \"comtat\", \"pulpeux\", \"empirique\", \"globule\", \"extraction\", \"effor\\u00e7a\", \"pleurait\", \"abandon\", \"primat\", \"archev\\u00e8qu\", \"b\\u00e9n\\u00e9fice\", \"neufs\", \"indigent\", \"verbeux\", \"courcillon\", \"gerbert\", \"abbaye\", \"r\\u00e9pandirent\", \"archev\\u00each\\u00e9\", \"accordaient\", \"contention\", \"frenicl\", \"list\", \"infiniter\", \"gr\\u00e8s\", \"microscopique\", \"clo\\u00eetre\", \"su\\u00e8de\", \"conserva\", \"particule\", \"structure\", \"cristallisation\", \"pierr\", \"infusion\", \"liqueur\", \"cadavre\", \"carr\\u00e9\", \"rat\", \"fourbe\", \"observation\", \"mort\", \"souiller\", \"plan\\u00e8t\", \"petit\", \"ancien\", \"question\", \"op\\u00e9ration\", \"soci\\u00e9t\\u00e9\", \"devoir\", \"voir\", \"faire\", \"pouvoir\", \"devenir\", \"place\", \"probl\\u00e8me\", \"destiner\", \"travail\", \"homme\", \"croire\", \"m\\u00e9thode\", \"science\", \"jamais\", \"partie\", \"m\\u00e9thod\", \"conna\\u00eetre\", \"\\u00e9quation\", \"humain\", \"vie\", \"lymphatique\", \"bartholin\", \"\\u00e9manation\", \"danois\", \"infectaient\", \"occulte\", \"praticabler\", \"rebutant\", \"abus\\u00e9\", \"com\\u00e8t\", \"prouv\\u00e9\", \"incendier\", \"pardonnera\", \"cite\", \"d\\u00e9sarm\", \"regardon\", \"grecque\", \"bibliographie\", \"transformait\", \"injection\", \"fabuleux\", \"d\\u00e9montra\", \"cultiv\\u00e8rent\", \"persista\", \"vai\", \"enseignaient\", \"d\\u00e9daign\\u00e8rent\", \"desir\", \"voeu\", \"m\\u00eale\", \"cr\\u00e9dulit\\u00e9\", \"com\\u00e8te\", \"s\\u00e9rieusement\", \"superstitieux\", \"anatomi\", \"chaire\", \"anatomist\", \"foie\", \"voir\", \"vaisseau\", \"ouvrage\", \"m\\u00e9decin\", \"pouvoir\", \"math\\u00e9matique\", \"ridicule\", \"faire\", \"observation\", \"homme\", \"avouer\", \"conduire\", \"travail\", \"connaissance\", \"talent\", \"d\\u00e9couverte\", \"bien\", \"go\\u00fbt\", \"d\\u00e9couvrir\", \"science\", \"peuple\", \"m\\u00e9thode\", \"place\", \"jamais\", \"falloir\", \"nature\", \"donner\", \"genre\", \"mani\\u00e8re\", \"savoir\", \"corps\", \"seur\", \"intriguer\", \"m\\u00eaner\", \"clo\\u00eetr\", \"savai\", \"pourpre\", \"persuada\", \"tratier\", \"monastique\", \"cardinalat\", \"trinit\\u00e9\", \"soci\\u00eater\", \"plac\\u00e8rent\", \"bonnement\", \"synth\\u00e9tique\", \"vien\", \"occupaient\", \"sance\", \"suspect\", \"commentair\", \"d\\u00e9votion\", \"m\\u00e9ler\", \"d\\u00e9mon\", \"exprsssion\", \"m\\u00e9me\", \"dispensent\", \"d\\u00e9licieuse\", \"\\u00e9trange\", \"vraisemblance\", \"livra\", \"aim\", \"p\\u00e8r\", \"ami\", \"tourbillon\", \"pr\\u00e9f\\u00e9rence\", \"compagnon\", \"pi\\u00e9t\\u00e9\", \"m\\u00e9thode\", \"commun\", \"servir\", \"plaisir\", \"jour\", \"esprit\", \"appartenir\", \"faire\", \"devoir\", \"p\\u00e8re\", \"ouvrage\", \"homme\", \"aimer\", \"g\\u00e9om\\u00e8tre\", \"science\", \"sentiment\", \"pouvoir\", \"digne\", \"ordre\", \"travail\", \"bien\", \"int\\u00e9r\\u00eat\", \"gloir\", \"talent\", \"donner\", \"point\", \"cowper\", \"myologi\", \"petitess\", \"plagiat\", \"redoublent\", \"releva\", \"souilla\", \"mou\", \"hollandais\", \"fass\", \"sentira\", \"song\", \"d\\u00e9crir\", \"fauter\", \"excuser\", \"glande\", \"planche\", \"chirurgien\", \"complication\", \"alt\\u00e9ration\", \"publia\", \"contiennent\", \"adversairer\", \"amphith\\u00e9\\u00e2tr\", \"b\\u00e2tit\", \"pittoresque\", \"\\u00e9l\\u00e8ve\", \"pr\\u00e9c\\u00e9der\", \"d\\u00e9crire\", \"anatomist\", \"difficulter\", \"justifier\", \"faute\", \"convaincre\", \"anatomiste\", \"difficile\", \"d\\u00e9tail\", \"conserver\", \"party\", \"bien\", \"pouvoir\", \"homme\", \"voir\", \"ouvrage\", \"science\", \"falloir\", \"nature\", \"opinion\", \"conna\\u00eetre\", \"raison\", \"partie\", \"trouver\", \"poindre\", \"servir\", \"porter\", \"aucun\", \"gloir\", \"observation\", \"besoin\", \"erreur\", \"c\\u00e9l\\u00e8bre\", \"adversairer\", \"amphith\\u00e9\\u00e2tr\", \"b\\u00e2tit\", \"pittoresque\", \"\\u00e9l\\u00e8ve\", \"emp\\u00each\\u00e8rent\", \"renferment\", \"professer\", \"myologi\", \"petitess\", \"plagiat\", \"redoublent\", \"releva\", \"souilla\", \"intriguer\", \"m\\u00eaner\", \"savai\", \"pourpre\", \"monastique\", \"clo\\u00eetr\", \"persuada\", \"tratier\", \"soci\\u00eater\", \"cardinalat\", \"plac\\u00e8rent\", \"bonnement\", \"synth\\u00e9tique\", \"occupaient\", \"trinit\\u00e9\", \"vien\", \"coll\\u00e8ge\", \"anatomiste\", \"d\\u00e9monstration\", \"observateur\", \"d\\u00e9crire\", \"ville\", \"le\\u00e7on\", \"accuser\", \"imagination\", \"t\\u00eate\", \"m\\u00e9decine\", \"publier\", \"m\\u00e9decin\", \"grand_nombre\", \"yeux\", \"pratique\", \"non\", \"livrer\", \"forme\", \"lorsqu\", \"quelquefois\", \"c\\u00e9l\\u00e8bre\", \"ouvrage\", \"donner\", \"malheur\", \"falloir\", \"objet\", \"observation\", \"mort\", \"party\", \"servir\", \"adversairer\", \"amphith\\u00e9\\u00e2tr\", \"b\\u00e2tit\", \"pittoresque\", \"\\u00e9l\\u00e8ve\", \"myologi\", \"petitess\", \"plagiat\", \"redoublent\", \"releva\", \"souilla\", \"intriguer\", \"m\\u00eaner\", \"savai\", \"pourpre\", \"monastique\", \"clo\\u00eetr\", \"persuada\", \"tratier\", \"soci\\u00eater\", \"cardinalat\", \"plac\\u00e8rent\", \"bonnement\", \"synth\\u00e9tique\", \"occupaient\", \"trinit\\u00e9\", \"vien\", \"sance\", \"suspect\", \"m\\u00e9daill\", \"pouvoir\", \"faire\", \"condamine\", \"homme\", \"observation\", \"voir\", \"devoir\", \"ouvrage\", \"travail\", \"donner\", \"science\", \"objet\", \"point\", \"erreur\", \"sentir\", \"esprit\", \"vouloir\", \"mesurer\", \"op\\u00e9ration\", \"gloir\", \"falloir\", \"vie\", \"besoin\", \"voyage\", \"bien\", \"partie\", \"peuple\", \"inoculation\", \"mesure\", \"terre\", \"adversairer\", \"amphith\\u00e9\\u00e2tr\", \"b\\u00e2tit\", \"pittoresque\", \"\\u00e9l\\u00e8ve\", \"myologi\", \"petitess\", \"plagiat\", \"redoublent\", \"releva\", \"souilla\", \"intriguer\", \"m\\u00eaner\", \"savai\", \"pourpre\", \"monastique\", \"clo\\u00eetr\", \"persuada\", \"tratier\", \"soci\\u00eater\", \"cardinalat\", \"plac\\u00e8rent\", \"bonnement\", \"synth\\u00e9tique\", \"occupaient\", \"trinit\\u00e9\", \"vien\", \"sance\", \"suspect\", \"m\\u00e9daill\", \"pouvoir\", \"voir\", \"donner\", \"homme\", \"faire\", \"ouvrage\", \"travail\", \"science\", \"voyage\", \"plante\", \"devoir\", \"fr\\u00e8re\", \"recevoir\", \"bien\", \"m\\u00e9decin\", \"party\", \"gloir\", \"nature\", \"sentir\", \"croire\", \"perdre\", \"trop\", \"esprit\", \"botanique\", \"fleur\", \"regarder\", \"vie\", \"jamais\", \"contre\", \"acad\\u00e9mie\"], \"Freq\": [1336.0, 1122.0, 949.0, 666.0, 401.0, 531.0, 422.0, 419.0, 184.0, 424.0, 309.0, 116.0, 218.0, 305.0, 141.0, 260.0, 290.0, 184.0, 115.0, 202.0, 252.0, 355.0, 260.0, 243.0, 241.0, 75.0, 302.0, 276.0, 185.0, 100.0, 29.62268110076497, 23.710659831138837, 17.797794772181557, 16.813780937468223, 16.813726596831515, 16.81375376714987, 14.843042274054554, 14.84287623322016, 13.857988419933065, 13.85765784772641, 12.872421348687087, 31.592939755221035, 11.887328248550197, 11.8873674945656, 11.887369758758796, 11.887345607364702, 28.63702949963967, 31.483488656113256, 10.902073635965307, 10.902062314999325, 10.90206457919252, 10.901834386217567, 10.901881934274689, 10.90158985335237, 10.901579287117453, 10.900615495546907, 10.901213242550723, 9.916751097584527, 9.916745814467069, 9.916571471590956, 25.57723504128909, 20.636347366013766, 64.75860018026951, 41.96674843871564, 45.22506433759107, 34.50956776830922, 36.97273524374513, 25.681122262982566, 729.3163119053349, 24.652677410447723, 69.58093319032592, 39.27546198929322, 136.34248093695712, 51.1319670211315, 49.13562787997865, 77.81672159814202, 169.04771918500586, 905.3037047448831, 193.60949376700967, 140.73571612815314, 259.9733103178595, 725.4980248019303, 182.84690801709388, 121.25070949298147, 80.34006529088632, 448.74705497539384, 202.2636748882542, 151.30411259385963, 209.06630145701254, 287.87488458348616, 283.796776782423, 179.19060431387484, 94.91890338925431, 128.28339016617807, 96.4039786499162, 76.264113001746, 89.92848875200373, 327.2239056813399, 268.5686707187892, 132.88569190034505, 202.24157636265858, 252.7467784799709, 163.807627435616, 173.9029222424236, 142.0087602622191, 192.07758291535183, 164.30680052443887, 127.23220073825561, 136.73811699930087, 161.83977184487225, 175.279068677875, 149.07862200662274, 136.87625089781903, 71.98051202167345, 12.205614786534916, 9.405145666845987, 7.537185044449793, 7.534001561380878, 16.876826406464495, 5.669243809892022, 5.667272897631851, 4.73528510228531, 3.8012790329590236, 3.799534958408392, 3.7994917512256228, 3.79882370170742, 11.989777182578356, 15.731279909083357, 2.867276010293061, 2.867269086065053, 2.8672693630341732, 2.8672616078988047, 2.867269086065053, 2.867254129732556, 2.8672688090959326, 2.867268255157692, 2.8666641855062824, 2.866501050694416, 2.866274489953997, 2.8661116321112514, 2.8647791336734096, 2.858993802688243, 12.187878791946343, 13.052615161250644, 5.669236608694893, 9.188344764288967, 19.67872468681426, 10.287192606170057, 8.471152615068355, 4.735269592014572, 16.139611051659738, 4.735264606570406, 4.735243556917262, 22.99601486138394, 9.405123509316361, 20.927531919508198, 8.540258626340233, 9.320232473939418, 23.977708642938925, 146.51941218099105, 158.93275159201022, 41.63559350807777, 25.1523945075303, 81.59143355827315, 88.16674251566482, 19.209982147590967, 43.670501145312286, 28.236213008191125, 49.517492103920254, 27.590305509342798, 27.80822702896062, 24.36224149082125, 44.460022672427016, 42.74479500961452, 30.22675905536283, 30.616556532284125, 24.425033714026398, 38.86559209950011, 32.819077018122215, 41.40527485063459, 31.229681966051814, 29.481858361407536, 27.927175295248134, 27.618797876687978, 26.193419506162957, 26.346658765298592, 24.62365159383465, 23.604077299632248, 22.156908650989287, 10.202343823057678, 9.278973507986624, 10.115831209051828, 6.5001163376727495, 5.594491937067477, 4.653371949974161, 4.641116508717397, 11.123855855651469, 3.751313470468181, 3.7487139245762733, 3.748694453601787, 3.7465434233151456, 3.7463931210559553, 3.7434116707872866, 5.3684274329597725, 3.720067338762704, 2.828531212986209, 2.8260959747912797, 2.758306410733972, 19.221239084085756, 66.0044555517389, 1.908097086708044, 1.9080969159100223, 1.908096232717935, 1.908097257506066, 1.9080969159100223, 1.9080958911218915, 1.9080950371317824, 1.9080958911218915, 5.143243221856464, 54.81275257309677, 3.7200386446950406, 6.203066467721701, 3.7513097129117012, 4.913091179490868, 3.7513250847336637, 14.844946957756886, 11.185336311581235, 21.720421325610996, 60.268019527476135, 6.516044277994414, 6.516068189717467, 5.407218396480567, 64.81982233463005, 11.500841932576696, 12.55603894322326, 86.70779925240238, 75.42760923462231, 32.23132202294492, 53.88621292993306, 35.86268745865826, 16.68640241391219, 16.88126246103174, 22.51544785836724, 15.949985563935178, 22.96497185515404, 30.26587950041507, 33.46607147880458, 32.903317958248735, 24.37075161813068, 23.581746740431278, 30.637194399824207, 28.506807445290402, 20.046868523197347, 26.30190609618667, 36.85487366309966, 24.959441843086093, 20.22727769128782, 22.480394638755676, 18.40469746611849, 18.68921554361349, 19.265816001393294, 18.88380914581902, 17.744629250339372, 15.88389094505609, 7.509493703974892, 3.78765423631874, 2.8571507252637955, 2.851857420856785, 2.8463615361370334, 4.24156909109449, 4.969854848586617, 1.9266585348733867, 1.9266560026194774, 1.9266525766288942, 1.9266498954188727, 1.9266497464627605, 1.9266366383248772, 1.9266308290364973, 1.9266279988703634, 1.9266279988703634, 1.926626807221465, 1.9264939383692852, 1.9245834272728106, 1.9245816397994628, 1.924465454031862, 1.92451758867117, 1.9245120772950146, 1.9244922661320776, 1.9243567160698765, 1.9213005835136336, 12.357664814855202, 5.311450240612474, 17.99423322026214, 5.300832053102642, 31.19310682552644, 35.34629638232911, 6.014103034474027, 4.522215812734668, 8.668229855695188, 3.500015812679005, 16.781610109528508, 4.333145521468688, 8.112886315364902, 21.963402395918326, 40.86383336256551, 19.174038320331864, 4.9056943865073315, 3.7435665041097606, 2.85719034758967, 2.8571828997840543, 36.32093409990007, 24.755512030566866, 18.40900211081087, 14.313149932407066, 31.023945114494996, 22.843935599976984, 46.72389075228521, 84.06665424943351, 32.23642641900971, 46.89606971832758, 70.21273958622166, 38.0215648424825, 20.18586740002413, 12.595093707982283, 23.26706867414409, 25.887950278571243, 10.004174923458303, 17.622668752176395, 21.927102387173083, 19.549207526335486, 30.586276307064335, 18.904017829831584, 33.36886466701409, 21.079675572811762, 21.92127045746396, 21.546630343571263, 19.8767429509205, 19.246066346351085, 18.201093935845627, 10.45619962001855, 5.78316118723494, 5.783459836517197, 4.966568544148388, 4.145786136649758, 3.3303980043613546, 3.3289221068710306, 3.32750042475871, 3.323680873927854, 2.512308087435437, 2.512303440403037, 2.5107682157990703, 2.5107592315364298, 2.510710282795147, 5.784133966017396, 1.6942017509950391, 1.694197878468039, 1.694197723566959, 1.694197103962639, 1.694195090248599, 1.694195090248599, 1.694194315743199, 1.6933964202800735, 1.6933962653789936, 1.6925852033240676, 1.6925765288635872, 1.6925768386657472, 1.6925680093041866, 1.6925602642501862, 1.6931282865105783, 4.129259120819303, 4.4353727763196735, 4.9664557761621415, 7.154340590638012, 9.874256709368163, 4.840208297933394, 4.147031851135189, 5.626456439050548, 6.2679234975180655, 7.148593760569686, 4.1484956663412715, 8.451365749019283, 5.2513300151760305, 4.147098768401753, 6.602750856417503, 26.168961194091505, 10.619597953672281, 24.424214910887446, 6.397249789613068, 42.5875660958793, 6.652093046443496, 7.4842290835024485, 8.444181436928478, 9.284883503711914, 9.856873090565259, 11.764036873784434, 26.066652128767313, 18.313612667852208, 8.624833272477906, 14.744280367181645, 10.554711750069567, 14.821982466539964, 10.549586383134237, 12.639152384106941, 11.744412765760284, 11.134935258731858, 11.143946783962448, 13.20964438731876, 8.596404587066056, 8.277616305595046, 8.094279104922586, 8.942597967612215, 8.25787819037601, 8.032967398642155, 7.853718966877607, 7.906853754946535, 10.592665146338671, 5.708391272989502, 12.974513021337414, 3.2986293970628195, 3.2942779211151665, 16.111561710265494, 15.454916930855427, 2.488769286159926, 2.48801785389267, 20.25511179543425, 1.6783377736371397, 1.6783369197368359, 1.6783363504699667, 1.678335923519815, 1.678335923519815, 1.6783362081532494, 1.6783353542529458, 1.6771182616867393, 1.6771139921852207, 4.109600716894262, 4.109600716894262, 1.5510185343378953, 15.101382850050229, 6.440015330266828, 0.8678323275797246, 0.8678323275797246, 0.86783204294629, 0.8678323275797246, 0.86783204294629, 0.8678321141046487, 2.4887661551921454, 2.449337308668815, 67.25011387829011, 3.2991844322602244, 28.867698267934763, 3.198232638122204, 10.305910623417736, 3.1980735280322814, 8.323076697932976, 4.206304072387941, 11.67347522407476, 18.1600469066999, 16.297045934235133, 21.614118037980724, 7.433713345353824, 5.104523225016763, 23.835124113240862, 34.20608713886192, 13.443387401031407, 28.56448623982719, 15.503888682539472, 14.877009729182635, 18.6166752175051, 11.31049131324195, 8.641114712380253, 11.944744549621538, 11.394355708402637, 9.549710176866197, 9.20446120607436, 7.682464750625173, 8.014023991748097, 8.067601681670297, 8.515717175714483, 7.482921671230724, 4.5107535017283125, 3.024865497949912, 2.281716961544389, 2.281704384321107, 1.538819969604505, 1.538819866512511, 1.5388196603285227, 1.5387562587521424, 1.538687496392068, 1.5386832696203094, 0.7957411749330005, 0.7957408656570181, 0.7957406079270328, 0.7957405563810357, 0.7957405563810357, 0.7957405563810357, 0.7957405563810357, 0.7957404532890416, 0.7957404532890416, 0.7957404532890416, 0.7957404532890416, 0.7957404532890416, 0.7957403501970475, 0.7957402471050534, 0.7957402471050534, 0.7957402471050534, 0.7957402471050534, 0.7957402471050534, 0.7957401955590563, 3.024774570811103, 2.2818503625847733, 4.510903603671743, 3.7678816642349924, 4.458233903878665, 3.612675842359719, 3.7678779529232043, 1.538686568564121, 1.5388204850644758, 3.024866528869853, 10.962975023945884, 5.996930987826186, 3.0248428177112068, 2.2818505687687614, 5.707790521405264, 3.0248718896535474, 3.0248081788011842, 1.538755021648213, 1.5386843005402504, 19.266742368602387, 6.591621279555215, 15.636117797699365, 8.201514107006158, 4.449105313983818, 8.593594403758228, 11.779864439005527, 13.28957329131199, 5.911020717818817, 6.361164487496033, 6.905768564804493, 7.840551097757599, 7.208426453493702, 5.996960678320491, 6.377589928734301, 6.974823293774147, 5.569853845648093, 4.754889364302554, 5.331380207758594, 4.4410216645413145, 4.482491862461774, 4.510901129463884, 4.915872049160025, 4.510946489941294, 4.461641300468136, 4.461405013617626, 8.19068573030327, 6.155413026981653, 2.0839947223761555, 2.083982243814173, 2.0839802893406096, 1.405401801832678, 1.404923256497872, 1.4049217530566693, 2.719532995822634, 2.0839802893406096, 2.083996827193839, 0.7267897124138668, 0.7267895620697465, 0.7267895620697465, 0.7267895620697465, 0.7267895620697465, 0.7267895620697465, 0.7267894868976864, 0.7267894868976864, 0.7267894868976864, 0.7267894117256263, 0.7267894117256263, 0.7267894117256263, 0.7267894117256263, 0.7267891862094459, 0.7267887351770851, 0.7267891110373857, 0.7267883593167843, 0.7267883593167843, 0.726788208972664, 2.0373758672200157, 2.762556371342617, 2.0372564939885245, 2.761942065267211, 1.3543756087909462, 2.08368636658549, 2.702681224070281, 2.050691094231356, 1.4054120252328561, 1.4054015011444374, 3.9979679853378816, 1.9787622574608297, 1.4054117245446156, 1.2721958588683366, 1.4054129272975777, 7.788939780387884, 6.275492274461467, 1.9345407896464484, 1.226196872520053, 5.788369506906019, 4.917913133155897, 5.146270216051141, 4.119774085383068, 4.955515701075576, 9.269128160029101, 7.751729009245618, 10.737379817897693, 10.927786436578963, 5.191088399678857, 5.138740982508229, 3.4411646269863616, 3.7816450472051937, 5.117656121705672, 6.058617272719163, 4.848192851512075, 4.109631570341697, 4.7115480874848945, 4.146167897760451, 3.890293330532958, 3.4411790600219074, 3.949530116670646, 3.3447152655769643, 3.182357447348964, 3.1893685950534394, 1.7062464465529574, 4.484032082048783, 1.1506831795278305, 1.1506818860041028, 0.5950990436532275, 0.5950990436532275, 0.5950990436532275, 0.5950990436532275, 0.5950976638945845, 0.5950975776596693, 0.5950976638945845, 0.5950975776596693, 0.5950975776596693, 0.5950975776596693, 0.5950974051898389, 0.5950974051898389, 0.5950974483072965, 0.5950974483072965, 0.5950974051898389, 0.5950974051898389, 0.5950973189549237, 0.5950974051898389, 0.5950973189549237, 0.5950972758374661, 0.5950973189549237, 0.5950972758374661, 0.5950972758374661, 0.595097189602551, 0.5950971464850934, 0.595097189602551, 1.7062524829970207, 1.7062474813719397, 1.1506846455213888, 1.150685594105456, 1.7062500684193953, 1.7062495510099043, 1.7062526554668511, 1.7062471364322789, 6.155996700416585, 1.7062486886607522, 5.620080851528987, 3.928523660429718, 7.8348987452416985, 2.8280974995960633, 2.261824545983497, 6.169515575601297, 3.382720116166283, 5.045985356289586, 1.7062550700444765, 2.2737059925985563, 3.3946836584206044, 2.8346849847675277, 2.8241682919202864, 2.302815450570536, 3.379806410851799, 2.269015848031131, 2.2618348941733197, 2.82412948620845, 2.2665559108403834, 2.275689223178126, 2.2719131687117287, 2.2618838756051485, 2.26513889871396, 2.2647741250227007, 2.275450007523385, 1.7206775146705628, 1.720281351470174, 1.7176715379968241, 1.7156784766369224, 4.207113763110189, 0.4968140927350166, 0.4968140331646636, 0.49681388423878126, 0.49681382466842827, 0.49681382466842827, 0.49681382466842827, 0.49681382466842827, 0.49681370552772236, 0.4968136757425459, 0.49681355660184, 0.49681349703148703, 0.49681349703148703, 0.49681349703148703, 0.49681349703148703, 0.49681349703148703, 0.4968134374611341, 0.4968132885352517, 0.49681299068348694, 1.4244101801429898, 0.9606179296558277, 0.4968140033794871, 0.49681316939454584, 0.496814807579252, 0.4968146586533696, 0.49681382466842827, 0.49681382466842827, 0.49681337789078117, 0.4968128417576046, 0.4968140331646636, 1.4244075590474599, 7.453593155147136, 6.062270374425424, 0.9606170361005335, 1.4244098227208721, 0.960618704070416, 0.9606195976257104, 3.2795690551316365, 2.351988604941313, 1.8882107704795652, 1.888224471660744, 1.8882113661830946, 2.352047460450029, 1.4244170903039322, 3.2797520552559036, 2.815871759787079, 1.4244188774145208, 2.352079866722035, 2.816060955228053, 1.4244213793693448, 1.4244237621834628, 2.3520727182796803, 1.4244209028065211, 2.816045228654874, 1.4244207836658151, 1.424428408670993, 1.8882361474499225, 1.8882777275562825, 1.42443198289217, 1.4244392504752301, 1.424427098123228, 1.4244815454258257, 1.4244670102597057, 0.5871916989004993, 0.15450854267789274, 0.15450854267789274, 0.15450854267789274, 0.15450854267789274, 0.15450854267789274, 0.15450854267789274, 0.154508670368265, 0.15450860071897105, 0.15450871680112763, 0.154508670368265, 0.15450860071897105, 0.29873854436784114, 0.15450863554361802, 0.1545087516257746, 0.1545085775025397, 0.15450874001755893, 0.15450870519291196, 0.15450878645042157, 0.1545087516257746, 0.2987392872936433, 0.15450896057365646, 0.010301845206392853, 0.010301845206392853, 0.010301845206392853, 0.010301845206392853, 0.010301845206392853, 0.15450911148046004, 0.2987391247786241, 0.15450921595440095, 0.1545090070065191, 0.15450911148046004, 0.15450952937622375, 0.1545093668612045, 0.1545098544062622, 0.44296927737537606, 0.2987412839067366, 0.2987454860808051, 0.29874413952778867, 0.2987592069917138, 0.29881998760890327, 0.15455827227377503, 0.15453246721036554, 0.15453180554207296, 0.15452944907429425, 0.15452637289714466, 0.15451999998674798, 0.15451997677031665, 0.15451946600882768, 0.15451860700086892, 0.15451822392975217, 0.1545176551271849, 0.1545167264699322, 0.1545154263497784, 0.1545152870511905, 0.1545152638347592, 0.15451522901011222, 0.15451517096903392, 0.15451489237185811, 0.1545134297366851, 0.15451318596415625, 0.0752984673713809, 0.0752984673713809, 0.0752984673713809, 0.0752984673713809, 0.0752984673713809, 0.07529848299220457, 0.0752984673713809, 0.075298493406087, 0.0050204774007077055, 0.0050204774007077055, 0.0050204774007077055, 0.0050204774007077055, 0.0050204774007077055, 0.0050204774007077055, 0.0050204774007077055, 0.0050204774007077055, 0.0050204774007077055, 0.0050204774007077055, 0.0050204774007077055, 0.0050204774007077055, 0.0050204774007077055, 0.0050204774007077055, 0.0050204774007077055, 0.0050204774007077055, 0.0050204774007077055, 0.0050204774007077055, 0.0050204774007077055, 0.0050204774007077055, 0.0050204774007077055, 0.0050204774007077055, 0.07529855068244043, 0.07529853506161677, 0.07529852464773432, 0.07529853506161677, 0.0752985454754992, 0.07529858713102897, 0.07529853506161677, 0.07529850381996944, 0.07529855068244043, 0.07529866002820605, 0.07529852464773432, 0.07529856630326408, 0.14558739907816057, 0.07529861837267629, 0.07529864440738239, 0.07529861316573506, 0.07529863399349995, 0.07529863399349995, 0.07529865482126483, 0.07529874333926558, 0.07529865482126483, 0.07529866002820605, 0.1455875344586323, 0.07529963372621422, 0.07529923279174026, 0.07529921196397538, 0.07529920675703416, 0.0752989047544434, 0.07529879540867777, 0.07529876937397167, 0.07529868606291215, 0.0005643169880989367, 0.0005643169880989367, 0.0005643169880989367, 0.0005643169880989367, 0.0005643169880989367, 0.0005643169880989367, 0.0005643169880989367, 0.0005643169880989367, 0.0005643169880989367, 0.0005643169880989367, 0.0005643169880989367, 0.0005643169880989367, 0.0005643169880989367, 0.0005643169880989367, 0.0005643169880989367, 0.0005643169880989367, 0.0005643169880989367, 0.0005643169880989367, 0.0005643169880989367, 0.0005643169880989367, 0.0005643169880989367, 0.0005643169880989367, 0.0005643169880989367, 0.0005643169880989367, 0.0005643169880989367, 0.0005643169880989367, 0.0005643169880989367, 0.0005643169880989367, 0.0005643169880989367, 0.0005643169880989367, 0.0005645416974256768, 0.0005645345790065537, 0.0005644836207081201, 0.0005644341682291161, 0.0005644291716464625, 0.0005644100408950693, 0.0005644094591011987, 0.000564408398182964, 0.0005643968991982267, 0.0005643912523753647, 0.0005643873167109457, 0.0005643828334758249, 0.0005643758861725462, 0.0005643752359323379, 0.0005643735932202326, 0.0005643719505081272, 0.0005643691099851117, 0.0005643683570753968, 0.000564366817032798, 0.0005643666116937849, 0.0005643663036852652, 0.0005643655507755502, 0.0005643653454365371, 0.0005643650032048484, 0.0005643629498147168, 0.0005643608279782475, 0.0005643597670600128, 0.0005643582954637517, 0.0005643575425540368, 0.000564357234545517, 0.0005643097327871383, 0.0005643097327871383, 0.0005643097327871383, 0.0005643097327871383, 0.0005643097327871383, 0.0005643097327871383, 0.0005643097327871383, 0.0005643097327871383, 0.0005643097327871383, 0.0005643097327871383, 0.0005643097327871383, 0.0005643097327871383, 0.0005643097327871383, 0.0005643097327871383, 0.0005643097327871383, 0.0005643097327871383, 0.0005643097327871383, 0.0005643097327871383, 0.0005643097327871383, 0.0005643097327871383, 0.0005643097327871383, 0.0005643097327871383, 0.0005643097327871383, 0.0005643097327871383, 0.0005643097327871383, 0.0005643097327871383, 0.0005643097327871383, 0.0005643097327871383, 0.0005643097327871383, 0.0005643097327871383, 0.0005654615135351488, 0.0005650236280895747, 0.0005650156198680613, 0.0005649932036924575, 0.0005648579195059508, 0.0005647631555513751, 0.0005647446750401902, 0.000564742039856188, 0.000564740328697745, 0.0005647311911116591, 0.0005647074060093008, 0.0005646462492065466, 0.0005646408419458666, 0.0005646285900514144, 0.0005646216085249668, 0.0005646201711518746, 0.0005646117522523349, 0.0005646050102880694, 0.000564584168378233, 0.0005645579192077168, 0.0005645523750543614, 0.0005645497398703591, 0.0005645442983865102, 0.0005645404653915979, 0.0005645264681155337, 0.0005645247569570907, 0.0005645204790609832, 0.0005645194523659173, 0.0005645165091733952, 0.0005645148322381211], \"Total\": [1336.0, 1122.0, 949.0, 666.0, 401.0, 531.0, 422.0, 419.0, 184.0, 424.0, 309.0, 116.0, 218.0, 305.0, 141.0, 260.0, 290.0, 184.0, 115.0, 202.0, 252.0, 355.0, 260.0, 243.0, 241.0, 75.0, 302.0, 276.0, 185.0, 100.0, 30.128951032283286, 24.216908124076348, 18.303990037423322, 17.31998239491697, 17.319929028661186, 17.319968041426744, 15.349230404650113, 15.349075315755853, 14.364176575770774, 14.363864452694255, 13.37859630082868, 32.841977706962695, 12.39350955125006, 12.393551590441158, 12.393554532316326, 12.393567941944601, 29.885849837060846, 32.898432384560955, 11.408245082602912, 11.408242407985007, 11.408245184072213, 11.408012039067062, 11.408067959166665, 11.407762931745113, 11.407779827121, 11.406817253510726, 11.407824291495205, 10.42292206628042, 10.422917802502077, 10.422744693493879, 26.978766179407316, 21.93164774459184, 70.89891446993548, 45.70942720858758, 49.658555712056035, 37.46806586250296, 40.662225056987154, 27.862218990860868, 949.250603526794, 26.862659328307192, 80.90584558180376, 44.10708887769277, 168.5012950981175, 58.75273680065795, 56.37061626435655, 92.71874819574712, 214.20948264395912, 1336.4340956021372, 252.0914789555563, 179.3909291412803, 355.24240670833404, 1122.3025660173284, 243.15694530233853, 154.85045484599797, 98.43956591145728, 666.6741045557357, 276.7883879710647, 200.6871075664808, 290.0564823347861, 422.3747334575467, 419.84331083527775, 250.40747978610636, 120.36025276526446, 171.20328092531395, 123.16912679753716, 93.57961422550598, 113.66461567657873, 531.2043482963838, 424.34388763088435, 181.8702402360379, 305.2405576352613, 401.12996320340676, 236.94314953954836, 260.2764788701419, 202.97401314159796, 302.5674007567135, 248.49499225193134, 178.72428334278956, 198.5496522858788, 260.53754198136056, 309.18256752346235, 241.18078037541022, 206.5191392909043, 74.45341957011625, 12.71568531937181, 9.914961578565029, 8.047007579040828, 8.04383809288055, 18.362053169313704, 6.1790626108123, 6.17718465762224, 5.245077338538098, 4.3110871978225935, 4.309393479243041, 4.309396535787764, 4.308746347725462, 13.70524850924521, 18.361189053508852, 3.3770744892899414, 3.3770723619089424, 3.3770729207842995, 3.37706434081744, 3.3770731704448957, 3.377055579158039, 3.377072883203224, 3.377073084917545, 3.3764690088690776, 3.3763132512686385, 3.376079815306914, 3.3759113309472104, 3.374637810607899, 3.3713638311116334, 14.619807711986326, 17.780895340502106, 7.154248554914768, 12.56846070950303, 31.02029086467759, 15.161943760550237, 12.412012370300435, 6.174604244392989, 27.535115186215023, 6.218397137343194, 6.220408842043668, 45.93883637814661, 15.820018913730324, 47.799309631621675, 15.289226073835454, 17.267503892646744, 69.50307921263911, 1122.3025660173284, 1336.4340956021372, 196.14087437587258, 87.94697599045078, 666.6741045557357, 949.250603526794, 65.95779641259874, 302.5674007567135, 141.70248668086364, 419.84331083527775, 141.1092903083611, 149.32529253169892, 113.43667581974574, 424.34388763088435, 422.3747334575467, 192.00176796411904, 200.6871075664808, 117.95316551859412, 401.12996320340676, 260.2764788701419, 531.2043482963838, 276.7883879710647, 250.40747978610636, 218.09513758640279, 218.0047577548259, 260.53754198136056, 355.24240670833404, 202.97401314159796, 248.49499225193134, 22.69231314762539, 10.71304350560696, 9.790428860944289, 10.714617435618859, 7.02468730390031, 6.10517661613173, 5.1834047701077735, 5.1808503851312935, 12.566770491011338, 4.2620118137100516, 4.260240721626591, 4.260242374287577, 4.259216995293985, 4.259541377499907, 4.258393268654345, 6.114660153162718, 4.261818474651307, 3.339318372733519, 3.337958518808439, 3.340398909001784, 23.676937433837416, 83.49421133924244, 2.4187763086150995, 2.4187764797008358, 2.4187765495185443, 2.4187779447820796, 2.418777763698544, 2.418777112760581, 2.4187762367714627, 2.4187774658349537, 6.871648515337609, 93.42162066311091, 5.079397054282116, 9.15213355525082, 5.191536985101016, 7.12997641051076, 5.237368598581646, 25.8000889477235, 18.574237990373707, 48.13100076203776, 184.46528709532535, 10.686038721097127, 10.959574312892363, 8.513049135329972, 531.2043482963838, 31.094209316000597, 38.059628862064656, 1336.4340956021372, 1122.3025660173284, 241.18078037541022, 666.6741045557357, 309.18256752346235, 71.98579079779299, 75.74741232013892, 145.3098130907811, 72.33381320969572, 165.7811691703777, 302.5674007567135, 401.12996320340676, 424.34388763088435, 218.0047577548259, 206.5191392909043, 419.84331083527775, 355.24240670833404, 136.4243521088986, 305.2405576352613, 949.250603526794, 290.0564823347861, 141.1092903083611, 248.49499225193134, 162.88857640699985, 187.15266889414215, 252.0914789555563, 422.3747334575467, 18.254926900391524, 16.394014107323613, 8.019671619546628, 4.297739543557052, 3.3672351685057027, 3.3648231148740586, 3.3651088081397904, 5.249876182835853, 6.192700339918267, 2.436709095539008, 2.436708953999614, 2.4367080705133777, 2.436708042124541, 2.4367083336643196, 2.4367043831856963, 2.4367037941166565, 2.4367035278596454, 2.436703608094525, 2.436702913430214, 2.436545144135191, 2.434640131235703, 2.4346408518585316, 2.434521076372347, 2.4346436844526935, 2.4346450156565203, 2.434646295207237, 2.434651595210795, 2.434661777836587, 18.39200372088225, 7.996273875153247, 32.02937044443008, 8.085901503893693, 68.27610595409213, 84.12704846923242, 10.071398369718874, 7.131831087818839, 17.148552841824966, 5.291921660770678, 41.3227414613021, 7.215192046661748, 16.84396484232133, 66.01127588105969, 165.7811691703777, 58.45090498037926, 9.001637375262236, 6.265236806422964, 4.3426084402526675, 4.34260520106047, 187.15266889414215, 106.66801566143066, 71.98579079779299, 51.61060096931643, 184.21598168548735, 113.71282640791344, 424.34388763088435, 1336.4340956021372, 260.53754198136056, 531.2043482963838, 1122.3025660173284, 401.12996320340676, 116.60120492298715, 53.74342131410809, 214.20948264395912, 309.18256752346235, 33.02603489948257, 135.35464900491948, 241.18078037541022, 182.38404631013265, 666.6741045557357, 166.0570346992492, 949.250603526794, 250.40747978610636, 419.84331083527775, 422.3747334575467, 305.2405576352613, 248.49499225193134, 196.14087437587258, 11.257567282817673, 6.301420286263194, 6.302425903059895, 5.48466596652692, 4.66622742350257, 3.8484849438154485, 3.8470727380906067, 3.847697370401525, 3.8484429289464557, 3.030386819358759, 3.0303873767858587, 3.0289222010079935, 3.0289237514979654, 3.029615351716012, 7.234585713930647, 2.2122701007948704, 2.212272958777417, 2.2122736695074123, 2.2122736503053297, 2.2122735248404775, 2.212273683542747, 2.2122735820612784, 2.2114781691012264, 2.2114781891172686, 2.210681876479191, 2.2106837871938185, 2.210684379192256, 2.2106854564309737, 2.2106880861546685, 2.212000655054011, 5.643936883740087, 6.471323689344133, 7.392078232696013, 12.807850303907605, 20.738751108290735, 9.083735704541597, 7.378731168880969, 11.183521087010106, 12.989922157489945, 15.710134213454348, 8.059500655652345, 22.84834213960239, 12.14368208560451, 8.545949847660884, 17.66535858426656, 218.09513758640279, 47.181220636492654, 309.18256752346235, 20.94650726953212, 1122.3025660173284, 23.152818057323778, 33.744436469936865, 46.52713370355027, 62.242270651607626, 79.14235746628073, 135.35464900491948, 1336.4340956021372, 666.6741045557357, 60.66067582117422, 422.3747334575467, 149.32529253169892, 531.2043482963838, 178.72428334278956, 419.84331083527775, 302.5674007567135, 241.18078037541022, 305.2405576352613, 949.250603526794, 162.88857640699985, 122.4947820969022, 106.62219118798082, 424.34388763088435, 260.53754198136056, 165.7811691703777, 114.19969151124366, 184.21598168548735, 11.111440260760713, 6.252044718879229, 14.293810917825375, 3.8174144042825287, 3.8172721055816203, 18.778741750639636, 18.42684318086892, 3.0074002067836947, 3.0068261160160668, 25.613466922802925, 2.196961952191224, 2.1969627966749603, 2.196962807854758, 2.1969624075415846, 2.196962494002457, 2.196963134143996, 2.1969621072508088, 2.196028081818007, 2.1960299799610867, 5.603605994267593, 5.6036091505773165, 2.216411348586006, 21.955983386378072, 9.72249297067884, 1.386452784684227, 1.3864528033563552, 1.386452555719838, 1.3864530246872133, 1.3864526867191842, 1.386452846609735, 3.9827670563296014, 3.9326939627854984, 116.7684196834387, 5.471517818772698, 61.09080725950179, 5.799819010355624, 22.875513838148247, 5.802557021993524, 26.80771017212541, 9.52529427420571, 55.03700361650107, 115.80328266274489, 116.15177824698392, 305.2405576352613, 39.049026141336846, 19.138824065594033, 531.2043482963838, 1336.4340956021372, 184.21598168548735, 1122.3025660173284, 422.3747334575467, 401.12996320340676, 949.250603526794, 218.09513758640279, 124.57715231327741, 424.34388763088435, 419.84331083527775, 309.18256752346235, 260.2764788701419, 118.7025702804991, 193.55919100783214, 218.0047577548259, 666.6741045557357, 8.006404602474287, 5.034244889881722, 3.5483145457930108, 2.805177684188132, 2.8051808152933058, 2.062261188247983, 2.0622610869780065, 2.0622611101909336, 2.0621971192086472, 2.0621340533168944, 2.0621352289657815, 1.3191757639956354, 1.3191759279466486, 1.3191758710013657, 1.3191757915772282, 1.3191757916751818, 1.3191758251906773, 1.3191758768084558, 1.3191758782520429, 1.3191758843244312, 1.319175958631225, 1.3191759837082342, 1.319176015242172, 1.319175880472242, 1.3191757364892476, 1.3191758264141447, 1.3191758729262402, 1.3191758789153023, 1.3191759181475908, 1.3191759106937024, 6.043981594300984, 5.395485217083978, 14.842396674084442, 12.577594631544198, 18.574237990373707, 14.712249995454991, 17.820890069319688, 4.0212987200072075, 4.025066903554046, 14.26348419305796, 202.97401314159796, 69.98386481094293, 18.44400237379804, 10.627501684499395, 66.819351908819, 18.89443511335904, 19.196128124956743, 4.957107096830917, 5.010323940938798, 1336.4340956021372, 128.8082134883062, 949.250603526794, 252.0914789555563, 55.10315514388821, 290.0564823347861, 666.6741045557357, 1122.3025660173284, 131.5793371686681, 166.0570346992492, 236.94314953954836, 401.12996320340676, 309.18256752346235, 179.3909291412803, 276.7883879710647, 422.3747334575467, 166.89023370713687, 91.39601898486711, 241.18078037541022, 77.60345649495248, 87.35844916016804, 104.53281654700042, 302.5674007567135, 200.6871075664808, 243.15694530233853, 107.29352343179907, 8.718798730909624, 6.683459981775935, 2.6120307543532015, 2.6120357711860884, 2.612036597286829, 1.93344994821769, 1.9329717785194611, 1.9329724177699557, 4.2856268169193354, 3.584602696955885, 3.585534822752311, 1.254823863459585, 1.2548238664202123, 1.254823943072586, 1.254823954865259, 1.2548239961396142, 1.2548240138286235, 1.2548239563455728, 1.2548240094126009, 1.25482402710161, 1.2548239755148958, 1.2548239932039051, 1.2548240757526155, 1.254824111130634, 1.2548239858521733, 1.2548232263312822, 1.2548240816738703, 1.2548231442086615, 1.2548232223590534, 1.2548230908788207, 3.6061443522577825, 5.252325691247322, 4.072474173133563, 7.378731168880969, 2.9304814428036776, 6.34176065532263, 10.535834273805815, 6.887433309173476, 3.827411740889834, 3.8962565383411305, 25.767632242662803, 9.420622563295654, 4.7704767658279, 3.9565625878859776, 4.882125299222362, 218.09513758640279, 136.4243521088986, 10.555357654797398, 3.976612704395322, 130.4894743169438, 90.60555949709679, 103.11486623711023, 72.2689327670246, 123.40237710778239, 666.6741045557357, 422.3747334575467, 1122.3025660173284, 1336.4340956021372, 180.996860224257, 202.97401314159796, 51.61060096931643, 80.71045730532569, 309.18256752346235, 949.250603526794, 355.24240670833404, 184.21598168548735, 531.2043482963838, 243.15694530233853, 162.88857640699985, 78.01556861702713, 241.18078037541022, 68.27610595409213, 120.36025276526446, 193.55919100783214, 2.2430762722123445, 5.994371829254494, 1.6875091823847903, 1.687509651195288, 1.1319192213975022, 1.1319192213975022, 1.1319192213975022, 1.1319192213975022, 1.1319205231541603, 1.131920369336625, 1.1319205424954006, 1.1319204814618054, 1.131920528645715, 1.1319205938421515, 1.1319204566148235, 1.1319204641302014, 1.1319205632715963, 1.131920569360373, 1.1319205518849142, 1.1319206110511666, 1.1319205136522636, 1.1319206777957542, 1.1319205248184052, 1.1319205772430914, 1.1319206991502597, 1.1319206798355599, 1.1319206929874106, 1.1319205913861397, 1.1319205432165214, 1.1319206357673681, 5.869625391395358, 6.693664517365264, 4.515490748045048, 4.582355074526114, 10.79561287509962, 11.450454424266132, 12.121754487422786, 12.56846070950303, 422.3747334575467, 17.267503892646744, 401.12996320340676, 184.46528709532535, 1336.4340956021372, 87.19014993324872, 46.336373759467705, 1122.3025660173284, 218.09513758640279, 949.250603526794, 31.04740778142651, 80.19070753138325, 309.18256752346235, 181.8702402360379, 185.6099568491441, 108.31564336324055, 419.84331083527775, 124.79228129731997, 134.93496869911715, 531.2043482963838, 179.3909291412803, 184.21598168548735, 202.97401314159796, 243.15694530233853, 260.2764788701419, 305.2405576352613, 424.34388763088435, 103.66870506231632, 109.80586909747787, 248.49499225193134, 145.3098130907811, 4.750536903864236, 1.0401941108581794, 1.040194122721746, 1.0401942013313563, 1.040194135096544, 1.0401941414697105, 1.0401942073787096, 1.0401942633905736, 1.0401941777697512, 1.0401943043703943, 1.0401944229421682, 1.0401943007125565, 1.0401943163177065, 1.0401943449163509, 1.0401943538860825, 1.0401944454333247, 1.0401943989130154, 1.0401945073685357, 1.0401945849701213, 4.748111749398983, 3.466571885528408, 1.96971820107328, 1.9723381078719822, 2.015556179632937, 2.0155573987782285, 2.0155569840883176, 2.0155577530567954, 2.0155559465553736, 2.0155553410088, 2.7148503631526357, 8.255294487082196, 75.97669527205029, 141.70248668086364, 7.146062534770396, 19.129704534862988, 8.811059080193193, 8.88952002248967, 184.21598168548735, 96.50673840199295, 105.45421217374646, 122.4947820969022, 124.57715231327741, 290.0564823347861, 46.235959327019586, 1122.3025660173284, 666.6741045557357, 54.885595069931156, 401.12996320340676, 949.250603526794, 65.8607687308312, 66.01127588105969, 531.2043482963838, 77.60345649495248, 1336.4340956021372, 86.58562808343474, 88.82277061125812, 309.18256752346235, 419.84331083527775, 146.88761225299606, 166.89023370713687, 185.6099568491441, 424.34388763088435, 302.5674007567135, 1.15339275775165, 0.7207096015290434, 0.7207096015290434, 0.7207096015290434, 0.7207096015290434, 0.7207096015290434, 0.7207096015290434, 2.680585869236904, 3.3853627308580903, 3.5576261788945978, 3.5625730668071283, 3.5749478641415107, 7.988147972096287, 4.4773496576321605, 4.568657383350027, 4.653486556036363, 6.450337503750583, 7.142485928788573, 8.595633893925035, 9.15213355525082, 18.081697948841022, 9.46485050710615, 0.6467808940282168, 0.6467808940282168, 0.6467808940282168, 0.6467808940282168, 0.6467808940282168, 9.970435548111176, 21.993584428081807, 12.121754487422786, 13.69801411140048, 14.055155619890865, 15.42623613917327, 18.10659725489659, 18.135757419135974, 100.10518338030872, 55.135822556852176, 96.10887636893787, 115.80328266274489, 419.84331083527775, 1336.4340956021372, 949.250603526794, 422.3747334575467, 401.12996320340676, 531.2043482963838, 260.2764788701419, 305.2405576352613, 252.0914789555563, 241.18078037541022, 168.5012950981175, 162.88857640699985, 196.14087437587258, 128.36816567077477, 105.45421217374646, 134.5314168633342, 136.99530959567724, 166.89023370713687, 218.09513758640279, 134.54214849053935, 106.62219118798082, 101.4818098868254, 0.6467808940282168, 0.6467808940282168, 0.6467808940282168, 0.6467808940282168, 0.6467808940282168, 2.5084498356324136, 6.320182799286549, 7.943985341956469, 0.7207096015290434, 0.7207096015290434, 0.7207096015290434, 0.7207096015290434, 0.7207096015290434, 0.7207096015290434, 1.0401941108581794, 1.040194122721746, 1.040194135096544, 1.0401941414697105, 1.0401941777697512, 1.0401942013313563, 1.0401942073787096, 1.0401942633905736, 1.0401943007125565, 1.0401943043703943, 1.0401943163177065, 1.0401943449163509, 1.0401943538860825, 1.0401943989130154, 1.0401944229421682, 1.0401944454333247, 16.46157494815207, 18.135757419135974, 20.34910874502339, 20.94650726953212, 21.993584428081807, 24.02504900612722, 28.014992186057192, 30.7682454996811, 41.17778659264117, 43.12894861858829, 48.13100076203776, 48.82888264587762, 184.46528709532535, 69.82472761532716, 73.75642833794022, 74.40480977543793, 78.01825736294283, 79.99461697217588, 84.76323185919851, 97.01801596625373, 98.43561620774945, 101.4818098868254, 401.12996320340676, 424.34388763088435, 117.95316551859412, 260.2764788701419, 260.53754198136056, 218.09513758640279, 136.4243521088986, 115.80328266274489, 105.45421217374646, 0.6467808940282168, 0.6467808940282168, 0.6467808940282168, 0.6467808940282168, 0.6467808940282168, 0.7207096015290434, 0.7207096015290434, 0.7207096015290434, 0.7207096015290434, 0.7207096015290434, 0.7207096015290434, 1.0401941108581794, 1.040194122721746, 1.040194135096544, 1.0401941414697105, 1.0401941777697512, 1.0401942013313563, 1.0401942073787096, 1.0401942633905736, 1.0401943007125565, 1.0401943043703943, 1.0401943163177065, 1.0401943449163509, 1.0401943538860825, 1.0401943989130154, 1.0401944229421682, 1.0401944454333247, 1.0401945073685357, 1.0401945849701213, 1.1099239485928678, 1336.4340956021372, 1122.3025660173284, 74.45341957011625, 949.250603526794, 218.09513758640279, 422.3747334575467, 666.6741045557357, 401.12996320340676, 309.18256752346235, 424.34388763088435, 531.2043482963838, 260.53754198136056, 302.5674007567135, 106.62219118798082, 139.4166684396351, 290.0564823347861, 276.7883879710647, 23.267265330438267, 72.2689327670246, 166.89023370713687, 260.2764788701419, 193.55919100783214, 134.54214849053935, 87.94697599045078, 419.84331083527775, 162.88857640699985, 179.3909291412803, 31.02029086467759, 33.744436469936865, 79.14235746628073, 0.6467808940282168, 0.6467808940282168, 0.6467808940282168, 0.6467808940282168, 0.6467808940282168, 0.7207096015290434, 0.7207096015290434, 0.7207096015290434, 0.7207096015290434, 0.7207096015290434, 0.7207096015290434, 1.0401941108581794, 1.040194122721746, 1.040194135096544, 1.0401941414697105, 1.0401941777697512, 1.0401942013313563, 1.0401942073787096, 1.0401942633905736, 1.0401943007125565, 1.0401943043703943, 1.0401943163177065, 1.0401943449163509, 1.0401943538860825, 1.0401943989130154, 1.0401944229421682, 1.0401944454333247, 1.0401945073685357, 1.0401945849701213, 1.1099239485928678, 1336.4340956021372, 422.3747334575467, 424.34388763088435, 949.250603526794, 1122.3025660173284, 401.12996320340676, 309.18256752346235, 531.2043482963838, 87.94697599045078, 116.7684196834387, 666.6741045557357, 55.43634609251806, 108.38564212282144, 419.84331083527775, 184.46528709532535, 115.80328266274489, 166.89023370713687, 305.2405576352613, 139.4166684396351, 355.24240670833404, 107.29352343179907, 236.94314953954836, 290.0564823347861, 61.09080725950179, 25.613466922802925, 198.5496522858788, 193.55919100783214, 243.15694530233853, 192.00176796411904, 149.32529253169892], \"Category\": [\"Default\", \"Default\", \"Default\", \"Default\", \"Default\", \"Default\", \"Default\", \"Default\", \"Default\", \"Default\", \"Default\", \"Default\", \"Default\", \"Default\", \"Default\", \"Default\", \"Default\", \"Default\", \"Default\", \"Default\", \"Default\", \"Default\", \"Default\", \"Default\", \"Default\", \"Default\", \"Default\", \"Default\", \"Default\", \"Default\", \"Topic1\", \"Topic1\", \"Topic1\", \"Topic1\", \"Topic1\", \"Topic1\", \"Topic1\", \"Topic1\", \"Topic1\", \"Topic1\", \"Topic1\", \"Topic1\", \"Topic1\", \"Topic1\", \"Topic1\", \"Topic1\", \"Topic1\", \"Topic1\", \"Topic1\", \"Topic1\", \"Topic1\", \"Topic1\", \"Topic1\", \"Topic1\", \"Topic1\", \"Topic1\", \"Topic1\", \"Topic1\", \"Topic1\", \"Topic1\", \"Topic1\", \"Topic1\", \"Topic1\", \"Topic1\", \"Topic1\", \"Topic1\", \"Topic1\", \"Topic1\", \"Topic1\", \"Topic1\", \"Topic1\", \"Topic1\", \"Topic1\", \"Topic1\", \"Topic1\", \"Topic1\", \"Topic1\", \"Topic1\", \"Topic1\", \"Topic1\", \"Topic1\", \"Topic1\", \"Topic1\", \"Topic1\", \"Topic1\", \"Topic1\", \"Topic1\", \"Topic1\", \"Topic1\", \"Topic1\", \"Topic1\", \"Topic1\", \"Topic1\", \"Topic1\", \"Topic1\", \"Topic1\", \"Topic1\", \"Topic1\", \"Topic1\", \"Topic1\", \"Topic1\", \"Topic1\", \"Topic1\", \"Topic1\", \"Topic1\", \"Topic1\", \"Topic1\", \"Topic1\", \"Topic1\", \"Topic1\", \"Topic1\", \"Topic1\", \"Topic1\", \"Topic2\", \"Topic2\", \"Topic2\", \"Topic2\", \"Topic2\", \"Topic2\", \"Topic2\", \"Topic2\", \"Topic2\", \"Topic2\", \"Topic2\", \"Topic2\", \"Topic2\", \"Topic2\", \"Topic2\", \"Topic2\", \"Topic2\", \"Topic2\", \"Topic2\", \"Topic2\", \"Topic2\", \"Topic2\", \"Topic2\", \"Topic2\", \"Topic2\", \"Topic2\", \"Topic2\", \"Topic2\", \"Topic2\", \"Topic2\", \"Topic2\", \"Topic2\", \"Topic2\", \"Topic2\", \"Topic2\", \"Topic2\", \"Topic2\", \"Topic2\", \"Topic2\", \"Topic2\", \"Topic2\", \"Topic2\", \"Topic2\", \"Topic2\", \"Topic2\", \"Topic2\", \"Topic2\", \"Topic2\", \"Topic2\", \"Topic2\", \"Topic2\", \"Topic2\", \"Topic2\", \"Topic2\", \"Topic2\", \"Topic2\", \"Topic2\", \"Topic2\", \"Topic2\", \"Topic2\", \"Topic2\", \"Topic2\", \"Topic2\", \"Topic2\", \"Topic2\", \"Topic2\", \"Topic2\", \"Topic2\", \"Topic2\", \"Topic2\", \"Topic2\", \"Topic2\", \"Topic2\", \"Topic2\", \"Topic2\", \"Topic3\", \"Topic3\", \"Topic3\", \"Topic3\", \"Topic3\", \"Topic3\", \"Topic3\", \"Topic3\", \"Topic3\", \"Topic3\", \"Topic3\", \"Topic3\", \"Topic3\", \"Topic3\", \"Topic3\", \"Topic3\", \"Topic3\", \"Topic3\", \"Topic3\", \"Topic3\", \"Topic3\", \"Topic3\", \"Topic3\", \"Topic3\", \"Topic3\", \"Topic3\", \"Topic3\", \"Topic3\", \"Topic3\", \"Topic3\", \"Topic3\", \"Topic3\", \"Topic3\", \"Topic3\", \"Topic3\", \"Topic3\", \"Topic3\", \"Topic3\", \"Topic3\", \"Topic3\", \"Topic3\", \"Topic3\", \"Topic3\", \"Topic3\", \"Topic3\", \"Topic3\", \"Topic3\", \"Topic3\", \"Topic3\", \"Topic3\", \"Topic3\", \"Topic3\", \"Topic3\", \"Topic3\", \"Topic3\", \"Topic3\", \"Topic3\", \"Topic3\", \"Topic3\", \"Topic3\", \"Topic3\", \"Topic3\", \"Topic3\", \"Topic3\", \"Topic3\", \"Topic3\", \"Topic3\", \"Topic3\", \"Topic3\", \"Topic3\", \"Topic3\", \"Topic3\", \"Topic3\", \"Topic3\", \"Topic4\", \"Topic4\", \"Topic4\", \"Topic4\", \"Topic4\", \"Topic4\", \"Topic4\", \"Topic4\", \"Topic4\", \"Topic4\", \"Topic4\", \"Topic4\", \"Topic4\", \"Topic4\", \"Topic4\", \"Topic4\", \"Topic4\", \"Topic4\", \"Topic4\", \"Topic4\", \"Topic4\", \"Topic4\", \"Topic4\", \"Topic4\", \"Topic4\", \"Topic4\", \"Topic4\", \"Topic4\", \"Topic4\", \"Topic4\", \"Topic4\", \"Topic4\", \"Topic4\", \"Topic4\", \"Topic4\", \"Topic4\", \"Topic4\", \"Topic4\", \"Topic4\", \"Topic4\", \"Topic4\", \"Topic4\", \"Topic4\", \"Topic4\", \"Topic4\", \"Topic4\", \"Topic4\", \"Topic4\", \"Topic4\", \"Topic4\", \"Topic4\", \"Topic4\", \"Topic4\", \"Topic4\", \"Topic4\", \"Topic4\", \"Topic4\", \"Topic4\", \"Topic4\", \"Topic4\", \"Topic4\", \"Topic4\", \"Topic4\", \"Topic4\", \"Topic4\", \"Topic4\", \"Topic4\", \"Topic4\", \"Topic4\", \"Topic4\", \"Topic4\", \"Topic4\", \"Topic4\", \"Topic4\", \"Topic4\", \"Topic4\", \"Topic4\", \"Topic5\", \"Topic5\", \"Topic5\", \"Topic5\", \"Topic5\", \"Topic5\", \"Topic5\", \"Topic5\", \"Topic5\", \"Topic5\", \"Topic5\", \"Topic5\", \"Topic5\", \"Topic5\", \"Topic5\", \"Topic5\", \"Topic5\", \"Topic5\", \"Topic5\", \"Topic5\", \"Topic5\", \"Topic5\", \"Topic5\", \"Topic5\", \"Topic5\", \"Topic5\", \"Topic5\", \"Topic5\", \"Topic5\", \"Topic5\", \"Topic5\", \"Topic5\", \"Topic5\", \"Topic5\", \"Topic5\", \"Topic5\", \"Topic5\", \"Topic5\", \"Topic5\", \"Topic5\", \"Topic5\", \"Topic5\", \"Topic5\", \"Topic5\", \"Topic5\", \"Topic5\", \"Topic5\", \"Topic5\", \"Topic5\", \"Topic5\", \"Topic5\", \"Topic5\", \"Topic5\", \"Topic5\", \"Topic5\", \"Topic5\", \"Topic5\", \"Topic5\", \"Topic5\", \"Topic5\", \"Topic5\", \"Topic5\", \"Topic5\", \"Topic5\", \"Topic5\", \"Topic5\", \"Topic5\", \"Topic5\", \"Topic5\", \"Topic5\", \"Topic5\", \"Topic5\", \"Topic5\", \"Topic5\", \"Topic5\", \"Topic5\", \"Topic6\", \"Topic6\", \"Topic6\", \"Topic6\", \"Topic6\", \"Topic6\", \"Topic6\", \"Topic6\", \"Topic6\", \"Topic6\", \"Topic6\", \"Topic6\", \"Topic6\", \"Topic6\", \"Topic6\", \"Topic6\", \"Topic6\", \"Topic6\", \"Topic6\", \"Topic6\", \"Topic6\", \"Topic6\", \"Topic6\", \"Topic6\", \"Topic6\", \"Topic6\", \"Topic6\", \"Topic6\", \"Topic6\", \"Topic6\", \"Topic6\", \"Topic6\", \"Topic6\", \"Topic6\", \"Topic6\", \"Topic6\", \"Topic6\", \"Topic6\", \"Topic6\", \"Topic6\", \"Topic6\", \"Topic6\", \"Topic6\", \"Topic6\", \"Topic6\", \"Topic6\", \"Topic6\", \"Topic6\", \"Topic6\", \"Topic6\", \"Topic6\", \"Topic6\", \"Topic6\", \"Topic6\", \"Topic6\", \"Topic6\", \"Topic6\", \"Topic6\", \"Topic6\", \"Topic6\", \"Topic6\", \"Topic6\", \"Topic6\", \"Topic7\", \"Topic7\", \"Topic7\", \"Topic7\", \"Topic7\", \"Topic7\", \"Topic7\", \"Topic7\", \"Topic7\", \"Topic7\", \"Topic7\", \"Topic7\", \"Topic7\", \"Topic7\", \"Topic7\", \"Topic7\", \"Topic7\", \"Topic7\", \"Topic7\", \"Topic7\", \"Topic7\", \"Topic7\", \"Topic7\", \"Topic7\", \"Topic7\", \"Topic7\", \"Topic7\", \"Topic7\", \"Topic7\", \"Topic7\", \"Topic7\", \"Topic7\", \"Topic7\", \"Topic7\", \"Topic7\", \"Topic7\", \"Topic7\", \"Topic7\", \"Topic7\", \"Topic7\", \"Topic7\", \"Topic7\", \"Topic7\", \"Topic7\", \"Topic7\", \"Topic7\", \"Topic7\", \"Topic7\", \"Topic7\", \"Topic7\", \"Topic7\", \"Topic7\", \"Topic7\", \"Topic7\", \"Topic7\", \"Topic7\", \"Topic7\", \"Topic7\", \"Topic7\", \"Topic7\", \"Topic7\", \"Topic7\", \"Topic7\", \"Topic7\", \"Topic7\", \"Topic7\", \"Topic7\", \"Topic7\", \"Topic7\", \"Topic7\", \"Topic7\", \"Topic7\", \"Topic7\", \"Topic7\", \"Topic7\", \"Topic8\", \"Topic8\", \"Topic8\", \"Topic8\", \"Topic8\", \"Topic8\", \"Topic8\", \"Topic8\", \"Topic8\", \"Topic8\", \"Topic8\", \"Topic8\", \"Topic8\", \"Topic8\", \"Topic8\", \"Topic8\", \"Topic8\", \"Topic8\", \"Topic8\", \"Topic8\", \"Topic8\", \"Topic8\", \"Topic8\", \"Topic8\", \"Topic8\", \"Topic8\", \"Topic8\", \"Topic8\", \"Topic8\", \"Topic8\", \"Topic8\", \"Topic8\", \"Topic8\", \"Topic8\", \"Topic8\", \"Topic8\", \"Topic8\", \"Topic8\", \"Topic8\", \"Topic8\", \"Topic8\", \"Topic8\", \"Topic8\", \"Topic8\", \"Topic8\", \"Topic8\", \"Topic8\", \"Topic8\", \"Topic8\", \"Topic8\", \"Topic8\", \"Topic8\", \"Topic8\", \"Topic8\", \"Topic8\", \"Topic8\", \"Topic8\", \"Topic8\", \"Topic8\", \"Topic8\", \"Topic8\", \"Topic8\", \"Topic8\", \"Topic8\", \"Topic8\", \"Topic8\", \"Topic8\", \"Topic8\", \"Topic8\", \"Topic8\", \"Topic8\", \"Topic8\", \"Topic8\", \"Topic8\", \"Topic9\", \"Topic9\", \"Topic9\", \"Topic9\", \"Topic9\", \"Topic9\", \"Topic9\", \"Topic9\", \"Topic9\", \"Topic9\", \"Topic9\", \"Topic9\", \"Topic9\", \"Topic9\", \"Topic9\", \"Topic9\", \"Topic9\", \"Topic9\", \"Topic9\", \"Topic9\", \"Topic9\", \"Topic9\", \"Topic9\", \"Topic9\", \"Topic9\", \"Topic9\", \"Topic9\", \"Topic9\", \"Topic9\", \"Topic9\", \"Topic9\", \"Topic9\", \"Topic9\", \"Topic9\", \"Topic9\", \"Topic9\", \"Topic9\", \"Topic9\", \"Topic9\", \"Topic9\", \"Topic9\", \"Topic9\", \"Topic9\", \"Topic9\", \"Topic9\", \"Topic9\", \"Topic9\", \"Topic9\", \"Topic9\", \"Topic9\", \"Topic9\", \"Topic9\", \"Topic9\", \"Topic9\", \"Topic9\", \"Topic9\", \"Topic9\", \"Topic9\", \"Topic9\", \"Topic9\", \"Topic9\", \"Topic9\", \"Topic9\", \"Topic9\", \"Topic9\", \"Topic9\", \"Topic9\", \"Topic9\", \"Topic9\", \"Topic10\", \"Topic10\", \"Topic10\", \"Topic10\", \"Topic10\", \"Topic10\", \"Topic10\", \"Topic10\", \"Topic10\", \"Topic10\", \"Topic10\", \"Topic10\", \"Topic10\", \"Topic10\", \"Topic10\", \"Topic10\", \"Topic10\", \"Topic10\", \"Topic10\", \"Topic10\", \"Topic10\", \"Topic10\", \"Topic10\", \"Topic10\", \"Topic10\", \"Topic10\", \"Topic10\", \"Topic10\", \"Topic10\", \"Topic10\", \"Topic10\", \"Topic10\", \"Topic10\", \"Topic10\", \"Topic10\", \"Topic10\", \"Topic10\", \"Topic10\", \"Topic10\", \"Topic10\", \"Topic10\", \"Topic10\", \"Topic10\", \"Topic10\", \"Topic10\", \"Topic10\", \"Topic10\", \"Topic10\", \"Topic10\", \"Topic10\", \"Topic10\", \"Topic10\", \"Topic10\", \"Topic10\", \"Topic10\", \"Topic10\", \"Topic10\", \"Topic10\", \"Topic10\", \"Topic10\", \"Topic10\", \"Topic10\", \"Topic10\", \"Topic11\", \"Topic11\", \"Topic11\", \"Topic11\", \"Topic11\", \"Topic11\", \"Topic11\", \"Topic11\", \"Topic11\", \"Topic11\", \"Topic11\", \"Topic11\", \"Topic11\", \"Topic11\", \"Topic11\", \"Topic11\", \"Topic11\", \"Topic11\", \"Topic11\", \"Topic11\", \"Topic11\", \"Topic11\", \"Topic11\", \"Topic11\", \"Topic11\", \"Topic11\", \"Topic11\", \"Topic11\", \"Topic11\", \"Topic11\", \"Topic11\", \"Topic11\", \"Topic11\", \"Topic11\", \"Topic11\", \"Topic11\", \"Topic11\", \"Topic11\", \"Topic11\", \"Topic11\", \"Topic11\", \"Topic11\", \"Topic11\", \"Topic11\", \"Topic11\", \"Topic11\", \"Topic11\", \"Topic11\", \"Topic11\", \"Topic11\", \"Topic11\", \"Topic11\", \"Topic11\", \"Topic11\", \"Topic11\", \"Topic11\", \"Topic11\", \"Topic11\", \"Topic11\", \"Topic11\", \"Topic11\", \"Topic12\", \"Topic12\", \"Topic12\", \"Topic12\", \"Topic12\", \"Topic12\", \"Topic12\", \"Topic12\", \"Topic12\", \"Topic12\", \"Topic12\", \"Topic12\", \"Topic12\", \"Topic12\", \"Topic12\", \"Topic12\", \"Topic12\", \"Topic12\", \"Topic12\", \"Topic12\", \"Topic12\", \"Topic12\", \"Topic12\", \"Topic12\", \"Topic12\", \"Topic12\", \"Topic12\", \"Topic12\", \"Topic12\", \"Topic12\", \"Topic12\", \"Topic12\", \"Topic12\", \"Topic12\", \"Topic12\", \"Topic12\", \"Topic12\", \"Topic12\", \"Topic12\", \"Topic12\", \"Topic12\", \"Topic12\", \"Topic12\", \"Topic12\", \"Topic12\", \"Topic12\", \"Topic12\", \"Topic12\", \"Topic12\", \"Topic12\", \"Topic12\", \"Topic12\", \"Topic12\", \"Topic12\", \"Topic12\", \"Topic12\", \"Topic12\", \"Topic12\", \"Topic12\", \"Topic12\", \"Topic12\", \"Topic13\", \"Topic13\", \"Topic13\", \"Topic13\", \"Topic13\", \"Topic13\", \"Topic13\", \"Topic13\", \"Topic13\", \"Topic13\", \"Topic13\", \"Topic13\", \"Topic13\", \"Topic13\", \"Topic13\", \"Topic13\", \"Topic13\", \"Topic13\", \"Topic13\", \"Topic13\", \"Topic13\", \"Topic13\", \"Topic13\", \"Topic13\", \"Topic13\", \"Topic13\", \"Topic13\", \"Topic13\", \"Topic13\", \"Topic13\", \"Topic13\", \"Topic13\", \"Topic13\", \"Topic13\", \"Topic13\", \"Topic13\", \"Topic13\", \"Topic13\", \"Topic13\", \"Topic13\", \"Topic13\", \"Topic13\", \"Topic13\", \"Topic13\", \"Topic13\", \"Topic13\", \"Topic13\", \"Topic13\", \"Topic13\", \"Topic13\", \"Topic13\", \"Topic13\", \"Topic13\", \"Topic13\", \"Topic13\", \"Topic13\", \"Topic13\", \"Topic13\", \"Topic13\", \"Topic13\", \"Topic14\", \"Topic14\", \"Topic14\", \"Topic14\", \"Topic14\", \"Topic14\", \"Topic14\", \"Topic14\", \"Topic14\", \"Topic14\", \"Topic14\", \"Topic14\", \"Topic14\", \"Topic14\", \"Topic14\", \"Topic14\", \"Topic14\", \"Topic14\", \"Topic14\", \"Topic14\", \"Topic14\", \"Topic14\", \"Topic14\", \"Topic14\", \"Topic14\", \"Topic14\", \"Topic14\", \"Topic14\", \"Topic14\", \"Topic14\", \"Topic14\", \"Topic14\", \"Topic14\", \"Topic14\", \"Topic14\", \"Topic14\", \"Topic14\", \"Topic14\", \"Topic14\", \"Topic14\", \"Topic14\", \"Topic14\", \"Topic14\", \"Topic14\", \"Topic14\", \"Topic14\", \"Topic14\", \"Topic14\", \"Topic14\", \"Topic14\", \"Topic14\", \"Topic14\", \"Topic14\", \"Topic14\", \"Topic14\", \"Topic14\", \"Topic14\", \"Topic14\", \"Topic14\", \"Topic14\"], \"logprob\": [30.0, 29.0, 28.0, 27.0, 26.0, 25.0, 24.0, 23.0, 22.0, 21.0, 20.0, 19.0, 18.0, 17.0, 16.0, 15.0, 14.0, 13.0, 12.0, 11.0, 10.0, 9.0, 8.0, 7.0, 6.0, 5.0, 4.0, 3.0, 2.0, 1.0, -7.4679, -7.6905, -7.9773, -8.0342, -8.0342, -8.0342, -8.1589, -8.1589, -8.2275, -8.2276, -8.3013, -7.4035, -8.3809, -8.3809, -8.3809, -8.3809, -7.5017, -7.4069, -8.4674, -8.4674, -8.4674, -8.4675, -8.4675, -8.4675, -8.4675, -8.4676, -8.4675, -8.5622, -8.5622, -8.5622, -7.6147, -7.8293, -6.6857, -7.1195, -7.0447, -7.3152, -7.2462, -7.6106, -4.2643, -7.6515, -6.6139, -7.1858, -5.9412, -6.922, -6.9618, -6.502, -5.7262, -4.0481, -5.5906, -5.9095, -5.2958, -4.2695, -5.6477, -6.0585, -6.4701, -4.7499, -5.5468, -5.8371, -5.5137, -5.1939, -5.2081, -5.6679, -6.3034, -6.0022, -6.2878, -6.5222, -6.3574, -5.0657, -5.2633, -5.9669, -5.5469, -5.324, -5.7577, -5.6979, -5.9005, -5.5985, -5.7547, -6.0104, -5.9383, -5.7698, -5.69, -5.8519, -5.9373, -4.8844, -6.6589, -6.9195, -7.1409, -7.1414, -6.3349, -7.4257, -7.4261, -7.6057, -7.8255, -7.8259, -7.8259, -7.8261, -6.6767, -6.4051, -8.1074, -8.1074, -8.1074, -8.1074, -8.1074, -8.1074, -8.1074, -8.1074, -8.1076, -8.1077, -8.1078, -8.1078, -8.1083, -8.1103, -6.6603, -6.5918, -7.4257, -6.9429, -6.1813, -6.8299, -7.0241, -7.6058, -6.3795, -7.6058, -7.6058, -6.0255, -6.9195, -6.1197, -7.016, -6.9286, -5.9837, -4.1736, -4.0923, -5.4318, -5.9358, -4.7591, -4.6816, -6.2054, -5.3841, -5.8202, -5.2585, -5.8433, -5.8355, -5.9678, -5.3662, -5.4055, -5.7521, -5.7393, -5.9652, -5.5007, -5.6698, -5.4374, -5.7194, -5.777, -5.8312, -5.8423, -5.8953, -5.8895, -5.9571, -5.9994, -5.5792, -6.3547, -6.4496, -6.3633, -6.8055, -6.9556, -7.1398, -7.1424, -6.2683, -7.3553, -7.356, -7.356, -7.3565, -7.3566, -7.3574, -6.9968, -7.3636, -7.6376, -7.6385, -7.6628, -5.7214, -4.4876, -8.0313, -8.0313, -8.0313, -8.0313, -8.0313, -8.0313, -8.0313, -8.0313, -7.0397, -4.6734, -7.3636, -6.8523, -7.3553, -7.0855, -7.3553, -5.9797, -6.2628, -5.5991, -4.5786, -6.8031, -6.8031, -6.9896, -4.5058, -6.2349, -6.1472, -4.2148, -4.3542, -5.2044, -4.6905, -5.0977, -5.8628, -5.8512, -5.5632, -5.9079, -5.5434, -5.2673, -5.1668, -5.1838, -5.484, -5.5169, -5.2552, -5.3272, -5.6793, -5.4077, -5.0704, -5.4601, -5.6703, -5.5647, -5.7648, -5.7494, -5.719, -5.7391, -5.6645, -5.7752, -6.5244, -7.2088, -7.4907, -7.4926, -7.4945, -7.0956, -6.9371, -7.8848, -7.8848, -7.8848, -7.8848, -7.8848, -7.8848, -7.8848, -7.8848, -7.8848, -7.8848, -7.8848, -7.8858, -7.8858, -7.8859, -7.8859, -7.8859, -7.8859, -7.8859, -7.8875, -6.0263, -6.8707, -5.6505, -6.8727, -5.1003, -4.9753, -6.7464, -7.0315, -6.3809, -7.2878, -5.7203, -7.0742, -6.4471, -5.4512, -4.8303, -5.587, -6.9501, -7.2205, -7.4907, -7.4907, -4.9481, -5.3315, -5.6277, -5.8794, -5.1058, -5.4119, -4.6963, -4.1089, -5.0674, -4.6926, -4.289, -4.9024, -5.5356, -6.0072, -5.3935, -5.2868, -6.2375, -5.6714, -5.4528, -5.5676, -5.12, -5.6012, -5.0329, -5.4922, -5.4531, -5.4703, -5.551, -5.5832, -5.6391, -5.5393, -6.1316, -6.1315, -6.2838, -6.4644, -6.6834, -6.6839, -6.6843, -6.6855, -6.9653, -6.9653, -6.9659, -6.9659, -6.966, -6.1314, -7.3593, -7.3593, -7.3593, -7.3593, -7.3593, -7.3593, -7.3593, -7.3598, -7.3598, -7.3603, -7.3603, -7.3603, -7.3603, -7.3603, -7.3599, -6.4684, -6.3969, -6.2838, -5.9188, -5.5966, -6.3096, -6.4641, -6.159, -6.0511, -5.9196, -6.4638, -5.7522, -6.228, -6.4641, -5.999, -4.622, -5.5238, -4.6909, -6.0307, -4.135, -5.9916, -5.8737, -5.753, -5.6581, -5.5984, -5.4215, -4.6259, -4.9789, -5.7319, -5.1957, -5.53, -5.1904, -5.5304, -5.3497, -5.4231, -5.4764, -5.4756, -5.3056, -5.7352, -5.773, -5.7954, -5.6957, -5.7754, -5.803, -5.8255, -5.8188, -5.4416, -6.0599, -5.2388, -6.6083, -6.6096, -5.0223, -5.0639, -6.89, -6.8903, -4.7934, -7.284, -7.284, -7.284, -7.284, -7.284, -7.284, -7.284, -7.2847, -7.2847, -6.3885, -6.3885, -7.3629, -5.087, -5.9393, -7.9436, -7.9436, -7.9436, -7.9436, -7.9436, -7.9436, -6.89, -6.906, -3.5934, -6.6081, -4.4391, -6.6392, -5.4691, -6.6392, -5.6828, -6.3652, -5.3445, -4.9026, -5.0108, -4.7284, -5.7958, -6.1717, -4.6306, -4.2694, -5.2033, -4.4496, -5.0607, -5.102, -4.8777, -5.3761, -5.6453, -5.3215, -5.3687, -5.5453, -5.5821, -5.7629, -5.7206, -5.7139, -5.6599, -5.4667, -5.9729, -6.3725, -6.6544, -6.6544, -7.0483, -7.0483, -7.0483, -7.0484, -7.0484, -7.0484, -7.7078, -7.7078, -7.7078, -7.7078, -7.7078, -7.7078, -7.7078, -7.7078, -7.7078, -7.7078, -7.7078, -7.7078, -7.7078, -7.7078, -7.7078, -7.7078, -7.7078, -7.7078, -7.7078, -6.3725, -6.6544, -5.9729, -6.1528, -5.9846, -6.1949, -6.1528, -7.0484, -7.0483, -6.3725, -5.0848, -5.6881, -6.3725, -6.6544, -5.7375, -6.3725, -6.3725, -7.0484, -7.0484, -4.521, -5.5936, -4.7298, -5.375, -5.9867, -5.3283, -5.013, -4.8924, -5.7025, -5.6291, -5.547, -5.4201, -5.5041, -5.6881, -5.6266, -5.5371, -5.762, -5.9202, -5.8057, -5.9885, -5.9792, -5.9729, -5.8869, -5.9729, -5.9838, -5.9839, -5.0605, -5.3462, -6.4292, -6.4292, -6.4292, -6.8232, -6.8235, -6.8235, -6.1631, -6.4292, -6.4292, -7.4826, -7.4826, -7.4826, -7.4826, -7.4826, -7.4826, -7.4826, -7.4826, -7.4826, -7.4826, -7.4826, -7.4826, -7.4826, -7.4826, -7.4826, -7.4826, -7.4826, -7.4826, -7.4826, -6.4519, -6.1474, -6.4519, -6.1476, -6.8602, -6.4294, -6.1693, -6.4453, -6.8232, -6.8232, -5.7777, -6.481, -6.8232, -6.9228, -6.8232, -5.1108, -5.3269, -6.5036, -6.9596, -5.4077, -5.5706, -5.5252, -5.7477, -5.563, -4.9368, -5.1156, -4.7898, -4.7722, -5.5166, -5.5267, -5.9277, -5.8334, -5.5308, -5.362, -5.5849, -5.7502, -5.6135, -5.7413, -5.805, -5.9277, -5.7899, -5.9561, -6.0059, -6.0037, -6.0734, -5.1071, -6.4673, -6.4673, -7.1267, -7.1267, -7.1267, -7.1267, -7.1267, -7.1267, -7.1267, -7.1267, -7.1267, -7.1267, -7.1267, -7.1267, -7.1267, -7.1267, -7.1267, -7.1267, -7.1267, -7.1267, -7.1267, -7.1267, -7.1267, -7.1267, -7.1267, -7.1267, -7.1267, -7.1267, -6.0734, -6.0734, -6.4673, -6.4673, -6.0734, -6.0734, -6.0734, -6.0734, -4.7902, -6.0734, -4.8813, -5.2394, -4.5491, -5.5681, -5.7915, -4.788, -5.389, -4.9891, -6.0734, -5.7863, -5.3855, -5.5657, -5.5695, -5.7735, -5.3898, -5.7883, -5.7915, -5.5695, -5.7894, -5.7854, -5.787, -5.7915, -5.79, -5.7902, -5.7855, -6.0649, -6.0652, -6.0667, -6.0679, -4.801, -6.9373, -6.9373, -6.9373, -6.9373, -6.9373, -6.9373, -6.9373, -6.9373, -6.9373, -6.9373, -6.9373, -6.9373, -6.9373, -6.9373, -6.9373, -6.9373, -6.9373, -6.9373, -5.884, -6.2779, -6.9373, -6.9373, -6.9373, -6.9373, -6.9373, -6.9373, -6.9373, -6.9373, -6.9373, -5.884, -4.2291, -4.4357, -6.2779, -5.884, -6.2779, -6.2779, -5.05, -5.3825, -5.6021, -5.6021, -5.6021, -5.3825, -5.884, -5.05, -5.2025, -5.884, -5.3824, -5.2024, -5.884, -5.884, -5.3825, -5.884, -5.2024, -5.884, -5.884, -5.6021, -5.6021, -5.884, -5.884, -5.884, -5.8839, -5.884, -5.1347, -6.4698, -6.4698, -6.4698, -6.4698, -6.4698, -6.4698, -6.4698, -6.4698, -6.4698, -6.4698, -6.4698, -5.8105, -6.4698, -6.4698, -6.4698, -6.4698, -6.4698, -6.4698, -6.4698, -5.8105, -6.4698, -9.1777, -9.1777, -9.1777, -9.1777, -9.1777, -6.4698, -5.8105, -6.4698, -6.4698, -6.4698, -6.4698, -6.4698, -6.4698, -5.4166, -5.8105, -5.8105, -5.8105, -5.8104, -5.8102, -6.4695, -6.4697, -6.4697, -6.4697, -6.4697, -6.4697, -6.4697, -6.4697, -6.4697, -6.4697, -6.4698, -6.4698, -6.4698, -6.4698, -6.4698, -6.4698, -6.4698, -6.4698, -6.4698, -6.4698, -6.3869, -6.3869, -6.3869, -6.3869, -6.3869, -6.3869, -6.3869, -6.3869, -9.0948, -9.0948, -9.0948, -9.0948, -9.0948, -9.0948, -9.0948, -9.0948, -9.0948, -9.0948, -9.0948, -9.0948, -9.0948, -9.0948, -9.0948, -9.0948, -9.0948, -9.0948, -9.0948, -9.0948, -9.0948, -9.0948, -6.3869, -6.3869, -6.3869, -6.3869, -6.3869, -6.3869, -6.3869, -6.3869, -6.3869, -6.3869, -6.3869, -6.3869, -5.7276, -6.3869, -6.3869, -6.3869, -6.3869, -6.3869, -6.3869, -6.3869, -6.3869, -6.3869, -5.7276, -6.3869, -6.3869, -6.3869, -6.3869, -6.3869, -6.3869, -6.3869, -6.3869, -9.0282, -9.0282, -9.0282, -9.0282, -9.0282, -9.0282, -9.0282, -9.0282, -9.0282, -9.0282, -9.0282, -9.0282, -9.0282, -9.0282, -9.0282, -9.0282, -9.0282, -9.0282, -9.0282, -9.0282, -9.0282, -9.0282, -9.0282, -9.0282, -9.0282, -9.0282, -9.0282, -9.0282, -9.0282, -9.0282, -9.0278, -9.0278, -9.0279, -9.028, -9.028, -9.0281, -9.0281, -9.0281, -9.0281, -9.0281, -9.0281, -9.0281, -9.0281, -9.0281, -9.0281, -9.0281, -9.0281, -9.0281, -9.0281, -9.0281, -9.0281, -9.0281, -9.0281, -9.0281, -9.0281, -9.0281, -9.0281, -9.0281, -9.0281, -9.0282, -9.0282, -9.0282, -9.0282, -9.0282, -9.0282, -9.0282, -9.0282, -9.0282, -9.0282, -9.0282, -9.0282, -9.0282, -9.0282, -9.0282, -9.0282, -9.0282, -9.0282, -9.0282, -9.0282, -9.0282, -9.0282, -9.0282, -9.0282, -9.0282, -9.0282, -9.0282, -9.0282, -9.0282, -9.0282, -9.0282, -9.0262, -9.027, -9.027, -9.027, -9.0273, -9.0274, -9.0275, -9.0275, -9.0275, -9.0275, -9.0275, -9.0276, -9.0276, -9.0277, -9.0277, -9.0277, -9.0277, -9.0277, -9.0277, -9.0278, -9.0278, -9.0278, -9.0278, -9.0278, -9.0279, -9.0279, -9.0279, -9.0279, -9.0279, -9.0279], \"loglift\": [30.0, 29.0, 28.0, 27.0, 26.0, 25.0, 24.0, 23.0, 22.0, 21.0, 20.0, 19.0, 18.0, 17.0, 16.0, 15.0, 14.0, 13.0, 12.0, 11.0, 10.0, 9.0, 8.0, 7.0, 6.0, 5.0, 4.0, 3.0, 2.0, 1.0, 0.4404, 0.4363, 0.4293, 0.4277, 0.4277, 0.4277, 0.4239, 0.4238, 0.4215, 0.4215, 0.4188, 0.4186, 0.4157, 0.4157, 0.4157, 0.4157, 0.4147, 0.4134, 0.412, 0.412, 0.412, 0.412, 0.412, 0.412, 0.412, 0.412, 0.412, 0.4076, 0.4076, 0.4076, 0.404, 0.3965, 0.3668, 0.372, 0.3639, 0.3751, 0.3623, 0.3759, 0.1938, 0.3715, 0.3066, 0.3414, 0.2456, 0.3185, 0.32, 0.2822, 0.2206, 0.0679, 0.1934, 0.2147, 0.1452, 0.0211, 0.1723, 0.2128, 0.2542, 0.0615, 0.1437, 0.1749, 0.13, 0.074, 0.0658, 0.1227, 0.2199, 0.1688, 0.2124, 0.2528, 0.2231, -0.0271, -0.0001, 0.1436, 0.0457, -0.0045, 0.0883, 0.0541, 0.1002, 0.003, 0.0437, 0.1176, 0.0844, -0.0188, -0.1102, -0.0237, 0.0461, 2.1192, 2.112, 2.1002, 2.0875, 2.0875, 2.0686, 2.0669, 2.0668, 2.0507, 2.0271, 2.0271, 2.0271, 2.027, 2.0193, 1.9984, 1.9893, 1.9893, 1.9893, 1.9893, 1.9893, 1.9893, 1.9893, 1.9893, 1.9893, 1.9893, 1.9893, 1.9893, 1.9892, 1.9881, 1.9711, 1.8439, 1.9203, 1.8397, 1.6979, 1.7651, 1.771, 1.8876, 1.6188, 1.8805, 1.8802, 1.461, 1.633, 1.327, 1.5706, 1.5363, 1.0887, 0.117, 0.0237, 0.6031, 0.9012, 0.0524, -0.2235, 0.9194, 0.2174, 0.5399, 0.0154, 0.5209, 0.4722, 0.6148, -0.103, -0.1377, 0.3042, 0.2728, 0.5783, -0.1812, 0.0823, -0.3988, -0.0289, 0.0137, 0.0977, 0.087, -0.1443, -0.4485, 0.0436, -0.201, 2.6125, 2.5876, 2.5828, 2.5789, 2.5588, 2.5491, 2.5285, 2.5264, 2.5144, 2.5088, 2.5085, 2.5085, 2.5082, 2.508, 2.5075, 2.5063, 2.5005, 2.4704, 2.4699, 2.4449, 2.4279, 2.4014, 2.3993, 2.3993, 2.3993, 2.3993, 2.3993, 2.3993, 2.3993, 2.3993, 2.3467, 2.1032, 2.325, 2.2475, 2.3115, 2.264, 2.3027, 2.0837, 2.1292, 1.8407, 1.5178, 2.1417, 2.1165, 2.1825, 0.5329, 1.6418, 1.5275, -0.0988, -0.0636, 0.6238, 0.121, 0.4822, 1.1745, 1.1352, 0.7717, 1.1246, 0.6597, 0.3341, 0.1527, 0.0794, 0.4453, 0.4665, 0.0187, 0.1138, 0.7187, 0.185, -0.6123, 0.1836, 0.6939, 0.2336, 0.456, 0.3324, 0.065, -0.4712, 2.7449, 2.7416, 2.7075, 2.6469, 2.609, 2.6078, 2.6058, 2.56, 2.5533, 2.5384, 2.5384, 2.5384, 2.5384, 2.5384, 2.5384, 2.5384, 2.5384, 2.5384, 2.5384, 2.5384, 2.5382, 2.5382, 2.5381, 2.5381, 2.5381, 2.5381, 2.538, 2.5364, 2.3756, 2.3641, 2.1966, 2.351, 1.9899, 1.9061, 2.2576, 2.3177, 2.091, 2.3598, 1.8721, 2.2633, 2.0427, 1.6728, 1.3728, 1.6586, 2.1662, 2.2583, 2.3546, 2.3546, 1.1337, 1.3126, 1.4096, 1.4907, 0.9919, 1.1683, 0.567, 0.0071, 0.6836, 0.346, 0.0016, 0.4171, 1.0195, 1.3223, 0.5533, 0.2931, 1.5789, 0.7345, 0.3754, 0.5401, -0.3085, 0.6003, -0.5748, 0.2985, -0.1792, -0.2024, 0.0417, 0.2151, 0.3959, 3.3534, 3.3414, 3.3413, 3.328, 3.309, 3.2827, 3.2826, 3.282, 3.2807, 3.2398, 3.2398, 3.2396, 3.2396, 3.2394, 3.2035, 3.1604, 3.1604, 3.1604, 3.1604, 3.1604, 3.1604, 3.1604, 3.1603, 3.1603, 3.1602, 3.1602, 3.1602, 3.1602, 3.1602, 3.1599, 3.1148, 3.0495, 3.0296, 2.8449, 2.6852, 2.7977, 2.851, 2.7403, 2.6985, 2.6399, 2.7631, 2.4327, 2.5889, 2.7042, 2.4431, 1.3069, 1.936, 0.8889, 2.2412, 0.1557, 2.1801, 1.9212, 1.7207, 1.5246, 1.3442, 0.9844, -0.5098, -0.1674, 1.4766, 0.0722, 0.7777, -0.1518, 0.5975, -0.0758, 0.1783, 0.3518, 0.1171, -0.8475, 0.4855, 0.7327, 0.8491, -0.4325, -0.0243, 0.4001, 0.7503, 0.2789, 3.4642, 3.421, 3.4151, 3.3659, 3.3646, 3.3588, 3.3361, 3.3227, 3.3226, 3.2773, 3.2427, 3.2427, 3.2427, 3.2427, 3.2427, 3.2427, 3.2427, 3.2424, 3.2424, 3.2019, 3.2019, 3.155, 3.1377, 3.1001, 3.0435, 3.0435, 3.0435, 3.0435, 3.0435, 3.0435, 3.0418, 3.0385, 2.9602, 3.0061, 2.7623, 2.9168, 2.7146, 2.9162, 2.3423, 2.6946, 1.9613, 1.6593, 1.5481, 0.8642, 1.8532, 2.1904, 0.408, -0.1534, 0.8944, -0.159, 0.2072, 0.2175, -0.4196, 0.5528, 0.8436, -0.0583, -0.0948, 0.0346, 0.1699, 0.7743, 0.3276, 0.2153, -0.8484, 3.7668, 3.7246, 3.6748, 3.6279, 3.6279, 3.5416, 3.5416, 3.5416, 3.5416, 3.5416, 3.5416, 3.3289, 3.3289, 3.3289, 3.3289, 3.3289, 3.3289, 3.3289, 3.3289, 3.3289, 3.3289, 3.3289, 3.3289, 3.3289, 3.3289, 3.3289, 3.3289, 3.3289, 3.3289, 3.3289, 3.1422, 2.9738, 2.6434, 2.629, 2.4074, 2.4302, 2.2806, 2.8737, 2.8729, 2.2836, 0.9159, 1.3774, 2.0265, 2.296, 1.3743, 2.0024, 1.9866, 2.6646, 2.6538, -0.405, 0.8619, -0.2717, 0.4089, 1.3179, 0.3154, -0.2015, -0.6017, 0.7316, 0.5723, 0.299, -0.1006, 0.0757, 0.4361, 0.064, -0.2692, 0.4345, 0.8784, 0.0225, 0.9737, 0.8646, 0.6914, -0.2854, 0.0392, -0.1638, 0.6543, 4.0878, 4.068, 3.9244, 3.9244, 3.9244, 3.8313, 3.8312, 3.8312, 3.6955, 3.6079, 3.6076, 3.6041, 3.6041, 3.6041, 3.6041, 3.6041, 3.6041, 3.6041, 3.6041, 3.6041, 3.6041, 3.6041, 3.6041, 3.6041, 3.6041, 3.6041, 3.6041, 3.6041, 3.6041, 3.6041, 3.5793, 3.5077, 3.4576, 3.1676, 3.3784, 3.0372, 2.7897, 2.9387, 3.1484, 3.1306, 2.2869, 2.5898, 2.9281, 3.0156, 2.905, 0.818, 1.0711, 2.4535, 2.9737, 1.0348, 1.2366, 1.1527, 1.2857, 0.9353, -0.1254, 0.1523, -0.4991, -0.6562, 0.5987, 0.474, 1.4423, 1.0896, 0.049, -0.9039, -0.1439, 0.3475, -0.5749, 0.0787, 0.4157, 1.0292, 0.0383, 1.1341, 0.5174, 0.0445, 4.4326, 4.4158, 4.3232, 4.3232, 4.0632, 4.0632, 4.0632, 4.0632, 4.0632, 4.0632, 4.0632, 4.0632, 4.0632, 4.0632, 4.0632, 4.0632, 4.0632, 4.0632, 4.0632, 4.0632, 4.0632, 4.0632, 4.0632, 4.0632, 4.0632, 4.0632, 4.0632, 4.0632, 4.0632, 4.0632, 3.4706, 3.3392, 3.339, 3.3243, 2.8613, 2.8024, 2.7454, 2.7092, 0.4776, 2.3916, 0.4382, 0.8569, -0.4331, 1.2776, 1.6864, -0.4974, 0.5399, -0.531, 1.8049, 1.1431, 0.1944, 0.5448, 0.5207, 0.8552, -0.116, 0.6988, 0.6175, -0.5308, 0.3348, 0.3123, 0.2137, 0.0286, -0.038, -0.1975, -0.5223, 0.6076, 0.5499, -0.2683, 0.2671, 4.9545, 4.3371, 4.3371, 4.3371, 4.3371, 4.3371, 4.3371, 4.3371, 4.3371, 4.3371, 4.3371, 4.3371, 4.3371, 4.3371, 4.3371, 4.3371, 4.3371, 4.3371, 4.3371, 3.872, 3.7927, 3.6986, 3.6973, 3.6756, 3.6756, 3.6756, 3.6756, 3.6756, 3.6756, 3.3778, 3.3189, 2.7543, 1.9244, 3.0693, 2.4785, 2.8598, 2.851, 1.0476, 1.3617, 1.0534, 0.9036, 0.8867, 0.2612, 1.596, -0.7593, -0.391, 1.4245, -0.063, -0.7443, 1.2423, 1.24, -0.3438, 1.0782, -1.0864, 0.9687, 0.9432, -0.0223, -0.3282, 0.4401, 0.3125, 0.2062, -0.6207, -0.2825, 6.0364, 5.1715, 5.1715, 5.1715, 5.1715, 5.1715, 5.1715, 3.8579, 3.6245, 3.5749, 3.5735, 3.57, 3.4253, 3.3449, 3.3248, 3.3064, 2.9798, 2.8779, 2.6927, 2.63, 2.6084, 2.5964, 2.5718, 2.5718, 2.5718, 2.5718, 2.5718, 2.5443, 2.4125, 2.349, 2.2267, 2.201, 2.1079, 1.9477, 1.9461, 1.291, 1.4935, 0.9378, 0.7514, -0.5365, -1.6942, -2.0114, -1.2018, -1.1502, -1.431, -0.7177, -0.8771, -0.6857, -0.6415, -0.2829, -0.249, -0.4348, -0.0109, 0.1857, -0.0578, -0.0759, -0.2733, -0.5409, -0.0579, 0.1747, 0.2241, 5.3626, 5.3626, 5.3626, 5.3626, 5.3626, 4.0072, 3.0832, 2.8545, 2.5465, 2.5465, 2.5465, 2.5465, 2.5465, 2.5465, 2.1796, 2.1796, 2.1796, 2.1796, 2.1796, 2.1796, 2.1796, 2.1796, 2.1796, 2.1796, 2.1796, 2.1796, 2.1796, 2.1796, 2.1796, 2.1796, 2.1259, 2.029, 1.9139, 1.8849, 1.8362, 1.7478, 1.5942, 1.5004, 1.209, 1.1627, 1.053, 1.0386, 0.3688, 0.6809, 0.6261, 0.6174, 0.57, 0.5449, 0.487, 0.352, 0.3375, 0.307, -0.4081, -1.1236, 0.1566, -0.6348, -0.6358, -0.458, 0.0111, 0.175, 0.2686, 2.7213, 2.7213, 2.7213, 2.7213, 2.7213, 2.6131, 2.6131, 2.6131, 2.6131, 2.6131, 2.6131, 2.2461, 2.2461, 2.2461, 2.2461, 2.2461, 2.2461, 2.2461, 2.2461, 2.2461, 2.2461, 2.2461, 2.2461, 2.2461, 2.2461, 2.2461, 2.2461, 2.2461, 2.2461, 2.1813, -4.9118, -4.7372, -2.0243, -4.5699, -3.0992, -3.7602, -4.2166, -3.7086, -3.4482, -3.7649, -3.9895, -3.2771, -3.4266, -2.3836, -2.6518, -3.3844, -3.3376, -0.8614, -1.9947, -2.8317, -3.2761, -2.9799, -2.6162, -2.1911, -3.7542, -2.8074, -2.9039, -1.149, -1.2332, -2.0856, 2.7213, 2.7213, 2.7213, 2.7213, 2.7213, 2.6131, 2.6131, 2.6131, 2.6131, 2.6131, 2.6131, 2.2461, 2.2461, 2.2461, 2.2461, 2.2461, 2.2461, 2.2461, 2.2461, 2.2461, 2.2461, 2.2461, 2.2461, 2.2461, 2.2461, 2.2461, 2.2461, 2.2461, 2.2461, 2.1813, -4.9102, -3.7591, -3.7637, -4.5689, -4.7366, -3.7079, -3.4476, -3.9888, -2.1904, -2.4739, -4.2161, -1.7291, -2.3996, -3.7538, -2.9314, -2.4658, -2.8313, -3.435, -2.6514, -3.5868, -2.3896, -3.1819, -3.3841, -1.8264, -0.9572, -3.0051, -2.9797, -3.2078, -2.9716, -2.7202]}, \"token.table\": {\"Topic\": [8, 8, 2, 1, 2, 4, 5, 8, 9, 1, 2, 3, 4, 5, 6, 7, 8, 3, 6, 6, 8, 1, 2, 3, 5, 1, 2, 7, 1, 2, 3, 5, 7, 5, 1, 5, 6, 7, 10, 1, 2, 3, 4, 5, 6, 7, 9, 10, 1, 2, 3, 4, 5, 6, 3, 4, 1, 3, 7, 1, 2, 3, 4, 5, 6, 7, 8, 10, 1, 2, 3, 4, 6, 8, 1, 8, 9, 1, 4, 9, 1, 4, 8, 9, 1, 2, 3, 4, 8, 9, 10, 8, 7, 1, 2, 3, 6, 8, 10, 6, 6, 5, 8, 8, 4, 7, 1, 2, 3, 4, 5, 6, 7, 8, 1, 2, 4, 7, 1, 2, 5, 1, 2, 5, 1, 2, 3, 4, 5, 6, 7, 8, 9, 1, 4, 1, 2, 7, 1, 2, 3, 4, 5, 6, 9, 3, 1, 9, 1, 2, 1, 2, 3, 4, 5, 6, 7, 8, 9, 10, 9, 1, 2, 7, 1, 2, 3, 4, 5, 6, 7, 8, 9, 10, 1, 3, 7, 8, 2, 3, 4, 1, 2, 3, 4, 5, 6, 7, 9, 1, 2, 3, 4, 6, 1, 6, 7, 5, 8, 1, 3, 8, 3, 1, 2, 4, 5, 7, 9, 5, 1, 4, 1, 2, 3, 4, 5, 6, 7, 1, 2, 4, 5, 6, 7, 8, 1, 2, 4, 8, 1, 2, 5, 6, 4, 1, 2, 4, 1, 2, 6, 8, 9, 3, 5, 1, 5, 3, 3, 4, 5, 1, 4, 6, 7, 9, 1, 2, 3, 4, 5, 6, 7, 8, 1, 2, 4, 6, 7, 3, 1, 2, 3, 4, 5, 8, 1, 3, 4, 6, 1, 3, 6, 1, 2, 4, 8, 2, 9, 1, 2, 4, 6, 7, 1, 6, 1, 1, 8, 1, 2, 3, 5, 1, 5, 10, 7, 1, 2, 3, 4, 6, 7, 8, 9, 10, 7, 1, 2, 4, 7, 10, 1, 3, 8, 9, 1, 5, 9, 5, 2, 1, 2, 1, 1, 2, 3, 4, 5, 6, 9, 1, 2, 3, 4, 5, 6, 8, 9, 10, 1, 2, 3, 4, 5, 6, 7, 8, 9, 1, 8, 1, 2, 3, 4, 5, 6, 7, 9, 8, 5, 1, 2, 5, 6, 1, 2, 3, 4, 5, 6, 7, 9, 1, 2, 5, 1, 1, 8, 1, 2, 3, 4, 5, 6, 8, 9, 1, 2, 3, 4, 5, 6, 7, 9, 1, 2, 4, 6, 8, 11, 1, 2, 8, 1, 5, 8, 1, 2, 3, 4, 5, 6, 7, 8, 9, 1, 8, 9, 2, 4, 9, 2, 1, 2, 1, 2, 3, 4, 5, 6, 8, 9, 9, 1, 2, 3, 4, 5, 6, 1, 1, 1, 2, 4, 8, 9, 9, 1, 2, 3, 4, 5, 6, 7, 8, 1, 6, 7, 8, 1, 2, 3, 4, 5, 6, 7, 8, 1, 2, 3, 4, 5, 6, 7, 8, 9, 10, 4, 5, 1, 2, 3, 4, 5, 6, 8, 1, 2, 5, 6, 7, 1, 2, 4, 1, 2, 3, 4, 6, 7, 10, 4, 1, 2, 3, 6, 8, 9, 7, 1, 6, 1, 2, 4, 5, 1, 2, 3, 4, 7, 8, 9, 1, 2, 3, 4, 5, 6, 7, 8, 9, 10, 5, 7, 1, 2, 3, 5, 7, 8, 1, 2, 3, 4, 5, 6, 8, 9, 10, 1, 2, 3, 4, 5, 6, 8, 9, 10, 2, 4, 6, 1, 2, 3, 4, 5, 6, 9, 6, 9, 1, 4, 2, 3, 6, 1, 2, 3, 4, 9, 1, 2, 7, 7, 4, 9, 2, 1, 7, 7, 1, 2, 3, 4, 5, 6, 7, 9, 1, 2, 3, 4, 5, 6, 9, 5, 1, 10, 8, 1, 8, 1, 2, 3, 4, 5, 6, 7, 8, 9, 10, 2, 4, 1, 2, 4, 9, 1, 3, 7, 1, 2, 5, 6, 1, 2, 3, 4, 5, 6, 8, 9, 2, 1, 2, 3, 4, 5, 6, 7, 8, 9, 10, 1, 2, 3, 4, 5, 6, 7, 8, 9, 1, 4, 1, 1, 2, 1, 1, 2, 3, 4, 5, 7, 8, 1, 8, 1, 2, 3, 4, 5, 9, 1, 2, 3, 4, 5, 6, 7, 8, 9, 10, 1, 2, 3, 4, 5, 6, 7, 8, 9, 10, 3, 1, 2, 4, 3, 1, 4, 1, 6, 1, 6, 8, 6, 1, 3, 4, 1, 2, 3, 5, 6, 1, 2, 6, 1, 2, 9, 1, 2, 3, 4, 5, 6, 8, 9, 1, 2, 3, 4, 5, 6, 8, 1, 8, 7, 1, 2, 3, 4, 6, 7, 8, 8, 8, 6, 1, 2, 3, 4, 7, 8, 1, 6, 4, 1, 6, 3, 5, 1, 2, 3, 4, 5, 6, 7, 9, 8, 4, 1, 1, 8, 1, 2, 3, 4, 5, 6, 7, 8, 9, 10, 1, 1, 2, 3, 4, 5, 6, 7, 8, 9, 1, 2, 3, 4, 5, 6, 8, 9, 9, 3, 1, 8, 1, 2, 3, 4, 5, 6, 7, 8, 9, 1, 2, 5, 7, 1, 2, 4, 8, 9, 10, 1, 2, 4, 7, 10, 1, 6, 1, 2, 3, 4, 5, 6, 7, 8, 9, 2, 3, 5, 1, 2, 3, 4, 5, 6, 7, 8, 9, 10, 1, 4, 1, 2, 3, 4, 5, 6, 7, 8, 1, 2, 1, 1, 2, 3, 4, 5, 6, 7, 8, 9, 3, 1, 2, 1, 2, 3, 4, 5, 6, 7, 8, 3, 1, 7, 7, 9, 8, 1, 2, 3, 6, 4, 9, 8, 1, 8, 9, 1, 2, 1, 2, 4, 5, 8, 1, 4, 1, 4, 7, 1, 4, 1, 2, 3, 4, 5, 7, 8, 10, 4, 1, 2, 3, 4, 5, 6, 7, 8, 9, 10, 1, 3, 6, 5, 2, 1, 2, 3, 4, 5, 6, 7, 8, 10, 1, 1, 2, 3, 8, 3, 5, 3, 8, 7, 1, 2, 3, 4, 7, 8, 1, 3, 5, 6, 1, 2, 3, 4, 7, 1, 4, 7, 2, 6, 1, 6, 5, 6, 1, 4, 5, 6, 8, 9, 7, 8, 2, 7, 1, 2, 3, 4, 5, 6, 7, 2, 1, 2, 3, 4, 5, 6, 7, 8, 5, 1, 1, 2, 3, 4, 5, 6, 7, 8, 9, 2, 1, 2, 3, 4, 6, 7, 8, 9, 8, 9, 2, 2, 3, 7, 1, 1, 2, 3, 4, 5, 7, 8, 1, 2, 3, 4, 5, 7, 8, 9, 10, 3, 4, 1, 2, 3, 4, 5, 6, 9, 1, 2, 5, 7, 4, 2, 5, 7, 1, 2, 7, 8, 1, 2, 3, 4, 8, 9, 1, 2, 4, 5, 1, 2, 3, 4, 5, 1, 8, 1, 2, 4, 7, 8, 1, 2, 5, 7, 8, 1, 2, 7, 5, 1, 5, 1, 1, 2, 3, 4, 5, 6, 7, 8, 9, 1, 6, 1, 2, 3, 4, 5, 6, 7, 5, 6, 1, 6, 1, 4, 9, 1, 2, 3, 6, 8, 9, 1, 2, 3, 6, 9, 4, 1, 1, 2, 3, 4, 5, 6, 7, 8, 1, 2, 5, 2, 5, 1, 3, 1, 2, 3, 4, 5, 6, 8, 9, 1, 2, 3, 4, 5, 6, 8, 9, 10, 9, 7, 1, 2, 3, 4, 5, 6, 7, 9, 1, 2, 3, 6, 8, 1, 2, 3, 4, 5, 6, 7, 8, 9, 10, 2, 8, 1, 2, 3, 4, 5, 6, 7, 8, 6, 1, 2, 3, 4, 5, 6, 7, 8, 9, 1, 2, 3, 4, 5, 6, 7, 1, 2, 3, 4, 5, 8, 1, 2, 3, 4, 5, 6, 7, 8, 9, 5, 9, 1, 2, 3, 4, 5, 6, 7, 1, 2, 3, 4, 5, 6, 8, 7, 1, 2, 3, 4, 5, 6, 7, 8, 10, 1, 1, 2, 3, 4, 5, 6, 7, 8, 9, 10, 7, 5, 9, 3, 1, 7, 2, 4, 8, 1, 2, 3, 4, 5, 6, 7, 8, 1, 4, 1, 1, 2, 3, 4, 5, 6, 8, 7, 1, 6, 1, 2, 3, 4, 5, 6, 7, 8, 2, 4, 5, 1, 2, 4, 1, 3, 4, 6, 8, 10, 1, 1, 2, 3, 4, 5, 6, 7, 9, 6, 1, 9, 1, 2, 3, 4, 5, 6, 7, 8, 9, 1, 2, 3, 4, 5, 6, 7, 8, 9, 2, 1, 2, 3, 4, 5, 6, 7, 8, 3, 5, 5, 1, 3, 8, 6, 3, 1, 2, 5, 7, 10, 1, 2, 3, 4, 5, 6, 7, 8, 9, 1, 2, 3, 4, 5, 6, 7, 8, 9, 10, 1, 6, 6, 7, 1, 2, 3, 4, 6, 7, 8, 1, 8, 3, 8, 2, 1, 2, 3, 4, 5, 6, 7, 8, 9, 1, 2, 3, 4, 5, 6, 7, 8, 10, 7, 3, 1, 2, 3, 4, 5, 6, 7, 8, 9, 1, 2, 3, 5, 6, 4, 1, 6, 6, 1, 2, 3, 4, 5, 6, 7, 8, 9, 10, 2, 9, 1, 2, 3, 4, 5, 7, 9, 1, 2, 3, 4, 5, 6, 7, 1, 2, 3, 4, 5, 6, 7, 8, 8, 1, 2, 3, 4, 5, 6, 7, 8, 9, 1, 1, 2, 3, 4, 8, 1, 2, 4, 8, 9, 1, 3, 7, 8, 1, 2, 3, 6, 9, 4, 7, 9, 1, 2, 4, 9, 1, 2, 5, 7, 10, 7, 5, 1, 3, 6, 7, 1, 2, 3, 4, 5, 6, 8, 9, 1, 8, 4, 1, 2, 3, 4, 5, 6, 7, 9, 10, 1, 2, 3, 4, 5, 6, 7, 10, 7, 1, 2, 3, 4, 5, 6, 7, 8, 9, 1, 2, 3, 4, 5, 8, 7, 2, 2, 1, 2, 3, 4, 5, 6, 7, 1, 8, 9, 3, 1, 2, 3, 4, 5, 6, 7, 9, 1, 2, 3, 4, 5, 6, 7, 9, 7, 1, 2, 3, 4, 5, 6, 7, 8, 9, 9, 2, 1, 2, 3, 4, 8, 3, 1, 2, 3, 4, 5, 6, 9, 7, 1, 4, 6, 1, 7, 1, 6, 8, 6, 1, 7, 1, 2, 3, 4, 6, 8, 9, 4, 2, 1, 2, 3, 4, 5, 6, 7, 8, 1, 2, 7, 3, 5, 1, 1, 2, 5, 8, 4, 1, 2, 4, 7, 1, 2, 3, 4, 5, 7, 8, 9, 1, 2, 3, 4, 8, 1, 2, 3, 4, 5, 6, 7, 8, 9, 10, 5, 1, 2, 3, 4, 5, 6, 7, 8, 9, 10, 4, 1, 3, 7, 8, 1, 4, 1, 2, 3, 4, 5, 7, 8, 10, 1, 2, 3, 4, 5, 6, 7, 8, 9, 10, 1, 2, 1, 2, 4, 5, 6, 7, 8, 9, 10, 10, 4, 1, 2, 3, 5, 6, 9, 1, 2, 3, 4, 5, 6, 7, 8, 9, 1, 2, 3, 4, 5, 6, 7, 8, 10, 1, 2, 5, 1, 2, 3, 4, 8, 6, 1, 4, 1, 8, 8, 2, 6, 6, 1, 6, 8, 1, 3, 5, 6, 8, 2, 1, 3, 1, 1, 2, 9, 5, 8, 6, 7, 1, 2, 3, 9, 5, 1, 2, 3, 4, 5, 6, 8, 9, 10, 2, 1, 4, 3, 1, 2, 3, 5, 1, 2, 3, 4, 5, 6, 9, 5, 1, 2, 3, 4, 5, 6, 4, 4, 6, 1, 5, 1, 2, 10, 1, 9, 1, 2, 3, 4, 5, 6, 7, 8, 9, 10, 1, 2, 5, 6, 1, 2, 3, 4, 5, 6, 7, 8, 9, 1, 2, 3, 4, 5, 6, 7, 8, 10, 1, 4, 5, 1, 2, 3, 4, 6, 7, 8, 9, 1, 2, 4, 5, 9, 7, 3, 1, 3, 5, 2, 4, 1, 2, 3, 3, 7, 8, 1, 2, 3, 6, 8, 1, 2, 7, 8, 1, 3, 1, 2, 1, 2, 3, 4, 5, 6, 7, 8, 9, 10, 1, 2, 4, 5, 5, 1, 3, 3, 1, 2, 4, 9, 5, 1, 2, 3, 4, 5, 6, 7, 8, 9, 3, 1, 1, 2, 3, 4, 5, 6, 7, 9, 10, 1, 2, 5, 6, 1, 5, 1, 2, 5, 8, 1, 2, 3, 4, 5, 6, 7, 8, 9, 10, 1, 2, 3, 4, 5, 6, 8, 9, 4, 1, 2, 1, 2, 4, 8, 1, 6, 1], \"Freq\": [0.7969245450890751, 0.7969244608254925, 0.971316276355183, 0.21790357365215585, 0.5810761964057489, 0.10895178682607792, 0.03631726227535931, 0.03631726227535931, 0.8834542527892716, 0.4687752410405647, 0.18751009641622587, 0.1004518373658353, 0.10714862652355765, 0.07366468073494588, 0.026787156630889413, 0.026787156630889413, 0.02009036747316706, 0.25427862159192965, 0.5085572431838593, 0.9103478480717443, 0.7969250002836599, 0.8125260181071785, 0.09750312217286142, 0.03250104072428714, 0.03250104072428714, 0.40346112378298254, 0.20173056189149127, 0.40346112378298254, 0.8842116084365821, 0.022672092524014923, 0.022672092524014923, 0.022672092524014923, 0.045344185048029846, 0.952166293855962, 0.4845375299765697, 0.12113438249414242, 0.12113438249414242, 0.12113438249414242, 0.12113438249414242, 0.6832595620605668, 0.09110127494140892, 0.09110127494140892, 0.06073418329427261, 0.015183545823568153, 0.015183545823568153, 0.015183545823568153, 0.015183545823568153, 0.015183545823568153, 0.594466102254875, 0.0414743792270843, 0.22119668921111627, 0.11059834460555813, 0.013824793075694767, 0.013824793075694767, 0.9694912923543082, 0.8207809274270168, 0.2185282795455435, 0.6555848386366304, 0.7580490836101001, 0.6210194475852063, 0.1975970969589293, 0.049399274239732324, 0.021171117531313854, 0.021171117531313854, 0.014114078354209235, 0.02822815670841847, 0.007057039177104618, 0.04234223506262771, 0.43064054247981437, 0.055566521610298625, 0.23615771684376916, 0.2500493472463438, 0.013891630402574656, 0.013891630402574656, 0.7410417632195965, 0.09263022040244956, 0.18526044080489912, 0.6599704694811787, 0.16499261737029466, 0.16499261737029466, 0.7719556275729558, 0.05513968768378256, 0.05513968768378256, 0.05513968768378256, 0.573916217598835, 0.2097001564303436, 0.08829480270751308, 0.04414740135375654, 0.05518425169219568, 0.011036850338439135, 0.011036850338439135, 0.5172101822040074, 0.7580490325839019, 0.7786147518942502, 0.08651275021047225, 0.043256375105236125, 0.043256375105236125, 0.021628187552618063, 0.021628187552618063, 0.7212652145033596, 0.9107351661661253, 0.9046956974734752, 0.796924511386805, 0.7969245179202422, 0.9860351727628087, 0.8743000569614894, 0.6633767721015961, 0.10652765683383296, 0.11621198927327231, 0.058105994636636155, 0.0242108310985984, 0.019368664878878717, 0.004842166219719679, 0.014526498659159039, 0.12367204813445465, 0.12367204813445465, 0.6183602406722732, 0.9698393918654513, 0.23423134474680082, 0.15615422983120056, 0.5465398044092019, 0.3293893871564475, 0.24704204036733562, 0.4117367339455594, 0.6788553584387427, 0.13869087968103344, 0.036497599916061434, 0.05109663988248601, 0.04379711989927372, 0.029198079932849147, 0.007299519983212287, 0.007299519983212287, 0.014599039966424573, 0.3971643115643784, 0.5957464673465677, 0.9331632921458375, 0.03589089585176298, 0.03589089585176298, 0.6763849706178314, 0.032208808124658636, 0.06441761624931727, 0.09662642437397591, 0.032208808124658636, 0.032208808124658636, 0.06441761624931727, 0.8987529303003199, 0.1668231515301859, 0.6672926061207436, 0.07296474772605732, 0.8755769727126879, 0.6540701258846623, 0.12635445613680976, 0.08175876573558279, 0.05202830546809814, 0.022297845200613488, 0.022297845200613488, 0.022297845200613488, 0.007432615066871162, 0.007432615066871162, 0.007432615066871162, 0.8834542167257204, 0.658668444175338, 0.09409549202504829, 0.18819098405009657, 0.6764428363404965, 0.11909204865149586, 0.07383707016392743, 0.05240050140665818, 0.030963932649388924, 0.02620025070332909, 0.004763681946059835, 0.004763681946059835, 0.007145522919089752, 0.004763681946059835, 0.5437645501178552, 0.1359411375294638, 0.2718822750589276, 0.0679705687647319, 0.88854314654387, 0.770484735345128, 0.192621183836282, 0.7794160963550777, 0.09742701204438471, 0.040594588351826964, 0.008118917670365391, 0.032475670681461566, 0.008118917670365391, 0.016237835340730783, 0.008118917670365391, 0.4583340973227196, 0.016369074904382844, 0.03273814980876569, 0.03273814980876569, 0.4747031722271025, 0.27327402714845006, 0.6831850678711252, 0.9931976114331366, 0.8572235420530606, 0.7969245001527155, 0.5307504855868921, 0.21230019423475682, 0.21230019423475682, 0.8268638319257497, 0.660370534342737, 0.12006736988049764, 0.17152481411499662, 0.01715248141149966, 0.01715248141149966, 0.00857624070574983, 0.904158864252762, 0.188967272023896, 0.755869088095584, 0.8121426939937684, 0.06411652847319224, 0.010686088078865374, 0.0427443523154615, 0.03205826423659612, 0.010686088078865374, 0.02137217615773075, 0.6541053770086888, 0.05450878141739073, 0.03633918761159382, 0.01816959380579691, 0.21803512566956293, 0.01816959380579691, 0.01816959380579691, 0.20962265389557, 0.20962265389557, 0.20962265389557, 0.20962265389557, 0.24109455646059366, 0.19287564516847494, 0.4821891129211873, 0.048218911292118735, 0.8207794965277089, 0.1397770838298633, 0.8386625029791799, 0.8214763990644699, 0.43666389251799964, 0.2619983355107998, 0.08733277850359993, 0.08733277850359993, 0.17466555700719985, 0.9390682342303616, 0.9046972145027613, 0.942294138444971, 0.0303965851111281, 0.9192651443393408, 0.2501164956611332, 0.625291239152833, 0.9040472907698229, 0.9061882560767864, 0.020137516801706366, 0.020137516801706366, 0.04027503360341273, 0.020137516801706366, 0.6503789507960442, 0.10237446447715512, 0.05419824589967035, 0.1144185191215263, 0.01204405464437119, 0.018066081966556784, 0.03613216393311357, 0.01204405464437119, 0.2915697928635181, 0.05831395857270362, 0.5248256271543326, 0.11662791714540724, 0.05831395857270362, 0.9385664884113282, 0.13174566025070025, 0.011976878204609114, 0.7904739615042016, 0.011976878204609114, 0.035930634613827346, 0.011976878204609114, 0.3100764503645593, 0.5813933444335486, 0.03875955629556991, 0.03875955629556991, 0.1267055761913114, 0.802468649211639, 0.04223519206377047, 0.42002182852165953, 0.280014552347773, 0.1400072761738865, 0.1400072761738865, 0.9437163391986829, 0.8834541976179046, 0.8680446695281243, 0.051061451148713195, 0.034040967432475464, 0.017020483716237732, 0.034040967432475464, 0.5249181658922488, 0.41993453271379905, 0.9642151355673101, 0.24555097404842485, 0.4911019480968497, 0.5467277601533694, 0.3037376445296497, 0.12149505781185987, 0.9040473186578066, 0.4212200776978681, 0.21061003884893406, 0.21061003884893406, 0.7580490152174926, 0.6838900691584977, 0.12434364893790867, 0.051809853724128614, 0.04144788297930289, 0.010361970744825722, 0.031085912234477167, 0.031085912234477167, 0.010361970744825722, 0.020723941489651444, 0.7580490303702863, 0.34048120353021416, 0.22698746902014277, 0.11349373451007139, 0.11349373451007139, 0.11349373451007139, 0.9307050647717792, 0.8983869356380781, 0.5173381272880969, 0.8834543728425538, 0.29878999684125684, 0.29878999684125684, 0.29878999684125684, 0.7795275397454856, 0.8883432794480993, 0.026862433069531573, 0.9670475905031366, 0.9746468881213101, 0.6858650047260816, 0.04988109125280593, 0.062351364066007414, 0.09976218250561186, 0.024940545626402966, 0.024940545626402966, 0.024940545626402966, 0.7312906159214818, 0.09347323662154278, 0.05498425683620164, 0.04398740546896131, 0.038488979785341146, 0.010996851367240327, 0.010996851367240327, 0.016495277050860492, 0.0054984256836201634, 0.6177938381660175, 0.04975520844290074, 0.1326805558477353, 0.09121788214531802, 0.04560894107265901, 0.016585069480966913, 0.02073133685120864, 0.016585069480966913, 0.004146267370241728, 0.3412408573532104, 0.3412408573532104, 0.6659114372986742, 0.1248583944935014, 0.07283406345454249, 0.03121459862337535, 0.04161946483116714, 0.02080973241558357, 0.03121459862337535, 0.010404866207791784, 0.7969244570649711, 0.9043724735075583, 0.3169622169676763, 0.10565407232255876, 0.3169622169676763, 0.21130814464511752, 0.6874936694576059, 0.15624856124036499, 0.03645799762275183, 0.06249942449614599, 0.015624856124036498, 0.031249712248072995, 0.010416570749357664, 0.005208285374678832, 0.7179703517448256, 0.16568546578726745, 0.05522848859575582, 0.9642542341015786, 0.9575203944800921, 0.04559620926095677, 0.591838900420801, 0.11699141054829788, 0.1582824966241677, 0.08258217215173967, 0.00688184767931164, 0.020645543037934918, 0.01376369535862328, 0.01376369535862328, 0.5306423486475751, 0.2880629892658265, 0.04548362988407787, 0.01516120996135929, 0.04548362988407787, 0.03032241992271858, 0.04548362988407787, 0.01516120996135929, 0.2829849648996373, 0.5006657071301276, 0.17414459378439218, 0.021768074223049022, 0.7969245244853302, 0.8670073513807525, 0.9167982399443239, 0.07052294153417876, 0.014104588306835752, 0.14519196848963822, 0.43557590546891467, 0.29038393697927645, 0.7318946023622364, 0.07318946023622364, 0.0816343979557879, 0.05066962631738559, 0.022519833918838043, 0.01688987543912853, 0.005629958479709511, 0.014074896199273776, 0.005629958479709511, 0.5111058713215128, 0.1703686237738376, 0.3407372475476752, 0.8883432038888218, 0.82077939832561, 0.8834542514903426, 0.888343226386896, 0.3792662975132445, 0.5688994462698668, 0.6306548934372979, 0.13795575793940892, 0.07883186167966223, 0.05912389625974668, 0.009853982709957779, 0.02956194812987334, 0.02956194812987334, 0.009853982709957779, 0.5925892034405167, 0.5110394762397147, 0.23079202152761308, 0.06594057757931802, 0.03297028878965901, 0.14836629955346556, 0.016485144394829506, 0.9643356034843534, 0.9642298800614374, 0.11248027513239515, 0.7311217883605685, 0.05624013756619758, 0.05624013756619758, 0.05624013756619758, 0.8834541995348005, 0.7062281878092995, 0.061949841035903466, 0.061949841035903466, 0.024779936414361384, 0.012389968207180692, 0.061949841035903466, 0.012389968207180692, 0.04955987282872277, 0.16545384601153057, 0.16545384601153057, 0.4963615380345917, 0.16545384601153057, 0.6740448417107386, 0.09944923894092865, 0.09392428122198818, 0.038674704032583364, 0.027624788594702403, 0.022099830875761922, 0.01657487315682144, 0.027624788594702403, 0.673492485956401, 0.12299862772477702, 0.08099909630656048, 0.04649948121302546, 0.02699969876885349, 0.013499849384426745, 0.01799979917923566, 0.013499849384426745, 0.0014999832649363052, 0.004499949794808915, 0.8208343706719479, 0.9046974567713935, 0.629338040974934, 0.0998949271388784, 0.11987391256665408, 0.08990543442499056, 0.00998949271388784, 0.02996847814166352, 0.01997898542777568, 0.511022980635864, 0.2920131317919223, 0.07300328294798057, 0.07300328294798057, 0.07300328294798057, 0.10874290970968015, 0.16311436456452022, 0.6524574582580809, 0.7045049086116211, 0.09239408637529456, 0.03464778239073546, 0.0577463039845591, 0.03464778239073546, 0.04619704318764728, 0.01154926079691182, 0.8207791416962695, 0.5377854987725198, 0.07682649982464569, 0.15365299964929138, 0.17926183292417328, 0.025608833274881896, 0.025608833274881896, 0.7580490643508095, 0.4961407729448656, 0.9103480367537651, 0.31826589970936975, 0.12730635988374792, 0.06365317994187396, 0.4455722595931177, 0.5396009277211249, 0.13024849979475428, 0.018606928542107753, 0.2418900710474008, 0.018606928542107753, 0.018606928542107753, 0.018606928542107753, 0.633919817961393, 0.1036894869527929, 0.07776711521459467, 0.11075922469957424, 0.021209213240344003, 0.028278950987125337, 0.009426316995708445, 0.007069737746781334, 0.0047131584978542225, 0.0023565792489271113, 0.9040472771873276, 0.7129673144319325, 0.41841608496305527, 0.439336889211208, 0.020920804248152763, 0.04184160849630553, 0.020920804248152763, 0.06276241274445829, 0.5631688840681509, 0.1107873214560297, 0.03692910715200989, 0.12925187503203464, 0.06462593751601732, 0.03692910715200989, 0.018464553576004947, 0.018464553576004947, 0.009232276788002473, 0.6373440541700195, 0.08152075111476993, 0.10375368323697991, 0.08152075111476993, 0.029643909496279975, 0.029643909496279975, 0.014821954748139987, 0.014821954748139987, 0.007410977374069994, 0.5007418507985276, 0.1251854626996319, 0.2503709253992638, 0.4092102417152448, 0.227339023175136, 0.0454678046350272, 0.1364034139050816, 0.0454678046350272, 0.0909356092700544, 0.0454678046350272, 0.7212650953907213, 0.8834541202358973, 0.49614058365898955, 0.8214754433150652, 0.5070124620159226, 0.5873336240066465, 0.35240017440398785, 0.5897064166475959, 0.14742660416189898, 0.049142201387299654, 0.19656880554919862, 0.8834541320928513, 0.5050252801623154, 0.28056960009017523, 0.22445568007214017, 0.9698093091262064, 0.8915773274198654, 0.8834543047226557, 0.8886045840498812, 0.4968861506957919, 0.4968861506957919, 0.7580490338597135, 0.4715627480335608, 0.16323325893469412, 0.10882217262312942, 0.05441108631156471, 0.03627405754104314, 0.10882217262312942, 0.03627405754104314, 0.01813702877052157, 0.4016562978547809, 0.09639751148514741, 0.09639751148514741, 0.19279502297029483, 0.14459626722772112, 0.04819875574257371, 0.016066251914191237, 0.9046982387105238, 0.5769388508425929, 0.28846942542129644, 0.796924595650398, 0.23333809562047597, 0.700014286861428, 0.6086058635372715, 0.1315904569810317, 0.0822440356131448, 0.10965871415085973, 0.032897614245257924, 0.016448807122628962, 0.005482935707542986, 0.010965871415085973, 0.005482935707542986, 0.005482935707542986, 0.3986525804881749, 0.3986525804881749, 0.9188476549561603, 0.04375465023600763, 0.021877325118003815, 0.8834541305008009, 0.9306599057992606, 0.037226396231970424, 0.037226396231970424, 0.45286371979593465, 0.11321592994898366, 0.3962557548214428, 0.05660796497449183, 0.6377659213560172, 0.1219258379062974, 0.056273463649060336, 0.06565237425723706, 0.07503128486541379, 0.018757821216353446, 0.009378910608176723, 0.018757821216353446, 0.8883432695623501, 0.7205493161803228, 0.062056878905482345, 0.08619010959094771, 0.04481885698729281, 0.01723802191818954, 0.01723802191818954, 0.031028439452741172, 0.010342813150913724, 0.0034476043836379083, 0.0068952087672758166, 0.5337843374912767, 0.13775079677194238, 0.06887539838597119, 0.06026597358772479, 0.008609424798246399, 0.13775079677194238, 0.008609424798246399, 0.025828274394739194, 0.008609424798246399, 0.43709881916941035, 0.5619841960749562, 0.9717013435254618, 0.43776537222703144, 0.43776537222703144, 0.496140970966195, 0.512724095416671, 0.030160240906862996, 0.13873710817156978, 0.24731397543627656, 0.04825638545098079, 0.018096144544117797, 0.006032048181372599, 0.2788984208588399, 0.5577968417176798, 0.5803065405238955, 0.12895700900531012, 0.06447850450265506, 0.042985669668436706, 0.17194267867374682, 0.8834542602054204, 0.6459933550475424, 0.1309807216441224, 0.06682689879802163, 0.062371772211486855, 0.03831408864419907, 0.025839734201901696, 0.011583329124990415, 0.009801278490376507, 0.005346151903841731, 0.0026730759519208655, 0.6685198783821443, 0.12678825279661357, 0.04994688746533262, 0.04994688746533262, 0.03073654613251238, 0.034578614399076425, 0.01536827306625619, 0.011526204799692142, 0.007684136533128095, 0.0038420682665640474, 0.8268638938295049, 0.2810863057879548, 0.2810863057879548, 0.2810863057879548, 0.9393214171747934, 0.9075447746095695, 0.0648246267578264, 0.670039248528681, 0.223346416176227, 0.18276464285084013, 0.5482939285525205, 0.18276464285084013, 0.9103475469920714, 0.1402164447932592, 0.1402164447932592, 0.701082223966296, 0.30636796128271804, 0.17506740644726745, 0.043766851611816864, 0.3501348128945349, 0.08753370322363373, 0.07808392382131832, 0.11712588573197748, 0.7808392382131831, 0.07956423806488082, 0.7160781425839273, 0.15912847612976164, 0.7148348769489579, 0.11581123704759652, 0.04392840025943317, 0.08386330958619059, 0.015973963730702968, 0.011980472798027227, 0.007986981865351484, 0.003993490932675742, 0.589878404861388, 0.09438054477782208, 0.11797568097227759, 0.09438054477782208, 0.07078540858336656, 0.03539270429168328, 0.01179756809722776, 0.6144864820404852, 0.2048288273468284, 0.7580490334785791, 0.5611262183173586, 0.34530844204145145, 0.02877570350345429, 0.014387851751727144, 0.014387851751727144, 0.02877570350345429, 0.014387851751727144, 0.7969250524388738, 0.8977385989233789, 0.7859015330904485, 0.8478192253429079, 0.01803870692218953, 0.03607741384437906, 0.05411612076656859, 0.03607741384437906, 0.01803870692218953, 0.1784565155050133, 0.7138260620200532, 0.8214745624188338, 0.2510817192812602, 0.5021634385625204, 0.9827725514354784, 0.9904513225865067, 0.6559356554046325, 0.07716890063583912, 0.05787667547687934, 0.07716890063583912, 0.03858445031791956, 0.05787667547687934, 0.01929222515895978, 0.01929222515895978, 0.7969245132512405, 0.8207807290046575, 0.8595705503460239, 0.2789709444924593, 0.5579418889849186, 0.647131935769957, 0.1138472849965665, 0.05392766131416308, 0.0719035484188841, 0.005991962368240342, 0.0419437365776824, 0.03595177420944205, 0.011983924736480684, 0.005991962368240342, 0.005991962368240342, 0.9642504757196123, 0.6891451867532045, 0.07211984512533536, 0.06410652900029809, 0.05609321287526083, 0.05609321287526083, 0.016026632250074523, 0.024039948375111784, 0.008013316125037261, 0.016026632250074523, 0.5442198100556379, 0.08592944369299545, 0.1718588873859909, 0.014321573948832576, 0.07160786974416287, 0.0572862957953303, 0.02864314789766515, 0.014321573948832576, 0.8834542214779582, 0.8268643088995131, 0.2773044843237922, 0.5546089686475844, 0.7476492232402893, 0.08177413379190664, 0.01752302866969428, 0.09929716246160092, 0.01168201911312952, 0.02336403822625904, 0.00584100955656476, 0.00584100955656476, 0.00584100955656476, 0.12407716590961167, 0.12407716590961167, 0.49630866363844667, 0.24815433181922333, 0.46961673723526204, 0.1363403430683019, 0.3332763941669602, 0.030297854015178198, 0.015148927007589099, 0.015148927007589099, 0.3934926244122416, 0.2566256246166793, 0.32505912451446045, 0.017108374974445287, 0.017108374974445287, 0.9642149009347915, 0.9103476821953651, 0.6887789153526452, 0.11479648589210754, 0.06696461677039607, 0.028699121473026886, 0.028699121473026886, 0.01913274764868459, 0.04783186912171147, 0.009566373824342295, 0.009566373824342295, 0.2953893214705915, 0.2953893214705915, 0.2953893214705915, 0.7679742286088764, 0.09270470798022103, 0.038978115855320204, 0.03476426549258289, 0.013695013678896287, 0.02001578922300227, 0.016855401450949277, 0.006320775544105979, 0.0052673129534216495, 0.0031603877720529894, 0.19048068281485162, 0.7619227312594065, 0.673953393013788, 0.1347906786027576, 0.0505465044760341, 0.0168488348253447, 0.00842441741267235, 0.0673953393013788, 0.02527325223801705, 0.02527325223801705, 0.9682454551006433, 0.8883478313223244, 0.9772575670797884, 0.7892971127709085, 0.07477551594671765, 0.041541953303732025, 0.008308390660746406, 0.033233562642985624, 0.016616781321492812, 0.016616781321492812, 0.024925171982239216, 0.008308390660746406, 0.8268644158128338, 0.05446014074674285, 0.9258223926946285, 0.8014029585042677, 0.04856987627298592, 0.02428493813649296, 0.02428493813649296, 0.02428493813649296, 0.04856987627298592, 0.02428493813649296, 0.02428493813649296, 0.8268643912529162, 0.9743627587085235, 0.03044883620964136, 0.7580489551399414, 0.8834542853297979, 0.7969245029572815, 0.5224981412508543, 0.05224981412508543, 0.10449962825017085, 0.2612490706254271, 0.8915016336896339, 0.8834552688003383, 0.7969250863080992, 0.5133132226584648, 0.2566566113292324, 0.8834541841864179, 0.3546066040446307, 0.6447392800811467, 0.46628721561696823, 0.10597436718567459, 0.16955898749707934, 0.23314360780848412, 0.042389746874269836, 0.23027634514103618, 0.6908290354231085, 0.729313740191112, 0.10418767717015885, 0.15628151575523827, 0.1614804439275029, 0.8074022196375146, 0.6876005297576747, 0.1497743728185034, 0.0544634082976376, 0.0544634082976376, 0.0272317041488188, 0.0136158520744094, 0.0068079260372047, 0.0068079260372047, 0.8207809900868401, 0.7526003412012761, 0.07402626306897797, 0.03290056136399021, 0.04523827187548654, 0.016450280681995104, 0.03290056136399021, 0.016450280681995104, 0.016450280681995104, 0.008225140340997552, 0.004112570170498776, 0.4371486503321095, 0.08742973006642189, 0.4371486503321095, 0.904047342041132, 0.8898475958943938, 0.5619007875855854, 0.16054308216731009, 0.08027154108365504, 0.06421723286692403, 0.008027154108365504, 0.07224438697528954, 0.008027154108365504, 0.024081462325096514, 0.016054308216731008, 0.9833921436363438, 0.711482695065147, 0.1422965390130294, 0.0711482695065147, 0.0711482695065147, 0.7276274374103878, 0.14552548748207755, 0.9964856366081087, 0.9175575955938333, 0.9698690522970836, 0.6884233187830245, 0.13469151889233089, 0.059862897285480395, 0.014965724321370099, 0.08979434592822058, 0.7656862980447731, 0.6425131187064345, 0.2141710395688115, 0.10708551978440575, 0.03569517326146859, 0.8126813569246844, 0.08126813569246844, 0.04063406784623422, 0.04063406784623422, 0.02031703392311711, 0.934128815947958, 0.02668939474137023, 0.05337878948274046, 0.8883434165752384, 0.9107343789702906, 0.1065034082984754, 0.8520272663878032, 0.1628059657616587, 0.8140298288082936, 0.5433172853507495, 0.07761675505010708, 0.07761675505010708, 0.11642513257516061, 0.15523351010021416, 0.03880837752505354, 0.7580490636477583, 0.7969250028063805, 0.36834442648203425, 0.36834442648203425, 0.6750454223536385, 0.1250084115469701, 0.06250420577348505, 0.037502523464091025, 0.050003364618788036, 0.012500841154697009, 0.037502523464091025, 0.9282048667095986, 0.7889473328353885, 0.04201494671904436, 0.028009964479362905, 0.10737153050422447, 0.014004982239681453, 0.009336654826454302, 0.009336654826454302, 0.004668327413227151, 0.9040475733633128, 0.9642149095108881, 0.7009007484099942, 0.08245891157764637, 0.06184418368323478, 0.09276627552485217, 0.03092209184161739, 0.010307363947205796, 0.010307363947205796, 0.010307363947205796, 0.010307363947205796, 0.9283442739931893, 0.7918031435225715, 0.0703825016464508, 0.04398906352903175, 0.04398906352903175, 0.00879781270580635, 0.02639343811741905, 0.0175956254116127, 0.00879781270580635, 0.7656877686707199, 0.8916326318352971, 0.9282042083576313, 0.07957493937804246, 0.8753243331584669, 0.7129665186273858, 0.9815260605180431, 0.6896156835442986, 0.07259112458361038, 0.03629556229180519, 0.09073890572951297, 0.018147781145902594, 0.07259112458361038, 0.018147781145902594, 0.6443235301558683, 0.2034705884702742, 0.008477941186261424, 0.05086764711756855, 0.025433823558784274, 0.033911764745045696, 0.016955882372522848, 0.008477941186261424, 0.008477941186261424, 0.9334415560588577, 0.8207812240781314, 0.6374886932305864, 0.10017679465052072, 0.1274977386461173, 0.05464188799119312, 0.009106981331865521, 0.045534906659327606, 0.018213962663731043, 0.26162213709726123, 0.5886498084688377, 0.13081106854863062, 0.06540553427431531, 0.9759659772924315, 0.47162194581568795, 0.20212369106386627, 0.3368728184397771, 0.18534014268701043, 0.18534014268701043, 0.37068028537402087, 0.18534014268701043, 0.7225586840741955, 0.045876741845980666, 0.068815112768971, 0.11469185461495167, 0.022938370922990333, 0.0344075563844855, 0.3556141768937489, 0.38524869163489467, 0.029634514741145743, 0.20744160318802018, 0.12893651047488577, 0.3438306945996954, 0.12893651047488577, 0.12893651047488577, 0.2148941841248096, 0.38078369803549633, 0.5711755470532445, 0.21687266781544604, 0.3795271686770305, 0.1626545008615845, 0.1626545008615845, 0.05421816695386151, 0.6430053573286458, 0.22862412705018517, 0.028578015881273146, 0.08573404764381944, 0.014289007940636573, 0.42340509001741544, 0.42340509001741544, 0.1587769087565308, 0.7796870988549018, 0.981528271384267, 0.9116325461778618, 0.9594238483612355, 0.5717454310337331, 0.10262097480092644, 0.14660139257275207, 0.029320278514550414, 0.036650348143188016, 0.04398041777182562, 0.007330069628637604, 0.04398041777182562, 0.007330069628637604, 0.7461055521304192, 0.7212651463544263, 0.5276449622733546, 0.15829348868200635, 0.008794082704555908, 0.2022639022047859, 0.061558578931891365, 0.026382248113667725, 0.008794082704555908, 0.9040487412822685, 0.9103479725022298, 0.344675630488312, 0.517013445732468, 0.230276516906441, 0.690829550719323, 0.9009626301583757, 0.5854760085250581, 0.03252644491805878, 0.32526444918058783, 0.02168429661203919, 0.010842148306019594, 0.02168429661203919, 0.41553260234253325, 0.04155326023425333, 0.4570858625767866, 0.062329890351379987, 0.020776630117126663, 0.5076868353326429, 0.4961406708666151, 0.5102428043019773, 0.19842775722854675, 0.14173411230610483, 0.07795376176835765, 0.03543352807652621, 0.007086705615305241, 0.028346822461220965, 0.007086705615305241, 0.08056711274255642, 0.6445369019404513, 0.16113422548511283, 0.13822491564021938, 0.8293494938413163, 0.28050583688491176, 0.7012645922122794, 0.384538631606569, 0.17945136141639886, 0.1153615894819707, 0.17945136141639886, 0.025635908773771265, 0.05127181754754253, 0.0384538631606569, 0.025635908773771265, 0.488556960023465, 0.12485344533932993, 0.04342728533541911, 0.16828073067474905, 0.04342728533541911, 0.07056933867005605, 0.021713642667709556, 0.010856821333854778, 0.016285232000782166, 0.8834541648956381, 0.7580490369201238, 0.7524150496313216, 0.15446931482497328, 0.004982881123386235, 0.014948643370158705, 0.014948643370158705, 0.03488016786370365, 0.024914405616931177, 0.004982881123386235, 0.5222378155429763, 0.0373027011102126, 0.11190810333063778, 0.2984216088817008, 0.0373027011102126, 0.6617731325251157, 0.04914156924691453, 0.08517872002798518, 0.06552209232921938, 0.036037150781070657, 0.07207430156214131, 0.009828313849382906, 0.009828313849382906, 0.006552209232921938, 0.003276104616460969, 0.8886489323634761, 0.7969245366595509, 0.7305982205528458, 0.07690507584766798, 0.06408756320638999, 0.03845253792383399, 0.03845253792383399, 0.025635025282555995, 0.012817512641277997, 0.012817512641277997, 0.6651531957058847, 0.6217913885576991, 0.09979367964506282, 0.06908793206196656, 0.122822990332385, 0.03070574758309625, 0.02302931068732219, 0.015352873791548125, 0.011514655343661095, 0.0038382184478870313, 0.6017767580129132, 0.07658976920164351, 0.09847256040211308, 0.09847256040211308, 0.032824186800704355, 0.032824186800704355, 0.05470697800117393, 0.3819252487805665, 0.04774065609757081, 0.14322196829271244, 0.04774065609757081, 0.2864439365854249, 0.09548131219514162, 0.5456334392272076, 0.12838433864169593, 0.050436704466380544, 0.04126639456340226, 0.11921402873871764, 0.050436704466380544, 0.00917030990297828, 0.03668123961191312, 0.01375546485446742, 0.9520143659423169, 0.8834552688003383, 0.7695619098422687, 0.06743583746040499, 0.07536946539692323, 0.023800883809554703, 0.015867255873036466, 0.011900441904777351, 0.03173451174607293, 0.3320929074374113, 0.2629068850546173, 0.20755806714838207, 0.08302322685935283, 0.05534881790623522, 0.013837204476558805, 0.05534881790623522, 0.7580491153220592, 0.6867608337390498, 0.1125837432359098, 0.01125837432359098, 0.04503349729436392, 0.02251674864718196, 0.0562918716179549, 0.02251674864718196, 0.01125837432359098, 0.01125837432359098, 0.9594401756998071, 0.6307182788828658, 0.09722534733767496, 0.08226760159341728, 0.09473238971363201, 0.00997183049617179, 0.037394364360644215, 0.01994366099234358, 0.007478872872128843, 0.014957745744257686, 0.004985915248085895, 0.7580490995158311, 0.8882913820344572, 0.8834542485031602, 0.8268641163539764, 0.9703588875039344, 0.033460651293239115, 0.47305474978499934, 0.15768491659499978, 0.31536983318999956, 0.638473257572965, 0.11050498688762855, 0.11050498688762855, 0.04297416156741111, 0.05525249344381428, 0.012278331876403172, 0.006139165938201586, 0.024556663752806344, 0.31922177274283553, 0.6384435454856711, 0.9642346065493433, 0.6649207019825846, 0.03454133516792647, 0.06908267033585294, 0.017270667583963235, 0.017270667583963235, 0.1554360082556691, 0.017270667583963235, 0.8454718321285498, 0.9637208694831122, 0.03706618728781201, 0.6170843732342094, 0.21157178510887178, 0.052892946277217946, 0.026446473138608973, 0.026446473138608973, 0.008815491046202991, 0.026446473138608973, 0.026446473138608973, 0.6595460422441967, 0.13190920844883933, 0.19786381267325898, 0.06840035243282516, 0.820804229193902, 0.06840035243282516, 0.8692471937899138, 0.017739738648773748, 0.035479477297547496, 0.017739738648773748, 0.035479477297547496, 0.017739738648773748, 0.9910431124004349, 0.6803765750726074, 0.06524158939052399, 0.14912363289262628, 0.03728090822315657, 0.018640454111578286, 0.009320227055789143, 0.03728090822315657, 0.009320227055789143, 0.9103478122452479, 0.9957200291458832, 0.8834542105733271, 0.6130762685554949, 0.15326906713887373, 0.007663453356943686, 0.10728834699721161, 0.03831726678471843, 0.007663453356943686, 0.007663453356943686, 0.045980720141662115, 0.007663453356943686, 0.7859929187888574, 0.11148835727501523, 0.016723253591252284, 0.011148835727501524, 0.011148835727501524, 0.016723253591252284, 0.03344650718250457, 0.005574417863750762, 0.011148835727501524, 0.9945501025288723, 0.7295978385796252, 0.0987997073076576, 0.03799988742602215, 0.04559986491122658, 0.00759997748520443, 0.02279993245561329, 0.04559986491122658, 0.00759997748520443, 0.30905578147686497, 0.6181115629537299, 0.9902247155899717, 0.2612731704082379, 0.2612731704082379, 0.2612731704082379, 0.9899706736349692, 0.8268643327668574, 0.44996805112991106, 0.11249201278247777, 0.11249201278247777, 0.11249201278247777, 0.11249201278247777, 0.6995969474227152, 0.12316847665892872, 0.03448717346450004, 0.024633695331785745, 0.019706956265428593, 0.009853478132714297, 0.05419412972992864, 0.024633695331785745, 0.009853478132714297, 0.6285982037919579, 0.07347251732633274, 0.09796335643511031, 0.05714529125381435, 0.06530890429007355, 0.024490839108777578, 0.008163613036259194, 0.024490839108777578, 0.008163613036259194, 0.016327226072518387, 0.7751532376550411, 0.15503064753100823, 0.9094845366807041, 0.06996034897543876, 0.3425583741600745, 0.017127918708003724, 0.042819796770009314, 0.008563959354001862, 0.5737852767181247, 0.008563959354001862, 0.008563959354001862, 0.5029406051510659, 0.25147030257553293, 0.9389137163044401, 0.7969245937701368, 0.8883428569651644, 0.6621579388927243, 0.11685140098106901, 0.07790093398737934, 0.03895046699368967, 0.031160373594951735, 0.015580186797475868, 0.031160373594951735, 0.015580186797475868, 0.007790093398737934, 0.6345693538689654, 0.14542214359497124, 0.09915146154202585, 0.04296563333487787, 0.03966058461681034, 0.013220194872270113, 0.016525243590337642, 0.0066100974361350566, 0.0033050487180675283, 0.9698092982099783, 0.9389140805341091, 0.6615555093009391, 0.12636453548444904, 0.04459924781804084, 0.06689887172706126, 0.03716603984836737, 0.02229962390902042, 0.029732831878693893, 0.007433207969673473, 0.007433207969673473, 0.3023390061058134, 0.17276514634617907, 0.1295738597596343, 0.3023390061058134, 0.043191286586544766, 0.997547079172334, 0.34483834692582366, 0.5172575203887355, 0.7858722376681136, 0.6771751805630547, 0.1189733190160505, 0.0650986085182163, 0.06285382891413989, 0.019454756568662347, 0.025440835512866144, 0.014216937492484021, 0.008230858548280224, 0.005986078944203799, 0.0022447796040764244, 0.9077190999364972, 0.8834552688003383, 0.5913596195299329, 0.12095992217657717, 0.18815987894134226, 0.02687998270590604, 0.02687998270590604, 0.02687998270590604, 0.01343999135295302, 0.5516652380255972, 0.17513182159542767, 0.07880931971794246, 0.08756591079771384, 0.07005272863817107, 0.008756591079771383, 0.02626977323931415, 0.5963172608654786, 0.1284375638787185, 0.11008934046747298, 0.07339289364498199, 0.027522335116868246, 0.03669644682249099, 0.013761167558434123, 0.013761167558434123, 0.7969245375996813, 0.5877554439911221, 0.058775544399112215, 0.10152139487119383, 0.19235632712436726, 0.021372925236040806, 0.0053432313090102015, 0.016029693927030606, 0.010686462618020403, 0.0053432313090102015, 0.9772476928521242, 0.459795244170649, 0.07259924907957616, 0.024199749693192052, 0.4113957447842649, 0.024199749693192052, 0.3100138285448823, 0.3100138285448823, 0.27126209997677203, 0.058127592852165434, 0.019375864284055144, 0.6294070022501558, 0.12588140045003116, 0.12588140045003116, 0.12588140045003116, 0.4180842763321337, 0.06432065789725135, 0.38592394738350805, 0.09648098684587701, 0.03216032894862567, 0.8909386632865702, 0.7580490380262305, 0.8834542376935997, 0.6017791270048032, 0.10029652116746719, 0.20059304233493438, 0.10029652116746719, 0.6795713951727854, 0.15682416811679661, 0.052274722705598874, 0.052274722705598874, 0.052274722705598874, 0.7580489876707566, 0.9043724816930144, 0.8295681103865277, 0.05530454069243518, 0.05530454069243518, 0.05530454069243518, 0.67582951343217, 0.04095936445043454, 0.061439046675651816, 0.061439046675651816, 0.02047968222521727, 0.04095936445043454, 0.02047968222521727, 0.02047968222521727, 0.9815252471035492, 0.5173379561999579, 0.821472774147316, 0.6317726748725522, 0.05264772290604601, 0.03948579217953451, 0.05264772290604601, 0.05264772290604601, 0.026323861453023005, 0.013161930726511503, 0.013161930726511503, 0.09213351508558053, 0.6741295225615637, 0.09109858412994103, 0.07287886730395282, 0.03643943365197641, 0.03643943365197641, 0.018219716825988205, 0.054659150477964616, 0.018219716825988205, 0.7580490109342027, 0.6298533233047307, 0.12190709483317368, 0.040635698277724557, 0.020317849138862278, 0.040635698277724557, 0.06095354741658684, 0.040635698277724557, 0.010158924569431139, 0.010158924569431139, 0.7467400464152307, 0.06788545876502097, 0.009697922680717282, 0.09697922680717282, 0.029093768042151844, 0.04848961340358641, 0.7580489732605478, 0.9710210719504652, 0.9278401981802376, 0.8071154581975637, 0.08308541481445508, 0.04747737989397433, 0.029673362433733957, 0.0059346724867467915, 0.0059346724867467915, 0.011869344973493583, 0.505489286615485, 0.2527446433077425, 0.8834552688003383, 0.8980963297274259, 0.7657840870282919, 0.0645842001108198, 0.04613157150772843, 0.018452628603091374, 0.027678942904637058, 0.0645842001108198, 0.009226314301545687, 0.009226314301545687, 0.4949959273106672, 0.12559598155643795, 0.11820798264135336, 0.13298398047152254, 0.08865598698101503, 0.02955199566033834, 0.007387998915084585, 0.007387998915084585, 0.7580490836663881, 0.690003726638325, 0.1057669945941958, 0.07554785328156843, 0.0654748061773593, 0.030219141312627373, 0.010073047104209124, 0.005036523552104562, 0.010073047104209124, 0.005036523552104562, 0.8834542988569672, 0.8885021577629783, 0.865203243308583, 0.049440185331919025, 0.03708013899893927, 0.03708013899893927, 0.012360046332979756, 0.8268639956547664, 0.6996938690921977, 0.013201771114947126, 0.22443010895410112, 0.013201771114947126, 0.013201771114947126, 0.013201771114947126, 0.013201771114947126, 0.7580490346892539, 0.6328930866448259, 0.15822327166120648, 0.15822327166120648, 0.5987636798266346, 0.3991757865510897, 0.20570855705749683, 0.6171256711724905, 0.10285427852874841, 0.7212650856770444, 0.4973517610242134, 0.4973517610242134, 0.5395329407902115, 0.1079065881580423, 0.12948790578965078, 0.12948790578965078, 0.02158131763160846, 0.02158131763160846, 0.04316263526321692, 0.9307218270117351, 0.953274790299583, 0.7105917429050006, 0.08392815861082684, 0.033571263444330736, 0.04476168459244098, 0.06154731631460635, 0.04476168459244098, 0.02238084229622049, 0.005595210574055123, 0.5565452063818489, 0.07950645805454984, 0.31802583221819936, 0.7874950426700459, 0.19687376066751147, 0.9746680669472619, 0.3510434829922541, 0.11701449433075137, 0.46805797732300547, 0.796924438357317, 0.8214766422111422, 0.6309818749881814, 0.07010909722090905, 0.07010909722090905, 0.21032729166272715, 0.5036719449921536, 0.17170634488368872, 0.17170634488368872, 0.05723544829456291, 0.011447089658912581, 0.045788358635650325, 0.011447089658912581, 0.011447089658912581, 0.48446627179730495, 0.09083742596199468, 0.06055828397466312, 0.3027914198733156, 0.03027914198733156, 0.6599730582648206, 0.09658142316070543, 0.08853297123064666, 0.07646029333555847, 0.02414535579017636, 0.02414535579017636, 0.01207267789508818, 0.004024225965029393, 0.008048451930058787, 0.004024225965029393, 0.7798136932261309, 0.6155823103645819, 0.07718310313439711, 0.12236345618867835, 0.08847819139796742, 0.028237720658925772, 0.04518035305428124, 0.0037650294211901032, 0.009412573552975258, 0.005647544131785155, 0.0037650294211901032, 0.8214749941525603, 0.05383800942564968, 0.5922181036821464, 0.21535203770259873, 0.05383800942564968, 0.47494755984645537, 0.47494755984645537, 0.6958452939981132, 0.1159742156663522, 0.012886023962928024, 0.051544095851712095, 0.03865807188878407, 0.051544095851712095, 0.012886023962928024, 0.012886023962928024, 0.695756117870506, 0.07890017831521201, 0.08607292179841311, 0.06455469134880983, 0.021518230449603278, 0.014345486966402185, 0.02869097393280437, 0.0071727434832010925, 0.0071727434832010925, 0.0071727434832010925, 0.2806959973164077, 0.5613919946328154, 0.6353468355499232, 0.1232762516738657, 0.11379346308356833, 0.028448365770892083, 0.04741394295148681, 0.018965577180594724, 0.009482788590297362, 0.009482788590297362, 0.018965577180594724, 0.8420100887430796, 0.8215168147076295, 0.47294207900017704, 0.1313727997222714, 0.34156927927790565, 0.026274559944454278, 0.026274559944454278, 0.026274559944454278, 0.7375306079268349, 0.07763480083440367, 0.03881740041720184, 0.03105392033376147, 0.03881740041720184, 0.015526960166880734, 0.05434436058408257, 0.007763480083440367, 0.007763480083440367, 0.6969071586431895, 0.04051785806065056, 0.10534643095769144, 0.05672500128491078, 0.016207143224260222, 0.032414286448520443, 0.008103571612130111, 0.04051785806065056, 0.008103571612130111, 0.30793102156456065, 0.15396551078228032, 0.4618965323468409, 0.36849028420790914, 0.1664149670616364, 0.011886783361545455, 0.4160374176540909, 0.03566035008463637, 0.7212649705355881, 0.2797243590684197, 0.5594487181368394, 0.7579089464925909, 0.18947723662314772, 0.7656860558835343, 0.8883455265391333, 0.9103476868278981, 0.6650262228115384, 0.3796566931528904, 0.2847425198646678, 0.2847425198646678, 0.3211248080161598, 0.588728814696293, 0.03211248080161598, 0.042816641068821305, 0.010704160267205326, 0.8889842905717895, 0.36497767940626813, 0.6387109389609692, 0.9642556622025862, 0.4364567929530932, 0.2182283964765466, 0.2182283964765466, 0.5420986221682101, 0.40657396662615763, 0.7212650631756281, 0.9698684993626999, 0.2214598713180718, 0.2214598713180718, 0.2214598713180718, 0.2214598713180718, 0.9904508155797381, 0.6465170405568862, 0.1185281241020958, 0.07003934606032934, 0.08081463006961077, 0.03232585202784431, 0.021550568018562873, 0.005387642004640718, 0.016162926013922156, 0.005387642004640718, 0.9941583776852324, 0.2771928989645313, 0.5543857979290626, 0.9646169307159934, 0.09358004646059628, 0.18716009292119257, 0.655060325224174, 0.09358004646059628, 0.5054183534656816, 0.2527091767328408, 0.02527091767328408, 0.0631772941832102, 0.1263545883664204, 0.01263545883664204, 0.01263545883664204, 0.989972626872371, 0.5156184790628581, 0.07499905150005208, 0.10312369581257161, 0.23437203593766276, 0.06562417006254558, 0.00937488143750651, 0.8207791893722884, 0.8207810171132154, 0.9023595738561485, 0.1771812868568662, 0.7087251474274648, 0.13993720249918443, 0.6996860124959221, 0.13993720249918443, 0.9682487394210004, 0.8834542303651652, 0.5660086252654594, 0.06792103503185513, 0.11643606005460878, 0.08409271003943969, 0.07762404003640586, 0.03234335001516911, 0.022640345010618377, 0.016171675007584554, 0.009703005004550732, 0.006468670003033822, 0.13527995355580585, 0.13527995355580585, 0.6763997677790292, 0.9596860338957378, 0.6921491518902371, 0.08440843315734597, 0.07174716818374408, 0.06752674652587679, 0.012661264973601897, 0.029542951605071092, 0.029542951605071092, 0.008440843315734598, 0.008440843315734598, 0.5200343902033052, 0.21413180773077276, 0.06627889286904871, 0.09177077474175975, 0.03059025824725325, 0.03568863462179546, 0.020393505498168832, 0.015295129123626626, 0.005098376374542208, 0.9682441776421287, 0.8207794869652277, 0.7795360501347686, 0.7187747671326077, 0.1159314140536464, 0.02318628281072928, 0.04637256562145856, 0.02318628281072928, 0.02318628281072928, 0.02318628281072928, 0.8834541154258478, 0.23164899946560166, 0.5212102487976037, 0.057912249866400416, 0.057912249866400416, 0.11582449973280083, 0.9698092615024785, 0.9385239119077026, 0.35766910697258697, 0.08941727674314674, 0.5365036604588804, 0.80976849723452, 0.16195369944690402, 0.05446270375441172, 0.8714032600705875, 0.05446270375441172, 0.8177069329705632, 0.7580490053032888, 0.7969244917231925, 0.8412538080791059, 0.05392652615891705, 0.06471183139070046, 0.010785305231783409, 0.021570610463566817, 0.9099354486417152, 0.0245928499632896, 0.0245928499632896, 0.0245928499632896, 0.1909355778913125, 0.76374231156525, 0.1607611373131959, 0.8038056865659795, 0.6716291761869355, 0.10849394384558189, 0.09299480901049877, 0.02066551311344417, 0.030998269670166254, 0.04133102622688834, 0.010332756556722085, 0.015499134835083127, 0.005166378278361043, 0.005166378278361043, 0.5827251381018834, 0.20811612075067265, 0.08324644830026906, 0.08324644830026906, 0.9899724447710415, 0.9682452252668814, 0.9650925288924918, 0.9391397537198987, 0.11109090027866936, 0.3332727008360081, 0.5554545013933467, 0.8834542371307712, 0.9046967736553923, 0.6818589683204788, 0.10180533207562703, 0.04498375138225381, 0.05208644896892546, 0.03551348793335827, 0.037881053795582154, 0.016572961035567192, 0.018940526897791077, 0.014205395173343308, 0.9333044376140543, 0.9594242408396857, 0.7297994019211419, 0.11199891811661088, 0.05058015656879201, 0.03612868326342286, 0.014451473305369146, 0.025290078284396004, 0.02167720995805372, 0.0036128683263422865, 0.0036128683263422865, 0.5798948676249829, 0.2842621900122465, 0.06822292560293916, 0.056852438002449296, 0.4961411773985292, 0.9040472829228775, 0.2201737330380561, 0.11008686651902805, 0.5504343325951402, 0.11008686651902805, 0.7813990609219523, 0.025831373914775285, 0.07749412174432585, 0.05166274782955057, 0.006457843478693821, 0.025831373914775285, 0.006457843478693821, 0.006457843478693821, 0.006457843478693821, 0.006457843478693821, 0.691465152926415, 0.10846512202767293, 0.013558140253459116, 0.0813488415207547, 0.027116280506918233, 0.054232561013836465, 0.013558140253459116, 0.5925893680689777, 0.8214693384545502, 0.16081314491715615, 0.8040657245857807, 0.3808067205455745, 0.1025248863007316, 0.45403878218895427, 0.04393923698602783, 0.17845641498693288, 0.7138256599477315, 0.49614102833961043], \"Term\": [\"abandon\", \"abbaye\", \"abber\", \"abb\\u00e9\", \"abb\\u00e9\", \"abb\\u00e9\", \"abb\\u00e9\", \"abb\\u00e9\", \"abus\\u00e9\", \"acad\\u00e9mie\", \"acad\\u00e9mie\", \"acad\\u00e9mie\", \"acad\\u00e9mie\", \"acad\\u00e9mie\", \"acad\\u00e9mie\", \"acad\\u00e9mie\", \"acad\\u00e9mie\", \"accidentel\", \"accidentel\", \"accomplissement\", \"accordaient\", \"accuser\", \"accuser\", \"accuser\", \"accuser\", \"acte\", \"acte\", \"acte\", \"administration\", \"administration\", \"administration\", \"administration\", \"administration\", \"affinit\\u00e9\", \"aim\", \"aim\", \"aim\", \"aim\", \"aim\", \"aimer\", \"aimer\", \"aimer\", \"aimer\", \"aimer\", \"aimer\", \"aimer\", \"aimer\", \"aimer\", \"air\", \"air\", \"air\", \"air\", \"air\", \"air\", \"alcali\", \"allum\\u00e9\", \"alt\\u00e9ration\", \"alt\\u00e9ration\", \"ambassade\", \"ami\", \"ami\", \"ami\", \"ami\", \"ami\", \"ami\", \"ami\", \"ami\", \"ami\", \"analyse\", \"analyse\", \"analyse\", \"analyse\", \"analyse\", \"analyse\", \"anatomi\", \"anatomi\", \"anatomi\", \"anatomist\", \"anatomist\", \"anatomist\", \"anatomiste\", \"anatomiste\", \"anatomiste\", \"anatomiste\", \"ancien\", \"ancien\", \"ancien\", \"ancien\", \"ancien\", \"ancien\", \"ancien\", \"animalcule\", \"anonyme\", \"appartenir\", \"appartenir\", \"appartenir\", \"appartenir\", \"appartenir\", \"appartenir\", \"appliquant\", \"apport\\u00e9\", \"apprennent\", \"archev\\u00e8qu\", \"archev\\u00each\\u00e9\", \"arci\", \"argenson\", \"art\", \"art\", \"art\", \"art\", \"art\", \"art\", \"art\", \"art\", \"artillerie\", \"artillerie\", \"artillerie\", \"assortir\", \"astronomique\", \"astronomique\", \"astronomique\", \"attraction\", \"attraction\", \"attraction\", \"aucun\", \"aucun\", \"aucun\", \"aucun\", \"aucun\", \"aucun\", \"aucun\", \"aucun\", \"aucun\", \"augmentation\", \"augmentation\", \"autorit\\u00e9\", \"autorit\\u00e9\", \"autorit\\u00e9\", \"avouer\", \"avouer\", \"avouer\", \"avouer\", \"avouer\", \"avouer\", \"avouer\", \"a\\u00e9riforme\", \"bartholin\", \"bartholin\", \"bertin\", \"bertin\", \"besoin\", \"besoin\", \"besoin\", \"besoin\", \"besoin\", \"besoin\", \"besoin\", \"besoin\", \"besoin\", \"besoin\", \"bibliographie\", \"biblioth\\u00e8qu\", \"biblioth\\u00e8qu\", \"biblioth\\u00e8qu\", \"bien\", \"bien\", \"bien\", \"bien\", \"bien\", \"bien\", \"bien\", \"bien\", \"bien\", \"bien\", \"bienfaisance\", \"bienfaisance\", \"bienfaisance\", \"bienfaisance\", \"blessur\", \"bleu\", \"bleu\", \"bonheur\", \"bonheur\", \"bonheur\", \"bonheur\", \"bonheur\", \"bonheur\", \"bonheur\", \"bonheur\", \"botanique\", \"botanique\", \"botanique\", \"botanique\", \"botanique\", \"botaniste\", \"botaniste\", \"bourdelin\", \"brah\\u00e9\", \"b\\u00e9n\\u00e9fice\", \"cadavre\", \"cadavre\", \"cadavre\", \"caen\", \"calcul\", \"calcul\", \"calcul\", \"calcul\", \"calcul\", \"calcul\", \"calcula\", \"calculs\", \"calculs\", \"caract\\u00e8r\", \"caract\\u00e8r\", \"caract\\u00e8r\", \"caract\\u00e8r\", \"caract\\u00e8r\", \"caract\\u00e8r\", \"caract\\u00e8r\", \"caract\\u00e8re\", \"caract\\u00e8re\", \"caract\\u00e8re\", \"caract\\u00e8re\", \"caract\\u00e8re\", \"caract\\u00e8re\", \"caract\\u00e8re\", \"carr\\u00e9\", \"carr\\u00e9\", \"carr\\u00e9\", \"carr\\u00e9\", \"carte\", \"carte\", \"carte\", \"carte\", \"castel\", \"centrifuge\", \"centrifuge\", \"cercl\", \"chaire\", \"chaire\", \"chaire\", \"chaire\", \"chaire\", \"chal\", \"chalumeau\", \"chancelier\", \"chancelier\", \"chara\", \"charbon\", \"charbon\", \"chaumi\\u00e8re\", \"chef\", \"chef\", \"chef\", \"chef\", \"chef\", \"chercher\", \"chercher\", \"chercher\", \"chercher\", \"chercher\", \"chercher\", \"chercher\", \"chercher\", \"chevalier\", \"chevalier\", \"chevalier\", \"chevalier\", \"chevalier\", \"chimi\", \"chimie\", \"chimie\", \"chimie\", \"chimie\", \"chimie\", \"chimie\", \"chimique\", \"chimique\", \"chimique\", \"chimique\", \"chimiste\", \"chimiste\", \"chimiste\", \"chirurgien\", \"chirurgien\", \"chirurgien\", \"chirurgien\", \"choiseul\", \"cite\", \"citoyen\", \"citoyen\", \"citoyen\", \"citoyen\", \"citoyen\", \"classer\", \"classer\", \"clerger\", \"clo\\u00eetre\", \"clo\\u00eetre\", \"coll\\u00e8ge\", \"coll\\u00e8ge\", \"coll\\u00e8ge\", \"colombe\", \"commentair\", \"commentair\", \"commentair\", \"commerc\", \"commun\", \"commun\", \"commun\", \"commun\", \"commun\", \"commun\", \"commun\", \"commun\", \"commun\", \"communauter\", \"compagnon\", \"compagnon\", \"compagnon\", \"compagnon\", \"compagnon\", \"complication\", \"compl\\u00e9ment\", \"comtat\", \"com\\u00e8t\", \"com\\u00e8te\", \"com\\u00e8te\", \"com\\u00e8te\", \"concentration\", \"condamin\", \"condamine\", \"condamine\", \"condorcet\", \"conduire\", \"conduire\", \"conduire\", \"conduire\", \"conduire\", \"conduire\", \"conduire\", \"connaissance\", \"connaissance\", \"connaissance\", \"connaissance\", \"connaissance\", \"connaissance\", \"connaissance\", \"connaissance\", \"connaissance\", \"conna\\u00eetre\", \"conna\\u00eetre\", \"conna\\u00eetre\", \"conna\\u00eetre\", \"conna\\u00eetre\", \"conna\\u00eetre\", \"conna\\u00eetre\", \"conna\\u00eetre\", \"conna\\u00eetre\", \"conserva\", \"conserva\", \"conserver\", \"conserver\", \"conserver\", \"conserver\", \"conserver\", \"conserver\", \"conserver\", \"conserver\", \"contention\", \"contenu\", \"contiennent\", \"contiennent\", \"contiennent\", \"contiennent\", \"contre\", \"contre\", \"contre\", \"contre\", \"contre\", \"contre\", \"contre\", \"contre\", \"convaincre\", \"convaincre\", \"convaincre\", \"convention\", \"conversation\", \"conversation\", \"corps\", \"corps\", \"corps\", \"corps\", \"corps\", \"corps\", \"corps\", \"corps\", \"courage\", \"courage\", \"courage\", \"courage\", \"courage\", \"courage\", \"courage\", \"courage\", \"courbe\", \"courbe\", \"courbe\", \"courbe\", \"courcillon\", \"cowper\", \"crime\", \"crime\", \"crime\", \"cristallisation\", \"cristallisation\", \"cristallisation\", \"croire\", \"croire\", \"croire\", \"croire\", \"croire\", \"croire\", \"croire\", \"croire\", \"croire\", \"cr\\u00e9dulit\\u00e9\", \"cr\\u00e9dulit\\u00e9\", \"cr\\u00e9dulit\\u00e9\", \"cuen\\u00e7er\", \"cuiseau\", \"cultiv\\u00e8rent\", \"cureau\", \"cyclo\\u00efde\", \"cyclo\\u00efde\", \"c\\u00e9l\\u00e8bre\", \"c\\u00e9l\\u00e8bre\", \"c\\u00e9l\\u00e8bre\", \"c\\u00e9l\\u00e8bre\", \"c\\u00e9l\\u00e8bre\", \"c\\u00e9l\\u00e8bre\", \"c\\u00e9l\\u00e8bre\", \"c\\u00e9l\\u00e8bre\", \"danois\", \"degr\\u00e9\", \"degr\\u00e9\", \"degr\\u00e9\", \"degr\\u00e9\", \"degr\\u00e9\", \"degr\\u00e9\", \"demanda\", \"denrer\", \"descarte\", \"descarte\", \"descarte\", \"descarte\", \"descarte\", \"desir\", \"destiner\", \"destiner\", \"destiner\", \"destiner\", \"destiner\", \"destiner\", \"destiner\", \"destiner\", \"dette\", \"dette\", \"dette\", \"dette\", \"devenir\", \"devenir\", \"devenir\", \"devenir\", \"devenir\", \"devenir\", \"devenir\", \"devenir\", \"devoir\", \"devoir\", \"devoir\", \"devoir\", \"devoir\", \"devoir\", \"devoir\", \"devoir\", \"devoir\", \"devoir\", \"dext\\u00e9rit\\u00e9\", \"diamer\", \"difficile\", \"difficile\", \"difficile\", \"difficile\", \"difficile\", \"difficile\", \"difficile\", \"difficulter\", \"difficulter\", \"difficulter\", \"difficulter\", \"difficulter\", \"diff\\u00e9rentiel\", \"diff\\u00e9rentiel\", \"diff\\u00e9rentiel\", \"digne\", \"digne\", \"digne\", \"digne\", \"digne\", \"digne\", \"digne\", \"dijon\", \"disciple\", \"disciple\", \"disciple\", \"disciple\", \"disciple\", \"disciple\", \"disgracier\", \"dispensent\", \"dispos\\u00e9e\", \"distance\", \"distance\", \"distance\", \"distance\", \"donne\", \"donne\", \"donne\", \"donne\", \"donne\", \"donne\", \"donne\", \"donner\", \"donner\", \"donner\", \"donner\", \"donner\", \"donner\", \"donner\", \"donner\", \"donner\", \"donner\", \"doudeauville\", \"doyen\", \"duc\", \"duc\", \"duc\", \"duc\", \"duc\", \"duc\", \"d\\u00e9couverte\", \"d\\u00e9couverte\", \"d\\u00e9couverte\", \"d\\u00e9couverte\", \"d\\u00e9couverte\", \"d\\u00e9couverte\", \"d\\u00e9couverte\", \"d\\u00e9couverte\", \"d\\u00e9couverte\", \"d\\u00e9couvrir\", \"d\\u00e9couvrir\", \"d\\u00e9couvrir\", \"d\\u00e9couvrir\", \"d\\u00e9couvrir\", \"d\\u00e9couvrir\", \"d\\u00e9couvrir\", \"d\\u00e9couvrir\", \"d\\u00e9couvrir\", \"d\\u00e9crir\", \"d\\u00e9crir\", \"d\\u00e9crir\", \"d\\u00e9crire\", \"d\\u00e9crire\", \"d\\u00e9crire\", \"d\\u00e9crire\", \"d\\u00e9crire\", \"d\\u00e9crire\", \"d\\u00e9crire\", \"d\\u00e9crite\", \"d\\u00e9daign\\u00e8rent\", \"d\\u00e9licieuse\", \"d\\u00e9lier\", \"d\\u00e9mon\", \"d\\u00e9monstrateur\", \"d\\u00e9monstrateur\", \"d\\u00e9monstration\", \"d\\u00e9monstration\", \"d\\u00e9monstration\", \"d\\u00e9monstration\", \"d\\u00e9montra\", \"d\\u00e9partement\", \"d\\u00e9partement\", \"d\\u00e9partement\", \"d\\u00e9plair\", \"d\\u00e9rob\", \"d\\u00e9sarm\", \"d\\u00e9savantage\", \"d\\u00e9shonorer\", \"d\\u00e9shonorer\", \"d\\u00e9sint\\u00e9ress\\u00e9e\", \"d\\u00e9tail\", \"d\\u00e9tail\", \"d\\u00e9tail\", \"d\\u00e9tail\", \"d\\u00e9tail\", \"d\\u00e9tail\", \"d\\u00e9tail\", \"d\\u00e9tail\", \"d\\u00e9terminer\", \"d\\u00e9terminer\", \"d\\u00e9terminer\", \"d\\u00e9terminer\", \"d\\u00e9terminer\", \"d\\u00e9terminer\", \"d\\u00e9terminer\", \"d\\u00e9tonation\", \"d\\u00e9votion\", \"d\\u00e9votion\", \"effor\\u00e7a\", \"empirique\", \"empirique\", \"employer\", \"employer\", \"employer\", \"employer\", \"employer\", \"employer\", \"employer\", \"employer\", \"employer\", \"employer\", \"emp\\u00each\\u00e8rent\", \"emp\\u00each\\u00e8rent\", \"ennemis\", \"ennemis\", \"ennemis\", \"enseignaient\", \"entra\\u00eener\", \"entra\\u00eener\", \"entra\\u00eener\", \"entreprise\", \"entreprise\", \"entreprise\", \"entreprise\", \"erreur\", \"erreur\", \"erreur\", \"erreur\", \"erreur\", \"erreur\", \"erreur\", \"erreur\", \"escadre\", \"esprit\", \"esprit\", \"esprit\", \"esprit\", \"esprit\", \"esprit\", \"esprit\", \"esprit\", \"esprit\", \"esprit\", \"esp\\u00e8ce\", \"esp\\u00e8ce\", \"esp\\u00e8ce\", \"esp\\u00e8ce\", \"esp\\u00e8ce\", \"esp\\u00e8ce\", \"esp\\u00e8ce\", \"esp\\u00e8ce\", \"esp\\u00e8ce\", \"euler\", \"euler\", \"exclure\", \"excuser\", \"excuser\", \"exprsssion\", \"exp\\u00e9rience\", \"exp\\u00e9rience\", \"exp\\u00e9rience\", \"exp\\u00e9rience\", \"exp\\u00e9rience\", \"exp\\u00e9rience\", \"exp\\u00e9rience\", \"extraction\", \"extraction\", \"ex\\u00e9cuter\", \"ex\\u00e9cuter\", \"ex\\u00e9cuter\", \"ex\\u00e9cuter\", \"ex\\u00e9cuter\", \"fabuleux\", \"faire\", \"faire\", \"faire\", \"faire\", \"faire\", \"faire\", \"faire\", \"faire\", \"faire\", \"faire\", \"falloir\", \"falloir\", \"falloir\", \"falloir\", \"falloir\", \"falloir\", \"falloir\", \"falloir\", \"falloir\", \"falloir\", \"farin\", \"fass\", \"fass\", \"fass\", \"faudrait\", \"faute\", \"faute\", \"fauter\", \"fauter\", \"femelle\", \"femelle\", \"femelle\", \"figuier\", \"finie\", \"finie\", \"finie\", \"fixe\", \"fixe\", \"fixe\", \"fixe\", \"fixe\", \"fleur\", \"fleur\", \"fleur\", \"foie\", \"foie\", \"foie\", \"force\", \"force\", \"force\", \"force\", \"force\", \"force\", \"force\", \"force\", \"forme\", \"forme\", \"forme\", \"forme\", \"forme\", \"forme\", \"forme\", \"fourbe\", \"fourbe\", \"fournirent\", \"fran\\u00e7ais\", \"fran\\u00e7ais\", \"fran\\u00e7ais\", \"fran\\u00e7ais\", \"fran\\u00e7ais\", \"fran\\u00e7ais\", \"fran\\u00e7ais\", \"frenicl\", \"frenicle\", \"fructification\", \"fr\\u00e8re\", \"fr\\u00e8re\", \"fr\\u00e8re\", \"fr\\u00e8re\", \"fr\\u00e8re\", \"fr\\u00e8re\", \"f\\u00e9condation\", \"f\\u00e9condation\", \"f\\u00e9conde\", \"f\\u00e9conder\", \"f\\u00e9conder\", \"gastrique\", \"gaz\", \"genre\", \"genre\", \"genre\", \"genre\", \"genre\", \"genre\", \"genre\", \"genre\", \"gerbert\", \"giratoire\", \"glande\", \"globule\", \"globule\", \"gloir\", \"gloir\", \"gloir\", \"gloir\", \"gloir\", \"gloir\", \"gloir\", \"gloir\", \"gloir\", \"gloir\", \"gottingue\", \"go\\u00fbt\", \"go\\u00fbt\", \"go\\u00fbt\", \"go\\u00fbt\", \"go\\u00fbt\", \"go\\u00fbt\", \"go\\u00fbt\", \"go\\u00fbt\", \"go\\u00fbt\", \"grand_nombre\", \"grand_nombre\", \"grand_nombre\", \"grand_nombre\", \"grand_nombre\", \"grand_nombre\", \"grand_nombre\", \"grand_nombre\", \"grecque\", \"grille\", \"gr\\u00e8s\", \"gr\\u00e8s\", \"g\\u00e9nie\", \"g\\u00e9nie\", \"g\\u00e9nie\", \"g\\u00e9nie\", \"g\\u00e9nie\", \"g\\u00e9nie\", \"g\\u00e9nie\", \"g\\u00e9nie\", \"g\\u00e9nie\", \"g\\u00e9ographie\", \"g\\u00e9ographie\", \"g\\u00e9ographie\", \"g\\u00e9ographie\", \"g\\u00e9om\\u00e8tre\", \"g\\u00e9om\\u00e8tre\", \"g\\u00e9om\\u00e8tre\", \"g\\u00e9om\\u00e8tre\", \"g\\u00e9om\\u00e8tre\", \"g\\u00e9om\\u00e8tre\", \"g\\u00e9om\\u00e9trie\", \"g\\u00e9om\\u00e9trie\", \"g\\u00e9om\\u00e9trie\", \"g\\u00e9om\\u00e9trie\", \"g\\u00e9om\\u00e9trie\", \"haller\", \"hermaphrodite\", \"histoire\", \"histoire\", \"histoire\", \"histoire\", \"histoire\", \"histoire\", \"histoire\", \"histoire\", \"histoire\", \"hollandais\", \"hollandais\", \"hollandais\", \"homme\", \"homme\", \"homme\", \"homme\", \"homme\", \"homme\", \"homme\", \"homme\", \"homme\", \"homme\", \"homog\\u00e8ne\", \"homog\\u00e8ne\", \"honneur\", \"honneur\", \"honneur\", \"honneur\", \"honneur\", \"honneur\", \"honneur\", \"honneur\", \"hopital\", \"horloge\", \"horreur\", \"humain\", \"humain\", \"humain\", \"humain\", \"humain\", \"humain\", \"humain\", \"humain\", \"humain\", \"hunter\", \"huygen\", \"huygen\", \"imagination\", \"imagination\", \"imagination\", \"imagination\", \"imagination\", \"imagination\", \"imagination\", \"imagination\", \"imbiber\", \"imp\\u00f4t\", \"imp\\u00f4t\", \"inapplication\", \"incendier\", \"indigent\", \"individu\", \"individu\", \"individu\", \"individu\", \"ind\\u00e9finier\", \"infectaient\", \"infiniter\", \"infusion\", \"infusion\", \"injection\", \"inoculation\", \"inoculation\", \"instrument\", \"instrument\", \"instrument\", \"instrument\", \"instrument\", \"intellectuel\", \"intellectuel\", \"intrigue\", \"intrigue\", \"intrigue\", \"int\\u00e9gration\", \"int\\u00e9gration\", \"int\\u00e9r\\u00eat\", \"int\\u00e9r\\u00eat\", \"int\\u00e9r\\u00eat\", \"int\\u00e9r\\u00eat\", \"int\\u00e9r\\u00eat\", \"int\\u00e9r\\u00eat\", \"int\\u00e9r\\u00eat\", \"int\\u00e9r\\u00eat\", \"irland\", \"jamais\", \"jamais\", \"jamais\", \"jamais\", \"jamais\", \"jamais\", \"jamais\", \"jamais\", \"jamais\", \"jamais\", \"jardin\", \"jardin\", \"jardin\", \"jeaurat\", \"joue\", \"jour\", \"jour\", \"jour\", \"jour\", \"jour\", \"jour\", \"jour\", \"jour\", \"jour\", \"jussieu\", \"justifier\", \"justifier\", \"justifier\", \"justifier\", \"laboratoir\", \"laboratoir\", \"laboratoire\", \"lassone\", \"latinit\\u00e9\", \"lettre\", \"lettre\", \"lettre\", \"lettre\", \"lettre\", \"leuwenhoeck\", \"le\\u00e7on\", \"le\\u00e7on\", \"le\\u00e7on\", \"le\\u00e7on\", \"libert\\u00e9\", \"libert\\u00e9\", \"libert\\u00e9\", \"libert\\u00e9\", \"libert\\u00e9\", \"libre\", \"libre\", \"libre\", \"lieue\", \"linnaeu\", \"linner\", \"linner\", \"linn\\u00e9\", \"linn\\u00e9\", \"liqueur\", \"liqueur\", \"liqueur\", \"liqueur\", \"liqueur\", \"liqueur\", \"lisant\", \"list\", \"livra\", \"livra\", \"livrer\", \"livrer\", \"livrer\", \"livrer\", \"livrer\", \"livrer\", \"livrer\", \"lob\", \"loi\", \"loi\", \"loi\", \"loi\", \"loi\", \"loi\", \"loi\", \"loi\", \"longitude\", \"lorrain\", \"lorsqu\", \"lorsqu\", \"lorsqu\", \"lorsqu\", \"lorsqu\", \"lorsqu\", \"lorsqu\", \"lorsqu\", \"lorsqu\", \"loterie\", \"lumi\\u00e8re\", \"lumi\\u00e8re\", \"lumi\\u00e8re\", \"lumi\\u00e8re\", \"lumi\\u00e8re\", \"lumi\\u00e8re\", \"lumi\\u00e8re\", \"lumi\\u00e8re\", \"luyne\", \"lymphatique\", \"l\\u00e9thargie\", \"macquer\", \"macquer\", \"madame\", \"magistratur\", \"maison\", \"maison\", \"maison\", \"maison\", \"maison\", \"maison\", \"maison\", \"malheur\", \"malheur\", \"malheur\", \"malheur\", \"malheur\", \"malheur\", \"malheur\", \"malheur\", \"malheur\", \"malouin\", \"manipulation\", \"mani\\u00e8re\", \"mani\\u00e8re\", \"mani\\u00e8re\", \"mani\\u00e8re\", \"mani\\u00e8re\", \"mani\\u00e8re\", \"mani\\u00e8re\", \"marine\", \"marine\", \"marine\", \"marine\", \"mariotte\", \"marqui\", \"marqui\", \"marqui\", \"marquis\", \"marquis\", \"marquis\", \"marquis\", \"math\\u00e9matique\", \"math\\u00e9matique\", \"math\\u00e9matique\", \"math\\u00e9matique\", \"math\\u00e9matique\", \"math\\u00e9matique\", \"mesure\", \"mesure\", \"mesure\", \"mesure\", \"mesurer\", \"mesurer\", \"mesurer\", \"mesurer\", \"mesurer\", \"microscopique\", \"microscopique\", \"militaire\", \"militaire\", \"militaire\", \"militaire\", \"militaire\", \"ministre\", \"ministre\", \"ministre\", \"ministre\", \"ministre\", \"minist\\u00e8re\", \"minist\\u00e8re\", \"minist\\u00e8re\", \"minute\", \"mod\\u00e8le\", \"montmirail\", \"morale\", \"mort\", \"mort\", \"mort\", \"mort\", \"mort\", \"mort\", \"mort\", \"mort\", \"mort\", \"mou\", \"moururent\", \"mouvement\", \"mouvement\", \"mouvement\", \"mouvement\", \"mouvement\", \"mouvement\", \"mouvement\", \"musschenbroek\", \"mus\\u00e9um\", \"m\\u00e2le\", \"m\\u00e2le\", \"m\\u00e9chanceter\", \"m\\u00e9chanceter\", \"m\\u00e9daill\", \"m\\u00e9decin\", \"m\\u00e9decin\", \"m\\u00e9decin\", \"m\\u00e9decin\", \"m\\u00e9decin\", \"m\\u00e9decin\", \"m\\u00e9decine\", \"m\\u00e9decine\", \"m\\u00e9decine\", \"m\\u00e9decine\", \"m\\u00e9decine\", \"m\\u00e9ler\", \"m\\u00e9me\", \"m\\u00e9moire\", \"m\\u00e9moire\", \"m\\u00e9moire\", \"m\\u00e9moire\", \"m\\u00e9moire\", \"m\\u00e9moire\", \"m\\u00e9moire\", \"m\\u00e9moire\", \"m\\u00e9ridien\", \"m\\u00e9ridien\", \"m\\u00e9ridien\", \"m\\u00e9ridienne\", \"m\\u00e9ridienne\", \"m\\u00e9tallique\", \"m\\u00e9tallique\", \"m\\u00e9thod\", \"m\\u00e9thod\", \"m\\u00e9thod\", \"m\\u00e9thod\", \"m\\u00e9thod\", \"m\\u00e9thod\", \"m\\u00e9thod\", \"m\\u00e9thod\", \"m\\u00e9thode\", \"m\\u00e9thode\", \"m\\u00e9thode\", \"m\\u00e9thode\", \"m\\u00e9thode\", \"m\\u00e9thode\", \"m\\u00e9thode\", \"m\\u00e9thode\", \"m\\u00e9thode\", \"m\\u00eale\", \"naissant\", \"nation\", \"nation\", \"nation\", \"nation\", \"nation\", \"nation\", \"nation\", \"nation\", \"naturaliste\", \"naturaliste\", \"naturaliste\", \"naturaliste\", \"naturaliste\", \"nature\", \"nature\", \"nature\", \"nature\", \"nature\", \"nature\", \"nature\", \"nature\", \"nature\", \"nature\", \"navigateur\", \"neufs\", \"non\", \"non\", \"non\", \"non\", \"non\", \"non\", \"non\", \"non\", \"nourritur\", \"objet\", \"objet\", \"objet\", \"objet\", \"objet\", \"objet\", \"objet\", \"objet\", \"objet\", \"obliger\", \"obliger\", \"obliger\", \"obliger\", \"obliger\", \"obliger\", \"obliger\", \"observateur\", \"observateur\", \"observateur\", \"observateur\", \"observateur\", \"observateur\", \"observation\", \"observation\", \"observation\", \"observation\", \"observation\", \"observation\", \"observation\", \"observation\", \"observation\", \"observatoir\", \"occulte\", \"opinion\", \"opinion\", \"opinion\", \"opinion\", \"opinion\", \"opinion\", \"opinion\", \"op\\u00e9ration\", \"op\\u00e9ration\", \"op\\u00e9ration\", \"op\\u00e9ration\", \"op\\u00e9ration\", \"op\\u00e9ration\", \"op\\u00e9ration\", \"oracle\", \"ordre\", \"ordre\", \"ordre\", \"ordre\", \"ordre\", \"ordre\", \"ordre\", \"ordre\", \"ordre\", \"orgueil\", \"ouvrage\", \"ouvrage\", \"ouvrage\", \"ouvrage\", \"ouvrage\", \"ouvrage\", \"ouvrage\", \"ouvrage\", \"ouvrage\", \"ouvrage\", \"paradox\", \"parallaxe\", \"pardonnera\", \"parmentier\", \"parti\", \"parti\", \"particule\", \"particule\", \"particule\", \"partie\", \"partie\", \"partie\", \"partie\", \"partie\", \"partie\", \"partie\", \"partie\", \"partiel\", \"partiel\", \"partout\", \"party\", \"party\", \"party\", \"party\", \"party\", \"party\", \"party\", \"paulmy\", \"pay\", \"pay\", \"peine\", \"peine\", \"peine\", \"peine\", \"peine\", \"peine\", \"peine\", \"peine\", \"pendul\", \"pendul\", \"pendul\", \"pendule\", \"pendule\", \"pendule\", \"penser\", \"penser\", \"penser\", \"penser\", \"penser\", \"penser\", \"pens\\u00e9e\", \"perdre\", \"perdre\", \"perdre\", \"perdre\", \"perdre\", \"perdre\", \"perdre\", \"perdre\", \"perp\\u00e9tuit\\u00e9\", \"perrault\", \"persista\", \"petit\", \"petit\", \"petit\", \"petit\", \"petit\", \"petit\", \"petit\", \"petit\", \"petit\", \"peuple\", \"peuple\", \"peuple\", \"peuple\", \"peuple\", \"peuple\", \"peuple\", \"peuple\", \"peuple\", \"peyssonnel\", \"philosophe\", \"philosophe\", \"philosophe\", \"philosophe\", \"philosophe\", \"philosophe\", \"philosophe\", \"philosophe\", \"phlogistiqu\", \"phlogistiqu\", \"picard\", \"pierr\", \"pierr\", \"pierr\", \"pistil\", \"pitcarne\", \"pi\\u00e9t\\u00e9\", \"pi\\u00e9t\\u00e9\", \"pi\\u00e9t\\u00e9\", \"pi\\u00e9t\\u00e9\", \"pi\\u00e9t\\u00e9\", \"place\", \"place\", \"place\", \"place\", \"place\", \"place\", \"place\", \"place\", \"place\", \"plaisir\", \"plaisir\", \"plaisir\", \"plaisir\", \"plaisir\", \"plaisir\", \"plaisir\", \"plaisir\", \"plaisir\", \"plaisir\", \"planche\", \"planche\", \"plant\", \"plant\", \"plante\", \"plante\", \"plante\", \"plante\", \"plante\", \"plante\", \"plante\", \"plan\\u00e8t\", \"plan\\u00e8t\", \"platine\", \"pleurait\", \"pl\\u00e9nipotentiaire\", \"poindre\", \"poindre\", \"poindre\", \"poindre\", \"poindre\", \"poindre\", \"poindre\", \"poindre\", \"poindre\", \"point\", \"point\", \"point\", \"point\", \"point\", \"point\", \"point\", \"point\", \"point\", \"polonais\", \"porcelaine\", \"porter\", \"porter\", \"porter\", \"porter\", \"porter\", \"porter\", \"porter\", \"porter\", \"porter\", \"position\", \"position\", \"position\", \"position\", \"position\", \"poudre\", \"poussi\\u00e8r\", \"poussi\\u00e8r\", \"poussi\\u00e8re\", \"pouvoir\", \"pouvoir\", \"pouvoir\", \"pouvoir\", \"pouvoir\", \"pouvoir\", \"pouvoir\", \"pouvoir\", \"pouvoir\", \"pouvoir\", \"praslin\", \"praticabler\", \"pratique\", \"pratique\", \"pratique\", \"pratique\", \"pratique\", \"pratique\", \"pratique\", \"prendre\", \"prendre\", \"prendre\", \"prendre\", \"prendre\", \"prendre\", \"prendre\", \"presque\", \"presque\", \"presque\", \"presque\", \"presque\", \"presque\", \"presque\", \"presque\", \"primat\", \"principe\", \"principe\", \"principe\", \"principe\", \"principe\", \"principe\", \"principe\", \"principe\", \"principe\", \"probabilit\\u00e9\", \"probl\\u00e8m\", \"probl\\u00e8m\", \"probl\\u00e8m\", \"probl\\u00e8m\", \"probl\\u00e8m\", \"probl\\u00e8me\", \"probl\\u00e8me\", \"probl\\u00e8me\", \"probl\\u00e8me\", \"probl\\u00e8me\", \"professer\", \"professer\", \"professer\", \"professer\", \"professeur\", \"professeur\", \"professeur\", \"professeur\", \"professeur\", \"projectile\", \"promptitude\", \"prouv\\u00e9\", \"pr\\u00e9c\\u00e9der\", \"pr\\u00e9c\\u00e9der\", \"pr\\u00e9c\\u00e9der\", \"pr\\u00e9c\\u00e9der\", \"pr\\u00e9f\\u00e9rence\", \"pr\\u00e9f\\u00e9rence\", \"pr\\u00e9f\\u00e9rence\", \"pr\\u00e9f\\u00e9rence\", \"pr\\u00e9f\\u00e9rence\", \"pr\\u00e9sage\", \"pr\\u00e9serv\\u00e8rent\", \"publia\", \"publia\", \"publia\", \"publia\", \"publier\", \"publier\", \"publier\", \"publier\", \"publier\", \"publier\", \"publier\", \"publier\", \"puisser\", \"pulpeux\", \"pu\\u00e9ril\", \"p\\u00e8r\", \"p\\u00e8r\", \"p\\u00e8r\", \"p\\u00e8r\", \"p\\u00e8r\", \"p\\u00e8r\", \"p\\u00e8r\", \"p\\u00e8r\", \"p\\u00e8r\", \"p\\u00e8re\", \"p\\u00e8re\", \"p\\u00e8re\", \"p\\u00e8re\", \"p\\u00e8re\", \"p\\u00e8re\", \"p\\u00e8re\", \"p\\u00e8re\", \"p\\u0153t\", \"quelquefois\", \"quelquefois\", \"quelquefois\", \"quelquefois\", \"quelquefois\", \"quelquefois\", \"quelquefois\", \"quelquefois\", \"quelquefois\", \"question\", \"question\", \"question\", \"question\", \"question\", \"question\", \"quil\", \"quito\", \"radeau\", \"raison\", \"raison\", \"raison\", \"raison\", \"raison\", \"raison\", \"raison\", \"rat\", \"rat\", \"rebutant\", \"recette\", \"recevoir\", \"recevoir\", \"recevoir\", \"recevoir\", \"recevoir\", \"recevoir\", \"recevoir\", \"recevoir\", \"recherche\", \"recherche\", \"recherche\", \"recherche\", \"recherche\", \"recherche\", \"recherche\", \"recherche\", \"recherch\\u00e9\", \"regarder\", \"regarder\", \"regarder\", \"regarder\", \"regarder\", \"regarder\", \"regarder\", \"regarder\", \"regarder\", \"regardon\", \"rejaillir\", \"religion\", \"religion\", \"religion\", \"religion\", \"religion\", \"remercier\", \"rem\\u00e8de\", \"rem\\u00e8de\", \"rem\\u00e8de\", \"rem\\u00e8de\", \"rem\\u00e8de\", \"rem\\u00e8de\", \"rem\\u00e8de\", \"renaissanter\", \"renferment\", \"renferment\", \"renferment\", \"renouvellement\", \"renouvellement\", \"reproduction\", \"reproduction\", \"reproduction\", \"rer\", \"retir\", \"retir\", \"ridicule\", \"ridicule\", \"ridicule\", \"ridicule\", \"ridicule\", \"ridicule\", \"ridicule\", \"robin\", \"rohaut\", \"roi\", \"roi\", \"roi\", \"roi\", \"roi\", \"roi\", \"roi\", \"roi\", \"roman\", \"roman\", \"roman\", \"rouelle\", \"rouelle\", \"r\\u00e9former\", \"r\\u00e9fraction\", \"r\\u00e9fraction\", \"r\\u00e9fraction\", \"r\\u00e9pandirent\", \"r\\u00e9publicain\", \"r\\u00e9publique\", \"r\\u00e9publique\", \"r\\u00e9publique\", \"r\\u00e9publique\", \"r\\u00e9putation\", \"r\\u00e9putation\", \"r\\u00e9putation\", \"r\\u00e9putation\", \"r\\u00e9putation\", \"r\\u00e9putation\", \"r\\u00e9putation\", \"r\\u00e9putation\", \"sagacit\\u00e9\", \"sagacit\\u00e9\", \"sagacit\\u00e9\", \"sagacit\\u00e9\", \"sagacit\\u00e9\", \"savoir\", \"savoir\", \"savoir\", \"savoir\", \"savoir\", \"savoir\", \"savoir\", \"savoir\", \"savoir\", \"savoir\", \"sch\\u00e9ell\", \"science\", \"science\", \"science\", \"science\", \"science\", \"science\", \"science\", \"science\", \"science\", \"science\", \"scrupuleusement\", \"sel\", \"sel\", \"sel\", \"sel\", \"sensation\", \"sensation\", \"sentiment\", \"sentiment\", \"sentiment\", \"sentiment\", \"sentiment\", \"sentiment\", \"sentiment\", \"sentiment\", \"sentir\", \"sentir\", \"sentir\", \"sentir\", \"sentir\", \"sentir\", \"sentir\", \"sentir\", \"sentir\", \"sentir\", \"sentira\", \"sentira\", \"servir\", \"servir\", \"servir\", \"servir\", \"servir\", \"servir\", \"servir\", \"servir\", \"servir\", \"seur\", \"sinc\\u00e9rit\\u00e9\", \"singulier\", \"singulier\", \"singulier\", \"singulier\", \"singulier\", \"singulier\", \"si\\u00e8cle\", \"si\\u00e8cle\", \"si\\u00e8cle\", \"si\\u00e8cle\", \"si\\u00e8cle\", \"si\\u00e8cle\", \"si\\u00e8cle\", \"si\\u00e8cle\", \"si\\u00e8cle\", \"soci\\u00e9t\\u00e9\", \"soci\\u00e9t\\u00e9\", \"soci\\u00e9t\\u00e9\", \"soci\\u00e9t\\u00e9\", \"soci\\u00e9t\\u00e9\", \"soci\\u00e9t\\u00e9\", \"soci\\u00e9t\\u00e9\", \"soci\\u00e9t\\u00e9\", \"soci\\u00e9t\\u00e9\", \"soleil\", \"soleil\", \"soleil\", \"solution\", \"solution\", \"solution\", \"solution\", \"solution\", \"sommet\", \"song\", \"song\", \"souiller\", \"souiller\", \"spermatique\", \"sph\\u00e9rique\", \"spontan\\u00e9\", \"stigmat\", \"structure\", \"structure\", \"structure\", \"substance\", \"substance\", \"substance\", \"substance\", \"substance\", \"subtil\", \"suc\", \"suc\", \"successif\", \"superstitieux\", \"superstitieux\", \"superstitieux\", \"su\\u00e8de\", \"su\\u00e8de\", \"syst\\u00e9matiquer\", \"s\\u00e9datif\", \"s\\u00e9rieusement\", \"s\\u00e9rieusement\", \"s\\u00e9rieusement\", \"s\\u00e9rieusement\", \"tabl\", \"talent\", \"talent\", \"talent\", \"talent\", \"talent\", \"talent\", \"talent\", \"talent\", \"talent\", \"tangent\", \"tautochrone\", \"tautochrone\", \"teinture\", \"temp\\u00e9rature\", \"temp\\u00e9rature\", \"temp\\u00e9rature\", \"temp\\u00e9rature\", \"terre\", \"terre\", \"terre\", \"terre\", \"terre\", \"terre\", \"terre\", \"thury\", \"th\\u00e9orie\", \"th\\u00e9orie\", \"th\\u00e9orie\", \"th\\u00e9orie\", \"th\\u00e9orie\", \"th\\u00e9orie\", \"th\\u00e9or\\u00e8m\", \"tierce\", \"tig\", \"toise\", \"toise\", \"tourbillon\", \"tourbillon\", \"tourbillon\", \"tranquillement\", \"transformait\", \"travail\", \"travail\", \"travail\", \"travail\", \"travail\", \"travail\", \"travail\", \"travail\", \"travail\", \"travail\", \"triangle\", \"triangle\", \"triangle\", \"trianon\", \"trop\", \"trop\", \"trop\", \"trop\", \"trop\", \"trop\", \"trop\", \"trop\", \"trop\", \"trouver\", \"trouver\", \"trouver\", \"trouver\", \"trouver\", \"trouver\", \"trouver\", \"trouver\", \"trouver\", \"trudaine\", \"turc\", \"tycho\", \"t\\u00eate\", \"t\\u00eate\", \"t\\u00eate\", \"t\\u00eate\", \"t\\u00eate\", \"t\\u00eate\", \"t\\u00eate\", \"vai\", \"vaisseau\", \"vaisseau\", \"vaisseau\", \"vaisseau\", \"vaisseau\", \"vanh\\u0153y\", \"vapeur\", \"variation\", \"variation\", \"variation\", \"vase\", \"vase\", \"veine\", \"veine\", \"veine\", \"venin\", \"venise\", \"verbeux\", \"vertu\", \"vertu\", \"vertu\", \"vertu\", \"vertu\", \"vertueux\", \"vertueux\", \"vertueux\", \"vertueux\", \"viande\", \"viande\", \"vibration\", \"vibration\", \"vie\", \"vie\", \"vie\", \"vie\", \"vie\", \"vie\", \"vie\", \"vie\", \"vie\", \"vie\", \"ville\", \"ville\", \"ville\", \"ville\", \"vinaigre\", \"violer\", \"vip\\u00e8r\", \"vip\\u00e8re\", \"vitesse\", \"vitesse\", \"vitesse\", \"voeu\", \"voie\", \"voir\", \"voir\", \"voir\", \"voir\", \"voir\", \"voir\", \"voir\", \"voir\", \"voir\", \"volatil\", \"volonter\", \"vouloir\", \"vouloir\", \"vouloir\", \"vouloir\", \"vouloir\", \"vouloir\", \"vouloir\", \"vouloir\", \"vouloir\", \"voyage\", \"voyage\", \"voyage\", \"voyage\", \"vraisemblance\", \"v\\u00e9rification\", \"v\\u00e9rifier\", \"v\\u00e9rifier\", \"v\\u00e9rifier\", \"v\\u00e9rifier\", \"v\\u00e9riter\", \"v\\u00e9riter\", \"v\\u00e9riter\", \"v\\u00e9riter\", \"v\\u00e9riter\", \"v\\u00e9riter\", \"v\\u00e9riter\", \"v\\u00e9riter\", \"v\\u00e9riter\", \"v\\u00e9riter\", \"yeux\", \"yeux\", \"yeux\", \"yeux\", \"yeux\", \"yeux\", \"yeux\", \"\\u00e9manation\", \"\\u00e9nonce\", \"\\u00e9quateur\", \"\\u00e9quateur\", \"\\u00e9quation\", \"\\u00e9quation\", \"\\u00e9quation\", \"\\u00e9quation\", \"\\u00e9tamine\", \"\\u00e9tamine\", \"\\u00e9trange\"]}, \"R\": 30, \"lambda.step\": 0.01, \"plot.opts\": {\"xlab\": \"PC1\", \"ylab\": \"PC2\"}, \"topic.order\": [3, 10, 8, 11, 14, 4, 13, 6, 9, 12, 5, 7, 1, 2]};\n",
       "\n",
       "function LDAvis_load_lib(url, callback){\n",
       "  var s = document.createElement('script');\n",
       "  s.src = url;\n",
       "  s.async = true;\n",
       "  s.onreadystatechange = s.onload = callback;\n",
       "  s.onerror = function(){console.warn(\"failed to load library \" + url);};\n",
       "  document.getElementsByTagName(\"head\")[0].appendChild(s);\n",
       "}\n",
       "\n",
       "if(typeof(LDAvis) !== \"undefined\"){\n",
       "   // already loaded: just create the visualization\n",
       "   !function(LDAvis){\n",
       "       new LDAvis(\"#\" + \"ldavis_el320801403345522147683254941472\", ldavis_el320801403345522147683254941472_data);\n",
       "   }(LDAvis);\n",
       "}else if(typeof define === \"function\" && define.amd){\n",
       "   // require.js is available: use it to load d3/LDAvis\n",
       "   require.config({paths: {d3: \"https://d3js.org/d3.v5\"}});\n",
       "   require([\"d3\"], function(d3){\n",
       "      window.d3 = d3;\n",
       "      LDAvis_load_lib(\"https://cdn.jsdelivr.net/gh/bmabey/pyLDAvis@3.3.1/pyLDAvis/js/ldavis.v3.0.0.js\", function(){\n",
       "        new LDAvis(\"#\" + \"ldavis_el320801403345522147683254941472\", ldavis_el320801403345522147683254941472_data);\n",
       "      });\n",
       "    });\n",
       "}else{\n",
       "    // require.js not available: dynamically load d3 & LDAvis\n",
       "    LDAvis_load_lib(\"https://d3js.org/d3.v5.js\", function(){\n",
       "         LDAvis_load_lib(\"https://cdn.jsdelivr.net/gh/bmabey/pyLDAvis@3.3.1/pyLDAvis/js/ldavis.v3.0.0.js\", function(){\n",
       "                 new LDAvis(\"#\" + \"ldavis_el320801403345522147683254941472\", ldavis_el320801403345522147683254941472_data);\n",
       "            })\n",
       "         });\n",
       "}\n",
       "</script>"
      ],
      "text/plain": [
       "<IPython.core.display.HTML object>"
      ]
     },
     "execution_count": 33,
     "metadata": {},
     "output_type": "execute_result"
    }
   ],
   "source": [
    "import pyLDAvis.gensim_models\n",
    "\n",
    "pyLDAvis.enable_notebook()\n",
    "\n",
    "topic_data =  pyLDAvis.gensim_models.prepare(ldamodel, doc_term_matrix, dictionary, mds = 'pcoa')\n",
    "pyLDAvis.display(topic_data)"
   ]
  },
  {
   "cell_type": "markdown",
   "id": "acknowledged-produce",
   "metadata": {},
   "source": [
    "## 4. Les éloges commencent par la naissance"
   ]
  },
  {
   "cell_type": "code",
   "execution_count": 34,
   "id": "turkish-florence",
   "metadata": {},
   "outputs": [],
   "source": [
    "new_df = df_cond.copy()\n",
    "new_df = new_df[['Savant', 'Annee', 'Eloge', 'Side_Info', 'Eloge_lem']]"
   ]
  },
  {
   "cell_type": "code",
   "execution_count": 35,
   "id": "economic-wages",
   "metadata": {},
   "outputs": [
    {
     "data": {
      "text/html": [
       "<div>\n",
       "<style scoped>\n",
       "    .dataframe tbody tr th:only-of-type {\n",
       "        vertical-align: middle;\n",
       "    }\n",
       "\n",
       "    .dataframe tbody tr th {\n",
       "        vertical-align: top;\n",
       "    }\n",
       "\n",
       "    .dataframe thead th {\n",
       "        text-align: right;\n",
       "    }\n",
       "</style>\n",
       "<table border=\"1\" class=\"dataframe\">\n",
       "  <thead>\n",
       "    <tr style=\"text-align: right;\">\n",
       "      <th></th>\n",
       "      <th>Savant</th>\n",
       "      <th>Annee</th>\n",
       "      <th>Eloge</th>\n",
       "      <th>Side_Info</th>\n",
       "      <th>Eloge_lem</th>\n",
       "      <th>First_Sent</th>\n",
       "    </tr>\n",
       "  </thead>\n",
       "  <tbody>\n",
       "    <tr>\n",
       "      <th>0</th>\n",
       "      <td>de la Chambre</td>\n",
       "      <td>1773</td>\n",
       "      <td>Marin Cureau de la Chambre, médecin ordinaire ...</td>\n",
       "      <td>[]</td>\n",
       "      <td>Marin cureau chambre médecin ordinaire roi naî...</td>\n",
       "      <td>Marin Cureau de la Chambre, médecin ordinaire ...</td>\n",
       "    </tr>\n",
       "    <tr>\n",
       "      <th>1</th>\n",
       "      <td>Frenicle</td>\n",
       "      <td>1773</td>\n",
       "      <td>Nicolas Frenicle de Bessy, conseiller à la cou...</td>\n",
       "      <td>[]</td>\n",
       "      <td>Nicolas Frenicle Bessy conseiller cour monnaie...</td>\n",
       "      <td>Nicolas Frenicle de Bessy, conseiller à la cou...</td>\n",
       "    </tr>\n",
       "    <tr>\n",
       "      <th>2</th>\n",
       "      <td>Picard</td>\n",
       "      <td>1773</td>\n",
       "      <td>L’abbé Picard naquit dans un temps où Kepler e...</td>\n",
       "      <td>[]</td>\n",
       "      <td>abbé Picard naquit temps Kepler galiler venaie...</td>\n",
       "      <td>L’abbé Picard naquit dans un temps où Kepler e...</td>\n",
       "    </tr>\n",
       "    <tr>\n",
       "      <th>3</th>\n",
       "      <td>Mariotte</td>\n",
       "      <td>1773</td>\n",
       "      <td>Edme Mariotte naquit à Dijon, ou du moins il y...</td>\n",
       "      <td>[]</td>\n",
       "      <td>Edme mariotte naître dijon moins passa partie ...</td>\n",
       "      <td>Edme Mariotte naquit à Dijon, ou du moins il y...</td>\n",
       "    </tr>\n",
       "    <tr>\n",
       "      <th>4</th>\n",
       "      <td>Duclos</td>\n",
       "      <td>1773</td>\n",
       "      <td>Samuel Cotreau Duclos, médecin ordinaire du ro...</td>\n",
       "      <td>[]</td>\n",
       "      <td>Samuel Cotreau Duclos médecin ordinaire roi pr...</td>\n",
       "      <td>Samuel Cotreau Duclos, médecin ordinaire du ro...</td>\n",
       "    </tr>\n",
       "    <tr>\n",
       "      <th>...</th>\n",
       "      <td>...</td>\n",
       "      <td>...</td>\n",
       "      <td>...</td>\n",
       "      <td>...</td>\n",
       "      <td>...</td>\n",
       "      <td>...</td>\n",
       "    </tr>\n",
       "    <tr>\n",
       "      <th>61</th>\n",
       "      <td>Fougeroux</td>\n",
       "      <td>1789</td>\n",
       "      <td>Auguste Denis Fougeroux, de l’Institut de Bolo...</td>\n",
       "      <td>[]</td>\n",
       "      <td>Auguste Denis Fougeroux Institut Bologne socié...</td>\n",
       "      <td>Auguste Denis Fougeroux, de l’Institut de Bolo...</td>\n",
       "    </tr>\n",
       "    <tr>\n",
       "      <th>62</th>\n",
       "      <td>de Fourcroy</td>\n",
       "      <td>1791</td>\n",
       "      <td>Charles-René de Fourcroy, maréchal de camp, gr...</td>\n",
       "      <td>[]</td>\n",
       "      <td>Charles René Fourcroy maréchal camp grand croi...</td>\n",
       "      <td>Charles-René de Fourcroy, maréchal de camp, gr...</td>\n",
       "    </tr>\n",
       "    <tr>\n",
       "      <th>63</th>\n",
       "      <td>Turgot</td>\n",
       "      <td>1789</td>\n",
       "      <td>Étienne-François Turgot, associé libre de l’Ac...</td>\n",
       "      <td>[]</td>\n",
       "      <td>Étienne François Turgot associer libre académi...</td>\n",
       "      <td>Étienne-François Turgot, associé libre de l’Ac...</td>\n",
       "    </tr>\n",
       "    <tr>\n",
       "      <th>64</th>\n",
       "      <td>de L'Hôpital</td>\n",
       "      <td>1777</td>\n",
       "      <td>Chancelier de France. Discours présenté à L’ac...</td>\n",
       "      <td>[]</td>\n",
       "      <td>Chancelier France discours présenter académie ...</td>\n",
       "      <td>Chancelier de France</td>\n",
       "    </tr>\n",
       "    <tr>\n",
       "      <th>65</th>\n",
       "      <td>Pascal</td>\n",
       "      <td>1778</td>\n",
       "      <td>Blaise Pascal naquit à Clermont, en Auvergne, ...</td>\n",
       "      <td>[]</td>\n",
       "      <td>blaise pascal naître Clermont auvergn juin 162...</td>\n",
       "      <td>Blaise Pascal naquit à Clermont, en Auvergne, ...</td>\n",
       "    </tr>\n",
       "  </tbody>\n",
       "</table>\n",
       "<p>66 rows × 6 columns</p>\n",
       "</div>"
      ],
      "text/plain": [
       "           Savant  Annee                                              Eloge  \\\n",
       "0   de la Chambre   1773  Marin Cureau de la Chambre, médecin ordinaire ...   \n",
       "1        Frenicle   1773  Nicolas Frenicle de Bessy, conseiller à la cou...   \n",
       "2          Picard   1773  L’abbé Picard naquit dans un temps où Kepler e...   \n",
       "3        Mariotte   1773  Edme Mariotte naquit à Dijon, ou du moins il y...   \n",
       "4          Duclos   1773  Samuel Cotreau Duclos, médecin ordinaire du ro...   \n",
       "..            ...    ...                                                ...   \n",
       "61      Fougeroux   1789  Auguste Denis Fougeroux, de l’Institut de Bolo...   \n",
       "62    de Fourcroy   1791  Charles-René de Fourcroy, maréchal de camp, gr...   \n",
       "63         Turgot   1789  Étienne-François Turgot, associé libre de l’Ac...   \n",
       "64   de L'Hôpital   1777  Chancelier de France. Discours présenté à L’ac...   \n",
       "65         Pascal   1778  Blaise Pascal naquit à Clermont, en Auvergne, ...   \n",
       "\n",
       "   Side_Info                                          Eloge_lem  \\\n",
       "0         []  Marin cureau chambre médecin ordinaire roi naî...   \n",
       "1         []  Nicolas Frenicle Bessy conseiller cour monnaie...   \n",
       "2         []  abbé Picard naquit temps Kepler galiler venaie...   \n",
       "3         []  Edme mariotte naître dijon moins passa partie ...   \n",
       "4         []  Samuel Cotreau Duclos médecin ordinaire roi pr...   \n",
       "..       ...                                                ...   \n",
       "61        []  Auguste Denis Fougeroux Institut Bologne socié...   \n",
       "62        []  Charles René Fourcroy maréchal camp grand croi...   \n",
       "63        []  Étienne François Turgot associer libre académi...   \n",
       "64        []  Chancelier France discours présenter académie ...   \n",
       "65        []  blaise pascal naître Clermont auvergn juin 162...   \n",
       "\n",
       "                                           First_Sent  \n",
       "0   Marin Cureau de la Chambre, médecin ordinaire ...  \n",
       "1   Nicolas Frenicle de Bessy, conseiller à la cou...  \n",
       "2   L’abbé Picard naquit dans un temps où Kepler e...  \n",
       "3   Edme Mariotte naquit à Dijon, ou du moins il y...  \n",
       "4   Samuel Cotreau Duclos, médecin ordinaire du ro...  \n",
       "..                                                ...  \n",
       "61  Auguste Denis Fougeroux, de l’Institut de Bolo...  \n",
       "62  Charles-René de Fourcroy, maréchal de camp, gr...  \n",
       "63  Étienne-François Turgot, associé libre de l’Ac...  \n",
       "64                               Chancelier de France  \n",
       "65  Blaise Pascal naquit à Clermont, en Auvergne, ...  \n",
       "\n",
       "[66 rows x 6 columns]"
      ]
     },
     "execution_count": 35,
     "metadata": {},
     "output_type": "execute_result"
    }
   ],
   "source": [
    "new_df['First_Sent'] = new_df['Eloge'].apply(lambda x : x.split('.')[0])\n",
    "new_df"
   ]
  },
  {
   "cell_type": "code",
   "execution_count": 36,
   "id": "straight-angle",
   "metadata": {},
   "outputs": [],
   "source": [
    "ls = ['naquit','naitre', 'né']\n",
    "\n",
    "def check_naissance(string):\n",
    "    for word in ls:\n",
    "        if word in string:\n",
    "            return True\n",
    "    return False"
   ]
  },
  {
   "cell_type": "code",
   "execution_count": 37,
   "id": "creative-knowing",
   "metadata": {},
   "outputs": [
    {
     "data": {
      "application/vnd.jupyter.widget-view+json": {
       "model_id": "7cf6fca107124ba29ee46bde79e720c3",
       "version_major": 2,
       "version_minor": 0
      },
      "text/plain": [
       "HBox(children=(HTML(value=''), FloatProgress(value=0.0, max=66.0), HTML(value='')))"
      ]
     },
     "metadata": {},
     "output_type": "display_data"
    },
    {
     "name": "stdout",
     "output_type": "stream",
     "text": [
      "\n"
     ]
    }
   ],
   "source": [
    "new_df['naissance'] = new_df['Eloge'].progress_apply(lambda x : check_naissance(x))"
   ]
  },
  {
   "cell_type": "code",
   "execution_count": 38,
   "id": "organizational-northwest",
   "metadata": {},
   "outputs": [
    {
     "data": {
      "text/html": [
       "<div>\n",
       "<style scoped>\n",
       "    .dataframe tbody tr th:only-of-type {\n",
       "        vertical-align: middle;\n",
       "    }\n",
       "\n",
       "    .dataframe tbody tr th {\n",
       "        vertical-align: top;\n",
       "    }\n",
       "\n",
       "    .dataframe thead th {\n",
       "        text-align: right;\n",
       "    }\n",
       "</style>\n",
       "<table border=\"1\" class=\"dataframe\">\n",
       "  <thead>\n",
       "    <tr style=\"text-align: right;\">\n",
       "      <th></th>\n",
       "      <th>Savant</th>\n",
       "      <th>Annee</th>\n",
       "      <th>Eloge</th>\n",
       "      <th>Side_Info</th>\n",
       "      <th>Eloge_lem</th>\n",
       "      <th>First_Sent</th>\n",
       "      <th>naissance</th>\n",
       "    </tr>\n",
       "  </thead>\n",
       "  <tbody>\n",
       "    <tr>\n",
       "      <th>19</th>\n",
       "      <td>Bianchi</td>\n",
       "      <td>1773</td>\n",
       "      <td>Il est mort en 1760, âgé de quatre-vingts ans,...</td>\n",
       "      <td>[]</td>\n",
       "      <td>mort 1760 âgé quatre vingts an après avoir pro...</td>\n",
       "      <td>Il est mort en 1760, âgé de quatre-vingts ans,...</td>\n",
       "      <td>False</td>\n",
       "    </tr>\n",
       "  </tbody>\n",
       "</table>\n",
       "</div>"
      ],
      "text/plain": [
       "     Savant  Annee                                              Eloge  \\\n",
       "19  Bianchi   1773  Il est mort en 1760, âgé de quatre-vingts ans,...   \n",
       "\n",
       "   Side_Info                                          Eloge_lem  \\\n",
       "19        []  mort 1760 âgé quatre vingts an après avoir pro...   \n",
       "\n",
       "                                           First_Sent  naissance  \n",
       "19  Il est mort en 1760, âgé de quatre-vingts ans,...      False  "
      ]
     },
     "execution_count": 38,
     "metadata": {},
     "output_type": "execute_result"
    }
   ],
   "source": [
    "new_df[new_df['naissance']==False]"
   ]
  },
  {
   "cell_type": "code",
   "execution_count": 39,
   "id": "hawaiian-cartridge",
   "metadata": {},
   "outputs": [
    {
     "data": {
      "text/plain": [
       "'Il est mort en 1760, âgé de quatre-vingts ans, après avoir professé la médecine à Turin pendant quarante-cinq ans'"
      ]
     },
     "execution_count": 39,
     "metadata": {},
     "output_type": "execute_result"
    }
   ],
   "source": [
    "new_df.loc[19, 'First_Sent']"
   ]
  },
  {
   "cell_type": "markdown",
   "id": "emotional-perry",
   "metadata": {},
   "source": [
    "All the eulogies start with a statement on the birth"
   ]
  },
  {
   "cell_type": "markdown",
   "id": "amino-trace",
   "metadata": {},
   "source": [
    "## 5. Synsets"
   ]
  },
  {
   "cell_type": "code",
   "execution_count": 40,
   "id": "governmental-surrey",
   "metadata": {},
   "outputs": [],
   "source": [
    "#https://stackoverflow.com/questions/59198008/how-to-find-all-synoyms-for-a-french-word-using-nltk\n",
    "#\n",
    "\n",
    "from nltk.corpus import wordnet as wn\n",
    "from nltk.wsd import lesk\n"
   ]
  },
  {
   "cell_type": "code",
   "execution_count": 41,
   "id": "animal-bangkok",
   "metadata": {},
   "outputs": [],
   "source": [
    "list_pos = ['pleurer', 'malheur', 'martyr', 'tendresse', 'sensibilité', 'douceur touchante', 'reconnaissance', 'reconnoissance']\n",
    "list_neg = ['ignorance', 'cupidité', 'égoïsme', 'bigoterie', 'frivolité', 'clanisme', 'envie', 'oisiveté', 'privilège', 'vanité']\n",
    "\n",
    "new_df['list_pos'] = new_df['Eloge'].apply(lambda x : [i for i in list_pos if i in x])\n",
    "new_df['list_neg'] = new_df['Eloge'].apply(lambda x : [i for i in list_neg if i in x])\n"
   ]
  },
  {
   "cell_type": "code",
   "execution_count": 42,
   "id": "soviet-forth",
   "metadata": {
    "scrolled": true
   },
   "outputs": [],
   "source": [
    "set_pos = set()\n",
    "set_neg = set()\n",
    "\n",
    "\n",
    "        \n",
    "for word in list_pos:\n",
    "    set_pos.add(word)\n",
    "    for ss in [n for synset in wn.synsets(word, lang = 'fra') for n in synset.lemma_names('fra')]:\n",
    "        set_pos.add(ss)\n",
    "\n",
    "for word in list_neg:\n",
    "    set_neg.add(word)\n",
    "    for ss in [n for synset in wn.synsets(word, lang = 'fra') for n in synset.lemma_names('fra')]:\n",
    "        set_neg.add(ss)"
   ]
  },
  {
   "cell_type": "code",
   "execution_count": 43,
   "id": "preceding-evaluation",
   "metadata": {
    "scrolled": true
   },
   "outputs": [],
   "source": [
    "set_pos.add('pleurs')\n",
    "set_pos.add('pleure')"
   ]
  },
  {
   "cell_type": "code",
   "execution_count": 44,
   "id": "baking-corruption",
   "metadata": {},
   "outputs": [
    {
     "data": {
      "text/html": [
       "<div>\n",
       "<style scoped>\n",
       "    .dataframe tbody tr th:only-of-type {\n",
       "        vertical-align: middle;\n",
       "    }\n",
       "\n",
       "    .dataframe tbody tr th {\n",
       "        vertical-align: top;\n",
       "    }\n",
       "\n",
       "    .dataframe thead th {\n",
       "        text-align: right;\n",
       "    }\n",
       "</style>\n",
       "<table border=\"1\" class=\"dataframe\">\n",
       "  <thead>\n",
       "    <tr style=\"text-align: right;\">\n",
       "      <th></th>\n",
       "      <th>Savant</th>\n",
       "      <th>Annee</th>\n",
       "      <th>Eloge</th>\n",
       "      <th>Side_Info</th>\n",
       "      <th>Eloge_lem</th>\n",
       "      <th>First_Sent</th>\n",
       "      <th>naissance</th>\n",
       "      <th>list_pos</th>\n",
       "      <th>list_neg</th>\n",
       "    </tr>\n",
       "  </thead>\n",
       "  <tbody>\n",
       "    <tr>\n",
       "      <th>0</th>\n",
       "      <td>de la Chambre</td>\n",
       "      <td>1773</td>\n",
       "      <td>Marin Cureau de la Chambre, médecin ordinaire ...</td>\n",
       "      <td>[]</td>\n",
       "      <td>Marin cureau chambre médecin ordinaire roi naî...</td>\n",
       "      <td>Marin Cureau de la Chambre, médecin ordinaire ...</td>\n",
       "      <td>True</td>\n",
       "      <td>[malheur, reconnaissance]</td>\n",
       "      <td>[envie, vanité]</td>\n",
       "    </tr>\n",
       "    <tr>\n",
       "      <th>1</th>\n",
       "      <td>Frenicle</td>\n",
       "      <td>1773</td>\n",
       "      <td>Nicolas Frenicle de Bessy, conseiller à la cou...</td>\n",
       "      <td>[]</td>\n",
       "      <td>Nicolas Frenicle Bessy conseiller cour monnaie...</td>\n",
       "      <td>Nicolas Frenicle de Bessy, conseiller à la cou...</td>\n",
       "      <td>True</td>\n",
       "      <td>[]</td>\n",
       "      <td>[]</td>\n",
       "    </tr>\n",
       "    <tr>\n",
       "      <th>2</th>\n",
       "      <td>Picard</td>\n",
       "      <td>1773</td>\n",
       "      <td>L’abbé Picard naquit dans un temps où Kepler e...</td>\n",
       "      <td>[]</td>\n",
       "      <td>abbé Picard naquit temps Kepler galiler venaie...</td>\n",
       "      <td>L’abbé Picard naquit dans un temps où Kepler e...</td>\n",
       "      <td>True</td>\n",
       "      <td>[reconnaissance]</td>\n",
       "      <td>[]</td>\n",
       "    </tr>\n",
       "    <tr>\n",
       "      <th>3</th>\n",
       "      <td>Mariotte</td>\n",
       "      <td>1773</td>\n",
       "      <td>Edme Mariotte naquit à Dijon, ou du moins il y...</td>\n",
       "      <td>[]</td>\n",
       "      <td>Edme mariotte naître dijon moins passa partie ...</td>\n",
       "      <td>Edme Mariotte naquit à Dijon, ou du moins il y...</td>\n",
       "      <td>True</td>\n",
       "      <td>[malheur, reconnaissance]</td>\n",
       "      <td>[ignorance]</td>\n",
       "    </tr>\n",
       "    <tr>\n",
       "      <th>4</th>\n",
       "      <td>Duclos</td>\n",
       "      <td>1773</td>\n",
       "      <td>Samuel Cotreau Duclos, médecin ordinaire du ro...</td>\n",
       "      <td>[]</td>\n",
       "      <td>Samuel Cotreau Duclos médecin ordinaire roi pr...</td>\n",
       "      <td>Samuel Cotreau Duclos, médecin ordinaire du ro...</td>\n",
       "      <td>True</td>\n",
       "      <td>[]</td>\n",
       "      <td>[]</td>\n",
       "    </tr>\n",
       "    <tr>\n",
       "      <th>5</th>\n",
       "      <td>Blondel</td>\n",
       "      <td>1773</td>\n",
       "      <td>François Blondel naquit à Ribemont, en Picardi...</td>\n",
       "      <td>[]</td>\n",
       "      <td>François Blondel naître Ribemont Picardie 1617...</td>\n",
       "      <td>François Blondel naquit à Ribemont, en Picardi...</td>\n",
       "      <td>True</td>\n",
       "      <td>[reconnaissance]</td>\n",
       "      <td>[ignorance, envie]</td>\n",
       "    </tr>\n",
       "    <tr>\n",
       "      <th>6</th>\n",
       "      <td>Huygens</td>\n",
       "      <td>1773</td>\n",
       "      <td>Christian Huygens naquit à la Haye, le 14 avri...</td>\n",
       "      <td>[]</td>\n",
       "      <td>Christian Huygens naître Haye avril 1629 Const...</td>\n",
       "      <td>Christian Huygens naquit à la Haye, le 14 avri...</td>\n",
       "      <td>True</td>\n",
       "      <td>[reconnaissance]</td>\n",
       "      <td>[envie]</td>\n",
       "    </tr>\n",
       "    <tr>\n",
       "      <th>7</th>\n",
       "      <td>Charas</td>\n",
       "      <td>1773</td>\n",
       "      <td>Moïse Charas naquit à Usez vers 1618, d’une fa...</td>\n",
       "      <td>[]</td>\n",
       "      <td>Moïse Charas naître Usez vers 1618 famill prot...</td>\n",
       "      <td>Moïse Charas naquit à Usez vers 1618, d’une fa...</td>\n",
       "      <td>True</td>\n",
       "      <td>[]</td>\n",
       "      <td>[ignorance, vanité]</td>\n",
       "    </tr>\n",
       "    <tr>\n",
       "      <th>8</th>\n",
       "      <td>Roëmer</td>\n",
       "      <td>1773</td>\n",
       "      <td>Souvent l’observation d’un phénomène suffit po...</td>\n",
       "      <td>[]</td>\n",
       "      <td>souvent observation phénomèn suffit rendre imm...</td>\n",
       "      <td>Souvent l’observation d’un phénomène suffit po...</td>\n",
       "      <td>True</td>\n",
       "      <td>[malheur, reconnaissance]</td>\n",
       "      <td>[envie]</td>\n",
       "    </tr>\n",
       "    <tr>\n",
       "      <th>9</th>\n",
       "      <td>Rohaut</td>\n",
       "      <td>1773</td>\n",
       "      <td>Au sortir du collège, où l’on n’enseignait enc...</td>\n",
       "      <td>[]</td>\n",
       "      <td>sortir collège enseigner encore péripatétisme ...</td>\n",
       "      <td>Au sortir du collège, où l’on n’enseignait enc...</td>\n",
       "      <td>True</td>\n",
       "      <td>[]</td>\n",
       "      <td>[]</td>\n",
       "    </tr>\n",
       "  </tbody>\n",
       "</table>\n",
       "</div>"
      ],
      "text/plain": [
       "          Savant  Annee                                              Eloge  \\\n",
       "0  de la Chambre   1773  Marin Cureau de la Chambre, médecin ordinaire ...   \n",
       "1       Frenicle   1773  Nicolas Frenicle de Bessy, conseiller à la cou...   \n",
       "2         Picard   1773  L’abbé Picard naquit dans un temps où Kepler e...   \n",
       "3       Mariotte   1773  Edme Mariotte naquit à Dijon, ou du moins il y...   \n",
       "4         Duclos   1773  Samuel Cotreau Duclos, médecin ordinaire du ro...   \n",
       "5        Blondel   1773  François Blondel naquit à Ribemont, en Picardi...   \n",
       "6        Huygens   1773  Christian Huygens naquit à la Haye, le 14 avri...   \n",
       "7         Charas   1773  Moïse Charas naquit à Usez vers 1618, d’une fa...   \n",
       "8         Roëmer   1773  Souvent l’observation d’un phénomène suffit po...   \n",
       "9         Rohaut   1773  Au sortir du collège, où l’on n’enseignait enc...   \n",
       "\n",
       "  Side_Info                                          Eloge_lem  \\\n",
       "0        []  Marin cureau chambre médecin ordinaire roi naî...   \n",
       "1        []  Nicolas Frenicle Bessy conseiller cour monnaie...   \n",
       "2        []  abbé Picard naquit temps Kepler galiler venaie...   \n",
       "3        []  Edme mariotte naître dijon moins passa partie ...   \n",
       "4        []  Samuel Cotreau Duclos médecin ordinaire roi pr...   \n",
       "5        []  François Blondel naître Ribemont Picardie 1617...   \n",
       "6        []  Christian Huygens naître Haye avril 1629 Const...   \n",
       "7        []  Moïse Charas naître Usez vers 1618 famill prot...   \n",
       "8        []  souvent observation phénomèn suffit rendre imm...   \n",
       "9        []  sortir collège enseigner encore péripatétisme ...   \n",
       "\n",
       "                                          First_Sent  naissance  \\\n",
       "0  Marin Cureau de la Chambre, médecin ordinaire ...       True   \n",
       "1  Nicolas Frenicle de Bessy, conseiller à la cou...       True   \n",
       "2  L’abbé Picard naquit dans un temps où Kepler e...       True   \n",
       "3  Edme Mariotte naquit à Dijon, ou du moins il y...       True   \n",
       "4  Samuel Cotreau Duclos, médecin ordinaire du ro...       True   \n",
       "5  François Blondel naquit à Ribemont, en Picardi...       True   \n",
       "6  Christian Huygens naquit à la Haye, le 14 avri...       True   \n",
       "7  Moïse Charas naquit à Usez vers 1618, d’une fa...       True   \n",
       "8  Souvent l’observation d’un phénomène suffit po...       True   \n",
       "9  Au sortir du collège, où l’on n’enseignait enc...       True   \n",
       "\n",
       "                    list_pos             list_neg  \n",
       "0  [malheur, reconnaissance]      [envie, vanité]  \n",
       "1                         []                   []  \n",
       "2           [reconnaissance]                   []  \n",
       "3  [malheur, reconnaissance]          [ignorance]  \n",
       "4                         []                   []  \n",
       "5           [reconnaissance]   [ignorance, envie]  \n",
       "6           [reconnaissance]              [envie]  \n",
       "7                         []  [ignorance, vanité]  \n",
       "8  [malheur, reconnaissance]              [envie]  \n",
       "9                         []                   []  "
      ]
     },
     "execution_count": 44,
     "metadata": {},
     "output_type": "execute_result"
    }
   ],
   "source": [
    "new_df.head(10)"
   ]
  },
  {
   "cell_type": "code",
   "execution_count": 45,
   "id": "grave-inspection",
   "metadata": {
    "scrolled": false
   },
   "outputs": [
    {
     "name": "stderr",
     "output_type": "stream",
     "text": [
      "/Users/clemencebarsi/miniconda3/lib/python3.8/site-packages/pandas/core/series.py:4135: DeprecationWarning: The default dtype for empty Series will be 'object' instead of 'float64' in a future version. Specify a dtype explicitly to silence this warning.\n",
      "  mapped = lib.map_infer(values, f, convert=convert_dtype)\n",
      "/Users/clemencebarsi/miniconda3/lib/python3.8/site-packages/pandas/core/series.py:4135: DeprecationWarning: The default dtype for empty Series will be 'object' instead of 'float64' in a future version. Specify a dtype explicitly to silence this warning.\n",
      "  mapped = lib.map_infer(values, f, convert=convert_dtype)\n",
      "/Users/clemencebarsi/miniconda3/lib/python3.8/site-packages/pandas/core/series.py:4135: DeprecationWarning: The default dtype for empty Series will be 'object' instead of 'float64' in a future version. Specify a dtype explicitly to silence this warning.\n",
      "  mapped = lib.map_infer(values, f, convert=convert_dtype)\n",
      "/Users/clemencebarsi/miniconda3/lib/python3.8/site-packages/pandas/core/series.py:4135: DeprecationWarning: The default dtype for empty Series will be 'object' instead of 'float64' in a future version. Specify a dtype explicitly to silence this warning.\n",
      "  mapped = lib.map_infer(values, f, convert=convert_dtype)\n",
      "/Users/clemencebarsi/miniconda3/lib/python3.8/site-packages/pandas/core/series.py:4135: DeprecationWarning: The default dtype for empty Series will be 'object' instead of 'float64' in a future version. Specify a dtype explicitly to silence this warning.\n",
      "  mapped = lib.map_infer(values, f, convert=convert_dtype)\n",
      "/Users/clemencebarsi/miniconda3/lib/python3.8/site-packages/pandas/core/series.py:4135: DeprecationWarning: The default dtype for empty Series will be 'object' instead of 'float64' in a future version. Specify a dtype explicitly to silence this warning.\n",
      "  mapped = lib.map_infer(values, f, convert=convert_dtype)\n",
      "/Users/clemencebarsi/miniconda3/lib/python3.8/site-packages/pandas/core/series.py:4135: DeprecationWarning: The default dtype for empty Series will be 'object' instead of 'float64' in a future version. Specify a dtype explicitly to silence this warning.\n",
      "  mapped = lib.map_infer(values, f, convert=convert_dtype)\n",
      "/Users/clemencebarsi/miniconda3/lib/python3.8/site-packages/pandas/core/series.py:4135: DeprecationWarning: The default dtype for empty Series will be 'object' instead of 'float64' in a future version. Specify a dtype explicitly to silence this warning.\n",
      "  mapped = lib.map_infer(values, f, convert=convert_dtype)\n",
      "/Users/clemencebarsi/miniconda3/lib/python3.8/site-packages/pandas/core/series.py:4135: DeprecationWarning: The default dtype for empty Series will be 'object' instead of 'float64' in a future version. Specify a dtype explicitly to silence this warning.\n",
      "  mapped = lib.map_infer(values, f, convert=convert_dtype)\n",
      "/Users/clemencebarsi/miniconda3/lib/python3.8/site-packages/pandas/core/series.py:4135: DeprecationWarning: The default dtype for empty Series will be 'object' instead of 'float64' in a future version. Specify a dtype explicitly to silence this warning.\n",
      "  mapped = lib.map_infer(values, f, convert=convert_dtype)\n",
      "/Users/clemencebarsi/miniconda3/lib/python3.8/site-packages/pandas/core/series.py:4135: DeprecationWarning: The default dtype for empty Series will be 'object' instead of 'float64' in a future version. Specify a dtype explicitly to silence this warning.\n",
      "  mapped = lib.map_infer(values, f, convert=convert_dtype)\n",
      "/Users/clemencebarsi/miniconda3/lib/python3.8/site-packages/pandas/core/series.py:4135: DeprecationWarning: The default dtype for empty Series will be 'object' instead of 'float64' in a future version. Specify a dtype explicitly to silence this warning.\n",
      "  mapped = lib.map_infer(values, f, convert=convert_dtype)\n",
      "/Users/clemencebarsi/miniconda3/lib/python3.8/site-packages/pandas/core/series.py:4135: DeprecationWarning: The default dtype for empty Series will be 'object' instead of 'float64' in a future version. Specify a dtype explicitly to silence this warning.\n",
      "  mapped = lib.map_infer(values, f, convert=convert_dtype)\n",
      "/Users/clemencebarsi/miniconda3/lib/python3.8/site-packages/pandas/core/series.py:4135: DeprecationWarning: The default dtype for empty Series will be 'object' instead of 'float64' in a future version. Specify a dtype explicitly to silence this warning.\n",
      "  mapped = lib.map_infer(values, f, convert=convert_dtype)\n"
     ]
    },
    {
     "data": {
      "text/plain": [
       "Text(0, 0.5, 'Number of eulogies appearing ing')"
      ]
     },
     "execution_count": 45,
     "metadata": {},
     "output_type": "execute_result"
    },
    {
     "data": {
      "image/png": "[encoded data removed]",
      "text/plain": [
       "<Figure size 720x288 with 1 Axes>"
      ]
     },
     "metadata": {
      "needs_background": "light"
     },
     "output_type": "display_data"
    }
   ],
   "source": [
    "from pandas import Series\n",
    "new_df['list_pos'].apply(Series).stack().hist(figsize = (10, 4))\n",
    "plt.title('Number of apparition of positive words')\n",
    "plt.xlabel('Positive words')\n",
    "plt.ylabel('Number of eulogies appearing ing')"
   ]
  },
  {
   "cell_type": "code",
   "execution_count": 46,
   "id": "forbidden-attraction",
   "metadata": {
    "scrolled": true
   },
   "outputs": [
    {
     "name": "stderr",
     "output_type": "stream",
     "text": [
      "/Users/clemencebarsi/miniconda3/lib/python3.8/site-packages/pandas/core/series.py:4135: DeprecationWarning: The default dtype for empty Series will be 'object' instead of 'float64' in a future version. Specify a dtype explicitly to silence this warning.\n",
      "  mapped = lib.map_infer(values, f, convert=convert_dtype)\n",
      "/Users/clemencebarsi/miniconda3/lib/python3.8/site-packages/pandas/core/series.py:4135: DeprecationWarning: The default dtype for empty Series will be 'object' instead of 'float64' in a future version. Specify a dtype explicitly to silence this warning.\n",
      "  mapped = lib.map_infer(values, f, convert=convert_dtype)\n",
      "/Users/clemencebarsi/miniconda3/lib/python3.8/site-packages/pandas/core/series.py:4135: DeprecationWarning: The default dtype for empty Series will be 'object' instead of 'float64' in a future version. Specify a dtype explicitly to silence this warning.\n",
      "  mapped = lib.map_infer(values, f, convert=convert_dtype)\n",
      "/Users/clemencebarsi/miniconda3/lib/python3.8/site-packages/pandas/core/series.py:4135: DeprecationWarning: The default dtype for empty Series will be 'object' instead of 'float64' in a future version. Specify a dtype explicitly to silence this warning.\n",
      "  mapped = lib.map_infer(values, f, convert=convert_dtype)\n",
      "/Users/clemencebarsi/miniconda3/lib/python3.8/site-packages/pandas/core/series.py:4135: DeprecationWarning: The default dtype for empty Series will be 'object' instead of 'float64' in a future version. Specify a dtype explicitly to silence this warning.\n",
      "  mapped = lib.map_infer(values, f, convert=convert_dtype)\n",
      "/Users/clemencebarsi/miniconda3/lib/python3.8/site-packages/pandas/core/series.py:4135: DeprecationWarning: The default dtype for empty Series will be 'object' instead of 'float64' in a future version. Specify a dtype explicitly to silence this warning.\n",
      "  mapped = lib.map_infer(values, f, convert=convert_dtype)\n",
      "/Users/clemencebarsi/miniconda3/lib/python3.8/site-packages/pandas/core/series.py:4135: DeprecationWarning: The default dtype for empty Series will be 'object' instead of 'float64' in a future version. Specify a dtype explicitly to silence this warning.\n",
      "  mapped = lib.map_infer(values, f, convert=convert_dtype)\n",
      "/Users/clemencebarsi/miniconda3/lib/python3.8/site-packages/pandas/core/series.py:4135: DeprecationWarning: The default dtype for empty Series will be 'object' instead of 'float64' in a future version. Specify a dtype explicitly to silence this warning.\n",
      "  mapped = lib.map_infer(values, f, convert=convert_dtype)\n",
      "/Users/clemencebarsi/miniconda3/lib/python3.8/site-packages/pandas/core/series.py:4135: DeprecationWarning: The default dtype for empty Series will be 'object' instead of 'float64' in a future version. Specify a dtype explicitly to silence this warning.\n",
      "  mapped = lib.map_infer(values, f, convert=convert_dtype)\n",
      "/Users/clemencebarsi/miniconda3/lib/python3.8/site-packages/pandas/core/series.py:4135: DeprecationWarning: The default dtype for empty Series will be 'object' instead of 'float64' in a future version. Specify a dtype explicitly to silence this warning.\n",
      "  mapped = lib.map_infer(values, f, convert=convert_dtype)\n",
      "/Users/clemencebarsi/miniconda3/lib/python3.8/site-packages/pandas/core/series.py:4135: DeprecationWarning: The default dtype for empty Series will be 'object' instead of 'float64' in a future version. Specify a dtype explicitly to silence this warning.\n",
      "  mapped = lib.map_infer(values, f, convert=convert_dtype)\n",
      "/Users/clemencebarsi/miniconda3/lib/python3.8/site-packages/pandas/core/series.py:4135: DeprecationWarning: The default dtype for empty Series will be 'object' instead of 'float64' in a future version. Specify a dtype explicitly to silence this warning.\n",
      "  mapped = lib.map_infer(values, f, convert=convert_dtype)\n",
      "/Users/clemencebarsi/miniconda3/lib/python3.8/site-packages/pandas/core/series.py:4135: DeprecationWarning: The default dtype for empty Series will be 'object' instead of 'float64' in a future version. Specify a dtype explicitly to silence this warning.\n",
      "  mapped = lib.map_infer(values, f, convert=convert_dtype)\n",
      "/Users/clemencebarsi/miniconda3/lib/python3.8/site-packages/pandas/core/series.py:4135: DeprecationWarning: The default dtype for empty Series will be 'object' instead of 'float64' in a future version. Specify a dtype explicitly to silence this warning.\n",
      "  mapped = lib.map_infer(values, f, convert=convert_dtype)\n",
      "/Users/clemencebarsi/miniconda3/lib/python3.8/site-packages/pandas/core/series.py:4135: DeprecationWarning: The default dtype for empty Series will be 'object' instead of 'float64' in a future version. Specify a dtype explicitly to silence this warning.\n",
      "  mapped = lib.map_infer(values, f, convert=convert_dtype)\n",
      "/Users/clemencebarsi/miniconda3/lib/python3.8/site-packages/pandas/core/series.py:4135: DeprecationWarning: The default dtype for empty Series will be 'object' instead of 'float64' in a future version. Specify a dtype explicitly to silence this warning.\n",
      "  mapped = lib.map_infer(values, f, convert=convert_dtype)\n",
      "/Users/clemencebarsi/miniconda3/lib/python3.8/site-packages/pandas/core/series.py:4135: DeprecationWarning: The default dtype for empty Series will be 'object' instead of 'float64' in a future version. Specify a dtype explicitly to silence this warning.\n",
      "  mapped = lib.map_infer(values, f, convert=convert_dtype)\n",
      "/Users/clemencebarsi/miniconda3/lib/python3.8/site-packages/pandas/core/series.py:4135: DeprecationWarning: The default dtype for empty Series will be 'object' instead of 'float64' in a future version. Specify a dtype explicitly to silence this warning.\n",
      "  mapped = lib.map_infer(values, f, convert=convert_dtype)\n",
      "/Users/clemencebarsi/miniconda3/lib/python3.8/site-packages/pandas/core/series.py:4135: DeprecationWarning: The default dtype for empty Series will be 'object' instead of 'float64' in a future version. Specify a dtype explicitly to silence this warning.\n",
      "  mapped = lib.map_infer(values, f, convert=convert_dtype)\n",
      "/Users/clemencebarsi/miniconda3/lib/python3.8/site-packages/pandas/core/series.py:4135: DeprecationWarning: The default dtype for empty Series will be 'object' instead of 'float64' in a future version. Specify a dtype explicitly to silence this warning.\n",
      "  mapped = lib.map_infer(values, f, convert=convert_dtype)\n",
      "/Users/clemencebarsi/miniconda3/lib/python3.8/site-packages/pandas/core/series.py:4135: DeprecationWarning: The default dtype for empty Series will be 'object' instead of 'float64' in a future version. Specify a dtype explicitly to silence this warning.\n",
      "  mapped = lib.map_infer(values, f, convert=convert_dtype)\n",
      "/Users/clemencebarsi/miniconda3/lib/python3.8/site-packages/pandas/core/series.py:4135: DeprecationWarning: The default dtype for empty Series will be 'object' instead of 'float64' in a future version. Specify a dtype explicitly to silence this warning.\n",
      "  mapped = lib.map_infer(values, f, convert=convert_dtype)\n",
      "/Users/clemencebarsi/miniconda3/lib/python3.8/site-packages/pandas/core/series.py:4135: DeprecationWarning: The default dtype for empty Series will be 'object' instead of 'float64' in a future version. Specify a dtype explicitly to silence this warning.\n",
      "  mapped = lib.map_infer(values, f, convert=convert_dtype)\n",
      "/Users/clemencebarsi/miniconda3/lib/python3.8/site-packages/pandas/core/series.py:4135: DeprecationWarning: The default dtype for empty Series will be 'object' instead of 'float64' in a future version. Specify a dtype explicitly to silence this warning.\n",
      "  mapped = lib.map_infer(values, f, convert=convert_dtype)\n"
     ]
    },
    {
     "data": {
      "text/plain": [
       "Text(0, 0.5, 'Number of eulogies appearing in')"
      ]
     },
     "execution_count": 46,
     "metadata": {},
     "output_type": "execute_result"
    },
    {
     "data": {
      "image/png": "[encoded data removed]",
      "text/plain": [
       "<Figure size 720x288 with 1 Axes>"
      ]
     },
     "metadata": {
      "needs_background": "light"
     },
     "output_type": "display_data"
    }
   ],
   "source": [
    "new_df['list_neg'].apply(Series).stack().hist(figsize = (10, 4))\n",
    "plt.title('Number of apparition of negative words')\n",
    "plt.xlabel('Negative words')\n",
    "plt.ylabel('Number of eulogies appearing in')"
   ]
  },
  {
   "cell_type": "markdown",
   "id": "creative-impossible",
   "metadata": {},
   "source": [
    "## 7. Part Of Speech"
   ]
  },
  {
   "cell_type": "code",
   "execution_count": 47,
   "id": "tribal-conditioning",
   "metadata": {},
   "outputs": [
    {
     "name": "stderr",
     "output_type": "stream",
     "text": [
      "/Users/clemencebarsi/miniconda3/lib/python3.8/site-packages/treetaggerwrapper.py:544: DeprecationWarning: The SafeConfigParser class has been renamed to ConfigParser in Python 3.2. This alias will be removed in future versions. Use ConfigParser directly instead.\n",
      "  g_config = configparser.SafeConfigParser()\n",
      "/Users/clemencebarsi/miniconda3/lib/python3.8/site-packages/treetaggerwrapper.py:739: FutureWarning: Possible nested set at position 8\n",
      "  punct2find_re = re.compile(\"([^ ])([[\" + ALONEMARKS + \"])\",\n",
      "/Users/clemencebarsi/miniconda3/lib/python3.8/site-packages/treetaggerwrapper.py:2043: FutureWarning: Possible nested set at position 152\n",
      "  DnsHostMatch_re = re.compile(\"(\" + DnsHost_expression + \")\",\n",
      "/Users/clemencebarsi/miniconda3/lib/python3.8/site-packages/treetaggerwrapper.py:2067: FutureWarning: Possible nested set at position 409\n",
      "  UrlMatch_re = re.compile(UrlMatch_expression, re.VERBOSE | re.IGNORECASE)\n",
      "/Users/clemencebarsi/miniconda3/lib/python3.8/site-packages/treetaggerwrapper.py:2079: FutureWarning: Possible nested set at position 192\n",
      "  EmailMatch_re = re.compile(EmailMatch_expression, re.VERBOSE | re.IGNORECASE)\n"
     ]
    }
   ],
   "source": [
    "import pprint\n",
    "import treetaggerwrapper"
   ]
  },
  {
   "cell_type": "code",
   "execution_count": 48,
   "id": "protecting-translation",
   "metadata": {},
   "outputs": [],
   "source": [
    "tagger = treetaggerwrapper.TreeTagger(TAGLANG='fr', TAGDIR = './../Treetagger')"
   ]
  },
  {
   "cell_type": "code",
   "execution_count": 59,
   "id": "protecting-vatican",
   "metadata": {
    "scrolled": true
   },
   "outputs": [
    {
     "ename": "KeyboardInterrupt",
     "evalue": "",
     "output_type": "error",
     "traceback": [
      "\u001b[0;31m---------------------------------------------------------------------------\u001b[0m",
      "\u001b[0;31mKeyboardInterrupt\u001b[0m                         Traceback (most recent call last)",
      "Input \u001b[0;32mIn [59]\u001b[0m, in \u001b[0;36m<cell line: 1>\u001b[0;34m()\u001b[0m\n\u001b[0;32m----> 1\u001b[0m tags \u001b[38;5;241m=\u001b[39m \u001b[43mtagger\u001b[49m\u001b[38;5;241;43m.\u001b[39;49m\u001b[43mtag_text\u001b[49m\u001b[43m(\u001b[49m\u001b[38;5;124;43m'\u001b[39;49m\u001b[38;5;124;43mCeci est un test\u001b[39;49m\u001b[38;5;124;43m'\u001b[39;49m\u001b[43m)\u001b[49m\n\u001b[1;32m      2\u001b[0m pprint\u001b[38;5;241m.\u001b[39mpprint(tags)\n",
      "File \u001b[0;32m~/miniconda3/lib/python3.8/site-packages/treetaggerwrapper.py:1455\u001b[0m, in \u001b[0;36mTreeTagger.tag_text\u001b[0;34m(self, text, numlines, tagonly, prepronly, tagblanks, notagurl, notagemail, notagip, notagdns, nosgmlsplit)\u001b[0m\n\u001b[1;32m   1451\u001b[0m         \u001b[38;5;28;01mraise\u001b[39;00m TreeTaggerError(\u001b[38;5;124m\"\u001b[39m\u001b[38;5;124mTime out for TreeTagger reply, enable debug / see error logs\u001b[39m\u001b[38;5;124m\"\u001b[39m)\n\u001b[1;32m   1452\u001b[0m     \u001b[38;5;28;01melse\u001b[39;00m:\n\u001b[1;32m   1453\u001b[0m         \u001b[38;5;66;03m# We process too much quickly, leave time for tagger and writer\u001b[39;00m\n\u001b[1;32m   1454\u001b[0m         \u001b[38;5;66;03m# thread to work.\u001b[39;00m\n\u001b[0;32m-> 1455\u001b[0m         \u001b[43mtime\u001b[49m\u001b[38;5;241;43m.\u001b[39;49m\u001b[43msleep\u001b[49m\u001b[43m(\u001b[49m\u001b[38;5;241;43m0.1\u001b[39;49m\u001b[43m)\u001b[49m\n\u001b[1;32m   1456\u001b[0m         \u001b[38;5;28;01mcontinue\u001b[39;00m    \u001b[38;5;66;03m# read again.\u001b[39;00m\n\u001b[1;32m   1457\u001b[0m lastline_time \u001b[38;5;241m=\u001b[39m time\u001b[38;5;241m.\u001b[39mtime()\n",
      "\u001b[0;31mKeyboardInterrupt\u001b[0m: "
     ]
    }
   ],
   "source": [
    "tags = tagger.tag_text('Ceci est un test')\n",
    "pprint.pprint(tags)"
   ]
  },
  {
   "cell_type": "code",
   "execution_count": 57,
   "id": "contained-assignment",
   "metadata": {},
   "outputs": [
    {
     "data": {
      "text/plain": [
       "'Marin Cureau de la Chambre, médecin ordinaire du roi, naquit au Mans vers 1613'"
      ]
     },
     "execution_count": 57,
     "metadata": {},
     "output_type": "execute_result"
    }
   ],
   "source": [
    "string = new_df.loc[0, 'First_Sent']"
   ]
  },
  {
   "cell_type": "code",
   "execution_count": 58,
   "id": "fleet-jimmy",
   "metadata": {},
   "outputs": [
    {
     "ename": "KeyboardInterrupt",
     "evalue": "",
     "output_type": "error",
     "traceback": [
      "\u001b[0;31m---------------------------------------------------------------------------\u001b[0m",
      "\u001b[0;31mKeyboardInterrupt\u001b[0m                         Traceback (most recent call last)",
      "Input \u001b[0;32mIn [58]\u001b[0m, in \u001b[0;36m<cell line: 1>\u001b[0;34m()\u001b[0m\n\u001b[0;32m----> 1\u001b[0m tags \u001b[38;5;241m=\u001b[39m \u001b[43mtagger\u001b[49m\u001b[38;5;241;43m.\u001b[39;49m\u001b[43mtag_text\u001b[49m\u001b[43m(\u001b[49m\u001b[38;5;124;43m'\u001b[39;49m\u001b[38;5;124;43mMarin Cureau de la Chambre, médecin ordinaire du roi, naquit au Mans vers 1613\u001b[39;49m\u001b[38;5;124;43m'\u001b[39;49m\u001b[43m)\u001b[49m\n",
      "File \u001b[0;32m~/miniconda3/lib/python3.8/site-packages/treetaggerwrapper.py:1455\u001b[0m, in \u001b[0;36mTreeTagger.tag_text\u001b[0;34m(self, text, numlines, tagonly, prepronly, tagblanks, notagurl, notagemail, notagip, notagdns, nosgmlsplit)\u001b[0m\n\u001b[1;32m   1451\u001b[0m         \u001b[38;5;28;01mraise\u001b[39;00m TreeTaggerError(\u001b[38;5;124m\"\u001b[39m\u001b[38;5;124mTime out for TreeTagger reply, enable debug / see error logs\u001b[39m\u001b[38;5;124m\"\u001b[39m)\n\u001b[1;32m   1452\u001b[0m     \u001b[38;5;28;01melse\u001b[39;00m:\n\u001b[1;32m   1453\u001b[0m         \u001b[38;5;66;03m# We process too much quickly, leave time for tagger and writer\u001b[39;00m\n\u001b[1;32m   1454\u001b[0m         \u001b[38;5;66;03m# thread to work.\u001b[39;00m\n\u001b[0;32m-> 1455\u001b[0m         \u001b[43mtime\u001b[49m\u001b[38;5;241;43m.\u001b[39;49m\u001b[43msleep\u001b[49m\u001b[43m(\u001b[49m\u001b[38;5;241;43m0.1\u001b[39;49m\u001b[43m)\u001b[49m\n\u001b[1;32m   1456\u001b[0m         \u001b[38;5;28;01mcontinue\u001b[39;00m    \u001b[38;5;66;03m# read again.\u001b[39;00m\n\u001b[1;32m   1457\u001b[0m lastline_time \u001b[38;5;241m=\u001b[39m time\u001b[38;5;241m.\u001b[39mtime()\n",
      "\u001b[0;31mKeyboardInterrupt\u001b[0m: "
     ]
    }
   ],
   "source": [
    "tags = tagger.tag_text('Marin Cureau de la Chambre, médecin ordinaire du roi, naquit au Mans vers 1613')"
   ]
  },
  {
   "cell_type": "code",
   "execution_count": 55,
   "id": "effective-baseline",
   "metadata": {},
   "outputs": [
    {
     "data": {
      "application/vnd.jupyter.widget-view+json": {
       "model_id": "e6f00ac5dd8f4e1f985b360fee7c7f16",
       "version_major": 2,
       "version_minor": 0
      },
      "text/plain": [
       "HBox(children=(HTML(value=''), FloatProgress(value=0.0, max=66.0), HTML(value='')))"
      ]
     },
     "metadata": {},
     "output_type": "display_data"
    },
    {
     "name": "stdout",
     "output_type": "stream",
     "text": [
      "\n"
     ]
    },
    {
     "ename": "TreeTaggerError",
     "evalue": "Time out for TreeTagger reply, enable debug / see error logs",
     "output_type": "error",
     "traceback": [
      "\u001b[0;31m---------------------------------------------------------------------------\u001b[0m",
      "\u001b[0;31mTreeTaggerError\u001b[0m                           Traceback (most recent call last)",
      "Input \u001b[0;32mIn [55]\u001b[0m, in \u001b[0;36m<cell line: 1>\u001b[0;34m()\u001b[0m\n\u001b[0;32m----> 1\u001b[0m new_df[\u001b[38;5;124m'\u001b[39m\u001b[38;5;124mtags\u001b[39m\u001b[38;5;124m'\u001b[39m] \u001b[38;5;241m=\u001b[39m \u001b[43mnew_df\u001b[49m\u001b[43m[\u001b[49m\u001b[38;5;124;43m'\u001b[39;49m\u001b[38;5;124;43mFirst_Sent\u001b[39;49m\u001b[38;5;124;43m'\u001b[39;49m\u001b[43m]\u001b[49m\u001b[38;5;241;43m.\u001b[39;49m\u001b[43mprogress_apply\u001b[49m\u001b[43m(\u001b[49m\u001b[38;5;28;43;01mlambda\u001b[39;49;00m\u001b[43m \u001b[49m\u001b[43mx\u001b[49m\u001b[43m \u001b[49m\u001b[43m:\u001b[49m\u001b[43m \u001b[49m\u001b[43mtagger\u001b[49m\u001b[38;5;241;43m.\u001b[39;49m\u001b[43mtag_text\u001b[49m\u001b[43m(\u001b[49m\u001b[43mx\u001b[49m\u001b[43m)\u001b[49m\u001b[43m)\u001b[49m\n",
      "File \u001b[0;32m~/miniconda3/lib/python3.8/site-packages/tqdm/std.py:803\u001b[0m, in \u001b[0;36mtqdm.pandas.<locals>.inner_generator.<locals>.inner\u001b[0;34m(df, func, *args, **kwargs)\u001b[0m\n\u001b[1;32m    800\u001b[0m \u001b[38;5;66;03m# Apply the provided function (in **kwargs)\u001b[39;00m\n\u001b[1;32m    801\u001b[0m \u001b[38;5;66;03m# on the df using our wrapper (which provides bar updating)\u001b[39;00m\n\u001b[1;32m    802\u001b[0m \u001b[38;5;28;01mtry\u001b[39;00m:\n\u001b[0;32m--> 803\u001b[0m     \u001b[38;5;28;01mreturn\u001b[39;00m \u001b[38;5;28;43mgetattr\u001b[39;49m\u001b[43m(\u001b[49m\u001b[43mdf\u001b[49m\u001b[43m,\u001b[49m\u001b[43m \u001b[49m\u001b[43mdf_function\u001b[49m\u001b[43m)\u001b[49m\u001b[43m(\u001b[49m\u001b[43mwrapper\u001b[49m\u001b[43m,\u001b[49m\u001b[43m \u001b[49m\u001b[38;5;241;43m*\u001b[39;49m\u001b[38;5;241;43m*\u001b[39;49m\u001b[43mkwargs\u001b[49m\u001b[43m)\u001b[49m\n\u001b[1;32m    804\u001b[0m \u001b[38;5;28;01mfinally\u001b[39;00m:\n\u001b[1;32m    805\u001b[0m     t\u001b[38;5;241m.\u001b[39mclose()\n",
      "File \u001b[0;32m~/miniconda3/lib/python3.8/site-packages/pandas/core/series.py:4135\u001b[0m, in \u001b[0;36mSeries.apply\u001b[0;34m(self, func, convert_dtype, args, **kwds)\u001b[0m\n\u001b[1;32m   4133\u001b[0m     \u001b[38;5;28;01melse\u001b[39;00m:\n\u001b[1;32m   4134\u001b[0m         values \u001b[38;5;241m=\u001b[39m \u001b[38;5;28mself\u001b[39m\u001b[38;5;241m.\u001b[39mastype(\u001b[38;5;28mobject\u001b[39m)\u001b[38;5;241m.\u001b[39m_values\n\u001b[0;32m-> 4135\u001b[0m         mapped \u001b[38;5;241m=\u001b[39m \u001b[43mlib\u001b[49m\u001b[38;5;241;43m.\u001b[39;49m\u001b[43mmap_infer\u001b[49m\u001b[43m(\u001b[49m\u001b[43mvalues\u001b[49m\u001b[43m,\u001b[49m\u001b[43m \u001b[49m\u001b[43mf\u001b[49m\u001b[43m,\u001b[49m\u001b[43m \u001b[49m\u001b[43mconvert\u001b[49m\u001b[38;5;241;43m=\u001b[39;49m\u001b[43mconvert_dtype\u001b[49m\u001b[43m)\u001b[49m\n\u001b[1;32m   4137\u001b[0m \u001b[38;5;28;01mif\u001b[39;00m \u001b[38;5;28mlen\u001b[39m(mapped) \u001b[38;5;129;01mand\u001b[39;00m \u001b[38;5;28misinstance\u001b[39m(mapped[\u001b[38;5;241m0\u001b[39m], Series):\n\u001b[1;32m   4138\u001b[0m     \u001b[38;5;66;03m# GH 25959 use pd.array instead of tolist\u001b[39;00m\n\u001b[1;32m   4139\u001b[0m     \u001b[38;5;66;03m# so extension arrays can be used\u001b[39;00m\n\u001b[1;32m   4140\u001b[0m     \u001b[38;5;28;01mreturn\u001b[39;00m \u001b[38;5;28mself\u001b[39m\u001b[38;5;241m.\u001b[39m_constructor_expanddim(pd_array(mapped), index\u001b[38;5;241m=\u001b[39m\u001b[38;5;28mself\u001b[39m\u001b[38;5;241m.\u001b[39mindex)\n",
      "File \u001b[0;32mpandas/_libs/lib.pyx:2467\u001b[0m, in \u001b[0;36mpandas._libs.lib.map_infer\u001b[0;34m()\u001b[0m\n",
      "File \u001b[0;32m~/miniconda3/lib/python3.8/site-packages/tqdm/std.py:798\u001b[0m, in \u001b[0;36mtqdm.pandas.<locals>.inner_generator.<locals>.inner.<locals>.wrapper\u001b[0;34m(*args, **kwargs)\u001b[0m\n\u001b[1;32m    792\u001b[0m \u001b[38;5;28;01mdef\u001b[39;00m \u001b[38;5;21mwrapper\u001b[39m(\u001b[38;5;241m*\u001b[39margs, \u001b[38;5;241m*\u001b[39m\u001b[38;5;241m*\u001b[39mkwargs):\n\u001b[1;32m    793\u001b[0m     \u001b[38;5;66;03m# update tbar correctly\u001b[39;00m\n\u001b[1;32m    794\u001b[0m     \u001b[38;5;66;03m# it seems `pandas apply` calls `func` twice\u001b[39;00m\n\u001b[1;32m    795\u001b[0m     \u001b[38;5;66;03m# on the first column/row to decide whether it can\u001b[39;00m\n\u001b[1;32m    796\u001b[0m     \u001b[38;5;66;03m# take a fast or slow code path; so stop when t.total==t.n\u001b[39;00m\n\u001b[1;32m    797\u001b[0m     t\u001b[38;5;241m.\u001b[39mupdate(n\u001b[38;5;241m=\u001b[39m\u001b[38;5;241m1\u001b[39m \u001b[38;5;28;01mif\u001b[39;00m \u001b[38;5;129;01mnot\u001b[39;00m t\u001b[38;5;241m.\u001b[39mtotal \u001b[38;5;129;01mor\u001b[39;00m t\u001b[38;5;241m.\u001b[39mn \u001b[38;5;241m<\u001b[39m t\u001b[38;5;241m.\u001b[39mtotal \u001b[38;5;28;01melse\u001b[39;00m \u001b[38;5;241m0\u001b[39m)\n\u001b[0;32m--> 798\u001b[0m     \u001b[38;5;28;01mreturn\u001b[39;00m \u001b[43mfunc\u001b[49m\u001b[43m(\u001b[49m\u001b[38;5;241;43m*\u001b[39;49m\u001b[43margs\u001b[49m\u001b[43m,\u001b[49m\u001b[43m \u001b[49m\u001b[38;5;241;43m*\u001b[39;49m\u001b[38;5;241;43m*\u001b[39;49m\u001b[43mkwargs\u001b[49m\u001b[43m)\u001b[49m\n",
      "Input \u001b[0;32mIn [55]\u001b[0m, in \u001b[0;36m<lambda>\u001b[0;34m(x)\u001b[0m\n\u001b[0;32m----> 1\u001b[0m new_df[\u001b[38;5;124m'\u001b[39m\u001b[38;5;124mtags\u001b[39m\u001b[38;5;124m'\u001b[39m] \u001b[38;5;241m=\u001b[39m new_df[\u001b[38;5;124m'\u001b[39m\u001b[38;5;124mFirst_Sent\u001b[39m\u001b[38;5;124m'\u001b[39m]\u001b[38;5;241m.\u001b[39mprogress_apply(\u001b[38;5;28;01mlambda\u001b[39;00m x : \u001b[43mtagger\u001b[49m\u001b[38;5;241;43m.\u001b[39;49m\u001b[43mtag_text\u001b[49m\u001b[43m(\u001b[49m\u001b[43mx\u001b[49m\u001b[43m)\u001b[49m)\n",
      "File \u001b[0;32m~/miniconda3/lib/python3.8/site-packages/treetaggerwrapper.py:1451\u001b[0m, in \u001b[0;36mTreeTagger.tag_text\u001b[0;34m(self, text, numlines, tagonly, prepronly, tagblanks, notagurl, notagemail, notagip, notagdns, nosgmlsplit)\u001b[0m\n\u001b[1;32m   1447\u001b[0m \u001b[38;5;28;01mif\u001b[39;00m (time\u001b[38;5;241m.\u001b[39mtime() \u001b[38;5;241m-\u001b[39m lastline_time) \u001b[38;5;241m>\u001b[39m TAGGER_TIMEOUT:\n\u001b[1;32m   1448\u001b[0m     \u001b[38;5;66;03m# We already wait some times, there may be a problem with tagging\u001b[39;00m\n\u001b[1;32m   1449\u001b[0m     \u001b[38;5;66;03m# process communication. This avoid infinite loop.\u001b[39;00m\n\u001b[1;32m   1450\u001b[0m     logger\u001b[38;5;241m.\u001b[39merror(\u001b[38;5;124m\"\u001b[39m\u001b[38;5;124mTime out for TreeTagger reply.\u001b[39m\u001b[38;5;124m\"\u001b[39m)\n\u001b[0;32m-> 1451\u001b[0m     \u001b[38;5;28;01mraise\u001b[39;00m TreeTaggerError(\u001b[38;5;124m\"\u001b[39m\u001b[38;5;124mTime out for TreeTagger reply, enable debug / see error logs\u001b[39m\u001b[38;5;124m\"\u001b[39m)\n\u001b[1;32m   1452\u001b[0m \u001b[38;5;28;01melse\u001b[39;00m:\n\u001b[1;32m   1453\u001b[0m     \u001b[38;5;66;03m# We process too much quickly, leave time for tagger and writer\u001b[39;00m\n\u001b[1;32m   1454\u001b[0m     \u001b[38;5;66;03m# thread to work.\u001b[39;00m\n\u001b[1;32m   1455\u001b[0m     time\u001b[38;5;241m.\u001b[39msleep(\u001b[38;5;241m0.1\u001b[39m)\n",
      "\u001b[0;31mTreeTaggerError\u001b[0m: Time out for TreeTagger reply, enable debug / see error logs"
     ]
    }
   ],
   "source": [
    "new_df['tags'] = new_df['First_Sent'].progress_apply(lambda x : tagger.tag_text(x))"
   ]
  },
  {
   "cell_type": "markdown",
   "id": "chemical-tournament",
   "metadata": {},
   "source": [
    "## Octis\n",
    "\n",
    "https://github.com/MIND-Lab/OCTIS"
   ]
  },
  {
   "cell_type": "markdown",
   "id": "completed-worship",
   "metadata": {},
   "source": [
    "## 8. Negative Matrix Factorization"
   ]
  },
  {
   "cell_type": "code",
   "execution_count": 200,
   "id": "dense-corner",
   "metadata": {},
   "outputs": [
    {
     "name": "stderr",
     "output_type": "stream",
     "text": [
      "/Users/clemencebarsi/miniconda3/lib/python3.8/site-packages/ipykernel/ipkernel.py:283: DeprecationWarning: `should_run_async` will not call `transform_cell` automatically in the future. Please pass the result to `transformed_cell` argument and any exception that happen during thetransform in `preprocessing_exc_tuple` in IPython 7.17 and above.\n",
      "  and should_run_async(code)\n"
     ]
    }
   ],
   "source": [
    "#https://predictivehacks.com/topic-modelling-with-nmf-in-python/\n",
    "\n",
    "from sklearn.decomposition import NMF\n",
    "from sklearn.feature_extraction.text import TfidfVectorizer"
   ]
  },
  {
   "cell_type": "code",
   "execution_count": 208,
   "id": "hollywood-position",
   "metadata": {},
   "outputs": [
    {
     "name": "stderr",
     "output_type": "stream",
     "text": [
      "/Users/clemencebarsi/miniconda3/lib/python3.8/site-packages/ipykernel/ipkernel.py:283: DeprecationWarning: `should_run_async` will not call `transform_cell` automatically in the future. Please pass the result to `transformed_cell` argument and any exception that happen during thetransform in `preprocessing_exc_tuple` in IPython 7.17 and above.\n",
      "  and should_run_async(code)\n"
     ]
    }
   ],
   "source": [
    "# use tfidf by removing tokens that don't appear in at least 50 documents\n",
    "vect = TfidfVectorizer(min_df=50)\n",
    " \n",
    "# Fit and transform\n",
    "X = vect.fit_transform(df_cond.Eloge_lem)"
   ]
  },
  {
   "cell_type": "code",
   "execution_count": 209,
   "id": "satisfactory-snapshot",
   "metadata": {},
   "outputs": [
    {
     "name": "stderr",
     "output_type": "stream",
     "text": [
      "/Users/clemencebarsi/miniconda3/lib/python3.8/site-packages/ipykernel/ipkernel.py:283: DeprecationWarning: `should_run_async` will not call `transform_cell` automatically in the future. Please pass the result to `transformed_cell` argument and any exception that happen during thetransform in `preprocessing_exc_tuple` in IPython 7.17 and above.\n",
      "  and should_run_async(code)\n",
      "/Users/clemencebarsi/miniconda3/lib/python3.8/site-packages/sklearn/decomposition/_nmf.py:312: FutureWarning: The 'init' value, when 'init=None' and n_components is less than n_samples and n_features, will be changed from 'nndsvd' to 'nndsvda' in 1.1 (renaming of 0.26).\n",
      "  warnings.warn((\"The 'init' value, when 'init=None' and \"\n",
      "/Users/clemencebarsi/miniconda3/lib/python3.8/site-packages/sklearn/decomposition/_nmf.py:1090: ConvergenceWarning: Maximum number of iterations 200 reached. Increase it to improve convergence.\n",
      "  warnings.warn(\"Maximum number of iterations %d reached. Increase it to\"\n"
     ]
    }
   ],
   "source": [
    "# Create an NMF instance: model\n",
    "# the 10 components will be the topics\n",
    "model = NMF(n_components=10, random_state=5)\n",
    " \n",
    "# Fit the model to TF-IDF\n",
    "model.fit(X)\n",
    " \n",
    "# Transform the TF-IDF: nmf_features\n",
    "nmf_features = model.transform(X)"
   ]
  },
  {
   "cell_type": "code",
   "execution_count": 210,
   "id": "sweet-jumping",
   "metadata": {},
   "outputs": [
    {
     "name": "stderr",
     "output_type": "stream",
     "text": [
      "/Users/clemencebarsi/miniconda3/lib/python3.8/site-packages/ipykernel/ipkernel.py:283: DeprecationWarning: `should_run_async` will not call `transform_cell` automatically in the future. Please pass the result to `transformed_cell` argument and any exception that happen during thetransform in `preprocessing_exc_tuple` in IPython 7.17 and above.\n",
      "  and should_run_async(code)\n"
     ]
    },
    {
     "data": {
      "text/html": [
       "<div>\n",
       "<style scoped>\n",
       "    .dataframe tbody tr th:only-of-type {\n",
       "        vertical-align: middle;\n",
       "    }\n",
       "\n",
       "    .dataframe tbody tr th {\n",
       "        vertical-align: top;\n",
       "    }\n",
       "\n",
       "    .dataframe thead th {\n",
       "        text-align: right;\n",
       "    }\n",
       "</style>\n",
       "<table border=\"1\" class=\"dataframe\">\n",
       "  <thead>\n",
       "    <tr style=\"text-align: right;\">\n",
       "      <th></th>\n",
       "      <th>académie</th>\n",
       "      <th>alors</th>\n",
       "      <th>an</th>\n",
       "      <th>après</th>\n",
       "      <th>art</th>\n",
       "      <th>aucun</th>\n",
       "      <th>aussi</th>\n",
       "      <th>autre</th>\n",
       "      <th>avoir</th>\n",
       "      <th>bien</th>\n",
       "      <th>...</th>\n",
       "      <th>tout</th>\n",
       "      <th>travail</th>\n",
       "      <th>trop</th>\n",
       "      <th>trouver</th>\n",
       "      <th>très</th>\n",
       "      <th>utile</th>\n",
       "      <th>voir</th>\n",
       "      <th>vouloir</th>\n",
       "      <th>état</th>\n",
       "      <th>être</th>\n",
       "    </tr>\n",
       "  </thead>\n",
       "  <tbody>\n",
       "    <tr>\n",
       "      <th>0</th>\n",
       "      <td>0.149311</td>\n",
       "      <td>0.056274</td>\n",
       "      <td>0.000000</td>\n",
       "      <td>0.050736</td>\n",
       "      <td>0.000000</td>\n",
       "      <td>0.024923</td>\n",
       "      <td>0.081087</td>\n",
       "      <td>0.373479</td>\n",
       "      <td>0.063557</td>\n",
       "      <td>0.071318</td>\n",
       "      <td>...</td>\n",
       "      <td>0.277485</td>\n",
       "      <td>0.077948</td>\n",
       "      <td>0.116647</td>\n",
       "      <td>0.067073</td>\n",
       "      <td>0.000000</td>\n",
       "      <td>0.033938</td>\n",
       "      <td>0.000000</td>\n",
       "      <td>0.000000</td>\n",
       "      <td>0.059883</td>\n",
       "      <td>0.198273</td>\n",
       "    </tr>\n",
       "    <tr>\n",
       "      <th>1</th>\n",
       "      <td>0.559812</td>\n",
       "      <td>0.012605</td>\n",
       "      <td>0.191481</td>\n",
       "      <td>0.009604</td>\n",
       "      <td>0.247346</td>\n",
       "      <td>0.000000</td>\n",
       "      <td>0.012119</td>\n",
       "      <td>0.000000</td>\n",
       "      <td>0.036112</td>\n",
       "      <td>0.009730</td>\n",
       "      <td>...</td>\n",
       "      <td>0.593179</td>\n",
       "      <td>0.000000</td>\n",
       "      <td>0.236454</td>\n",
       "      <td>0.000000</td>\n",
       "      <td>0.034640</td>\n",
       "      <td>0.253454</td>\n",
       "      <td>0.235026</td>\n",
       "      <td>0.000000</td>\n",
       "      <td>0.000000</td>\n",
       "      <td>0.018004</td>\n",
       "    </tr>\n",
       "    <tr>\n",
       "      <th>2</th>\n",
       "      <td>0.000000</td>\n",
       "      <td>0.222660</td>\n",
       "      <td>0.100077</td>\n",
       "      <td>0.019900</td>\n",
       "      <td>0.264063</td>\n",
       "      <td>0.000000</td>\n",
       "      <td>0.185783</td>\n",
       "      <td>0.000000</td>\n",
       "      <td>0.127756</td>\n",
       "      <td>0.000000</td>\n",
       "      <td>...</td>\n",
       "      <td>0.320023</td>\n",
       "      <td>0.000000</td>\n",
       "      <td>0.000000</td>\n",
       "      <td>0.111902</td>\n",
       "      <td>0.199700</td>\n",
       "      <td>0.194977</td>\n",
       "      <td>0.044323</td>\n",
       "      <td>0.237316</td>\n",
       "      <td>0.059059</td>\n",
       "      <td>0.395389</td>\n",
       "    </tr>\n",
       "    <tr>\n",
       "      <th>3</th>\n",
       "      <td>0.000000</td>\n",
       "      <td>0.006220</td>\n",
       "      <td>0.040089</td>\n",
       "      <td>0.000000</td>\n",
       "      <td>0.303707</td>\n",
       "      <td>0.073520</td>\n",
       "      <td>0.000000</td>\n",
       "      <td>0.000000</td>\n",
       "      <td>0.000000</td>\n",
       "      <td>0.319605</td>\n",
       "      <td>...</td>\n",
       "      <td>0.038164</td>\n",
       "      <td>0.000000</td>\n",
       "      <td>0.000000</td>\n",
       "      <td>0.142554</td>\n",
       "      <td>0.059026</td>\n",
       "      <td>0.006255</td>\n",
       "      <td>0.206193</td>\n",
       "      <td>0.000000</td>\n",
       "      <td>0.022300</td>\n",
       "      <td>0.154785</td>\n",
       "    </tr>\n",
       "    <tr>\n",
       "      <th>4</th>\n",
       "      <td>0.000000</td>\n",
       "      <td>0.067279</td>\n",
       "      <td>0.000000</td>\n",
       "      <td>0.091662</td>\n",
       "      <td>0.001694</td>\n",
       "      <td>0.091050</td>\n",
       "      <td>0.000000</td>\n",
       "      <td>0.095703</td>\n",
       "      <td>0.239688</td>\n",
       "      <td>0.153977</td>\n",
       "      <td>...</td>\n",
       "      <td>0.546107</td>\n",
       "      <td>0.000000</td>\n",
       "      <td>0.125689</td>\n",
       "      <td>0.000000</td>\n",
       "      <td>0.000000</td>\n",
       "      <td>0.067368</td>\n",
       "      <td>0.216429</td>\n",
       "      <td>0.199350</td>\n",
       "      <td>0.168335</td>\n",
       "      <td>0.282816</td>\n",
       "    </tr>\n",
       "    <tr>\n",
       "      <th>5</th>\n",
       "      <td>0.189961</td>\n",
       "      <td>0.000000</td>\n",
       "      <td>0.170222</td>\n",
       "      <td>0.000000</td>\n",
       "      <td>0.031753</td>\n",
       "      <td>0.008746</td>\n",
       "      <td>0.002625</td>\n",
       "      <td>0.022029</td>\n",
       "      <td>0.038858</td>\n",
       "      <td>0.133890</td>\n",
       "      <td>...</td>\n",
       "      <td>0.255659</td>\n",
       "      <td>0.160785</td>\n",
       "      <td>0.000000</td>\n",
       "      <td>0.000000</td>\n",
       "      <td>0.000000</td>\n",
       "      <td>0.010243</td>\n",
       "      <td>0.100286</td>\n",
       "      <td>0.001836</td>\n",
       "      <td>0.155076</td>\n",
       "      <td>0.159327</td>\n",
       "    </tr>\n",
       "    <tr>\n",
       "      <th>6</th>\n",
       "      <td>0.000000</td>\n",
       "      <td>0.043440</td>\n",
       "      <td>0.339360</td>\n",
       "      <td>0.177592</td>\n",
       "      <td>0.000000</td>\n",
       "      <td>0.000000</td>\n",
       "      <td>0.037187</td>\n",
       "      <td>0.000000</td>\n",
       "      <td>0.648389</td>\n",
       "      <td>0.000000</td>\n",
       "      <td>...</td>\n",
       "      <td>0.000000</td>\n",
       "      <td>0.000000</td>\n",
       "      <td>0.000000</td>\n",
       "      <td>0.025129</td>\n",
       "      <td>0.218965</td>\n",
       "      <td>0.224734</td>\n",
       "      <td>0.000000</td>\n",
       "      <td>0.208320</td>\n",
       "      <td>0.000000</td>\n",
       "      <td>0.184196</td>\n",
       "    </tr>\n",
       "    <tr>\n",
       "      <th>7</th>\n",
       "      <td>0.062983</td>\n",
       "      <td>0.053921</td>\n",
       "      <td>0.000000</td>\n",
       "      <td>0.182993</td>\n",
       "      <td>0.000000</td>\n",
       "      <td>0.058385</td>\n",
       "      <td>0.000000</td>\n",
       "      <td>0.100933</td>\n",
       "      <td>0.063009</td>\n",
       "      <td>0.092735</td>\n",
       "      <td>...</td>\n",
       "      <td>0.314951</td>\n",
       "      <td>0.026416</td>\n",
       "      <td>0.022479</td>\n",
       "      <td>0.128162</td>\n",
       "      <td>0.023264</td>\n",
       "      <td>0.025189</td>\n",
       "      <td>0.052315</td>\n",
       "      <td>0.000000</td>\n",
       "      <td>0.000000</td>\n",
       "      <td>0.026063</td>\n",
       "    </tr>\n",
       "    <tr>\n",
       "      <th>8</th>\n",
       "      <td>0.000000</td>\n",
       "      <td>0.067595</td>\n",
       "      <td>0.000000</td>\n",
       "      <td>0.000000</td>\n",
       "      <td>0.000000</td>\n",
       "      <td>0.100969</td>\n",
       "      <td>0.171103</td>\n",
       "      <td>0.250161</td>\n",
       "      <td>0.000000</td>\n",
       "      <td>0.133025</td>\n",
       "      <td>...</td>\n",
       "      <td>0.000000</td>\n",
       "      <td>0.031314</td>\n",
       "      <td>0.047432</td>\n",
       "      <td>0.080562</td>\n",
       "      <td>0.000000</td>\n",
       "      <td>0.000000</td>\n",
       "      <td>0.071508</td>\n",
       "      <td>0.069916</td>\n",
       "      <td>0.000000</td>\n",
       "      <td>0.311995</td>\n",
       "    </tr>\n",
       "    <tr>\n",
       "      <th>9</th>\n",
       "      <td>0.039541</td>\n",
       "      <td>0.066110</td>\n",
       "      <td>0.000000</td>\n",
       "      <td>0.091491</td>\n",
       "      <td>0.000000</td>\n",
       "      <td>0.068487</td>\n",
       "      <td>0.101307</td>\n",
       "      <td>0.000000</td>\n",
       "      <td>0.065426</td>\n",
       "      <td>0.000000</td>\n",
       "      <td>...</td>\n",
       "      <td>0.193615</td>\n",
       "      <td>0.513390</td>\n",
       "      <td>0.016614</td>\n",
       "      <td>0.000000</td>\n",
       "      <td>0.134766</td>\n",
       "      <td>0.011131</td>\n",
       "      <td>0.204119</td>\n",
       "      <td>0.028353</td>\n",
       "      <td>0.046410</td>\n",
       "      <td>0.000000</td>\n",
       "    </tr>\n",
       "  </tbody>\n",
       "</table>\n",
       "<p>10 rows × 78 columns</p>\n",
       "</div>"
      ],
      "text/plain": [
       "   académie     alors        an     après       art     aucun     aussi  \\\n",
       "0  0.149311  0.056274  0.000000  0.050736  0.000000  0.024923  0.081087   \n",
       "1  0.559812  0.012605  0.191481  0.009604  0.247346  0.000000  0.012119   \n",
       "2  0.000000  0.222660  0.100077  0.019900  0.264063  0.000000  0.185783   \n",
       "3  0.000000  0.006220  0.040089  0.000000  0.303707  0.073520  0.000000   \n",
       "4  0.000000  0.067279  0.000000  0.091662  0.001694  0.091050  0.000000   \n",
       "5  0.189961  0.000000  0.170222  0.000000  0.031753  0.008746  0.002625   \n",
       "6  0.000000  0.043440  0.339360  0.177592  0.000000  0.000000  0.037187   \n",
       "7  0.062983  0.053921  0.000000  0.182993  0.000000  0.058385  0.000000   \n",
       "8  0.000000  0.067595  0.000000  0.000000  0.000000  0.100969  0.171103   \n",
       "9  0.039541  0.066110  0.000000  0.091491  0.000000  0.068487  0.101307   \n",
       "\n",
       "      autre     avoir      bien  ...      tout   travail      trop   trouver  \\\n",
       "0  0.373479  0.063557  0.071318  ...  0.277485  0.077948  0.116647  0.067073   \n",
       "1  0.000000  0.036112  0.009730  ...  0.593179  0.000000  0.236454  0.000000   \n",
       "2  0.000000  0.127756  0.000000  ...  0.320023  0.000000  0.000000  0.111902   \n",
       "3  0.000000  0.000000  0.319605  ...  0.038164  0.000000  0.000000  0.142554   \n",
       "4  0.095703  0.239688  0.153977  ...  0.546107  0.000000  0.125689  0.000000   \n",
       "5  0.022029  0.038858  0.133890  ...  0.255659  0.160785  0.000000  0.000000   \n",
       "6  0.000000  0.648389  0.000000  ...  0.000000  0.000000  0.000000  0.025129   \n",
       "7  0.100933  0.063009  0.092735  ...  0.314951  0.026416  0.022479  0.128162   \n",
       "8  0.250161  0.000000  0.133025  ...  0.000000  0.031314  0.047432  0.080562   \n",
       "9  0.000000  0.065426  0.000000  ...  0.193615  0.513390  0.016614  0.000000   \n",
       "\n",
       "       très     utile      voir   vouloir      état      être  \n",
       "0  0.000000  0.033938  0.000000  0.000000  0.059883  0.198273  \n",
       "1  0.034640  0.253454  0.235026  0.000000  0.000000  0.018004  \n",
       "2  0.199700  0.194977  0.044323  0.237316  0.059059  0.395389  \n",
       "3  0.059026  0.006255  0.206193  0.000000  0.022300  0.154785  \n",
       "4  0.000000  0.067368  0.216429  0.199350  0.168335  0.282816  \n",
       "5  0.000000  0.010243  0.100286  0.001836  0.155076  0.159327  \n",
       "6  0.218965  0.224734  0.000000  0.208320  0.000000  0.184196  \n",
       "7  0.023264  0.025189  0.052315  0.000000  0.000000  0.026063  \n",
       "8  0.000000  0.000000  0.071508  0.069916  0.000000  0.311995  \n",
       "9  0.134766  0.011131  0.204119  0.028353  0.046410  0.000000  \n",
       "\n",
       "[10 rows x 78 columns]"
      ]
     },
     "execution_count": 210,
     "metadata": {},
     "output_type": "execute_result"
    }
   ],
   "source": [
    "# Create a DataFrame: components_df\n",
    "components_df = pd.DataFrame(model.components_, columns=vect.get_feature_names())\n",
    "components_df"
   ]
  },
  {
   "cell_type": "code",
   "execution_count": 211,
   "id": "optimum-safety",
   "metadata": {},
   "outputs": [
    {
     "name": "stdout",
     "output_type": "stream",
     "text": [
      "For topic 1 the words with the highest value are:\n",
      "celui      0.882224\n",
      "ce         0.598722\n",
      "devoir     0.497374\n",
      "autre      0.373479\n",
      "comme      0.361561\n",
      "premier    0.356558\n",
      "pouvoir    0.342852\n",
      "dont       0.325031\n",
      "quelque    0.323349\n",
      "tout       0.277485\n",
      "Name: 0, dtype: float64\n",
      "\n",
      "\n",
      "For topic 2 the words with the highest value are:\n",
      "tout           0.593179\n",
      "académie       0.559812\n",
      "observation    0.359213\n",
      "lequel         0.289959\n",
      "plusieurs      0.283346\n",
      "grand          0.282702\n",
      "nombre         0.279277\n",
      "utile          0.253454\n",
      "souvent        0.250899\n",
      "art            0.247346\n",
      "Name: 1, dtype: float64\n",
      "\n",
      "\n",
      "For topic 3 the words with the highest value are:\n",
      "plus       1.105828\n",
      "temps      0.427115\n",
      "devoir     0.405589\n",
      "être       0.395389\n",
      "tout       0.320023\n",
      "art        0.264063\n",
      "faire      0.263527\n",
      "vouloir    0.237316\n",
      "rendre     0.233183\n",
      "alors      0.222660\n",
      "Name: 2, dtype: float64\n",
      "\n",
      "\n",
      "For topic 4 the words with the highest value are:\n",
      "faire          0.481279\n",
      "plus           0.456719\n",
      "comme          0.345915\n",
      "observation    0.325988\n",
      "bien           0.319605\n",
      "art            0.303707\n",
      "premier        0.238897\n",
      "homme          0.218960\n",
      "encore         0.209345\n",
      "voir           0.206193\n",
      "Name: 3, dtype: float64\n",
      "\n",
      "\n",
      "For topic 5 the words with the highest value are:\n",
      "homme      0.788352\n",
      "tout       0.546107\n",
      "plus       0.444018\n",
      "faire      0.417682\n",
      "pouvoir    0.413587\n",
      "leur       0.395518\n",
      "être       0.282816\n",
      "grand      0.262988\n",
      "sans       0.245065\n",
      "avoir      0.239688\n",
      "Name: 4, dtype: float64\n",
      "\n",
      "\n",
      "For topic 6 the words with the highest value are:\n",
      "science     0.614300\n",
      "presque     0.501613\n",
      "partie      0.300804\n",
      "depuis      0.288581\n",
      "tout        0.255659\n",
      "pouvoir     0.193270\n",
      "académie    0.189961\n",
      "esprit      0.182324\n",
      "faire       0.176807\n",
      "savant      0.175972\n",
      "Name: 5, dtype: float64\n",
      "\n",
      "\n",
      "For topic 7 the words with the highest value are:\n",
      "avoir          0.648389\n",
      "ce             0.418896\n",
      "ouvrage        0.375377\n",
      "an             0.339360\n",
      "grand          0.267482\n",
      "observation    0.234777\n",
      "nombre         0.229676\n",
      "objet          0.227809\n",
      "donner         0.225049\n",
      "utile          0.224734\n",
      "Name: 6, dtype: float64\n",
      "\n",
      "\n",
      "For topic 8 the words with the highest value are:\n",
      "ce         0.631973\n",
      "faire      0.495386\n",
      "tout       0.314951\n",
      "plus       0.311790\n",
      "nature     0.303840\n",
      "général    0.210833\n",
      "dont       0.204336\n",
      "point      0.197454\n",
      "pouvoir    0.195171\n",
      "après      0.182993\n",
      "Name: 7, dtype: float64\n",
      "\n",
      "\n",
      "For topic 9 the words with the highest value are:\n",
      "pouvoir    0.458240\n",
      "plus       0.368399\n",
      "être       0.311995\n",
      "autre      0.250161\n",
      "ce         0.225397\n",
      "nombre     0.205492\n",
      "nouveau    0.199639\n",
      "temps      0.199318\n",
      "rendre     0.184124\n",
      "partie     0.175613\n",
      "Name: 8, dtype: float64\n",
      "\n",
      "\n",
      "For topic 10 the words with the highest value are:\n",
      "plus        0.724713\n",
      "travail     0.513390\n",
      "encore      0.297085\n",
      "pouvoir     0.297011\n",
      "grand       0.260883\n",
      "jamais      0.247687\n",
      "leur        0.235458\n",
      "toujours    0.207001\n",
      "ce          0.204482\n",
      "voir        0.204119\n",
      "Name: 9, dtype: float64\n",
      "\n",
      "\n"
     ]
    },
    {
     "name": "stderr",
     "output_type": "stream",
     "text": [
      "/Users/clemencebarsi/miniconda3/lib/python3.8/site-packages/ipykernel/ipkernel.py:283: DeprecationWarning: `should_run_async` will not call `transform_cell` automatically in the future. Please pass the result to `transformed_cell` argument and any exception that happen during thetransform in `preprocessing_exc_tuple` in IPython 7.17 and above.\n",
      "  and should_run_async(code)\n"
     ]
    }
   ],
   "source": [
    "for topic in range(components_df.shape[0]):\n",
    "    tmp = components_df.iloc[topic]\n",
    "    print(f'For topic {topic+1} the words with the highest value are:')\n",
    "    print(tmp.nlargest(10))\n",
    "    print('\\n')"
   ]
  },
  {
   "cell_type": "markdown",
   "id": "important-boards",
   "metadata": {},
   "source": [
    "## 9. Topic Modeling over time"
   ]
  },
  {
   "cell_type": "code",
   "execution_count": 212,
   "id": "narrow-clarity",
   "metadata": {},
   "outputs": [
    {
     "name": "stderr",
     "output_type": "stream",
     "text": [
      "/Users/clemencebarsi/miniconda3/lib/python3.8/site-packages/ipykernel/ipkernel.py:283: DeprecationWarning: `should_run_async` will not call `transform_cell` automatically in the future. Please pass the result to `transformed_cell` argument and any exception that happen during thetransform in `preprocessing_exc_tuple` in IPython 7.17 and above.\n",
      "  and should_run_async(code)\n"
     ]
    }
   ],
   "source": [
    "import little_mallet_wrapper\n",
    "import seaborn\n",
    "import glob\n",
    "from pathlib import Path\n",
    "import pandas as pd\n",
    "import random\n",
    "pd.options.display.max_colwidth = 100"
   ]
  },
  {
   "cell_type": "code",
   "execution_count": 213,
   "id": "mental-ranking",
   "metadata": {},
   "outputs": [
    {
     "name": "stderr",
     "output_type": "stream",
     "text": [
      "/Users/clemencebarsi/miniconda3/lib/python3.8/site-packages/ipykernel/ipkernel.py:283: DeprecationWarning: `should_run_async` will not call `transform_cell` automatically in the future. Please pass the result to `transformed_cell` argument and any exception that happen during thetransform in `preprocessing_exc_tuple` in IPython 7.17 and above.\n",
      "  and should_run_async(code)\n"
     ]
    }
   ],
   "source": [
    "training_data = [little_mallet_wrapper.process_string(text, numbers='remove') for text in df_cond['Eloge_lem']]\n"
   ]
  },
  {
   "cell_type": "code",
   "execution_count": 214,
   "id": "sunset-meter",
   "metadata": {},
   "outputs": [
    {
     "name": "stdout",
     "output_type": "stream",
     "text": [
      "Number of Documents: 66\n",
      "Mean Number of Words per Document: 2092.8\n",
      "Vocabulary Size: 10984\n"
     ]
    },
    {
     "name": "stderr",
     "output_type": "stream",
     "text": [
      "/Users/clemencebarsi/miniconda3/lib/python3.8/site-packages/ipykernel/ipkernel.py:283: DeprecationWarning: `should_run_async` will not call `transform_cell` automatically in the future. Please pass the result to `transformed_cell` argument and any exception that happen during thetransform in `preprocessing_exc_tuple` in IPython 7.17 and above.\n",
      "  and should_run_async(code)\n"
     ]
    }
   ],
   "source": [
    "little_mallet_wrapper.print_dataset_stats(training_data)\n"
   ]
  },
  {
   "cell_type": "code",
   "execution_count": 219,
   "id": "increasing-bermuda",
   "metadata": {},
   "outputs": [
    {
     "name": "stderr",
     "output_type": "stream",
     "text": [
      "/Users/clemencebarsi/miniconda3/lib/python3.8/site-packages/ipykernel/ipkernel.py:283: DeprecationWarning: `should_run_async` will not call `transform_cell` automatically in the future. Please pass the result to `transformed_cell` argument and any exception that happen during thetransform in `preprocessing_exc_tuple` in IPython 7.17 and above.\n",
      "  and should_run_async(code)\n"
     ]
    }
   ],
   "source": [
    "num_topics = 35\n",
    "\n",
    "#Change to your desired output directory\n",
    "output_directory_path = 'output/'\n",
    "\n",
    "#No need to change anything below here\n",
    "Path(f\"{output_directory_path}\").mkdir(parents=True, exist_ok=True)\n",
    "\n",
    "path_to_training_data           = f\"{output_directory_path}/training.txt\"\n",
    "path_to_formatted_training_data = f\"{output_directory_path}/mallet.training\"\n",
    "path_to_model                   = f\"{output_directory_path}/mallet.model.{str(num_topics)}\"\n",
    "path_to_topic_keys              = f\"{output_directory_path}/mallet.topic_keys.{str(num_topics)}\"\n",
    "path_to_topic_distributions     = f\"{output_directory_path}/mallet.topic_distributions.{str(num_topics)}\""
   ]
  },
  {
   "cell_type": "code",
   "execution_count": 221,
   "id": "useful-combat",
   "metadata": {},
   "outputs": [
    {
     "name": "stdout",
     "output_type": "stream",
     "text": [
      "Importing data...\n",
      "Complete\n",
      "Training topic model...\n",
      "Complete\n"
     ]
    },
    {
     "name": "stderr",
     "output_type": "stream",
     "text": [
      "/Users/clemencebarsi/miniconda3/lib/python3.8/site-packages/ipykernel/ipkernel.py:283: DeprecationWarning: `should_run_async` will not call `transform_cell` automatically in the future. Please pass the result to `transformed_cell` argument and any exception that happen during thetransform in `preprocessing_exc_tuple` in IPython 7.17 and above.\n",
      "  and should_run_async(code)\n"
     ]
    },
    {
     "ename": "FileNotFoundError",
     "evalue": "[Errno 2] No such file or directory: 'Output/mallet.topic_keys.35'",
     "output_type": "error",
     "traceback": [
      "\u001b[0;31m---------------------------------------------------------------------------\u001b[0m",
      "\u001b[0;31mFileNotFoundError\u001b[0m                         Traceback (most recent call last)",
      "\u001b[0;32m<ipython-input-221-b9963d4644b5>\u001b[0m in \u001b[0;36m<module>\u001b[0;34m\u001b[0m\n\u001b[1;32m      2\u001b[0m \u001b[0;34m\u001b[0m\u001b[0m\n\u001b[1;32m      3\u001b[0m \u001b[0;34m\u001b[0m\u001b[0m\n\u001b[0;32m----> 4\u001b[0;31m little_mallet_wrapper.quick_train_topic_model(path_to_mallet,\n\u001b[0m\u001b[1;32m      5\u001b[0m                                                                      \u001b[0;34m'Output'\u001b[0m\u001b[0;34m,\u001b[0m\u001b[0;34m\u001b[0m\u001b[0;34m\u001b[0m\u001b[0m\n\u001b[1;32m      6\u001b[0m                                                                      \u001b[0mnum_topics\u001b[0m\u001b[0;34m,\u001b[0m\u001b[0;34m\u001b[0m\u001b[0;34m\u001b[0m\u001b[0m\n",
      "\u001b[0;32m~/miniconda3/lib/python3.8/site-packages/little_mallet_wrapper/little_mallet_wrapper.py\u001b[0m in \u001b[0;36mquick_train_topic_model\u001b[0;34m(path_to_mallet, output_directory_path, num_topics, training_data)\u001b[0m\n\u001b[1;32m     88\u001b[0m                       num_topics)\n\u001b[1;32m     89\u001b[0m \u001b[0;34m\u001b[0m\u001b[0m\n\u001b[0;32m---> 90\u001b[0;31m     \u001b[0mtopic_keys\u001b[0m \u001b[0;34m=\u001b[0m \u001b[0mload_topic_keys\u001b[0m\u001b[0;34m(\u001b[0m\u001b[0mpath_to_topic_keys\u001b[0m\u001b[0;34m)\u001b[0m\u001b[0;34m\u001b[0m\u001b[0;34m\u001b[0m\u001b[0m\n\u001b[0m\u001b[1;32m     91\u001b[0m     \u001b[0mtopic_distributions\u001b[0m \u001b[0;34m=\u001b[0m \u001b[0mload_topic_distributions\u001b[0m\u001b[0;34m(\u001b[0m\u001b[0mpath_to_topic_distributions\u001b[0m\u001b[0;34m)\u001b[0m\u001b[0;34m\u001b[0m\u001b[0;34m\u001b[0m\u001b[0m\n\u001b[1;32m     92\u001b[0m \u001b[0;34m\u001b[0m\u001b[0m\n",
      "\u001b[0;32m~/miniconda3/lib/python3.8/site-packages/little_mallet_wrapper/little_mallet_wrapper.py\u001b[0m in \u001b[0;36mload_topic_keys\u001b[0;34m(topic_keys_path)\u001b[0m\n\u001b[1;32m    150\u001b[0m \u001b[0;34m\u001b[0m\u001b[0m\n\u001b[1;32m    151\u001b[0m \u001b[0;32mdef\u001b[0m \u001b[0mload_topic_keys\u001b[0m\u001b[0;34m(\u001b[0m\u001b[0mtopic_keys_path\u001b[0m\u001b[0;34m)\u001b[0m\u001b[0;34m:\u001b[0m\u001b[0;34m\u001b[0m\u001b[0;34m\u001b[0m\u001b[0m\n\u001b[0;32m--> 152\u001b[0;31m     \u001b[0;32mreturn\u001b[0m \u001b[0;34m[\u001b[0m\u001b[0mline\u001b[0m\u001b[0;34m.\u001b[0m\u001b[0msplit\u001b[0m\u001b[0;34m(\u001b[0m\u001b[0;34m'\\t'\u001b[0m\u001b[0;34m)\u001b[0m\u001b[0;34m[\u001b[0m\u001b[0;36m2\u001b[0m\u001b[0;34m]\u001b[0m\u001b[0;34m.\u001b[0m\u001b[0msplit\u001b[0m\u001b[0;34m(\u001b[0m\u001b[0;34m)\u001b[0m \u001b[0;32mfor\u001b[0m \u001b[0mline\u001b[0m \u001b[0;32min\u001b[0m \u001b[0mopen\u001b[0m\u001b[0;34m(\u001b[0m\u001b[0mtopic_keys_path\u001b[0m\u001b[0;34m,\u001b[0m \u001b[0;34m'r'\u001b[0m\u001b[0;34m)\u001b[0m\u001b[0;34m]\u001b[0m\u001b[0;34m\u001b[0m\u001b[0;34m\u001b[0m\u001b[0m\n\u001b[0m\u001b[1;32m    153\u001b[0m \u001b[0;34m\u001b[0m\u001b[0m\n\u001b[1;32m    154\u001b[0m \u001b[0;34m\u001b[0m\u001b[0m\n",
      "\u001b[0;31mFileNotFoundError\u001b[0m: [Errno 2] No such file or directory: 'Output/mallet.topic_keys.35'"
     ]
    }
   ],
   "source": [
    "path_to_mallet = 'mallet-2.0.8/bin/mallet'\n",
    "\n",
    "\n",
    "little_mallet_wrapper.quick_train_topic_model(path_to_mallet,\n",
    "                                                                     'Output',\n",
    "                                                                     num_topics,\n",
    "                                                                     training_data)"
   ]
  },
  {
   "cell_type": "markdown",
   "id": "impressed-section",
   "metadata": {},
   "source": [
    "## 10. Bertopic"
   ]
  },
  {
   "cell_type": "code",
   "execution_count": 229,
   "id": "unusual-frank",
   "metadata": {
    "scrolled": true
   },
   "outputs": [
    {
     "name": "stderr",
     "output_type": "stream",
     "text": [
      "/Users/clemencebarsi/miniconda3/lib/python3.8/site-packages/ipykernel/ipkernel.py:283: DeprecationWarning: `should_run_async` will not call `transform_cell` automatically in the future. Please pass the result to `transformed_cell` argument and any exception that happen during thetransform in `preprocessing_exc_tuple` in IPython 7.17 and above.\n",
      "  and should_run_async(code)\n"
     ]
    }
   ],
   "source": [
    "from bertopic import BERTopic\n",
    "from sentence_transformers import SentenceTransformer\n"
   ]
  },
  {
   "cell_type": "code",
   "execution_count": 244,
   "id": "authorized-matter",
   "metadata": {
    "scrolled": true
   },
   "outputs": [
    {
     "name": "stderr",
     "output_type": "stream",
     "text": [
      "/Users/clemencebarsi/miniconda3/lib/python3.8/site-packages/ipykernel/ipkernel.py:283: DeprecationWarning:\n",
      "\n",
      "`should_run_async` will not call `transform_cell` automatically in the future. Please pass the result to `transformed_cell` argument and any exception that happen during thetransform in `preprocessing_exc_tuple` in IPython 7.17 and above.\n",
      "\n"
     ]
    }
   ],
   "source": [
    "# Prepare embeddings\n",
    "sentence_model = SentenceTransformer(\"distilbert-base-nli-mean-tokens\")\n",
    "\n",
    "docs = df_cond.Eloge_lem\n",
    "embeddings = sentence_model.encode(docs, show_progress_bar=False)\n",
    "\n",
    "# Create topic model\n",
    "model = BERTopic(language ='French')\n",
    "topics, probabilities = model.fit_transform(docs, embeddings)"
   ]
  },
  {
   "cell_type": "code",
   "execution_count": 245,
   "id": "international-cover",
   "metadata": {},
   "outputs": [
    {
     "name": "stderr",
     "output_type": "stream",
     "text": [
      "/Users/clemencebarsi/miniconda3/lib/python3.8/site-packages/ipykernel/ipkernel.py:283: DeprecationWarning:\n",
      "\n",
      "`should_run_async` will not call `transform_cell` automatically in the future. Please pass the result to `transformed_cell` argument and any exception that happen during thetransform in `preprocessing_exc_tuple` in IPython 7.17 and above.\n",
      "\n"
     ]
    },
    {
     "data": {
      "application/vnd.plotly.v1+json": {
       "config": {
        "plotlyServerURL": "https://plot.ly"
       },
       "data": [],
       "layout": {
        "annotations": [
         {
          "showarrow": false,
          "text": "D1",
          "x": null,
          "y": null,
          "yshift": 10
         },
         {
          "showarrow": false,
          "text": "D2",
          "x": null,
          "xshift": 10,
          "y": null
         }
        ],
        "height": 650,
        "hoverlabel": {
         "bgcolor": "white",
         "font": {
          "family": "Rockwell",
          "size": 16
         }
        },
        "legend": {
         "itemsizing": "constant",
         "tracegroupgap": 0
        },
        "margin": {
         "t": 60
        },
        "shapes": [
         {
          "line": {
           "color": "#CFD8DC",
           "width": 2
          },
          "type": "line",
          "x0": null,
          "x1": null,
          "y0": null,
          "y1": null
         },
         {
          "line": {
           "color": "#9E9E9E",
           "width": 2
          },
          "type": "line",
          "x0": null,
          "x1": null,
          "y0": null,
          "y1": null
         }
        ],
        "sliders": [
         {
          "active": 0,
          "pad": {
           "t": 50
          }
         }
        ],
        "template": {
         "data": {
          "bar": [
           {
            "error_x": {
             "color": "rgb(36,36,36)"
            },
            "error_y": {
             "color": "rgb(36,36,36)"
            },
            "marker": {
             "line": {
              "color": "white",
              "width": 0.5
             },
             "pattern": {
              "fillmode": "overlay",
              "size": 10,
              "solidity": 0.2
             }
            },
            "type": "bar"
           }
          ],
          "barpolar": [
           {
            "marker": {
             "line": {
              "color": "white",
              "width": 0.5
             },
             "pattern": {
              "fillmode": "overlay",
              "size": 10,
              "solidity": 0.2
             }
            },
            "type": "barpolar"
           }
          ],
          "carpet": [
           {
            "aaxis": {
             "endlinecolor": "rgb(36,36,36)",
             "gridcolor": "white",
             "linecolor": "white",
             "minorgridcolor": "white",
             "startlinecolor": "rgb(36,36,36)"
            },
            "baxis": {
             "endlinecolor": "rgb(36,36,36)",
             "gridcolor": "white",
             "linecolor": "white",
             "minorgridcolor": "white",
             "startlinecolor": "rgb(36,36,36)"
            },
            "type": "carpet"
           }
          ],
          "choropleth": [
           {
            "colorbar": {
             "outlinewidth": 1,
             "tickcolor": "rgb(36,36,36)",
             "ticks": "outside"
            },
            "type": "choropleth"
           }
          ],
          "contour": [
           {
            "colorbar": {
             "outlinewidth": 1,
             "tickcolor": "rgb(36,36,36)",
             "ticks": "outside"
            },
            "colorscale": [
             [
              0,
              "#440154"
             ],
             [
              0.1111111111111111,
              "#482878"
             ],
             [
              0.2222222222222222,
              "#3e4989"
             ],
             [
              0.3333333333333333,
              "#31688e"
             ],
             [
              0.4444444444444444,
              "#26828e"
             ],
             [
              0.5555555555555556,
              "#1f9e89"
             ],
             [
              0.6666666666666666,
              "#35b779"
             ],
             [
              0.7777777777777778,
              "#6ece58"
             ],
             [
              0.8888888888888888,
              "#b5de2b"
             ],
             [
              1,
              "#fde725"
             ]
            ],
            "type": "contour"
           }
          ],
          "contourcarpet": [
           {
            "colorbar": {
             "outlinewidth": 1,
             "tickcolor": "rgb(36,36,36)",
             "ticks": "outside"
            },
            "type": "contourcarpet"
           }
          ],
          "heatmap": [
           {
            "colorbar": {
             "outlinewidth": 1,
             "tickcolor": "rgb(36,36,36)",
             "ticks": "outside"
            },
            "colorscale": [
             [
              0,
              "#440154"
             ],
             [
              0.1111111111111111,
              "#482878"
             ],
             [
              0.2222222222222222,
              "#3e4989"
             ],
             [
              0.3333333333333333,
              "#31688e"
             ],
             [
              0.4444444444444444,
              "#26828e"
             ],
             [
              0.5555555555555556,
              "#1f9e89"
             ],
             [
              0.6666666666666666,
              "#35b779"
             ],
             [
              0.7777777777777778,
              "#6ece58"
             ],
             [
              0.8888888888888888,
              "#b5de2b"
             ],
             [
              1,
              "#fde725"
             ]
            ],
            "type": "heatmap"
           }
          ],
          "heatmapgl": [
           {
            "colorbar": {
             "outlinewidth": 1,
             "tickcolor": "rgb(36,36,36)",
             "ticks": "outside"
            },
            "colorscale": [
             [
              0,
              "#440154"
             ],
             [
              0.1111111111111111,
              "#482878"
             ],
             [
              0.2222222222222222,
              "#3e4989"
             ],
             [
              0.3333333333333333,
              "#31688e"
             ],
             [
              0.4444444444444444,
              "#26828e"
             ],
             [
              0.5555555555555556,
              "#1f9e89"
             ],
             [
              0.6666666666666666,
              "#35b779"
             ],
             [
              0.7777777777777778,
              "#6ece58"
             ],
             [
              0.8888888888888888,
              "#b5de2b"
             ],
             [
              1,
              "#fde725"
             ]
            ],
            "type": "heatmapgl"
           }
          ],
          "histogram": [
           {
            "marker": {
             "line": {
              "color": "white",
              "width": 0.6
             }
            },
            "type": "histogram"
           }
          ],
          "histogram2d": [
           {
            "colorbar": {
             "outlinewidth": 1,
             "tickcolor": "rgb(36,36,36)",
             "ticks": "outside"
            },
            "colorscale": [
             [
              0,
              "#440154"
             ],
             [
              0.1111111111111111,
              "#482878"
             ],
             [
              0.2222222222222222,
              "#3e4989"
             ],
             [
              0.3333333333333333,
              "#31688e"
             ],
             [
              0.4444444444444444,
              "#26828e"
             ],
             [
              0.5555555555555556,
              "#1f9e89"
             ],
             [
              0.6666666666666666,
              "#35b779"
             ],
             [
              0.7777777777777778,
              "#6ece58"
             ],
             [
              0.8888888888888888,
              "#b5de2b"
             ],
             [
              1,
              "#fde725"
             ]
            ],
            "type": "histogram2d"
           }
          ],
          "histogram2dcontour": [
           {
            "colorbar": {
             "outlinewidth": 1,
             "tickcolor": "rgb(36,36,36)",
             "ticks": "outside"
            },
            "colorscale": [
             [
              0,
              "#440154"
             ],
             [
              0.1111111111111111,
              "#482878"
             ],
             [
              0.2222222222222222,
              "#3e4989"
             ],
             [
              0.3333333333333333,
              "#31688e"
             ],
             [
              0.4444444444444444,
              "#26828e"
             ],
             [
              0.5555555555555556,
              "#1f9e89"
             ],
             [
              0.6666666666666666,
              "#35b779"
             ],
             [
              0.7777777777777778,
              "#6ece58"
             ],
             [
              0.8888888888888888,
              "#b5de2b"
             ],
             [
              1,
              "#fde725"
             ]
            ],
            "type": "histogram2dcontour"
           }
          ],
          "mesh3d": [
           {
            "colorbar": {
             "outlinewidth": 1,
             "tickcolor": "rgb(36,36,36)",
             "ticks": "outside"
            },
            "type": "mesh3d"
           }
          ],
          "parcoords": [
           {
            "line": {
             "colorbar": {
              "outlinewidth": 1,
              "tickcolor": "rgb(36,36,36)",
              "ticks": "outside"
             }
            },
            "type": "parcoords"
           }
          ],
          "pie": [
           {
            "automargin": true,
            "type": "pie"
           }
          ],
          "scatter": [
           {
            "marker": {
             "colorbar": {
              "outlinewidth": 1,
              "tickcolor": "rgb(36,36,36)",
              "ticks": "outside"
             }
            },
            "type": "scatter"
           }
          ],
          "scatter3d": [
           {
            "line": {
             "colorbar": {
              "outlinewidth": 1,
              "tickcolor": "rgb(36,36,36)",
              "ticks": "outside"
             }
            },
            "marker": {
             "colorbar": {
              "outlinewidth": 1,
              "tickcolor": "rgb(36,36,36)",
              "ticks": "outside"
             }
            },
            "type": "scatter3d"
           }
          ],
          "scattercarpet": [
           {
            "marker": {
             "colorbar": {
              "outlinewidth": 1,
              "tickcolor": "rgb(36,36,36)",
              "ticks": "outside"
             }
            },
            "type": "scattercarpet"
           }
          ],
          "scattergeo": [
           {
            "marker": {
             "colorbar": {
              "outlinewidth": 1,
              "tickcolor": "rgb(36,36,36)",
              "ticks": "outside"
             }
            },
            "type": "scattergeo"
           }
          ],
          "scattergl": [
           {
            "marker": {
             "colorbar": {
              "outlinewidth": 1,
              "tickcolor": "rgb(36,36,36)",
              "ticks": "outside"
             }
            },
            "type": "scattergl"
           }
          ],
          "scattermapbox": [
           {
            "marker": {
             "colorbar": {
              "outlinewidth": 1,
              "tickcolor": "rgb(36,36,36)",
              "ticks": "outside"
             }
            },
            "type": "scattermapbox"
           }
          ],
          "scatterpolar": [
           {
            "marker": {
             "colorbar": {
              "outlinewidth": 1,
              "tickcolor": "rgb(36,36,36)",
              "ticks": "outside"
             }
            },
            "type": "scatterpolar"
           }
          ],
          "scatterpolargl": [
           {
            "marker": {
             "colorbar": {
              "outlinewidth": 1,
              "tickcolor": "rgb(36,36,36)",
              "ticks": "outside"
             }
            },
            "type": "scatterpolargl"
           }
          ],
          "scatterternary": [
           {
            "marker": {
             "colorbar": {
              "outlinewidth": 1,
              "tickcolor": "rgb(36,36,36)",
              "ticks": "outside"
             }
            },
            "type": "scatterternary"
           }
          ],
          "surface": [
           {
            "colorbar": {
             "outlinewidth": 1,
             "tickcolor": "rgb(36,36,36)",
             "ticks": "outside"
            },
            "colorscale": [
             [
              0,
              "#440154"
             ],
             [
              0.1111111111111111,
              "#482878"
             ],
             [
              0.2222222222222222,
              "#3e4989"
             ],
             [
              0.3333333333333333,
              "#31688e"
             ],
             [
              0.4444444444444444,
              "#26828e"
             ],
             [
              0.5555555555555556,
              "#1f9e89"
             ],
             [
              0.6666666666666666,
              "#35b779"
             ],
             [
              0.7777777777777778,
              "#6ece58"
             ],
             [
              0.8888888888888888,
              "#b5de2b"
             ],
             [
              1,
              "#fde725"
             ]
            ],
            "type": "surface"
           }
          ],
          "table": [
           {
            "cells": {
             "fill": {
              "color": "rgb(237,237,237)"
             },
             "line": {
              "color": "white"
             }
            },
            "header": {
             "fill": {
              "color": "rgb(217,217,217)"
             },
             "line": {
              "color": "white"
             }
            },
            "type": "table"
           }
          ]
         },
         "layout": {
          "annotationdefaults": {
           "arrowhead": 0,
           "arrowwidth": 1
          },
          "autotypenumbers": "strict",
          "coloraxis": {
           "colorbar": {
            "outlinewidth": 1,
            "tickcolor": "rgb(36,36,36)",
            "ticks": "outside"
           }
          },
          "colorscale": {
           "diverging": [
            [
             0,
             "rgb(103,0,31)"
            ],
            [
             0.1,
             "rgb(178,24,43)"
            ],
            [
             0.2,
             "rgb(214,96,77)"
            ],
            [
             0.3,
             "rgb(244,165,130)"
            ],
            [
             0.4,
             "rgb(253,219,199)"
            ],
            [
             0.5,
             "rgb(247,247,247)"
            ],
            [
             0.6,
             "rgb(209,229,240)"
            ],
            [
             0.7,
             "rgb(146,197,222)"
            ],
            [
             0.8,
             "rgb(67,147,195)"
            ],
            [
             0.9,
             "rgb(33,102,172)"
            ],
            [
             1,
             "rgb(5,48,97)"
            ]
           ],
           "sequential": [
            [
             0,
             "#440154"
            ],
            [
             0.1111111111111111,
             "#482878"
            ],
            [
             0.2222222222222222,
             "#3e4989"
            ],
            [
             0.3333333333333333,
             "#31688e"
            ],
            [
             0.4444444444444444,
             "#26828e"
            ],
            [
             0.5555555555555556,
             "#1f9e89"
            ],
            [
             0.6666666666666666,
             "#35b779"
            ],
            [
             0.7777777777777778,
             "#6ece58"
            ],
            [
             0.8888888888888888,
             "#b5de2b"
            ],
            [
             1,
             "#fde725"
            ]
           ],
           "sequentialminus": [
            [
             0,
             "#440154"
            ],
            [
             0.1111111111111111,
             "#482878"
            ],
            [
             0.2222222222222222,
             "#3e4989"
            ],
            [
             0.3333333333333333,
             "#31688e"
            ],
            [
             0.4444444444444444,
             "#26828e"
            ],
            [
             0.5555555555555556,
             "#1f9e89"
            ],
            [
             0.6666666666666666,
             "#35b779"
            ],
            [
             0.7777777777777778,
             "#6ece58"
            ],
            [
             0.8888888888888888,
             "#b5de2b"
            ],
            [
             1,
             "#fde725"
            ]
           ]
          },
          "colorway": [
           "#1F77B4",
           "#FF7F0E",
           "#2CA02C",
           "#D62728",
           "#9467BD",
           "#8C564B",
           "#E377C2",
           "#7F7F7F",
           "#BCBD22",
           "#17BECF"
          ],
          "font": {
           "color": "rgb(36,36,36)"
          },
          "geo": {
           "bgcolor": "white",
           "lakecolor": "white",
           "landcolor": "white",
           "showlakes": true,
           "showland": true,
           "subunitcolor": "white"
          },
          "hoverlabel": {
           "align": "left"
          },
          "hovermode": "closest",
          "mapbox": {
           "style": "light"
          },
          "paper_bgcolor": "white",
          "plot_bgcolor": "white",
          "polar": {
           "angularaxis": {
            "gridcolor": "rgb(232,232,232)",
            "linecolor": "rgb(36,36,36)",
            "showgrid": false,
            "showline": true,
            "ticks": "outside"
           },
           "bgcolor": "white",
           "radialaxis": {
            "gridcolor": "rgb(232,232,232)",
            "linecolor": "rgb(36,36,36)",
            "showgrid": false,
            "showline": true,
            "ticks": "outside"
           }
          },
          "scene": {
           "xaxis": {
            "backgroundcolor": "white",
            "gridcolor": "rgb(232,232,232)",
            "gridwidth": 2,
            "linecolor": "rgb(36,36,36)",
            "showbackground": true,
            "showgrid": false,
            "showline": true,
            "ticks": "outside",
            "zeroline": false,
            "zerolinecolor": "rgb(36,36,36)"
           },
           "yaxis": {
            "backgroundcolor": "white",
            "gridcolor": "rgb(232,232,232)",
            "gridwidth": 2,
            "linecolor": "rgb(36,36,36)",
            "showbackground": true,
            "showgrid": false,
            "showline": true,
            "ticks": "outside",
            "zeroline": false,
            "zerolinecolor": "rgb(36,36,36)"
           },
           "zaxis": {
            "backgroundcolor": "white",
            "gridcolor": "rgb(232,232,232)",
            "gridwidth": 2,
            "linecolor": "rgb(36,36,36)",
            "showbackground": true,
            "showgrid": false,
            "showline": true,
            "ticks": "outside",
            "zeroline": false,
            "zerolinecolor": "rgb(36,36,36)"
           }
          },
          "shapedefaults": {
           "fillcolor": "black",
           "line": {
            "width": 0
           },
           "opacity": 0.3
          },
          "ternary": {
           "aaxis": {
            "gridcolor": "rgb(232,232,232)",
            "linecolor": "rgb(36,36,36)",
            "showgrid": false,
            "showline": true,
            "ticks": "outside"
           },
           "baxis": {
            "gridcolor": "rgb(232,232,232)",
            "linecolor": "rgb(36,36,36)",
            "showgrid": false,
            "showline": true,
            "ticks": "outside"
           },
           "bgcolor": "white",
           "caxis": {
            "gridcolor": "rgb(232,232,232)",
            "linecolor": "rgb(36,36,36)",
            "showgrid": false,
            "showline": true,
            "ticks": "outside"
           }
          },
          "title": {
           "x": 0.05
          },
          "xaxis": {
           "automargin": true,
           "gridcolor": "rgb(232,232,232)",
           "linecolor": "rgb(36,36,36)",
           "showgrid": false,
           "showline": true,
           "ticks": "outside",
           "title": {
            "standoff": 15
           },
           "zeroline": false,
           "zerolinecolor": "rgb(36,36,36)"
          },
          "yaxis": {
           "automargin": true,
           "gridcolor": "rgb(232,232,232)",
           "linecolor": "rgb(36,36,36)",
           "showgrid": false,
           "showline": true,
           "ticks": "outside",
           "title": {
            "standoff": 15
           },
           "zeroline": false,
           "zerolinecolor": "rgb(36,36,36)"
          }
         }
        },
        "title": {
         "font": {
          "color": "Black",
          "size": 22
         },
         "text": "<b>Intertopic Distance Map",
         "x": 0.5,
         "xanchor": "center",
         "y": 0.95,
         "yanchor": "top"
        },
        "width": 650,
        "xaxis": {
         "anchor": "y",
         "domain": [
          0,
          1
         ],
         "range": [
          null,
          null
         ],
         "title": {
          "text": ""
         },
         "visible": false
        },
        "yaxis": {
         "anchor": "x",
         "domain": [
          0,
          1
         ],
         "range": [
          null,
          null
         ],
         "title": {
          "text": ""
         },
         "visible": false
        }
       }
      },
      "text/html": [
       "<div>                            <div id=\"e11de9d2-7222-47ef-81a6-335277080841\" class=\"plotly-graph-div\" style=\"height:650px; width:650px;\"></div>            <script type=\"text/javascript\">                require([\"plotly\"], function(Plotly) {                    window.PLOTLYENV=window.PLOTLYENV || {};                                    if (document.getElementById(\"e11de9d2-7222-47ef-81a6-335277080841\")) {                    Plotly.newPlot(                        \"e11de9d2-7222-47ef-81a6-335277080841\",                        [],                        {\"template\":{\"data\":{\"barpolar\":[{\"marker\":{\"line\":{\"color\":\"white\",\"width\":0.5},\"pattern\":{\"fillmode\":\"overlay\",\"size\":10,\"solidity\":0.2}},\"type\":\"barpolar\"}],\"bar\":[{\"error_x\":{\"color\":\"rgb(36,36,36)\"},\"error_y\":{\"color\":\"rgb(36,36,36)\"},\"marker\":{\"line\":{\"color\":\"white\",\"width\":0.5},\"pattern\":{\"fillmode\":\"overlay\",\"size\":10,\"solidity\":0.2}},\"type\":\"bar\"}],\"carpet\":[{\"aaxis\":{\"endlinecolor\":\"rgb(36,36,36)\",\"gridcolor\":\"white\",\"linecolor\":\"white\",\"minorgridcolor\":\"white\",\"startlinecolor\":\"rgb(36,36,36)\"},\"baxis\":{\"endlinecolor\":\"rgb(36,36,36)\",\"gridcolor\":\"white\",\"linecolor\":\"white\",\"minorgridcolor\":\"white\",\"startlinecolor\":\"rgb(36,36,36)\"},\"type\":\"carpet\"}],\"choropleth\":[{\"colorbar\":{\"outlinewidth\":1,\"tickcolor\":\"rgb(36,36,36)\",\"ticks\":\"outside\"},\"type\":\"choropleth\"}],\"contourcarpet\":[{\"colorbar\":{\"outlinewidth\":1,\"tickcolor\":\"rgb(36,36,36)\",\"ticks\":\"outside\"},\"type\":\"contourcarpet\"}],\"contour\":[{\"colorbar\":{\"outlinewidth\":1,\"tickcolor\":\"rgb(36,36,36)\",\"ticks\":\"outside\"},\"colorscale\":[[0.0,\"#440154\"],[0.1111111111111111,\"#482878\"],[0.2222222222222222,\"#3e4989\"],[0.3333333333333333,\"#31688e\"],[0.4444444444444444,\"#26828e\"],[0.5555555555555556,\"#1f9e89\"],[0.6666666666666666,\"#35b779\"],[0.7777777777777778,\"#6ece58\"],[0.8888888888888888,\"#b5de2b\"],[1.0,\"#fde725\"]],\"type\":\"contour\"}],\"heatmapgl\":[{\"colorbar\":{\"outlinewidth\":1,\"tickcolor\":\"rgb(36,36,36)\",\"ticks\":\"outside\"},\"colorscale\":[[0.0,\"#440154\"],[0.1111111111111111,\"#482878\"],[0.2222222222222222,\"#3e4989\"],[0.3333333333333333,\"#31688e\"],[0.4444444444444444,\"#26828e\"],[0.5555555555555556,\"#1f9e89\"],[0.6666666666666666,\"#35b779\"],[0.7777777777777778,\"#6ece58\"],[0.8888888888888888,\"#b5de2b\"],[1.0,\"#fde725\"]],\"type\":\"heatmapgl\"}],\"heatmap\":[{\"colorbar\":{\"outlinewidth\":1,\"tickcolor\":\"rgb(36,36,36)\",\"ticks\":\"outside\"},\"colorscale\":[[0.0,\"#440154\"],[0.1111111111111111,\"#482878\"],[0.2222222222222222,\"#3e4989\"],[0.3333333333333333,\"#31688e\"],[0.4444444444444444,\"#26828e\"],[0.5555555555555556,\"#1f9e89\"],[0.6666666666666666,\"#35b779\"],[0.7777777777777778,\"#6ece58\"],[0.8888888888888888,\"#b5de2b\"],[1.0,\"#fde725\"]],\"type\":\"heatmap\"}],\"histogram2dcontour\":[{\"colorbar\":{\"outlinewidth\":1,\"tickcolor\":\"rgb(36,36,36)\",\"ticks\":\"outside\"},\"colorscale\":[[0.0,\"#440154\"],[0.1111111111111111,\"#482878\"],[0.2222222222222222,\"#3e4989\"],[0.3333333333333333,\"#31688e\"],[0.4444444444444444,\"#26828e\"],[0.5555555555555556,\"#1f9e89\"],[0.6666666666666666,\"#35b779\"],[0.7777777777777778,\"#6ece58\"],[0.8888888888888888,\"#b5de2b\"],[1.0,\"#fde725\"]],\"type\":\"histogram2dcontour\"}],\"histogram2d\":[{\"colorbar\":{\"outlinewidth\":1,\"tickcolor\":\"rgb(36,36,36)\",\"ticks\":\"outside\"},\"colorscale\":[[0.0,\"#440154\"],[0.1111111111111111,\"#482878\"],[0.2222222222222222,\"#3e4989\"],[0.3333333333333333,\"#31688e\"],[0.4444444444444444,\"#26828e\"],[0.5555555555555556,\"#1f9e89\"],[0.6666666666666666,\"#35b779\"],[0.7777777777777778,\"#6ece58\"],[0.8888888888888888,\"#b5de2b\"],[1.0,\"#fde725\"]],\"type\":\"histogram2d\"}],\"histogram\":[{\"marker\":{\"line\":{\"color\":\"white\",\"width\":0.6}},\"type\":\"histogram\"}],\"mesh3d\":[{\"colorbar\":{\"outlinewidth\":1,\"tickcolor\":\"rgb(36,36,36)\",\"ticks\":\"outside\"},\"type\":\"mesh3d\"}],\"parcoords\":[{\"line\":{\"colorbar\":{\"outlinewidth\":1,\"tickcolor\":\"rgb(36,36,36)\",\"ticks\":\"outside\"}},\"type\":\"parcoords\"}],\"pie\":[{\"automargin\":true,\"type\":\"pie\"}],\"scatter3d\":[{\"line\":{\"colorbar\":{\"outlinewidth\":1,\"tickcolor\":\"rgb(36,36,36)\",\"ticks\":\"outside\"}},\"marker\":{\"colorbar\":{\"outlinewidth\":1,\"tickcolor\":\"rgb(36,36,36)\",\"ticks\":\"outside\"}},\"type\":\"scatter3d\"}],\"scattercarpet\":[{\"marker\":{\"colorbar\":{\"outlinewidth\":1,\"tickcolor\":\"rgb(36,36,36)\",\"ticks\":\"outside\"}},\"type\":\"scattercarpet\"}],\"scattergeo\":[{\"marker\":{\"colorbar\":{\"outlinewidth\":1,\"tickcolor\":\"rgb(36,36,36)\",\"ticks\":\"outside\"}},\"type\":\"scattergeo\"}],\"scattergl\":[{\"marker\":{\"colorbar\":{\"outlinewidth\":1,\"tickcolor\":\"rgb(36,36,36)\",\"ticks\":\"outside\"}},\"type\":\"scattergl\"}],\"scattermapbox\":[{\"marker\":{\"colorbar\":{\"outlinewidth\":1,\"tickcolor\":\"rgb(36,36,36)\",\"ticks\":\"outside\"}},\"type\":\"scattermapbox\"}],\"scatterpolargl\":[{\"marker\":{\"colorbar\":{\"outlinewidth\":1,\"tickcolor\":\"rgb(36,36,36)\",\"ticks\":\"outside\"}},\"type\":\"scatterpolargl\"}],\"scatterpolar\":[{\"marker\":{\"colorbar\":{\"outlinewidth\":1,\"tickcolor\":\"rgb(36,36,36)\",\"ticks\":\"outside\"}},\"type\":\"scatterpolar\"}],\"scatter\":[{\"marker\":{\"colorbar\":{\"outlinewidth\":1,\"tickcolor\":\"rgb(36,36,36)\",\"ticks\":\"outside\"}},\"type\":\"scatter\"}],\"scatterternary\":[{\"marker\":{\"colorbar\":{\"outlinewidth\":1,\"tickcolor\":\"rgb(36,36,36)\",\"ticks\":\"outside\"}},\"type\":\"scatterternary\"}],\"surface\":[{\"colorbar\":{\"outlinewidth\":1,\"tickcolor\":\"rgb(36,36,36)\",\"ticks\":\"outside\"},\"colorscale\":[[0.0,\"#440154\"],[0.1111111111111111,\"#482878\"],[0.2222222222222222,\"#3e4989\"],[0.3333333333333333,\"#31688e\"],[0.4444444444444444,\"#26828e\"],[0.5555555555555556,\"#1f9e89\"],[0.6666666666666666,\"#35b779\"],[0.7777777777777778,\"#6ece58\"],[0.8888888888888888,\"#b5de2b\"],[1.0,\"#fde725\"]],\"type\":\"surface\"}],\"table\":[{\"cells\":{\"fill\":{\"color\":\"rgb(237,237,237)\"},\"line\":{\"color\":\"white\"}},\"header\":{\"fill\":{\"color\":\"rgb(217,217,217)\"},\"line\":{\"color\":\"white\"}},\"type\":\"table\"}]},\"layout\":{\"annotationdefaults\":{\"arrowhead\":0,\"arrowwidth\":1},\"autotypenumbers\":\"strict\",\"coloraxis\":{\"colorbar\":{\"outlinewidth\":1,\"tickcolor\":\"rgb(36,36,36)\",\"ticks\":\"outside\"}},\"colorscale\":{\"diverging\":[[0.0,\"rgb(103,0,31)\"],[0.1,\"rgb(178,24,43)\"],[0.2,\"rgb(214,96,77)\"],[0.3,\"rgb(244,165,130)\"],[0.4,\"rgb(253,219,199)\"],[0.5,\"rgb(247,247,247)\"],[0.6,\"rgb(209,229,240)\"],[0.7,\"rgb(146,197,222)\"],[0.8,\"rgb(67,147,195)\"],[0.9,\"rgb(33,102,172)\"],[1.0,\"rgb(5,48,97)\"]],\"sequential\":[[0.0,\"#440154\"],[0.1111111111111111,\"#482878\"],[0.2222222222222222,\"#3e4989\"],[0.3333333333333333,\"#31688e\"],[0.4444444444444444,\"#26828e\"],[0.5555555555555556,\"#1f9e89\"],[0.6666666666666666,\"#35b779\"],[0.7777777777777778,\"#6ece58\"],[0.8888888888888888,\"#b5de2b\"],[1.0,\"#fde725\"]],\"sequentialminus\":[[0.0,\"#440154\"],[0.1111111111111111,\"#482878\"],[0.2222222222222222,\"#3e4989\"],[0.3333333333333333,\"#31688e\"],[0.4444444444444444,\"#26828e\"],[0.5555555555555556,\"#1f9e89\"],[0.6666666666666666,\"#35b779\"],[0.7777777777777778,\"#6ece58\"],[0.8888888888888888,\"#b5de2b\"],[1.0,\"#fde725\"]]},\"colorway\":[\"#1F77B4\",\"#FF7F0E\",\"#2CA02C\",\"#D62728\",\"#9467BD\",\"#8C564B\",\"#E377C2\",\"#7F7F7F\",\"#BCBD22\",\"#17BECF\"],\"font\":{\"color\":\"rgb(36,36,36)\"},\"geo\":{\"bgcolor\":\"white\",\"lakecolor\":\"white\",\"landcolor\":\"white\",\"showlakes\":true,\"showland\":true,\"subunitcolor\":\"white\"},\"hoverlabel\":{\"align\":\"left\"},\"hovermode\":\"closest\",\"mapbox\":{\"style\":\"light\"},\"paper_bgcolor\":\"white\",\"plot_bgcolor\":\"white\",\"polar\":{\"angularaxis\":{\"gridcolor\":\"rgb(232,232,232)\",\"linecolor\":\"rgb(36,36,36)\",\"showgrid\":false,\"showline\":true,\"ticks\":\"outside\"},\"bgcolor\":\"white\",\"radialaxis\":{\"gridcolor\":\"rgb(232,232,232)\",\"linecolor\":\"rgb(36,36,36)\",\"showgrid\":false,\"showline\":true,\"ticks\":\"outside\"}},\"scene\":{\"xaxis\":{\"backgroundcolor\":\"white\",\"gridcolor\":\"rgb(232,232,232)\",\"gridwidth\":2,\"linecolor\":\"rgb(36,36,36)\",\"showbackground\":true,\"showgrid\":false,\"showline\":true,\"ticks\":\"outside\",\"zeroline\":false,\"zerolinecolor\":\"rgb(36,36,36)\"},\"yaxis\":{\"backgroundcolor\":\"white\",\"gridcolor\":\"rgb(232,232,232)\",\"gridwidth\":2,\"linecolor\":\"rgb(36,36,36)\",\"showbackground\":true,\"showgrid\":false,\"showline\":true,\"ticks\":\"outside\",\"zeroline\":false,\"zerolinecolor\":\"rgb(36,36,36)\"},\"zaxis\":{\"backgroundcolor\":\"white\",\"gridcolor\":\"rgb(232,232,232)\",\"gridwidth\":2,\"linecolor\":\"rgb(36,36,36)\",\"showbackground\":true,\"showgrid\":false,\"showline\":true,\"ticks\":\"outside\",\"zeroline\":false,\"zerolinecolor\":\"rgb(36,36,36)\"}},\"shapedefaults\":{\"fillcolor\":\"black\",\"line\":{\"width\":0},\"opacity\":0.3},\"ternary\":{\"aaxis\":{\"gridcolor\":\"rgb(232,232,232)\",\"linecolor\":\"rgb(36,36,36)\",\"showgrid\":false,\"showline\":true,\"ticks\":\"outside\"},\"baxis\":{\"gridcolor\":\"rgb(232,232,232)\",\"linecolor\":\"rgb(36,36,36)\",\"showgrid\":false,\"showline\":true,\"ticks\":\"outside\"},\"bgcolor\":\"white\",\"caxis\":{\"gridcolor\":\"rgb(232,232,232)\",\"linecolor\":\"rgb(36,36,36)\",\"showgrid\":false,\"showline\":true,\"ticks\":\"outside\"}},\"title\":{\"x\":0.05},\"xaxis\":{\"automargin\":true,\"gridcolor\":\"rgb(232,232,232)\",\"linecolor\":\"rgb(36,36,36)\",\"showgrid\":false,\"showline\":true,\"ticks\":\"outside\",\"title\":{\"standoff\":15},\"zeroline\":false,\"zerolinecolor\":\"rgb(36,36,36)\"},\"yaxis\":{\"automargin\":true,\"gridcolor\":\"rgb(232,232,232)\",\"linecolor\":\"rgb(36,36,36)\",\"showgrid\":false,\"showline\":true,\"ticks\":\"outside\",\"title\":{\"standoff\":15},\"zeroline\":false,\"zerolinecolor\":\"rgb(36,36,36)\"}}},\"xaxis\":{\"anchor\":\"y\",\"domain\":[0.0,1.0],\"title\":{\"text\":\"\"},\"visible\":false,\"range\":[null,null]},\"yaxis\":{\"anchor\":\"x\",\"domain\":[0.0,1.0],\"title\":{\"text\":\"\"},\"visible\":false,\"range\":[null,null]},\"legend\":{\"tracegroupgap\":0,\"itemsizing\":\"constant\"},\"margin\":{\"t\":60},\"title\":{\"font\":{\"size\":22,\"color\":\"Black\"},\"text\":\"<b>Intertopic Distance Map\",\"y\":0.95,\"x\":0.5,\"xanchor\":\"center\",\"yanchor\":\"top\"},\"hoverlabel\":{\"font\":{\"size\":16,\"family\":\"Rockwell\"},\"bgcolor\":\"white\"},\"width\":650,\"height\":650,\"sliders\":[{\"active\":0,\"pad\":{\"t\":50}}],\"shapes\":[{\"line\":{\"color\":\"#CFD8DC\",\"width\":2},\"type\":\"line\",\"x0\":null,\"x1\":null,\"y0\":null,\"y1\":null},{\"line\":{\"color\":\"#9E9E9E\",\"width\":2},\"type\":\"line\",\"x0\":null,\"x1\":null,\"y0\":null,\"y1\":null}],\"annotations\":[{\"showarrow\":false,\"text\":\"D1\",\"x\":null,\"y\":null,\"yshift\":10},{\"showarrow\":false,\"text\":\"D2\",\"x\":null,\"xshift\":10,\"y\":null}]},                        {\"responsive\": true}                    ).then(function(){\n",
       "                            \n",
       "var gd = document.getElementById('e11de9d2-7222-47ef-81a6-335277080841');\n",
       "var x = new MutationObserver(function (mutations, observer) {{\n",
       "        var display = window.getComputedStyle(gd).display;\n",
       "        if (!display || display === 'none') {{\n",
       "            console.log([gd, 'removed!']);\n",
       "            Plotly.purge(gd);\n",
       "            observer.disconnect();\n",
       "        }}\n",
       "}});\n",
       "\n",
       "// Listen for the removal of the full notebook cells\n",
       "var notebookContainer = gd.closest('#notebook-container');\n",
       "if (notebookContainer) {{\n",
       "    x.observe(notebookContainer, {childList: true});\n",
       "}}\n",
       "\n",
       "// Listen for the clearing of the current output cell\n",
       "var outputEl = gd.closest('.output');\n",
       "if (outputEl) {{\n",
       "    x.observe(outputEl, {childList: true});\n",
       "}}\n",
       "\n",
       "                        })                };                });            </script>        </div>"
      ]
     },
     "metadata": {},
     "output_type": "display_data"
    }
   ],
   "source": [
    "model.visualize_topics()"
   ]
  }
 ],
 "metadata": {
  "kernelspec": {
   "display_name": "Python 3 (ipykernel)",
   "language": "python",
   "name": "python3"
  },
  "language_info": {
   "codemirror_mode": {
    "name": "ipython",
    "version": 3
   },
   "file_extension": ".py",
   "mimetype": "text/x-python",
   "name": "python",
   "nbconvert_exporter": "python",
   "pygments_lexer": "ipython3",
   "version": "3.8.5"
  }
 },
 "nbformat": 4,
 "nbformat_minor": 5
}
