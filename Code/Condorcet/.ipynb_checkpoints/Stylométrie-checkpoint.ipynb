{
 "cells": [
  {
   "cell_type": "markdown",
   "metadata": {},
   "source": [
    "This notebook contains an adaptation of a tutorial taken from programminghistorian"
   ]
  },
  {
   "cell_type": "markdown",
   "metadata": {},
   "source": [
    "# 1. Load import"
   ]
  },
  {
   "cell_type": "code",
   "execution_count": 1,
   "metadata": {},
   "outputs": [],
   "source": [
    "#https://programminghistorian.org/fr/lecons/introduction-a-la-stylometrie-avec-python\n",
    "\n",
    "import pandas as pd\n",
    "import numpy as np\n",
    "import re\n",
    "import matplotlib.pyplot as plt\n",
    "import seaborn as sns\n",
    "import re\n",
    "\n",
    "from nltk.corpus import stopwords"
   ]
  },
  {
   "cell_type": "code",
   "execution_count": 2,
   "metadata": {},
   "outputs": [],
   "source": [
    "df_1 = pd.read_csv('./../../Data/Dataframes/dataframe_Condorcet_1.csv')\n",
    "df_2 = pd.read_csv('./../../Data/Dataframes/dataframe_Condorcet_2.csv')"
   ]
  },
  {
   "cell_type": "code",
   "execution_count": 3,
   "metadata": {},
   "outputs": [],
   "source": [
    "df_cond = pd.concat([df_1, df_2], ignore_index = True)"
   ]
  },
  {
   "cell_type": "code",
   "execution_count": 4,
   "metadata": {},
   "outputs": [],
   "source": [
    "df_mairan = pd.read_csv('./../../Data/Dataframes/dataframe_mairan.csv')"
   ]
  },
  {
   "cell_type": "code",
   "execution_count": 5,
   "metadata": {},
   "outputs": [
    {
     "data": {
      "text/html": [
       "<div>\n",
       "<style scoped>\n",
       "    .dataframe tbody tr th:only-of-type {\n",
       "        vertical-align: middle;\n",
       "    }\n",
       "\n",
       "    .dataframe tbody tr th {\n",
       "        vertical-align: top;\n",
       "    }\n",
       "\n",
       "    .dataframe thead th {\n",
       "        text-align: right;\n",
       "    }\n",
       "</style>\n",
       "<table border=\"1\" class=\"dataframe\">\n",
       "  <thead>\n",
       "    <tr style=\"text-align: right;\">\n",
       "      <th></th>\n",
       "      <th>Savant</th>\n",
       "      <th>Auteur</th>\n",
       "      <th>Annee</th>\n",
       "      <th>Eloge</th>\n",
       "    </tr>\n",
       "  </thead>\n",
       "  <tbody>\n",
       "    <tr>\n",
       "      <th>62</th>\n",
       "      <td>de Fourcroy</td>\n",
       "      <td>Condorcet</td>\n",
       "      <td>1804</td>\n",
       "      <td>Charles-René de Fourcroy, maréchal de camp, gr...</td>\n",
       "    </tr>\n",
       "  </tbody>\n",
       "</table>\n",
       "</div>"
      ],
      "text/plain": [
       "         Savant     Auteur  Annee  \\\n",
       "62  de Fourcroy  Condorcet   1804   \n",
       "\n",
       "                                                Eloge  \n",
       "62  Charles-René de Fourcroy, maréchal de camp, gr...  "
      ]
     },
     "execution_count": 5,
     "metadata": {},
     "output_type": "execute_result"
    }
   ],
   "source": [
    "df_cond[df_cond['Savant']=='de Fourcroy']"
   ]
  },
  {
   "cell_type": "code",
   "execution_count": 6,
   "metadata": {
    "scrolled": true
   },
   "outputs": [
    {
     "name": "stderr",
     "output_type": "stream",
     "text": [
      "<ipython-input-6-ecc56a829a6a>:1: SettingWithCopyWarning: \n",
      "A value is trying to be set on a copy of a slice from a DataFrame\n",
      "\n",
      "See the caveats in the documentation: https://pandas.pydata.org/pandas-docs/stable/user_guide/indexing.html#returning-a-view-versus-a-copy\n",
      "  df_cond['Annee'][62] = 1791\n"
     ]
    }
   ],
   "source": [
    "df_cond['Annee'][62] = 1791"
   ]
  },
  {
   "cell_type": "markdown",
   "metadata": {},
   "source": [
    "## Preparing the data"
   ]
  },
  {
   "cell_type": "code",
   "execution_count": 7,
   "metadata": {},
   "outputs": [],
   "source": [
    "#here disputed is Condorcet if we want it to be Mairan run cell below\n",
    "\n",
    "#remove a row at random for testing in condorcet\n",
    "disputed_cond = df_cond.sample(1)\n",
    "df_cond.drop(disputed_cond.index, axis=0, inplace = True)\n",
    "disputed_cond.reset_index(inplace = True)"
   ]
  },
  {
   "cell_type": "code",
   "execution_count": 7,
   "metadata": {
    "scrolled": true
   },
   "outputs": [],
   "source": [
    "#mairan\n",
    "\n",
    "#disputed_mairan = df_mairan.sample(1)\n",
    "#df_mairan.drop(disputed_mairan.index,axis = 0, inplace = True)\n",
    "#disputed_mairan.reset_index(inplace = True)"
   ]
  },
  {
   "cell_type": "code",
   "execution_count": 8,
   "metadata": {},
   "outputs": [],
   "source": [
    "dic = {}\n",
    "authors = ['Mairan', 'Condorcet', 'Disputed']\n",
    "\n",
    "strings = []\n",
    "\n",
    "#Condorcet\n",
    "for elo in df_cond['Eloge']:\n",
    "    strings.append(elo)\n",
    "    \n",
    "eloge_cond = '\\n'.join(strings)\n",
    "\n",
    "dic['Condorcet'] = eloge_cond\n",
    "\n",
    "strings = []\n",
    "\n",
    "#Mairan\n",
    "for elo in df_mairan['Eloge']:\n",
    "    strings.append(elo)\n",
    "\n",
    "eloge_mairan = '\\n'.join(strings)\n",
    "\n",
    "dic['Mairan'] = eloge_mairan\n",
    "\n",
    "#Disputed\n",
    "disp_ls = [#disputed_mairan.loc[0, 'Eloge'], \n",
    "           disputed_cond.loc[0, 'Eloge']\n",
    "          ]\n",
    "\n",
    "dic['Disputed'] = '\\n'.join(disp_ls)"
   ]
  },
  {
   "cell_type": "markdown",
   "metadata": {},
   "source": [
    "# 2. Mendenhall’s Characteristic Curves of Composition"
   ]
  },
  {
   "cell_type": "code",
   "execution_count": 9,
   "metadata": {},
   "outputs": [
    {
     "data": {
      "image/png": "[encoded data removed]",
      "text/plain": [
       "<Figure size 432x288 with 1 Axes>"
      ]
     },
     "metadata": {
      "needs_background": "light"
     },
     "output_type": "display_data"
    },
    {
     "data": {
      "image/png": "[encoded data removed]",
      "text/plain": [
       "<Figure size 432x288 with 1 Axes>"
      ]
     },
     "metadata": {
      "needs_background": "light"
     },
     "output_type": "display_data"
    },
    {
     "data": {
      "image/png": "[encoded data removed]",
      "text/plain": [
       "<Figure size 432x288 with 1 Axes>"
      ]
     },
     "metadata": {
      "needs_background": "light"
     },
     "output_type": "display_data"
    }
   ],
   "source": [
    "# Load nltk\n",
    "import nltk\n",
    "%matplotlib inline\n",
    "\n",
    "federalist_by_author_tokens = {}\n",
    "federalist_by_author_length_distributions = {}\n",
    "\n",
    "for author in authors:\n",
    "    tokens = nltk.word_tokenize(dic[author])\n",
    "\n",
    "    # Filter out punctuation\n",
    "    federalist_by_author_tokens[author] = ([token for token in tokens\n",
    "                                            if any(c.isalpha() for c in token)])\n",
    "\n",
    "    # Get a distribution of token lengths\n",
    "    token_lengths = [len(token) for token in federalist_by_author_tokens[author]]\n",
    "    federalist_by_author_length_distributions[author] = nltk.FreqDist(token_lengths)\n",
    "    federalist_by_author_length_distributions[author].plot(15,title=author)"
   ]
  },
  {
   "cell_type": "markdown",
   "metadata": {},
   "source": [
    "# 3. Kilgariff’s Chi-Squared Method"
   ]
  },
  {
   "cell_type": "markdown",
   "metadata": {},
   "source": [
    "## a. Disputed is Condorcet"
   ]
  },
  {
   "cell_type": "code",
   "execution_count": 10,
   "metadata": {},
   "outputs": [
    {
     "name": "stdout",
     "output_type": "stream",
     "text": [
      "The Chi-squared statistic for candidate Condorcet is 828.1314851972598\n",
      "The Chi-squared statistic for candidate Mairan is 1475.8709946144509\n"
     ]
    }
   ],
   "source": [
    "# When disputed is Condorcet\n",
    "\n",
    "# Who are the authors we are analyzing?\n",
    "authors = (\"Condorcet\", \"Mairan\")\n",
    "\n",
    "# Lowercase the tokens so that the same word, capitalized or not,\n",
    "# counts as one word\n",
    "for author in authors:\n",
    "    federalist_by_author_tokens[author] = (\n",
    "        [token.lower() for token in federalist_by_author_tokens[author]])\n",
    "federalist_by_author_tokens[\"Disputed\"] = (\n",
    "    [token.lower() for token in federalist_by_author_tokens[\"Disputed\"]])\n",
    "\n",
    "\n",
    "chi_squared_tb = {}\n",
    "# Calculate chisquared for each of the two candidate authors\n",
    "for author in authors:\n",
    "\n",
    "    # First, build a joint corpus and identify the 500 most frequent words in it\n",
    "    joint_corpus = (federalist_by_author_tokens[author] +\n",
    "                    federalist_by_author_tokens[\"Disputed\"])\n",
    "    joint_freq_dist = nltk.FreqDist(joint_corpus)\n",
    "    most_common = list(joint_freq_dist.most_common(500))\n",
    "\n",
    "    # What proportion of the joint corpus is made up\n",
    "    # of the candidate author's tokens?\n",
    "    author_share = (len(federalist_by_author_tokens[author])\n",
    "                    / len(joint_corpus))\n",
    "\n",
    "    # Now, let's look at the 500 most common words in the candidate\n",
    "    # author's corpus and compare the number of times they can be observed\n",
    "    # to what would be expected if the author's papers\n",
    "    # and the Disputed papers were both random samples from the same distribution.\n",
    "    chisquared = 0\n",
    "    for word,joint_count in most_common:\n",
    "\n",
    "        # How often do we really see this common word?\n",
    "        author_count = federalist_by_author_tokens[author].count(word)\n",
    "        disputed_count = federalist_by_author_tokens[\"Disputed\"].count(word)\n",
    "\n",
    "        # How often should we see it?\n",
    "        expected_author_count = joint_count * author_share\n",
    "        expected_disputed_count = joint_count * (1-author_share)\n",
    "\n",
    "        # Add the word's contribution to the chi-squared statistic\n",
    "        chisquared += ((author_count-expected_author_count) *\n",
    "                       (author_count-expected_author_count) /\n",
    "                       expected_author_count)\n",
    "\n",
    "        chisquared += ((disputed_count-expected_disputed_count) *\n",
    "                       (disputed_count-expected_disputed_count)\n",
    "                       / expected_disputed_count)\n",
    "    chi_squared_tb[author] = chisquared\n",
    "\n",
    "    print(\"The Chi-squared statistic for candidate\", author, \"is\", chisquared)"
   ]
  },
  {
   "cell_type": "markdown",
   "metadata": {},
   "source": [
    "The Chi-squared is indeed smaller with Condorcet then with Mairan as he is the author"
   ]
  },
  {
   "cell_type": "code",
   "execution_count": 11,
   "metadata": {},
   "outputs": [
    {
     "data": {
      "text/plain": [
       "647.739509417191"
      ]
     },
     "execution_count": 11,
     "metadata": {},
     "output_type": "execute_result"
    }
   ],
   "source": [
    "chi_squared_tb['Mairan']- chi_squared_tb['Condorcet']"
   ]
  },
  {
   "cell_type": "markdown",
   "metadata": {},
   "source": [
    "## b. Disputed is Mairan"
   ]
  },
  {
   "cell_type": "code",
   "execution_count": 12,
   "metadata": {},
   "outputs": [
    {
     "name": "stdout",
     "output_type": "stream",
     "text": [
      "The Chi-squared statistic for candidate Condorcet is 1362.7890009160917\n",
      "The Chi-squared statistic for candidate Mairan is 820.5423971720621\n"
     ]
    }
   ],
   "source": [
    "# When disputed is Mairan\n",
    "\n",
    "# Who are the authors we are analyzing?\n",
    "authors = (\"Condorcet\", \"Mairan\")\n",
    "\n",
    "# Lowercase the tokens so that the same word, capitalized or not,\n",
    "# counts as one word\n",
    "for author in authors:\n",
    "    federalist_by_author_tokens[author] = (\n",
    "        [token.lower() for token in federalist_by_author_tokens[author]])\n",
    "federalist_by_author_tokens[\"Disputed\"] = (\n",
    "    [token.lower() for token in federalist_by_author_tokens[\"Disputed\"]])\n",
    "\n",
    "chi_squared_tb = {}\n",
    "# Calculate chisquared for each of the two candidate authors\n",
    "for author in authors:\n",
    "\n",
    "    # First, build a joint corpus and identify the 500 most frequent words in it\n",
    "    joint_corpus = (federalist_by_author_tokens[author] +\n",
    "                    federalist_by_author_tokens[\"Disputed\"])\n",
    "    joint_freq_dist = nltk.FreqDist(joint_corpus)\n",
    "    most_common = list(joint_freq_dist.most_common(500))\n",
    "\n",
    "    # What proportion of the joint corpus is made up\n",
    "    # of the candidate author's tokens?\n",
    "    author_share = (len(federalist_by_author_tokens[author])\n",
    "                    / len(joint_corpus))\n",
    "\n",
    "    # Now, let's look at the 500 most common words in the candidate\n",
    "    # author's corpus and compare the number of times they can be observed\n",
    "    # to what would be expected if the author's papers\n",
    "    # and the Disputed papers were both random samples from the same distribution.\n",
    "    chisquared = 0\n",
    "    for word,joint_count in most_common:\n",
    "\n",
    "        # How often do we really see this common word?\n",
    "        author_count = federalist_by_author_tokens[author].count(word)\n",
    "        disputed_count = federalist_by_author_tokens[\"Disputed\"].count(word)\n",
    "\n",
    "        # How often should we see it?\n",
    "        expected_author_count = joint_count * author_share\n",
    "        expected_disputed_count = joint_count * (1-author_share)\n",
    "\n",
    "        # Add the word's contribution to the chi-squared statistic\n",
    "        chisquared += ((author_count-expected_author_count) *\n",
    "                       (author_count-expected_author_count) /\n",
    "                       expected_author_count)\n",
    "\n",
    "        chisquared += ((disputed_count-expected_disputed_count) *\n",
    "                       (disputed_count-expected_disputed_count)\n",
    "                       / expected_disputed_count)\n",
    "    chi_squared_tb[author] = chisquared\n",
    "    print(\"The Chi-squared statistic for candidate\", author, \"is\", chisquared)"
   ]
  },
  {
   "cell_type": "markdown",
   "metadata": {},
   "source": [
    "The Chi-squared is smaller with Mairan as he is the author"
   ]
  },
  {
   "cell_type": "code",
   "execution_count": 14,
   "metadata": {},
   "outputs": [
    {
     "data": {
      "text/plain": [
       "542.2466037440296"
      ]
     },
     "execution_count": 14,
     "metadata": {},
     "output_type": "execute_result"
    }
   ],
   "source": [
    "-chi_squared_tb['Mairan']+ chi_squared_tb['Condorcet']"
   ]
  },
  {
   "cell_type": "markdown",
   "metadata": {},
   "source": [
    "# 4. John Burrow's Delta Method"
   ]
  },
  {
   "cell_type": "markdown",
   "metadata": {},
   "source": [
    "## a. Disputed is Condorcet"
   ]
  },
  {
   "cell_type": "code",
   "execution_count": 12,
   "metadata": {},
   "outputs": [
    {
     "data": {
      "text/plain": [
       "[('de', 17858),\n",
       " ('la', 9450),\n",
       " ('et', 9091),\n",
       " ('l', 7829),\n",
       " ('les', 7770),\n",
       " ('à', 6905),\n",
       " ('il', 6581),\n",
       " ('le', 6088),\n",
       " ('des', 6014),\n",
       " ('d', 5194)]"
      ]
     },
     "execution_count": 12,
     "metadata": {},
     "output_type": "execute_result"
    }
   ],
   "source": [
    "# Who are we dealing with this time?\n",
    "authors = (\"Condorcet\", \"Mairan\")\n",
    "\n",
    "# Convert papers to lowercase to count all tokens of the same word together\n",
    "# regardless of case\n",
    "for author in authors:\n",
    "    federalist_by_author_tokens[author] = (\n",
    "        [tok.lower() for tok in federalist_by_author_tokens[author]])\n",
    "\n",
    "# Combine every paper except our test case into a single corpus\n",
    "whole_corpus = []\n",
    "for author in authors:\n",
    "    whole_corpus += federalist_by_author_tokens[author]\n",
    "\n",
    "# Get a frequency distribution\n",
    "whole_corpus_freq_dist = list(nltk.FreqDist(whole_corpus).most_common(30))\n",
    "whole_corpus_freq_dist[ :10 ]"
   ]
  },
  {
   "cell_type": "code",
   "execution_count": 13,
   "metadata": {},
   "outputs": [
    {
     "name": "stdout",
     "output_type": "stream",
     "text": [
      "Test case z-score for feature de is 1.9641586456060829\n",
      "Test case z-score for feature la is -1.7766600366928613\n",
      "Test case z-score for feature et is -1.1905739188412805\n",
      "Test case z-score for feature l is 7.134116247357795\n",
      "Test case z-score for feature les is 3.580277194094817\n",
      "Test case z-score for feature à is -5.913281382841688\n",
      "Test case z-score for feature il is -2.41512084040529\n",
      "Test case z-score for feature le is -0.9083021848767115\n",
      "Test case z-score for feature des is 3.0893002013408783\n",
      "Test case z-score for feature d is 0.28687645072484974\n",
      "Test case z-score for feature que is 1.0710658832501705\n",
      "Test case z-score for feature qu is -8.0290047629261\n",
      "Test case z-score for feature un is -1.112606159033296\n",
      "Test case z-score for feature qui is 1.7451382371793125\n",
      "Test case z-score for feature en is -0.8956217746957432\n",
      "Test case z-score for feature une is 0.4144691008177674\n",
      "Test case z-score for feature dans is 8.077199713376991\n",
      "Test case z-score for feature pour is -0.5948880595247017\n",
      "Test case z-score for feature ne is 0.9853920739496146\n",
      "Test case z-score for feature plus is 12.82615266618704\n",
      "Test case z-score for feature \\n is 0.6383159708438042\n",
      "Test case z-score for feature ses is -1.991590532015501\n",
      "Test case z-score for feature par is 0.46053776969866234\n",
      "Test case z-score for feature du is -1.5328686233251614\n",
      "Test case z-score for feature on is -1.320453387697896\n",
      "Test case z-score for feature est is -1.746285687702826\n",
      "Test case z-score for feature n is -2.2973508628505\n",
      "Test case z-score for feature m. is -3.0973627289864205\n",
      "Test case z-score for feature ce is -1.245002847551993\n",
      "Test case z-score for feature avait is -13.102066868099085\n"
     ]
    }
   ],
   "source": [
    "# The main data structure\n",
    "features = [word for word,freq in whole_corpus_freq_dist]\n",
    "feature_freqs = {}\n",
    "\n",
    "for author in authors:\n",
    "    # A dictionary for each candidate's features\n",
    "    feature_freqs[author] = {}\n",
    "\n",
    "    # A helper value containing the number of tokens in the author's subcorpus\n",
    "    overall = len(federalist_by_author_tokens[author])\n",
    "\n",
    "    # Calculate each feature's presence in the subcorpus\n",
    "    for feature in features:\n",
    "        presence = federalist_by_author_tokens[author].count(feature)\n",
    "        feature_freqs[author][feature] = presence / overall\n",
    "        \n",
    "        \n",
    "import math\n",
    "\n",
    "# The data structure into which we will be storing the \"corpus standard\" statistics\n",
    "corpus_features = {}\n",
    "\n",
    "# For each feature...\n",
    "for feature in features:\n",
    "    # Create a sub-dictionary that will contain the feature's mean\n",
    "    # and standard deviation\n",
    "    corpus_features[feature] = {}\n",
    "\n",
    "    # Calculate the mean of the frequencies expressed in the subcorpora\n",
    "    feature_average = 0\n",
    "    for author in authors:\n",
    "        feature_average += feature_freqs[author][feature]\n",
    "    feature_average /= len(authors)\n",
    "    corpus_features[feature][\"Mean\"] = feature_average\n",
    "\n",
    "    # Calculate the standard deviation using the basic formula for a sample\n",
    "    feature_stdev = 0\n",
    "    for author in authors:\n",
    "        diff = feature_freqs[author][feature] - corpus_features[feature][\"Mean\"]\n",
    "        feature_stdev += diff*diff\n",
    "    feature_stdev /= (len(authors) - 1)\n",
    "    feature_stdev = math.sqrt(feature_stdev)\n",
    "    corpus_features[feature][\"StdDev\"] = feature_stdev\n",
    "    \n",
    "    \n",
    "feature_zscores = {}\n",
    "for author in authors:\n",
    "    feature_zscores[author] = {}\n",
    "    for feature in features:\n",
    "\n",
    "        # Z-score definition = (value - mean) / stddev\n",
    "        # We use intermediate variables to make the code easier to read\n",
    "        feature_val = feature_freqs[author][feature]\n",
    "        feature_mean = corpus_features[feature][\"Mean\"]\n",
    "        feature_stdev = corpus_features[feature][\"StdDev\"]\n",
    "        feature_zscores[author][feature] = ((feature_val-feature_mean) /\n",
    "                                            feature_stdev)\n",
    "# Tokenize the test case\n",
    "testcase_tokens = nltk.word_tokenize(dic[\"Disputed\"])\n",
    "\n",
    "# Filter out punctuation and lowercase the tokens\n",
    "testcase_tokens = [token.lower() for token in testcase_tokens\n",
    "                   if any(c.isalpha() for c in token)]\n",
    "\n",
    "# Calculate the test case's features\n",
    "overall = len(testcase_tokens)\n",
    "testcase_freqs = {}\n",
    "for feature in features:\n",
    "    presence = testcase_tokens.count(feature)\n",
    "    testcase_freqs[feature] = presence / overall\n",
    "\n",
    "# Calculate the test case's feature z-scores\n",
    "testcase_zscores = {}\n",
    "for feature in features:\n",
    "    feature_val = testcase_freqs[feature]\n",
    "    feature_mean = corpus_features[feature][\"Mean\"]\n",
    "    feature_stdev = corpus_features[feature][\"StdDev\"]\n",
    "    testcase_zscores[feature] = (feature_val - feature_mean) / feature_stdev\n",
    "    print(\"Test case z-score for feature\", feature, \"is\", testcase_zscores[feature])"
   ]
  },
  {
   "cell_type": "code",
   "execution_count": 14,
   "metadata": {},
   "outputs": [
    {
     "name": "stdout",
     "output_type": "stream",
     "text": [
      "Delta score for candidate Condorcet is 3.005897711003171\n",
      "Delta score for candidate Mairan is 3.16626811345135\n"
     ]
    }
   ],
   "source": [
    "for author in authors:\n",
    "    delta = 0\n",
    "    for feature in features:\n",
    "        delta += math.fabs((testcase_zscores[feature] -\n",
    "                            feature_zscores[author][feature]))\n",
    "    delta /= len(features)\n",
    "    print( \"Delta score for candidate\", author, \"is\", delta )"
   ]
  },
  {
   "cell_type": "markdown",
   "metadata": {},
   "source": [
    "Condorcet indeed wrote it"
   ]
  },
  {
   "cell_type": "markdown",
   "metadata": {},
   "source": [
    "## b. Disputed is Mairan"
   ]
  },
  {
   "cell_type": "code",
   "execution_count": 23,
   "metadata": {},
   "outputs": [
    {
     "data": {
      "text/plain": [
       "[('de', 17796),\n",
       " ('la', 9394),\n",
       " ('et', 8986),\n",
       " ('l', 7824),\n",
       " ('les', 7774),\n",
       " ('à', 6855),\n",
       " ('il', 6488),\n",
       " ('le', 6076),\n",
       " ('des', 6007),\n",
       " ('d', 5177)]"
      ]
     },
     "execution_count": 23,
     "metadata": {},
     "output_type": "execute_result"
    }
   ],
   "source": [
    "# Who are we dealing with this time?\n",
    "authors = (\"Condorcet\", \"Mairan\")\n",
    "\n",
    "# Convert papers to lowercase to count all tokens of the same word together\n",
    "# regardless of case\n",
    "for author in authors:\n",
    "    federalist_by_author_tokens[author] = (\n",
    "        [tok.lower() for tok in federalist_by_author_tokens[author]])\n",
    "\n",
    "# Combine every paper except our test case into a single corpus\n",
    "whole_corpus = []\n",
    "for author in authors:\n",
    "    whole_corpus += federalist_by_author_tokens[author]\n",
    "\n",
    "# Get a frequency distribution\n",
    "whole_corpus_freq_dist = list(nltk.FreqDist(whole_corpus).most_common(30))\n",
    "whole_corpus_freq_dist[ :10 ]"
   ]
  },
  {
   "cell_type": "code",
   "execution_count": 24,
   "metadata": {},
   "outputs": [],
   "source": [
    "# The main data structure\n",
    "features = [word for word,freq in whole_corpus_freq_dist]\n",
    "feature_freqs = {}\n",
    "\n",
    "for author in authors:\n",
    "    # A dictionary for each candidate's features\n",
    "    feature_freqs[author] = {}\n",
    "\n",
    "    # A helper value containing the number of tokens in the author's subcorpus\n",
    "    overall = len(federalist_by_author_tokens[author])\n",
    "\n",
    "    # Calculate each feature's presence in the subcorpus\n",
    "    for feature in features:\n",
    "        presence = federalist_by_author_tokens[author].count(feature)\n",
    "        feature_freqs[author][feature] = presence / overall"
   ]
  },
  {
   "cell_type": "code",
   "execution_count": 25,
   "metadata": {},
   "outputs": [],
   "source": [
    "import math\n",
    "\n",
    "# The data structure into which we will be storing the \"corpus standard\" statistics\n",
    "corpus_features = {}\n",
    "\n",
    "# For each feature...\n",
    "for feature in features:\n",
    "    # Create a sub-dictionary that will contain the feature's mean\n",
    "    # and standard deviation\n",
    "    corpus_features[feature] = {}\n",
    "\n",
    "    # Calculate the mean of the frequencies expressed in the subcorpora\n",
    "    feature_average = 0\n",
    "    for author in authors:\n",
    "        feature_average += feature_freqs[author][feature]\n",
    "    feature_average /= len(authors)\n",
    "    corpus_features[feature][\"Mean\"] = feature_average\n",
    "\n",
    "    # Calculate the standard deviation using the basic formula for a sample\n",
    "    feature_stdev = 0\n",
    "    for author in authors:\n",
    "        diff = feature_freqs[author][feature] - corpus_features[feature][\"Mean\"]\n",
    "        feature_stdev += diff*diff\n",
    "    feature_stdev /= (len(authors) - 1)\n",
    "    feature_stdev = math.sqrt(feature_stdev)\n",
    "    corpus_features[feature][\"StdDev\"] = feature_stdev"
   ]
  },
  {
   "cell_type": "code",
   "execution_count": 26,
   "metadata": {},
   "outputs": [],
   "source": [
    "feature_zscores = {}\n",
    "for author in authors:\n",
    "    feature_zscores[author] = {}\n",
    "    for feature in features:\n",
    "\n",
    "        # Z-score definition = (value - mean) / stddev\n",
    "        # We use intermediate variables to make the code easier to read\n",
    "        feature_val = feature_freqs[author][feature]\n",
    "        feature_mean = corpus_features[feature][\"Mean\"]\n",
    "        feature_stdev = corpus_features[feature][\"StdDev\"]\n",
    "        feature_zscores[author][feature] = ((feature_val-feature_mean) /\n",
    "                                            feature_stdev)"
   ]
  },
  {
   "cell_type": "code",
   "execution_count": 27,
   "metadata": {
    "scrolled": true
   },
   "outputs": [
    {
     "name": "stdout",
     "output_type": "stream",
     "text": [
      "Test case z-score for feature de is -2.3084199233075404\n",
      "Test case z-score for feature la is 1.0901314636134856\n",
      "Test case z-score for feature et is 1.6712412319647902\n",
      "Test case z-score for feature l is -3.074575398603014\n",
      "Test case z-score for feature les is -0.6982179423774783\n",
      "Test case z-score for feature à is 3.74480841603709\n",
      "Test case z-score for feature il is 2.9622162393496274\n",
      "Test case z-score for feature le is -2.622277478767807\n",
      "Test case z-score for feature des is 0.24653662491797762\n",
      "Test case z-score for feature d is -0.9495996748092994\n",
      "Test case z-score for feature que is -2.601594095925358\n",
      "Test case z-score for feature qu is 3.6189379388167264\n",
      "Test case z-score for feature un is -0.40834326898579015\n",
      "Test case z-score for feature qui is 4.129384388714688\n",
      "Test case z-score for feature en is 0.9161307175586832\n",
      "Test case z-score for feature une is -0.23131640146602223\n",
      "Test case z-score for feature dans is 0.6614095763293902\n",
      "Test case z-score for feature pour is 0.314367502748607\n",
      "Test case z-score for feature ne is -1.5594005090525105\n",
      "Test case z-score for feature plus is -2.741851477409644\n",
      "Test case z-score for feature \\n is -0.7071067811865476\n",
      "Test case z-score for feature ses is -0.5127017896480855\n",
      "Test case z-score for feature par is 0.9129776262253338\n",
      "Test case z-score for feature du is 0.31866570885408896\n",
      "Test case z-score for feature on is -1.4058921792561183\n",
      "Test case z-score for feature est is -0.014000392831210016\n",
      "Test case z-score for feature n is -2.250076432362279\n",
      "Test case z-score for feature m. is 1.3626879388866888\n",
      "Test case z-score for feature ce is 0.3734498226106114\n",
      "Test case z-score for feature avait is 2.395196923622145\n"
     ]
    }
   ],
   "source": [
    "# Tokenize the test case\n",
    "testcase_tokens = nltk.word_tokenize(dic[\"Disputed\"])\n",
    "\n",
    "# Filter out punctuation and lowercase the tokens\n",
    "testcase_tokens = [token.lower() for token in testcase_tokens\n",
    "                   if any(c.isalpha() for c in token)]\n",
    "\n",
    "# Calculate the test case's features\n",
    "overall = len(testcase_tokens)\n",
    "testcase_freqs = {}\n",
    "for feature in features:\n",
    "    presence = testcase_tokens.count(feature)\n",
    "    testcase_freqs[feature] = presence / overall\n",
    "\n",
    "# Calculate the test case's feature z-scores\n",
    "testcase_zscores = {}\n",
    "for feature in features:\n",
    "    feature_val = testcase_freqs[feature]\n",
    "    feature_mean = corpus_features[feature][\"Mean\"]\n",
    "    feature_stdev = corpus_features[feature][\"StdDev\"]\n",
    "    testcase_zscores[feature] = (feature_val - feature_mean) / feature_stdev\n",
    "    print(\"Test case z-score for feature\", feature, \"is\", testcase_zscores[feature])"
   ]
  },
  {
   "cell_type": "code",
   "execution_count": 28,
   "metadata": {},
   "outputs": [
    {
     "name": "stdout",
     "output_type": "stream",
     "text": [
      "Delta score for candidate Condorcet is 1.94605429622003\n",
      "Delta score for candidate Mairan is 1.39365068026896\n"
     ]
    }
   ],
   "source": [
    "for author in authors:\n",
    "    delta = 0\n",
    "    for feature in features:\n",
    "        delta += math.fabs((testcase_zscores[feature] -\n",
    "                            feature_zscores[author][feature]))\n",
    "    delta /= len(features)\n",
    "    print( \"Delta score for candidate\", author, \"is\", delta )"
   ]
  },
  {
   "cell_type": "markdown",
   "metadata": {},
   "source": [
    "Mairan wrote the text"
   ]
  }
 ],
 "metadata": {
  "kernelspec": {
   "display_name": "Python 3",
   "language": "python",
   "name": "python3"
  },
  "language_info": {
   "codemirror_mode": {
    "name": "ipython",
    "version": 3
   },
   "file_extension": ".py",
   "mimetype": "text/x-python",
   "name": "python",
   "nbconvert_exporter": "python",
   "pygments_lexer": "ipython3",
   "version": "3.8.5"
  }
 },
 "nbformat": 4,
 "nbformat_minor": 5
}
