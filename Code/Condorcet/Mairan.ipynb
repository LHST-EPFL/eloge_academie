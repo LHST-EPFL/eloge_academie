{
 "cells": [
  {
   "cell_type": "markdown",
   "id": "restricted-valve",
   "metadata": {},
   "source": [
    "# 1. Load and imports"
   ]
  },
  {
   "cell_type": "code",
   "execution_count": 80,
   "id": "atlantic-click",
   "metadata": {},
   "outputs": [
    {
     "name": "stderr",
     "output_type": "stream",
     "text": [
      "/var/folders/n1/2dp16v113lv8x5rwt1t69_v40000gn/T/ipykernel_2297/4082280339.py:17: TqdmDeprecationWarning: This function will be removed in tqdm==5.0.0\n",
      "Please use `tqdm.notebook.tqdm` instead of `tqdm.tqdm_notebook`\n",
      "  tqdm_notebook().pandas()\n"
     ]
    },
    {
     "data": {
      "application/vnd.jupyter.widget-view+json": {
       "model_id": "ad8b32e788f9467b91ae8d5ecf573d56",
       "version_major": 2,
       "version_minor": 0
      },
      "text/plain": [
       "HBox(children=(HTML(value=''), FloatProgress(value=1.0, bar_style='info', layout=Layout(width='20px'), max=1.0…"
      ]
     },
     "metadata": {},
     "output_type": "display_data"
    }
   ],
   "source": [
    "import pandas as pd\n",
    "import numpy as np\n",
    "import matplotlib.pyplot as plt\n",
    "import re\n",
    "import spacy\n",
    "import nltk\n",
    "import octis\n",
    "from tqdm import tqdm_notebook\n",
    "from tqdm import tqdm\n",
    "import sys\n",
    "\n",
    "from pre_process import *\n",
    "from eda import *\n",
    "\n",
    "import warnings \n",
    "tqdm.pandas()\n",
    "tqdm_notebook().pandas()\n",
    "\n",
    "\n",
    "warnings.filterwarnings(\"ignore\")\n"
   ]
  },
  {
   "cell_type": "code",
   "execution_count": 2,
   "id": "expired-indian",
   "metadata": {},
   "outputs": [
    {
     "name": "stdout",
     "output_type": "stream",
     "text": [
      "\n"
     ]
    }
   ],
   "source": [
    "%load_ext autoreload\n",
    "\n",
    "%autoreload 2"
   ]
  },
  {
   "cell_type": "code",
   "execution_count": 3,
   "id": "trained-radar",
   "metadata": {},
   "outputs": [],
   "source": [
    "df_mairan = pd.read_csv('./../../Data/Dataframes/dataframe_mairan.csv')"
   ]
  },
  {
   "cell_type": "markdown",
   "id": "finnish-baker",
   "metadata": {},
   "source": [
    "# 2. Exploring"
   ]
  },
  {
   "cell_type": "code",
   "execution_count": 4,
   "id": "spoken-champion",
   "metadata": {},
   "outputs": [
    {
     "name": "stdout",
     "output_type": "stream",
     "text": [
      "There are : 10 eulogies\n"
     ]
    }
   ],
   "source": [
    "print('There are : ' + str(df_mairan.shape[0]) + ' eulogies')"
   ]
  },
  {
   "cell_type": "code",
   "execution_count": 5,
   "id": "eastern-robertson",
   "metadata": {},
   "outputs": [
    {
     "data": {
      "image/png": "[encoded data removed]",
      "text/plain": [
       "<Figure size 432x288 with 1 Axes>"
      ]
     },
     "metadata": {
      "needs_background": "light"
     },
     "output_type": "display_data"
    }
   ],
   "source": [
    "nbr_eulogies(df_mairan, 'Mairan', fig_size = (6,4))"
   ]
  },
  {
   "cell_type": "markdown",
   "id": "opening-cornell",
   "metadata": {},
   "source": [
    "## a. Number of characters"
   ]
  },
  {
   "cell_type": "code",
   "execution_count": 6,
   "id": "uniform-angola",
   "metadata": {
    "scrolled": true
   },
   "outputs": [
    {
     "data": {
      "text/html": [
       "<div>\n",
       "<style scoped>\n",
       "    .dataframe tbody tr th:only-of-type {\n",
       "        vertical-align: middle;\n",
       "    }\n",
       "\n",
       "    .dataframe tbody tr th {\n",
       "        vertical-align: top;\n",
       "    }\n",
       "\n",
       "    .dataframe thead th {\n",
       "        text-align: right;\n",
       "    }\n",
       "</style>\n",
       "<table border=\"1\" class=\"dataframe\">\n",
       "  <thead>\n",
       "    <tr style=\"text-align: right;\">\n",
       "      <th></th>\n",
       "      <th>Savant</th>\n",
       "      <th>Auteur</th>\n",
       "      <th>Annee</th>\n",
       "      <th>Eloge</th>\n",
       "      <th>Side_Info</th>\n",
       "    </tr>\n",
       "  </thead>\n",
       "  <tbody>\n",
       "    <tr>\n",
       "      <th>0</th>\n",
       "      <td>Petit</td>\n",
       "      <td>Mairan</td>\n",
       "      <td>1741</td>\n",
       "      <td>François Pourfour Du Petit naquit à Paris le 2...</td>\n",
       "      <td>[]</td>\n",
       "    </tr>\n",
       "    <tr>\n",
       "      <th>1</th>\n",
       "      <td>De Polignac</td>\n",
       "      <td>Mairan</td>\n",
       "      <td>1742</td>\n",
       "      <td>Melchior de Polignac, Cardinal Prêtre de l’Égl...</td>\n",
       "      <td>[]</td>\n",
       "    </tr>\n",
       "    <tr>\n",
       "      <th>2</th>\n",
       "      <td>Boulduc</td>\n",
       "      <td>Mairan</td>\n",
       "      <td>1742</td>\n",
       "      <td>Gilles-François Boulduc, premier Apothicaire d...</td>\n",
       "      <td>[]</td>\n",
       "    </tr>\n",
       "    <tr>\n",
       "      <th>3</th>\n",
       "      <td>Halley</td>\n",
       "      <td>Mairan</td>\n",
       "      <td>1742</td>\n",
       "      <td>Edmond Halley fils d’Edmond Halley citoyen de ...</td>\n",
       "      <td>[Ceci est dit, vaguement, et de la vue directe...</td>\n",
       "    </tr>\n",
       "    <tr>\n",
       "      <th>4</th>\n",
       "      <td>De Bremond</td>\n",
       "      <td>Mairan</td>\n",
       "      <td>1743</td>\n",
       "      <td>Ce que le sang peut communiquer de disposition...</td>\n",
       "      <td>[]</td>\n",
       "    </tr>\n",
       "  </tbody>\n",
       "</table>\n",
       "</div>"
      ],
      "text/plain": [
       "        Savant  Auteur  Annee  \\\n",
       "0        Petit  Mairan   1741   \n",
       "1  De Polignac  Mairan   1742   \n",
       "2      Boulduc  Mairan   1742   \n",
       "3       Halley  Mairan   1742   \n",
       "4   De Bremond  Mairan   1743   \n",
       "\n",
       "                                               Eloge  \\\n",
       "0  François Pourfour Du Petit naquit à Paris le 2...   \n",
       "1  Melchior de Polignac, Cardinal Prêtre de l’Égl...   \n",
       "2  Gilles-François Boulduc, premier Apothicaire d...   \n",
       "3  Edmond Halley fils d’Edmond Halley citoyen de ...   \n",
       "4  Ce que le sang peut communiquer de disposition...   \n",
       "\n",
       "                                           Side_Info  \n",
       "0                                                 []  \n",
       "1                                                 []  \n",
       "2                                                 []  \n",
       "3  [Ceci est dit, vaguement, et de la vue directe...  \n",
       "4                                                 []  "
      ]
     },
     "execution_count": 6,
     "metadata": {},
     "output_type": "execute_result"
    }
   ],
   "source": [
    "side_info(df_mairan)\n",
    "df_mairan.head()"
   ]
  },
  {
   "cell_type": "code",
   "execution_count": 7,
   "id": "strong-namibia",
   "metadata": {},
   "outputs": [
    {
     "data": {
      "image/png": "[encoded data removed]",
      "text/plain": [
       "<Figure size 432x288 with 1 Axes>"
      ]
     },
     "metadata": {
      "needs_background": "light"
     },
     "output_type": "display_data"
    }
   ],
   "source": [
    "nbr_character(df_mairan)"
   ]
  },
  {
   "cell_type": "code",
   "execution_count": 8,
   "id": "tutorial-insight",
   "metadata": {},
   "outputs": [
    {
     "data": {
      "image/png": "[encoded data removed]",
      "text/plain": [
       "<Figure size 432x288 with 1 Axes>"
      ]
     },
     "metadata": {
      "needs_background": "light"
     },
     "output_type": "display_data"
    }
   ],
   "source": [
    "nbr_character(df_mairan, evol = True)"
   ]
  },
  {
   "cell_type": "markdown",
   "id": "atomic-jenny",
   "metadata": {},
   "source": [
    "## b. Number of words"
   ]
  },
  {
   "cell_type": "code",
   "execution_count": 9,
   "id": "impressed-advocate",
   "metadata": {},
   "outputs": [
    {
     "data": {
      "image/png": "[encoded data removed]",
      "text/plain": [
       "<Figure size 432x288 with 1 Axes>"
      ]
     },
     "metadata": {
      "needs_background": "light"
     },
     "output_type": "display_data"
    }
   ],
   "source": [
    "nbr_words(df_mairan)"
   ]
  },
  {
   "cell_type": "code",
   "execution_count": 10,
   "id": "educated-scholarship",
   "metadata": {},
   "outputs": [
    {
     "data": {
      "image/png": "[encoded data removed]",
      "text/plain": [
       "<Figure size 432x288 with 1 Axes>"
      ]
     },
     "metadata": {
      "needs_background": "light"
     },
     "output_type": "display_data"
    }
   ],
   "source": [
    "nbr_words(df_mairan, evol = True)"
   ]
  },
  {
   "cell_type": "markdown",
   "id": "honest-blond",
   "metadata": {},
   "source": [
    "## c. Average word length"
   ]
  },
  {
   "cell_type": "code",
   "execution_count": 11,
   "id": "adequate-combining",
   "metadata": {},
   "outputs": [
    {
     "data": {
      "image/png": "[encoded data removed]",
      "text/plain": [
       "<Figure size 432x288 with 1 Axes>"
      ]
     },
     "metadata": {
      "needs_background": "light"
     },
     "output_type": "display_data"
    }
   ],
   "source": [
    "avg_word_length(df_mairan)"
   ]
  },
  {
   "cell_type": "code",
   "execution_count": 12,
   "id": "downtown-sterling",
   "metadata": {},
   "outputs": [
    {
     "data": {
      "image/png": "[encoded data removed]",
      "text/plain": [
       "<Figure size 432x288 with 1 Axes>"
      ]
     },
     "metadata": {
      "needs_background": "light"
     },
     "output_type": "display_data"
    }
   ],
   "source": [
    "avg_word_length(df_mairan, evol = True)"
   ]
  },
  {
   "cell_type": "markdown",
   "id": "excited-galaxy",
   "metadata": {},
   "source": [
    "## d. Average sentence length"
   ]
  },
  {
   "cell_type": "code",
   "execution_count": 13,
   "id": "amended-aquatic",
   "metadata": {},
   "outputs": [],
   "source": [
    "from eda import *"
   ]
  },
  {
   "cell_type": "code",
   "execution_count": 14,
   "id": "adaptive-algebra",
   "metadata": {},
   "outputs": [
    {
     "data": {
      "application/vnd.jupyter.widget-view+json": {
       "model_id": "3c7410b4da524e16991461a7ee9127f5",
       "version_major": 2,
       "version_minor": 0
      },
      "text/plain": [
       "HBox(children=(HTML(value=''), FloatProgress(value=0.0, max=10.0), HTML(value='')))"
      ]
     },
     "metadata": {},
     "output_type": "display_data"
    },
    {
     "name": "stdout",
     "output_type": "stream",
     "text": [
      "\n"
     ]
    },
    {
     "data": {
      "image/png": "[encoded data removed]",
      "text/plain": [
       "<Figure size 432x288 with 1 Axes>"
      ]
     },
     "metadata": {
      "needs_background": "light"
     },
     "output_type": "display_data"
    }
   ],
   "source": [
    "avg_sentence(df_mairan)"
   ]
  },
  {
   "cell_type": "code",
   "execution_count": 15,
   "id": "quiet-secretary",
   "metadata": {},
   "outputs": [
    {
     "data": {
      "application/vnd.jupyter.widget-view+json": {
       "model_id": "bf530387caa847029fe0623da1713a66",
       "version_major": 2,
       "version_minor": 0
      },
      "text/plain": [
       "HBox(children=(HTML(value=''), FloatProgress(value=0.0, max=10.0), HTML(value='')))"
      ]
     },
     "metadata": {},
     "output_type": "display_data"
    },
    {
     "name": "stdout",
     "output_type": "stream",
     "text": [
      "\n"
     ]
    },
    {
     "data": {
      "image/png": "[encoded data removed]",
      "text/plain": [
       "<Figure size 432x288 with 1 Axes>"
      ]
     },
     "metadata": {
      "needs_background": "light"
     },
     "output_type": "display_data"
    }
   ],
   "source": [
    "avg_sentence(df_mairan, evol = True)"
   ]
  },
  {
   "cell_type": "markdown",
   "id": "direct-kennedy",
   "metadata": {},
   "source": [
    "# 3. Pre-processing"
   ]
  },
  {
   "cell_type": "markdown",
   "id": "prostate-ending",
   "metadata": {},
   "source": [
    "## a. Removing stop words"
   ]
  },
  {
   "cell_type": "code",
   "execution_count": 16,
   "id": "conservative-salvation",
   "metadata": {},
   "outputs": [],
   "source": [
    "rmv_sw(df_mairan)"
   ]
  },
  {
   "cell_type": "markdown",
   "id": "bronze-genealogy",
   "metadata": {},
   "source": [
    "## b. Removing punctuation"
   ]
  },
  {
   "cell_type": "code",
   "execution_count": 17,
   "id": "royal-blogger",
   "metadata": {},
   "outputs": [],
   "source": [
    "rmv_punkt(df_mairan)"
   ]
  },
  {
   "cell_type": "markdown",
   "id": "supreme-mouth",
   "metadata": {},
   "source": [
    "## c. Lemmatizing"
   ]
  },
  {
   "cell_type": "code",
   "execution_count": 19,
   "id": "accessible-blues",
   "metadata": {},
   "outputs": [],
   "source": [
    "lemmatize(df_mairan, 'Eloge', 'tags_lem')"
   ]
  },
  {
   "cell_type": "markdown",
   "id": "acknowledged-float",
   "metadata": {},
   "source": [
    "## d. Removing digits"
   ]
  },
  {
   "cell_type": "code",
   "execution_count": 20,
   "id": "better-portrait",
   "metadata": {},
   "outputs": [],
   "source": [
    "rmv_digit(df_mairan)"
   ]
  },
  {
   "cell_type": "code",
   "execution_count": 21,
   "id": "artistic-argentina",
   "metadata": {},
   "outputs": [
    {
     "data": {
      "text/html": [
       "<div>\n",
       "<style scoped>\n",
       "    .dataframe tbody tr th:only-of-type {\n",
       "        vertical-align: middle;\n",
       "    }\n",
       "\n",
       "    .dataframe tbody tr th {\n",
       "        vertical-align: top;\n",
       "    }\n",
       "\n",
       "    .dataframe thead th {\n",
       "        text-align: right;\n",
       "    }\n",
       "</style>\n",
       "<table border=\"1\" class=\"dataframe\">\n",
       "  <thead>\n",
       "    <tr style=\"text-align: right;\">\n",
       "      <th></th>\n",
       "      <th>Savant</th>\n",
       "      <th>Auteur</th>\n",
       "      <th>Annee</th>\n",
       "      <th>Eloge</th>\n",
       "      <th>Side_Info</th>\n",
       "      <th>no_sw</th>\n",
       "      <th>no_sw_no_punkt</th>\n",
       "      <th>tags_lem</th>\n",
       "      <th>Eloge_lem</th>\n",
       "    </tr>\n",
       "  </thead>\n",
       "  <tbody>\n",
       "    <tr>\n",
       "      <th>0</th>\n",
       "      <td>Petit</td>\n",
       "      <td>Mairan</td>\n",
       "      <td>1741</td>\n",
       "      <td>François Pourfour Du Petit naquit à Paris le 2...</td>\n",
       "      <td>[]</td>\n",
       "      <td>François Pourfour Petit naquit Paris Juin 1664...</td>\n",
       "      <td>François Pourfour Petit naquit Paris Juin 1664...</td>\n",
       "      <td>[(François, NAM, François), (Pourfour, NAM, Po...</td>\n",
       "      <td>François Pourfour du Petit naître à Paris le @...</td>\n",
       "    </tr>\n",
       "    <tr>\n",
       "      <th>1</th>\n",
       "      <td>De Polignac</td>\n",
       "      <td>Mairan</td>\n",
       "      <td>1742</td>\n",
       "      <td>Melchior de Polignac, Cardinal Prêtre de l’Égl...</td>\n",
       "      <td>[]</td>\n",
       "      <td>Melchior Polignac, Cardinal Prêtre l’Église Ro...</td>\n",
       "      <td>Melchior Polignac  Cardinal Prêtre l Église Ro...</td>\n",
       "      <td>[(Melchior, NOM, melchior), (de, PRP, de), (Po...</td>\n",
       "      <td>melchior de polignac , cardinal prêtre de l’Ég...</td>\n",
       "    </tr>\n",
       "    <tr>\n",
       "      <th>2</th>\n",
       "      <td>Boulduc</td>\n",
       "      <td>Mairan</td>\n",
       "      <td>1742</td>\n",
       "      <td>Gilles-François Boulduc, premier Apothicaire d...</td>\n",
       "      <td>[]</td>\n",
       "      <td>Gilles-François Boulduc, Apothicaire Roi, anci...</td>\n",
       "      <td>Gilles François Boulduc  Apothicaire Roi  anci...</td>\n",
       "      <td>[(Gilles-François, NAM, Gilles-François), (Bou...</td>\n",
       "      <td>Gilles-François Boulduc , premier apothicaire ...</td>\n",
       "    </tr>\n",
       "    <tr>\n",
       "      <th>3</th>\n",
       "      <td>Halley</td>\n",
       "      <td>Mairan</td>\n",
       "      <td>1742</td>\n",
       "      <td>Edmond Halley fils d’Edmond Halley citoyen de ...</td>\n",
       "      <td>[Ceci est dit, vaguement, et de la vue directe...</td>\n",
       "      <td>Edmond Halley fils d’Edmond Halley citoyen Lon...</td>\n",
       "      <td>Edmond Halley fils d Edmond Halley citoyen Lon...</td>\n",
       "      <td>[(Edmond, NAM, Edmond), (Halley, NAM, Halley),...</td>\n",
       "      <td>Edmond Halley fils|fil d’Edmond Halley citoyen...</td>\n",
       "    </tr>\n",
       "    <tr>\n",
       "      <th>4</th>\n",
       "      <td>De Bremond</td>\n",
       "      <td>Mairan</td>\n",
       "      <td>1743</td>\n",
       "      <td>Ce que le sang peut communiquer de disposition...</td>\n",
       "      <td>[]</td>\n",
       "      <td>sang communiquer dispositions talents fort dou...</td>\n",
       "      <td>sang communiquer dispositions talents fort dou...</td>\n",
       "      <td>[(Ce, PRO:DEM, ce), (que, PRO:REL, que), (le, ...</td>\n",
       "      <td>ce que le sang pouvoir communiquer de disposit...</td>\n",
       "    </tr>\n",
       "  </tbody>\n",
       "</table>\n",
       "</div>"
      ],
      "text/plain": [
       "        Savant  Auteur  Annee  \\\n",
       "0        Petit  Mairan   1741   \n",
       "1  De Polignac  Mairan   1742   \n",
       "2      Boulduc  Mairan   1742   \n",
       "3       Halley  Mairan   1742   \n",
       "4   De Bremond  Mairan   1743   \n",
       "\n",
       "                                               Eloge  \\\n",
       "0  François Pourfour Du Petit naquit à Paris le 2...   \n",
       "1  Melchior de Polignac, Cardinal Prêtre de l’Égl...   \n",
       "2  Gilles-François Boulduc, premier Apothicaire d...   \n",
       "3  Edmond Halley fils d’Edmond Halley citoyen de ...   \n",
       "4  Ce que le sang peut communiquer de disposition...   \n",
       "\n",
       "                                           Side_Info  \\\n",
       "0                                                 []   \n",
       "1                                                 []   \n",
       "2                                                 []   \n",
       "3  [Ceci est dit, vaguement, et de la vue directe...   \n",
       "4                                                 []   \n",
       "\n",
       "                                               no_sw  \\\n",
       "0  François Pourfour Petit naquit Paris Juin 1664...   \n",
       "1  Melchior Polignac, Cardinal Prêtre l’Église Ro...   \n",
       "2  Gilles-François Boulduc, Apothicaire Roi, anci...   \n",
       "3  Edmond Halley fils d’Edmond Halley citoyen Lon...   \n",
       "4  sang communiquer dispositions talents fort dou...   \n",
       "\n",
       "                                      no_sw_no_punkt  \\\n",
       "0  François Pourfour Petit naquit Paris Juin 1664...   \n",
       "1  Melchior Polignac  Cardinal Prêtre l Église Ro...   \n",
       "2  Gilles François Boulduc  Apothicaire Roi  anci...   \n",
       "3  Edmond Halley fils d Edmond Halley citoyen Lon...   \n",
       "4  sang communiquer dispositions talents fort dou...   \n",
       "\n",
       "                                            tags_lem  \\\n",
       "0  [(François, NAM, François), (Pourfour, NAM, Po...   \n",
       "1  [(Melchior, NOM, melchior), (de, PRP, de), (Po...   \n",
       "2  [(Gilles-François, NAM, Gilles-François), (Bou...   \n",
       "3  [(Edmond, NAM, Edmond), (Halley, NAM, Halley),...   \n",
       "4  [(Ce, PRO:DEM, ce), (que, PRO:REL, que), (le, ...   \n",
       "\n",
       "                                           Eloge_lem  \n",
       "0  François Pourfour du Petit naître à Paris le @...  \n",
       "1  melchior de polignac , cardinal prêtre de l’Ég...  \n",
       "2  Gilles-François Boulduc , premier apothicaire ...  \n",
       "3  Edmond Halley fils|fil d’Edmond Halley citoyen...  \n",
       "4  ce que le sang pouvoir communiquer de disposit...  "
      ]
     },
     "execution_count": 21,
     "metadata": {},
     "output_type": "execute_result"
    }
   ],
   "source": [
    "df_mairan.head()"
   ]
  },
  {
   "cell_type": "markdown",
   "id": "relevant-exclusive",
   "metadata": {},
   "source": [
    "# 3. Part-of-Speech"
   ]
  },
  {
   "cell_type": "code",
   "execution_count": 22,
   "id": "respiratory-musical",
   "metadata": {
    "scrolled": false
   },
   "outputs": [
    {
     "data": {
      "image/png": "[encoded data removed]",
      "text/plain": [
       "<Figure size 720x288 with 1 Axes>"
      ]
     },
     "metadata": {
      "needs_background": "light"
     },
     "output_type": "display_data"
    }
   ],
   "source": [
    "part_of_speech_hist(df_mairan, 'mairan')\n"
   ]
  },
  {
   "cell_type": "code",
   "execution_count": 23,
   "id": "eligible-scheme",
   "metadata": {},
   "outputs": [
    {
     "data": {
      "image/png": "[encoded data removed]",
      "text/plain": [
       "<Figure size 720x288 with 1 Axes>"
      ]
     },
     "metadata": {
      "needs_background": "light"
     },
     "output_type": "display_data"
    }
   ],
   "source": [
    "part_of_speech_hist(df_mairan, 'mairan',nbr = df_mairan.shape[0])\n"
   ]
  },
  {
   "cell_type": "markdown",
   "id": "intellectual-principle",
   "metadata": {},
   "source": [
    "# 4. Royal Academy"
   ]
  },
  {
   "cell_type": "code",
   "execution_count": 24,
   "id": "variable-agriculture",
   "metadata": {},
   "outputs": [
    {
     "name": "stdout",
     "output_type": "stream",
     "text": [
      "Percentage of first-person pronouns : 11.072056239015817%\n"
     ]
    },
    {
     "data": {
      "image/png": "[encoded data removed]",
      "text/plain": [
       "<Figure size 720x432 with 1 Axes>"
      ]
     },
     "metadata": {
      "needs_background": "light"
     },
     "output_type": "display_data"
    }
   ],
   "source": [
    "self_disclosure(df_mairan)"
   ]
  },
  {
   "cell_type": "code",
   "execution_count": 25,
   "id": "optimum-charm",
   "metadata": {},
   "outputs": [
    {
     "data": {
      "text/html": [
       "<div>\n",
       "<style scoped>\n",
       "    .dataframe tbody tr th:only-of-type {\n",
       "        vertical-align: middle;\n",
       "    }\n",
       "\n",
       "    .dataframe tbody tr th {\n",
       "        vertical-align: top;\n",
       "    }\n",
       "\n",
       "    .dataframe thead th {\n",
       "        text-align: right;\n",
       "    }\n",
       "</style>\n",
       "<table border=\"1\" class=\"dataframe\">\n",
       "  <thead>\n",
       "    <tr style=\"text-align: right;\">\n",
       "      <th></th>\n",
       "      <th>Savant</th>\n",
       "      <th>Auteur</th>\n",
       "      <th>Annee</th>\n",
       "      <th>Eloge</th>\n",
       "      <th>Side_Info</th>\n",
       "      <th>no_sw</th>\n",
       "      <th>no_sw_no_punkt</th>\n",
       "      <th>tags_lem</th>\n",
       "      <th>Eloge_lem</th>\n",
       "      <th>pos</th>\n",
       "    </tr>\n",
       "  </thead>\n",
       "  <tbody>\n",
       "    <tr>\n",
       "      <th>0</th>\n",
       "      <td>Petit</td>\n",
       "      <td>Mairan</td>\n",
       "      <td>1741</td>\n",
       "      <td>François Pourfour Du Petit naquit à Paris le 2...</td>\n",
       "      <td>[]</td>\n",
       "      <td>François Pourfour Petit naquit Paris Juin 1664...</td>\n",
       "      <td>François Pourfour Petit naquit Paris Juin 1664...</td>\n",
       "      <td>[(François, NAM, François), (Pourfour, NAM, Po...</td>\n",
       "      <td>François Pourfour du Petit naître à Paris le @...</td>\n",
       "      <td>[proper name, proper name, preposition plus ar...</td>\n",
       "    </tr>\n",
       "    <tr>\n",
       "      <th>1</th>\n",
       "      <td>De Polignac</td>\n",
       "      <td>Mairan</td>\n",
       "      <td>1742</td>\n",
       "      <td>Melchior de Polignac, Cardinal Prêtre de l’Égl...</td>\n",
       "      <td>[]</td>\n",
       "      <td>Melchior Polignac, Cardinal Prêtre l’Église Ro...</td>\n",
       "      <td>Melchior Polignac  Cardinal Prêtre l Église Ro...</td>\n",
       "      <td>[(Melchior, NOM, melchior), (de, PRP, de), (Po...</td>\n",
       "      <td>melchior de polignac , cardinal prêtre de l’Ég...</td>\n",
       "      <td>[noun, preposition, noun, punctuation, adjecti...</td>\n",
       "    </tr>\n",
       "    <tr>\n",
       "      <th>2</th>\n",
       "      <td>Boulduc</td>\n",
       "      <td>Mairan</td>\n",
       "      <td>1742</td>\n",
       "      <td>Gilles-François Boulduc, premier Apothicaire d...</td>\n",
       "      <td>[]</td>\n",
       "      <td>Gilles-François Boulduc, Apothicaire Roi, anci...</td>\n",
       "      <td>Gilles François Boulduc  Apothicaire Roi  anci...</td>\n",
       "      <td>[(Gilles-François, NAM, Gilles-François), (Bou...</td>\n",
       "      <td>Gilles-François Boulduc , premier apothicaire ...</td>\n",
       "      <td>[proper name, proper name, punctuation, numera...</td>\n",
       "    </tr>\n",
       "    <tr>\n",
       "      <th>3</th>\n",
       "      <td>Halley</td>\n",
       "      <td>Mairan</td>\n",
       "      <td>1742</td>\n",
       "      <td>Edmond Halley fils d’Edmond Halley citoyen de ...</td>\n",
       "      <td>[Ceci est dit, vaguement, et de la vue directe...</td>\n",
       "      <td>Edmond Halley fils d’Edmond Halley citoyen Lon...</td>\n",
       "      <td>Edmond Halley fils d Edmond Halley citoyen Lon...</td>\n",
       "      <td>[(Edmond, NAM, Edmond), (Halley, NAM, Halley),...</td>\n",
       "      <td>Edmond Halley fils|fil d’Edmond Halley citoyen...</td>\n",
       "      <td>[proper name, proper name, noun, adjective, pr...</td>\n",
       "    </tr>\n",
       "    <tr>\n",
       "      <th>4</th>\n",
       "      <td>De Bremond</td>\n",
       "      <td>Mairan</td>\n",
       "      <td>1743</td>\n",
       "      <td>Ce que le sang peut communiquer de disposition...</td>\n",
       "      <td>[]</td>\n",
       "      <td>sang communiquer dispositions talents fort dou...</td>\n",
       "      <td>sang communiquer dispositions talents fort dou...</td>\n",
       "      <td>[(Ce, PRO:DEM, ce), (que, PRO:REL, que), (le, ...</td>\n",
       "      <td>ce que le sang pouvoir communiquer de disposit...</td>\n",
       "      <td>[demonstrative pronoun, relative pronoun, arti...</td>\n",
       "    </tr>\n",
       "    <tr>\n",
       "      <th>5</th>\n",
       "      <td>De Molières</td>\n",
       "      <td>Mairan</td>\n",
       "      <td>1743</td>\n",
       "      <td>Joseph Privat de Molières, Prêtre, Lecteur et ...</td>\n",
       "      <td>[M. Daniel Bernoulli, M. Caffini]</td>\n",
       "      <td>Joseph Privat Molières, Prêtre, Lecteur Profes...</td>\n",
       "      <td>Joseph Privat Molières  Prêtre  Lecteur Profes...</td>\n",
       "      <td>[(Joseph, NAM, Joseph), (Privat, NAM, Privat),...</td>\n",
       "      <td>Joseph Privat de molière , prêtre , lecteur et...</td>\n",
       "      <td>[proper name, proper name, preposition, noun, ...</td>\n",
       "    </tr>\n",
       "    <tr>\n",
       "      <th>6</th>\n",
       "      <td>Hunauld</td>\n",
       "      <td>Mairan</td>\n",
       "      <td>1743</td>\n",
       "      <td>François Joseph Hunauld naquit à Châteaubriant...</td>\n",
       "      <td>[]</td>\n",
       "      <td>François Joseph Hunauld naquit Châteaubriant F...</td>\n",
       "      <td>François Joseph Hunauld naquit Châteaubriant F...</td>\n",
       "      <td>[(François, NAM, François), (Joseph, NAM, Jose...</td>\n",
       "      <td>François Joseph Hunauld naître à châteaubriant...</td>\n",
       "      <td>[proper name, proper name, proper name, verb s...</td>\n",
       "    </tr>\n",
       "    <tr>\n",
       "      <th>7</th>\n",
       "      <td>De Fleury</td>\n",
       "      <td>Mairan</td>\n",
       "      <td>1743</td>\n",
       "      <td>André Hercule De Fleury ancien Evêque de Fréju...</td>\n",
       "      <td>[*Tout ceci est tiré d’une lettre ou relation ...</td>\n",
       "      <td>André Hercule Fleury ancien Evêque Fréjus, Pré...</td>\n",
       "      <td>André Hercule Fleury ancien Evêque Fréjus  Pré...</td>\n",
       "      <td>[(André, NAM, André), (Hercule, NAM, Hercule),...</td>\n",
       "      <td>André Hercule de Fleury ancien Evêque de Fréju...</td>\n",
       "      <td>[proper name, proper name, preposition, proper...</td>\n",
       "    </tr>\n",
       "    <tr>\n",
       "      <th>8</th>\n",
       "      <td>Bignon</td>\n",
       "      <td>Mairan</td>\n",
       "      <td>1743</td>\n",
       "      <td>Jean-Paul Bignon, Abbé de Saint Quentin en l’I...</td>\n",
       "      <td>[En 1684, en 1718, 1743]</td>\n",
       "      <td>Jean-Paul Bignon, Abbé Saint Quentin l’Isle, c...</td>\n",
       "      <td>Jean Paul Bignon  Abbé Saint Quentin l Isle  c...</td>\n",
       "      <td>[(Jean-Paul, ADJ, Jean-Paul), (Bignon, NOM, bi...</td>\n",
       "      <td>Jean-Paul bignon , abbé de saint Quentin en l’...</td>\n",
       "      <td>[adjective, noun, punctuation, noun, prepositi...</td>\n",
       "    </tr>\n",
       "    <tr>\n",
       "      <th>9</th>\n",
       "      <td>Lémery</td>\n",
       "      <td>Mairan</td>\n",
       "      <td>1743</td>\n",
       "      <td>Nicolas Lémery, l’un des anciens Membres de ce...</td>\n",
       "      <td>[]</td>\n",
       "      <td>Nicolas Lémery, l’un anciens Membres Compagnie...</td>\n",
       "      <td>Nicolas Lémery  l un anciens Membres Compagnie...</td>\n",
       "      <td>[(Nicolas, NAM, Nicolas), (Lémery, NAM, Lémery...</td>\n",
       "      <td>Nicolas Lémery , l’un du ancien membre de ce c...</td>\n",
       "      <td>[proper name, proper name, punctuation, noun, ...</td>\n",
       "    </tr>\n",
       "  </tbody>\n",
       "</table>\n",
       "</div>"
      ],
      "text/plain": [
       "        Savant  Auteur  Annee  \\\n",
       "0        Petit  Mairan   1741   \n",
       "1  De Polignac  Mairan   1742   \n",
       "2      Boulduc  Mairan   1742   \n",
       "3       Halley  Mairan   1742   \n",
       "4   De Bremond  Mairan   1743   \n",
       "5  De Molières  Mairan   1743   \n",
       "6      Hunauld  Mairan   1743   \n",
       "7    De Fleury  Mairan   1743   \n",
       "8       Bignon  Mairan   1743   \n",
       "9       Lémery  Mairan   1743   \n",
       "\n",
       "                                               Eloge  \\\n",
       "0  François Pourfour Du Petit naquit à Paris le 2...   \n",
       "1  Melchior de Polignac, Cardinal Prêtre de l’Égl...   \n",
       "2  Gilles-François Boulduc, premier Apothicaire d...   \n",
       "3  Edmond Halley fils d’Edmond Halley citoyen de ...   \n",
       "4  Ce que le sang peut communiquer de disposition...   \n",
       "5  Joseph Privat de Molières, Prêtre, Lecteur et ...   \n",
       "6  François Joseph Hunauld naquit à Châteaubriant...   \n",
       "7  André Hercule De Fleury ancien Evêque de Fréju...   \n",
       "8  Jean-Paul Bignon, Abbé de Saint Quentin en l’I...   \n",
       "9  Nicolas Lémery, l’un des anciens Membres de ce...   \n",
       "\n",
       "                                           Side_Info  \\\n",
       "0                                                 []   \n",
       "1                                                 []   \n",
       "2                                                 []   \n",
       "3  [Ceci est dit, vaguement, et de la vue directe...   \n",
       "4                                                 []   \n",
       "5                  [M. Daniel Bernoulli, M. Caffini]   \n",
       "6                                                 []   \n",
       "7  [*Tout ceci est tiré d’une lettre ou relation ...   \n",
       "8                           [En 1684, en 1718, 1743]   \n",
       "9                                                 []   \n",
       "\n",
       "                                               no_sw  \\\n",
       "0  François Pourfour Petit naquit Paris Juin 1664...   \n",
       "1  Melchior Polignac, Cardinal Prêtre l’Église Ro...   \n",
       "2  Gilles-François Boulduc, Apothicaire Roi, anci...   \n",
       "3  Edmond Halley fils d’Edmond Halley citoyen Lon...   \n",
       "4  sang communiquer dispositions talents fort dou...   \n",
       "5  Joseph Privat Molières, Prêtre, Lecteur Profes...   \n",
       "6  François Joseph Hunauld naquit Châteaubriant F...   \n",
       "7  André Hercule Fleury ancien Evêque Fréjus, Pré...   \n",
       "8  Jean-Paul Bignon, Abbé Saint Quentin l’Isle, c...   \n",
       "9  Nicolas Lémery, l’un anciens Membres Compagnie...   \n",
       "\n",
       "                                      no_sw_no_punkt  \\\n",
       "0  François Pourfour Petit naquit Paris Juin 1664...   \n",
       "1  Melchior Polignac  Cardinal Prêtre l Église Ro...   \n",
       "2  Gilles François Boulduc  Apothicaire Roi  anci...   \n",
       "3  Edmond Halley fils d Edmond Halley citoyen Lon...   \n",
       "4  sang communiquer dispositions talents fort dou...   \n",
       "5  Joseph Privat Molières  Prêtre  Lecteur Profes...   \n",
       "6  François Joseph Hunauld naquit Châteaubriant F...   \n",
       "7  André Hercule Fleury ancien Evêque Fréjus  Pré...   \n",
       "8  Jean Paul Bignon  Abbé Saint Quentin l Isle  c...   \n",
       "9  Nicolas Lémery  l un anciens Membres Compagnie...   \n",
       "\n",
       "                                            tags_lem  \\\n",
       "0  [(François, NAM, François), (Pourfour, NAM, Po...   \n",
       "1  [(Melchior, NOM, melchior), (de, PRP, de), (Po...   \n",
       "2  [(Gilles-François, NAM, Gilles-François), (Bou...   \n",
       "3  [(Edmond, NAM, Edmond), (Halley, NAM, Halley),...   \n",
       "4  [(Ce, PRO:DEM, ce), (que, PRO:REL, que), (le, ...   \n",
       "5  [(Joseph, NAM, Joseph), (Privat, NAM, Privat),...   \n",
       "6  [(François, NAM, François), (Joseph, NAM, Jose...   \n",
       "7  [(André, NAM, André), (Hercule, NAM, Hercule),...   \n",
       "8  [(Jean-Paul, ADJ, Jean-Paul), (Bignon, NOM, bi...   \n",
       "9  [(Nicolas, NAM, Nicolas), (Lémery, NAM, Lémery...   \n",
       "\n",
       "                                           Eloge_lem  \\\n",
       "0  François Pourfour du Petit naître à Paris le @...   \n",
       "1  melchior de polignac , cardinal prêtre de l’Ég...   \n",
       "2  Gilles-François Boulduc , premier apothicaire ...   \n",
       "3  Edmond Halley fils|fil d’Edmond Halley citoyen...   \n",
       "4  ce que le sang pouvoir communiquer de disposit...   \n",
       "5  Joseph Privat de molière , prêtre , lecteur et...   \n",
       "6  François Joseph Hunauld naître à châteaubriant...   \n",
       "7  André Hercule de Fleury ancien Evêque de Fréju...   \n",
       "8  Jean-Paul bignon , abbé de saint Quentin en l’...   \n",
       "9  Nicolas Lémery , l’un du ancien membre de ce c...   \n",
       "\n",
       "                                                 pos  \n",
       "0  [proper name, proper name, preposition plus ar...  \n",
       "1  [noun, preposition, noun, punctuation, adjecti...  \n",
       "2  [proper name, proper name, punctuation, numera...  \n",
       "3  [proper name, proper name, noun, adjective, pr...  \n",
       "4  [demonstrative pronoun, relative pronoun, arti...  \n",
       "5  [proper name, proper name, preposition, noun, ...  \n",
       "6  [proper name, proper name, proper name, verb s...  \n",
       "7  [proper name, proper name, preposition, proper...  \n",
       "8  [adjective, noun, punctuation, noun, prepositi...  \n",
       "9  [proper name, proper name, punctuation, noun, ...  "
      ]
     },
     "execution_count": 25,
     "metadata": {},
     "output_type": "execute_result"
    }
   ],
   "source": [
    "df_mairan"
   ]
  },
  {
   "cell_type": "code",
   "execution_count": 26,
   "id": "modified-prophet",
   "metadata": {},
   "outputs": [
    {
     "data": {
      "application/vnd.jupyter.widget-view+json": {
       "model_id": "2554d6441e6a428c8a6f0abe09420c83",
       "version_major": 2,
       "version_minor": 0
      },
      "text/plain": [
       "HBox(children=(HTML(value=''), FloatProgress(value=0.0, max=10.0), HTML(value='')))"
      ]
     },
     "metadata": {},
     "output_type": "display_data"
    },
    {
     "name": "stdout",
     "output_type": "stream",
     "text": [
      "\n"
     ]
    },
    {
     "data": {
      "application/vnd.jupyter.widget-view+json": {
       "model_id": "1002e5fe696042f988841fa20b1a9524",
       "version_major": 2,
       "version_minor": 0
      },
      "text/plain": [
       "HBox(children=(HTML(value=''), FloatProgress(value=0.0, max=10.0), HTML(value='')))"
      ]
     },
     "metadata": {},
     "output_type": "display_data"
    },
    {
     "name": "stdout",
     "output_type": "stream",
     "text": [
      "\n",
      "Number of verbs in past tense : 3108\n",
      "Number of verbs not in past tense : 2613\n",
      "Percentage of verbs in past tense : 54.326166754063976%\n"
     ]
    }
   ],
   "source": [
    "add_tags(df_mairan,'Eloge', 'tags')\n",
    "project_back(df_mairan)"
   ]
  },
  {
   "cell_type": "markdown",
   "id": "empty-momentum",
   "metadata": {},
   "source": [
    "# 5. Topic Modeling"
   ]
  },
  {
   "cell_type": "code",
   "execution_count": 28,
   "id": "atmospheric-accent",
   "metadata": {},
   "outputs": [],
   "source": [
    "rmv_sw(df_mairan, 'Eloge_lem')\n",
    "rmv_punkt(df_mairan, 'Eloge_lem')\n"
   ]
  },
  {
   "cell_type": "code",
   "execution_count": 30,
   "id": "balanced-sword",
   "metadata": {},
   "outputs": [
    {
     "data": {
      "application/vnd.jupyter.widget-view+json": {
       "model_id": "f38f41b4fa2d4bb291df0633c8e80d6e",
       "version_major": 2,
       "version_minor": 0
      },
      "text/plain": [
       "HBox(children=(HTML(value=''), FloatProgress(value=0.0, max=10.0), HTML(value='')))"
      ]
     },
     "metadata": {},
     "output_type": "display_data"
    },
    {
     "name": "stdout",
     "output_type": "stream",
     "text": [
      "\n"
     ]
    }
   ],
   "source": [
    "nouns_verbs(df_mairan, 'Eloge_lem')"
   ]
  },
  {
   "cell_type": "code",
   "execution_count": 31,
   "id": "lightweight-criminal",
   "metadata": {},
   "outputs": [
    {
     "data": {
      "application/vnd.jupyter.widget-view+json": {
       "model_id": "3f7633e53bcd4158afd5b2f5fce66d8b",
       "version_major": 2,
       "version_minor": 0
      },
      "text/plain": [
       "HBox(children=(HTML(value='Batches'), FloatProgress(value=0.0, max=1.0), HTML(value='')))"
      ]
     },
     "metadata": {},
     "output_type": "display_data"
    },
    {
     "name": "stdout",
     "output_type": "stream",
     "text": [
      "\n"
     ]
    }
   ],
   "source": [
    "from sentence_transformers import SentenceTransformer\n",
    "model = SentenceTransformer('distiluse-base-multilingual-cased-v1')\n",
    "embeddings = model.encode(df_mairan.n_v, show_progress_bar=True)"
   ]
  },
  {
   "cell_type": "code",
   "execution_count": 32,
   "id": "removable-dallas",
   "metadata": {},
   "outputs": [],
   "source": [
    "from bertopic import BERTopic\n",
    "\n",
    "\n",
    "# Create topic model\n",
    "model = BERTopic(language ='French')\n",
    "topics, probabilities = model.fit_transform(df_mairan.n_v, embeddings)"
   ]
  },
  {
   "cell_type": "code",
   "execution_count": 67,
   "id": "unique-memphis",
   "metadata": {},
   "outputs": [],
   "source": [
    "import umap\n",
    "umap_embeddings = umap.UMAP(n_neighbors=2, \n",
    "                            n_components=10, \n",
    "                            metric='cosine').fit_transform(embeddings)"
   ]
  },
  {
   "cell_type": "code",
   "execution_count": 68,
   "id": "pursuant-inspiration",
   "metadata": {},
   "outputs": [],
   "source": [
    "import hdbscan\n",
    "cluster = hdbscan.HDBSCAN(min_cluster_size=2,\n",
    "                          metric='euclidean',                      \n",
    "                          cluster_selection_method='eom').fit(umap_embeddings)"
   ]
  },
  {
   "cell_type": "code",
   "execution_count": 69,
   "id": "muslim-porcelain",
   "metadata": {},
   "outputs": [],
   "source": [
    "import matplotlib.pyplot as plt\n",
    "\n",
    "# Prepare data\n",
    "umap_data = umap.UMAP(n_neighbors=15, n_components=2, min_dist=0.0, metric='cosine').fit_transform(embeddings)\n",
    "result = pd.DataFrame(umap_data, columns=['x', 'y'])\n",
    "result['labels'] = cluster.labels_\n"
   ]
  },
  {
   "cell_type": "code",
   "execution_count": 70,
   "id": "japanese-lease",
   "metadata": {},
   "outputs": [
    {
     "data": {
      "text/plain": [
       "<matplotlib.colorbar.Colorbar at 0x7fd7175bc220>"
      ]
     },
     "execution_count": 70,
     "metadata": {},
     "output_type": "execute_result"
    },
    {
     "data": {
      "image/png": "[encoded data removed]",
      "text/plain": [
       "<Figure size 1440x720 with 2 Axes>"
      ]
     },
     "metadata": {
      "needs_background": "light"
     },
     "output_type": "display_data"
    }
   ],
   "source": [
    "# Visualize clusters\n",
    "fig, ax = plt.subplots(figsize=(20, 10))\n",
    "outliers = result.loc[result.labels == -1, :]\n",
    "clustered = result.loc[result.labels != -1, :]\n",
    "plt.scatter(outliers.x, outliers.y, color='#BDBDBD', s=20)\n",
    "plt.scatter(clustered.x, clustered.y, c=clustered.labels, s=20, cmap='hsv_r')\n",
    "plt.colorbar()"
   ]
  },
  {
   "cell_type": "code",
   "execution_count": 77,
   "id": "critical-constitution",
   "metadata": {},
   "outputs": [],
   "source": [
    "result.to_csv('./../../Data/Results/Topic_Modeling_Mairan.csv')"
   ]
  },
  {
   "cell_type": "code",
   "execution_count": 71,
   "id": "filled-buyer",
   "metadata": {},
   "outputs": [],
   "source": [
    "docs_df = pd.DataFrame({'Doc' : df_mairan.n_v.tolist(), 'Annee' :df_mairan.Annee.tolist()})\n",
    "docs_df['Topic'] = cluster.labels_\n",
    "docs_df['Doc_ID'] = range(len(docs_df))\n",
    "docs_df.head()\n",
    "docs_per_topic = docs_df.groupby(['Topic'], as_index = False).agg({'Doc': ' '.join})"
   ]
  },
  {
   "cell_type": "code",
   "execution_count": 72,
   "id": "pressed-parking",
   "metadata": {},
   "outputs": [],
   "source": [
    "from topic_modeling import *"
   ]
  },
  {
   "cell_type": "code",
   "execution_count": 73,
   "id": "formal-utility",
   "metadata": {},
   "outputs": [],
   "source": [
    "tf_idf, count = c_tf_idf(docs_per_topic.Doc.values, m=len(df_mairan.n_v))"
   ]
  },
  {
   "cell_type": "code",
   "execution_count": 74,
   "id": "restricted-coffee",
   "metadata": {},
   "outputs": [
    {
     "data": {
      "text/html": [
       "<div>\n",
       "<style scoped>\n",
       "    .dataframe tbody tr th:only-of-type {\n",
       "        vertical-align: middle;\n",
       "    }\n",
       "\n",
       "    .dataframe tbody tr th {\n",
       "        vertical-align: top;\n",
       "    }\n",
       "\n",
       "    .dataframe thead th {\n",
       "        text-align: right;\n",
       "    }\n",
       "</style>\n",
       "<table border=\"1\" class=\"dataframe\">\n",
       "  <thead>\n",
       "    <tr style=\"text-align: right;\">\n",
       "      <th></th>\n",
       "      <th>Topic</th>\n",
       "      <th>Size</th>\n",
       "    </tr>\n",
       "  </thead>\n",
       "  <tbody>\n",
       "    <tr>\n",
       "      <th>1</th>\n",
       "      <td>1</td>\n",
       "      <td>7</td>\n",
       "    </tr>\n",
       "    <tr>\n",
       "      <th>0</th>\n",
       "      <td>0</td>\n",
       "      <td>3</td>\n",
       "    </tr>\n",
       "  </tbody>\n",
       "</table>\n",
       "</div>"
      ],
      "text/plain": [
       "   Topic  Size\n",
       "1      1     7\n",
       "0      0     3"
      ]
     },
     "execution_count": 74,
     "metadata": {},
     "output_type": "execute_result"
    }
   ],
   "source": [
    "top_n_words = extract_top_n_words_per_topic(tf_idf, count, docs_per_topic, n=20)\n",
    "topic_sizes = extract_topic_sizes(docs_df); topic_sizes.head(10)\n"
   ]
  },
  {
   "cell_type": "code",
   "execution_count": 75,
   "id": "right-priority",
   "metadata": {},
   "outputs": [
    {
     "data": {
      "text/plain": [
       "[('vapeur', 0.00035086759788403415),\n",
       " ('remarque', 0.00035086759788403415),\n",
       " ('monstre', 0.00035086759788403415),\n",
       " ('essai', 0.00035086759788403415),\n",
       " ('réserver', 0.00035086759788403415),\n",
       " ('adresser', 0.00035086759788403415),\n",
       " ('édition', 0.00035086759788403415),\n",
       " ('compte', 0.00035086759788403415),\n",
       " ('remettre', 0.00035086759788403415),\n",
       " ('note', 0.00035086759788403415),\n",
       " ('capitaine', 0.00035086759788403415),\n",
       " ('analyser', 0.00035086759788403415),\n",
       " ('vaquer', 0.00035086759788403415),\n",
       " ('pape', 0.00035086759788403415),\n",
       " ('obliger', 0.00035086759788403415),\n",
       " ('style', 0.00035086759788403415),\n",
       " ('moment', 0.00035086759788403415),\n",
       " ('latitude', 0.00035086759788403415),\n",
       " ('préparation', 0.00035086759788403415),\n",
       " ('passage', 0.00035086759788403415)]"
      ]
     },
     "execution_count": 75,
     "metadata": {},
     "output_type": "execute_result"
    }
   ],
   "source": [
    "top_n_words[1][:]"
   ]
  },
  {
   "cell_type": "code",
   "execution_count": 76,
   "id": "average-armenia",
   "metadata": {},
   "outputs": [
    {
     "data": {
      "text/plain": [
       "[('botanique', 0.0008693460454213995),\n",
       " ('précepteur', 0.0008693460454213995),\n",
       " ('fluide', 0.0008693460454213995),\n",
       " ('nerf', 0.0008567168911237686),\n",
       " ('fidélité', 0.0008567168911237686),\n",
       " ('ascension', 0.0008567168911237686),\n",
       " ('globule', 0.0008567168911237686),\n",
       " ('cristallin', 0.0008567168911237686),\n",
       " ('traverser', 0.0008567168911237686),\n",
       " ('machine', 0.0008567168911237686),\n",
       " ('protéger', 0.0008567168911237686),\n",
       " ('eut', 0.0008567168911237686),\n",
       " ('député', 0.0008567168911237686),\n",
       " ('confondre', 0.0008567168911237686),\n",
       " ('pratiquer', 0.0008567168911237686),\n",
       " ('ministère', 0.0008220436202086637),\n",
       " ('cataracte', 0.0008220436202086637),\n",
       " ('commissaire', 0.0007634904707941653),\n",
       " ('pompe', 0.0007634904707941653),\n",
       " ('badinage', 0.0007634904707941653)]"
      ]
     },
     "execution_count": 76,
     "metadata": {},
     "output_type": "execute_result"
    }
   ],
   "source": [
    "top_n_words[0][:]"
   ]
  },
  {
   "cell_type": "code",
   "execution_count": 78,
   "id": "imposed-contemporary",
   "metadata": {},
   "outputs": [
    {
     "data": {
      "text/plain": [
       "<AxesSubplot:xlabel='Annee', ylabel='count'>"
      ]
     },
     "execution_count": 78,
     "metadata": {},
     "output_type": "execute_result"
    },
    {
     "data": {
      "image/png": "[encoded data removed]",
      "text/plain": [
       "<Figure size 1080x576 with 1 Axes>"
      ]
     },
     "metadata": {},
     "output_type": "display_data"
    }
   ],
   "source": [
    "import seaborn as sns\n",
    "\n",
    "sns.set(rc={'figure.figsize':(15,8)})\n",
    "\n",
    "sns.countplot(x='Annee', hue='Topic', data = docs_df)"
   ]
  },
  {
   "cell_type": "code",
   "execution_count": null,
   "id": "grave-petersburg",
   "metadata": {},
   "outputs": [],
   "source": []
  }
 ],
 "metadata": {
  "kernelspec": {
   "display_name": "Python 3 (ipykernel)",
   "language": "python",
   "name": "python3"
  },
  "language_info": {
   "codemirror_mode": {
    "name": "ipython",
    "version": 3
   },
   "file_extension": ".py",
   "mimetype": "text/x-python",
   "name": "python",
   "nbconvert_exporter": "python",
   "pygments_lexer": "ipython3",
   "version": "3.8.5"
  }
 },
 "nbformat": 4,
 "nbformat_minor": 5
}
