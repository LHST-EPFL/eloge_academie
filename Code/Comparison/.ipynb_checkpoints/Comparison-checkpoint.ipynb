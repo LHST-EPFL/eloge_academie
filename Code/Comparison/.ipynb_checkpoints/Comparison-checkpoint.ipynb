{
 "cells": [
  {
   "cell_type": "markdown",
   "id": "scientific-shuttle",
   "metadata": {},
   "source": [
    "# 1. Load and imports"
   ]
  },
  {
   "cell_type": "code",
   "execution_count": 1,
   "id": "wrapped-norway",
   "metadata": {},
   "outputs": [
    {
     "name": "stderr",
     "output_type": "stream",
     "text": [
      "/Users/clemencebarsi/miniconda3/lib/python3.8/site-packages/treetaggerwrapper.py:739: FutureWarning: Possible nested set at position 8\n",
      "  punct2find_re = re.compile(\"([^ ])([[\" + ALONEMARKS + \"])\",\n",
      "/Users/clemencebarsi/miniconda3/lib/python3.8/site-packages/treetaggerwrapper.py:2043: FutureWarning: Possible nested set at position 152\n",
      "  DnsHostMatch_re = re.compile(\"(\" + DnsHost_expression + \")\",\n",
      "/Users/clemencebarsi/miniconda3/lib/python3.8/site-packages/treetaggerwrapper.py:2067: FutureWarning: Possible nested set at position 409\n",
      "  UrlMatch_re = re.compile(UrlMatch_expression, re.VERBOSE | re.IGNORECASE)\n",
      "/Users/clemencebarsi/miniconda3/lib/python3.8/site-packages/treetaggerwrapper.py:2079: FutureWarning: Possible nested set at position 192\n",
      "  EmailMatch_re = re.compile(EmailMatch_expression, re.VERBOSE | re.IGNORECASE)\n"
     ]
    }
   ],
   "source": [
    "from eda import *\n",
    "from pre_process import *\n",
    "from topic_modeling import *\n",
    "\n",
    "import pandas as pd\n",
    "import numpy as np\n",
    "import matplotlib.pyplot as plt\n",
    "import seaborn as sns"
   ]
  },
  {
   "cell_type": "code",
   "execution_count": 2,
   "id": "eight-employer",
   "metadata": {},
   "outputs": [],
   "source": [
    "%load_ext autoreload\n",
    "\n",
    "%autoreload 2"
   ]
  },
  {
   "cell_type": "code",
   "execution_count": 3,
   "id": "executive-execution",
   "metadata": {},
   "outputs": [],
   "source": [
    "df = pd.read_csv('./../../Data/Dataframes/eulogies.csv')"
   ]
  },
  {
   "cell_type": "code",
   "execution_count": 4,
   "id": "expensive-concern",
   "metadata": {},
   "outputs": [],
   "source": [
    "df = df[(df['Annee']>=1741) & (df['Annee']<1832)]"
   ]
  },
  {
   "cell_type": "markdown",
   "id": "organizational-nashville",
   "metadata": {},
   "source": [
    "# 2. First axis : basic statistics"
   ]
  },
  {
   "cell_type": "markdown",
   "id": "everyday-devil",
   "metadata": {},
   "source": [
    "## Removing \\n, \\t, non-useful spaces"
   ]
  },
  {
   "cell_type": "code",
   "execution_count": 5,
   "id": "prepared-necessity",
   "metadata": {},
   "outputs": [],
   "source": [
    "df['Eloge'] = df['Eloge'].apply(lambda x : x.replace(\"\\\\n\", \"\").replace(\"\\\\t\", \"\").replace(\"\\n\", \"\").replace(\"\\t\", \"\")\n",
    "                               .strip())"
   ]
  },
  {
   "cell_type": "code",
   "execution_count": 6,
   "id": "protected-suicide",
   "metadata": {},
   "outputs": [
    {
     "data": {
      "text/html": [
       "<div>\n",
       "<style scoped>\n",
       "    .dataframe tbody tr th:only-of-type {\n",
       "        vertical-align: middle;\n",
       "    }\n",
       "\n",
       "    .dataframe tbody tr th {\n",
       "        vertical-align: top;\n",
       "    }\n",
       "\n",
       "    .dataframe thead th {\n",
       "        text-align: right;\n",
       "    }\n",
       "</style>\n",
       "<table border=\"1\" class=\"dataframe\">\n",
       "  <thead>\n",
       "    <tr style=\"text-align: right;\">\n",
       "      <th></th>\n",
       "      <th>Savant</th>\n",
       "      <th>Auteur</th>\n",
       "      <th>Annee</th>\n",
       "      <th>Eloge</th>\n",
       "    </tr>\n",
       "  </thead>\n",
       "  <tbody>\n",
       "    <tr>\n",
       "      <th>132</th>\n",
       "      <td>Bougainville</td>\n",
       "      <td>Delambre</td>\n",
       "      <td>1813.0</td>\n",
       "      <td>Louis-Antoine de Bougainville, sénateur, comte...</td>\n",
       "    </tr>\n",
       "    <tr>\n",
       "      <th>133</th>\n",
       "      <td>Maskelyne</td>\n",
       "      <td>Delambre</td>\n",
       "      <td>1813.0</td>\n",
       "      <td>Névil Maskelyne, docteur en théologie, membre ...</td>\n",
       "    </tr>\n",
       "    <tr>\n",
       "      <th>134</th>\n",
       "      <td>Desessarts</td>\n",
       "      <td>Cuvier</td>\n",
       "      <td>1812.0</td>\n",
       "      <td>Jean-Charles Desessarts, médecin, membre de l'...</td>\n",
       "    </tr>\n",
       "    <tr>\n",
       "      <th>135</th>\n",
       "      <td>Cavendish</td>\n",
       "      <td>Cuvier</td>\n",
       "      <td>1812.0</td>\n",
       "      <td>Parmi les hommes que nous avons coutume de cél...</td>\n",
       "    </tr>\n",
       "    <tr>\n",
       "      <th>136</th>\n",
       "      <td>Malus</td>\n",
       "      <td>Delambre</td>\n",
       "      <td>1812.0</td>\n",
       "      <td>Sur la vie et les ouvrages de m-, et de m. Le ...</td>\n",
       "    </tr>\n",
       "  </tbody>\n",
       "</table>\n",
       "</div>"
      ],
      "text/plain": [
       "           Savant    Auteur   Annee  \\\n",
       "132  Bougainville  Delambre  1813.0   \n",
       "133     Maskelyne  Delambre  1813.0   \n",
       "134    Desessarts    Cuvier  1812.0   \n",
       "135     Cavendish    Cuvier  1812.0   \n",
       "136         Malus  Delambre  1812.0   \n",
       "\n",
       "                                                 Eloge  \n",
       "132  Louis-Antoine de Bougainville, sénateur, comte...  \n",
       "133  Névil Maskelyne, docteur en théologie, membre ...  \n",
       "134  Jean-Charles Desessarts, médecin, membre de l'...  \n",
       "135  Parmi les hommes que nous avons coutume de cél...  \n",
       "136  Sur la vie et les ouvrages de m-, et de m. Le ...  "
      ]
     },
     "execution_count": 6,
     "metadata": {},
     "output_type": "execute_result"
    }
   ],
   "source": [
    "df.head()"
   ]
  },
  {
   "cell_type": "markdown",
   "id": "turkish-trade",
   "metadata": {},
   "source": [
    "## a. Number of eulogies"
   ]
  },
  {
   "cell_type": "code",
   "execution_count": 7,
   "id": "established-flavor",
   "metadata": {
    "scrolled": true
   },
   "outputs": [
    {
     "name": "stdout",
     "output_type": "stream",
     "text": [
      "There are 149 eulogies\n",
      "There are 91 eulogies before the French Revolution\n",
      "There are 58 eulogies after the French Revolution\n"
     ]
    }
   ],
   "source": [
    "print('There are ' + str(df.shape[0]) + ' eulogies') \n",
    "print('There are ' + str(df[df['Annee']<1793].shape[0]) + ' eulogies before the French Revolution')\n",
    "print('There are ' + str(df[df['Annee']>=1793].shape[0]) + ' eulogies after the French Revolution')"
   ]
  },
  {
   "cell_type": "markdown",
   "id": "continuing-delicious",
   "metadata": {},
   "source": [
    "## b. Number of eulogies per year"
   ]
  },
  {
   "cell_type": "code",
   "execution_count": 8,
   "id": "amended-concentration",
   "metadata": {
    "scrolled": true
   },
   "outputs": [
    {
     "data": {
      "text/plain": [
       "array([[<AxesSubplot:title={'center':'Annee'}>]], dtype=object)"
      ]
     },
     "execution_count": 8,
     "metadata": {},
     "output_type": "execute_result"
    },
    {
     "data": {
      "image/png": "[encoded data removed]",
      "text/plain": [
       "<Figure size 720x288 with 1 Axes>"
      ]
     },
     "metadata": {
      "needs_background": "light"
     },
     "output_type": "display_data"
    }
   ],
   "source": [
    "nbins = int(df['Annee'].max() - df['Annee'].min())\n",
    "#nbins\n",
    "df.hist('Annee', bins = nbins, figsize = (10,4))"
   ]
  },
  {
   "cell_type": "code",
   "execution_count": 17,
   "id": "suburban-example",
   "metadata": {},
   "outputs": [],
   "source": [
    "df_help = df.groupby(['Annee'])['Savant'].count().reset_index().rename(columns = {'Savant' : 'count'})\n",
    "\n",
    "df_pre = df_help[df_help['Annee']<1789]\n",
    "df_post = df_help[df_help['Annee']>=1793]"
   ]
  },
  {
   "cell_type": "code",
   "execution_count": 22,
   "id": "settled-understanding",
   "metadata": {},
   "outputs": [
    {
     "data": {
      "text/plain": [
       "Ttest_indResult(statistic=1.1822061304153912, pvalue=0.2426066216470499)"
      ]
     },
     "execution_count": 22,
     "metadata": {},
     "output_type": "execute_result"
    }
   ],
   "source": [
    "from scipy.stats import ttest_ind\n",
    "\n",
    "ttest_ind(df_pre['count'].array, df_post['count'].array)"
   ]
  },
  {
   "cell_type": "markdown",
   "id": "smart-facing",
   "metadata": {},
   "source": [
    "## b. Length of the eulogies"
   ]
  },
  {
   "cell_type": "code",
   "execution_count": 25,
   "id": "harmful-schema",
   "metadata": {},
   "outputs": [],
   "source": [
    "side_info(df)"
   ]
  },
  {
   "cell_type": "code",
   "execution_count": 27,
   "id": "cloudy-bobby",
   "metadata": {
    "scrolled": true
   },
   "outputs": [
    {
     "data": {
      "image/png": "[encoded data removed]",
      "text/plain": [
       "<Figure size 720x288 with 1 Axes>"
      ]
     },
     "metadata": {
      "needs_background": "light"
     },
     "output_type": "display_data"
    }
   ],
   "source": [
    "nbr_words = nbr_words(df, evol = True)"
   ]
  },
  {
   "cell_type": "code",
   "execution_count": 30,
   "id": "taken-belarus",
   "metadata": {},
   "outputs": [
    {
     "data": {
      "text/plain": [
       "Ttest_indResult(statistic=-1.8297592499293067, pvalue=0.07291277625508862)"
      ]
     },
     "execution_count": 30,
     "metadata": {},
     "output_type": "execute_result"
    }
   ],
   "source": [
    "nbr_words_pre = nbr_words[nbr_words['Annee']<1793]\n",
    "nbr_words_post = nbr_words[nbr_words['Annee']>=1793]\n",
    "\n",
    "ttest_ind(nbr_words_pre['Number of words'].array, nbr_words_post['Number of words'].array)"
   ]
  },
  {
   "cell_type": "markdown",
   "id": "sunset-homework",
   "metadata": {},
   "source": [
    "## c. Average word length"
   ]
  },
  {
   "cell_type": "code",
   "execution_count": 31,
   "id": "modern-mobile",
   "metadata": {},
   "outputs": [
    {
     "data": {
      "image/png": "[encoded data removed]",
      "text/plain": [
       "<Figure size 720x288 with 1 Axes>"
      ]
     },
     "metadata": {
      "needs_background": "light"
     },
     "output_type": "display_data"
    }
   ],
   "source": [
    "avg_words = avg_word_length(df, evol = True)"
   ]
  },
  {
   "cell_type": "code",
   "execution_count": 33,
   "id": "advanced-elephant",
   "metadata": {},
   "outputs": [
    {
     "data": {
      "text/plain": [
       "Ttest_indResult(statistic=-5.58264491476757, pvalue=8.281875870567007e-07)"
      ]
     },
     "execution_count": 33,
     "metadata": {},
     "output_type": "execute_result"
    }
   ],
   "source": [
    "avg_words_pre = avg_words[avg_words['Annee']<1793]\n",
    "avg_words_post = avg_words[avg_words['Annee']>=1793]\n",
    "\n",
    "ttest_ind(avg_words_pre['Avg Word Length'].array, avg_words_post['Avg Word Length'].array)"
   ]
  },
  {
   "cell_type": "markdown",
   "id": "double-rabbit",
   "metadata": {},
   "source": [
    "## d. Average sentence length"
   ]
  },
  {
   "cell_type": "code",
   "execution_count": 34,
   "id": "daily-prompt",
   "metadata": {
    "scrolled": true
   },
   "outputs": [
    {
     "name": "stderr",
     "output_type": "stream",
     "text": [
      "100%|███████████████████████████████████████| 149/149 [00:00<00:00, 1273.52it/s]\n"
     ]
    },
    {
     "data": {
      "image/png": "[encoded data removed]",
      "text/plain": [
       "<Figure size 720x288 with 1 Axes>"
      ]
     },
     "metadata": {
      "needs_background": "light"
     },
     "output_type": "display_data"
    }
   ],
   "source": [
    "avg_sentence = avg_sentence(df, evol = True)"
   ]
  },
  {
   "cell_type": "code",
   "execution_count": 36,
   "id": "invisible-policy",
   "metadata": {},
   "outputs": [
    {
     "data": {
      "text/plain": [
       "Ttest_indResult(statistic=0.014555022719770695, pvalue=0.9884418350373481)"
      ]
     },
     "execution_count": 36,
     "metadata": {},
     "output_type": "execute_result"
    }
   ],
   "source": [
    "avg_sentence_pre = avg_sentence[avg_sentence['Annee']<1793]\n",
    "avg_sentence_post = avg_sentence[avg_sentence['Annee']>=1793]\n",
    "\n",
    "ttest_ind(avg_sentence_pre['Avg Sent Length'].array, avg_sentence_post['Avg Sent Length'].array)"
   ]
  },
  {
   "cell_type": "markdown",
   "id": "religious-modeling",
   "metadata": {},
   "source": [
    "## e. Use of first person"
   ]
  },
  {
   "cell_type": "code",
   "execution_count": 37,
   "id": "inside-tiffany",
   "metadata": {},
   "outputs": [
    {
     "data": {
      "image/png": "[encoded data removed]",
      "text/plain": [
       "<Figure size 720x288 with 1 Axes>"
      ]
     },
     "metadata": {
      "needs_background": "light"
     },
     "output_type": "display_data"
    }
   ],
   "source": [
    "fst_person = first_person(df)"
   ]
  },
  {
   "cell_type": "code",
   "execution_count": 39,
   "id": "innovative-stock",
   "metadata": {},
   "outputs": [
    {
     "data": {
      "text/plain": [
       "Ttest_indResult(statistic=-1.3972276886538006, pvalue=0.16816750389947271)"
      ]
     },
     "execution_count": 39,
     "metadata": {},
     "output_type": "execute_result"
    }
   ],
   "source": [
    "fst_person_pre = fst_person[fst_person['Annee']<1793]\n",
    "fst_person_post = fst_person[fst_person['Annee']>=1793]\n",
    "\n",
    "ttest_ind(fst_person_pre['First_Person'].array, fst_person_post['First_Person'].array)"
   ]
  },
  {
   "cell_type": "markdown",
   "id": "hindu-emphasis",
   "metadata": {},
   "source": [
    "## f. Use of modals"
   ]
  },
  {
   "cell_type": "markdown",
   "id": "dramatic-plasma",
   "metadata": {},
   "source": [
    "## g. Use of past tenses"
   ]
  },
  {
   "cell_type": "code",
   "execution_count": 40,
   "id": "trained-blues",
   "metadata": {},
   "outputs": [
    {
     "name": "stderr",
     "output_type": "stream",
     "text": [
      "100%|████████████████████████████████████████| 149/149 [00:00<00:00, 585.18it/s]\n",
      "100%|███████████████████████████████████████| 149/149 [00:00<00:00, 3188.19it/s]\n"
     ]
    },
    {
     "data": {
      "image/png": "[encoded data removed]",
      "text/plain": [
       "<Figure size 720x288 with 1 Axes>"
      ]
     },
     "metadata": {
      "needs_background": "light"
     },
     "output_type": "display_data"
    }
   ],
   "source": [
    "past_tense = past_tense(df)"
   ]
  },
  {
   "cell_type": "code",
   "execution_count": 43,
   "id": "registered-substance",
   "metadata": {},
   "outputs": [
    {
     "data": {
      "text/plain": [
       "Ttest_indResult(statistic=2.3433913935419013, pvalue=0.022893410187426)"
      ]
     },
     "execution_count": 43,
     "metadata": {},
     "output_type": "execute_result"
    }
   ],
   "source": [
    "past_tense_pre = past_tense[past_tense['Annee']<1793]\n",
    "past_tense_post = past_tense[past_tense['Annee']>=1793]\n",
    "\n",
    "ttest_ind(past_tense_pre['percent_past'].array, past_tense_post['percent_past'].array)"
   ]
  },
  {
   "cell_type": "markdown",
   "id": "willing-nickname",
   "metadata": {},
   "source": [
    "## h. Starts with a statement on the birth"
   ]
  },
  {
   "cell_type": "code",
   "execution_count": 51,
   "id": "arbitrary-moderator",
   "metadata": {},
   "outputs": [],
   "source": [
    "naissance(df)"
   ]
  },
  {
   "cell_type": "code",
   "execution_count": 53,
   "id": "continental-builder",
   "metadata": {},
   "outputs": [
    {
     "data": {
      "text/plain": [
       "49"
      ]
     },
     "execution_count": 53,
     "metadata": {},
     "output_type": "execute_result"
    }
   ],
   "source": [
    "df[df['naissance'] == False].shape[0]"
   ]
  },
  {
   "cell_type": "code",
   "execution_count": 55,
   "id": "directed-capitol",
   "metadata": {},
   "outputs": [
    {
     "data": {
      "text/plain": [
       "19"
      ]
     },
     "execution_count": 55,
     "metadata": {},
     "output_type": "execute_result"
    }
   ],
   "source": [
    "df[(df['naissance'] == False)&(df['Annee']<1793)].shape[0]"
   ]
  },
  {
   "cell_type": "code",
   "execution_count": 56,
   "id": "approximate-technical",
   "metadata": {},
   "outputs": [
    {
     "data": {
      "text/plain": [
       "30"
      ]
     },
     "execution_count": 56,
     "metadata": {},
     "output_type": "execute_result"
    }
   ],
   "source": [
    "df[(df['naissance'] == False)&(df['Annee']>=1793)].shape[0]"
   ]
  },
  {
   "cell_type": "markdown",
   "id": "right-stage",
   "metadata": {},
   "source": [
    "# 3. Second axis : Topic modeling"
   ]
  },
  {
   "cell_type": "markdown",
   "id": "prime-wilson",
   "metadata": {},
   "source": [
    "## a. On sentences"
   ]
  },
  {
   "cell_type": "code",
   "execution_count": 57,
   "id": "instant-insured",
   "metadata": {},
   "outputs": [],
   "source": [
    "#https://stackoverflow.com/questions/50731229/split-cell-into-multiple-rows-in-pandas-dataframe\n",
    "\n",
    "from itertools import chain\n",
    "\n",
    "def chainer(s):\n",
    "    return list(chain.from_iterable(s.str.split('.')))\n",
    "\n",
    "lens = df['Eloge'].str.split('.').map(len)\n",
    "\n",
    "# create new dataframe, repeating or chaining as appropriate\n",
    "sent = pd.DataFrame({'Savant': np.repeat(df['Savant'], lens),\n",
    "                    'Auteur': np.repeat(df['Auteur'], lens),\n",
    "                     'Annee' : np.repeat(df['Annee'], lens),\n",
    "                    'Eloge': chainer(df['Eloge'])})\n"
   ]
  },
  {
   "cell_type": "code",
   "execution_count": 58,
   "id": "greatest-bubble",
   "metadata": {},
   "outputs": [],
   "source": [
    "rmv_sw(sent, name_col = 'Eloge')\n",
    "rmv_punkt(sent)\n",
    "lemmatize(sent, 'no_sw_no_punkt', 'tags')\n",
    "rmv_digit(sent)"
   ]
  },
  {
   "cell_type": "code",
   "execution_count": 59,
   "id": "virtual-turkish",
   "metadata": {},
   "outputs": [
    {
     "name": "stderr",
     "output_type": "stream",
     "text": [
      "100%|█████████████████████████████████| 22085/22085 [00:00<00:00, 130031.15it/s]\n"
     ]
    }
   ],
   "source": [
    "nouns_verbs(sent, 'Eloge_lem')"
   ]
  },
  {
   "cell_type": "code",
   "execution_count": 60,
   "id": "incomplete-texture",
   "metadata": {
    "scrolled": false
   },
   "outputs": [
    {
     "data": {
      "text/html": [
       "<div>\n",
       "<style scoped>\n",
       "    .dataframe tbody tr th:only-of-type {\n",
       "        vertical-align: middle;\n",
       "    }\n",
       "\n",
       "    .dataframe tbody tr th {\n",
       "        vertical-align: top;\n",
       "    }\n",
       "\n",
       "    .dataframe thead th {\n",
       "        text-align: right;\n",
       "    }\n",
       "</style>\n",
       "<table border=\"1\" class=\"dataframe\">\n",
       "  <thead>\n",
       "    <tr style=\"text-align: right;\">\n",
       "      <th></th>\n",
       "      <th>Savant</th>\n",
       "      <th>Auteur</th>\n",
       "      <th>Annee</th>\n",
       "      <th>Eloge</th>\n",
       "      <th>no_sw</th>\n",
       "      <th>no_sw_no_punkt</th>\n",
       "      <th>tags</th>\n",
       "      <th>Eloge_lem</th>\n",
       "      <th>n_v</th>\n",
       "    </tr>\n",
       "  </thead>\n",
       "  <tbody>\n",
       "    <tr>\n",
       "      <th>0</th>\n",
       "      <td>Bougainville</td>\n",
       "      <td>Delambre</td>\n",
       "      <td>1813.0</td>\n",
       "      <td>Louis-Antoine de Bougainville, sénateur, comte...</td>\n",
       "      <td>Louis-Antoine Bougainville, sénateur, comte l'...</td>\n",
       "      <td>Louis Antoine Bougainville  sénateur  comte l ...</td>\n",
       "      <td>[(Louis, NAM, Louis), (Antoine, NAM, Antoine),...</td>\n",
       "      <td>Louis Antoine Bougainville sénateur comte l em...</td>\n",
       "      <td>sénateur comte l empire officier légion d honn...</td>\n",
       "    </tr>\n",
       "    <tr>\n",
       "      <th>1</th>\n",
       "      <td>Bougainville</td>\n",
       "      <td>Delambre</td>\n",
       "      <td>1813.0</td>\n",
       "      <td>Il était fils d'un notaire, échevin de Paris,...</td>\n",
       "      <td>fils d'un notaire, échevin Paris, descendait d...</td>\n",
       "      <td>fils d un notaire  échevin Paris  descendait d...</td>\n",
       "      <td>[(fils, NOM, fils|fil), (d, VER:futu, d), (un,...</td>\n",
       "      <td>fils|fil d un notaire échevin Paris descendre ...</td>\n",
       "      <td>fils|fil fil d notaire échevin descendre d fam...</td>\n",
       "    </tr>\n",
       "    <tr>\n",
       "      <th>2</th>\n",
       "      <td>Bougainville</td>\n",
       "      <td>Delambre</td>\n",
       "      <td>1813.0</td>\n",
       "      <td>Navigateur célèbre, officier - général de ter...</td>\n",
       "      <td>Navigateur célèbre, officier général terre mer...</td>\n",
       "      <td>Navigateur célèbre  officier général terre mer...</td>\n",
       "      <td>[(Navigateur, NOM, navigateur), (célèbre, ADJ,...</td>\n",
       "      <td>navigateur célèbre officier général terre mer ...</td>\n",
       "      <td>navigateur officier terre mer associer l scien...</td>\n",
       "    </tr>\n",
       "    <tr>\n",
       "      <th>3</th>\n",
       "      <td>Bougainville</td>\n",
       "      <td>Delambre</td>\n",
       "      <td>1813.0</td>\n",
       "      <td>Encore au collège, il se faisait déjà remarque...</td>\n",
       "      <td>Encore collège, faisait remarquer aptitude éga...</td>\n",
       "      <td>Encore collège  faisait remarquer aptitude éga...</td>\n",
       "      <td>[(Encore, ADV, encore), (collège, NOM, collège...</td>\n",
       "      <td>encore collège faire remarquer aptitude égal l...</td>\n",
       "      <td>collège faire remarquer aptitude lettrer science</td>\n",
       "    </tr>\n",
       "    <tr>\n",
       "      <th>4</th>\n",
       "      <td>Bougainville</td>\n",
       "      <td>Delambre</td>\n",
       "      <td>1813.0</td>\n",
       "      <td>Son professeur expliquait un jour les phases ...</td>\n",
       "      <td>Son professeur expliquait jour phases lune pos...</td>\n",
       "      <td>Son professeur expliquait jour phases lune pos...</td>\n",
       "      <td>[(Son, DET:POS, son), (professeur, NOM, profes...</td>\n",
       "      <td>son professeur expliquer jour phase lune posit...</td>\n",
       "      <td>professeur expliquer jour phase lune position ...</td>\n",
       "    </tr>\n",
       "  </tbody>\n",
       "</table>\n",
       "</div>"
      ],
      "text/plain": [
       "         Savant    Auteur   Annee  \\\n",
       "0  Bougainville  Delambre  1813.0   \n",
       "1  Bougainville  Delambre  1813.0   \n",
       "2  Bougainville  Delambre  1813.0   \n",
       "3  Bougainville  Delambre  1813.0   \n",
       "4  Bougainville  Delambre  1813.0   \n",
       "\n",
       "                                               Eloge  \\\n",
       "0  Louis-Antoine de Bougainville, sénateur, comte...   \n",
       "1   Il était fils d'un notaire, échevin de Paris,...   \n",
       "2   Navigateur célèbre, officier - général de ter...   \n",
       "3  Encore au collège, il se faisait déjà remarque...   \n",
       "4   Son professeur expliquait un jour les phases ...   \n",
       "\n",
       "                                               no_sw  \\\n",
       "0  Louis-Antoine Bougainville, sénateur, comte l'...   \n",
       "1  fils d'un notaire, échevin Paris, descendait d...   \n",
       "2  Navigateur célèbre, officier général terre mer...   \n",
       "3  Encore collège, faisait remarquer aptitude éga...   \n",
       "4  Son professeur expliquait jour phases lune pos...   \n",
       "\n",
       "                                      no_sw_no_punkt  \\\n",
       "0  Louis Antoine Bougainville  sénateur  comte l ...   \n",
       "1  fils d un notaire  échevin Paris  descendait d...   \n",
       "2  Navigateur célèbre  officier général terre mer...   \n",
       "3  Encore collège  faisait remarquer aptitude éga...   \n",
       "4  Son professeur expliquait jour phases lune pos...   \n",
       "\n",
       "                                                tags  \\\n",
       "0  [(Louis, NAM, Louis), (Antoine, NAM, Antoine),...   \n",
       "1  [(fils, NOM, fils|fil), (d, VER:futu, d), (un,...   \n",
       "2  [(Navigateur, NOM, navigateur), (célèbre, ADJ,...   \n",
       "3  [(Encore, ADV, encore), (collège, NOM, collège...   \n",
       "4  [(Son, DET:POS, son), (professeur, NOM, profes...   \n",
       "\n",
       "                                           Eloge_lem  \\\n",
       "0  Louis Antoine Bougainville sénateur comte l em...   \n",
       "1  fils|fil d un notaire échevin Paris descendre ...   \n",
       "2  navigateur célèbre officier général terre mer ...   \n",
       "3  encore collège faire remarquer aptitude égal l...   \n",
       "4  son professeur expliquer jour phase lune posit...   \n",
       "\n",
       "                                                 n_v  \n",
       "0  sénateur comte l empire officier légion d honn...  \n",
       "1  fils|fil fil d notaire échevin descendre d fam...  \n",
       "2  navigateur officier terre mer associer l scien...  \n",
       "3   collège faire remarquer aptitude lettrer science  \n",
       "4  professeur expliquer jour phase lune position ...  "
      ]
     },
     "execution_count": 60,
     "metadata": {},
     "output_type": "execute_result"
    }
   ],
   "source": [
    "sent.reset_index(inplace = True)\n",
    "sent.drop('index', axis = 1, inplace = True)\n",
    "sent.head()"
   ]
  },
  {
   "cell_type": "markdown",
   "id": "ranking-albany",
   "metadata": {},
   "source": [
    "### Sentence_transformers"
   ]
  },
  {
   "cell_type": "code",
   "execution_count": 61,
   "id": "hindu-blond",
   "metadata": {},
   "outputs": [],
   "source": [
    "from sentence_transformers import SentenceTransformer\n",
    "model = SentenceTransformer('distiluse-base-multilingual-cased-v1')\n"
   ]
  },
  {
   "cell_type": "code",
   "execution_count": 62,
   "id": "generous-phase",
   "metadata": {},
   "outputs": [
    {
     "data": {
      "application/vnd.jupyter.widget-view+json": {
       "model_id": "2f40dcbc02464b83985c31368099b4fb",
       "version_major": 2,
       "version_minor": 0
      },
      "text/plain": [
       "HBox(children=(HTML(value='Batches'), FloatProgress(value=0.0, max=691.0), HTML(value='')))"
      ]
     },
     "metadata": {},
     "output_type": "display_data"
    },
    {
     "name": "stdout",
     "output_type": "stream",
     "text": [
      "\n"
     ]
    }
   ],
   "source": [
    "#embeddings = model.encode(sent.Eloge, show_progress_bar=True)\n",
    "embeddings_n_v = model.encode(sent.n_v, show_progress_bar=True)"
   ]
  },
  {
   "cell_type": "code",
   "execution_count": 79,
   "id": "considerable-pearl",
   "metadata": {},
   "outputs": [
    {
     "name": "stdout",
     "output_type": "stream",
     "text": [
      "huggingface/tokenizers: The current process just got forked, after parallelism has already been used. Disabling parallelism to avoid deadlocks...\n",
      "To disable this warning, you can either:\n",
      "\t- Avoid using `tokenizers` before the fork if possible\n",
      "\t- Explicitly set the environment variable TOKENIZERS_PARALLELISM=(true | false)\n",
      "huggingface/tokenizers: The current process just got forked, after parallelism has already been used. Disabling parallelism to avoid deadlocks...\n",
      "To disable this warning, you can either:\n",
      "\t- Avoid using `tokenizers` before the fork if possible\n",
      "\t- Explicitly set the environment variable TOKENIZERS_PARALLELISM=(true | false)\n",
      "huggingface/tokenizers: The current process just got forked, after parallelism has already been used. Disabling parallelism to avoid deadlocks...\n",
      "To disable this warning, you can either:\n",
      "\t- Avoid using `tokenizers` before the fork if possible\n",
      "\t- Explicitly set the environment variable TOKENIZERS_PARALLELISM=(true | false)\n",
      "huggingface/tokenizers: The current process just got forked, after parallelism has already been used. Disabling parallelism to avoid deadlocks...\n",
      "To disable this warning, you can either:\n",
      "\t- Avoid using `tokenizers` before the fork if possible\n",
      "\t- Explicitly set the environment variable TOKENIZERS_PARALLELISM=(true | false)\n"
     ]
    }
   ],
   "source": [
    "from bertopic import BERTopic\n",
    "\n",
    "\n",
    "# Create topic model\n",
    "model = BERTopic(min_topic_size = 100,language ='French', calculate_probabilities = True, n_gram_range = (1, 3))\n",
    "topics, probabilities = model.fit_transform(sent.n_v, embeddings_n_v)"
   ]
  },
  {
   "cell_type": "code",
   "execution_count": 88,
   "id": "ecological-optimum",
   "metadata": {},
   "outputs": [],
   "source": [
    "#https://towardsdatascience.com/topic-modeling-with-bert-779f7db187e6\n",
    "\n",
    "import umap\n",
    "umap_embeddings = umap.UMAP(n_neighbors=15, \n",
    "                            n_components=10, \n",
    "                            metric='cosine', random_state = 42).fit_transform(embeddings_n_v)"
   ]
  },
  {
   "cell_type": "code",
   "execution_count": 89,
   "id": "threatened-petersburg",
   "metadata": {},
   "outputs": [],
   "source": [
    "import hdbscan\n",
    "cluster = hdbscan.HDBSCAN(min_cluster_size=20,\n",
    "                          metric='euclidean',                      \n",
    "                          cluster_selection_method='eom').fit(umap_embeddings)"
   ]
  },
  {
   "cell_type": "code",
   "execution_count": 90,
   "id": "thrown-hayes",
   "metadata": {},
   "outputs": [
    {
     "data": {
      "text/plain": [
       "<matplotlib.colorbar.Colorbar at 0x7fb89934b4c0>"
      ]
     },
     "execution_count": 90,
     "metadata": {},
     "output_type": "execute_result"
    },
    {
     "data": {
      "image/png": "[encoded data removed]",
      "text/plain": [
       "<Figure size 1440x720 with 2 Axes>"
      ]
     },
     "metadata": {
      "needs_background": "light"
     },
     "output_type": "display_data"
    }
   ],
   "source": [
    "import matplotlib.pyplot as plt\n",
    "\n",
    "# Prepare data\n",
    "umap_data = umap.UMAP(n_neighbors=15, n_components=2, min_dist=0.0, metric='cosine').fit_transform(embeddings_n_v)\n",
    "result = pd.DataFrame(umap_data, columns=['x', 'y'])\n",
    "result['labels'] = cluster.labels_\n",
    "\n",
    "# Visualize clusters\n",
    "fig, ax = plt.subplots(figsize=(20, 10))\n",
    "outliers = result.loc[result.labels == -1, :]\n",
    "clustered = result.loc[result.labels != -1, :]\n",
    "plt.scatter(outliers.x, outliers.y, color='#BDBDBD', s=0.05)\n",
    "plt.scatter(clustered.x, clustered.y, c=clustered.labels, s=0.05, cmap='hsv_r')\n",
    "plt.colorbar()"
   ]
  },
  {
   "cell_type": "code",
   "execution_count": 91,
   "id": "changed-blake",
   "metadata": {},
   "outputs": [],
   "source": [
    "docs_df = pd.DataFrame({ 'Doc' : sent.n_v.tolist(),'Annee' :sent.Annee.tolist(), 'Eloge' : sent.Eloge.tolist(),\n",
    "                       'Savant' : sent.Savant.tolist(), 'Auteur' : sent.Auteur.tolist()})\n",
    "docs_df['Topic'] = cluster.labels_\n",
    "docs_df['Doc_ID'] = range(len(docs_df))\n",
    "docs_df.head()\n",
    "docs_per_topic = docs_df.groupby(['Topic'], as_index = False).agg({'Doc': ' '.join})"
   ]
  },
  {
   "cell_type": "code",
   "execution_count": 92,
   "id": "attended-advantage",
   "metadata": {},
   "outputs": [],
   "source": [
    "tf_idf, count = c_tf_idf(docs_per_topic.Doc.values, m=len(sent))"
   ]
  },
  {
   "cell_type": "code",
   "execution_count": 93,
   "id": "european-direction",
   "metadata": {},
   "outputs": [
    {
     "data": {
      "text/html": [
       "<div>\n",
       "<style scoped>\n",
       "    .dataframe tbody tr th:only-of-type {\n",
       "        vertical-align: middle;\n",
       "    }\n",
       "\n",
       "    .dataframe tbody tr th {\n",
       "        vertical-align: top;\n",
       "    }\n",
       "\n",
       "    .dataframe thead th {\n",
       "        text-align: right;\n",
       "    }\n",
       "</style>\n",
       "<table border=\"1\" class=\"dataframe\">\n",
       "  <thead>\n",
       "    <tr style=\"text-align: right;\">\n",
       "      <th></th>\n",
       "      <th>Topic</th>\n",
       "      <th>Size</th>\n",
       "    </tr>\n",
       "  </thead>\n",
       "  <tbody>\n",
       "    <tr>\n",
       "      <th>0</th>\n",
       "      <td>-1</td>\n",
       "      <td>11106</td>\n",
       "    </tr>\n",
       "    <tr>\n",
       "      <th>1</th>\n",
       "      <td>0</td>\n",
       "      <td>1573</td>\n",
       "    </tr>\n",
       "    <tr>\n",
       "      <th>25</th>\n",
       "      <td>24</td>\n",
       "      <td>1103</td>\n",
       "    </tr>\n",
       "    <tr>\n",
       "      <th>53</th>\n",
       "      <td>52</td>\n",
       "      <td>597</td>\n",
       "    </tr>\n",
       "    <tr>\n",
       "      <th>49</th>\n",
       "      <td>48</td>\n",
       "      <td>512</td>\n",
       "    </tr>\n",
       "    <tr>\n",
       "      <th>72</th>\n",
       "      <td>71</td>\n",
       "      <td>453</td>\n",
       "    </tr>\n",
       "    <tr>\n",
       "      <th>34</th>\n",
       "      <td>33</td>\n",
       "      <td>398</td>\n",
       "    </tr>\n",
       "    <tr>\n",
       "      <th>30</th>\n",
       "      <td>29</td>\n",
       "      <td>396</td>\n",
       "    </tr>\n",
       "    <tr>\n",
       "      <th>88</th>\n",
       "      <td>87</td>\n",
       "      <td>370</td>\n",
       "    </tr>\n",
       "    <tr>\n",
       "      <th>82</th>\n",
       "      <td>81</td>\n",
       "      <td>305</td>\n",
       "    </tr>\n",
       "  </tbody>\n",
       "</table>\n",
       "</div>"
      ],
      "text/plain": [
       "    Topic   Size\n",
       "0      -1  11106\n",
       "1       0   1573\n",
       "25     24   1103\n",
       "53     52    597\n",
       "49     48    512\n",
       "72     71    453\n",
       "34     33    398\n",
       "30     29    396\n",
       "88     87    370\n",
       "82     81    305"
      ]
     },
     "execution_count": 93,
     "metadata": {},
     "output_type": "execute_result"
    }
   ],
   "source": [
    "top_n_words = extract_top_n_words_per_topic(tf_idf, count, docs_per_topic, n=20)\n",
    "topic_sizes = extract_topic_sizes(docs_df); topic_sizes.head(10)"
   ]
  },
  {
   "cell_type": "code",
   "execution_count": 94,
   "id": "sorted-racing",
   "metadata": {},
   "outputs": [
    {
     "data": {
      "text/plain": [
       "(90, 2)"
      ]
     },
     "execution_count": 94,
     "metadata": {},
     "output_type": "execute_result"
    }
   ],
   "source": [
    "topic_sizes.shape"
   ]
  },
  {
   "cell_type": "code",
   "execution_count": 95,
   "id": "decreased-massachusetts",
   "metadata": {},
   "outputs": [
    {
     "data": {
      "text/html": [
       "<div>\n",
       "<style scoped>\n",
       "    .dataframe tbody tr th:only-of-type {\n",
       "        vertical-align: middle;\n",
       "    }\n",
       "\n",
       "    .dataframe tbody tr th {\n",
       "        vertical-align: top;\n",
       "    }\n",
       "\n",
       "    .dataframe thead th {\n",
       "        text-align: right;\n",
       "    }\n",
       "</style>\n",
       "<table border=\"1\" class=\"dataframe\">\n",
       "  <thead>\n",
       "    <tr style=\"text-align: right;\">\n",
       "      <th></th>\n",
       "      <th>Topic</th>\n",
       "      <th>Size</th>\n",
       "    </tr>\n",
       "  </thead>\n",
       "  <tbody>\n",
       "    <tr>\n",
       "      <th>0</th>\n",
       "      <td>-1</td>\n",
       "      <td>11333</td>\n",
       "    </tr>\n",
       "    <tr>\n",
       "      <th>1</th>\n",
       "      <td>0</td>\n",
       "      <td>1573</td>\n",
       "    </tr>\n",
       "    <tr>\n",
       "      <th>17</th>\n",
       "      <td>16</td>\n",
       "      <td>1103</td>\n",
       "    </tr>\n",
       "    <tr>\n",
       "      <th>37</th>\n",
       "      <td>36</td>\n",
       "      <td>669</td>\n",
       "    </tr>\n",
       "    <tr>\n",
       "      <th>33</th>\n",
       "      <td>32</td>\n",
       "      <td>512</td>\n",
       "    </tr>\n",
       "    <tr>\n",
       "      <th>53</th>\n",
       "      <td>52</td>\n",
       "      <td>453</td>\n",
       "    </tr>\n",
       "    <tr>\n",
       "      <th>24</th>\n",
       "      <td>23</td>\n",
       "      <td>398</td>\n",
       "    </tr>\n",
       "    <tr>\n",
       "      <th>21</th>\n",
       "      <td>20</td>\n",
       "      <td>396</td>\n",
       "    </tr>\n",
       "    <tr>\n",
       "      <th>68</th>\n",
       "      <td>67</td>\n",
       "      <td>370</td>\n",
       "    </tr>\n",
       "    <tr>\n",
       "      <th>62</th>\n",
       "      <td>61</td>\n",
       "      <td>305</td>\n",
       "    </tr>\n",
       "  </tbody>\n",
       "</table>\n",
       "</div>"
      ],
      "text/plain": [
       "    Topic   Size\n",
       "0      -1  11333\n",
       "1       0   1573\n",
       "17     16   1103\n",
       "37     36    669\n",
       "33     32    512\n",
       "53     52    453\n",
       "24     23    398\n",
       "21     20    396\n",
       "68     67    370\n",
       "62     61    305"
      ]
     },
     "execution_count": 95,
     "metadata": {},
     "output_type": "execute_result"
    }
   ],
   "source": [
    "from sklearn.metrics.pairwise import cosine_similarity\n",
    "\n",
    "\n",
    "for i in range(20):\n",
    "    # Calculate cosine similarity\n",
    "    similarities = cosine_similarity(tf_idf.T)\n",
    "    np.fill_diagonal(similarities, 0)\n",
    "\n",
    "    # Extract label to merge into and from where\n",
    "    topic_sizes = docs_df.groupby(['Topic']).count().sort_values(\"Doc\", ascending=False).reset_index()\n",
    "    topic_to_merge = topic_sizes.iloc[-1].Topic\n",
    "    topic_to_merge_into = np.argmax(similarities[topic_to_merge + 1]) - 1\n",
    "\n",
    "    # Adjust topics\n",
    "    docs_df.loc[docs_df.Topic == topic_to_merge, \"Topic\"] = topic_to_merge_into\n",
    "    old_topics = docs_df.sort_values(\"Topic\").Topic.unique()\n",
    "    map_topics = {old_topic: index - 1 for index, old_topic in enumerate(old_topics)}\n",
    "    docs_df.Topic = docs_df.Topic.map(map_topics)\n",
    "    docs_per_topic = docs_df.groupby(['Topic'], as_index = False).agg({'Doc': ' '.join})\n",
    "\n",
    "    # Calculate new topic words\n",
    "    m = len(sent)\n",
    "    tf_idf, count = c_tf_idf(docs_per_topic.Doc.values, m)\n",
    "    top_n_words = extract_top_n_words_per_topic(tf_idf, count, docs_per_topic, n=20)\n",
    "\n",
    "topic_sizes = extract_topic_sizes(docs_df); topic_sizes.head(10)"
   ]
  },
  {
   "cell_type": "code",
   "execution_count": 106,
   "id": "distributed-patient",
   "metadata": {},
   "outputs": [
    {
     "data": {
      "text/plain": [
       "[('fil', 0.21504939450334548),\n",
       " ('père', 0.15272853156954533),\n",
       " ('fils', 0.1309122658011132),\n",
       " ('famille', 0.05590338329061416),\n",
       " ('fille', 0.04316253234291813),\n",
       " ('enfant', 0.03782908543673948),\n",
       " ('avoir', 0.03561166009616053),\n",
       " ('mariage', 0.030511380963883016),\n",
       " ('marier', 0.030031624165480907),\n",
       " ('être', 0.028546475227514755),\n",
       " ('qu', 0.02687899818890441),\n",
       " ('laisser', 0.026097959219005484),\n",
       " ('frère', 0.02256879203791312),\n",
       " ('éducation', 0.021316918588865547),\n",
       " ('devoir', 0.021289787800963824),\n",
       " ('étude', 0.021190207678284105),\n",
       " ('femme', 0.019989860469337428),\n",
       " ('mademoiselle', 0.01993069180208537),\n",
       " ('an', 0.019216201319896247),\n",
       " ('épouser', 0.018624208022285236)]"
      ]
     },
     "execution_count": 106,
     "metadata": {},
     "output_type": "execute_result"
    }
   ],
   "source": [
    "top_n_words[32][:20]"
   ]
  },
  {
   "cell_type": "code",
   "execution_count": 111,
   "id": "nearby-young",
   "metadata": {},
   "outputs": [
    {
     "data": {
      "text/html": [
       "<div>\n",
       "<style scoped>\n",
       "    .dataframe tbody tr th:only-of-type {\n",
       "        vertical-align: middle;\n",
       "    }\n",
       "\n",
       "    .dataframe tbody tr th {\n",
       "        vertical-align: top;\n",
       "    }\n",
       "\n",
       "    .dataframe thead th {\n",
       "        text-align: right;\n",
       "    }\n",
       "</style>\n",
       "<table border=\"1\" class=\"dataframe\">\n",
       "  <thead>\n",
       "    <tr style=\"text-align: right;\">\n",
       "      <th></th>\n",
       "      <th>Doc</th>\n",
       "      <th>Annee</th>\n",
       "      <th>Eloge</th>\n",
       "      <th>Savant</th>\n",
       "      <th>Auteur</th>\n",
       "      <th>Topic</th>\n",
       "      <th>Doc_ID</th>\n",
       "      <th>Tuple_topic_sent</th>\n",
       "    </tr>\n",
       "  </thead>\n",
       "  <tbody>\n",
       "    <tr>\n",
       "      <th>0</th>\n",
       "      <td>sénateur comte l empire officier légion d honn...</td>\n",
       "      <td>1813.0</td>\n",
       "      <td>Louis-Antoine de Bougainville, sénateur, comte...</td>\n",
       "      <td>Bougainville</td>\n",
       "      <td>Delambre</td>\n",
       "      <td>16</td>\n",
       "      <td>0</td>\n",
       "      <td>(sénateur comte l empire officier légion d hon...</td>\n",
       "    </tr>\n",
       "    <tr>\n",
       "      <th>1</th>\n",
       "      <td>fils|fil fil d notaire échevin descendre d fam...</td>\n",
       "      <td>1813.0</td>\n",
       "      <td>Il était fils d'un notaire, échevin de Paris,...</td>\n",
       "      <td>Bougainville</td>\n",
       "      <td>Delambre</td>\n",
       "      <td>32</td>\n",
       "      <td>1</td>\n",
       "      <td>(fils|fil fil d notaire échevin descendre d fa...</td>\n",
       "    </tr>\n",
       "    <tr>\n",
       "      <th>2</th>\n",
       "      <td>navigateur officier terre mer associer l scien...</td>\n",
       "      <td>1813.0</td>\n",
       "      <td>Navigateur célèbre, officier - général de ter...</td>\n",
       "      <td>Bougainville</td>\n",
       "      <td>Delambre</td>\n",
       "      <td>-1</td>\n",
       "      <td>2</td>\n",
       "      <td>(navigateur officier terre mer associer l scie...</td>\n",
       "    </tr>\n",
       "    <tr>\n",
       "      <th>3</th>\n",
       "      <td>collège faire remarquer aptitude lettrer science</td>\n",
       "      <td>1813.0</td>\n",
       "      <td>Encore au collège, il se faisait déjà remarque...</td>\n",
       "      <td>Bougainville</td>\n",
       "      <td>Delambre</td>\n",
       "      <td>-1</td>\n",
       "      <td>3</td>\n",
       "      <td>(collège faire remarquer aptitude lettrer scie...</td>\n",
       "    </tr>\n",
       "    <tr>\n",
       "      <th>4</th>\n",
       "      <td>professeur expliquer jour phase lune position ...</td>\n",
       "      <td>1813.0</td>\n",
       "      <td>Son professeur expliquait un jour les phases ...</td>\n",
       "      <td>Bougainville</td>\n",
       "      <td>Delambre</td>\n",
       "      <td>61</td>\n",
       "      <td>4</td>\n",
       "      <td>(professeur expliquer jour phase lune position...</td>\n",
       "    </tr>\n",
       "    <tr>\n",
       "      <th>...</th>\n",
       "      <td>...</td>\n",
       "      <td>...</td>\n",
       "      <td>...</td>\n",
       "      <td>...</td>\n",
       "      <td>...</td>\n",
       "      <td>...</td>\n",
       "      <td>...</td>\n",
       "      <td>...</td>\n",
       "    </tr>\n",
       "    <tr>\n",
       "      <th>22080</th>\n",
       "      <td>lecture d l odyssée d</td>\n",
       "      <td>1800.0</td>\n",
       "      <td>Sa lecture favorite était celle d'Homère, l'O...</td>\n",
       "      <td>Borda</td>\n",
       "      <td>Lefevre-Gineau</td>\n",
       "      <td>-1</td>\n",
       "      <td>22080</td>\n",
       "      <td>(lecture d l odyssée d, -1)</td>\n",
       "    </tr>\n",
       "    <tr>\n",
       "      <th>22081</th>\n",
       "      <td>conversation raison s mêler saillie</td>\n",
       "      <td>1800.0</td>\n",
       "      <td>Sa conversation était agréable et instructiv...</td>\n",
       "      <td>Borda</td>\n",
       "      <td>Lefevre-Gineau</td>\n",
       "      <td>35</td>\n",
       "      <td>22081</td>\n",
       "      <td>(conversation raison s mêler saillie, 35)</td>\n",
       "    </tr>\n",
       "    <tr>\n",
       "      <th>22082</th>\n",
       "      <td>cúur aimer inspirer rattachement respect</td>\n",
       "      <td>1800.0</td>\n",
       "      <td>Son cúur était aimant et facile ; il inspira...</td>\n",
       "      <td>Borda</td>\n",
       "      <td>Lefevre-Gineau</td>\n",
       "      <td>-1</td>\n",
       "      <td>22082</td>\n",
       "      <td>(cúur aimer inspirer rattachement respect, -1)</td>\n",
       "    </tr>\n",
       "    <tr>\n",
       "      <th>22083</th>\n",
       "      <td>mettre prix célébrité gloire d avoir être homme</td>\n",
       "      <td>1800.0</td>\n",
       "      <td>Il mettait peu de prix à la célébrité, mais ...</td>\n",
       "      <td>Borda</td>\n",
       "      <td>Lefevre-Gineau</td>\n",
       "      <td>-1</td>\n",
       "      <td>22083</td>\n",
       "      <td>(mettre prix célébrité gloire d avoir être hom...</td>\n",
       "    </tr>\n",
       "    <tr>\n",
       "      <th>22084</th>\n",
       "      <td></td>\n",
       "      <td>1800.0</td>\n",
       "      <td></td>\n",
       "      <td>Borda</td>\n",
       "      <td>Lefevre-Gineau</td>\n",
       "      <td>0</td>\n",
       "      <td>22084</td>\n",
       "      <td>(, 0)</td>\n",
       "    </tr>\n",
       "  </tbody>\n",
       "</table>\n",
       "<p>22085 rows × 8 columns</p>\n",
       "</div>"
      ],
      "text/plain": [
       "                                                     Doc   Annee  \\\n",
       "0      sénateur comte l empire officier légion d honn...  1813.0   \n",
       "1      fils|fil fil d notaire échevin descendre d fam...  1813.0   \n",
       "2      navigateur officier terre mer associer l scien...  1813.0   \n",
       "3       collège faire remarquer aptitude lettrer science  1813.0   \n",
       "4      professeur expliquer jour phase lune position ...  1813.0   \n",
       "...                                                  ...     ...   \n",
       "22080                              lecture d l odyssée d  1800.0   \n",
       "22081                conversation raison s mêler saillie  1800.0   \n",
       "22082           cúur aimer inspirer rattachement respect  1800.0   \n",
       "22083    mettre prix célébrité gloire d avoir être homme  1800.0   \n",
       "22084                                                     1800.0   \n",
       "\n",
       "                                                   Eloge        Savant  \\\n",
       "0      Louis-Antoine de Bougainville, sénateur, comte...  Bougainville   \n",
       "1       Il était fils d'un notaire, échevin de Paris,...  Bougainville   \n",
       "2       Navigateur célèbre, officier - général de ter...  Bougainville   \n",
       "3      Encore au collège, il se faisait déjà remarque...  Bougainville   \n",
       "4       Son professeur expliquait un jour les phases ...  Bougainville   \n",
       "...                                                  ...           ...   \n",
       "22080   Sa lecture favorite était celle d'Homère, l'O...         Borda   \n",
       "22081    Sa conversation était agréable et instructiv...         Borda   \n",
       "22082    Son cúur était aimant et facile ; il inspira...         Borda   \n",
       "22083    Il mettait peu de prix à la célébrité, mais ...         Borda   \n",
       "22084                                                            Borda   \n",
       "\n",
       "               Auteur  Topic  Doc_ID  \\\n",
       "0            Delambre     16       0   \n",
       "1            Delambre     32       1   \n",
       "2            Delambre     -1       2   \n",
       "3            Delambre     -1       3   \n",
       "4            Delambre     61       4   \n",
       "...               ...    ...     ...   \n",
       "22080  Lefevre-Gineau     -1   22080   \n",
       "22081  Lefevre-Gineau     35   22081   \n",
       "22082  Lefevre-Gineau     -1   22082   \n",
       "22083  Lefevre-Gineau     -1   22083   \n",
       "22084  Lefevre-Gineau      0   22084   \n",
       "\n",
       "                                        Tuple_topic_sent  \n",
       "0      (sénateur comte l empire officier légion d hon...  \n",
       "1      (fils|fil fil d notaire échevin descendre d fa...  \n",
       "2      (navigateur officier terre mer associer l scie...  \n",
       "3      (collège faire remarquer aptitude lettrer scie...  \n",
       "4      (professeur expliquer jour phase lune position...  \n",
       "...                                                  ...  \n",
       "22080                        (lecture d l odyssée d, -1)  \n",
       "22081          (conversation raison s mêler saillie, 35)  \n",
       "22082     (cúur aimer inspirer rattachement respect, -1)  \n",
       "22083  (mettre prix célébrité gloire d avoir être hom...  \n",
       "22084                                              (, 0)  \n",
       "\n",
       "[22085 rows x 8 columns]"
      ]
     },
     "execution_count": 111,
     "metadata": {},
     "output_type": "execute_result"
    }
   ],
   "source": [
    "docs_df"
   ]
  },
  {
   "cell_type": "code",
   "execution_count": 117,
   "id": "fuzzy-easter",
   "metadata": {},
   "outputs": [],
   "source": [
    "docs_df['Tuple_topic_sent'] = docs_df.apply(lambda row : (row['Eloge'], row['Topic']), axis = 1)"
   ]
  },
  {
   "cell_type": "code",
   "execution_count": 118,
   "id": "signal-mixture",
   "metadata": {},
   "outputs": [],
   "source": [
    "reconstruct = docs_df.groupby(['Savant', 'Auteur', 'Annee'])['Tuple_topic_sent'].apply(list).reset_index()"
   ]
  },
  {
   "cell_type": "code",
   "execution_count": 119,
   "id": "academic-premium",
   "metadata": {},
   "outputs": [],
   "source": [
    "df.reset_index(inplace = True)"
   ]
  },
  {
   "cell_type": "code",
   "execution_count": 120,
   "id": "boxed-merchandise",
   "metadata": {},
   "outputs": [],
   "source": [
    "df_sent = df.merge(reconstruct, on = ['Savant', 'Annee', 'Auteur'])"
   ]
  },
  {
   "cell_type": "code",
   "execution_count": 121,
   "id": "visible-there",
   "metadata": {},
   "outputs": [],
   "source": [
    "df_sent['Tuple_topic_sent'] = df_sent.apply(lambda row :sorted(row['Tuple_topic_sent'], \n",
    "                                                                         key=lambda x: row['Eloge'].index(x[0])),\n",
    "                                                               axis = 1)"
   ]
  },
  {
   "cell_type": "code",
   "execution_count": 123,
   "id": "critical-convergence",
   "metadata": {
    "scrolled": true
   },
   "outputs": [
    {
     "name": "stdout",
     "output_type": "stream",
     "text": [
      "\u001b[38;5;0m 0   \u001b[38;5;1m 1   \u001b[38;5;2m 2   \u001b[38;5;3m 3   \u001b[38;5;4m 4   \u001b[38;5;5m 5   \u001b[38;5;6m 6   \u001b[38;5;7m 7   \u001b[38;5;8m 8   \u001b[38;5;9m 9   \u001b[38;5;10m 10  \u001b[38;5;11m 11  \u001b[38;5;12m 12  \u001b[38;5;13m 13  \u001b[38;5;14m 14  \u001b[38;5;15m 15  \u001b[0m\n",
      "\u001b[38;5;16m 16  \u001b[38;5;17m 17  \u001b[38;5;18m 18  \u001b[38;5;19m 19  \u001b[38;5;20m 20  \u001b[38;5;21m 21  \u001b[38;5;22m 22  \u001b[38;5;23m 23  \u001b[38;5;24m 24  \u001b[38;5;25m 25  \u001b[38;5;26m 26  \u001b[38;5;27m 27  \u001b[38;5;28m 28  \u001b[38;5;29m 29  \u001b[38;5;30m 30  \u001b[38;5;31m 31  \u001b[0m\n",
      "\u001b[38;5;32m 32  \u001b[38;5;33m 33  \u001b[38;5;34m 34  \u001b[38;5;35m 35  \u001b[38;5;36m 36  \u001b[38;5;37m 37  \u001b[38;5;38m 38  \u001b[38;5;39m 39  \u001b[38;5;40m 40  \u001b[38;5;41m 41  \u001b[38;5;42m 42  \u001b[38;5;43m 43  \u001b[38;5;44m 44  \u001b[38;5;45m 45  \u001b[38;5;46m 46  \u001b[38;5;47m 47  \u001b[0m\n",
      "\u001b[38;5;48m 48  \u001b[38;5;49m 49  \u001b[38;5;50m 50  \u001b[38;5;51m 51  \u001b[38;5;52m 52  \u001b[38;5;53m 53  \u001b[38;5;54m 54  \u001b[38;5;55m 55  \u001b[38;5;56m 56  \u001b[38;5;57m 57  \u001b[38;5;58m 58  \u001b[38;5;59m 59  \u001b[38;5;60m 60  \u001b[38;5;61m 61  \u001b[38;5;62m 62  \u001b[38;5;63m 63  \u001b[0m\n",
      "\u001b[38;5;64m 64  \u001b[38;5;65m 65  \u001b[38;5;66m 66  \u001b[38;5;67m 67  \u001b[38;5;68m 68  \u001b[38;5;69m 69  \u001b[38;5;70m 70  \u001b[38;5;71m 71  \u001b[38;5;72m 72  \u001b[38;5;73m 73  \u001b[38;5;74m 74  \u001b[38;5;75m 75  \u001b[38;5;76m 76  \u001b[38;5;77m 77  \u001b[38;5;78m 78  \u001b[38;5;79m 79  \u001b[0m\n",
      "\u001b[38;5;80m 80  \u001b[38;5;81m 81  \u001b[38;5;82m 82  \u001b[38;5;83m 83  \u001b[38;5;84m 84  \u001b[38;5;85m 85  \u001b[38;5;86m 86  \u001b[38;5;87m 87  \u001b[38;5;88m 88  \u001b[38;5;89m 89  \u001b[38;5;90m 90  \u001b[38;5;91m 91  \u001b[38;5;92m 92  \u001b[38;5;93m 93  \u001b[38;5;94m 94  \u001b[38;5;95m 95  \u001b[0m\n",
      "\u001b[38;5;96m 96  \u001b[38;5;97m 97  \u001b[38;5;98m 98  \u001b[38;5;99m 99  \u001b[38;5;100m 100 \u001b[38;5;101m 101 \u001b[38;5;102m 102 \u001b[38;5;103m 103 \u001b[38;5;104m 104 \u001b[38;5;105m 105 \u001b[38;5;106m 106 \u001b[38;5;107m 107 \u001b[38;5;108m 108 \u001b[38;5;109m 109 \u001b[38;5;110m 110 \u001b[38;5;111m 111 \u001b[0m\n",
      "\u001b[38;5;112m 112 \u001b[38;5;113m 113 \u001b[38;5;114m 114 \u001b[38;5;115m 115 \u001b[38;5;116m 116 \u001b[38;5;117m 117 \u001b[38;5;118m 118 \u001b[38;5;119m 119 \u001b[38;5;120m 120 \u001b[38;5;121m 121 \u001b[38;5;122m 122 \u001b[38;5;123m 123 \u001b[38;5;124m 124 \u001b[38;5;125m 125 \u001b[38;5;126m 126 \u001b[38;5;127m 127 \u001b[0m\n",
      "\u001b[38;5;128m 128 \u001b[38;5;129m 129 \u001b[38;5;130m 130 \u001b[38;5;131m 131 \u001b[38;5;132m 132 \u001b[38;5;133m 133 \u001b[38;5;134m 134 \u001b[38;5;135m 135 \u001b[38;5;136m 136 \u001b[38;5;137m 137 \u001b[38;5;138m 138 \u001b[38;5;139m 139 \u001b[38;5;140m 140 \u001b[38;5;141m 141 \u001b[38;5;142m 142 \u001b[38;5;143m 143 \u001b[0m\n",
      "\u001b[38;5;144m 144 \u001b[38;5;145m 145 \u001b[38;5;146m 146 \u001b[38;5;147m 147 \u001b[38;5;148m 148 \u001b[38;5;149m 149 \u001b[38;5;150m 150 \u001b[38;5;151m 151 \u001b[38;5;152m 152 \u001b[38;5;153m 153 \u001b[38;5;154m 154 \u001b[38;5;155m 155 \u001b[38;5;156m 156 \u001b[38;5;157m 157 \u001b[38;5;158m 158 \u001b[38;5;159m 159 \u001b[0m\n",
      "\u001b[38;5;160m 160 \u001b[38;5;161m 161 \u001b[38;5;162m 162 \u001b[38;5;163m 163 \u001b[38;5;164m 164 \u001b[38;5;165m 165 \u001b[38;5;166m 166 \u001b[38;5;167m 167 \u001b[38;5;168m 168 \u001b[38;5;169m 169 \u001b[38;5;170m 170 \u001b[38;5;171m 171 \u001b[38;5;172m 172 \u001b[38;5;173m 173 \u001b[38;5;174m 174 \u001b[38;5;175m 175 \u001b[0m\n",
      "\u001b[38;5;176m 176 \u001b[38;5;177m 177 \u001b[38;5;178m 178 \u001b[38;5;179m 179 \u001b[38;5;180m 180 \u001b[38;5;181m 181 \u001b[38;5;182m 182 \u001b[38;5;183m 183 \u001b[38;5;184m 184 \u001b[38;5;185m 185 \u001b[38;5;186m 186 \u001b[38;5;187m 187 \u001b[38;5;188m 188 \u001b[38;5;189m 189 \u001b[38;5;190m 190 \u001b[38;5;191m 191 \u001b[0m\n",
      "\u001b[38;5;192m 192 \u001b[38;5;193m 193 \u001b[38;5;194m 194 \u001b[38;5;195m 195 \u001b[38;5;196m 196 \u001b[38;5;197m 197 \u001b[38;5;198m 198 \u001b[38;5;199m 199 \u001b[38;5;200m 200 \u001b[38;5;201m 201 \u001b[38;5;202m 202 \u001b[38;5;203m 203 \u001b[38;5;204m 204 \u001b[38;5;205m 205 \u001b[38;5;206m 206 \u001b[38;5;207m 207 \u001b[0m\n",
      "\u001b[38;5;208m 208 \u001b[38;5;209m 209 \u001b[38;5;210m 210 \u001b[38;5;211m 211 \u001b[38;5;212m 212 \u001b[38;5;213m 213 \u001b[38;5;214m 214 \u001b[38;5;215m 215 \u001b[38;5;216m 216 \u001b[38;5;217m 217 \u001b[38;5;218m 218 \u001b[38;5;219m 219 \u001b[38;5;220m 220 \u001b[38;5;221m 221 \u001b[38;5;222m 222 \u001b[38;5;223m 223 \u001b[0m\n",
      "\u001b[38;5;224m 224 \u001b[38;5;225m 225 \u001b[38;5;226m 226 \u001b[38;5;227m 227 \u001b[38;5;228m 228 \u001b[38;5;229m 229 \u001b[38;5;230m 230 \u001b[38;5;231m 231 \u001b[38;5;232m 232 \u001b[38;5;233m 233 \u001b[38;5;234m 234 \u001b[38;5;235m 235 \u001b[38;5;236m 236 \u001b[38;5;237m 237 \u001b[38;5;238m 238 \u001b[38;5;239m 239 \u001b[0m\n",
      "\u001b[38;5;240m 240 \u001b[38;5;241m 241 \u001b[38;5;242m 242 \u001b[38;5;243m 243 \u001b[38;5;244m 244 \u001b[38;5;245m 245 \u001b[38;5;246m 246 \u001b[38;5;247m 247 \u001b[38;5;248m 248 \u001b[38;5;249m 249 \u001b[38;5;250m 250 \u001b[38;5;251m 251 \u001b[38;5;252m 252 \u001b[38;5;253m 253 \u001b[38;5;254m 254 \u001b[38;5;255m 255 \u001b[0m\n"
     ]
    }
   ],
   "source": [
    "import sys\n",
    "\n",
    "colors = []\n",
    "for i in range(0, 16):\n",
    "    for j in range(0, 16):\n",
    "        code = str(i * 16 + j)\n",
    "        sys.stdout.write(u\"\\u001b[38;5;\" + code + \"m \" + code.ljust(4))\n",
    "        colors.append(u\"\\u001b[38;5;\" + code + \"m \")\n",
    "    print(u\"\\u001b[0m\")"
   ]
  },
  {
   "cell_type": "code",
   "execution_count": 131,
   "id": "insured-bloom",
   "metadata": {},
   "outputs": [
    {
     "data": {
      "text/plain": [
       "[(\"Louis-Antoine de Bougainville, sénateur, comte l'empire, grand - officier de la légion d'honneur, naquit à Paris, le 11 novembre 1729\",\n",
       "  16),\n",
       " ('', 0),\n",
       " (\" Il était fils d'un notaire, échevin de Paris, et descendait d'une ancienne famille de Picardie\",\n",
       "  32),\n",
       " (\" Navigateur célèbre, officier - général de terre et de mer, associé libre de l'Académie des sciences, membre de l'Institut et du bureau des longitudes, tant de titres divers qu'il ne dut qu'à lui-même, et qui furent la récompense de longs travaux et d'actions d'éclat, font déjà un assez bel éloge, et prouvent que celui qui sut les mériter n'était en aucun genre un homme ordinaire\",\n",
       "  -1),\n",
       " ('Encore au collège, il se faisait déjà remarquer par une aptitude égale pour les lettres et pour les sciences',\n",
       "  -1),\n",
       " (' Son professeur expliquait un jour les phases de la lune et les diverses positions du croissant ; pour graver ces notions dans la mémoire de ses auditeurs, il leur citait deux vers latins',\n",
       "  61),\n",
       " (' Le jeune Bougainville se permit de les trouver très médiocres', -1),\n",
       " (\" Défié d'en faire de meilleurs, il répondit presque aussitôt par quatre vers plus exacts, plus instructifs et plus poétiques surtout que le distique dont il avait osé plaisanter\",\n",
       "  41),\n",
       " (' Au sortir du collège, il se fit recevoir avocat au parlement, par complaisance pour sa famille ; mais en même temps, pour obéir à ses propres goûts, il se faisait inscrire aux mousquetaires',\n",
       "  -1),\n",
       " (\" Le hasard l'avait fait voisin de Clairaut et de d'Alembert ; il se lia avec ces deux grands géomètres ; il les visitait souvent, profitait de leurs entretiens et de leurs écrits, et à l'âge de vingt-cinq ans il fit paraître la première partie de son Calcul intégral, pour servir de suite à l'analyse des infiniment petits de l'Hôpital\",\n",
       "  53),\n",
       " (\" La franchise, qui fut dans tous les temps un des traits les plus marqués de son caractère, lui fit déclarer dans sa préface que rien ne lui appartenait dans cet ouvrage, si ce n'est l'ordre qu'il avait tâché d'y mettre ; mais les commissaires de l'Académie attestaient, de leur côté, qu'en exposant les méthodes des différents géomètres, il avait su se les rendre propres par l'intelligence et la clarté avec lesquelles il les développait\",\n",
       "  -1),\n",
       " (\" Outre ce témoignage flatteur, il trouvait encore une autre récompense dans la certitude d'être utile aux jeunes géomètres, qui manquaient absolument de guides pour pénétrer dans cette partie alors peu éclaircie de la science mathématique\",\n",
       "  -1),\n",
       " (\" En le voyant nommé presque aussitôt aide major d'un bataillon de Picardie, aide-de-camp de Chevert, on put craindre qu'il n'abandonnât les sciences ; un voyage qu'il fit à Londres comme secrétaire d'ambassade, le lia de nouveau avec les savants ; il fut reçu de la Société royale, dont il eut le temps de devenir un des doyens\",\n",
       "  -1),\n",
       " (\" L'année suivante, il rejoignit son général ; en 1756, il suivit Moncalm en Canada avec le titre de capitaine de dragons ; et la preuve que tant de fonctions diverses ne lui avaient pas fait négliger les sciences, c'est qu'à son départ pour l'Amérique, il avait livré à l'impression la seconde partie de son Calcul intégral, dont il pria Bézout de lire les épreuves en son absence\",\n",
       "  -1),\n",
       " (' M', 0),\n",
       " (' M', 0),\n",
       " (' M', 0),\n",
       " (' M', 0),\n",
       " (\"A peine arrivé en Amérique, on l'y voit, par une marche pénible autant que hardie sur les glaces et la neige ou à travers des bois presque impénétrables, s'avancer jusqu'au fond du lac Saint -Sacrement, et brûler une flottille anglaise sous le fort même qui la protégeait\",\n",
       "  50),\n",
       " (\" En 1768, un détachement de cinq mille Français se voyait depuis plusieurs jours poursuivi par une armée de vingt- quatre mille Anglais, Bougainville inspire à ses compagnons la résolution d'attendre courageusement l'ennemi ; on se fortifie à la hâte, en moins de vingt-heures ; l'Anglais est repoussé et contraint de se retirer avec une perte de six mille hommes, et Bougainville, qui, par ses conseils et ses exemples, avait eu tant de part à la victoire, reçoit à la tête, à la fin du combat, un coup de fou qui n'eut heureusement aucune suite dangereuse\",\n",
       "  16),\n",
       " (\" Cependant le gouverneur désespère de sauver la colonie s'il ne reçoit de prompts renforts\",\n",
       "  -1),\n",
       " (' Bougainville est envoyé en France pour les solliciter', -1),\n",
       " (' Il en revient avec le grade de colonel à la suite du régiment de Rouergue, et la croix de Saint -Louis accordée avant le temps, en considération de ses brillants services',\n",
       "  -1),\n",
       " (\" Moncalm le mit à la tête des grenadiers et des volontaires, pour couvrir la retraite de l'armée, forcée de se replier sur Québec ; il remplit cette mission avec son intrépidité et son bonheur accoutumés\",\n",
       "  63),\n",
       " (' Mais bientôt la mort du général entraîne la perte de la colonie ; Bougainville revient en France, suit aussitôt M',\n",
       "  -1),\n",
       " (' Choiseul de Stainville en Allemagne, continue de se signaler, et voit sa valeur récompensée par le don de deux pièces de canon',\n",
       "  46),\n",
       " (\" La paix vient lui ôter les occasions qu'il savait si bien mettre à profit ; mais elle ne diminuera pas son activité\",\n",
       "  -1),\n",
       " (\" Nous l'avons vu géomètre, guerrier, négociateur ; nous allons le voir fondateur d'une colonie\",\n",
       "  53),\n",
       " (\" Ses divers voyages en Amérique l'avaient lié avec les négociants et les armateurs de Saint -Malo\",\n",
       "  11),\n",
       " (\" Un navire sorti de ce port au commencement du siècle, avait mouillé à la côte sud -est d'un groupe d'îles visitées plus anciennement par les Anglais, qui les avaient nommées Virginie d'Hawkins, nom qu'ils ont depuis changé en celui d'iles de Falkland\",\n",
       "  63),\n",
       " (\" La situation favorable de ces îles avait fait naître l'idée d'y former un établissement\",\n",
       "  63),\n",
       " (' La cour de France y songeait en 1763', -1),\n",
       " (' Bougainville offrit de le commencer à ses frais', -1),\n",
       " (' De société avec deux de ses parents, il fait armer à Saint -Malo deux bâtiments, il embarque quelques familles acadiennes, et le 3 avril 1764, il aborde à ces îles auxquelles il donna le nom de Malouines',\n",
       "  16),\n",
       " (' Elles étaient inhabitées ; aucune violence, aucune injustice ne marqua sa prise de possession',\n",
       "  -1),\n",
       " (\" Une pèche abondante, des oiseaux, d'abord sans défiance, et qui se laissaient prendre à la main, assurent les subsistances ; mais on y chercha en vain des bois de construction et de chauffage : on ne trouva que des roseaux et une tourbe excellente ; l'emplacement d'un fort est tracé ; on construit en terre les fortifications ; à l'exemple du chef, tous les colons, et l'aumonier lui-même, prennent part au travail ; au centre du fort s'élève un obélisque ; l'hémistiche tibi serviat ultila Thule se lit au-dessous du portrait du monarque ; l'inscription se termine par ce commencement d'un vers d'Horace : Conamur tenues grandia\",\n",
       "  -1),\n",
       " (' Ces premiers travaux terminés, Bougainville repasse en France, laissant à son parent le gouvernement de la colonie naissante',\n",
       "  -1),\n",
       " (\" L'année suivante, il revient avec des provisions et de nouveaux habitants\",\n",
       "  5),\n",
       " (\" Une excursion au détroit de Magellan lui procure des bois de construction et dix mille plants d'arbres de tout âge, secours précieux et indispensable pour l'établissement\",\n",
       "  23),\n",
       " (\" Une alliance est conclue avec les Patagons ; la plus grande partie des graines venues d'Europe s'étaient naturalisées ; divers essais de culture promettaient des succès ; la multiplication des bestiaux était certaine ; le nombre des habitants, porté de 80 à 150 ; mais ces accroissements, trop lents de leur nature, ne pouvait suffire à l'activité du fondateur ; depuis longtemps il était à Paris ; il y apprend que ces succès avaient alarmé les Espagnols, et qu'ils avaient porté des réclamations au gouvernement français\",\n",
       "  -1),\n",
       " (\" Bougainville est chargé d'aller lui-même remettre son île\", -1),\n",
       " (\" La cour d'Espagne consent à lui rendre les fonds qu'il y avait placés ; à payer le prix des ouvrages qu'on lui cède ; et pour consolation, la cour de France lui permet de faire le tour du Monde\",\n",
       "  -1),\n",
       " (\" On lui donne le commandement de la frégate la Boudeuse ; la flûte l'…toile doit se joindre à lui ; il y embarque le naturaliste Commerçon, et l'astronome Véron qu'il avait demandé pour essayer les nouvelles méthodes de longitude\",\n",
       "  61),\n",
       " (\" Ce fut le 3 mai 1766 que Bougainville remit aux Espagnols la colonie qui avait à peine deux ans d'existence, et dont il prévoyait avec douleur la décadence prochaine ; il regretta toute sa vie un observatoire qu'il voulait y bâtir, et que sa position par 51∞ de latitude australe devait rendre une succursale utile aux grands observatoires d'Europe\",\n",
       "  -1),\n",
       " (\" Pour justifier ses regrets, pendant qu'il s'apprêtait à partir, il y voit pendant plusieurs jours une comète qui cessait d'être visible en Europe\",\n",
       "  -1),\n",
       " (\" C'est la seconde comète de 1766 ; et Pingre, qui a rassemblé soigneusement toutes les observations faites à l'Isle- de- France, paraît avoir ignore la mention qu'on en trouve dans le Voyage autour du Monde\",\n",
       "  16),\n",
       " (\" Depuis que ses projets étaient renversés, son île ne pouvait l'intéresser que médiocrement ; toutes ses pensées étaient tournées vers l'expédition brillante qu'il allait entreprendre ; mais la flûte l'Etoile, qui devait lui apporter des vivres, n'arrivait pas : il jugea que quelque obstacle l'avait empêchée de se rendre aux Malouines, et qu'il devait lui-même aller la chercher à Mont -Video, Il se résolut pour la rejoindre à faire une course qui ne pouvait être moindre de huit cents lieues, et qui fut en effet de douze cents, car il devait revenir sur ses traces, et repasser presqu'à la vue des Malouines pour pénétrer par le détroit de Magellan dans la mer Pacifique ; mais outre que ce parti convenait mieux à son inquiète activité, il dut peu regretter un détour qui le rendit témoin d'une scène dont la renommée se répandit bientôt dans tous les Etats chrétiens, et dont il put recueillir toutes les circonstances\",\n",
       "  -1),\n",
       " (\" A peine il arrivait à Buenos-Aires, qu'il fut témoin de l'arrestation des Jésuites du Paraguay\",\n",
       "  -1),\n",
       " (\" En homme franc et libre de préjugés, il rapporte avec impartialité tout ce qu'on peut dire en faveur du gouvernement des pères dans leurs missions ; il ne dissimule pas davantage les reproches que ce gouvernement pouvait mériter\",\n",
       "  32),\n",
       " (\" ´ Mais sa plume se refuse au détail de tout ce que le public prétendait avoir été trouvé dans les papiers saisis chez les Jésuites ; les haines lui paraissent trop récentes pour qu'on puisse discerner les fausses imputations d'avec les véritables ; il aime mieux rendre justice à la plus grande partie des membres de la société, qui, n'étant point dans le secret des chefs, témoignèrent la plus parfaite résignation, et ne surent que s'humilier sous la main qui les frappait\",\n",
       "  -1),\n",
       " (\" ª Sept mois après son départ il se retrouvait non loin des Malouines, vis-à-vis le cap des Vierges, à l'entrée du détroit de Magellan\",\n",
       "  16),\n",
       " (\" Là, par des distances observées de la lune au soleil, on détermina de nouveau la longitude, et l'on fixa le point du vaisseau\",\n",
       "  61),\n",
       " (\" Le passage du détroit fut pénible ; des brumes épaisses des vents impétueux forcent à louvoyer et sonder sans cesse et la marée fait perdre le plus souvent le peu d'avance qu'on a gagné avec tant de peine\",\n",
       "  -1),\n",
       " (' Les feux allumés par les Patagons aident les navigateurs à prendre terre',\n",
       "  -1),\n",
       " (' Ils sont bien reçus par les naturels, et Bougainville en conserva toujours une tendre reconnaissance',\n",
       "  -1),\n",
       " (' Cette entrevue les réhabilite aux yeux du lecteur qui les avait jugés moins bons et moins sûrs dans leurs premières relations avec les députés de la colonie',\n",
       "  -1),\n",
       " (\" C'est là que commencent les découvertes : les noms imposés aux îles, aux baies, aux détroits, commencent à montrer des monuments du passage des Français et de leurs travaux pour l'avancement de la géographie ; mais un ciel ingrat rend presque inutiles tous les travaux de l'astronome Véron et tous ses préparatifs dans l'île, qui fut nommée de l'Observatoire\",\n",
       "  63),\n",
       " (\"Les ouragans accompagnèrent nos voyageurs jusqu'à la sortie du détroit qui ne fut pas moins périlleuse que l'entrée\",\n",
       "  -1),\n",
       " (\" Cette traversée, que le navigateur estime de cent trente-deux lieues, fut l'ouvrage de cinquante - deux jours d'une navigation laborieuse, qui du moins n'avait point altéré la santé des équipages ; à l'entrée dans la mer Pacifique,personne n'était sur les cadres\",\n",
       "  -1),\n",
       " (' La navigation devient alors plus facile et plus fructueuse ; les découvertes se multiplient, on en constate quelques-unes sur lesquelles les avis des navigateurs étaient partagés',\n",
       "  -1),\n",
       " (\" Le chef marque de son cachet les îles qu'il rencontre ; on les reconnaît aux dénominations des Quatre Facardins et du Boudoir\",\n",
       "  63),\n",
       " (\" Il aperçut cette dernière île deux jours avant d'aborder à Tahiti\", 63),\n",
       " (\" On commençait à sentir le besoin le plus urgent d'une relâche, et il était difficile d'en rencontrer une qui pût mieux consoler des maux passés\",\n",
       "  -1),\n",
       " (\" On sait assez quelle est dans cette île la manière dont on exerce l'hospitalité\",\n",
       "  63),\n",
       " (\" Malgré l'embarras et l'espèce de honte que montrèrent d'abord les matelots, le narrateur n'oserait répondre que personne dans son équipage ne se vît conformé aux usages du pays ; et quand on voit le récit de sa visite au bon prince Tatoua, on est tenté de croire qu'il n'a pas voulu affliger par un refus l'hôte qui l'accablait de tant de prévenance\",\n",
       "  67),\n",
       " (\"Une si bonne réception était accompagnée de quelques inconvénients ; si la terre n'offrait rien que d'agréable, le peu de sûreté d'un mouillage qui coûta six ancres en neuf jours inquiétait continuellement, et l'on quitta la Nouvelle- Cythère avec autant d'empressement qu'on en avait mis à y aborder\",\n",
       "  -1),\n",
       " (\" Ce qui dut prolonger chez nos navigateurs le souvenir d'une relâche si remarquable, ce qui les mit à portée de s'instruire plus à fond des múurs et de la langue du pays, ce fut la résolution que prit un jeune insulaire de partir avec eux\",\n",
       "  -1),\n",
       " (\" Il se nommait Aotourou ; il est plus connu sous le nom de Poutaveri, c'est ainsi qu'il nommait son ami Bougainville\",\n",
       "  -1),\n",
       " (\" Un obstacle naturel l'empêcha toujours de prononcer mieux un nom qu'il avait sans cesse à la bouche\",\n",
       "  -1),\n",
       " (\" Ce jeune homme intéressant dut les amuser souvent dans la traversée par ses récits, et leur fut quelquefois utile par les connaissances qu'il avait\",\n",
       "  -1),\n",
       " (\" On remarqua qu'il donnait des noms de sa langue aux étoiles les, plus brillantes, et qu'il avait dû faire plusieurs voyages aux îles voisines dont il indiquait la position, ainsi que les múurs de leurs habitants\",\n",
       "  63),\n",
       " (' Aotourou resta onze mois à Paris', 16),\n",
       " (\" L'empressement pour le voir fut vif, mais stérile\", -1),\n",
       " (' Son patron ne négligea rien pour lui rendre agréable son séjour en France',\n",
       "  36),\n",
       " (\" Aotourou payait ces attentions par la plus vive reconnaissance et par les historiettes plaisantes dont il laissa une collection qu'on entendait toujours avec plaisir, mais dont Bougainville n'a pas jugé à propos d'orner la relation de son voyage\",\n",
       "  -1),\n",
       " (' Rien ne fut omis pour assurer son retour dans son île', 63),\n",
       " (\" Les recommandations les plus fortes, ne somme de 36,000 livres que Bougainville avança de ses propres deniers sans avoir la certitude qu'elle dût jamais lui être remboursée, les soins que se donna M\",\n",
       "  -1),\n",
       " (\" Poivre, qui le reçut à l'Isle-de-France, ni ceux du capitaine Marcon qui s'était chargé de le remettre dans son île, rien ne put le soustraire à sa malheureuse destinée ; il mourut de la petite vérole dans la traversée\",\n",
       "  63),\n",
       " (' Tel avait été le sort de deux autres insulaires partis avec un capitaine anglais qui avait visité Tahiti huit mois avant Bougainville',\n",
       "  -1),\n",
       " (\" Après cette île, la navigation ne peut offrir de longtemps rien qui soit d'un intérêt si général\",\n",
       "  63),\n",
       " (' Les dangers seuls viennent interrompre la monotonie des détails nautiques',\n",
       "  -1),\n",
       " (' Ces dangers sont tels, que M', -1),\n",
       " (\" Bougainville ne veut plus faire sonder, parce que la certitude du péril ne l'eût pas diminué\",\n",
       "  -1),\n",
       " (' On commençait à redouter le plus horrible de tous, la faim', -1),\n",
       " (\" On est obligé de réduire les rations, de changer de route, et de renoncer à la découverte d'un passage qu'on soupçonnait et qu'on cherchait depuis longtemps\",\n",
       "  -1),\n",
       " (\" La gloire en était réservée à Cook, qui le rencontra fort heureusement à l'instant où son vaisseau était menacé de se perdre\",\n",
       "  63),\n",
       " (\" Un danger pareil attendait Bougainville, si le défaut de vivres ne fût à propos survenu pour l'en garantir\",\n",
       "  -1),\n",
       " (' On échappe enfin ; un cap reçoit le nom de la Délivrance ; mais le scorbut commençait à se répandre parmi les équipages',\n",
       "  63),\n",
       " (\" Heureusement on trouve un passage à travers les îles Papous, et l'on entre dans la mer des Moluques\",\n",
       "  63),\n",
       " (\" Bourou présente une relâche délicieuse, où, malgré les ordres sévères qui excluent tout navire étranger, le résident permet qu'on se repose après tant de fatigues\",\n",
       "  63),\n",
       " (\" Aotourou, transporté à la vue de tant d'objets nouveaux, demande si Paris est plus beau que Bourou ; mais bientôt son enthousiasme pour les possessions hollandaises se refroidit à la vue des maladies causées par l'air mal sain de Batavia, à laquelle il donne le nom d'Enoua maté, terre qui tue\",\n",
       "  -1),\n",
       " (\" De Batavia, les vaisseaux passent à l'Isle-de-France, au cap de Bonne-Espérance, et à Saint-Malo, où ils abordent le 16 mars 1769, après une navigation de deux ans et quatre mois, qui n'a coûté que sept hommes sur plus de deux cents\",\n",
       "  -1),\n",
       " (\" Ainsi finit cette expédition brillante dont les avantages, les dangers, l'audace, et le bonheur, viennent d'être justement appréciés par un bon juge dans l'article Bougainville de la nouvelle biographie\",\n",
       "  -1),\n",
       " (\" C'était le premier voyage où les Français eussent fait le tour du Monde, c'est-à-dire, traversé les 360∞ de longitude, et tous les méridiens de la terre\",\n",
       "  16),\n",
       " (' Cette expédition plaça M', 36),\n",
       " (\" de Bougainville au rang des plus grands navigateurs, et cependant c'était en quelque sorte son apprentissage\",\n",
       "  -1),\n",
       " (\" La relation qu'il en donna fut lue avidement, et traduite aussitôt par M\",\n",
       "  38),\n",
       " (\" Forster ; car dans une seconde édition, qu'il en donna lui-même en 1772, il répond à quelques remarques de son traducteur\",\n",
       "  16),\n",
       " (\" Le style en est simple et naturel ; il y montre son caractère, son intrépidité, son mépris pour les dangers, qu'il a plutôt l'air de chercher ; son penchant à saisir en toute chose le côté plaisant ; sa bonté, sa gaîté qui maintinrent toujours la confiance, la subordination et la joie dans son équipage, dont il soignait les plaisirs comme la santé\",\n",
       "  -1),\n",
       " (\" Cependant, pour connaître à fond toutes les qualités aimables de l'auteur, il fallait l'entendre lui- même commenter quelques parties de ce voyage célèbre\",\n",
       "  -1),\n",
       " (' On a remarqué avec raison que les cartes et les déterminations géographiques, à la réserve des latitudes, sont la partie faible de cet ouvrage',\n",
       "  -1),\n",
       " (\" Mais il est juste aussi de remarquer qu'il faisait un voyage de découverte et non un de ces voyages de reconnaissance où l'on emploie des mois entiers à la description d'une île ou d'un rivage ; que des temps affreux et des dangers continuels ont rendu inutiles presque toutes ses tentatives astronomiques ; que la science des longitudes ne faisait que de naître ; que les tables de la lune n'étaient pas encore portées au point de perfection où nous les voyons ; que les navigateurs n'avaient aucun des secours qu'on leur prodigue aujourd'hui ; qu'ils avaient encore tout l'embarras des calculs avec lesquels ils n'étaient rien moins que familiarisés ; que M\",\n",
       "  61),\n",
       " (\" Bougainville donna le premier en France l'exemple d'embarquer un astronome pour essayer des méthodes dont il était bien fait pour sentir le prix, mais dont on n'avait encore pu recueillir aucun fruit\",\n",
       "  61),\n",
       " (' A son retour, la France était en paix', -1),\n",
       " (\" Une vie errante et agitée lui avait fait perdre le goût des mathématiques ; il se livra à des plaisirs qu'il n'avait guère eu le loisir de connaître dans ses premières années\",\n",
       "  5),\n",
       " (\" Sa célébrité, son humeur chevaleresque, le firent admettre dans la plus haute société ; il en adopta l'esprit et les múurs dont sa conversation traçait si souvent des peintures si piquantes ; mais cette activité si infatigable qui le portait à se distinguer, quelque chose qu'il entreprît, trouva bientôt un aliment plus digne de son caractère quand la France embrassa la cause de l'Amérique\",\n",
       "  -1),\n",
       " (\" Sous les amiraux Lamothe- Piquet, d'Estaing, et de Grasse, il fut successivement chargé du commandement des vaisseaux le Bien-Aimé, le Languedoc, le Guerrier, et l'Auguste\",\n",
       "  63),\n",
       " (\" Sur la demande de d'Estaing, il fut nommé chef d'escadre ; la même année il reçut le grade de maréchal-de-camp\",\n",
       "  -1),\n",
       " (\" Commandant l'avant-garde au combat naval de la Chesapeak (en 1781), il repoussa vivement l'avant-garde anglaise, et le comte de Grasse lui rendit hautement ce témoignage, qu'il avait contribué plus que personne à la victoire\",\n",
       "  16),\n",
       " (\" Enfin, dans la journée désastreuse du 12 avril 1781, où l'on reprocha au général de s'être plus occupé de son vaisseau que de son escadre, et à quelques parties de l'escadre de n'avoir pas assez puissamment secondé le général ; Bougainville, qui commandait l'arrière-garde, prit cependant à l'action toute la part qui dépendait de lui ; par une manúuvre audacieuse, il eut la gloire de sauver le Northumherland, et quoique l'Auguste, qu'il commandait, fût l'un des vaisseaux les plus mal traités de toute la flotte, il rallia et conduisit à Saint-Eustache une partie de l'escadre battue\",\n",
       "  63),\n",
       " (\" La paix, qui assura la liberté de l'Amérique, vint lui rendre des loisirs qui ranimèrent en lui le goût des sciences ; l'Académie lui conféra le titre d'associé libre\",\n",
       "  52),\n",
       " (\" Lagrange, dont il demanda la voix, lui dit alors ces mots qui durent le flatter autant que son admission : ´ C'était à moi d'être reçu par vous à l'Académie, puisque ce sont vos ouvrages qui m'ont ouvert la carrière\",\n",
       "  -1),\n",
       " (\" ª Ce fut vers ce temps que pour servir les sciences d'une manière qui ne pût être qu'à lui, il forma le projet de braver les glaces du nord et de pénétrer jusqu'au pôle\",\n",
       "  52),\n",
       " (\" Un astronome distingué s'était offert à l'accompagner, déjà son plan était tracé ; il avait marqué deux routes différentes\",\n",
       "  61),\n",
       " (\" Le ministre n'accéda point à ses propositions, et la société royale de Londres lui demanda ses plans\",\n",
       "  -1),\n",
       " (\" Il les transmit en indiquant la route qu'il préférait\", 36),\n",
       " (\" Le capitaine Phlips ( lord Mulgrave) chargé de l'expédition, préféra l'autre ; mais il ne put s'élever que jusqu'au quatre-vingtième degré\",\n",
       "  63),\n",
       " (\" Blâmerons-nous ou remercierons-nous le ministre qui déconcerta ce projet hardi ? Moins sensibles que le célèbre navigateur au mérite qu'on peut trouver à vaincre des difficultés réputées insurmontables, et ne regardant les dangers de cette expédition que comme un des inconvénients les plus graves quand ils ne sont pas rachetés par un grand objet d'utilité, nous croyons cette utilité tout au moins problématique : est -il bien sûr que le 90∞ degré puisse offrir des phénomènes qu'on n'ait pu tout aussi bien observer à dix degrés du pôle\",\n",
       "  -1),\n",
       " (\" Supposons pourtant tous les obstacles surmontés et l'astronome arrivé à ce point si difficile à reconnaître où il verra tout le ciel tourner horizontalement autour de lui où les étoiles toujours les mêmes seront toujours à la même hauteur, où le choix d'un méridien devient arbitraire, où les planètes ne sont visibles que clans la moitié de leurs révolutions, et seront pendant des mois ou même des années cachées à l'observateur, si même elles ne le sont toujours par les brumes ou les nuages, quel fruit pourrait -il retirer de tant de fatigues et de privations ? Quelques observations rares de réfractions, quelques expériences incertaines ou au moins fort difficiles de l'aiguille aimantée, passeront-elles pour un véritable dédommagement ? Sachons donc quelque gré au ministre économe ou timide qui n'a pas voulu qu'un homme aussi distingué s'exposât sans un motif assez apparent d'utilité\",\n",
       "  61),\n",
       " (' Croyons que M', -1),\n",
       " (\" Bougainville lui-même eût modifié son projet suivant les obstacles qu'il aurait rencontrés ; alors il eût encore ajouté à sa gloire en montrant tout ce que pouvait l'industrie et l'audace humaine, et les savants qui l'auraient accompagné auraient pu trouver un emploi utile de leur temps, et la récompense de leur dévouement dans la découverte de quelque vérité nouvelle\",\n",
       "  -1),\n",
       " (\"On sait quel esprit d'insubordination s'était glissé dans la marine française et dans la flotte de Brest, commandée par M\",\n",
       "  63),\n",
       " (' Albert de Riom', 0),\n",
       " (' Bougainville par sa réputation, son courage et sa fermeté, mélangée de qualités aimables, parut le seul homme capable de faire rentrer nos marins dans le devoir',\n",
       "  -1),\n",
       " (' Il se présenta aux séditieux avec des succès qui ne furent pas de longue durée',\n",
       "  13),\n",
       " (\" Les esprits étaient trop égarés, trop excités peut-être pour entendre la voix à laquelle dans d'autres temps ils auraient obéi avec joie\",\n",
       "  31),\n",
       " (\" Bougainville vit que c'était l'instant de se retirer du service ; cependant son nom fut encore porté en 1791 dans la liste des vice-amiraux\",\n",
       "  -1),\n",
       " (' Cette dernière distinction redoubla son dévouement pour un prince que tout abandonnait, et à qui, dans les circonstances les plus orageuses, il ne cessa de donner des preuves de la plus courageuse affection',\n",
       "  67),\n",
       " (' …chappé, comme par miracle, aux massacres de 1792, il se réfugia dans sa terre de Normandie, où il retrouva ses deux pièces de canon, seule récompense qui lui restât pour quarante ans de service',\n",
       "  16),\n",
       " (\"Là il attendait le retour de la tranquillité, lorsqu'il fut nommé, comme ancien navigateur, à l'une des places du bureau des longitudes\",\n",
       "  -1),\n",
       " (\" Mais, soit qu'il ne jugeât pas encore le calme assez assuré, soit que le soin de ce qui lui restait de fortune lui défendît de quitter ses possessions, il envoya sa démission, fut remplacé par M\",\n",
       "  -1),\n",
       " (' le comte de Fleurieu, et remplaça lui-même bientôt après M', -1),\n",
       " (' de Borda', 0),\n",
       " (\" Les temps de la régénération étaient arrivés ; on s'empressait de réparer tant de ruines : l'Institut venait d'être créé pour tenir lieu de toutes les académies\",\n",
       "  -1),\n",
       " (' de Bougainville y fut nommé à une place de navigation et de géographie',\n",
       "  -1),\n",
       " (\" Comme président de la classe des sciences, il eut l'honneur de porter la parole dans une occasion encore unique dans les fastes littéraires\",\n",
       "  52),\n",
       " (' Il avait assisté constamment à toutes les séances de la commission chargée de rédiger le rapport qui fut porté au pied du trône',\n",
       "  -1),\n",
       " (\" Il ne montra pas moins d'assiduité à présider pendant dix-huit mois une autre commission chargée d'un travail plus délicat\",\n",
       "  16),\n",
       " (\" Toujours le premier au rendez-vous, le plaisir qu'on prenait à l'entendre empêchait qu'on ne remarquât si l'heure du travail avait été retardée par ceux qui n'avaient pas été si ponctuels\",\n",
       "  18),\n",
       " (\" Sénateur et grand- officier de la légion d'honneur, dès la création, il avait tout ce qui peut consoler de vieillir ; loisir et dignité ; mais son ardeur n'était pas éteinte : il avait encore tout le feu et la vivacité de la jeunesse\",\n",
       "  -1),\n",
       " (\" Il brûlait de diriger on départager quelque entreprise maritime bien hasardeuse, et quand ses amis lui objectaient son âge, il répondait que Nestor n'avait pas été inutile dans une armée qui avait Achille, Ajax, et Diomède\",\n",
       "  -1),\n",
       " (\" Il est douteux que le vieux roi de Pylos eût conservé au même degré ses forces et son courage ; plus douteux encore que ses discours aient toujours fait aux héros grecs le plaisir qu'auraient pris nos jeunes marins à ceux de Bougainville\",\n",
       "  67),\n",
       " (\" Quoiqu'à beaucoup d'égards, il se ménageât trop peu, il était d'une tempérance et d'une sobriété rares qui nous donnaient l'espoir de le conserver longtemps ; nous le perdîmes le 31 août 1811, après dix jours d'une maladie aiguÎ, qui lui laissa jusqu'à son dernier moment toute sa connaissance et toute sa vivacité\",\n",
       "  16),\n",
       " (\" Souvent il m'avait parlé du dessein où il était de me remettre tous ses journaux et ses mémoires\",\n",
       "  26),\n",
       " (\" Cette promesse m'ôta le courage de me présenter à lui quand je le sus en danger, quoique je prévisse combien je perdais par cette réserve\",\n",
       "  -1),\n",
       " (' Espérons que quelque main plus habile saura faire un usage heureux de ces matériaux qui ne doivent pas être perdus',\n",
       "  2),\n",
       " ('Excellent père, ami chaud et constant, bon confrère, sans cesse occupé des intérêts de la science et de ceux des savants il saisissait ou faisait naître les occasions de leur être utile',\n",
       "  32),\n",
       " (\" Franc et loyal, il s'éleva sans intrigue ; il se conduisit dans des temps de trouble de manière à mériter l'estime de tous les partis\",\n",
       "  -1),\n",
       " (' Il avait épousé Mme de Montendre, également distinguée par ses grâces et ses qualités estimables',\n",
       "  -1),\n",
       " (' Il en eut quatre fils ; il en perdit un, les trois autres servent le prince avec un zèle héréditaire',\n",
       "  32),\n",
       " (\" Il fut remplacé à l'Institut par M\", 9),\n",
       " (\" de Rossel, compagnon, continuateur et éditeur de l'Entrecasteaux\", -1)]"
      ]
     },
     "execution_count": 131,
     "metadata": {},
     "output_type": "execute_result"
    }
   ],
   "source": [
    "test_print = df_sent['Tuple_topic_sent'][0]\n",
    "test_print"
   ]
  },
  {
   "cell_type": "code",
   "execution_count": 132,
   "id": "reserved-complex",
   "metadata": {
    "scrolled": true
   },
   "outputs": [
    {
     "name": "stdout",
     "output_type": "stream",
     "text": [
      "\u001b[38;5;16m Louis-Antoine de Bougainville, sénateur, comte l'empire, grand - officier de la légion d'honneur, naquit à Paris, le 11 novembre 1729\n",
      "\u001b[38;5;0m \n",
      "\u001b[38;5;32m  Il était fils d'un notaire, échevin de Paris, et descendait d'une ancienne famille de Picardie\n",
      "\u001b[38;5;255m  Navigateur célèbre, officier - général de terre et de mer, associé libre de l'Académie des sciences, membre de l'Institut et du bureau des longitudes, tant de titres divers qu'il ne dut qu'à lui-même, et qui furent la récompense de longs travaux et d'actions d'éclat, font déjà un assez bel éloge, et prouvent que celui qui sut les mériter n'était en aucun genre un homme ordinaire\n",
      "\u001b[38;5;255m Encore au collège, il se faisait déjà remarquer par une aptitude égale pour les lettres et pour les sciences\n",
      "\u001b[38;5;61m  Son professeur expliquait un jour les phases de la lune et les diverses positions du croissant ; pour graver ces notions dans la mémoire de ses auditeurs, il leur citait deux vers latins\n",
      "\u001b[38;5;255m  Le jeune Bougainville se permit de les trouver très médiocres\n",
      "\u001b[38;5;41m  Défié d'en faire de meilleurs, il répondit presque aussitôt par quatre vers plus exacts, plus instructifs et plus poétiques surtout que le distique dont il avait osé plaisanter\n",
      "\u001b[38;5;255m  Au sortir du collège, il se fit recevoir avocat au parlement, par complaisance pour sa famille ; mais en même temps, pour obéir à ses propres goûts, il se faisait inscrire aux mousquetaires\n",
      "\u001b[38;5;53m  Le hasard l'avait fait voisin de Clairaut et de d'Alembert ; il se lia avec ces deux grands géomètres ; il les visitait souvent, profitait de leurs entretiens et de leurs écrits, et à l'âge de vingt-cinq ans il fit paraître la première partie de son Calcul intégral, pour servir de suite à l'analyse des infiniment petits de l'Hôpital\n",
      "\u001b[38;5;255m  La franchise, qui fut dans tous les temps un des traits les plus marqués de son caractère, lui fit déclarer dans sa préface que rien ne lui appartenait dans cet ouvrage, si ce n'est l'ordre qu'il avait tâché d'y mettre ; mais les commissaires de l'Académie attestaient, de leur côté, qu'en exposant les méthodes des différents géomètres, il avait su se les rendre propres par l'intelligence et la clarté avec lesquelles il les développait\n",
      "\u001b[38;5;255m  Outre ce témoignage flatteur, il trouvait encore une autre récompense dans la certitude d'être utile aux jeunes géomètres, qui manquaient absolument de guides pour pénétrer dans cette partie alors peu éclaircie de la science mathématique\n",
      "\u001b[38;5;255m  En le voyant nommé presque aussitôt aide major d'un bataillon de Picardie, aide-de-camp de Chevert, on put craindre qu'il n'abandonnât les sciences ; un voyage qu'il fit à Londres comme secrétaire d'ambassade, le lia de nouveau avec les savants ; il fut reçu de la Société royale, dont il eut le temps de devenir un des doyens\n",
      "\u001b[38;5;255m  L'année suivante, il rejoignit son général ; en 1756, il suivit Moncalm en Canada avec le titre de capitaine de dragons ; et la preuve que tant de fonctions diverses ne lui avaient pas fait négliger les sciences, c'est qu'à son départ pour l'Amérique, il avait livré à l'impression la seconde partie de son Calcul intégral, dont il pria Bézout de lire les épreuves en son absence\n",
      "\u001b[38;5;0m  M\n",
      "\u001b[38;5;0m  M\n",
      "\u001b[38;5;0m  M\n",
      "\u001b[38;5;0m  M\n",
      "\u001b[38;5;50m A peine arrivé en Amérique, on l'y voit, par une marche pénible autant que hardie sur les glaces et la neige ou à travers des bois presque impénétrables, s'avancer jusqu'au fond du lac Saint -Sacrement, et brûler une flottille anglaise sous le fort même qui la protégeait\n",
      "\u001b[38;5;16m  En 1768, un détachement de cinq mille Français se voyait depuis plusieurs jours poursuivi par une armée de vingt- quatre mille Anglais, Bougainville inspire à ses compagnons la résolution d'attendre courageusement l'ennemi ; on se fortifie à la hâte, en moins de vingt-heures ; l'Anglais est repoussé et contraint de se retirer avec une perte de six mille hommes, et Bougainville, qui, par ses conseils et ses exemples, avait eu tant de part à la victoire, reçoit à la tête, à la fin du combat, un coup de fou qui n'eut heureusement aucune suite dangereuse\n",
      "\u001b[38;5;255m  Cependant le gouverneur désespère de sauver la colonie s'il ne reçoit de prompts renforts\n",
      "\u001b[38;5;255m  Bougainville est envoyé en France pour les solliciter\n",
      "\u001b[38;5;255m  Il en revient avec le grade de colonel à la suite du régiment de Rouergue, et la croix de Saint -Louis accordée avant le temps, en considération de ses brillants services\n",
      "\u001b[38;5;63m  Moncalm le mit à la tête des grenadiers et des volontaires, pour couvrir la retraite de l'armée, forcée de se replier sur Québec ; il remplit cette mission avec son intrépidité et son bonheur accoutumés\n",
      "\u001b[38;5;255m  Mais bientôt la mort du général entraîne la perte de la colonie ; Bougainville revient en France, suit aussitôt M\n",
      "\u001b[38;5;46m  Choiseul de Stainville en Allemagne, continue de se signaler, et voit sa valeur récompensée par le don de deux pièces de canon\n",
      "\u001b[38;5;255m  La paix vient lui ôter les occasions qu'il savait si bien mettre à profit ; mais elle ne diminuera pas son activité\n",
      "\u001b[38;5;53m  Nous l'avons vu géomètre, guerrier, négociateur ; nous allons le voir fondateur d'une colonie\n",
      "\u001b[38;5;11m  Ses divers voyages en Amérique l'avaient lié avec les négociants et les armateurs de Saint -Malo\n",
      "\u001b[38;5;63m  Un navire sorti de ce port au commencement du siècle, avait mouillé à la côte sud -est d'un groupe d'îles visitées plus anciennement par les Anglais, qui les avaient nommées Virginie d'Hawkins, nom qu'ils ont depuis changé en celui d'iles de Falkland\n",
      "\u001b[38;5;63m  La situation favorable de ces îles avait fait naître l'idée d'y former un établissement\n",
      "\u001b[38;5;255m  La cour de France y songeait en 1763\n",
      "\u001b[38;5;255m  Bougainville offrit de le commencer à ses frais\n",
      "\u001b[38;5;16m  De société avec deux de ses parents, il fait armer à Saint -Malo deux bâtiments, il embarque quelques familles acadiennes, et le 3 avril 1764, il aborde à ces îles auxquelles il donna le nom de Malouines\n",
      "\u001b[38;5;255m  Elles étaient inhabitées ; aucune violence, aucune injustice ne marqua sa prise de possession\n",
      "\u001b[38;5;255m  Une pèche abondante, des oiseaux, d'abord sans défiance, et qui se laissaient prendre à la main, assurent les subsistances ; mais on y chercha en vain des bois de construction et de chauffage : on ne trouva que des roseaux et une tourbe excellente ; l'emplacement d'un fort est tracé ; on construit en terre les fortifications ; à l'exemple du chef, tous les colons, et l'aumonier lui-même, prennent part au travail ; au centre du fort s'élève un obélisque ; l'hémistiche tibi serviat ultila Thule se lit au-dessous du portrait du monarque ; l'inscription se termine par ce commencement d'un vers d'Horace : Conamur tenues grandia\n",
      "\u001b[38;5;255m  Ces premiers travaux terminés, Bougainville repasse en France, laissant à son parent le gouvernement de la colonie naissante\n",
      "\u001b[38;5;5m  L'année suivante, il revient avec des provisions et de nouveaux habitants\n",
      "\u001b[38;5;23m  Une excursion au détroit de Magellan lui procure des bois de construction et dix mille plants d'arbres de tout âge, secours précieux et indispensable pour l'établissement\n",
      "\u001b[38;5;255m  Une alliance est conclue avec les Patagons ; la plus grande partie des graines venues d'Europe s'étaient naturalisées ; divers essais de culture promettaient des succès ; la multiplication des bestiaux était certaine ; le nombre des habitants, porté de 80 à 150 ; mais ces accroissements, trop lents de leur nature, ne pouvait suffire à l'activité du fondateur ; depuis longtemps il était à Paris ; il y apprend que ces succès avaient alarmé les Espagnols, et qu'ils avaient porté des réclamations au gouvernement français\n",
      "\u001b[38;5;255m  Bougainville est chargé d'aller lui-même remettre son île\n",
      "\u001b[38;5;255m  La cour d'Espagne consent à lui rendre les fonds qu'il y avait placés ; à payer le prix des ouvrages qu'on lui cède ; et pour consolation, la cour de France lui permet de faire le tour du Monde\n",
      "\u001b[38;5;61m  On lui donne le commandement de la frégate la Boudeuse ; la flûte l'…toile doit se joindre à lui ; il y embarque le naturaliste Commerçon, et l'astronome Véron qu'il avait demandé pour essayer les nouvelles méthodes de longitude\n",
      "\u001b[38;5;255m  Ce fut le 3 mai 1766 que Bougainville remit aux Espagnols la colonie qui avait à peine deux ans d'existence, et dont il prévoyait avec douleur la décadence prochaine ; il regretta toute sa vie un observatoire qu'il voulait y bâtir, et que sa position par 51∞ de latitude australe devait rendre une succursale utile aux grands observatoires d'Europe\n",
      "\u001b[38;5;255m  Pour justifier ses regrets, pendant qu'il s'apprêtait à partir, il y voit pendant plusieurs jours une comète qui cessait d'être visible en Europe\n",
      "\u001b[38;5;16m  C'est la seconde comète de 1766 ; et Pingre, qui a rassemblé soigneusement toutes les observations faites à l'Isle- de- France, paraît avoir ignore la mention qu'on en trouve dans le Voyage autour du Monde\n",
      "\u001b[38;5;255m  Depuis que ses projets étaient renversés, son île ne pouvait l'intéresser que médiocrement ; toutes ses pensées étaient tournées vers l'expédition brillante qu'il allait entreprendre ; mais la flûte l'Etoile, qui devait lui apporter des vivres, n'arrivait pas : il jugea que quelque obstacle l'avait empêchée de se rendre aux Malouines, et qu'il devait lui-même aller la chercher à Mont -Video, Il se résolut pour la rejoindre à faire une course qui ne pouvait être moindre de huit cents lieues, et qui fut en effet de douze cents, car il devait revenir sur ses traces, et repasser presqu'à la vue des Malouines pour pénétrer par le détroit de Magellan dans la mer Pacifique ; mais outre que ce parti convenait mieux à son inquiète activité, il dut peu regretter un détour qui le rendit témoin d'une scène dont la renommée se répandit bientôt dans tous les Etats chrétiens, et dont il put recueillir toutes les circonstances\n",
      "\u001b[38;5;255m  A peine il arrivait à Buenos-Aires, qu'il fut témoin de l'arrestation des Jésuites du Paraguay\n",
      "\u001b[38;5;32m  En homme franc et libre de préjugés, il rapporte avec impartialité tout ce qu'on peut dire en faveur du gouvernement des pères dans leurs missions ; il ne dissimule pas davantage les reproches que ce gouvernement pouvait mériter\n",
      "\u001b[38;5;255m  ´ Mais sa plume se refuse au détail de tout ce que le public prétendait avoir été trouvé dans les papiers saisis chez les Jésuites ; les haines lui paraissent trop récentes pour qu'on puisse discerner les fausses imputations d'avec les véritables ; il aime mieux rendre justice à la plus grande partie des membres de la société, qui, n'étant point dans le secret des chefs, témoignèrent la plus parfaite résignation, et ne surent que s'humilier sous la main qui les frappait\n",
      "\u001b[38;5;16m  ª Sept mois après son départ il se retrouvait non loin des Malouines, vis-à-vis le cap des Vierges, à l'entrée du détroit de Magellan\n",
      "\u001b[38;5;61m  Là, par des distances observées de la lune au soleil, on détermina de nouveau la longitude, et l'on fixa le point du vaisseau\n",
      "\u001b[38;5;255m  Le passage du détroit fut pénible ; des brumes épaisses des vents impétueux forcent à louvoyer et sonder sans cesse et la marée fait perdre le plus souvent le peu d'avance qu'on a gagné avec tant de peine\n",
      "\u001b[38;5;255m  Les feux allumés par les Patagons aident les navigateurs à prendre terre\n",
      "\u001b[38;5;255m  Ils sont bien reçus par les naturels, et Bougainville en conserva toujours une tendre reconnaissance\n",
      "\u001b[38;5;255m  Cette entrevue les réhabilite aux yeux du lecteur qui les avait jugés moins bons et moins sûrs dans leurs premières relations avec les députés de la colonie\n",
      "\u001b[38;5;63m  C'est là que commencent les découvertes : les noms imposés aux îles, aux baies, aux détroits, commencent à montrer des monuments du passage des Français et de leurs travaux pour l'avancement de la géographie ; mais un ciel ingrat rend presque inutiles tous les travaux de l'astronome Véron et tous ses préparatifs dans l'île, qui fut nommée de l'Observatoire\n",
      "\u001b[38;5;255m Les ouragans accompagnèrent nos voyageurs jusqu'à la sortie du détroit qui ne fut pas moins périlleuse que l'entrée\n",
      "\u001b[38;5;255m  Cette traversée, que le navigateur estime de cent trente-deux lieues, fut l'ouvrage de cinquante - deux jours d'une navigation laborieuse, qui du moins n'avait point altéré la santé des équipages ; à l'entrée dans la mer Pacifique,personne n'était sur les cadres\n",
      "\u001b[38;5;255m  La navigation devient alors plus facile et plus fructueuse ; les découvertes se multiplient, on en constate quelques-unes sur lesquelles les avis des navigateurs étaient partagés\n",
      "\u001b[38;5;63m  Le chef marque de son cachet les îles qu'il rencontre ; on les reconnaît aux dénominations des Quatre Facardins et du Boudoir\n",
      "\u001b[38;5;63m  Il aperçut cette dernière île deux jours avant d'aborder à Tahiti\n",
      "\u001b[38;5;255m  On commençait à sentir le besoin le plus urgent d'une relâche, et il était difficile d'en rencontrer une qui pût mieux consoler des maux passés\n",
      "\u001b[38;5;63m  On sait assez quelle est dans cette île la manière dont on exerce l'hospitalité\n",
      "\u001b[38;5;67m  Malgré l'embarras et l'espèce de honte que montrèrent d'abord les matelots, le narrateur n'oserait répondre que personne dans son équipage ne se vît conformé aux usages du pays ; et quand on voit le récit de sa visite au bon prince Tatoua, on est tenté de croire qu'il n'a pas voulu affliger par un refus l'hôte qui l'accablait de tant de prévenance\n",
      "\u001b[38;5;255m Une si bonne réception était accompagnée de quelques inconvénients ; si la terre n'offrait rien que d'agréable, le peu de sûreté d'un mouillage qui coûta six ancres en neuf jours inquiétait continuellement, et l'on quitta la Nouvelle- Cythère avec autant d'empressement qu'on en avait mis à y aborder\n",
      "\u001b[38;5;255m  Ce qui dut prolonger chez nos navigateurs le souvenir d'une relâche si remarquable, ce qui les mit à portée de s'instruire plus à fond des múurs et de la langue du pays, ce fut la résolution que prit un jeune insulaire de partir avec eux\n",
      "\u001b[38;5;255m  Il se nommait Aotourou ; il est plus connu sous le nom de Poutaveri, c'est ainsi qu'il nommait son ami Bougainville\n",
      "\u001b[38;5;255m  Un obstacle naturel l'empêcha toujours de prononcer mieux un nom qu'il avait sans cesse à la bouche\n",
      "\u001b[38;5;255m  Ce jeune homme intéressant dut les amuser souvent dans la traversée par ses récits, et leur fut quelquefois utile par les connaissances qu'il avait\n",
      "\u001b[38;5;63m  On remarqua qu'il donnait des noms de sa langue aux étoiles les, plus brillantes, et qu'il avait dû faire plusieurs voyages aux îles voisines dont il indiquait la position, ainsi que les múurs de leurs habitants\n",
      "\u001b[38;5;16m  Aotourou resta onze mois à Paris\n",
      "\u001b[38;5;255m  L'empressement pour le voir fut vif, mais stérile\n",
      "\u001b[38;5;36m  Son patron ne négligea rien pour lui rendre agréable son séjour en France\n",
      "\u001b[38;5;255m  Aotourou payait ces attentions par la plus vive reconnaissance et par les historiettes plaisantes dont il laissa une collection qu'on entendait toujours avec plaisir, mais dont Bougainville n'a pas jugé à propos d'orner la relation de son voyage\n",
      "\u001b[38;5;63m  Rien ne fut omis pour assurer son retour dans son île\n",
      "\u001b[38;5;255m  Les recommandations les plus fortes, ne somme de 36,000 livres que Bougainville avança de ses propres deniers sans avoir la certitude qu'elle dût jamais lui être remboursée, les soins que se donna M\n",
      "\u001b[38;5;63m  Poivre, qui le reçut à l'Isle-de-France, ni ceux du capitaine Marcon qui s'était chargé de le remettre dans son île, rien ne put le soustraire à sa malheureuse destinée ; il mourut de la petite vérole dans la traversée\n",
      "\u001b[38;5;255m  Tel avait été le sort de deux autres insulaires partis avec un capitaine anglais qui avait visité Tahiti huit mois avant Bougainville\n",
      "\u001b[38;5;63m  Après cette île, la navigation ne peut offrir de longtemps rien qui soit d'un intérêt si général\n",
      "\u001b[38;5;255m  Les dangers seuls viennent interrompre la monotonie des détails nautiques\n",
      "\u001b[38;5;255m  Ces dangers sont tels, que M\n",
      "\u001b[38;5;255m  Bougainville ne veut plus faire sonder, parce que la certitude du péril ne l'eût pas diminué\n",
      "\u001b[38;5;255m  On commençait à redouter le plus horrible de tous, la faim\n",
      "\u001b[38;5;255m  On est obligé de réduire les rations, de changer de route, et de renoncer à la découverte d'un passage qu'on soupçonnait et qu'on cherchait depuis longtemps\n",
      "\u001b[38;5;63m  La gloire en était réservée à Cook, qui le rencontra fort heureusement à l'instant où son vaisseau était menacé de se perdre\n",
      "\u001b[38;5;255m  Un danger pareil attendait Bougainville, si le défaut de vivres ne fût à propos survenu pour l'en garantir\n",
      "\u001b[38;5;63m  On échappe enfin ; un cap reçoit le nom de la Délivrance ; mais le scorbut commençait à se répandre parmi les équipages\n",
      "\u001b[38;5;63m  Heureusement on trouve un passage à travers les îles Papous, et l'on entre dans la mer des Moluques\n",
      "\u001b[38;5;63m  Bourou présente une relâche délicieuse, où, malgré les ordres sévères qui excluent tout navire étranger, le résident permet qu'on se repose après tant de fatigues\n",
      "\u001b[38;5;255m  Aotourou, transporté à la vue de tant d'objets nouveaux, demande si Paris est plus beau que Bourou ; mais bientôt son enthousiasme pour les possessions hollandaises se refroidit à la vue des maladies causées par l'air mal sain de Batavia, à laquelle il donne le nom d'Enoua maté, terre qui tue\n",
      "\u001b[38;5;255m  De Batavia, les vaisseaux passent à l'Isle-de-France, au cap de Bonne-Espérance, et à Saint-Malo, où ils abordent le 16 mars 1769, après une navigation de deux ans et quatre mois, qui n'a coûté que sept hommes sur plus de deux cents\n",
      "\u001b[38;5;255m  Ainsi finit cette expédition brillante dont les avantages, les dangers, l'audace, et le bonheur, viennent d'être justement appréciés par un bon juge dans l'article Bougainville de la nouvelle biographie\n",
      "\u001b[38;5;16m  C'était le premier voyage où les Français eussent fait le tour du Monde, c'est-à-dire, traversé les 360∞ de longitude, et tous les méridiens de la terre\n",
      "\u001b[38;5;36m  Cette expédition plaça M\n",
      "\u001b[38;5;255m  de Bougainville au rang des plus grands navigateurs, et cependant c'était en quelque sorte son apprentissage\n",
      "\u001b[38;5;38m  La relation qu'il en donna fut lue avidement, et traduite aussitôt par M\n",
      "\u001b[38;5;16m  Forster ; car dans une seconde édition, qu'il en donna lui-même en 1772, il répond à quelques remarques de son traducteur\n",
      "\u001b[38;5;255m  Le style en est simple et naturel ; il y montre son caractère, son intrépidité, son mépris pour les dangers, qu'il a plutôt l'air de chercher ; son penchant à saisir en toute chose le côté plaisant ; sa bonté, sa gaîté qui maintinrent toujours la confiance, la subordination et la joie dans son équipage, dont il soignait les plaisirs comme la santé\n",
      "\u001b[38;5;255m  Cependant, pour connaître à fond toutes les qualités aimables de l'auteur, il fallait l'entendre lui- même commenter quelques parties de ce voyage célèbre\n",
      "\u001b[38;5;255m  On a remarqué avec raison que les cartes et les déterminations géographiques, à la réserve des latitudes, sont la partie faible de cet ouvrage\n",
      "\u001b[38;5;61m  Mais il est juste aussi de remarquer qu'il faisait un voyage de découverte et non un de ces voyages de reconnaissance où l'on emploie des mois entiers à la description d'une île ou d'un rivage ; que des temps affreux et des dangers continuels ont rendu inutiles presque toutes ses tentatives astronomiques ; que la science des longitudes ne faisait que de naître ; que les tables de la lune n'étaient pas encore portées au point de perfection où nous les voyons ; que les navigateurs n'avaient aucun des secours qu'on leur prodigue aujourd'hui ; qu'ils avaient encore tout l'embarras des calculs avec lesquels ils n'étaient rien moins que familiarisés ; que M\n",
      "\u001b[38;5;61m  Bougainville donna le premier en France l'exemple d'embarquer un astronome pour essayer des méthodes dont il était bien fait pour sentir le prix, mais dont on n'avait encore pu recueillir aucun fruit\n",
      "\u001b[38;5;255m  A son retour, la France était en paix\n",
      "\u001b[38;5;5m  Une vie errante et agitée lui avait fait perdre le goût des mathématiques ; il se livra à des plaisirs qu'il n'avait guère eu le loisir de connaître dans ses premières années\n",
      "\u001b[38;5;255m  Sa célébrité, son humeur chevaleresque, le firent admettre dans la plus haute société ; il en adopta l'esprit et les múurs dont sa conversation traçait si souvent des peintures si piquantes ; mais cette activité si infatigable qui le portait à se distinguer, quelque chose qu'il entreprît, trouva bientôt un aliment plus digne de son caractère quand la France embrassa la cause de l'Amérique\n",
      "\u001b[38;5;63m  Sous les amiraux Lamothe- Piquet, d'Estaing, et de Grasse, il fut successivement chargé du commandement des vaisseaux le Bien-Aimé, le Languedoc, le Guerrier, et l'Auguste\n",
      "\u001b[38;5;255m  Sur la demande de d'Estaing, il fut nommé chef d'escadre ; la même année il reçut le grade de maréchal-de-camp\n",
      "\u001b[38;5;16m  Commandant l'avant-garde au combat naval de la Chesapeak (en 1781), il repoussa vivement l'avant-garde anglaise, et le comte de Grasse lui rendit hautement ce témoignage, qu'il avait contribué plus que personne à la victoire\n",
      "\u001b[38;5;63m  Enfin, dans la journée désastreuse du 12 avril 1781, où l'on reprocha au général de s'être plus occupé de son vaisseau que de son escadre, et à quelques parties de l'escadre de n'avoir pas assez puissamment secondé le général ; Bougainville, qui commandait l'arrière-garde, prit cependant à l'action toute la part qui dépendait de lui ; par une manúuvre audacieuse, il eut la gloire de sauver le Northumherland, et quoique l'Auguste, qu'il commandait, fût l'un des vaisseaux les plus mal traités de toute la flotte, il rallia et conduisit à Saint-Eustache une partie de l'escadre battue\n",
      "\u001b[38;5;52m  La paix, qui assura la liberté de l'Amérique, vint lui rendre des loisirs qui ranimèrent en lui le goût des sciences ; l'Académie lui conféra le titre d'associé libre\n",
      "\u001b[38;5;255m  Lagrange, dont il demanda la voix, lui dit alors ces mots qui durent le flatter autant que son admission : ´ C'était à moi d'être reçu par vous à l'Académie, puisque ce sont vos ouvrages qui m'ont ouvert la carrière\n",
      "\u001b[38;5;52m  ª Ce fut vers ce temps que pour servir les sciences d'une manière qui ne pût être qu'à lui, il forma le projet de braver les glaces du nord et de pénétrer jusqu'au pôle\n",
      "\u001b[38;5;61m  Un astronome distingué s'était offert à l'accompagner, déjà son plan était tracé ; il avait marqué deux routes différentes\n",
      "\u001b[38;5;255m  Le ministre n'accéda point à ses propositions, et la société royale de Londres lui demanda ses plans\n",
      "\u001b[38;5;36m  Il les transmit en indiquant la route qu'il préférait\n",
      "\u001b[38;5;63m  Le capitaine Phlips ( lord Mulgrave) chargé de l'expédition, préféra l'autre ; mais il ne put s'élever que jusqu'au quatre-vingtième degré\n",
      "\u001b[38;5;255m  Blâmerons-nous ou remercierons-nous le ministre qui déconcerta ce projet hardi ? Moins sensibles que le célèbre navigateur au mérite qu'on peut trouver à vaincre des difficultés réputées insurmontables, et ne regardant les dangers de cette expédition que comme un des inconvénients les plus graves quand ils ne sont pas rachetés par un grand objet d'utilité, nous croyons cette utilité tout au moins problématique : est -il bien sûr que le 90∞ degré puisse offrir des phénomènes qu'on n'ait pu tout aussi bien observer à dix degrés du pôle\n",
      "\u001b[38;5;61m  Supposons pourtant tous les obstacles surmontés et l'astronome arrivé à ce point si difficile à reconnaître où il verra tout le ciel tourner horizontalement autour de lui où les étoiles toujours les mêmes seront toujours à la même hauteur, où le choix d'un méridien devient arbitraire, où les planètes ne sont visibles que clans la moitié de leurs révolutions, et seront pendant des mois ou même des années cachées à l'observateur, si même elles ne le sont toujours par les brumes ou les nuages, quel fruit pourrait -il retirer de tant de fatigues et de privations ? Quelques observations rares de réfractions, quelques expériences incertaines ou au moins fort difficiles de l'aiguille aimantée, passeront-elles pour un véritable dédommagement ? Sachons donc quelque gré au ministre économe ou timide qui n'a pas voulu qu'un homme aussi distingué s'exposât sans un motif assez apparent d'utilité\n",
      "\u001b[38;5;255m  Croyons que M\n",
      "\u001b[38;5;255m  Bougainville lui-même eût modifié son projet suivant les obstacles qu'il aurait rencontrés ; alors il eût encore ajouté à sa gloire en montrant tout ce que pouvait l'industrie et l'audace humaine, et les savants qui l'auraient accompagné auraient pu trouver un emploi utile de leur temps, et la récompense de leur dévouement dans la découverte de quelque vérité nouvelle\n",
      "\u001b[38;5;63m On sait quel esprit d'insubordination s'était glissé dans la marine française et dans la flotte de Brest, commandée par M\n",
      "\u001b[38;5;0m  Albert de Riom\n",
      "\u001b[38;5;255m  Bougainville par sa réputation, son courage et sa fermeté, mélangée de qualités aimables, parut le seul homme capable de faire rentrer nos marins dans le devoir\n",
      "\u001b[38;5;13m  Il se présenta aux séditieux avec des succès qui ne furent pas de longue durée\n",
      "\u001b[38;5;31m  Les esprits étaient trop égarés, trop excités peut-être pour entendre la voix à laquelle dans d'autres temps ils auraient obéi avec joie\n",
      "\u001b[38;5;255m  Bougainville vit que c'était l'instant de se retirer du service ; cependant son nom fut encore porté en 1791 dans la liste des vice-amiraux\n",
      "\u001b[38;5;67m  Cette dernière distinction redoubla son dévouement pour un prince que tout abandonnait, et à qui, dans les circonstances les plus orageuses, il ne cessa de donner des preuves de la plus courageuse affection\n",
      "\u001b[38;5;16m  …chappé, comme par miracle, aux massacres de 1792, il se réfugia dans sa terre de Normandie, où il retrouva ses deux pièces de canon, seule récompense qui lui restât pour quarante ans de service\n",
      "\u001b[38;5;255m Là il attendait le retour de la tranquillité, lorsqu'il fut nommé, comme ancien navigateur, à l'une des places du bureau des longitudes\n",
      "\u001b[38;5;255m  Mais, soit qu'il ne jugeât pas encore le calme assez assuré, soit que le soin de ce qui lui restait de fortune lui défendît de quitter ses possessions, il envoya sa démission, fut remplacé par M\n",
      "\u001b[38;5;255m  le comte de Fleurieu, et remplaça lui-même bientôt après M\n",
      "\u001b[38;5;0m  de Borda\n",
      "\u001b[38;5;255m  Les temps de la régénération étaient arrivés ; on s'empressait de réparer tant de ruines : l'Institut venait d'être créé pour tenir lieu de toutes les académies\n",
      "\u001b[38;5;255m  de Bougainville y fut nommé à une place de navigation et de géographie\n",
      "\u001b[38;5;52m  Comme président de la classe des sciences, il eut l'honneur de porter la parole dans une occasion encore unique dans les fastes littéraires\n",
      "\u001b[38;5;255m  Il avait assisté constamment à toutes les séances de la commission chargée de rédiger le rapport qui fut porté au pied du trône\n",
      "\u001b[38;5;16m  Il ne montra pas moins d'assiduité à présider pendant dix-huit mois une autre commission chargée d'un travail plus délicat\n",
      "\u001b[38;5;18m  Toujours le premier au rendez-vous, le plaisir qu'on prenait à l'entendre empêchait qu'on ne remarquât si l'heure du travail avait été retardée par ceux qui n'avaient pas été si ponctuels\n",
      "\u001b[38;5;255m  Sénateur et grand- officier de la légion d'honneur, dès la création, il avait tout ce qui peut consoler de vieillir ; loisir et dignité ; mais son ardeur n'était pas éteinte : il avait encore tout le feu et la vivacité de la jeunesse\n",
      "\u001b[38;5;255m  Il brûlait de diriger on départager quelque entreprise maritime bien hasardeuse, et quand ses amis lui objectaient son âge, il répondait que Nestor n'avait pas été inutile dans une armée qui avait Achille, Ajax, et Diomède\n",
      "\u001b[38;5;67m  Il est douteux que le vieux roi de Pylos eût conservé au même degré ses forces et son courage ; plus douteux encore que ses discours aient toujours fait aux héros grecs le plaisir qu'auraient pris nos jeunes marins à ceux de Bougainville\n",
      "\u001b[38;5;16m  Quoiqu'à beaucoup d'égards, il se ménageât trop peu, il était d'une tempérance et d'une sobriété rares qui nous donnaient l'espoir de le conserver longtemps ; nous le perdîmes le 31 août 1811, après dix jours d'une maladie aiguÎ, qui lui laissa jusqu'à son dernier moment toute sa connaissance et toute sa vivacité\n",
      "\u001b[38;5;26m  Souvent il m'avait parlé du dessein où il était de me remettre tous ses journaux et ses mémoires\n",
      "\u001b[38;5;255m  Cette promesse m'ôta le courage de me présenter à lui quand je le sus en danger, quoique je prévisse combien je perdais par cette réserve\n",
      "\u001b[38;5;2m  Espérons que quelque main plus habile saura faire un usage heureux de ces matériaux qui ne doivent pas être perdus\n",
      "\u001b[38;5;32m Excellent père, ami chaud et constant, bon confrère, sans cesse occupé des intérêts de la science et de ceux des savants il saisissait ou faisait naître les occasions de leur être utile\n",
      "\u001b[38;5;255m  Franc et loyal, il s'éleva sans intrigue ; il se conduisit dans des temps de trouble de manière à mériter l'estime de tous les partis\n",
      "\u001b[38;5;255m  Il avait épousé Mme de Montendre, également distinguée par ses grâces et ses qualités estimables\n",
      "\u001b[38;5;32m  Il en eut quatre fils ; il en perdit un, les trois autres servent le prince avec un zèle héréditaire\n",
      "\u001b[38;5;9m  Il fut remplacé à l'Institut par M\n",
      "\u001b[38;5;255m  de Rossel, compagnon, continuateur et éditeur de l'Entrecasteaux\n"
     ]
    }
   ],
   "source": [
    "for sent, topic in test_print:\n",
    "    print(colors[topic] + sent)"
   ]
  },
  {
   "cell_type": "code",
   "execution_count": 133,
   "id": "familiar-phoenix",
   "metadata": {},
   "outputs": [
    {
     "data": {
      "text/plain": [
       "[('card', 0.23779263589947455),\n",
       " ('moi', 0.04487195005106902),\n",
       " ('mois', 0.044543243264461546),\n",
       " ('naître', 0.03410610713869314),\n",
       " ('année', 0.03287738091163235),\n",
       " ('être', 0.03157842945915868),\n",
       " ('an', 0.02972283519152572),\n",
       " ('science', 0.029487347654037002),\n",
       " ('mourir', 0.029034146370016653),\n",
       " ('mémoire', 0.025537598311610243)]"
      ]
     },
     "execution_count": 133,
     "metadata": {},
     "output_type": "execute_result"
    }
   ],
   "source": [
    "top_n_words[test_print[0][1]][:10]"
   ]
  },
  {
   "cell_type": "code",
   "execution_count": 134,
   "id": "apparent-romantic",
   "metadata": {},
   "outputs": [],
   "source": [
    "test_print_1 = df_sent['Tuple_topic_sent'][1]\n"
   ]
  },
  {
   "cell_type": "code",
   "execution_count": 135,
   "id": "headed-lafayette",
   "metadata": {
    "scrolled": true
   },
   "outputs": [
    {
     "name": "stdout",
     "output_type": "stream",
     "text": [
      "\u001b[38;5;16m Névil Maskelyne, docteur en théologie, membre du collège de la Trinité à Cambridge, de la Société royale de Londres, l'un des huit associés étrangers de l'Académie des Sciences et de la Classe des Sciences physiques et mathématiques de l'Institut royal, astronome royal d'Angleterre était né à Londres le 6 octobre 1732, d'une ancienne famille établie depuis longtemps dans la partie occidentale de l'Angleterre\n",
      "\u001b[38;5;0m \n",
      "\u001b[38;5;0m  M\n",
      "\u001b[38;5;0m  M\n",
      "\u001b[38;5;0m  M\n",
      "\u001b[38;5;0m  M\n",
      "\u001b[38;5;0m  M\n",
      "\u001b[38;5;0m  M\n",
      "\u001b[38;5;0m  M\n",
      "\u001b[38;5;0m  M\n",
      "\u001b[38;5;0m  M\n",
      "\u001b[38;5;0m  M\n",
      "\u001b[38;5;0m  M\n",
      "\u001b[38;5;0m  M\n",
      "\u001b[38;5;0m  M\n",
      "\u001b[38;5;0m  Maskelyne\n",
      "\u001b[38;5;0m  M\n",
      "\u001b[38;5;255m  Il fut placé à l'âge de neuf ans à l'école de Westminster, où il ne tarda guère à se distinguer\n",
      "\u001b[38;5;255m  Il montra de bonne heure son goût pour l'optique et l'astronomie ; mais ce qui décida sa vocation, ce fut l'éclipsé de soleil de 1748, qui fut de dix doigts à Londres\n",
      "\u001b[38;5;255m  Il est à remarquer que cette éclipse produisit le même effet sur l'esprit de Lalande, plus âgé de trois mois seulement que Maskelyne ; et l'on peut dire avec vérité que jamais phénomène céleste ne fut plus utile à la science que l'éclipsé qui lui donna ces deux astronomes singulièrement distingués, quoique dans des genres différents, dont l'un a beaucoup écrit, longtemps professé, formé un grand nombre d'élèves, mais observé très -peu ; tandis que le second, qui a moins écrit, nous a laissé clans son Recueil d'observations le monument le plus vaste et le plus précieux qui existe en ce genre\n",
      "\u001b[38;5;255m  Maskelyne sentit combien les mathématiques lui seraient nécessaires dans la carrière où il se proposait d'entrer ; il se mit donc de lui-même à les étudier, et au bout de quelques mois, il possédait les éléments de géométrie et d'algèbre\n",
      "\u001b[38;5;61m  Ces premiers succès étaient le gage de ceux qu'il ne pouvait manquer d'obtenir en étudiant les principaux traités d'astronomie et d'analyse plus relevée, dont il fit sa lecture habituelle\n",
      "\u001b[38;5;10m  C'est alors qu'il se rendit à Cambridge, où il fut admis d'abord a Catherine - Hall, et puis au collège de la Trinité, où il reçut avec applaudissement le titre de bachelier ès-arts\n",
      "\u001b[38;5;16m  En 1755, il accepta une cure dans les environs de Londres ; il y résida pendant quelques années, donnant tous ses loisirs à son étude favorite\n",
      "\u001b[38;5;61m  Ce fut aussi vers ce temps qu'il se lia avec le grand astronome Bradley, pour lequel il paraît qu'il fit plusieurs calculs importants\n",
      "\u001b[38;5;16m  En 1768, il fut reçu membre du collège de la Trinité, à Cambridge, et l'année suivante, membre de la Société royale de Londres\n",
      "\u001b[38;5;16m  Mais c'est à l'année 1 761 que commence véritablement sa carrière astronomique, lorsqu'il fut choisi pour aller à l'île de Sainte-Hélène observer le passage de Vénus\n",
      "\u001b[38;5;255m  Pour tirer plus d'utilité de ce voyage, il offrit à la Société royale de faire des recherches sur la parallaxe de Sirius\n",
      "\u001b[38;5;255m  Cette belle étoile avait été fréquemment observée par La Caille au cap de Bonne-Espérance\n",
      "\u001b[38;5;255m  Maskelyne, en calculant ces observations, crut y remarquer la preuve d'une parallaxe de 4∞5, d'où il résulterait pour Sirius une distance à la terre beaucoup moindre qu'on ne croit communément\n",
      "\u001b[38;5;255m  Toutefois, en rendant une justice franche et entière à notre célèbre astronome, et à l'excellent ouvrage où ces observations sont consignées, il remarquait avec justesse que ces observations faites dans une autre vue, ne sont ni assez nombreuses, ni placées dans des circonstances assez favorables pour bien constater la parallaxe, et que les variations qu'on y remarque, quoiqu'assez régulières en général pourraient cependant provenir en partie des erreurs inévitables de l'observation\n",
      "\u001b[38;5;55m  L'abbé de La Caille, apprenant le projet de Maskelyne, écrivit à Wakson, leur ami commun, de lui recommander les passages de la lime au méridien, pour vérifier aussi la parallaxe de cet astre qu'il avait lui-même, avec tant de soins et de succès, déterminée au cap de Bonne-Espérance ; il lui envoyait en même temps une note des observations qu'il jugeait utiles, donnant ainsi une preuve éclatante de cet amour de la vérité, auquel il sacrifiait en toute occasion son temps, son repos et jusqu'aux intérêts de son amour-propre\n",
      "\u001b[38;5;61m  Maskelyne, de son côté, prenait des précautions semblables ; et, sans savoir qu'il était prévenu, il faisait passer aux astronomes français la note des observations qu'il leur recommandait, ainsi que La Caille en avait donné l'exemple huit ans auparavant\n",
      "\u001b[38;5;255m Les nuages empêchèrent l'observation du passage de Vénus, qui avait été l'occasion et le prétexte du voyage ; mais M\n",
      "\u001b[38;5;58m  Maskelyne, muni d'une excellente pendule de Shelton, réglée à Greenwich par Bradley, et qui avait été transportée avec tous les soins imaginables, détermina le nombre d'oscillations qu'elle faisait de moins à Sainte-Hélène qu'à Londres, pour en conclure la diminution de la pesanteur\n",
      "\u001b[38;5;255m  L'objet secondaire du voyage était la parallaxe de Sirius ; cette observation manqua comme la première, elle donna lieu du moins à une remarque utile et curieuse\n",
      "\u001b[38;5;61m  Pour reconnaître si l'étoile Sirius avait une parallaxe sensible, il fallait avoir un instrument plus parfait que celui de La Caille ; il fallait observer l'étoile dans des circonstances choisies ; ce dernier point dépendait de l'astronome, le premier dépendait de l'artiste\n",
      "\u001b[38;5;255m  La Société royale avait tout ex- près fait construire un secteur qui ne fut terminé qu'à l'instant même du départ, et ne put être vérifié à Greenwich\n",
      "\u001b[38;5;255m  Quelle fut la surprise de M\n",
      "\u001b[38;5;255m  Maskelyne quand il vit que cet instrument, destiné aux recherches les plus délicates, lui donnait d'un jour à l'autre des différences de 10, 20 et 30\" dans la mesure d'un même angle\n",
      "\u001b[38;5;16m  En examinant avec soin quelle pouvait être la cause de ces variations singulières, il la démêla sans peine, s'en assura par des épreuves certaines s'attacha à la faire disparaître, mais n'y put réussir qu'en partie ; il réduisit les erreurs à 3\", ce qui était loin de suffire pour l'objet qu'il s'était proposé \n",
      "\u001b[38;5;255m  Il se voyait donc contraint encore de renoncer à ce second projet, mais du moins il résulta de cette contrariété une amélioration sensible dans cette partie de la construction des instruments astronomiques\n",
      "\u001b[38;5;255m  …clairé par cette triste expérience, il demanda si le secteur de La Caille n'avait pas le même défaut, et il devinait juste ; mais au lieu de cylindre, La Caille n'avait qu'une aiguille très fine, qui ne pouvait guère produire que des erreurs de 2\"\n",
      "\u001b[38;5;255m  Il demandait encore si le secteur que nos académiciens avaient porté au cercle polaire en 1736, n'était pas d'une construction pareille, et sa conjecture était encore juste ; mais les dimensions du cylindre n'étant pas d'une demi- ligne, il n'en avait pu résulter que des erreurs quatre fois moindres que celles qu'on a voulu reprocher à cette opération depuis qu'elle a été recommencée par M\n",
      "\u001b[38;5;255m  Svanberg, avec le cercle répétiteur\n",
      "\u001b[38;5;61m  Il ne pouvait donc plus songer à la parallaxe de la lune, pas plus qu'à celle de Sirius : cependant, pour entrer autant qu'il lui était possible dans les vues de La Caille, il eut recours à l'observation des ascensions droites\n",
      "\u001b[38;5;61m  Il sentit sans doute que ce moyen ne pouvait entrer en comparaison avec celui de l'astronome français ; car il n'a jamais parlé des résultats qu'il avait obtenus, quoiqu'il ait depuis répété ces observations dans son voyage aux Barbades\n",
      "\u001b[38;5;61m  S'il eut le chagrin de voir tous ses projets renversés sans qu'il y eût de sa faute, il sut du moins, à l'exemple de La Caille, rendre sa traversée utile à la science des longitudes ; il fit l'essai des différentes méthodes qu'on avait proposées pour ce problème ; il confirma toutes les conclusions tirées par La Caille en faveur des distances de la lune au soleil ; et comme il avait en sa possession des instruments beaucoup plus précis, il put assurer que les erreurs de la méthode étaient renfermées dans des limites bien plus étroites\n",
      "\u001b[38;5;44m  Il donna des formules nouvelles pour calculer ces observations, et poussa même le scrupule jusqu'à calculer séparément d'abord l'effet de la réfraction, et puis celui de la parallaxe\n",
      "\u001b[38;5;255m  A son retour, il publia son Guide du Marin , dans lequel il proposait à l'Angleterre d'adopter le plan d'Almanach nautique, tracé par La Caille, après son voyage au cap de Bonne - Espérance\n",
      "\u001b[38;5;255m  La même année il fit aux Barbades un Voyage dont l'objet était d'essayer les horloges marines d'Harrisson\n",
      "\u001b[38;5;255m  Le rapport qu'il fit à son retour, quoique favorable en gênerai à l'artiste célèbre dont il avait dû soumettre l'invention à l'examen le plus sévère, fut loin de contenter Harrisson, qui l'attaqua dans un pamphlet : M\n",
      "\u001b[38;5;36m  Maskelyne ré- pondit\n",
      "\u001b[38;5;63m  Les marins et les savants prirent parti pour ou contre, selon leurs idées ou leurs habitudes\n",
      "\u001b[38;5;36m  de Fleurieu, lié particulièrement avec F\n",
      "\u001b[38;5;255m  Berthoud, et tout dévoué à la cause des horloges, oublia peut-être en cette occasion sa modération accoutumée\n",
      "\u001b[38;5;255m  C'était un grand procès entre deux méthodes utiles et faites pour se prêter des secours mutuels\n",
      "\u001b[38;5;255m  Maskelyne ne trouvait pas les horloges assez sûres ni assez régulières\n",
      "\u001b[38;5;255m  Harrisson prétendait, non sans quelque raison, qu'elles l'étaient dans les limites posées par l'acte du parlement\n",
      "\u001b[38;5;255m  Il demandait la récompense entière, qui lui fut accordée depuis, mais dont on ne lui donnait alors que la moitié\n",
      "\u001b[38;5;255m  En plaidant sa cause, il attaquait les méthodes astronomiques ; il se prévalait de quelques aveux de La Caille qui, avec sa franchise incorruptible, et tout en vantant la méthode des distances, convenait des erreurs qu'elle lui avait données quelquefois\n",
      "\u001b[38;5;27m  Maskelyne prouvait, par son expérience, que les erreurs seraient beaucoup moindres avec des instruments meilleurs que celui de La Caille, et tels que l'on commençait à les construire à Londres\n",
      "\u001b[38;5;61m  Il est possible que dans cette lutte de la mécanique et de l'astronomie, on ait été, de part et d'autre, un peu trop loin\n",
      "\u001b[38;5;16m  Les horloges donnaient tout ce que demandait l'acte de 1714, et nul doute que si, à cette époque, Harrisson eût présenté sa machine, elle n'eût obtenu, sans difficulté, la récompense toute entière\n",
      "\u001b[38;5;255m  Mais cinquante ans après, quand les instruments étaient perfectionnés, quand les tables lunaires avaient reçu des améliorations inespérées, n'était-on pas excusable de se montrer un peu plus exigeant ? Les horloges, par la facilité qu'elles offraient, devaient séduire les marins ennemis de longs calculs, mais leur exactitude ne pouvait se soutenir que dans des traversées médiocres\n",
      "\u001b[38;5;255m  Dans des circonstances moins ordinaires, et dans de longues navigations, la méthode des distances avait un avantage incontestable ; ainsi, M\n",
      "\u001b[38;5;255m  Maskelyne nous paraît avoir montré autant de justice que de discernement en faisant adjuger la moitié de la récompense à Harrisson, pour son horloge, et l'autre moitié aux secondes tables lunaires, que Mayer, avant sa mort, avait envoyées au bureau des longitudes de Londres\n",
      "\u001b[38;5;68m  La nation anglaise céda ensuite à des motifs de générosité autant que de justice, en complétant à Harrisson la récompense à laquelle il avait droit quand on s'en tenait au sens littéral de l'acte du parlement\n",
      "\u001b[38;5;255m  Maskelyne, qui travaillait alors à faire adopter le plan de l'Almanach nautique, dut craindre que la nation, après avoir magnifiquement récompensé une belle invention, ne devînt plus indifférente et plus économe pour une úuvre plus belle et plus utile encore\n",
      "\u001b[38;5;52m  Il était de son devoir de plaider la cause de la science ; il s'acquitta honorablement de cette obligation ; les deux partis gagnèrent leur procès ; M\n",
      "\u001b[38;5;61m  Maskelyne fit agréer le plan que La Caille, enlevé trop tôt à l'astronomie, n'avait pu faire adopter en France ; les Anglais eurent la gloire de le réaliser les premiers, et c'est une obligation que les marins et les astronomes de tous les temps et de toutes les nations auront à M\n",
      "\u001b[38;5;255m  Maskely ne qui, pour réussir, eut besoin de toute sa persévérance et de la considération dont il commençait à jouir à si juste titre\n",
      "\u001b[38;5;255m  Il n'est pas douteux qu'on ne lui doive en partie les améliorations successives qu'a reçues la Théorie de la Lune, dont il s'est constamment occupé\n",
      "\u001b[38;5;255m  Il fut l'éditeur des Tables de Mayer ; il y ajouta des tables de mouvement horaire qui manquaient à l'exemplaire venu de Gottingue ; il compara ces tables aux observations qu'il faisait chaque jour ; c'est sous sa direction que Mason donna une édition corrigée et augmentée de ces mêmes tables, perfectionnées depuis par M\n",
      "\u001b[38;5;36m  Burg, et tout récemment par M\n",
      "\u001b[38;5;255m  Burckhardt, qui ont eu l'avantage de s'appuyer, d'une part, sur des milliers d'observations de M\n",
      "\u001b[38;5;29m  Maskelyne, et de l'autre, sur les recherches analytiques de M\n",
      "\u001b[38;5;255m  Laplace, qui leur fournit des équations qu'il eût été bien difficile de reconnaître parmi tant d'autres, si l'on n'avait eu d'autres secours que celui des observations\n",
      "\u001b[38;5;255m  Ce fut le poste d'astronome royal auquel il fut nommé au commencement de 1765, qui le mit à portée de rendre à la science ce service signalé\n",
      "\u001b[38;5;20m  L'observatoire de Greenwich est placé dans les jardins de l'hôpital de la marine, à quelques lieues de Londres\n",
      "\u001b[38;5;36m  Ce fut dans cette retraite que, pendant quarante-sept ans sans interruption, M\n",
      "\u001b[38;5;255m  Maskelyne observa le ciel, et que, par ses soins, il amassa un trésor inestimable, dans lequel, depuis trente ans, ont puisé tous ceux qui ont voulu améliorer les tables ou les théories astronomiques ; car il ne suffit pas à l'astronome de se sentir un courage capable de surmonter les dégoûts de calculs qui emploient toutes ses journées après qu'il a consacré les nuits au travail des observations, il faut encore qu'il ait à sa disposition un local et des instruments qui sont hors de la portée des particuliers, et qui ne se trouvent que dans les établissements fondés par les gouvernements\n",
      "\u001b[38;5;255m  Cette vérité, bien reconnue, fit bâtir presque en même temps les observatoires de Paris et de Greenwich ; mais dans ces deux établissements célèbres, on oublia également un article essentiel\n",
      "\u001b[38;5;255m  Maskeline songea le premier à faire réparer cet oubli, et c'est par là qu'il a rendu à la science un service important, qui a fait la principale différence entre la destinée des deux observatoires rivaux\n",
      "\u001b[38;5;255m  Il y avait bien dans leur régime une disparité qui ne pouvait manquer d'avoir aussi des effets très sensibles\n",
      "\u001b[38;5;255m  A Paris, on consulta principalement l'architecte, et l'on eut à grands frais un beau monument qui était d'un médiocre secours pour les observations\n",
      "\u001b[38;5;61m  Les astronomes, tous académiciens, y formaient une espèce de république sans magistrats, où chacun s'occupait de travaux utiles, à la vérité, mais sans plan général et suivi\n",
      "\u001b[38;5;255m  Les Cassini, les Lahire, les Maraldi, publiaient de temps à autre leurs découvertes, ou quelque résultat intéressant, mais eux seuls avaient la connaissance de leurs observations, et l'on adoptait sur parole les conséquences qu'ils avaient eu le temps ou la sagacité d'en déduire eux-mêmes\n",
      "\u001b[38;5;61m  A Greenwich, on voyait un bâtiment moins somptueux, mais adapté plus spécialement à l'astronomie, un seul astronome avec un assistant\n",
      "\u001b[38;5;61m  La loi qui l'avait établi lui imposait l'obligation d'observer chaque jour le soleil et la lune, et tout ce qui pouvait intéresser la géographie et la navigation\n",
      "\u001b[38;5;36m  Flamsteed remplit cette place pendant trente ans\n",
      "\u001b[38;5;32m  Une partie de ses observations fut publiée de son vivant, et ses héritiers en donnèrent une édition plus complète et plus soignée\n",
      "\u001b[38;5;16m  A sa mort, en 1720, il fut remplacé par le célèbre Halley, qui continua sur le même plan, avec des instruments meilleurs, jusqu'en 1750 ; mais aucune de ces observations n'a encore vu le jour\n",
      "\u001b[38;5;61m  En fondant la place d'astronome, en lui imposant les obligations qu'il aurait à remplir, on oublia d'ordonner que ses observations seraient publiées chaque année\n",
      "\u001b[38;5;61m  Cette impression exige des soins que l'astronome prendrait avec plaisir, et des frais qu'il ne peut supporter, parce que le débit d'un recueil de ce genre est nécessairement très lent et toujours très borné\n",
      "\u001b[38;5;32m Bradley, succédant à Halley, renouvela les instruments, perfectionna les méthodes, se rendit célèbre par ses décou- vertes, mais ne publia rien ; ses héritiers prétendirent que ses manuscrits appartenaient à sa famille, et ce n'est que quarante ans après sa mort que les astronomes ont été mis en possession de ce trésor\n",
      "\u001b[38;5;255m  En France, la même inattention produisait des effets tout semblables\n",
      "\u001b[38;5;16m  Vers 1740, Lemonnier voulut publier une histoire céleste à l'imitation de celle de Flamsteed\n",
      "\u001b[38;5;16m  Il fit paraître un volume qui contenait les observations de Picard et La Hire, jusqu'à l'année 1685\n",
      "\u001b[38;5;255m  Ce recueil, paraissant cinquante ans trop tard, avait perdu presque tout son prix : tant qu'il aurait pu avoir une utilité réelle, il avait été complètement ignoré\n",
      "\u001b[38;5;255m  Lemonnier promettait une seconde partie, mais le peu de débit de la première l'empêcha de tenir sa promesse\n",
      "\u001b[38;5;255m  Il obtint, par une faveur particulière, que ses propres observations seraient imprimées au Louvre ; mais il restait une lacune de soixante ans qui n'a jamais été remplie\n",
      "\u001b[38;5;255m  Cassini avait annoncé une histoire céleste qui devait contenir les travaux de ses trois prédécesseurs ; mais l'exemple de ce qui était arrivé à Lemonnier peut-être, et les malheurs de la révolution, qui ont si cruellement pesé sur lui, l'ont empêche d'exécuter son projet\n",
      "\u001b[38;5;61m  La Caille ne trouva pas d'autre moyen pour publier ses Fondements de l'Astronomie, que celui de calculer gratuitement vingt années d'éphémérides pour un libraire qui lui imprima son livre au nombre d'exemplaires qu'il demanda, pour en faire présent aux astronomes de son temps\n",
      "\u001b[38;5;255m  Toutes les observations qu'il fit postérieurement a? cette époque sont demeurées inédites\n",
      "\u001b[38;5;61m  On raconte que la reine d'Angleterre, frappée de la modicité du traitement alloué a? l'astronome royal pour un travail si pénible, avait offert de l'augmenter\n",
      "\u001b[38;5;61m  Bradley s'y opposa, dans la crainte que la place d'astronome, si elle valait quelque chose, ne fût plus donnée a? un astronome\n",
      "\u001b[38;5;255m  On admire justement la précaution désintéressée de Bradley ; mais si, en refusant pour lui-même, il eût saisi cette occasion de demander un fonds pour l'impression, la reine eût accédé sans doute a? la demande, et il eût prévenu les débats, qui, pendant quarante ans, ont rendu son travail comme non avenu\n",
      "\u001b[38;5;61m  Bradley manqua une occasion favorable ; Maskelyne la fit naître : il obtint que ses observations seraient annuellement imprimées aux frais de la Société royale ; et c'est par la? qu'il a mérité d'être pendant quarante ans le chef et comme le régulateur des astronomes\n",
      "\u001b[38;5;61m  Piazzi seul eût pu, dans ces derniers temps, lui disputer cette suprématie ; mais quand on songe aux circonstances difficiles ou? cet astronome se trouve depuis si longtemps, on ne s'étonne plus qu'il n'ait publié que la moindre partie de ses nombreuses observations\n",
      "\u001b[38;5;255m  Depuis l'établissement d'un bureau des longitudes en France, les observatoires de Paris et de Greenwich sont dirigés a? peu près selon les mêmes principes, et munis d'instruments pareils ; on en voit sortir annuellement des recueils d'observations également précises qui se serviraient mutuellement de vérification s'il en était besoin, et qui servent de supplément les unes aux autres, quand les nuages qui ont couvert l'un des deux observatoires ne sont pas également étendus sur l'autre\n",
      "\u001b[38;5;255m  Les communications sont continuelles, et les obligations réciproques, si nos tables sont encore en grande partie fondées sur les opérations anglaises, les calculs des Anglais se font sur nos tables ; mais les dernières d'entre ces tables ont du moins été vérifiées sur un nombre égal d'observations françaises et anglaises\n",
      "\u001b[38;5;255m  Maskelyne ne quittait plus son observatoire : ainsi en 1769 il y resta pour observer le passage de Vénus, quoi- qu'une seule phase y fût visible ; mais il dressa des instructions pour les astronomes que l'Angleterre envoyait en différents climats ; il recueillit leurs observations, en conclut la parallaxe du soleil et sa distance à la terre\n",
      "\u001b[38;5;16m  Son résultat fut le même que celui auquel Du Séjour était arrivé par la totalité des deux observations des deux passages de 1761 et 1769\n",
      "\u001b[38;5;61m Dans aucun temps il ne se dispensa de faire lui-même les observations les plus intéressantes et les plus difficiles, telles que celles de la lune ; il ne se reposait sur son assistant que de celles qui étaient plus faciles et moins essentielles\n",
      "\u001b[38;5;61m  Il suivit avec une rigueur inflexible les méthodes établies par son célèbre devancier Bradley, qu'il surpassa même en exactitude dans les observations journalières ; il perfectionna la méthode de Flamsteed pour déterminer à la fois les ascensions droites des étoiles et celles du soleil ; il donna un catalogue d'étoiles peu nombreux, mais soigné d'une manière spéciale, et qui a servi presque uniquement pendant trente ans de fondement à toutes les recherches astronomiques ; enfin l'on peut dire des quatre volumes d'observations qu'il a publiées, que si, par une grande révolution, les sciences venaient à se perdre, et que ce recueil fût conservé, on y retrouverait de quoi reconstruire presque en entier l'édifice de l'astronomie moderne, ce qu'on ne peut dire de nul autre recueil, parce qu'au mérite d'une exactitude qu'on a rarement atteinte et jamais surpassée, le sien réunit l'avantage d'une série bien plus longue d'observations\n",
      "\u001b[38;5;255m  La précision en est si grande, qu'il est peu probable qu'on y puisse ajouter beaucoup\n",
      "\u001b[38;5;255m  Elles sont excellentes pour le temps où elles ont été faites, et ce temps est celui où l'on a le plus approché de la perfection ; elles ne pourront que gagner à mesure qu'elles vieilliront, ce qui n'est malheureusement vrai ni des observations de Tycho ni d'Hevelius ni même de celles de Flamsteed et La Hire, qui ont joui dans leur temps de toute l'exactitude dont on pouvait alors avoir l'idée, mais qui, trop voisines de l'âge pré,eijt, ne pourront jamais, quoique plus anciennes, entrer en concurrence avec celles des grands astronomes du XVIIIe siècle\n",
      "\u001b[38;5;61m  Maskelyne était en correspondance avec tous les astronomes de l'univers ; il suffit pour s'en convaincre de parcourir les Mémoires des savants de toute nation, qu'il a présentés à la Société royale\n",
      "\u001b[38;5;21m  Lui-même il n'a pas écrit aussi souvent qu'on l'eût souhaité\n",
      "\u001b[38;5;61m  Mais il est bien difficile qu'un astronome chargé d'observations de tous les jours et presque de tous les moments, entreprenne de grandes recherches théoriques qu'il se verrait à chaque instant forcé d'interrompre\n",
      "\u001b[38;5;255m  Du moins le peu d'écrits qu'il a laissés se fait remarquer par des notions vraies, des idées justes, une critique éclairée\n",
      "\u001b[38;5;255m  Telle est une dissertation sur l'équation du temps, où il a relevé avec tous les égards convenables une méprise échappée à La Caille et une méprise moins grave de Lalande\n",
      "\u001b[38;5;255m  S'il nous est permis, à notre tour, de trouver quelque chose à reprendre dans sa formule, nous reconnaîtrons au moins que les petites négligences qu'on peut y remarquer n'ont aucun effet sensible, et qu'il les a laissé subsister parce qu'elles n'étaient nullement dangereuses\n",
      "\u001b[38;5;61m  Lalande reçut fort bien l'espèce de leçon qu'on lui donnait ; mais Bernoulli ayant inséré, sept ans après, une traduction du Mémoire de Maskelyne, dans son Recueil pour les Astronomes, un des élèves de Lalande (d'Agelet) prit le parti de son maître d'une manière qui aurait pu causer du refroidissement entre les deux parties intéressées ; la querelle cependant n'eut aucune suite, et les deux astronomes correspondirent comme par le passé\n",
      "\u001b[38;5;255m  On avait voulu jeter quelques doutes sur la longitude et la latitude de Greenwich\n",
      "\u001b[38;5;255m  Maskelyne, à qui le Mémoire fut renvoyé, fit voir avec sa logique et sa modération ordinaire, que les doutes n'étaient nullement fondés ; mais il ne s'opposa point aux moyens proposés pour les dissiper\n",
      "\u001b[38;5;255m  C'est à cette occasion que les Anglais, qui n'avaient presque rien fait encore dans le genre des grandes opérations géographiques, où les Français s'étaient distingués, se signalèrent à leur tour par des moyens qui surpassaient tout ce qu'on avait vu jusqu'alors ; c'est alors aussi que MM\n",
      "\u001b[38;5;0m  MM\n",
      "\u001b[38;5;255m  Cassini et Legendre firent le premier essai du cercle de Borda\n",
      "\u001b[38;5;255m  Bouguer, à la suite de sa mesure des degrés au Pérou avait tenté de déterminer l'attraction des montagnes et la quantité dont elle peut déranger le fil à plomb d'un secteur astronomique\n",
      "\u001b[38;5;50m  Il avait trouvé une attraction réelle et incontestable, mais de moitié moindre qu'elle ne devait résulter de la grosseur de la montagne ; il en avait conclu qu'elle était creuse et intérieurement minée par des volcans\n",
      "\u001b[38;5;255m  On pouvait douter d'un résultat obtenu avec des instruments d'une bonté médiocre\n",
      "\u001b[38;5;27m  Bouguer avait lui-même exprimé le vúu que l'expérience fût recommencée en Europe avec plus de soin et de meilleurs instruments\n",
      "\u001b[38;5;255m  Maskelyne entreprit cette recherche avec le secteur qu'il avait à Sainte-Hélène, mais dont il avait corrigé la suspension et changé la division\n",
      "\u001b[38;5;50m  Il fit choix de la montagne Schehallien en Ecosse\n",
      "\u001b[38;5;26m  Il faut voir dans son mémoire les soins et les peines que lui coûta cette opération qui paraît si facile\n",
      "\u001b[38;5;255m  Il trouva 5\",8 pour le dérangement du fil par l'attraction de la montagne ; il en conclut que la densité de la montagne devait être moitié de la densité moyenne de la terre ; il en résultait que la densité dans l'intérieur de la terre est plus grande qu'à la surface, ce qui était déjà prouvé par les mesures des degrés et du pendule ; enfin que la densité de la terre est environ quatre ou cinq fois celle de l'eau\n",
      "\u001b[38;5;255m  Cavendish, par des épreuves d'un autre genre, trouva depuis, cinq fois et demie ; mais il avait lui-même quelque doute sur l'extrême précision de son propre résultat, et comme celui de Maskelyne est aussi fondé sur quelques suppositions qui ne sont pas de la plus rigoureuse exactitude, on peut, en attendant de nouvelles vérifications supposer que la densité moyenne de la terre est à fort peu près cinq fois celle de l'eau\n",
      "\u001b[38;5;0m  Enfin, M\n",
      "\u001b[38;5;255m  Maskelyne admet comme une chose très possible, que la densité inégale, même à la surface, ait pu occasionner les différences qu'on remarque entre les divers degrés mesurés\n",
      "\u001b[38;5;26m  Tels sont les principaux mémoires publiés par M\n",
      "\u001b[38;5;255m  Maskelyne ; il en a laissé beaucoup d'autres qui n'ont pas encore vu le jour, et les savants apprendront sans doute avec plaisir que le soin d'en faire jouir le public a été remis à M\n",
      "\u001b[38;5;61m  Vince professeur d'astronomie et de physique expérimentale à Cambridge, connu par un traité d'astronomie, et par la description des instruments les plus modernes\n",
      "\u001b[38;5;255m  Nous y trouverons peut-être quelques détails nouveaux sur un micromètre composé d'un prisme qui se meut suivant l'axe de la lunette comme ceux de M\n",
      "\u001b[38;5;255m  Rochon et du P\n",
      "\u001b[38;5;0m  Boscovich\n",
      "\u001b[38;5;255m  Si nous nous en rapportons à ce dernier, M\n",
      "\u001b[38;5;255m  Maskelyne est celui qui, le premier, en a conçu l'idée ; Boscovich prétend être le second\n",
      "\u001b[38;5;255m  Il n'est pas sans exemple qu'une même invention ait été faite presque en même temps par plusieurs personnes qui ne s'étaient rien communiqué\n",
      "\u001b[38;5;36m  Mais jusqu'ici M\n",
      "\u001b[38;5;255m  Rochon est le seul qui ait publié des observations faites avec ce micromètre ; l'idée d'y employer la double réfraction lui appartient incontestablement, et Boscovich lui-même en convient\n",
      "\u001b[38;5;33m  Maskelyne n'employait que le verre commun\n",
      "\u001b[38;5;255m  Il paraît certain qu'il a le premier imaginé de faire mouvoir le prisme dans l'intérieur de la lunette ; il nous reste à savoir le parti qu'il aura tiré de cette construction\n",
      "\u001b[38;5;27m  Maskelyne, qui sentait tout le prix des excellents instruments dont il faisait un continuel usage, mettait tous ses soins à les bien conserver et à les améliorer par les additions que lui suggéraient son expérience et son goût pour l'optique\n",
      "\u001b[38;5;255m  C'est lui qui rendit l'oculaire mobile pour éviter toute parallaxe en amenant l'úil vis-à-vis chacun des cinq fils que l'astre traverse successivement\n",
      "\u001b[38;5;255m  C'est lui qui reconnut les inconvénients des trappes étroites en usage dans tous les observatoires ; il fit élargir celles de Greenwich, après avoir constaté par ses expériences la nécessité de placer les lunettes à l'air libre autant qu'il est possible\n",
      "\u001b[38;5;255m  Malgré tant de soins, on a soupçonné dans ces derniers temps que son quart de cercle était devenu moins exact par un effet des frottements qu'il avait éprouvés dans un exercice continuel de plus de cinquante ans\n",
      "\u001b[38;5;61m  Il était assez naturel que l'astronome qui donnait toujours à ses observations le même degré d'attention, et qui n'apercevait d'ailleurs à son instrument aucun signe de vétusté, ne fût pas le premier à s'apercevoir de ces altérations très légères en elles-mêmes\n",
      "\u001b[38;5;61m  D'autres instruments plus modernes, construits sur des principes différents et placés entre les mains d'astronomes attentifs, firent naître les premiers soupçons\n",
      "\u001b[38;5;255m  Ce n'est pas que les petites variations qu'on avait cru remarquer ne pussent s'expliquer de manière à disculper le quart de cercle de Greenwich\n",
      "\u001b[38;5;255m  Besse et Oltmanns avaient donné des interprétations qui n'étaient pas dépourvues de vraisemblance\n",
      "\u001b[38;5;255m  Mais le plus sûr était de se procurer des instruments nouveaux ; c'est aussi le parti que prit M\n",
      "\u001b[38;5;255m  Ce fut lui qui commanda au célèbre Troughton un grand et superbe cercle, qu'il n'eut pas le plaisir de placer lui-même dans son observatoire, mais qui, remis entre les mains de son successeur M\n",
      "\u001b[38;5;255m  Pond, fera connaître les défauts que l'âge avait fait contracter au quart de cercle, et nous apprendra quelles corrections nous aurons à faire aux dernières observations de Greenwich, pour les rendre aussi précieuses que les premières\n",
      "\u001b[38;5;61m  Ainsi les instruments vieillissent encore plus vite que les hommes, et il est assez rare qu'un astronome consente à se servir de ceux auxquels s'était habitué son prédécesseur\n",
      "\u001b[38;5;16m  Maskelyne est mort le 9 février 1811, âgé de plus de soixante-dix -huit ans\n",
      "\u001b[38;5;61m  Les ouvrages qu'il a laissés, outre ses quatre volumes in-folio d'observations, les mémoires dont nous avons parlé, et les quarante-cinq premiers volumes de l'almanach nautique calculés sous sa direction, et revus par lui, sont: Le Guide du marin anglais ; Les tables nécessaires pour l'usage du nautical almanac des dissertations sur l'astronomie nautique, et l'usage de l'octant ; enfin ses úuvres posthumes, dont nous ignorons encore le contenu, et que les astronomes seront très empressés de se procurer\n",
      "\u001b[38;5;32m  Nous avons fait connaître le savant, mais l'homme, le père, l'ami, n'était pas moins recommandable\n",
      "\u001b[38;5;61m  Tout astronome tout savant trouvait en lui un frère\n",
      "\u001b[38;5;255m  C'est le témoignage que lui rendait M\n",
      "\u001b[38;5;61m  Chabert, à son retour de Londres, où il s'était réfugié dans des temps orageux, et où il avait reçu de l'astronome royal, l'accueil le plus amical, accompagné des attentions les plus délicates et les plus généreuses\n",
      "\u001b[38;5;255m  D'un caractère facile et aimable, il gagna l'affection de tous ceux qui avaient l'avantage de le connaître, et sa mort fut honorée de leurs regrets\n",
      "\u001b[38;5;255m  Destiné d'abord à l'état ecclésiastique, il conserva toujours les vertus et les sentiments, qui sont un devoir plus particulier dans cet état\n",
      "\u001b[38;5;255m  ´ Il mourut comme il avait toujours vécu, en chrétien ferme dans sa croyance, et avec l'espérance de se voir admis à la présence du créateur, dont il avait si longtemps contemplé et admiré les ouvrages\n",
      "\u001b[38;5;32m  ª Il a laissé une fille unique, mademoiselle Marguerite Maskelyne, qui nous a fait passer des renseignements dont nous voudrions avoir fait un plus digne usage\n",
      "\u001b[38;5;32m  Nous espérons du moins qu'elle ne verra pas sans quelque satisfaction, les sentiments d'estime et de reconnaissance, que son respectable père avait inspirés à ses confrères de France, et nous oserons dire de toutes les nations\n"
     ]
    }
   ],
   "source": [
    "for sent, topic in test_print_1:\n",
    "    print(colors[topic] + sent)"
   ]
  },
  {
   "cell_type": "code",
   "execution_count": 136,
   "id": "following-tobacco",
   "metadata": {},
   "outputs": [
    {
     "data": {
      "text/plain": [
       "[('card', 0.23779263589947455),\n",
       " ('moi', 0.04487195005106902),\n",
       " ('mois', 0.044543243264461546),\n",
       " ('naître', 0.03410610713869314),\n",
       " ('année', 0.03287738091163235),\n",
       " ('être', 0.03157842945915868),\n",
       " ('an', 0.02972283519152572),\n",
       " ('science', 0.029487347654037002),\n",
       " ('mourir', 0.029034146370016653),\n",
       " ('mémoire', 0.025537598311610243)]"
      ]
     },
     "execution_count": 136,
     "metadata": {},
     "output_type": "execute_result"
    }
   ],
   "source": [
    "top_n_words[test_print_1[0][1]][:10]"
   ]
  },
  {
   "cell_type": "code",
   "execution_count": 114,
   "id": "geological-quest",
   "metadata": {
    "scrolled": true
   },
   "outputs": [
    {
     "name": "stdout",
     "output_type": "stream",
     "text": [
      "\u001b[38;5;0m Topic 0 in color\n",
      "\u001b[38;5;1m Topic 1 in color\n",
      "\u001b[38;5;2m Topic 2 in color\n",
      "\u001b[38;5;3m Topic 3 in color\n",
      "\u001b[38;5;4m Topic 4 in color\n",
      "\u001b[38;5;5m Topic 5 in color\n",
      "\u001b[38;5;6m Topic 6 in color\n",
      "\u001b[38;5;7m Topic 7 in color\n",
      "\u001b[38;5;8m Topic 8 in color\n",
      "\u001b[38;5;9m Topic 9 in color\n",
      "\u001b[38;5;10m Topic 10 in color\n",
      "\u001b[38;5;11m Topic 11 in color\n",
      "\u001b[38;5;12m Topic 12 in color\n",
      "\u001b[38;5;13m Topic 13 in color\n",
      "\u001b[38;5;14m Topic 14 in color\n",
      "\u001b[38;5;15m Topic 15 in color\n",
      "\u001b[38;5;16m Topic 16 in color\n",
      "\u001b[38;5;17m Topic 17 in color\n",
      "\u001b[38;5;18m Topic 18 in color\n",
      "\u001b[38;5;19m Topic 19 in color\n",
      "\u001b[38;5;20m Topic 20 in color\n",
      "\u001b[38;5;21m Topic 21 in color\n",
      "\u001b[38;5;22m Topic 22 in color\n",
      "\u001b[38;5;23m Topic 23 in color\n",
      "\u001b[38;5;24m Topic 24 in color\n",
      "\u001b[38;5;25m Topic 25 in color\n",
      "\u001b[38;5;26m Topic 26 in color\n",
      "\u001b[38;5;27m Topic 27 in color\n",
      "\u001b[38;5;28m Topic 28 in color\n",
      "\u001b[38;5;29m Topic 29 in color\n",
      "\u001b[38;5;30m Topic 30 in color\n",
      "\u001b[38;5;31m Topic 31 in color\n",
      "\u001b[38;5;32m Topic 32 in color\n",
      "\u001b[38;5;33m Topic 33 in color\n",
      "\u001b[38;5;34m Topic 34 in color\n",
      "\u001b[38;5;35m Topic 35 in color\n",
      "\u001b[38;5;36m Topic 36 in color\n",
      "\u001b[38;5;37m Topic 37 in color\n",
      "\u001b[38;5;38m Topic 38 in color\n",
      "\u001b[38;5;39m Topic 39 in color\n",
      "\u001b[38;5;40m Topic 40 in color\n",
      "\u001b[38;5;41m Topic 41 in color\n",
      "\u001b[38;5;42m Topic 42 in color\n",
      "\u001b[38;5;43m Topic 43 in color\n",
      "\u001b[38;5;44m Topic 44 in color\n",
      "\u001b[38;5;45m Topic 45 in color\n",
      "\u001b[38;5;46m Topic 46 in color\n",
      "\u001b[38;5;47m Topic 47 in color\n",
      "\u001b[38;5;48m Topic 48 in color\n",
      "\u001b[38;5;49m Topic 49 in color\n",
      "\u001b[38;5;50m Topic 50 in color\n",
      "\u001b[38;5;51m Topic 51 in color\n",
      "\u001b[38;5;52m Topic 52 in color\n",
      "\u001b[38;5;53m Topic 53 in color\n",
      "\u001b[38;5;54m Topic 54 in color\n",
      "\u001b[38;5;55m Topic 55 in color\n",
      "\u001b[38;5;56m Topic 56 in color\n",
      "\u001b[38;5;57m Topic 57 in color\n",
      "\u001b[38;5;58m Topic 58 in color\n",
      "\u001b[38;5;59m Topic 59 in color\n",
      "\u001b[38;5;60m Topic 60 in color\n",
      "\u001b[38;5;61m Topic 61 in color\n",
      "\u001b[38;5;62m Topic 62 in color\n",
      "\u001b[38;5;63m Topic 63 in color\n",
      "\u001b[38;5;64m Topic 64 in color\n",
      "\u001b[38;5;65m Topic 65 in color\n",
      "\u001b[38;5;66m Topic 66 in color\n",
      "\u001b[38;5;67m Topic 67 in color\n",
      "\u001b[38;5;68m Topic 68 in color\n",
      "\u001b[38;5;69m Topic 69 in color\n",
      "\u001b[38;5;70m Topic 70 in color\n",
      "\u001b[38;5;71m Topic 71 in color\n",
      "\u001b[38;5;72m Topic 72 in color\n",
      "\u001b[38;5;73m Topic 73 in color\n",
      "\u001b[38;5;74m Topic 74 in color\n",
      "\u001b[38;5;75m Topic 75 in color\n",
      "\u001b[38;5;76m Topic 76 in color\n",
      "\u001b[38;5;77m Topic 77 in color\n",
      "\u001b[38;5;78m Topic 78 in color\n",
      "\u001b[38;5;79m Topic 79 in color\n",
      "\u001b[38;5;80m Topic 80 in color\n",
      "\u001b[38;5;81m Topic 81 in color\n",
      "\u001b[38;5;82m Topic 82 in color\n",
      "\u001b[38;5;83m Topic 83 in color\n",
      "\u001b[38;5;84m Topic 84 in color\n",
      "\u001b[38;5;85m Topic 85 in color\n",
      "\u001b[38;5;86m Topic 86 in color\n",
      "\u001b[38;5;87m Topic 87 in color\n",
      "\u001b[38;5;88m Topic 88 in color\n",
      "\u001b[38;5;89m Topic 89 in color\n",
      "\u001b[38;5;90m Topic 90 in color\n",
      "\u001b[38;5;91m Topic 91 in color\n",
      "\u001b[38;5;92m Topic 92 in color\n",
      "\u001b[38;5;93m Topic 93 in color\n",
      "\u001b[38;5;94m Topic 94 in color\n",
      "\u001b[38;5;95m Topic 95 in color\n",
      "\u001b[38;5;96m Topic 96 in color\n",
      "\u001b[38;5;97m Topic 97 in color\n",
      "\u001b[38;5;98m Topic 98 in color\n",
      "\u001b[38;5;99m Topic 99 in color\n",
      "\u001b[38;5;100m Topic 100 in color\n",
      "\u001b[38;5;101m Topic 101 in color\n",
      "\u001b[38;5;102m Topic 102 in color\n"
     ]
    }
   ],
   "source": [
    "for topic in range(103):\n",
    "    print(colors[topic] + 'Topic ' + str(topic) +' in color')"
   ]
  },
  {
   "cell_type": "code",
   "execution_count": null,
   "id": "acoustic-economics",
   "metadata": {},
   "outputs": [],
   "source": []
  }
 ],
 "metadata": {
  "kernelspec": {
   "display_name": "Python 3 (ipykernel)",
   "language": "python",
   "name": "python3"
  },
  "language_info": {
   "codemirror_mode": {
    "name": "ipython",
    "version": 3
   },
   "file_extension": ".py",
   "mimetype": "text/x-python",
   "name": "python",
   "nbconvert_exporter": "python",
   "pygments_lexer": "ipython3",
   "version": "3.8.5"
  }
 },
 "nbformat": 4,
 "nbformat_minor": 5
}
