{
 "cells": [
  {
   "cell_type": "markdown",
   "id": "brief-painting",
   "metadata": {},
   "source": [
    "# 1. Load and imports"
   ]
  },
  {
   "cell_type": "code",
   "execution_count": 1,
   "id": "acquired-religious",
   "metadata": {},
   "outputs": [
    {
     "name": "stderr",
     "output_type": "stream",
     "text": [
      "/Users/clemencebarsi/miniconda3/lib/python3.8/site-packages/treetaggerwrapper.py:739: FutureWarning: Possible nested set at position 8\n",
      "  punct2find_re = re.compile(\"([^ ])([[\" + ALONEMARKS + \"])\",\n",
      "/Users/clemencebarsi/miniconda3/lib/python3.8/site-packages/treetaggerwrapper.py:2043: FutureWarning: Possible nested set at position 152\n",
      "  DnsHostMatch_re = re.compile(\"(\" + DnsHost_expression + \")\",\n",
      "/Users/clemencebarsi/miniconda3/lib/python3.8/site-packages/treetaggerwrapper.py:2067: FutureWarning: Possible nested set at position 409\n",
      "  UrlMatch_re = re.compile(UrlMatch_expression, re.VERBOSE | re.IGNORECASE)\n",
      "/Users/clemencebarsi/miniconda3/lib/python3.8/site-packages/treetaggerwrapper.py:2079: FutureWarning: Possible nested set at position 192\n",
      "  EmailMatch_re = re.compile(EmailMatch_expression, re.VERBOSE | re.IGNORECASE)\n"
     ]
    }
   ],
   "source": [
    "from eda import *\n",
    "from pre_process import *\n",
    "from topic_modeling import *\n",
    "\n",
    "import pandas as pd\n",
    "import numpy as np\n",
    "import matplotlib.pyplot as plt\n",
    "import seaborn as sns"
   ]
  },
  {
   "cell_type": "code",
   "execution_count": 2,
   "id": "center-kernel",
   "metadata": {},
   "outputs": [],
   "source": [
    "%load_ext autoreload\n",
    "\n",
    "%autoreload 2"
   ]
  },
  {
   "cell_type": "code",
   "execution_count": 3,
   "id": "accomplished-mention",
   "metadata": {},
   "outputs": [],
   "source": [
    "df = pd.read_csv('./../../Data/Dataframes/eulogies.csv')"
   ]
  },
  {
   "cell_type": "code",
   "execution_count": 4,
   "id": "final-uzbekistan",
   "metadata": {},
   "outputs": [],
   "source": [
    "df = df[(df['Annee']>=1741) & (df['Annee']<1832)]"
   ]
  },
  {
   "cell_type": "markdown",
   "id": "genuine-adult",
   "metadata": {},
   "source": [
    "# 2. First axis : basic statistics"
   ]
  },
  {
   "cell_type": "markdown",
   "id": "superior-mercy",
   "metadata": {},
   "source": [
    "## Removing \\n, \\t, non-useful spaces"
   ]
  },
  {
   "cell_type": "code",
   "execution_count": 5,
   "id": "pregnant-fault",
   "metadata": {},
   "outputs": [],
   "source": [
    "df['Eloge'] = df['Eloge'].apply(lambda x : x.replace(\"\\\\n\", \"\").replace(\"\\\\t\", \"\").replace(\"\\n\", \"\").replace(\"\\t\", \"\")\n",
    "                               .strip())"
   ]
  },
  {
   "cell_type": "code",
   "execution_count": 6,
   "id": "valuable-upper",
   "metadata": {},
   "outputs": [
    {
     "data": {
      "text/html": [
       "<div>\n",
       "<style scoped>\n",
       "    .dataframe tbody tr th:only-of-type {\n",
       "        vertical-align: middle;\n",
       "    }\n",
       "\n",
       "    .dataframe tbody tr th {\n",
       "        vertical-align: top;\n",
       "    }\n",
       "\n",
       "    .dataframe thead th {\n",
       "        text-align: right;\n",
       "    }\n",
       "</style>\n",
       "<table border=\"1\" class=\"dataframe\">\n",
       "  <thead>\n",
       "    <tr style=\"text-align: right;\">\n",
       "      <th></th>\n",
       "      <th>Savant</th>\n",
       "      <th>Auteur</th>\n",
       "      <th>Annee</th>\n",
       "      <th>Eloge</th>\n",
       "    </tr>\n",
       "  </thead>\n",
       "  <tbody>\n",
       "    <tr>\n",
       "      <th>132</th>\n",
       "      <td>Bougainville</td>\n",
       "      <td>Delambre</td>\n",
       "      <td>1813.0</td>\n",
       "      <td>Louis-Antoine de Bougainville, sénateur, comte...</td>\n",
       "    </tr>\n",
       "    <tr>\n",
       "      <th>133</th>\n",
       "      <td>Maskelyne</td>\n",
       "      <td>Delambre</td>\n",
       "      <td>1813.0</td>\n",
       "      <td>Névil Maskelyne, docteur en théologie, membre ...</td>\n",
       "    </tr>\n",
       "    <tr>\n",
       "      <th>134</th>\n",
       "      <td>Desessarts</td>\n",
       "      <td>Cuvier</td>\n",
       "      <td>1812.0</td>\n",
       "      <td>Jean-Charles Desessarts, médecin, membre de l'...</td>\n",
       "    </tr>\n",
       "    <tr>\n",
       "      <th>135</th>\n",
       "      <td>Cavendish</td>\n",
       "      <td>Cuvier</td>\n",
       "      <td>1812.0</td>\n",
       "      <td>Parmi les hommes que nous avons coutume de cél...</td>\n",
       "    </tr>\n",
       "    <tr>\n",
       "      <th>136</th>\n",
       "      <td>Malus</td>\n",
       "      <td>Delambre</td>\n",
       "      <td>1812.0</td>\n",
       "      <td>Sur la vie et les ouvrages de m-, et de m. Le ...</td>\n",
       "    </tr>\n",
       "  </tbody>\n",
       "</table>\n",
       "</div>"
      ],
      "text/plain": [
       "           Savant    Auteur   Annee  \\\n",
       "132  Bougainville  Delambre  1813.0   \n",
       "133     Maskelyne  Delambre  1813.0   \n",
       "134    Desessarts    Cuvier  1812.0   \n",
       "135     Cavendish    Cuvier  1812.0   \n",
       "136         Malus  Delambre  1812.0   \n",
       "\n",
       "                                                 Eloge  \n",
       "132  Louis-Antoine de Bougainville, sénateur, comte...  \n",
       "133  Névil Maskelyne, docteur en théologie, membre ...  \n",
       "134  Jean-Charles Desessarts, médecin, membre de l'...  \n",
       "135  Parmi les hommes que nous avons coutume de cél...  \n",
       "136  Sur la vie et les ouvrages de m-, et de m. Le ...  "
      ]
     },
     "execution_count": 6,
     "metadata": {},
     "output_type": "execute_result"
    }
   ],
   "source": [
    "df.head()"
   ]
  },
  {
   "cell_type": "markdown",
   "id": "smooth-sender",
   "metadata": {},
   "source": [
    "## a. Number of eulogies"
   ]
  },
  {
   "cell_type": "code",
   "execution_count": 7,
   "id": "integral-liver",
   "metadata": {
    "scrolled": true
   },
   "outputs": [
    {
     "name": "stdout",
     "output_type": "stream",
     "text": [
      "There are 149 eulogies\n",
      "There are 95 eulogies before the French Revolution\n",
      "There are 54 eulogies after the French Revolution\n"
     ]
    }
   ],
   "source": [
    "print('There are ' + str(df.shape[0]) + ' eulogies') \n",
    "print('There are ' + str(df[df['Annee']<1793].shape[0]) + ' eulogies before the French Revolution')\n",
    "print('There are ' + str(df[df['Annee']>=1793].shape[0]) + ' eulogies after the French Revolution')"
   ]
  },
  {
   "cell_type": "markdown",
   "id": "worthy-afternoon",
   "metadata": {},
   "source": [
    "## b. Number of eulogies per year"
   ]
  },
  {
   "cell_type": "code",
   "execution_count": 8,
   "id": "monthly-attendance",
   "metadata": {
    "scrolled": true
   },
   "outputs": [
    {
     "data": {
      "text/plain": [
       "array([[<AxesSubplot:title={'center':'Annee'}>]], dtype=object)"
      ]
     },
     "execution_count": 8,
     "metadata": {},
     "output_type": "execute_result"
    },
    {
     "data": {
      "image/png": "[encoded data removed]",
      "text/plain": [
       "<Figure size 720x288 with 1 Axes>"
      ]
     },
     "metadata": {
      "needs_background": "light"
     },
     "output_type": "display_data"
    }
   ],
   "source": [
    "nbins = int(df['Annee'].max() - df['Annee'].min())\n",
    "#nbins\n",
    "df.hist('Annee', bins = nbins, figsize = (10,4))"
   ]
  },
  {
   "cell_type": "code",
   "execution_count": 9,
   "id": "athletic-messaging",
   "metadata": {},
   "outputs": [],
   "source": [
    "df_help = df.groupby(['Annee'])['Savant'].count().reset_index().rename(columns = {'Savant' : 'count'})\n",
    "\n",
    "df_pre = df_help[df_help['Annee']<1789]\n",
    "df_post = df_help[df_help['Annee']>=1793]"
   ]
  },
  {
   "cell_type": "code",
   "execution_count": 10,
   "id": "fifth-prompt",
   "metadata": {},
   "outputs": [
    {
     "data": {
      "text/plain": [
       "Ttest_indResult(statistic=1.1822061304153912, pvalue=0.2426066216470499)"
      ]
     },
     "execution_count": 10,
     "metadata": {},
     "output_type": "execute_result"
    }
   ],
   "source": [
    "from scipy.stats import ttest_ind\n",
    "\n",
    "ttest_ind(df_pre['count'].array, df_post['count'].array)"
   ]
  },
  {
   "cell_type": "markdown",
   "id": "vital-queue",
   "metadata": {},
   "source": [
    "## b. Length of the eulogies"
   ]
  },
  {
   "cell_type": "code",
   "execution_count": 11,
   "id": "national-republic",
   "metadata": {},
   "outputs": [],
   "source": [
    "side_info(df)"
   ]
  },
  {
   "cell_type": "code",
   "execution_count": 12,
   "id": "heated-beatles",
   "metadata": {
    "scrolled": true
   },
   "outputs": [
    {
     "data": {
      "image/png": "[encoded data removed]",
      "text/plain": [
       "<Figure size 720x288 with 1 Axes>"
      ]
     },
     "metadata": {
      "needs_background": "light"
     },
     "output_type": "display_data"
    }
   ],
   "source": [
    "nbr_words = nbr_words(df, evol = True)"
   ]
  },
  {
   "cell_type": "code",
   "execution_count": 13,
   "id": "bright-clerk",
   "metadata": {},
   "outputs": [
    {
     "data": {
      "text/plain": [
       "Ttest_indResult(statistic=-1.8297592499293067, pvalue=0.07291277625508862)"
      ]
     },
     "execution_count": 13,
     "metadata": {},
     "output_type": "execute_result"
    }
   ],
   "source": [
    "nbr_words_pre = nbr_words[nbr_words['Annee']<1793]\n",
    "nbr_words_post = nbr_words[nbr_words['Annee']>=1793]\n",
    "\n",
    "ttest_ind(nbr_words_pre['Number of words'].array, nbr_words_post['Number of words'].array)"
   ]
  },
  {
   "cell_type": "markdown",
   "id": "brave-federal",
   "metadata": {},
   "source": [
    "## c. Average word length"
   ]
  },
  {
   "cell_type": "code",
   "execution_count": 14,
   "id": "operational-tennessee",
   "metadata": {},
   "outputs": [
    {
     "data": {
      "image/png": "[encoded data removed]",
      "text/plain": [
       "<Figure size 720x288 with 1 Axes>"
      ]
     },
     "metadata": {
      "needs_background": "light"
     },
     "output_type": "display_data"
    }
   ],
   "source": [
    "avg_words = avg_word_length(df, evol = True)"
   ]
  },
  {
   "cell_type": "code",
   "execution_count": 15,
   "id": "neither-passion",
   "metadata": {},
   "outputs": [
    {
     "data": {
      "text/plain": [
       "Ttest_indResult(statistic=-5.58264491476757, pvalue=8.281875870567007e-07)"
      ]
     },
     "execution_count": 15,
     "metadata": {},
     "output_type": "execute_result"
    }
   ],
   "source": [
    "avg_words_pre = avg_words[avg_words['Annee']<1793]\n",
    "avg_words_post = avg_words[avg_words['Annee']>=1793]\n",
    "\n",
    "ttest_ind(avg_words_pre['Avg Word Length'].array, avg_words_post['Avg Word Length'].array)"
   ]
  },
  {
   "cell_type": "markdown",
   "id": "invalid-genesis",
   "metadata": {},
   "source": [
    "## d. Average sentence length"
   ]
  },
  {
   "cell_type": "code",
   "execution_count": 16,
   "id": "animated-ocean",
   "metadata": {
    "scrolled": true
   },
   "outputs": [
    {
     "name": "stderr",
     "output_type": "stream",
     "text": [
      "100%|███████████████████████████████████████| 149/149 [00:00<00:00, 1310.49it/s]\n"
     ]
    },
    {
     "data": {
      "image/png": "[encoded data removed]",
      "text/plain": [
       "<Figure size 720x288 with 1 Axes>"
      ]
     },
     "metadata": {
      "needs_background": "light"
     },
     "output_type": "display_data"
    }
   ],
   "source": [
    "avg_sentence = avg_sentence(df, evol = True)"
   ]
  },
  {
   "cell_type": "code",
   "execution_count": 17,
   "id": "original-circus",
   "metadata": {},
   "outputs": [
    {
     "data": {
      "text/plain": [
       "Ttest_indResult(statistic=0.014555022719770695, pvalue=0.9884418350373481)"
      ]
     },
     "execution_count": 17,
     "metadata": {},
     "output_type": "execute_result"
    }
   ],
   "source": [
    "avg_sentence_pre = avg_sentence[avg_sentence['Annee']<1793]\n",
    "avg_sentence_post = avg_sentence[avg_sentence['Annee']>=1793]\n",
    "\n",
    "ttest_ind(avg_sentence_pre['Avg Sent Length'].array, avg_sentence_post['Avg Sent Length'].array)"
   ]
  },
  {
   "cell_type": "markdown",
   "id": "straight-locator",
   "metadata": {},
   "source": [
    "## e. Use of first person"
   ]
  },
  {
   "cell_type": "code",
   "execution_count": 18,
   "id": "serial-ideal",
   "metadata": {},
   "outputs": [
    {
     "data": {
      "image/png": "[encoded data removed]",
      "text/plain": [
       "<Figure size 720x288 with 1 Axes>"
      ]
     },
     "metadata": {
      "needs_background": "light"
     },
     "output_type": "display_data"
    }
   ],
   "source": [
    "fst_person = first_person(df)"
   ]
  },
  {
   "cell_type": "code",
   "execution_count": 19,
   "id": "controversial-masters",
   "metadata": {},
   "outputs": [
    {
     "data": {
      "text/plain": [
       "Ttest_indResult(statistic=-1.3972276886538006, pvalue=0.16816750389947271)"
      ]
     },
     "execution_count": 19,
     "metadata": {},
     "output_type": "execute_result"
    }
   ],
   "source": [
    "fst_person_pre = fst_person[fst_person['Annee']<1793]\n",
    "fst_person_post = fst_person[fst_person['Annee']>=1793]\n",
    "\n",
    "ttest_ind(fst_person_pre['First_Person'].array, fst_person_post['First_Person'].array)"
   ]
  },
  {
   "cell_type": "markdown",
   "id": "outdoor-miami",
   "metadata": {},
   "source": [
    "## f. Use of modals"
   ]
  },
  {
   "cell_type": "markdown",
   "id": "smooth-acoustic",
   "metadata": {},
   "source": [
    "## g. Use of past tenses"
   ]
  },
  {
   "cell_type": "code",
   "execution_count": 20,
   "id": "sustainable-possession",
   "metadata": {},
   "outputs": [
    {
     "name": "stderr",
     "output_type": "stream",
     "text": [
      "100%|████████████████████████████████████████| 149/149 [00:00<00:00, 353.90it/s]\n",
      "100%|███████████████████████████████████████| 149/149 [00:00<00:00, 2905.39it/s]\n"
     ]
    },
    {
     "data": {
      "image/png": "[encoded data removed]",
      "text/plain": [
       "<Figure size 720x288 with 1 Axes>"
      ]
     },
     "metadata": {
      "needs_background": "light"
     },
     "output_type": "display_data"
    }
   ],
   "source": [
    "past_tense = past_tense(df)"
   ]
  },
  {
   "cell_type": "code",
   "execution_count": 21,
   "id": "angry-mustang",
   "metadata": {},
   "outputs": [
    {
     "data": {
      "text/plain": [
       "Ttest_indResult(statistic=2.343391393541898, pvalue=0.02289341018742618)"
      ]
     },
     "execution_count": 21,
     "metadata": {},
     "output_type": "execute_result"
    }
   ],
   "source": [
    "past_tense_pre = past_tense[past_tense['Annee']<1793]\n",
    "past_tense_post = past_tense[past_tense['Annee']>=1793]\n",
    "\n",
    "ttest_ind(past_tense_pre['percent_past'].array, past_tense_post['percent_past'].array)"
   ]
  },
  {
   "cell_type": "markdown",
   "id": "sophisticated-sigma",
   "metadata": {},
   "source": [
    "Reject Null Hypothesis the means are statistically different"
   ]
  },
  {
   "cell_type": "markdown",
   "id": "corrected-laundry",
   "metadata": {},
   "source": [
    "## h. Starts with a statement on the birth"
   ]
  },
  {
   "cell_type": "code",
   "execution_count": 51,
   "id": "unauthorized-behalf",
   "metadata": {},
   "outputs": [],
   "source": [
    "naissance(df)"
   ]
  },
  {
   "cell_type": "code",
   "execution_count": 53,
   "id": "adopted-polls",
   "metadata": {},
   "outputs": [
    {
     "data": {
      "text/plain": [
       "49"
      ]
     },
     "execution_count": 53,
     "metadata": {},
     "output_type": "execute_result"
    }
   ],
   "source": [
    "df[df['naissance'] == False].shape[0]"
   ]
  },
  {
   "cell_type": "code",
   "execution_count": 55,
   "id": "acting-things",
   "metadata": {},
   "outputs": [
    {
     "data": {
      "text/plain": [
       "19"
      ]
     },
     "execution_count": 55,
     "metadata": {},
     "output_type": "execute_result"
    }
   ],
   "source": [
    "df[(df['naissance'] == False)&(df['Annee']<1793)].shape[0]"
   ]
  },
  {
   "cell_type": "code",
   "execution_count": 56,
   "id": "affiliated-answer",
   "metadata": {},
   "outputs": [
    {
     "data": {
      "text/plain": [
       "30"
      ]
     },
     "execution_count": 56,
     "metadata": {},
     "output_type": "execute_result"
    }
   ],
   "source": [
    "df[(df['naissance'] == False)&(df['Annee']>=1793)].shape[0]"
   ]
  },
  {
   "cell_type": "markdown",
   "id": "premier-liberia",
   "metadata": {},
   "source": [
    "# 3. Second axis : Topic modeling"
   ]
  },
  {
   "cell_type": "markdown",
   "id": "presidential-nitrogen",
   "metadata": {},
   "source": [
    "## a. On sentences"
   ]
  },
  {
   "cell_type": "code",
   "execution_count": 22,
   "id": "portable-czech",
   "metadata": {},
   "outputs": [],
   "source": [
    "#https://stackoverflow.com/questions/50731229/split-cell-into-multiple-rows-in-pandas-dataframe\n",
    "\n",
    "from itertools import chain\n",
    "\n",
    "def chainer(s):\n",
    "    return list(chain.from_iterable(s.str.split('.')))\n",
    "\n",
    "lens = df['Eloge'].str.split('.').map(len)\n",
    "\n",
    "# create new dataframe, repeating or chaining as appropriate\n",
    "sent = pd.DataFrame({'Savant': np.repeat(df['Savant'], lens),\n",
    "                    'Auteur': np.repeat(df['Auteur'], lens),\n",
    "                     'Annee' : np.repeat(df['Annee'], lens),\n",
    "                    'Eloge': chainer(df['Eloge'])})\n",
    "\n",
    "sent = sent[(sent['Eloge'] != ' ') &  (sent['Eloge'] != '') & (sent['Eloge'].str.len()>10)]"
   ]
  },
  {
   "cell_type": "code",
   "execution_count": 23,
   "id": "undefined-fusion",
   "metadata": {},
   "outputs": [
    {
     "data": {
      "text/html": [
       "<div>\n",
       "<style scoped>\n",
       "    .dataframe tbody tr th:only-of-type {\n",
       "        vertical-align: middle;\n",
       "    }\n",
       "\n",
       "    .dataframe tbody tr th {\n",
       "        vertical-align: top;\n",
       "    }\n",
       "\n",
       "    .dataframe thead th {\n",
       "        text-align: right;\n",
       "    }\n",
       "</style>\n",
       "<table border=\"1\" class=\"dataframe\">\n",
       "  <thead>\n",
       "    <tr style=\"text-align: right;\">\n",
       "      <th></th>\n",
       "      <th>Savant</th>\n",
       "      <th>Auteur</th>\n",
       "      <th>Annee</th>\n",
       "      <th>Eloge</th>\n",
       "    </tr>\n",
       "  </thead>\n",
       "  <tbody>\n",
       "    <tr>\n",
       "      <th>132</th>\n",
       "      <td>Bougainville</td>\n",
       "      <td>Delambre</td>\n",
       "      <td>1813.0</td>\n",
       "      <td>Louis-Antoine de Bougainville, sénateur, comte...</td>\n",
       "    </tr>\n",
       "    <tr>\n",
       "      <th>132</th>\n",
       "      <td>Bougainville</td>\n",
       "      <td>Delambre</td>\n",
       "      <td>1813.0</td>\n",
       "      <td>Il était fils d'un notaire, échevin de Paris,...</td>\n",
       "    </tr>\n",
       "    <tr>\n",
       "      <th>132</th>\n",
       "      <td>Bougainville</td>\n",
       "      <td>Delambre</td>\n",
       "      <td>1813.0</td>\n",
       "      <td>Navigateur célèbre, officier - général de ter...</td>\n",
       "    </tr>\n",
       "    <tr>\n",
       "      <th>132</th>\n",
       "      <td>Bougainville</td>\n",
       "      <td>Delambre</td>\n",
       "      <td>1813.0</td>\n",
       "      <td>Encore au collège, il se faisait déjà remarque...</td>\n",
       "    </tr>\n",
       "    <tr>\n",
       "      <th>132</th>\n",
       "      <td>Bougainville</td>\n",
       "      <td>Delambre</td>\n",
       "      <td>1813.0</td>\n",
       "      <td>Son professeur expliquait un jour les phases ...</td>\n",
       "    </tr>\n",
       "  </tbody>\n",
       "</table>\n",
       "</div>"
      ],
      "text/plain": [
       "           Savant    Auteur   Annee  \\\n",
       "132  Bougainville  Delambre  1813.0   \n",
       "132  Bougainville  Delambre  1813.0   \n",
       "132  Bougainville  Delambre  1813.0   \n",
       "132  Bougainville  Delambre  1813.0   \n",
       "132  Bougainville  Delambre  1813.0   \n",
       "\n",
       "                                                 Eloge  \n",
       "132  Louis-Antoine de Bougainville, sénateur, comte...  \n",
       "132   Il était fils d'un notaire, échevin de Paris,...  \n",
       "132   Navigateur célèbre, officier - général de ter...  \n",
       "132  Encore au collège, il se faisait déjà remarque...  \n",
       "132   Son professeur expliquait un jour les phases ...  "
      ]
     },
     "execution_count": 23,
     "metadata": {},
     "output_type": "execute_result"
    }
   ],
   "source": [
    "sent.head()"
   ]
  },
  {
   "cell_type": "code",
   "execution_count": 25,
   "id": "expanded-sperm",
   "metadata": {
    "scrolled": true
   },
   "outputs": [],
   "source": [
    "rmv_sw(sent, name_col = 'Eloge')\n",
    "rmv_punkt(sent)\n",
    "lemmatize(sent, 'no_sw_no_punkt', 'tags')\n",
    "rmv_digit(sent)"
   ]
  },
  {
   "cell_type": "code",
   "execution_count": 26,
   "id": "cloudy-nurse",
   "metadata": {},
   "outputs": [
    {
     "name": "stderr",
     "output_type": "stream",
     "text": [
      "100%|██████████████████████████████████| 20608/20608 [00:00<00:00, 88233.98it/s]\n"
     ]
    }
   ],
   "source": [
    "nouns_verbs(sent, 'Eloge_lem')"
   ]
  },
  {
   "cell_type": "code",
   "execution_count": 27,
   "id": "centered-gazette",
   "metadata": {
    "scrolled": false
   },
   "outputs": [
    {
     "data": {
      "text/html": [
       "<div>\n",
       "<style scoped>\n",
       "    .dataframe tbody tr th:only-of-type {\n",
       "        vertical-align: middle;\n",
       "    }\n",
       "\n",
       "    .dataframe tbody tr th {\n",
       "        vertical-align: top;\n",
       "    }\n",
       "\n",
       "    .dataframe thead th {\n",
       "        text-align: right;\n",
       "    }\n",
       "</style>\n",
       "<table border=\"1\" class=\"dataframe\">\n",
       "  <thead>\n",
       "    <tr style=\"text-align: right;\">\n",
       "      <th></th>\n",
       "      <th>Savant</th>\n",
       "      <th>Auteur</th>\n",
       "      <th>Annee</th>\n",
       "      <th>Eloge</th>\n",
       "      <th>no_sw</th>\n",
       "      <th>no_sw_no_punkt</th>\n",
       "      <th>tags</th>\n",
       "      <th>Eloge_lem</th>\n",
       "      <th>n_v</th>\n",
       "    </tr>\n",
       "  </thead>\n",
       "  <tbody>\n",
       "    <tr>\n",
       "      <th>0</th>\n",
       "      <td>Bougainville</td>\n",
       "      <td>Delambre</td>\n",
       "      <td>1813.0</td>\n",
       "      <td>Louis-Antoine de Bougainville, sénateur, comte...</td>\n",
       "      <td>Louis-Antoine Bougainville, sénateur, comte l'...</td>\n",
       "      <td>Louis Antoine Bougainville  sénateur  comte l ...</td>\n",
       "      <td>[(Louis, NAM, Louis), (Antoine, NAM, Antoine),...</td>\n",
       "      <td>Louis Antoine Bougainville sénateur comte l em...</td>\n",
       "      <td>sénateur comte l empire officier légion d honn...</td>\n",
       "    </tr>\n",
       "    <tr>\n",
       "      <th>1</th>\n",
       "      <td>Bougainville</td>\n",
       "      <td>Delambre</td>\n",
       "      <td>1813.0</td>\n",
       "      <td>Il était fils d'un notaire, échevin de Paris,...</td>\n",
       "      <td>fils d'un notaire, échevin Paris, descendait d...</td>\n",
       "      <td>fils d un notaire  échevin Paris  descendait d...</td>\n",
       "      <td>[(fils, NOM, fils|fil), (d, VER:futu, d), (un,...</td>\n",
       "      <td>fils|fil d un notaire échevin Paris descendre ...</td>\n",
       "      <td>fils|fil fil d notaire échevin descendre d fam...</td>\n",
       "    </tr>\n",
       "    <tr>\n",
       "      <th>2</th>\n",
       "      <td>Bougainville</td>\n",
       "      <td>Delambre</td>\n",
       "      <td>1813.0</td>\n",
       "      <td>Navigateur célèbre, officier - général de ter...</td>\n",
       "      <td>Navigateur célèbre, officier général terre mer...</td>\n",
       "      <td>Navigateur célèbre  officier général terre mer...</td>\n",
       "      <td>[(Navigateur, NOM, navigateur), (célèbre, ADJ,...</td>\n",
       "      <td>navigateur célèbre officier général terre mer ...</td>\n",
       "      <td>navigateur officier terre mer associer l scien...</td>\n",
       "    </tr>\n",
       "    <tr>\n",
       "      <th>3</th>\n",
       "      <td>Bougainville</td>\n",
       "      <td>Delambre</td>\n",
       "      <td>1813.0</td>\n",
       "      <td>Encore au collège, il se faisait déjà remarque...</td>\n",
       "      <td>Encore collège, faisait remarquer aptitude éga...</td>\n",
       "      <td>Encore collège  faisait remarquer aptitude éga...</td>\n",
       "      <td>[(Encore, ADV, encore), (collège, NOM, collège...</td>\n",
       "      <td>encore collège faire remarquer aptitude égal l...</td>\n",
       "      <td>collège faire remarquer aptitude lettrer science</td>\n",
       "    </tr>\n",
       "    <tr>\n",
       "      <th>4</th>\n",
       "      <td>Bougainville</td>\n",
       "      <td>Delambre</td>\n",
       "      <td>1813.0</td>\n",
       "      <td>Son professeur expliquait un jour les phases ...</td>\n",
       "      <td>Son professeur expliquait jour phases lune pos...</td>\n",
       "      <td>Son professeur expliquait jour phases lune pos...</td>\n",
       "      <td>[(Son, DET:POS, son), (professeur, NOM, profes...</td>\n",
       "      <td>son professeur expliquer jour phase lune posit...</td>\n",
       "      <td>professeur expliquer jour phase lune position ...</td>\n",
       "    </tr>\n",
       "  </tbody>\n",
       "</table>\n",
       "</div>"
      ],
      "text/plain": [
       "         Savant    Auteur   Annee  \\\n",
       "0  Bougainville  Delambre  1813.0   \n",
       "1  Bougainville  Delambre  1813.0   \n",
       "2  Bougainville  Delambre  1813.0   \n",
       "3  Bougainville  Delambre  1813.0   \n",
       "4  Bougainville  Delambre  1813.0   \n",
       "\n",
       "                                               Eloge  \\\n",
       "0  Louis-Antoine de Bougainville, sénateur, comte...   \n",
       "1   Il était fils d'un notaire, échevin de Paris,...   \n",
       "2   Navigateur célèbre, officier - général de ter...   \n",
       "3  Encore au collège, il se faisait déjà remarque...   \n",
       "4   Son professeur expliquait un jour les phases ...   \n",
       "\n",
       "                                               no_sw  \\\n",
       "0  Louis-Antoine Bougainville, sénateur, comte l'...   \n",
       "1  fils d'un notaire, échevin Paris, descendait d...   \n",
       "2  Navigateur célèbre, officier général terre mer...   \n",
       "3  Encore collège, faisait remarquer aptitude éga...   \n",
       "4  Son professeur expliquait jour phases lune pos...   \n",
       "\n",
       "                                      no_sw_no_punkt  \\\n",
       "0  Louis Antoine Bougainville  sénateur  comte l ...   \n",
       "1  fils d un notaire  échevin Paris  descendait d...   \n",
       "2  Navigateur célèbre  officier général terre mer...   \n",
       "3  Encore collège  faisait remarquer aptitude éga...   \n",
       "4  Son professeur expliquait jour phases lune pos...   \n",
       "\n",
       "                                                tags  \\\n",
       "0  [(Louis, NAM, Louis), (Antoine, NAM, Antoine),...   \n",
       "1  [(fils, NOM, fils|fil), (d, VER:futu, d), (un,...   \n",
       "2  [(Navigateur, NOM, navigateur), (célèbre, ADJ,...   \n",
       "3  [(Encore, ADV, encore), (collège, NOM, collège...   \n",
       "4  [(Son, DET:POS, son), (professeur, NOM, profes...   \n",
       "\n",
       "                                           Eloge_lem  \\\n",
       "0  Louis Antoine Bougainville sénateur comte l em...   \n",
       "1  fils|fil d un notaire échevin Paris descendre ...   \n",
       "2  navigateur célèbre officier général terre mer ...   \n",
       "3  encore collège faire remarquer aptitude égal l...   \n",
       "4  son professeur expliquer jour phase lune posit...   \n",
       "\n",
       "                                                 n_v  \n",
       "0  sénateur comte l empire officier légion d honn...  \n",
       "1  fils|fil fil d notaire échevin descendre d fam...  \n",
       "2  navigateur officier terre mer associer l scien...  \n",
       "3   collège faire remarquer aptitude lettrer science  \n",
       "4  professeur expliquer jour phase lune position ...  "
      ]
     },
     "execution_count": 27,
     "metadata": {},
     "output_type": "execute_result"
    }
   ],
   "source": [
    "sent.reset_index(inplace = True)\n",
    "sent.drop('index', axis = 1, inplace = True)\n",
    "sent.head()"
   ]
  },
  {
   "cell_type": "code",
   "execution_count": 28,
   "id": "specific-ambassador",
   "metadata": {},
   "outputs": [],
   "source": [
    "from spacy.lang.fr.stop_words import STOP_WORDS as fr_stop\n",
    "\n",
    "sent['n_v'] = sent['n_v'].apply(lambda x : ' '.join([elem for elem in x.split() if (elem not in fr_stop and \n",
    "                                                                                    len(elem)>2)]))"
   ]
  },
  {
   "cell_type": "markdown",
   "id": "sunrise-legislature",
   "metadata": {},
   "source": [
    "### Sentence_transformers"
   ]
  },
  {
   "cell_type": "code",
   "execution_count": 33,
   "id": "beautiful-penetration",
   "metadata": {},
   "outputs": [],
   "source": [
    "from sentence_transformers import SentenceTransformer\n",
    "model_sent = SentenceTransformer('distiluse-base-multilingual-cased-v1')\n"
   ]
  },
  {
   "cell_type": "code",
   "execution_count": null,
   "id": "covered-permission",
   "metadata": {},
   "outputs": [
    {
     "data": {
      "application/vnd.jupyter.widget-view+json": {
       "model_id": "c2ed3d496eb7409b83615c54a4da4189",
       "version_major": 2,
       "version_minor": 0
      },
      "text/plain": [
       "HBox(children=(HTML(value='Batches'), FloatProgress(value=0.0, max=644.0), HTML(value='')))"
      ]
     },
     "metadata": {},
     "output_type": "display_data"
    }
   ],
   "source": [
    "#embeddings = model.encode(sent.Eloge, show_progress_bar=True)\n",
    "embeddings_n_v = model_sent.encode(sent.n_v, show_progress_bar=True)"
   ]
  },
  {
   "cell_type": "code",
   "execution_count": 29,
   "id": "medieval-accuracy",
   "metadata": {},
   "outputs": [],
   "source": [
    "from bertopic import BERTopic\n",
    "\n",
    "\n",
    "# Create topic model\n",
    "model = BERTopic(language ='French', nr_topics='auto',calculate_probabilities = True, \n",
    "                 n_gram_range = (1, 3))\n"
   ]
  },
  {
   "cell_type": "code",
   "execution_count": 30,
   "id": "noticed-smell",
   "metadata": {
    "scrolled": false
   },
   "outputs": [
    {
     "name": "stdout",
     "output_type": "stream",
     "text": [
      "huggingface/tokenizers: The current process just got forked, after parallelism has already been used. Disabling parallelism to avoid deadlocks...\n",
      "To disable this warning, you can either:\n",
      "\t- Avoid using `tokenizers` before the fork if possible\n",
      "\t- Explicitly set the environment variable TOKENIZERS_PARALLELISM=(true | false)\n",
      "huggingface/tokenizers: The current process just got forked, after parallelism has already been used. Disabling parallelism to avoid deadlocks...\n",
      "To disable this warning, you can either:\n",
      "\t- Avoid using `tokenizers` before the fork if possible\n",
      "\t- Explicitly set the environment variable TOKENIZERS_PARALLELISM=(true | false)\n",
      "huggingface/tokenizers: The current process just got forked, after parallelism has already been used. Disabling parallelism to avoid deadlocks...\n",
      "To disable this warning, you can either:\n",
      "\t- Avoid using `tokenizers` before the fork if possible\n",
      "\t- Explicitly set the environment variable TOKENIZERS_PARALLELISM=(true | false)\n",
      "huggingface/tokenizers: The current process just got forked, after parallelism has already been used. Disabling parallelism to avoid deadlocks...\n",
      "To disable this warning, you can either:\n",
      "\t- Avoid using `tokenizers` before the fork if possible\n",
      "\t- Explicitly set the environment variable TOKENIZERS_PARALLELISM=(true | false)\n",
      "huggingface/tokenizers: The current process just got forked, after parallelism has already been used. Disabling parallelism to avoid deadlocks...\n",
      "To disable this warning, you can either:\n",
      "\t- Avoid using `tokenizers` before the fork if possible\n",
      "\t- Explicitly set the environment variable TOKENIZERS_PARALLELISM=(true | false)\n"
     ]
    }
   ],
   "source": [
    "topics, probabilities = model.fit_transform(sent.n_v, embeddings_n_v)\n",
    "#topics, probabilities = model.fit_transform(sent.n_v)"
   ]
  },
  {
   "cell_type": "code",
   "execution_count": 31,
   "id": "graphic-empty",
   "metadata": {
    "scrolled": true
   },
   "outputs": [
    {
     "ename": "ValueError",
     "evalue": "could not convert string to float: 'sénateur comte empire officier légion honneur naître novembre card'",
     "output_type": "error",
     "traceback": [
      "\u001b[0;31m---------------------------------------------------------------------------\u001b[0m",
      "\u001b[0;31mValueError\u001b[0m                                Traceback (most recent call last)",
      "Input \u001b[0;32mIn [31]\u001b[0m, in \u001b[0;36m<cell line: 9>\u001b[0;34m()\u001b[0m\n\u001b[1;32m      3\u001b[0m \u001b[38;5;28;01mimport\u001b[39;00m \u001b[38;5;21;01mumap\u001b[39;00m\n\u001b[1;32m      4\u001b[0m \u001b[38;5;66;03m#umap_embeddings = umap.UMAP(n_neighbors=15, \u001b[39;00m\n\u001b[1;32m      5\u001b[0m  \u001b[38;5;66;03m#                           n_components=10, \u001b[39;00m\n\u001b[1;32m      6\u001b[0m   \u001b[38;5;66;03m#                          metric='cosine', random_state = 42).fit_transform(embeddings_n_v)\u001b[39;00m\n\u001b[0;32m----> 9\u001b[0m umap_embeddings \u001b[38;5;241m=\u001b[39m \u001b[43mumap\u001b[49m\u001b[38;5;241;43m.\u001b[39;49m\u001b[43mUMAP\u001b[49m\u001b[43m(\u001b[49m\u001b[43mn_neighbors\u001b[49m\u001b[38;5;241;43m=\u001b[39;49m\u001b[38;5;241;43m15\u001b[39;49m\u001b[43m,\u001b[49m\u001b[43m \u001b[49m\n\u001b[1;32m     10\u001b[0m \u001b[43m                            \u001b[49m\u001b[43mn_components\u001b[49m\u001b[38;5;241;43m=\u001b[39;49m\u001b[38;5;241;43m10\u001b[39;49m\u001b[43m,\u001b[49m\u001b[43m \u001b[49m\n\u001b[1;32m     11\u001b[0m \u001b[43m                            \u001b[49m\u001b[43mmetric\u001b[49m\u001b[38;5;241;43m=\u001b[39;49m\u001b[38;5;124;43m'\u001b[39;49m\u001b[38;5;124;43mcosine\u001b[39;49m\u001b[38;5;124;43m'\u001b[39;49m\u001b[43m,\u001b[49m\u001b[43m \u001b[49m\u001b[43mrandom_state\u001b[49m\u001b[43m \u001b[49m\u001b[38;5;241;43m=\u001b[39;49m\u001b[43m \u001b[49m\u001b[38;5;241;43m42\u001b[39;49m\u001b[43m)\u001b[49m\u001b[38;5;241;43m.\u001b[39;49m\u001b[43mfit_transform\u001b[49m\u001b[43m(\u001b[49m\u001b[43msent\u001b[49m\u001b[38;5;241;43m.\u001b[39;49m\u001b[43mn_v\u001b[49m\u001b[43m)\u001b[49m\n",
      "File \u001b[0;32m~/miniconda3/lib/python3.8/site-packages/umap/umap_.py:2772\u001b[0m, in \u001b[0;36mUMAP.fit_transform\u001b[0;34m(self, X, y)\u001b[0m\n\u001b[1;32m   2742\u001b[0m \u001b[38;5;28;01mdef\u001b[39;00m \u001b[38;5;21mfit_transform\u001b[39m(\u001b[38;5;28mself\u001b[39m, X, y\u001b[38;5;241m=\u001b[39m\u001b[38;5;28;01mNone\u001b[39;00m):\n\u001b[1;32m   2743\u001b[0m     \u001b[38;5;124;03m\"\"\"Fit X into an embedded space and return that transformed\u001b[39;00m\n\u001b[1;32m   2744\u001b[0m \u001b[38;5;124;03m    output.\u001b[39;00m\n\u001b[1;32m   2745\u001b[0m \n\u001b[0;32m   (...)\u001b[0m\n\u001b[1;32m   2770\u001b[0m \u001b[38;5;124;03m        Local radii of data points in the embedding (log-transformed).\u001b[39;00m\n\u001b[1;32m   2771\u001b[0m \u001b[38;5;124;03m    \"\"\"\u001b[39;00m\n\u001b[0;32m-> 2772\u001b[0m     \u001b[38;5;28;43mself\u001b[39;49m\u001b[38;5;241;43m.\u001b[39;49m\u001b[43mfit\u001b[49m\u001b[43m(\u001b[49m\u001b[43mX\u001b[49m\u001b[43m,\u001b[49m\u001b[43m \u001b[49m\u001b[43my\u001b[49m\u001b[43m)\u001b[49m\n\u001b[1;32m   2773\u001b[0m     \u001b[38;5;28;01mif\u001b[39;00m \u001b[38;5;28mself\u001b[39m\u001b[38;5;241m.\u001b[39mtransform_mode \u001b[38;5;241m==\u001b[39m \u001b[38;5;124m\"\u001b[39m\u001b[38;5;124membedding\u001b[39m\u001b[38;5;124m\"\u001b[39m:\n\u001b[1;32m   2774\u001b[0m         \u001b[38;5;28;01mif\u001b[39;00m \u001b[38;5;28mself\u001b[39m\u001b[38;5;241m.\u001b[39moutput_dens:\n",
      "File \u001b[0;32m~/miniconda3/lib/python3.8/site-packages/umap/umap_.py:2269\u001b[0m, in \u001b[0;36mUMAP.fit\u001b[0;34m(self, X, y)\u001b[0m\n\u001b[1;32m   2249\u001b[0m \u001b[38;5;28;01mdef\u001b[39;00m \u001b[38;5;21mfit\u001b[39m(\u001b[38;5;28mself\u001b[39m, X, y\u001b[38;5;241m=\u001b[39m\u001b[38;5;28;01mNone\u001b[39;00m):\n\u001b[1;32m   2250\u001b[0m     \u001b[38;5;124;03m\"\"\"Fit X into an embedded space.\u001b[39;00m\n\u001b[1;32m   2251\u001b[0m \n\u001b[1;32m   2252\u001b[0m \u001b[38;5;124;03m    Optionally use y for supervised dimension reduction.\u001b[39;00m\n\u001b[0;32m   (...)\u001b[0m\n\u001b[1;32m   2266\u001b[0m \u001b[38;5;124;03m        ``target_metric_kwds``.\u001b[39;00m\n\u001b[1;32m   2267\u001b[0m \u001b[38;5;124;03m    \"\"\"\u001b[39;00m\n\u001b[0;32m-> 2269\u001b[0m     X \u001b[38;5;241m=\u001b[39m \u001b[43mcheck_array\u001b[49m\u001b[43m(\u001b[49m\u001b[43mX\u001b[49m\u001b[43m,\u001b[49m\u001b[43m \u001b[49m\u001b[43mdtype\u001b[49m\u001b[38;5;241;43m=\u001b[39;49m\u001b[43mnp\u001b[49m\u001b[38;5;241;43m.\u001b[39;49m\u001b[43mfloat32\u001b[49m\u001b[43m,\u001b[49m\u001b[43m \u001b[49m\u001b[43maccept_sparse\u001b[49m\u001b[38;5;241;43m=\u001b[39;49m\u001b[38;5;124;43m\"\u001b[39;49m\u001b[38;5;124;43mcsr\u001b[39;49m\u001b[38;5;124;43m\"\u001b[39;49m\u001b[43m,\u001b[49m\u001b[43m \u001b[49m\u001b[43morder\u001b[49m\u001b[38;5;241;43m=\u001b[39;49m\u001b[38;5;124;43m\"\u001b[39;49m\u001b[38;5;124;43mC\u001b[39;49m\u001b[38;5;124;43m\"\u001b[39;49m\u001b[43m)\u001b[49m\n\u001b[1;32m   2270\u001b[0m     \u001b[38;5;28mself\u001b[39m\u001b[38;5;241m.\u001b[39m_raw_data \u001b[38;5;241m=\u001b[39m X\n\u001b[1;32m   2272\u001b[0m     \u001b[38;5;66;03m# Handle all the optional arguments, setting default\u001b[39;00m\n",
      "File \u001b[0;32m~/miniconda3/lib/python3.8/site-packages/sklearn/utils/validation.py:63\u001b[0m, in \u001b[0;36m_deprecate_positional_args.<locals>._inner_deprecate_positional_args.<locals>.inner_f\u001b[0;34m(*args, **kwargs)\u001b[0m\n\u001b[1;32m     61\u001b[0m extra_args \u001b[38;5;241m=\u001b[39m \u001b[38;5;28mlen\u001b[39m(args) \u001b[38;5;241m-\u001b[39m \u001b[38;5;28mlen\u001b[39m(all_args)\n\u001b[1;32m     62\u001b[0m \u001b[38;5;28;01mif\u001b[39;00m extra_args \u001b[38;5;241m<\u001b[39m\u001b[38;5;241m=\u001b[39m \u001b[38;5;241m0\u001b[39m:\n\u001b[0;32m---> 63\u001b[0m     \u001b[38;5;28;01mreturn\u001b[39;00m \u001b[43mf\u001b[49m\u001b[43m(\u001b[49m\u001b[38;5;241;43m*\u001b[39;49m\u001b[43margs\u001b[49m\u001b[43m,\u001b[49m\u001b[43m \u001b[49m\u001b[38;5;241;43m*\u001b[39;49m\u001b[38;5;241;43m*\u001b[39;49m\u001b[43mkwargs\u001b[49m\u001b[43m)\u001b[49m\n\u001b[1;32m     65\u001b[0m \u001b[38;5;66;03m# extra_args > 0\u001b[39;00m\n\u001b[1;32m     66\u001b[0m args_msg \u001b[38;5;241m=\u001b[39m [\u001b[38;5;124m'\u001b[39m\u001b[38;5;132;01m{}\u001b[39;00m\u001b[38;5;124m=\u001b[39m\u001b[38;5;132;01m{}\u001b[39;00m\u001b[38;5;124m'\u001b[39m\u001b[38;5;241m.\u001b[39mformat(name, arg)\n\u001b[1;32m     67\u001b[0m             \u001b[38;5;28;01mfor\u001b[39;00m name, arg \u001b[38;5;129;01min\u001b[39;00m \u001b[38;5;28mzip\u001b[39m(kwonly_args[:extra_args],\n\u001b[1;32m     68\u001b[0m                                  args[\u001b[38;5;241m-\u001b[39mextra_args:])]\n",
      "File \u001b[0;32m~/miniconda3/lib/python3.8/site-packages/sklearn/utils/validation.py:673\u001b[0m, in \u001b[0;36mcheck_array\u001b[0;34m(array, accept_sparse, accept_large_sparse, dtype, order, copy, force_all_finite, ensure_2d, allow_nd, ensure_min_samples, ensure_min_features, estimator)\u001b[0m\n\u001b[1;32m    671\u001b[0m         array \u001b[38;5;241m=\u001b[39m array\u001b[38;5;241m.\u001b[39mastype(dtype, casting\u001b[38;5;241m=\u001b[39m\u001b[38;5;124m\"\u001b[39m\u001b[38;5;124munsafe\u001b[39m\u001b[38;5;124m\"\u001b[39m, copy\u001b[38;5;241m=\u001b[39m\u001b[38;5;28;01mFalse\u001b[39;00m)\n\u001b[1;32m    672\u001b[0m     \u001b[38;5;28;01melse\u001b[39;00m:\n\u001b[0;32m--> 673\u001b[0m         array \u001b[38;5;241m=\u001b[39m \u001b[43mnp\u001b[49m\u001b[38;5;241;43m.\u001b[39;49m\u001b[43masarray\u001b[49m\u001b[43m(\u001b[49m\u001b[43marray\u001b[49m\u001b[43m,\u001b[49m\u001b[43m \u001b[49m\u001b[43morder\u001b[49m\u001b[38;5;241;43m=\u001b[39;49m\u001b[43morder\u001b[49m\u001b[43m,\u001b[49m\u001b[43m \u001b[49m\u001b[43mdtype\u001b[49m\u001b[38;5;241;43m=\u001b[39;49m\u001b[43mdtype\u001b[49m\u001b[43m)\u001b[49m\n\u001b[1;32m    674\u001b[0m \u001b[38;5;28;01mexcept\u001b[39;00m ComplexWarning \u001b[38;5;28;01mas\u001b[39;00m complex_warning:\n\u001b[1;32m    675\u001b[0m     \u001b[38;5;28;01mraise\u001b[39;00m \u001b[38;5;167;01mValueError\u001b[39;00m(\u001b[38;5;124m\"\u001b[39m\u001b[38;5;124mComplex data not supported\u001b[39m\u001b[38;5;130;01m\\n\u001b[39;00m\u001b[38;5;124m\"\u001b[39m\n\u001b[1;32m    676\u001b[0m                      \u001b[38;5;124m\"\u001b[39m\u001b[38;5;132;01m{}\u001b[39;00m\u001b[38;5;130;01m\\n\u001b[39;00m\u001b[38;5;124m\"\u001b[39m\u001b[38;5;241m.\u001b[39mformat(array)) \u001b[38;5;28;01mfrom\u001b[39;00m \u001b[38;5;21;01mcomplex_warning\u001b[39;00m\n",
      "File \u001b[0;32m~/miniconda3/lib/python3.8/site-packages/numpy/core/_asarray.py:83\u001b[0m, in \u001b[0;36masarray\u001b[0;34m(a, dtype, order)\u001b[0m\n\u001b[1;32m     14\u001b[0m \u001b[38;5;129m@set_module\u001b[39m(\u001b[38;5;124m'\u001b[39m\u001b[38;5;124mnumpy\u001b[39m\u001b[38;5;124m'\u001b[39m)\n\u001b[1;32m     15\u001b[0m \u001b[38;5;28;01mdef\u001b[39;00m \u001b[38;5;21masarray\u001b[39m(a, dtype\u001b[38;5;241m=\u001b[39m\u001b[38;5;28;01mNone\u001b[39;00m, order\u001b[38;5;241m=\u001b[39m\u001b[38;5;28;01mNone\u001b[39;00m):\n\u001b[1;32m     16\u001b[0m     \u001b[38;5;124;03m\"\"\"Convert the input to an array.\u001b[39;00m\n\u001b[1;32m     17\u001b[0m \n\u001b[1;32m     18\u001b[0m \u001b[38;5;124;03m    Parameters\u001b[39;00m\n\u001b[0;32m   (...)\u001b[0m\n\u001b[1;32m     81\u001b[0m \n\u001b[1;32m     82\u001b[0m \u001b[38;5;124;03m    \"\"\"\u001b[39;00m\n\u001b[0;32m---> 83\u001b[0m     \u001b[38;5;28;01mreturn\u001b[39;00m \u001b[43marray\u001b[49m\u001b[43m(\u001b[49m\u001b[43ma\u001b[49m\u001b[43m,\u001b[49m\u001b[43m \u001b[49m\u001b[43mdtype\u001b[49m\u001b[43m,\u001b[49m\u001b[43m \u001b[49m\u001b[43mcopy\u001b[49m\u001b[38;5;241;43m=\u001b[39;49m\u001b[38;5;28;43;01mFalse\u001b[39;49;00m\u001b[43m,\u001b[49m\u001b[43m \u001b[49m\u001b[43morder\u001b[49m\u001b[38;5;241;43m=\u001b[39;49m\u001b[43morder\u001b[49m\u001b[43m)\u001b[49m\n",
      "File \u001b[0;32m~/miniconda3/lib/python3.8/site-packages/pandas/core/series.py:766\u001b[0m, in \u001b[0;36mSeries.__array__\u001b[0;34m(self, dtype)\u001b[0m\n\u001b[1;32m    719\u001b[0m \u001b[38;5;28;01mdef\u001b[39;00m \u001b[38;5;21m__array__\u001b[39m(\u001b[38;5;28mself\u001b[39m, dtype\u001b[38;5;241m=\u001b[39m\u001b[38;5;28;01mNone\u001b[39;00m) \u001b[38;5;241m-\u001b[39m\u001b[38;5;241m>\u001b[39m np\u001b[38;5;241m.\u001b[39mndarray:\n\u001b[1;32m    720\u001b[0m     \u001b[38;5;124;03m\"\"\"\u001b[39;00m\n\u001b[1;32m    721\u001b[0m \u001b[38;5;124;03m    Return the values as a NumPy array.\u001b[39;00m\n\u001b[1;32m    722\u001b[0m \n\u001b[0;32m   (...)\u001b[0m\n\u001b[1;32m    764\u001b[0m \u001b[38;5;124;03m          dtype='datetime64[ns]')\u001b[39;00m\n\u001b[1;32m    765\u001b[0m \u001b[38;5;124;03m    \"\"\"\u001b[39;00m\n\u001b[0;32m--> 766\u001b[0m     \u001b[38;5;28;01mreturn\u001b[39;00m \u001b[43mnp\u001b[49m\u001b[38;5;241;43m.\u001b[39;49m\u001b[43masarray\u001b[49m\u001b[43m(\u001b[49m\u001b[38;5;28;43mself\u001b[39;49m\u001b[38;5;241;43m.\u001b[39;49m\u001b[43marray\u001b[49m\u001b[43m,\u001b[49m\u001b[43m \u001b[49m\u001b[43mdtype\u001b[49m\u001b[43m)\u001b[49m\n",
      "File \u001b[0;32m~/miniconda3/lib/python3.8/site-packages/numpy/core/_asarray.py:83\u001b[0m, in \u001b[0;36masarray\u001b[0;34m(a, dtype, order)\u001b[0m\n\u001b[1;32m     14\u001b[0m \u001b[38;5;129m@set_module\u001b[39m(\u001b[38;5;124m'\u001b[39m\u001b[38;5;124mnumpy\u001b[39m\u001b[38;5;124m'\u001b[39m)\n\u001b[1;32m     15\u001b[0m \u001b[38;5;28;01mdef\u001b[39;00m \u001b[38;5;21masarray\u001b[39m(a, dtype\u001b[38;5;241m=\u001b[39m\u001b[38;5;28;01mNone\u001b[39;00m, order\u001b[38;5;241m=\u001b[39m\u001b[38;5;28;01mNone\u001b[39;00m):\n\u001b[1;32m     16\u001b[0m     \u001b[38;5;124;03m\"\"\"Convert the input to an array.\u001b[39;00m\n\u001b[1;32m     17\u001b[0m \n\u001b[1;32m     18\u001b[0m \u001b[38;5;124;03m    Parameters\u001b[39;00m\n\u001b[0;32m   (...)\u001b[0m\n\u001b[1;32m     81\u001b[0m \n\u001b[1;32m     82\u001b[0m \u001b[38;5;124;03m    \"\"\"\u001b[39;00m\n\u001b[0;32m---> 83\u001b[0m     \u001b[38;5;28;01mreturn\u001b[39;00m \u001b[43marray\u001b[49m\u001b[43m(\u001b[49m\u001b[43ma\u001b[49m\u001b[43m,\u001b[49m\u001b[43m \u001b[49m\u001b[43mdtype\u001b[49m\u001b[43m,\u001b[49m\u001b[43m \u001b[49m\u001b[43mcopy\u001b[49m\u001b[38;5;241;43m=\u001b[39;49m\u001b[38;5;28;43;01mFalse\u001b[39;49;00m\u001b[43m,\u001b[49m\u001b[43m \u001b[49m\u001b[43morder\u001b[49m\u001b[38;5;241;43m=\u001b[39;49m\u001b[43morder\u001b[49m\u001b[43m)\u001b[49m\n",
      "File \u001b[0;32m~/miniconda3/lib/python3.8/site-packages/pandas/core/arrays/numpy_.py:203\u001b[0m, in \u001b[0;36mPandasArray.__array__\u001b[0;34m(self, dtype)\u001b[0m\n\u001b[1;32m    202\u001b[0m \u001b[38;5;28;01mdef\u001b[39;00m \u001b[38;5;21m__array__\u001b[39m(\u001b[38;5;28mself\u001b[39m, dtype\u001b[38;5;241m=\u001b[39m\u001b[38;5;28;01mNone\u001b[39;00m) \u001b[38;5;241m-\u001b[39m\u001b[38;5;241m>\u001b[39m np\u001b[38;5;241m.\u001b[39mndarray:\n\u001b[0;32m--> 203\u001b[0m     \u001b[38;5;28;01mreturn\u001b[39;00m \u001b[43mnp\u001b[49m\u001b[38;5;241;43m.\u001b[39;49m\u001b[43masarray\u001b[49m\u001b[43m(\u001b[49m\u001b[38;5;28;43mself\u001b[39;49m\u001b[38;5;241;43m.\u001b[39;49m\u001b[43m_ndarray\u001b[49m\u001b[43m,\u001b[49m\u001b[43m \u001b[49m\u001b[43mdtype\u001b[49m\u001b[38;5;241;43m=\u001b[39;49m\u001b[43mdtype\u001b[49m\u001b[43m)\u001b[49m\n",
      "File \u001b[0;32m~/miniconda3/lib/python3.8/site-packages/numpy/core/_asarray.py:83\u001b[0m, in \u001b[0;36masarray\u001b[0;34m(a, dtype, order)\u001b[0m\n\u001b[1;32m     14\u001b[0m \u001b[38;5;129m@set_module\u001b[39m(\u001b[38;5;124m'\u001b[39m\u001b[38;5;124mnumpy\u001b[39m\u001b[38;5;124m'\u001b[39m)\n\u001b[1;32m     15\u001b[0m \u001b[38;5;28;01mdef\u001b[39;00m \u001b[38;5;21masarray\u001b[39m(a, dtype\u001b[38;5;241m=\u001b[39m\u001b[38;5;28;01mNone\u001b[39;00m, order\u001b[38;5;241m=\u001b[39m\u001b[38;5;28;01mNone\u001b[39;00m):\n\u001b[1;32m     16\u001b[0m     \u001b[38;5;124;03m\"\"\"Convert the input to an array.\u001b[39;00m\n\u001b[1;32m     17\u001b[0m \n\u001b[1;32m     18\u001b[0m \u001b[38;5;124;03m    Parameters\u001b[39;00m\n\u001b[0;32m   (...)\u001b[0m\n\u001b[1;32m     81\u001b[0m \n\u001b[1;32m     82\u001b[0m \u001b[38;5;124;03m    \"\"\"\u001b[39;00m\n\u001b[0;32m---> 83\u001b[0m     \u001b[38;5;28;01mreturn\u001b[39;00m \u001b[43marray\u001b[49m\u001b[43m(\u001b[49m\u001b[43ma\u001b[49m\u001b[43m,\u001b[49m\u001b[43m \u001b[49m\u001b[43mdtype\u001b[49m\u001b[43m,\u001b[49m\u001b[43m \u001b[49m\u001b[43mcopy\u001b[49m\u001b[38;5;241;43m=\u001b[39;49m\u001b[38;5;28;43;01mFalse\u001b[39;49;00m\u001b[43m,\u001b[49m\u001b[43m \u001b[49m\u001b[43morder\u001b[49m\u001b[38;5;241;43m=\u001b[39;49m\u001b[43morder\u001b[49m\u001b[43m)\u001b[49m\n",
      "\u001b[0;31mValueError\u001b[0m: could not convert string to float: 'sénateur comte empire officier légion honneur naître novembre card'"
     ]
    }
   ],
   "source": [
    "#https://towardsdatascience.com/topic-modeling-with-bert-779f7db187e6\n",
    "\n",
    "import umap\n",
    "umap_embeddings = umap.UMAP(n_neighbors=15, \n",
    "                            n_components=10, \n",
    "                            metric='cosine', random_state = 42).fit_transform(embeddings_n_v)\n",
    "\n",
    "\n",
    "#umap_embeddings = umap.UMAP(n_neighbors=15, \n",
    " #                           n_components=10, \n",
    "  #                          metric='cosine', random_state = 42).fit_transform(sent.n_v)"
   ]
  },
  {
   "cell_type": "code",
   "execution_count": 32,
   "id": "sublime-tablet",
   "metadata": {
    "scrolled": true
   },
   "outputs": [
    {
     "ename": "NameError",
     "evalue": "name 'umap_embeddings' is not defined",
     "output_type": "error",
     "traceback": [
      "\u001b[0;31m---------------------------------------------------------------------------\u001b[0m",
      "\u001b[0;31mNameError\u001b[0m                                 Traceback (most recent call last)",
      "Input \u001b[0;32mIn [32]\u001b[0m, in \u001b[0;36m<cell line: 2>\u001b[0;34m()\u001b[0m\n\u001b[1;32m      1\u001b[0m \u001b[38;5;28;01mimport\u001b[39;00m \u001b[38;5;21;01mhdbscan\u001b[39;00m\n\u001b[1;32m      2\u001b[0m cluster \u001b[38;5;241m=\u001b[39m hdbscan\u001b[38;5;241m.\u001b[39mHDBSCAN(min_cluster_size\u001b[38;5;241m=\u001b[39m\u001b[38;5;241m20\u001b[39m,\n\u001b[1;32m      3\u001b[0m                           metric\u001b[38;5;241m=\u001b[39m\u001b[38;5;124m'\u001b[39m\u001b[38;5;124meuclidean\u001b[39m\u001b[38;5;124m'\u001b[39m,                      \n\u001b[0;32m----> 4\u001b[0m                           cluster_selection_method\u001b[38;5;241m=\u001b[39m\u001b[38;5;124m'\u001b[39m\u001b[38;5;124meom\u001b[39m\u001b[38;5;124m'\u001b[39m)\u001b[38;5;241m.\u001b[39mfit(\u001b[43mumap_embeddings\u001b[49m)\n",
      "\u001b[0;31mNameError\u001b[0m: name 'umap_embeddings' is not defined"
     ]
    }
   ],
   "source": [
    "import hdbscan\n",
    "cluster = hdbscan.HDBSCAN(min_cluster_size=20,\n",
    "                          metric='euclidean',                      \n",
    "                          cluster_selection_method='eom').fit(umap_embeddings)"
   ]
  },
  {
   "cell_type": "code",
   "execution_count": 35,
   "id": "liked-williams",
   "metadata": {},
   "outputs": [
    {
     "data": {
      "text/plain": [
       "<matplotlib.colorbar.Colorbar at 0x7fa98c2605b0>"
      ]
     },
     "execution_count": 35,
     "metadata": {},
     "output_type": "execute_result"
    },
    {
     "data": {
      "image/png": "[encoded data removed]",
      "text/plain": [
       "<Figure size 1440x720 with 2 Axes>"
      ]
     },
     "metadata": {
      "needs_background": "light"
     },
     "output_type": "display_data"
    }
   ],
   "source": [
    "import matplotlib.pyplot as plt\n",
    "\n",
    "# Prepare data\n",
    "umap_data = umap.UMAP(n_neighbors=15, n_components=2, min_dist=0.0, metric='cosine').fit_transform(embeddings_n_v)\n",
    "result = pd.DataFrame(umap_data, columns=['x', 'y'])\n",
    "result['labels'] = cluster.labels_\n",
    "\n",
    "# Visualize clusters\n",
    "fig, ax = plt.subplots(figsize=(20, 10))\n",
    "outliers = result.loc[result.labels == -1, :]\n",
    "clustered = result.loc[result.labels != -1, :]\n",
    "plt.scatter(outliers.x, outliers.y, color='#BDBDBD', s=0.05)\n",
    "plt.scatter(clustered.x, clustered.y, c=clustered.labels, s=0.05, cmap='hsv_r')\n",
    "plt.colorbar()"
   ]
  },
  {
   "cell_type": "code",
   "execution_count": 217,
   "id": "closing-sugar",
   "metadata": {},
   "outputs": [],
   "source": [
    "result.to_csv('./../../Data/Results/topic_modeling_results.csv')"
   ]
  },
  {
   "cell_type": "code",
   "execution_count": 165,
   "id": "broke-collins",
   "metadata": {},
   "outputs": [
    {
     "data": {
      "text/plain": [
       "1        49\n",
       "4        63\n",
       "6        73\n",
       "8        50\n",
       "10       50\n",
       "         ..\n",
       "23138    92\n",
       "23141    31\n",
       "23142    73\n",
       "23144    65\n",
       "23147     0\n",
       "Name: labels, Length: 11285, dtype: int64"
      ]
     },
     "execution_count": 165,
     "metadata": {},
     "output_type": "execute_result"
    }
   ],
   "source": [
    "clustered.labels"
   ]
  },
  {
   "cell_type": "code",
   "execution_count": 166,
   "id": "hazardous-armor",
   "metadata": {
    "scrolled": true
   },
   "outputs": [
    {
     "name": "stdout",
     "output_type": "stream",
     "text": [
      "\u001b[38;5;49m Cluster 49\n",
      "\u001b[38;5;63m Cluster 63\n",
      "\u001b[38;5;73m Cluster 73\n",
      "\u001b[38;5;50m Cluster 50\n",
      "\u001b[38;5;56m Cluster 56\n",
      "\u001b[38;5;39m Cluster 39\n",
      "\u001b[38;5;86m Cluster 86\n",
      "\u001b[38;5;18m Cluster 18\n",
      "\u001b[38;5;13m Cluster 13\n",
      "\u001b[38;5;26m Cluster 26\n",
      "\u001b[38;5;31m Cluster 31\n",
      "\u001b[38;5;90m Cluster 90\n",
      "\u001b[38;5;89m Cluster 89\n",
      "\u001b[38;5;81m Cluster 81\n",
      "\u001b[38;5;61m Cluster 61\n",
      "\u001b[38;5;78m Cluster 78\n",
      "\u001b[38;5;0m Cluster 0\n",
      "\u001b[38;5;14m Cluster 14\n",
      "\u001b[38;5;80m Cluster 80\n",
      "\u001b[38;5;34m Cluster 34\n",
      "\u001b[38;5;42m Cluster 42\n",
      "\u001b[38;5;23m Cluster 23\n",
      "\u001b[38;5;7m Cluster 7\n",
      "\u001b[38;5;32m Cluster 32\n",
      "\u001b[38;5;60m Cluster 60\n",
      "\u001b[38;5;38m Cluster 38\n",
      "\u001b[38;5;83m Cluster 83\n",
      "\u001b[38;5;64m Cluster 64\n",
      "\u001b[38;5;2m Cluster 2\n",
      "\u001b[38;5;54m Cluster 54\n",
      "\u001b[38;5;82m Cluster 82\n",
      "\u001b[38;5;29m Cluster 29\n",
      "\u001b[38;5;92m Cluster 92\n",
      "\u001b[38;5;48m Cluster 48\n",
      "\u001b[38;5;46m Cluster 46\n",
      "\u001b[38;5;75m Cluster 75\n",
      "\u001b[38;5;72m Cluster 72\n",
      "\u001b[38;5;41m Cluster 41\n",
      "\u001b[38;5;67m Cluster 67\n",
      "\u001b[38;5;71m Cluster 71\n",
      "\u001b[38;5;40m Cluster 40\n",
      "\u001b[38;5;35m Cluster 35\n",
      "\u001b[38;5;21m Cluster 21\n",
      "\u001b[38;5;68m Cluster 68\n",
      "\u001b[38;5;6m Cluster 6\n",
      "\u001b[38;5;24m Cluster 24\n",
      "\u001b[38;5;77m Cluster 77\n",
      "\u001b[38;5;51m Cluster 51\n",
      "\u001b[38;5;43m Cluster 43\n",
      "\u001b[38;5;5m Cluster 5\n",
      "\u001b[38;5;17m Cluster 17\n",
      "\u001b[38;5;33m Cluster 33\n",
      "\u001b[38;5;37m Cluster 37\n",
      "\u001b[38;5;8m Cluster 8\n",
      "\u001b[38;5;69m Cluster 69\n",
      "\u001b[38;5;70m Cluster 70\n",
      "\u001b[38;5;53m Cluster 53\n",
      "\u001b[38;5;12m Cluster 12\n",
      "\u001b[38;5;55m Cluster 55\n",
      "\u001b[38;5;57m Cluster 57\n",
      "\u001b[38;5;45m Cluster 45\n",
      "\u001b[38;5;65m Cluster 65\n",
      "\u001b[38;5;20m Cluster 20\n",
      "\u001b[38;5;79m Cluster 79\n",
      "\u001b[38;5;30m Cluster 30\n",
      "\u001b[38;5;44m Cluster 44\n",
      "\u001b[38;5;52m Cluster 52\n",
      "\u001b[38;5;16m Cluster 16\n",
      "\u001b[38;5;76m Cluster 76\n",
      "\u001b[38;5;28m Cluster 28\n",
      "\u001b[38;5;91m Cluster 91\n",
      "\u001b[38;5;27m Cluster 27\n",
      "\u001b[38;5;10m Cluster 10\n",
      "\u001b[38;5;25m Cluster 25\n",
      "\u001b[38;5;22m Cluster 22\n",
      "\u001b[38;5;58m Cluster 58\n",
      "\u001b[38;5;47m Cluster 47\n",
      "\u001b[38;5;85m Cluster 85\n",
      "\u001b[38;5;88m Cluster 88\n",
      "\u001b[38;5;87m Cluster 87\n",
      "\u001b[38;5;66m Cluster 66\n",
      "\u001b[38;5;84m Cluster 84\n",
      "\u001b[38;5;19m Cluster 19\n",
      "\u001b[38;5;36m Cluster 36\n",
      "\u001b[38;5;11m Cluster 11\n",
      "\u001b[38;5;15m Cluster 15\n",
      "\u001b[38;5;62m Cluster 62\n",
      "\u001b[38;5;9m Cluster 9\n",
      "\u001b[38;5;74m Cluster 74\n",
      "\u001b[38;5;4m Cluster 4\n",
      "\u001b[38;5;59m Cluster 59\n",
      "\u001b[38;5;1m Cluster 1\n",
      "\u001b[38;5;3m Cluster 3\n"
     ]
    }
   ],
   "source": [
    "for clust in clustered.labels.unique():\n",
    "    print(colors[clust] + 'Cluster ' + str(clust))"
   ]
  },
  {
   "cell_type": "code",
   "execution_count": 167,
   "id": "guilty-simon",
   "metadata": {},
   "outputs": [
    {
     "data": {
      "text/plain": [
       "[('card', 1.8754094680376479),\n",
       " ('page', 0.6152601098213435),\n",
       " ('loc', 0.12115156579320041),\n",
       " ('comte', 0.049371430951884926),\n",
       " ('sentimento', 0.04808451513250588),\n",
       " ('juit', 0.04808451513250588),\n",
       " ('may', 0.04808451513250588),\n",
       " ('angiolo', 0.04808451513250588),\n",
       " ('dec', 0.04808451513250588),\n",
       " ('lbid', 0.04808451513250588),\n",
       " ('feb', 0.04282799700490727),\n",
       " ('pag', 0.036195009631127886),\n",
       " ('exposition', 0.030679796664915517),\n",
       " ('mai', 0.02927195229650432),\n",
       " ('comète', 0.028824459195974067),\n",
       " ('monde', 0.022044239005607348),\n",
       " ('lorsqu', 0.02166604184129896),\n",
       " ('charger', 0.020484893143061993),\n",
       " ('famille', 0.020469964304132598),\n",
       " ('système', 0.020455081900235986)]"
      ]
     },
     "execution_count": 167,
     "metadata": {},
     "output_type": "execute_result"
    }
   ],
   "source": [
    "top_n_words[1][:20]"
   ]
  },
  {
   "cell_type": "code",
   "execution_count": 36,
   "id": "taken-grant",
   "metadata": {},
   "outputs": [],
   "source": [
    "docs_df = pd.DataFrame({ 'Doc' : sent.n_v.tolist(),'Annee' :sent.Annee.tolist(), 'Eloge' : sent.Eloge.tolist(),\n",
    "                       'Savant' : sent.Savant.tolist(), 'Auteur' : sent.Auteur.tolist()})\n",
    "docs_df['Topic'] = cluster.labels_\n",
    "docs_df['Doc_ID'] = range(len(docs_df))\n",
    "docs_df.head()\n",
    "docs_per_topic = docs_df.groupby(['Topic'], as_index = False).agg({'Doc': ' '.join})"
   ]
  },
  {
   "cell_type": "code",
   "execution_count": 37,
   "id": "talented-venue",
   "metadata": {},
   "outputs": [],
   "source": [
    "tf_idf, count = c_tf_idf(docs_per_topic.Doc.values, m=len(sent))"
   ]
  },
  {
   "cell_type": "code",
   "execution_count": 38,
   "id": "willing-seafood",
   "metadata": {},
   "outputs": [
    {
     "data": {
      "text/html": [
       "<div>\n",
       "<style scoped>\n",
       "    .dataframe tbody tr th:only-of-type {\n",
       "        vertical-align: middle;\n",
       "    }\n",
       "\n",
       "    .dataframe tbody tr th {\n",
       "        vertical-align: top;\n",
       "    }\n",
       "\n",
       "    .dataframe thead th {\n",
       "        text-align: right;\n",
       "    }\n",
       "</style>\n",
       "<table border=\"1\" class=\"dataframe\">\n",
       "  <thead>\n",
       "    <tr style=\"text-align: right;\">\n",
       "      <th></th>\n",
       "      <th>Topic</th>\n",
       "      <th>Size</th>\n",
       "    </tr>\n",
       "  </thead>\n",
       "  <tbody>\n",
       "    <tr>\n",
       "      <th>0</th>\n",
       "      <td>-1</td>\n",
       "      <td>11863</td>\n",
       "    </tr>\n",
       "    <tr>\n",
       "      <th>1</th>\n",
       "      <td>0</td>\n",
       "      <td>1757</td>\n",
       "    </tr>\n",
       "    <tr>\n",
       "      <th>40</th>\n",
       "      <td>39</td>\n",
       "      <td>941</td>\n",
       "    </tr>\n",
       "    <tr>\n",
       "      <th>50</th>\n",
       "      <td>49</td>\n",
       "      <td>529</td>\n",
       "    </tr>\n",
       "    <tr>\n",
       "      <th>79</th>\n",
       "      <td>78</td>\n",
       "      <td>522</td>\n",
       "    </tr>\n",
       "    <tr>\n",
       "      <th>27</th>\n",
       "      <td>26</td>\n",
       "      <td>443</td>\n",
       "    </tr>\n",
       "    <tr>\n",
       "      <th>64</th>\n",
       "      <td>63</td>\n",
       "      <td>426</td>\n",
       "    </tr>\n",
       "    <tr>\n",
       "      <th>36</th>\n",
       "      <td>35</td>\n",
       "      <td>389</td>\n",
       "    </tr>\n",
       "    <tr>\n",
       "      <th>91</th>\n",
       "      <td>90</td>\n",
       "      <td>371</td>\n",
       "    </tr>\n",
       "    <tr>\n",
       "      <th>70</th>\n",
       "      <td>69</td>\n",
       "      <td>202</td>\n",
       "    </tr>\n",
       "  </tbody>\n",
       "</table>\n",
       "</div>"
      ],
      "text/plain": [
       "    Topic   Size\n",
       "0      -1  11863\n",
       "1       0   1757\n",
       "40     39    941\n",
       "50     49    529\n",
       "79     78    522\n",
       "27     26    443\n",
       "64     63    426\n",
       "36     35    389\n",
       "91     90    371\n",
       "70     69    202"
      ]
     },
     "execution_count": 38,
     "metadata": {},
     "output_type": "execute_result"
    }
   ],
   "source": [
    "top_n_words = extract_top_n_words_per_topic(tf_idf, count, docs_per_topic, n=20)\n",
    "topic_sizes = extract_topic_sizes(docs_df); topic_sizes.head(10)"
   ]
  },
  {
   "cell_type": "code",
   "execution_count": 215,
   "id": "classified-questionnaire",
   "metadata": {},
   "outputs": [],
   "source": [
    "topic_sizes.to_csv('./../../Data/Results/topic_sizes.csv')\n",
    "docs_df.to_csv('./../../Data/Results/topic_modeling.csv')"
   ]
  },
  {
   "cell_type": "code",
   "execution_count": 39,
   "id": "pressed-wages",
   "metadata": {},
   "outputs": [
    {
     "data": {
      "text/plain": [
       "(94, 2)"
      ]
     },
     "execution_count": 39,
     "metadata": {},
     "output_type": "execute_result"
    }
   ],
   "source": [
    "topic_sizes.shape"
   ]
  },
  {
   "cell_type": "code",
   "execution_count": 40,
   "id": "solid-instruction",
   "metadata": {},
   "outputs": [
    {
     "data": {
      "text/html": [
       "<div>\n",
       "<style scoped>\n",
       "    .dataframe tbody tr th:only-of-type {\n",
       "        vertical-align: middle;\n",
       "    }\n",
       "\n",
       "    .dataframe tbody tr th {\n",
       "        vertical-align: top;\n",
       "    }\n",
       "\n",
       "    .dataframe thead th {\n",
       "        text-align: right;\n",
       "    }\n",
       "</style>\n",
       "<table border=\"1\" class=\"dataframe\">\n",
       "  <thead>\n",
       "    <tr style=\"text-align: right;\">\n",
       "      <th></th>\n",
       "      <th>Topic</th>\n",
       "      <th>Size</th>\n",
       "    </tr>\n",
       "  </thead>\n",
       "  <tbody>\n",
       "    <tr>\n",
       "      <th>0</th>\n",
       "      <td>-1</td>\n",
       "      <td>12063</td>\n",
       "    </tr>\n",
       "    <tr>\n",
       "      <th>1</th>\n",
       "      <td>0</td>\n",
       "      <td>1757</td>\n",
       "    </tr>\n",
       "    <tr>\n",
       "      <th>30</th>\n",
       "      <td>29</td>\n",
       "      <td>941</td>\n",
       "    </tr>\n",
       "    <tr>\n",
       "      <th>36</th>\n",
       "      <td>35</td>\n",
       "      <td>529</td>\n",
       "    </tr>\n",
       "    <tr>\n",
       "      <th>59</th>\n",
       "      <td>58</td>\n",
       "      <td>522</td>\n",
       "    </tr>\n",
       "    <tr>\n",
       "      <th>18</th>\n",
       "      <td>17</td>\n",
       "      <td>443</td>\n",
       "    </tr>\n",
       "    <tr>\n",
       "      <th>47</th>\n",
       "      <td>46</td>\n",
       "      <td>426</td>\n",
       "    </tr>\n",
       "    <tr>\n",
       "      <th>27</th>\n",
       "      <td>26</td>\n",
       "      <td>389</td>\n",
       "    </tr>\n",
       "    <tr>\n",
       "      <th>71</th>\n",
       "      <td>70</td>\n",
       "      <td>371</td>\n",
       "    </tr>\n",
       "    <tr>\n",
       "      <th>53</th>\n",
       "      <td>52</td>\n",
       "      <td>202</td>\n",
       "    </tr>\n",
       "  </tbody>\n",
       "</table>\n",
       "</div>"
      ],
      "text/plain": [
       "    Topic   Size\n",
       "0      -1  12063\n",
       "1       0   1757\n",
       "30     29    941\n",
       "36     35    529\n",
       "59     58    522\n",
       "18     17    443\n",
       "47     46    426\n",
       "27     26    389\n",
       "71     70    371\n",
       "53     52    202"
      ]
     },
     "execution_count": 40,
     "metadata": {},
     "output_type": "execute_result"
    }
   ],
   "source": [
    "from sklearn.metrics.pairwise import cosine_similarity\n",
    "\n",
    "\n",
    "for i in range(20):\n",
    "    # Calculate cosine similarity\n",
    "    similarities = cosine_similarity(tf_idf.T)\n",
    "    np.fill_diagonal(similarities, 0)\n",
    "\n",
    "    # Extract label to merge into and from where\n",
    "    topic_sizes = docs_df.groupby(['Topic']).count().sort_values(\"Doc\", ascending=False).reset_index()\n",
    "    topic_to_merge = topic_sizes.iloc[-1].Topic\n",
    "    topic_to_merge_into = np.argmax(similarities[topic_to_merge + 1]) - 1\n",
    "\n",
    "    # Adjust topics\n",
    "    docs_df.loc[docs_df.Topic == topic_to_merge, \"Topic\"] = topic_to_merge_into\n",
    "    old_topics = docs_df.sort_values(\"Topic\").Topic.unique()\n",
    "    map_topics = {old_topic: index - 1 for index, old_topic in enumerate(old_topics)}\n",
    "    docs_df.Topic = docs_df.Topic.map(map_topics)\n",
    "    docs_per_topic = docs_df.groupby(['Topic'], as_index = False).agg({'Doc': ' '.join})\n",
    "\n",
    "    # Calculate new topic words\n",
    "    m = len(sent)\n",
    "    tf_idf, count = c_tf_idf(docs_per_topic.Doc.values, m)\n",
    "    top_n_words = extract_top_n_words_per_topic(tf_idf, count, docs_per_topic, n=20)\n",
    "\n",
    "topic_sizes = extract_topic_sizes(docs_df); topic_sizes.head(10)"
   ]
  },
  {
   "cell_type": "code",
   "execution_count": 41,
   "id": "light-closer",
   "metadata": {},
   "outputs": [
    {
     "data": {
      "text/plain": [
       "(74, 2)"
      ]
     },
     "execution_count": 41,
     "metadata": {},
     "output_type": "execute_result"
    }
   ],
   "source": [
    "topic_sizes.shape"
   ]
  },
  {
   "cell_type": "code",
   "execution_count": 51,
   "id": "removed-badge",
   "metadata": {
    "scrolled": true
   },
   "outputs": [
    {
     "data": {
      "text/plain": [
       "[('air', 0.11224058680854217),\n",
       " ('sel', 0.09249756653939106),\n",
       " ('acide', 0.07077084231611616),\n",
       " ('alcali', 0.05906528936302197),\n",
       " ('métal', 0.05874489256551236),\n",
       " ('substance', 0.056943097323850465),\n",
       " ('gaz', 0.0526325451249309),\n",
       " ('eau', 0.052422674733703045),\n",
       " ('combustion', 0.04224061063992948),\n",
       " ('hydrogéner', 0.035847442593546074),\n",
       " ('combinaison', 0.03548183895987593),\n",
       " ('oxigène', 0.03307761336569976),\n",
       " ('qu', 0.03156967961708628),\n",
       " ('proportion', 0.029958930814436364),\n",
       " ('produire', 0.027628678764261064),\n",
       " ('zinc', 0.027217142928117066),\n",
       " ('quantité', 0.027108158375302612),\n",
       " ('charbon', 0.026061755744458057),\n",
       " ('chaux', 0.025936685114733952),\n",
       " ('fer', 0.025649747342861257)]"
      ]
     },
     "execution_count": 51,
     "metadata": {},
     "output_type": "execute_result"
    }
   ],
   "source": [
    "top_n_words[52][:20]"
   ]
  },
  {
   "cell_type": "code",
   "execution_count": 218,
   "id": "italian-locking",
   "metadata": {},
   "outputs": [],
   "source": [
    "import json\n",
    "with open('./../../Data/top_words.json', 'w') as fp:\n",
    "    json.dump(top_n_words, fp)"
   ]
  },
  {
   "cell_type": "code",
   "execution_count": 194,
   "id": "superb-pledge",
   "metadata": {},
   "outputs": [
    {
     "data": {
      "text/html": [
       "<div>\n",
       "<style scoped>\n",
       "    .dataframe tbody tr th:only-of-type {\n",
       "        vertical-align: middle;\n",
       "    }\n",
       "\n",
       "    .dataframe tbody tr th {\n",
       "        vertical-align: top;\n",
       "    }\n",
       "\n",
       "    .dataframe thead th {\n",
       "        text-align: right;\n",
       "    }\n",
       "</style>\n",
       "<table border=\"1\" class=\"dataframe\">\n",
       "  <thead>\n",
       "    <tr style=\"text-align: right;\">\n",
       "      <th></th>\n",
       "      <th>Doc</th>\n",
       "      <th>Annee</th>\n",
       "      <th>Eloge</th>\n",
       "      <th>Savant</th>\n",
       "      <th>Auteur</th>\n",
       "      <th>Topic</th>\n",
       "      <th>Doc_ID</th>\n",
       "    </tr>\n",
       "  </thead>\n",
       "  <tbody>\n",
       "    <tr>\n",
       "      <th>0</th>\n",
       "      <td>sénateur comte l empire officier légion d honn...</td>\n",
       "      <td>1813.0</td>\n",
       "      <td>Louis-Antoine de Bougainville, sénateur, comte...</td>\n",
       "      <td>Bougainville</td>\n",
       "      <td>Delambre</td>\n",
       "      <td>34</td>\n",
       "      <td>0</td>\n",
       "    </tr>\n",
       "    <tr>\n",
       "      <th>1</th>\n",
       "      <td>fils|fil fil d notaire échevin descendre d fam...</td>\n",
       "      <td>1813.0</td>\n",
       "      <td>Il était fils d'un notaire, échevin de Paris,...</td>\n",
       "      <td>Bougainville</td>\n",
       "      <td>Delambre</td>\n",
       "      <td>10</td>\n",
       "      <td>1</td>\n",
       "    </tr>\n",
       "    <tr>\n",
       "      <th>2</th>\n",
       "      <td>navigateur officier terre mer associer l scien...</td>\n",
       "      <td>1813.0</td>\n",
       "      <td>Navigateur célèbre, officier - général de ter...</td>\n",
       "      <td>Bougainville</td>\n",
       "      <td>Delambre</td>\n",
       "      <td>-1</td>\n",
       "      <td>2</td>\n",
       "    </tr>\n",
       "    <tr>\n",
       "      <th>3</th>\n",
       "      <td>collège faire remarquer aptitude lettrer science</td>\n",
       "      <td>1813.0</td>\n",
       "      <td>Encore au collège, il se faisait déjà remarque...</td>\n",
       "      <td>Bougainville</td>\n",
       "      <td>Delambre</td>\n",
       "      <td>-1</td>\n",
       "      <td>3</td>\n",
       "    </tr>\n",
       "    <tr>\n",
       "      <th>4</th>\n",
       "      <td>professeur expliquer jour phase lune position ...</td>\n",
       "      <td>1813.0</td>\n",
       "      <td>Son professeur expliquait un jour les phases ...</td>\n",
       "      <td>Bougainville</td>\n",
       "      <td>Delambre</td>\n",
       "      <td>50</td>\n",
       "      <td>4</td>\n",
       "    </tr>\n",
       "    <tr>\n",
       "      <th>...</th>\n",
       "      <td>...</td>\n",
       "      <td>...</td>\n",
       "      <td>...</td>\n",
       "      <td>...</td>\n",
       "      <td>...</td>\n",
       "      <td>...</td>\n",
       "      <td>...</td>\n",
       "    </tr>\n",
       "    <tr>\n",
       "      <th>22080</th>\n",
       "      <td>lecture d l odyssée d</td>\n",
       "      <td>1800.0</td>\n",
       "      <td>Sa lecture favorite était celle d'Homère, l'O...</td>\n",
       "      <td>Borda</td>\n",
       "      <td>Lefevre-Gineau</td>\n",
       "      <td>-1</td>\n",
       "      <td>22080</td>\n",
       "    </tr>\n",
       "    <tr>\n",
       "      <th>22081</th>\n",
       "      <td>conversation raison s mêler saillie</td>\n",
       "      <td>1800.0</td>\n",
       "      <td>Sa conversation était agréable et instructiv...</td>\n",
       "      <td>Borda</td>\n",
       "      <td>Lefevre-Gineau</td>\n",
       "      <td>39</td>\n",
       "      <td>22081</td>\n",
       "    </tr>\n",
       "    <tr>\n",
       "      <th>22082</th>\n",
       "      <td>cúur aimer inspirer rattachement respect</td>\n",
       "      <td>1800.0</td>\n",
       "      <td>Son cúur était aimant et facile ; il inspira...</td>\n",
       "      <td>Borda</td>\n",
       "      <td>Lefevre-Gineau</td>\n",
       "      <td>-1</td>\n",
       "      <td>22082</td>\n",
       "    </tr>\n",
       "    <tr>\n",
       "      <th>22083</th>\n",
       "      <td>mettre prix célébrité gloire d avoir être homme</td>\n",
       "      <td>1800.0</td>\n",
       "      <td>Il mettait peu de prix à la célébrité, mais ...</td>\n",
       "      <td>Borda</td>\n",
       "      <td>Lefevre-Gineau</td>\n",
       "      <td>-1</td>\n",
       "      <td>22083</td>\n",
       "    </tr>\n",
       "    <tr>\n",
       "      <th>22084</th>\n",
       "      <td></td>\n",
       "      <td>1800.0</td>\n",
       "      <td></td>\n",
       "      <td>Borda</td>\n",
       "      <td>Lefevre-Gineau</td>\n",
       "      <td>0</td>\n",
       "      <td>22084</td>\n",
       "    </tr>\n",
       "  </tbody>\n",
       "</table>\n",
       "<p>22085 rows × 7 columns</p>\n",
       "</div>"
      ],
      "text/plain": [
       "                                                     Doc   Annee  \\\n",
       "0      sénateur comte l empire officier légion d honn...  1813.0   \n",
       "1      fils|fil fil d notaire échevin descendre d fam...  1813.0   \n",
       "2      navigateur officier terre mer associer l scien...  1813.0   \n",
       "3       collège faire remarquer aptitude lettrer science  1813.0   \n",
       "4      professeur expliquer jour phase lune position ...  1813.0   \n",
       "...                                                  ...     ...   \n",
       "22080                              lecture d l odyssée d  1800.0   \n",
       "22081                conversation raison s mêler saillie  1800.0   \n",
       "22082           cúur aimer inspirer rattachement respect  1800.0   \n",
       "22083    mettre prix célébrité gloire d avoir être homme  1800.0   \n",
       "22084                                                     1800.0   \n",
       "\n",
       "                                                   Eloge        Savant  \\\n",
       "0      Louis-Antoine de Bougainville, sénateur, comte...  Bougainville   \n",
       "1       Il était fils d'un notaire, échevin de Paris,...  Bougainville   \n",
       "2       Navigateur célèbre, officier - général de ter...  Bougainville   \n",
       "3      Encore au collège, il se faisait déjà remarque...  Bougainville   \n",
       "4       Son professeur expliquait un jour les phases ...  Bougainville   \n",
       "...                                                  ...           ...   \n",
       "22080   Sa lecture favorite était celle d'Homère, l'O...         Borda   \n",
       "22081    Sa conversation était agréable et instructiv...         Borda   \n",
       "22082    Son cúur était aimant et facile ; il inspira...         Borda   \n",
       "22083    Il mettait peu de prix à la célébrité, mais ...         Borda   \n",
       "22084                                                            Borda   \n",
       "\n",
       "               Auteur  Topic  Doc_ID  \n",
       "0            Delambre     34       0  \n",
       "1            Delambre     10       1  \n",
       "2            Delambre     -1       2  \n",
       "3            Delambre     -1       3  \n",
       "4            Delambre     50       4  \n",
       "...               ...    ...     ...  \n",
       "22080  Lefevre-Gineau     -1   22080  \n",
       "22081  Lefevre-Gineau     39   22081  \n",
       "22082  Lefevre-Gineau     -1   22082  \n",
       "22083  Lefevre-Gineau     -1   22083  \n",
       "22084  Lefevre-Gineau      0   22084  \n",
       "\n",
       "[22085 rows x 7 columns]"
      ]
     },
     "execution_count": 194,
     "metadata": {},
     "output_type": "execute_result"
    }
   ],
   "source": [
    "docs_df"
   ]
  },
  {
   "cell_type": "code",
   "execution_count": 52,
   "id": "listed-huntington",
   "metadata": {},
   "outputs": [],
   "source": [
    "docs_df['Tuple_topic_sent'] = docs_df.apply(lambda row : (row['Eloge'], row['Topic']), axis = 1)"
   ]
  },
  {
   "cell_type": "code",
   "execution_count": 53,
   "id": "current-report",
   "metadata": {},
   "outputs": [],
   "source": [
    "reconstruct = docs_df.groupby(['Savant', 'Auteur', 'Annee'])['Tuple_topic_sent'].apply(list).reset_index()"
   ]
  },
  {
   "cell_type": "code",
   "execution_count": 54,
   "id": "overhead-fantasy",
   "metadata": {},
   "outputs": [],
   "source": [
    "df_sent = df.merge(reconstruct, on = ['Savant', 'Annee', 'Auteur'])"
   ]
  },
  {
   "cell_type": "code",
   "execution_count": 55,
   "id": "banner-reduction",
   "metadata": {},
   "outputs": [],
   "source": [
    "df_sent['Tuple_topic_sent'] = df_sent.apply(lambda row :sorted(row['Tuple_topic_sent'], \n",
    "                                                                         key=lambda x: row['Eloge'].index(x[0])),\n",
    "                                                               axis = 1)"
   ]
  },
  {
   "cell_type": "code",
   "execution_count": 56,
   "id": "motivated-functionality",
   "metadata": {
    "scrolled": true
   },
   "outputs": [
    {
     "name": "stdout",
     "output_type": "stream",
     "text": [
      "\u001b[38;5;0m 0   \u001b[38;5;1m 1   \u001b[38;5;2m 2   \u001b[38;5;3m 3   \u001b[38;5;4m 4   \u001b[38;5;5m 5   \u001b[38;5;6m 6   \u001b[38;5;7m 7   \u001b[38;5;8m 8   \u001b[38;5;9m 9   \u001b[38;5;10m 10  \u001b[38;5;11m 11  \u001b[38;5;12m 12  \u001b[38;5;13m 13  \u001b[38;5;14m 14  \u001b[38;5;15m 15  \u001b[0m\n",
      "\u001b[38;5;16m 16  \u001b[38;5;17m 17  \u001b[38;5;18m 18  \u001b[38;5;19m 19  \u001b[38;5;20m 20  \u001b[38;5;21m 21  \u001b[38;5;22m 22  \u001b[38;5;23m 23  \u001b[38;5;24m 24  \u001b[38;5;25m 25  \u001b[38;5;26m 26  \u001b[38;5;27m 27  \u001b[38;5;28m 28  \u001b[38;5;29m 29  \u001b[38;5;30m 30  \u001b[38;5;31m 31  \u001b[0m\n",
      "\u001b[38;5;32m 32  \u001b[38;5;33m 33  \u001b[38;5;34m 34  \u001b[38;5;35m 35  \u001b[38;5;36m 36  \u001b[38;5;37m 37  \u001b[38;5;38m 38  \u001b[38;5;39m 39  \u001b[38;5;40m 40  \u001b[38;5;41m 41  \u001b[38;5;42m 42  \u001b[38;5;43m 43  \u001b[38;5;44m 44  \u001b[38;5;45m 45  \u001b[38;5;46m 46  \u001b[38;5;47m 47  \u001b[0m\n",
      "\u001b[38;5;48m 48  \u001b[38;5;49m 49  \u001b[38;5;50m 50  \u001b[38;5;51m 51  \u001b[38;5;52m 52  \u001b[38;5;53m 53  \u001b[38;5;54m 54  \u001b[38;5;55m 55  \u001b[38;5;56m 56  \u001b[38;5;57m 57  \u001b[38;5;58m 58  \u001b[38;5;59m 59  \u001b[38;5;60m 60  \u001b[38;5;61m 61  \u001b[38;5;62m 62  \u001b[38;5;63m 63  \u001b[0m\n",
      "\u001b[38;5;64m 64  \u001b[38;5;65m 65  \u001b[38;5;66m 66  \u001b[38;5;67m 67  \u001b[38;5;68m 68  \u001b[38;5;69m 69  \u001b[38;5;70m 70  \u001b[38;5;71m 71  \u001b[38;5;72m 72  \u001b[38;5;73m 73  \u001b[38;5;74m 74  \u001b[38;5;75m 75  \u001b[38;5;76m 76  \u001b[38;5;77m 77  \u001b[38;5;78m 78  \u001b[38;5;79m 79  \u001b[0m\n",
      "\u001b[38;5;80m 80  \u001b[38;5;81m 81  \u001b[38;5;82m 82  \u001b[38;5;83m 83  \u001b[38;5;84m 84  \u001b[38;5;85m 85  \u001b[38;5;86m 86  \u001b[38;5;87m 87  \u001b[38;5;88m 88  \u001b[38;5;89m 89  \u001b[38;5;90m 90  \u001b[38;5;91m 91  \u001b[38;5;92m 92  \u001b[38;5;93m 93  \u001b[38;5;94m 94  \u001b[38;5;95m 95  \u001b[0m\n",
      "\u001b[38;5;96m 96  \u001b[38;5;97m 97  \u001b[38;5;98m 98  \u001b[38;5;99m 99  \u001b[38;5;100m 100 \u001b[38;5;101m 101 \u001b[38;5;102m 102 \u001b[38;5;103m 103 \u001b[38;5;104m 104 \u001b[38;5;105m 105 \u001b[38;5;106m 106 \u001b[38;5;107m 107 \u001b[38;5;108m 108 \u001b[38;5;109m 109 \u001b[38;5;110m 110 \u001b[38;5;111m 111 \u001b[0m\n",
      "\u001b[38;5;112m 112 \u001b[38;5;113m 113 \u001b[38;5;114m 114 \u001b[38;5;115m 115 \u001b[38;5;116m 116 \u001b[38;5;117m 117 \u001b[38;5;118m 118 \u001b[38;5;119m 119 \u001b[38;5;120m 120 \u001b[38;5;121m 121 \u001b[38;5;122m 122 \u001b[38;5;123m 123 \u001b[38;5;124m 124 \u001b[38;5;125m 125 \u001b[38;5;126m 126 \u001b[38;5;127m 127 \u001b[0m\n",
      "\u001b[38;5;128m 128 \u001b[38;5;129m 129 \u001b[38;5;130m 130 \u001b[38;5;131m 131 \u001b[38;5;132m 132 \u001b[38;5;133m 133 \u001b[38;5;134m 134 \u001b[38;5;135m 135 \u001b[38;5;136m 136 \u001b[38;5;137m 137 \u001b[38;5;138m 138 \u001b[38;5;139m 139 \u001b[38;5;140m 140 \u001b[38;5;141m 141 \u001b[38;5;142m 142 \u001b[38;5;143m 143 \u001b[0m\n",
      "\u001b[38;5;144m 144 \u001b[38;5;145m 145 \u001b[38;5;146m 146 \u001b[38;5;147m 147 \u001b[38;5;148m 148 \u001b[38;5;149m 149 \u001b[38;5;150m 150 \u001b[38;5;151m 151 \u001b[38;5;152m 152 \u001b[38;5;153m 153 \u001b[38;5;154m 154 \u001b[38;5;155m 155 \u001b[38;5;156m 156 \u001b[38;5;157m 157 \u001b[38;5;158m 158 \u001b[38;5;159m 159 \u001b[0m\n",
      "\u001b[38;5;160m 160 \u001b[38;5;161m 161 \u001b[38;5;162m 162 \u001b[38;5;163m 163 \u001b[38;5;164m 164 \u001b[38;5;165m 165 \u001b[38;5;166m 166 \u001b[38;5;167m 167 \u001b[38;5;168m 168 \u001b[38;5;169m 169 \u001b[38;5;170m 170 \u001b[38;5;171m 171 \u001b[38;5;172m 172 \u001b[38;5;173m 173 \u001b[38;5;174m 174 \u001b[38;5;175m 175 \u001b[0m\n",
      "\u001b[38;5;176m 176 \u001b[38;5;177m 177 \u001b[38;5;178m 178 \u001b[38;5;179m 179 \u001b[38;5;180m 180 \u001b[38;5;181m 181 \u001b[38;5;182m 182 \u001b[38;5;183m 183 \u001b[38;5;184m 184 \u001b[38;5;185m 185 \u001b[38;5;186m 186 \u001b[38;5;187m 187 \u001b[38;5;188m 188 \u001b[38;5;189m 189 \u001b[38;5;190m 190 \u001b[38;5;191m 191 \u001b[0m\n",
      "\u001b[38;5;192m 192 \u001b[38;5;193m 193 \u001b[38;5;194m 194 \u001b[38;5;195m 195 \u001b[38;5;196m 196 \u001b[38;5;197m 197 \u001b[38;5;198m 198 \u001b[38;5;199m 199 \u001b[38;5;200m 200 \u001b[38;5;201m 201 \u001b[38;5;202m 202 \u001b[38;5;203m 203 \u001b[38;5;204m 204 \u001b[38;5;205m 205 \u001b[38;5;206m 206 \u001b[38;5;207m 207 \u001b[0m\n",
      "\u001b[38;5;208m 208 \u001b[38;5;209m 209 \u001b[38;5;210m 210 \u001b[38;5;211m 211 \u001b[38;5;212m 212 \u001b[38;5;213m 213 \u001b[38;5;214m 214 \u001b[38;5;215m 215 \u001b[38;5;216m 216 \u001b[38;5;217m 217 \u001b[38;5;218m 218 \u001b[38;5;219m 219 \u001b[38;5;220m 220 \u001b[38;5;221m 221 \u001b[38;5;222m 222 \u001b[38;5;223m 223 \u001b[0m\n",
      "\u001b[38;5;224m 224 \u001b[38;5;225m 225 \u001b[38;5;226m 226 \u001b[38;5;227m 227 \u001b[38;5;228m 228 \u001b[38;5;229m 229 \u001b[38;5;230m 230 \u001b[38;5;231m 231 \u001b[38;5;232m 232 \u001b[38;5;233m 233 \u001b[38;5;234m 234 \u001b[38;5;235m 235 \u001b[38;5;236m 236 \u001b[38;5;237m 237 \u001b[38;5;238m 238 \u001b[38;5;239m 239 \u001b[0m\n",
      "\u001b[38;5;240m 240 \u001b[38;5;241m 241 \u001b[38;5;242m 242 \u001b[38;5;243m 243 \u001b[38;5;244m 244 \u001b[38;5;245m 245 \u001b[38;5;246m 246 \u001b[38;5;247m 247 \u001b[38;5;248m 248 \u001b[38;5;249m 249 \u001b[38;5;250m 250 \u001b[38;5;251m 251 \u001b[38;5;252m 252 \u001b[38;5;253m 253 \u001b[38;5;254m 254 \u001b[38;5;255m 255 \u001b[0m\n"
     ]
    }
   ],
   "source": [
    "import sys\n",
    "\n",
    "colors = []\n",
    "for i in range(0, 16):\n",
    "    for j in range(0, 16):\n",
    "        code = str(i * 16 + j)\n",
    "        sys.stdout.write(u\"\\u001b[38;5;\" + code + \"m \" + code.ljust(4))\n",
    "        colors.append(u\"\\u001b[38;5;\" + code + \"m \")\n",
    "    print(u\"\\u001b[0m\")"
   ]
  },
  {
   "cell_type": "code",
   "execution_count": 57,
   "id": "neither-relevance",
   "metadata": {},
   "outputs": [
    {
     "data": {
      "text/plain": [
       "[(\"Louis-Antoine de Bougainville, sénateur, comte l'empire, grand - officier de la légion d'honneur, naquit à Paris, le 11 novembre 1729\",\n",
       "  -1),\n",
       " ('', 0),\n",
       " (\" Il était fils d'un notaire, échevin de Paris, et descendait d'une ancienne famille de Picardie\",\n",
       "  35),\n",
       " (\" Navigateur célèbre, officier - général de terre et de mer, associé libre de l'Académie des sciences, membre de l'Institut et du bureau des longitudes, tant de titres divers qu'il ne dut qu'à lui-même, et qui furent la récompense de longs travaux et d'actions d'éclat, font déjà un assez bel éloge, et prouvent que celui qui sut les mériter n'était en aucun genre un homme ordinaire\",\n",
       "  -1),\n",
       " ('Encore au collège, il se faisait déjà remarquer par une aptitude égale pour les lettres et pour les sciences',\n",
       "  -1),\n",
       " (' Son professeur expliquait un jour les phases de la lune et les diverses positions du croissant ; pour graver ces notions dans la mémoire de ses auditeurs, il leur citait deux vers latins',\n",
       "  46),\n",
       " (' Le jeune Bougainville se permit de les trouver très médiocres', -1),\n",
       " (\" Défié d'en faire de meilleurs, il répondit presque aussitôt par quatre vers plus exacts, plus instructifs et plus poétiques surtout que le distique dont il avait osé plaisanter\",\n",
       "  56),\n",
       " (' Au sortir du collège, il se fit recevoir avocat au parlement, par complaisance pour sa famille ; mais en même temps, pour obéir à ses propres goûts, il se faisait inscrire aux mousquetaires',\n",
       "  -1),\n",
       " (\" Le hasard l'avait fait voisin de Clairaut et de d'Alembert ; il se lia avec ces deux grands géomètres ; il les visitait souvent, profitait de leurs entretiens et de leurs écrits, et à l'âge de vingt-cinq ans il fit paraître la première partie de son Calcul intégral, pour servir de suite à l'analyse des infiniment petits de l'Hôpital\",\n",
       "  36),\n",
       " (\" La franchise, qui fut dans tous les temps un des traits les plus marqués de son caractère, lui fit déclarer dans sa préface que rien ne lui appartenait dans cet ouvrage, si ce n'est l'ordre qu'il avait tâché d'y mettre ; mais les commissaires de l'Académie attestaient, de leur côté, qu'en exposant les méthodes des différents géomètres, il avait su se les rendre propres par l'intelligence et la clarté avec lesquelles il les développait\",\n",
       "  -1),\n",
       " (\" Outre ce témoignage flatteur, il trouvait encore une autre récompense dans la certitude d'être utile aux jeunes géomètres, qui manquaient absolument de guides pour pénétrer dans cette partie alors peu éclaircie de la science mathématique\",\n",
       "  36),\n",
       " (\" En le voyant nommé presque aussitôt aide major d'un bataillon de Picardie, aide-de-camp de Chevert, on put craindre qu'il n'abandonnât les sciences ; un voyage qu'il fit à Londres comme secrétaire d'ambassade, le lia de nouveau avec les savants ; il fut reçu de la Société royale, dont il eut le temps de devenir un des doyens\",\n",
       "  -1),\n",
       " (\" L'année suivante, il rejoignit son général ; en 1756, il suivit Moncalm en Canada avec le titre de capitaine de dragons ; et la preuve que tant de fonctions diverses ne lui avaient pas fait négliger les sciences, c'est qu'à son départ pour l'Amérique, il avait livré à l'impression la seconde partie de son Calcul intégral, dont il pria Bézout de lire les épreuves en son absence\",\n",
       "  -1),\n",
       " (' M', 0),\n",
       " (' M', 0),\n",
       " (' M', 0),\n",
       " (' M', 0),\n",
       " (\"A peine arrivé en Amérique, on l'y voit, par une marche pénible autant que hardie sur les glaces et la neige ou à travers des bois presque impénétrables, s'avancer jusqu'au fond du lac Saint -Sacrement, et brûler une flottille anglaise sous le fort même qui la protégeait\",\n",
       "  41),\n",
       " (\" En 1768, un détachement de cinq mille Français se voyait depuis plusieurs jours poursuivi par une armée de vingt- quatre mille Anglais, Bougainville inspire à ses compagnons la résolution d'attendre courageusement l'ennemi ; on se fortifie à la hâte, en moins de vingt-heures ; l'Anglais est repoussé et contraint de se retirer avec une perte de six mille hommes, et Bougainville, qui, par ses conseils et ses exemples, avait eu tant de part à la victoire, reçoit à la tête, à la fin du combat, un coup de fou qui n'eut heureusement aucune suite dangereuse\",\n",
       "  29),\n",
       " (\" Cependant le gouverneur désespère de sauver la colonie s'il ne reçoit de prompts renforts\",\n",
       "  -1),\n",
       " (' Bougainville est envoyé en France pour les solliciter', -1),\n",
       " (' Il en revient avec le grade de colonel à la suite du régiment de Rouergue, et la croix de Saint -Louis accordée avant le temps, en considération de ses brillants services',\n",
       "  -1),\n",
       " (\" Moncalm le mit à la tête des grenadiers et des volontaires, pour couvrir la retraite de l'armée, forcée de se replier sur Québec ; il remplit cette mission avec son intrépidité et son bonheur accoutumés\",\n",
       "  -1),\n",
       " (' Mais bientôt la mort du général entraîne la perte de la colonie ; Bougainville revient en France, suit aussitôt M',\n",
       "  -1),\n",
       " (' Choiseul de Stainville en Allemagne, continue de se signaler, et voit sa valeur récompensée par le don de deux pièces de canon',\n",
       "  66),\n",
       " (\" La paix vient lui ôter les occasions qu'il savait si bien mettre à profit ; mais elle ne diminuera pas son activité\",\n",
       "  -1),\n",
       " (\" Nous l'avons vu géomètre, guerrier, négociateur ; nous allons le voir fondateur d'une colonie\",\n",
       "  36),\n",
       " (\" Ses divers voyages en Amérique l'avaient lié avec les négociants et les armateurs de Saint -Malo\",\n",
       "  10),\n",
       " (\" Un navire sorti de ce port au commencement du siècle, avait mouillé à la côte sud -est d'un groupe d'îles visitées plus anciennement par les Anglais, qui les avaient nommées Virginie d'Hawkins, nom qu'ils ont depuis changé en celui d'iles de Falkland\",\n",
       "  -1),\n",
       " (\" La situation favorable de ces îles avait fait naître l'idée d'y former un établissement\",\n",
       "  -1),\n",
       " (' La cour de France y songeait en 1763', 29),\n",
       " (' Bougainville offrit de le commencer à ses frais', -1),\n",
       " (' De société avec deux de ses parents, il fait armer à Saint -Malo deux bâtiments, il embarque quelques familles acadiennes, et le 3 avril 1764, il aborde à ces îles auxquelles il donna le nom de Malouines',\n",
       "  -1),\n",
       " (' Elles étaient inhabitées ; aucune violence, aucune injustice ne marqua sa prise de possession',\n",
       "  -1),\n",
       " (\" Une pèche abondante, des oiseaux, d'abord sans défiance, et qui se laissaient prendre à la main, assurent les subsistances ; mais on y chercha en vain des bois de construction et de chauffage : on ne trouva que des roseaux et une tourbe excellente ; l'emplacement d'un fort est tracé ; on construit en terre les fortifications ; à l'exemple du chef, tous les colons, et l'aumonier lui-même, prennent part au travail ; au centre du fort s'élève un obélisque ; l'hémistiche tibi serviat ultila Thule se lit au-dessous du portrait du monarque ; l'inscription se termine par ce commencement d'un vers d'Horace : Conamur tenues grandia\",\n",
       "  -1),\n",
       " (' Ces premiers travaux terminés, Bougainville repasse en France, laissant à son parent le gouvernement de la colonie naissante',\n",
       "  -1),\n",
       " (\" L'année suivante, il revient avec des provisions et de nouveaux habitants\",\n",
       "  7),\n",
       " (\" Une excursion au détroit de Magellan lui procure des bois de construction et dix mille plants d'arbres de tout âge, secours précieux et indispensable pour l'établissement\",\n",
       "  17),\n",
       " (\" Une alliance est conclue avec les Patagons ; la plus grande partie des graines venues d'Europe s'étaient naturalisées ; divers essais de culture promettaient des succès ; la multiplication des bestiaux était certaine ; le nombre des habitants, porté de 80 à 150 ; mais ces accroissements, trop lents de leur nature, ne pouvait suffire à l'activité du fondateur ; depuis longtemps il était à Paris ; il y apprend que ces succès avaient alarmé les Espagnols, et qu'ils avaient porté des réclamations au gouvernement français\",\n",
       "  -1),\n",
       " (\" Bougainville est chargé d'aller lui-même remettre son île\", -1),\n",
       " (\" La cour d'Espagne consent à lui rendre les fonds qu'il y avait placés ; à payer le prix des ouvrages qu'on lui cède ; et pour consolation, la cour de France lui permet de faire le tour du Monde\",\n",
       "  -1),\n",
       " (\" On lui donne le commandement de la frégate la Boudeuse ; la flûte l'…toile doit se joindre à lui ; il y embarque le naturaliste Commerçon, et l'astronome Véron qu'il avait demandé pour essayer les nouvelles méthodes de longitude\",\n",
       "  46),\n",
       " (\" Ce fut le 3 mai 1766 que Bougainville remit aux Espagnols la colonie qui avait à peine deux ans d'existence, et dont il prévoyait avec douleur la décadence prochaine ; il regretta toute sa vie un observatoire qu'il voulait y bâtir, et que sa position par 51∞ de latitude australe devait rendre une succursale utile aux grands observatoires d'Europe\",\n",
       "  -1),\n",
       " (\" Pour justifier ses regrets, pendant qu'il s'apprêtait à partir, il y voit pendant plusieurs jours une comète qui cessait d'être visible en Europe\",\n",
       "  -1),\n",
       " (\" C'est la seconde comète de 1766 ; et Pingre, qui a rassemblé soigneusement toutes les observations faites à l'Isle- de- France, paraît avoir ignore la mention qu'on en trouve dans le Voyage autour du Monde\",\n",
       "  -1),\n",
       " (\" Depuis que ses projets étaient renversés, son île ne pouvait l'intéresser que médiocrement ; toutes ses pensées étaient tournées vers l'expédition brillante qu'il allait entreprendre ; mais la flûte l'Etoile, qui devait lui apporter des vivres, n'arrivait pas : il jugea que quelque obstacle l'avait empêchée de se rendre aux Malouines, et qu'il devait lui-même aller la chercher à Mont -Video, Il se résolut pour la rejoindre à faire une course qui ne pouvait être moindre de huit cents lieues, et qui fut en effet de douze cents, car il devait revenir sur ses traces, et repasser presqu'à la vue des Malouines pour pénétrer par le détroit de Magellan dans la mer Pacifique ; mais outre que ce parti convenait mieux à son inquiète activité, il dut peu regretter un détour qui le rendit témoin d'une scène dont la renommée se répandit bientôt dans tous les Etats chrétiens, et dont il put recueillir toutes les circonstances\",\n",
       "  -1),\n",
       " (\" A peine il arrivait à Buenos-Aires, qu'il fut témoin de l'arrestation des Jésuites du Paraguay\",\n",
       "  -1),\n",
       " (\" En homme franc et libre de préjugés, il rapporte avec impartialité tout ce qu'on peut dire en faveur du gouvernement des pères dans leurs missions ; il ne dissimule pas davantage les reproches que ce gouvernement pouvait mériter\",\n",
       "  35),\n",
       " (\" ´ Mais sa plume se refuse au détail de tout ce que le public prétendait avoir été trouvé dans les papiers saisis chez les Jésuites ; les haines lui paraissent trop récentes pour qu'on puisse discerner les fausses imputations d'avec les véritables ; il aime mieux rendre justice à la plus grande partie des membres de la société, qui, n'étant point dans le secret des chefs, témoignèrent la plus parfaite résignation, et ne surent que s'humilier sous la main qui les frappait\",\n",
       "  -1),\n",
       " (\" ª Sept mois après son départ il se retrouvait non loin des Malouines, vis-à-vis le cap des Vierges, à l'entrée du détroit de Magellan\",\n",
       "  22),\n",
       " (\" Là, par des distances observées de la lune au soleil, on détermina de nouveau la longitude, et l'on fixa le point du vaisseau\",\n",
       "  46),\n",
       " (\" Le passage du détroit fut pénible ; des brumes épaisses des vents impétueux forcent à louvoyer et sonder sans cesse et la marée fait perdre le plus souvent le peu d'avance qu'on a gagné avec tant de peine\",\n",
       "  -1),\n",
       " (' Les feux allumés par les Patagons aident les navigateurs à prendre terre',\n",
       "  -1),\n",
       " (' Ils sont bien reçus par les naturels, et Bougainville en conserva toujours une tendre reconnaissance',\n",
       "  -1),\n",
       " (' Cette entrevue les réhabilite aux yeux du lecteur qui les avait jugés moins bons et moins sûrs dans leurs premières relations avec les députés de la colonie',\n",
       "  -1),\n",
       " (\" C'est là que commencent les découvertes : les noms imposés aux îles, aux baies, aux détroits, commencent à montrer des monuments du passage des Français et de leurs travaux pour l'avancement de la géographie ; mais un ciel ingrat rend presque inutiles tous les travaux de l'astronome Véron et tous ses préparatifs dans l'île, qui fut nommée de l'Observatoire\",\n",
       "  -1),\n",
       " (\"Les ouragans accompagnèrent nos voyageurs jusqu'à la sortie du détroit qui ne fut pas moins périlleuse que l'entrée\",\n",
       "  -1),\n",
       " (\" Cette traversée, que le navigateur estime de cent trente-deux lieues, fut l'ouvrage de cinquante - deux jours d'une navigation laborieuse, qui du moins n'avait point altéré la santé des équipages ; à l'entrée dans la mer Pacifique,personne n'était sur les cadres\",\n",
       "  -1),\n",
       " (' La navigation devient alors plus facile et plus fructueuse ; les découvertes se multiplient, on en constate quelques-unes sur lesquelles les avis des navigateurs étaient partagés',\n",
       "  -1),\n",
       " (\" Le chef marque de son cachet les îles qu'il rencontre ; on les reconnaît aux dénominations des Quatre Facardins et du Boudoir\",\n",
       "  -1),\n",
       " (\" Il aperçut cette dernière île deux jours avant d'aborder à Tahiti\", -1),\n",
       " (\" On commençait à sentir le besoin le plus urgent d'une relâche, et il était difficile d'en rencontrer une qui pût mieux consoler des maux passés\",\n",
       "  -1),\n",
       " (\" On sait assez quelle est dans cette île la manière dont on exerce l'hospitalité\",\n",
       "  -1),\n",
       " (\" Malgré l'embarras et l'espèce de honte que montrèrent d'abord les matelots, le narrateur n'oserait répondre que personne dans son équipage ne se vît conformé aux usages du pays ; et quand on voit le récit de sa visite au bon prince Tatoua, on est tenté de croire qu'il n'a pas voulu affliger par un refus l'hôte qui l'accablait de tant de prévenance\",\n",
       "  70),\n",
       " (\"Une si bonne réception était accompagnée de quelques inconvénients ; si la terre n'offrait rien que d'agréable, le peu de sûreté d'un mouillage qui coûta six ancres en neuf jours inquiétait continuellement, et l'on quitta la Nouvelle- Cythère avec autant d'empressement qu'on en avait mis à y aborder\",\n",
       "  -1),\n",
       " (\" Ce qui dut prolonger chez nos navigateurs le souvenir d'une relâche si remarquable, ce qui les mit à portée de s'instruire plus à fond des múurs et de la langue du pays, ce fut la résolution que prit un jeune insulaire de partir avec eux\",\n",
       "  -1),\n",
       " (\" Il se nommait Aotourou ; il est plus connu sous le nom de Poutaveri, c'est ainsi qu'il nommait son ami Bougainville\",\n",
       "  -1),\n",
       " (\" Un obstacle naturel l'empêcha toujours de prononcer mieux un nom qu'il avait sans cesse à la bouche\",\n",
       "  -1),\n",
       " (\" Ce jeune homme intéressant dut les amuser souvent dans la traversée par ses récits, et leur fut quelquefois utile par les connaissances qu'il avait\",\n",
       "  -1),\n",
       " (\" On remarqua qu'il donnait des noms de sa langue aux étoiles les, plus brillantes, et qu'il avait dû faire plusieurs voyages aux îles voisines dont il indiquait la position, ainsi que les múurs de leurs habitants\",\n",
       "  -1),\n",
       " (' Aotourou resta onze mois à Paris', 22),\n",
       " (\" L'empressement pour le voir fut vif, mais stérile\", -1),\n",
       " (' Son patron ne négligea rien pour lui rendre agréable son séjour en France',\n",
       "  -1),\n",
       " (\" Aotourou payait ces attentions par la plus vive reconnaissance et par les historiettes plaisantes dont il laissa une collection qu'on entendait toujours avec plaisir, mais dont Bougainville n'a pas jugé à propos d'orner la relation de son voyage\",\n",
       "  -1),\n",
       " (' Rien ne fut omis pour assurer son retour dans son île', -1),\n",
       " (\" Les recommandations les plus fortes, ne somme de 36,000 livres que Bougainville avança de ses propres deniers sans avoir la certitude qu'elle dût jamais lui être remboursée, les soins que se donna M\",\n",
       "  -1),\n",
       " (\" Poivre, qui le reçut à l'Isle-de-France, ni ceux du capitaine Marcon qui s'était chargé de le remettre dans son île, rien ne put le soustraire à sa malheureuse destinée ; il mourut de la petite vérole dans la traversée\",\n",
       "  69),\n",
       " (' Tel avait été le sort de deux autres insulaires partis avec un capitaine anglais qui avait visité Tahiti huit mois avant Bougainville',\n",
       "  -1),\n",
       " (\" Après cette île, la navigation ne peut offrir de longtemps rien qui soit d'un intérêt si général\",\n",
       "  -1),\n",
       " (' Les dangers seuls viennent interrompre la monotonie des détails nautiques',\n",
       "  -1),\n",
       " (' Ces dangers sont tels, que M', -1),\n",
       " (\" Bougainville ne veut plus faire sonder, parce que la certitude du péril ne l'eût pas diminué\",\n",
       "  -1),\n",
       " (' On commençait à redouter le plus horrible de tous, la faim', -1),\n",
       " (\" On est obligé de réduire les rations, de changer de route, et de renoncer à la découverte d'un passage qu'on soupçonnait et qu'on cherchait depuis longtemps\",\n",
       "  -1),\n",
       " (\" La gloire en était réservée à Cook, qui le rencontra fort heureusement à l'instant où son vaisseau était menacé de se perdre\",\n",
       "  69),\n",
       " (\" Un danger pareil attendait Bougainville, si le défaut de vivres ne fût à propos survenu pour l'en garantir\",\n",
       "  -1),\n",
       " (' On échappe enfin ; un cap reçoit le nom de la Délivrance ; mais le scorbut commençait à se répandre parmi les équipages',\n",
       "  -1),\n",
       " (\" Heureusement on trouve un passage à travers les îles Papous, et l'on entre dans la mer des Moluques\",\n",
       "  -1),\n",
       " (\" Bourou présente une relâche délicieuse, où, malgré les ordres sévères qui excluent tout navire étranger, le résident permet qu'on se repose après tant de fatigues\",\n",
       "  69),\n",
       " (\" Aotourou, transporté à la vue de tant d'objets nouveaux, demande si Paris est plus beau que Bourou ; mais bientôt son enthousiasme pour les possessions hollandaises se refroidit à la vue des maladies causées par l'air mal sain de Batavia, à laquelle il donne le nom d'Enoua maté, terre qui tue\",\n",
       "  -1),\n",
       " (\" De Batavia, les vaisseaux passent à l'Isle-de-France, au cap de Bonne-Espérance, et à Saint-Malo, où ils abordent le 16 mars 1769, après une navigation de deux ans et quatre mois, qui n'a coûté que sept hommes sur plus de deux cents\",\n",
       "  -1),\n",
       " (\" Ainsi finit cette expédition brillante dont les avantages, les dangers, l'audace, et le bonheur, viennent d'être justement appréciés par un bon juge dans l'article Bougainville de la nouvelle biographie\",\n",
       "  -1),\n",
       " (\" C'était le premier voyage où les Français eussent fait le tour du Monde, c'est-à-dire, traversé les 360∞ de longitude, et tous les méridiens de la terre\",\n",
       "  -1),\n",
       " (' Cette expédition plaça M', 61),\n",
       " (\" de Bougainville au rang des plus grands navigateurs, et cependant c'était en quelque sorte son apprentissage\",\n",
       "  -1),\n",
       " (\" La relation qu'il en donna fut lue avidement, et traduite aussitôt par M\",\n",
       "  44),\n",
       " (\" Forster ; car dans une seconde édition, qu'il en donna lui-même en 1772, il répond à quelques remarques de son traducteur\",\n",
       "  29),\n",
       " (\" Le style en est simple et naturel ; il y montre son caractère, son intrépidité, son mépris pour les dangers, qu'il a plutôt l'air de chercher ; son penchant à saisir en toute chose le côté plaisant ; sa bonté, sa gaîté qui maintinrent toujours la confiance, la subordination et la joie dans son équipage, dont il soignait les plaisirs comme la santé\",\n",
       "  -1),\n",
       " (\" Cependant, pour connaître à fond toutes les qualités aimables de l'auteur, il fallait l'entendre lui- même commenter quelques parties de ce voyage célèbre\",\n",
       "  -1),\n",
       " (' On a remarqué avec raison que les cartes et les déterminations géographiques, à la réserve des latitudes, sont la partie faible de cet ouvrage',\n",
       "  -1),\n",
       " (\" Mais il est juste aussi de remarquer qu'il faisait un voyage de découverte et non un de ces voyages de reconnaissance où l'on emploie des mois entiers à la description d'une île ou d'un rivage ; que des temps affreux et des dangers continuels ont rendu inutiles presque toutes ses tentatives astronomiques ; que la science des longitudes ne faisait que de naître ; que les tables de la lune n'étaient pas encore portées au point de perfection où nous les voyons ; que les navigateurs n'avaient aucun des secours qu'on leur prodigue aujourd'hui ; qu'ils avaient encore tout l'embarras des calculs avec lesquels ils n'étaient rien moins que familiarisés ; que M\",\n",
       "  46),\n",
       " (\" Bougainville donna le premier en France l'exemple d'embarquer un astronome pour essayer des méthodes dont il était bien fait pour sentir le prix, mais dont on n'avait encore pu recueillir aucun fruit\",\n",
       "  46),\n",
       " (' A son retour, la France était en paix', -1),\n",
       " (\" Une vie errante et agitée lui avait fait perdre le goût des mathématiques ; il se livra à des plaisirs qu'il n'avait guère eu le loisir de connaître dans ses premières années\",\n",
       "  7),\n",
       " (\" Sa célébrité, son humeur chevaleresque, le firent admettre dans la plus haute société ; il en adopta l'esprit et les múurs dont sa conversation traçait si souvent des peintures si piquantes ; mais cette activité si infatigable qui le portait à se distinguer, quelque chose qu'il entreprît, trouva bientôt un aliment plus digne de son caractère quand la France embrassa la cause de l'Amérique\",\n",
       "  -1),\n",
       " (\" Sous les amiraux Lamothe- Piquet, d'Estaing, et de Grasse, il fut successivement chargé du commandement des vaisseaux le Bien-Aimé, le Languedoc, le Guerrier, et l'Auguste\",\n",
       "  69),\n",
       " (\" Sur la demande de d'Estaing, il fut nommé chef d'escadre ; la même année il reçut le grade de maréchal-de-camp\",\n",
       "  -1),\n",
       " (\" Commandant l'avant-garde au combat naval de la Chesapeak (en 1781), il repoussa vivement l'avant-garde anglaise, et le comte de Grasse lui rendit hautement ce témoignage, qu'il avait contribué plus que personne à la victoire\",\n",
       "  29),\n",
       " (\" Enfin, dans la journée désastreuse du 12 avril 1781, où l'on reprocha au général de s'être plus occupé de son vaisseau que de son escadre, et à quelques parties de l'escadre de n'avoir pas assez puissamment secondé le général ; Bougainville, qui commandait l'arrière-garde, prit cependant à l'action toute la part qui dépendait de lui ; par une manúuvre audacieuse, il eut la gloire de sauver le Northumherland, et quoique l'Auguste, qu'il commandait, fût l'un des vaisseaux les plus mal traités de toute la flotte, il rallia et conduisit à Saint-Eustache une partie de l'escadre battue\",\n",
       "  -1),\n",
       " (\" La paix, qui assura la liberté de l'Amérique, vint lui rendre des loisirs qui ranimèrent en lui le goût des sciences ; l'Académie lui conféra le titre d'associé libre\",\n",
       "  58),\n",
       " (\" Lagrange, dont il demanda la voix, lui dit alors ces mots qui durent le flatter autant que son admission : ´ C'était à moi d'être reçu par vous à l'Académie, puisque ce sont vos ouvrages qui m'ont ouvert la carrière\",\n",
       "  -1),\n",
       " (\" ª Ce fut vers ce temps que pour servir les sciences d'une manière qui ne pût être qu'à lui, il forma le projet de braver les glaces du nord et de pénétrer jusqu'au pôle\",\n",
       "  58),\n",
       " (\" Un astronome distingué s'était offert à l'accompagner, déjà son plan était tracé ; il avait marqué deux routes différentes\",\n",
       "  -1),\n",
       " (\" Le ministre n'accéda point à ses propositions, et la société royale de Londres lui demanda ses plans\",\n",
       "  -1),\n",
       " (\" Il les transmit en indiquant la route qu'il préférait\", -1),\n",
       " (\" Le capitaine Phlips ( lord Mulgrave) chargé de l'expédition, préféra l'autre ; mais il ne put s'élever que jusqu'au quatre-vingtième degré\",\n",
       "  -1),\n",
       " (\" Blâmerons-nous ou remercierons-nous le ministre qui déconcerta ce projet hardi ? Moins sensibles que le célèbre navigateur au mérite qu'on peut trouver à vaincre des difficultés réputées insurmontables, et ne regardant les dangers de cette expédition que comme un des inconvénients les plus graves quand ils ne sont pas rachetés par un grand objet d'utilité, nous croyons cette utilité tout au moins problématique : est -il bien sûr que le 90∞ degré puisse offrir des phénomènes qu'on n'ait pu tout aussi bien observer à dix degrés du pôle\",\n",
       "  -1),\n",
       " (\" Supposons pourtant tous les obstacles surmontés et l'astronome arrivé à ce point si difficile à reconnaître où il verra tout le ciel tourner horizontalement autour de lui où les étoiles toujours les mêmes seront toujours à la même hauteur, où le choix d'un méridien devient arbitraire, où les planètes ne sont visibles que clans la moitié de leurs révolutions, et seront pendant des mois ou même des années cachées à l'observateur, si même elles ne le sont toujours par les brumes ou les nuages, quel fruit pourrait -il retirer de tant de fatigues et de privations ? Quelques observations rares de réfractions, quelques expériences incertaines ou au moins fort difficiles de l'aiguille aimantée, passeront-elles pour un véritable dédommagement ? Sachons donc quelque gré au ministre économe ou timide qui n'a pas voulu qu'un homme aussi distingué s'exposât sans un motif assez apparent d'utilité\",\n",
       "  46),\n",
       " (' Croyons que M', -1),\n",
       " (\" Bougainville lui-même eût modifié son projet suivant les obstacles qu'il aurait rencontrés ; alors il eût encore ajouté à sa gloire en montrant tout ce que pouvait l'industrie et l'audace humaine, et les savants qui l'auraient accompagné auraient pu trouver un emploi utile de leur temps, et la récompense de leur dévouement dans la découverte de quelque vérité nouvelle\",\n",
       "  -1),\n",
       " (\"On sait quel esprit d'insubordination s'était glissé dans la marine française et dans la flotte de Brest, commandée par M\",\n",
       "  69),\n",
       " (' Albert de Riom', 0),\n",
       " (' Bougainville par sa réputation, son courage et sa fermeté, mélangée de qualités aimables, parut le seul homme capable de faire rentrer nos marins dans le devoir',\n",
       "  -1),\n",
       " (' Il se présenta aux séditieux avec des succès qui ne furent pas de longue durée',\n",
       "  8),\n",
       " (\" Les esprits étaient trop égarés, trop excités peut-être pour entendre la voix à laquelle dans d'autres temps ils auraient obéi avec joie\",\n",
       "  60),\n",
       " (\" Bougainville vit que c'était l'instant de se retirer du service ; cependant son nom fut encore porté en 1791 dans la liste des vice-amiraux\",\n",
       "  -1),\n",
       " (' Cette dernière distinction redoubla son dévouement pour un prince que tout abandonnait, et à qui, dans les circonstances les plus orageuses, il ne cessa de donner des preuves de la plus courageuse affection',\n",
       "  70),\n",
       " (' …chappé, comme par miracle, aux massacres de 1792, il se réfugia dans sa terre de Normandie, où il retrouva ses deux pièces de canon, seule récompense qui lui restât pour quarante ans de service',\n",
       "  29),\n",
       " (\"Là il attendait le retour de la tranquillité, lorsqu'il fut nommé, comme ancien navigateur, à l'une des places du bureau des longitudes\",\n",
       "  -1),\n",
       " (\" Mais, soit qu'il ne jugeât pas encore le calme assez assuré, soit que le soin de ce qui lui restait de fortune lui défendît de quitter ses possessions, il envoya sa démission, fut remplacé par M\",\n",
       "  -1),\n",
       " (' le comte de Fleurieu, et remplaça lui-même bientôt après M', -1),\n",
       " (' de Borda', -1),\n",
       " (\" Les temps de la régénération étaient arrivés ; on s'empressait de réparer tant de ruines : l'Institut venait d'être créé pour tenir lieu de toutes les académies\",\n",
       "  25),\n",
       " (' de Bougainville y fut nommé à une place de navigation et de géographie',\n",
       "  -1),\n",
       " (\" Comme président de la classe des sciences, il eut l'honneur de porter la parole dans une occasion encore unique dans les fastes littéraires\",\n",
       "  58),\n",
       " (' Il avait assisté constamment à toutes les séances de la commission chargée de rédiger le rapport qui fut porté au pied du trône',\n",
       "  -1),\n",
       " (\" Il ne montra pas moins d'assiduité à présider pendant dix-huit mois une autre commission chargée d'un travail plus délicat\",\n",
       "  22),\n",
       " (\" Toujours le premier au rendez-vous, le plaisir qu'on prenait à l'entendre empêchait qu'on ne remarquât si l'heure du travail avait été retardée par ceux qui n'avaient pas été si ponctuels\",\n",
       "  31),\n",
       " (\" Sénateur et grand- officier de la légion d'honneur, dès la création, il avait tout ce qui peut consoler de vieillir ; loisir et dignité ; mais son ardeur n'était pas éteinte : il avait encore tout le feu et la vivacité de la jeunesse\",\n",
       "  -1),\n",
       " (\" Il brûlait de diriger on départager quelque entreprise maritime bien hasardeuse, et quand ses amis lui objectaient son âge, il répondait que Nestor n'avait pas été inutile dans une armée qui avait Achille, Ajax, et Diomède\",\n",
       "  -1),\n",
       " (\" Il est douteux que le vieux roi de Pylos eût conservé au même degré ses forces et son courage ; plus douteux encore que ses discours aient toujours fait aux héros grecs le plaisir qu'auraient pris nos jeunes marins à ceux de Bougainville\",\n",
       "  70),\n",
       " (\" Quoiqu'à beaucoup d'égards, il se ménageât trop peu, il était d'une tempérance et d'une sobriété rares qui nous donnaient l'espoir de le conserver longtemps ; nous le perdîmes le 31 août 1811, après dix jours d'une maladie aiguÎ, qui lui laissa jusqu'à son dernier moment toute sa connaissance et toute sa vivacité\",\n",
       "  29),\n",
       " (\" Souvent il m'avait parlé du dessein où il était de me remettre tous ses journaux et ses mémoires\",\n",
       "  14),\n",
       " (\" Cette promesse m'ôta le courage de me présenter à lui quand je le sus en danger, quoique je prévisse combien je perdais par cette réserve\",\n",
       "  -1),\n",
       " (' Espérons que quelque main plus habile saura faire un usage heureux de ces matériaux qui ne doivent pas être perdus',\n",
       "  3),\n",
       " ('Excellent père, ami chaud et constant, bon confrère, sans cesse occupé des intérêts de la science et de ceux des savants il saisissait ou faisait naître les occasions de leur être utile',\n",
       "  35),\n",
       " (\" Franc et loyal, il s'éleva sans intrigue ; il se conduisit dans des temps de trouble de manière à mériter l'estime de tous les partis\",\n",
       "  -1),\n",
       " (' Il avait épousé Mme de Montendre, également distinguée par ses grâces et ses qualités estimables',\n",
       "  35),\n",
       " (' Il en eut quatre fils ; il en perdit un, les trois autres servent le prince avec un zèle héréditaire',\n",
       "  35),\n",
       " (\" Il fut remplacé à l'Institut par M\", 23),\n",
       " (\" de Rossel, compagnon, continuateur et éditeur de l'Entrecasteaux\", 55)]"
      ]
     },
     "execution_count": 57,
     "metadata": {},
     "output_type": "execute_result"
    }
   ],
   "source": [
    "test_print = df_sent['Tuple_topic_sent'][0]\n",
    "test_print"
   ]
  },
  {
   "cell_type": "code",
   "execution_count": 143,
   "id": "exotic-leader",
   "metadata": {
    "scrolled": true
   },
   "outputs": [
    {
     "name": "stdout",
     "output_type": "stream",
     "text": [
      "\u001b[38;5;255m -1  --->Louis-Antoine de Bougainville, sénateur, comte l'empire, grand - officier de la légion d'honneur, naquit à Paris, le 11 novembre 1729\n",
      "\u001b[38;5;0m 0  --->\n",
      "\u001b[38;5;35m 35  ---> Il était fils d'un notaire, échevin de Paris, et descendait d'une ancienne famille de Picardie\n",
      "\u001b[38;5;255m -1  ---> Navigateur célèbre, officier - général de terre et de mer, associé libre de l'Académie des sciences, membre de l'Institut et du bureau des longitudes, tant de titres divers qu'il ne dut qu'à lui-même, et qui furent la récompense de longs travaux et d'actions d'éclat, font déjà un assez bel éloge, et prouvent que celui qui sut les mériter n'était en aucun genre un homme ordinaire\n",
      "\u001b[38;5;255m -1  --->Encore au collège, il se faisait déjà remarquer par une aptitude égale pour les lettres et pour les sciences\n",
      "\u001b[38;5;46m 46  ---> Son professeur expliquait un jour les phases de la lune et les diverses positions du croissant ; pour graver ces notions dans la mémoire de ses auditeurs, il leur citait deux vers latins\n",
      "\u001b[38;5;255m -1  ---> Le jeune Bougainville se permit de les trouver très médiocres\n",
      "\u001b[38;5;56m 56  ---> Défié d'en faire de meilleurs, il répondit presque aussitôt par quatre vers plus exacts, plus instructifs et plus poétiques surtout que le distique dont il avait osé plaisanter\n",
      "\u001b[38;5;255m -1  ---> Au sortir du collège, il se fit recevoir avocat au parlement, par complaisance pour sa famille ; mais en même temps, pour obéir à ses propres goûts, il se faisait inscrire aux mousquetaires\n",
      "\u001b[38;5;36m 36  ---> Le hasard l'avait fait voisin de Clairaut et de d'Alembert ; il se lia avec ces deux grands géomètres ; il les visitait souvent, profitait de leurs entretiens et de leurs écrits, et à l'âge de vingt-cinq ans il fit paraître la première partie de son Calcul intégral, pour servir de suite à l'analyse des infiniment petits de l'Hôpital\n",
      "\u001b[38;5;255m -1  ---> La franchise, qui fut dans tous les temps un des traits les plus marqués de son caractère, lui fit déclarer dans sa préface que rien ne lui appartenait dans cet ouvrage, si ce n'est l'ordre qu'il avait tâché d'y mettre ; mais les commissaires de l'Académie attestaient, de leur côté, qu'en exposant les méthodes des différents géomètres, il avait su se les rendre propres par l'intelligence et la clarté avec lesquelles il les développait\n",
      "\u001b[38;5;36m 36  ---> Outre ce témoignage flatteur, il trouvait encore une autre récompense dans la certitude d'être utile aux jeunes géomètres, qui manquaient absolument de guides pour pénétrer dans cette partie alors peu éclaircie de la science mathématique\n",
      "\u001b[38;5;255m -1  ---> En le voyant nommé presque aussitôt aide major d'un bataillon de Picardie, aide-de-camp de Chevert, on put craindre qu'il n'abandonnât les sciences ; un voyage qu'il fit à Londres comme secrétaire d'ambassade, le lia de nouveau avec les savants ; il fut reçu de la Société royale, dont il eut le temps de devenir un des doyens\n",
      "\u001b[38;5;255m -1  ---> L'année suivante, il rejoignit son général ; en 1756, il suivit Moncalm en Canada avec le titre de capitaine de dragons ; et la preuve que tant de fonctions diverses ne lui avaient pas fait négliger les sciences, c'est qu'à son départ pour l'Amérique, il avait livré à l'impression la seconde partie de son Calcul intégral, dont il pria Bézout de lire les épreuves en son absence\n",
      "\u001b[38;5;0m 0  ---> M\n",
      "\u001b[38;5;0m 0  ---> M\n",
      "\u001b[38;5;0m 0  ---> M\n",
      "\u001b[38;5;0m 0  ---> M\n",
      "\u001b[38;5;41m 41  --->A peine arrivé en Amérique, on l'y voit, par une marche pénible autant que hardie sur les glaces et la neige ou à travers des bois presque impénétrables, s'avancer jusqu'au fond du lac Saint -Sacrement, et brûler une flottille anglaise sous le fort même qui la protégeait\n",
      "\u001b[38;5;29m 29  ---> En 1768, un détachement de cinq mille Français se voyait depuis plusieurs jours poursuivi par une armée de vingt- quatre mille Anglais, Bougainville inspire à ses compagnons la résolution d'attendre courageusement l'ennemi ; on se fortifie à la hâte, en moins de vingt-heures ; l'Anglais est repoussé et contraint de se retirer avec une perte de six mille hommes, et Bougainville, qui, par ses conseils et ses exemples, avait eu tant de part à la victoire, reçoit à la tête, à la fin du combat, un coup de fou qui n'eut heureusement aucune suite dangereuse\n",
      "\u001b[38;5;255m -1  ---> Cependant le gouverneur désespère de sauver la colonie s'il ne reçoit de prompts renforts\n",
      "\u001b[38;5;255m -1  ---> Bougainville est envoyé en France pour les solliciter\n",
      "\u001b[38;5;255m -1  ---> Il en revient avec le grade de colonel à la suite du régiment de Rouergue, et la croix de Saint -Louis accordée avant le temps, en considération de ses brillants services\n",
      "\u001b[38;5;255m -1  ---> Moncalm le mit à la tête des grenadiers et des volontaires, pour couvrir la retraite de l'armée, forcée de se replier sur Québec ; il remplit cette mission avec son intrépidité et son bonheur accoutumés\n",
      "\u001b[38;5;255m -1  ---> Mais bientôt la mort du général entraîne la perte de la colonie ; Bougainville revient en France, suit aussitôt M\n",
      "\u001b[38;5;66m 66  ---> Choiseul de Stainville en Allemagne, continue de se signaler, et voit sa valeur récompensée par le don de deux pièces de canon\n",
      "\u001b[38;5;255m -1  ---> La paix vient lui ôter les occasions qu'il savait si bien mettre à profit ; mais elle ne diminuera pas son activité\n",
      "\u001b[38;5;36m 36  ---> Nous l'avons vu géomètre, guerrier, négociateur ; nous allons le voir fondateur d'une colonie\n",
      "\u001b[38;5;10m 10  ---> Ses divers voyages en Amérique l'avaient lié avec les négociants et les armateurs de Saint -Malo\n",
      "\u001b[38;5;255m -1  ---> Un navire sorti de ce port au commencement du siècle, avait mouillé à la côte sud -est d'un groupe d'îles visitées plus anciennement par les Anglais, qui les avaient nommées Virginie d'Hawkins, nom qu'ils ont depuis changé en celui d'iles de Falkland\n",
      "\u001b[38;5;255m -1  ---> La situation favorable de ces îles avait fait naître l'idée d'y former un établissement\n",
      "\u001b[38;5;29m 29  ---> La cour de France y songeait en 1763\n",
      "\u001b[38;5;255m -1  ---> Bougainville offrit de le commencer à ses frais\n",
      "\u001b[38;5;255m -1  ---> De société avec deux de ses parents, il fait armer à Saint -Malo deux bâtiments, il embarque quelques familles acadiennes, et le 3 avril 1764, il aborde à ces îles auxquelles il donna le nom de Malouines\n",
      "\u001b[38;5;255m -1  ---> Elles étaient inhabitées ; aucune violence, aucune injustice ne marqua sa prise de possession\n",
      "\u001b[38;5;255m -1  ---> Une pèche abondante, des oiseaux, d'abord sans défiance, et qui se laissaient prendre à la main, assurent les subsistances ; mais on y chercha en vain des bois de construction et de chauffage : on ne trouva que des roseaux et une tourbe excellente ; l'emplacement d'un fort est tracé ; on construit en terre les fortifications ; à l'exemple du chef, tous les colons, et l'aumonier lui-même, prennent part au travail ; au centre du fort s'élève un obélisque ; l'hémistiche tibi serviat ultila Thule se lit au-dessous du portrait du monarque ; l'inscription se termine par ce commencement d'un vers d'Horace : Conamur tenues grandia\n",
      "\u001b[38;5;255m -1  ---> Ces premiers travaux terminés, Bougainville repasse en France, laissant à son parent le gouvernement de la colonie naissante\n",
      "\u001b[38;5;7m 7  ---> L'année suivante, il revient avec des provisions et de nouveaux habitants\n",
      "\u001b[38;5;17m 17  ---> Une excursion au détroit de Magellan lui procure des bois de construction et dix mille plants d'arbres de tout âge, secours précieux et indispensable pour l'établissement\n",
      "\u001b[38;5;255m -1  ---> Une alliance est conclue avec les Patagons ; la plus grande partie des graines venues d'Europe s'étaient naturalisées ; divers essais de culture promettaient des succès ; la multiplication des bestiaux était certaine ; le nombre des habitants, porté de 80 à 150 ; mais ces accroissements, trop lents de leur nature, ne pouvait suffire à l'activité du fondateur ; depuis longtemps il était à Paris ; il y apprend que ces succès avaient alarmé les Espagnols, et qu'ils avaient porté des réclamations au gouvernement français\n",
      "\u001b[38;5;255m -1  ---> Bougainville est chargé d'aller lui-même remettre son île\n",
      "\u001b[38;5;255m -1  ---> La cour d'Espagne consent à lui rendre les fonds qu'il y avait placés ; à payer le prix des ouvrages qu'on lui cède ; et pour consolation, la cour de France lui permet de faire le tour du Monde\n",
      "\u001b[38;5;46m 46  ---> On lui donne le commandement de la frégate la Boudeuse ; la flûte l'…toile doit se joindre à lui ; il y embarque le naturaliste Commerçon, et l'astronome Véron qu'il avait demandé pour essayer les nouvelles méthodes de longitude\n",
      "\u001b[38;5;255m -1  ---> Ce fut le 3 mai 1766 que Bougainville remit aux Espagnols la colonie qui avait à peine deux ans d'existence, et dont il prévoyait avec douleur la décadence prochaine ; il regretta toute sa vie un observatoire qu'il voulait y bâtir, et que sa position par 51∞ de latitude australe devait rendre une succursale utile aux grands observatoires d'Europe\n",
      "\u001b[38;5;255m -1  ---> Pour justifier ses regrets, pendant qu'il s'apprêtait à partir, il y voit pendant plusieurs jours une comète qui cessait d'être visible en Europe\n",
      "\u001b[38;5;255m -1  ---> C'est la seconde comète de 1766 ; et Pingre, qui a rassemblé soigneusement toutes les observations faites à l'Isle- de- France, paraît avoir ignore la mention qu'on en trouve dans le Voyage autour du Monde\n",
      "\u001b[38;5;255m -1  ---> Depuis que ses projets étaient renversés, son île ne pouvait l'intéresser que médiocrement ; toutes ses pensées étaient tournées vers l'expédition brillante qu'il allait entreprendre ; mais la flûte l'Etoile, qui devait lui apporter des vivres, n'arrivait pas : il jugea que quelque obstacle l'avait empêchée de se rendre aux Malouines, et qu'il devait lui-même aller la chercher à Mont -Video, Il se résolut pour la rejoindre à faire une course qui ne pouvait être moindre de huit cents lieues, et qui fut en effet de douze cents, car il devait revenir sur ses traces, et repasser presqu'à la vue des Malouines pour pénétrer par le détroit de Magellan dans la mer Pacifique ; mais outre que ce parti convenait mieux à son inquiète activité, il dut peu regretter un détour qui le rendit témoin d'une scène dont la renommée se répandit bientôt dans tous les Etats chrétiens, et dont il put recueillir toutes les circonstances\n",
      "\u001b[38;5;255m -1  ---> A peine il arrivait à Buenos-Aires, qu'il fut témoin de l'arrestation des Jésuites du Paraguay\n",
      "\u001b[38;5;35m 35  ---> En homme franc et libre de préjugés, il rapporte avec impartialité tout ce qu'on peut dire en faveur du gouvernement des pères dans leurs missions ; il ne dissimule pas davantage les reproches que ce gouvernement pouvait mériter\n",
      "\u001b[38;5;255m -1  ---> ´ Mais sa plume se refuse au détail de tout ce que le public prétendait avoir été trouvé dans les papiers saisis chez les Jésuites ; les haines lui paraissent trop récentes pour qu'on puisse discerner les fausses imputations d'avec les véritables ; il aime mieux rendre justice à la plus grande partie des membres de la société, qui, n'étant point dans le secret des chefs, témoignèrent la plus parfaite résignation, et ne surent que s'humilier sous la main qui les frappait\n",
      "\u001b[38;5;22m 22  ---> ª Sept mois après son départ il se retrouvait non loin des Malouines, vis-à-vis le cap des Vierges, à l'entrée du détroit de Magellan\n",
      "\u001b[38;5;46m 46  ---> Là, par des distances observées de la lune au soleil, on détermina de nouveau la longitude, et l'on fixa le point du vaisseau\n",
      "\u001b[38;5;255m -1  ---> Le passage du détroit fut pénible ; des brumes épaisses des vents impétueux forcent à louvoyer et sonder sans cesse et la marée fait perdre le plus souvent le peu d'avance qu'on a gagné avec tant de peine\n",
      "\u001b[38;5;255m -1  ---> Les feux allumés par les Patagons aident les navigateurs à prendre terre\n",
      "\u001b[38;5;255m -1  ---> Ils sont bien reçus par les naturels, et Bougainville en conserva toujours une tendre reconnaissance\n",
      "\u001b[38;5;255m -1  ---> Cette entrevue les réhabilite aux yeux du lecteur qui les avait jugés moins bons et moins sûrs dans leurs premières relations avec les députés de la colonie\n",
      "\u001b[38;5;255m -1  ---> C'est là que commencent les découvertes : les noms imposés aux îles, aux baies, aux détroits, commencent à montrer des monuments du passage des Français et de leurs travaux pour l'avancement de la géographie ; mais un ciel ingrat rend presque inutiles tous les travaux de l'astronome Véron et tous ses préparatifs dans l'île, qui fut nommée de l'Observatoire\n",
      "\u001b[38;5;255m -1  --->Les ouragans accompagnèrent nos voyageurs jusqu'à la sortie du détroit qui ne fut pas moins périlleuse que l'entrée\n",
      "\u001b[38;5;255m -1  ---> Cette traversée, que le navigateur estime de cent trente-deux lieues, fut l'ouvrage de cinquante - deux jours d'une navigation laborieuse, qui du moins n'avait point altéré la santé des équipages ; à l'entrée dans la mer Pacifique,personne n'était sur les cadres\n",
      "\u001b[38;5;255m -1  ---> La navigation devient alors plus facile et plus fructueuse ; les découvertes se multiplient, on en constate quelques-unes sur lesquelles les avis des navigateurs étaient partagés\n",
      "\u001b[38;5;255m -1  ---> Le chef marque de son cachet les îles qu'il rencontre ; on les reconnaît aux dénominations des Quatre Facardins et du Boudoir\n",
      "\u001b[38;5;255m -1  ---> Il aperçut cette dernière île deux jours avant d'aborder à Tahiti\n",
      "\u001b[38;5;255m -1  ---> On commençait à sentir le besoin le plus urgent d'une relâche, et il était difficile d'en rencontrer une qui pût mieux consoler des maux passés\n",
      "\u001b[38;5;255m -1  ---> On sait assez quelle est dans cette île la manière dont on exerce l'hospitalité\n",
      "\u001b[38;5;70m 70  ---> Malgré l'embarras et l'espèce de honte que montrèrent d'abord les matelots, le narrateur n'oserait répondre que personne dans son équipage ne se vît conformé aux usages du pays ; et quand on voit le récit de sa visite au bon prince Tatoua, on est tenté de croire qu'il n'a pas voulu affliger par un refus l'hôte qui l'accablait de tant de prévenance\n",
      "\u001b[38;5;255m -1  --->Une si bonne réception était accompagnée de quelques inconvénients ; si la terre n'offrait rien que d'agréable, le peu de sûreté d'un mouillage qui coûta six ancres en neuf jours inquiétait continuellement, et l'on quitta la Nouvelle- Cythère avec autant d'empressement qu'on en avait mis à y aborder\n",
      "\u001b[38;5;255m -1  ---> Ce qui dut prolonger chez nos navigateurs le souvenir d'une relâche si remarquable, ce qui les mit à portée de s'instruire plus à fond des múurs et de la langue du pays, ce fut la résolution que prit un jeune insulaire de partir avec eux\n",
      "\u001b[38;5;255m -1  ---> Il se nommait Aotourou ; il est plus connu sous le nom de Poutaveri, c'est ainsi qu'il nommait son ami Bougainville\n",
      "\u001b[38;5;255m -1  ---> Un obstacle naturel l'empêcha toujours de prononcer mieux un nom qu'il avait sans cesse à la bouche\n",
      "\u001b[38;5;255m -1  ---> Ce jeune homme intéressant dut les amuser souvent dans la traversée par ses récits, et leur fut quelquefois utile par les connaissances qu'il avait\n",
      "\u001b[38;5;255m -1  ---> On remarqua qu'il donnait des noms de sa langue aux étoiles les, plus brillantes, et qu'il avait dû faire plusieurs voyages aux îles voisines dont il indiquait la position, ainsi que les múurs de leurs habitants\n",
      "\u001b[38;5;22m 22  ---> Aotourou resta onze mois à Paris\n",
      "\u001b[38;5;255m -1  ---> L'empressement pour le voir fut vif, mais stérile\n",
      "\u001b[38;5;255m -1  ---> Son patron ne négligea rien pour lui rendre agréable son séjour en France\n",
      "\u001b[38;5;255m -1  ---> Aotourou payait ces attentions par la plus vive reconnaissance et par les historiettes plaisantes dont il laissa une collection qu'on entendait toujours avec plaisir, mais dont Bougainville n'a pas jugé à propos d'orner la relation de son voyage\n",
      "\u001b[38;5;255m -1  ---> Rien ne fut omis pour assurer son retour dans son île\n",
      "\u001b[38;5;255m -1  ---> Les recommandations les plus fortes, ne somme de 36,000 livres que Bougainville avança de ses propres deniers sans avoir la certitude qu'elle dût jamais lui être remboursée, les soins que se donna M\n",
      "\u001b[38;5;69m 69  ---> Poivre, qui le reçut à l'Isle-de-France, ni ceux du capitaine Marcon qui s'était chargé de le remettre dans son île, rien ne put le soustraire à sa malheureuse destinée ; il mourut de la petite vérole dans la traversée\n",
      "\u001b[38;5;255m -1  ---> Tel avait été le sort de deux autres insulaires partis avec un capitaine anglais qui avait visité Tahiti huit mois avant Bougainville\n",
      "\u001b[38;5;255m -1  ---> Après cette île, la navigation ne peut offrir de longtemps rien qui soit d'un intérêt si général\n",
      "\u001b[38;5;255m -1  ---> Les dangers seuls viennent interrompre la monotonie des détails nautiques\n",
      "\u001b[38;5;255m -1  ---> Ces dangers sont tels, que M\n",
      "\u001b[38;5;255m -1  ---> Bougainville ne veut plus faire sonder, parce que la certitude du péril ne l'eût pas diminué\n",
      "\u001b[38;5;255m -1  ---> On commençait à redouter le plus horrible de tous, la faim\n",
      "\u001b[38;5;255m -1  ---> On est obligé de réduire les rations, de changer de route, et de renoncer à la découverte d'un passage qu'on soupçonnait et qu'on cherchait depuis longtemps\n",
      "\u001b[38;5;69m 69  ---> La gloire en était réservée à Cook, qui le rencontra fort heureusement à l'instant où son vaisseau était menacé de se perdre\n",
      "\u001b[38;5;255m -1  ---> Un danger pareil attendait Bougainville, si le défaut de vivres ne fût à propos survenu pour l'en garantir\n",
      "\u001b[38;5;255m -1  ---> On échappe enfin ; un cap reçoit le nom de la Délivrance ; mais le scorbut commençait à se répandre parmi les équipages\n",
      "\u001b[38;5;255m -1  ---> Heureusement on trouve un passage à travers les îles Papous, et l'on entre dans la mer des Moluques\n",
      "\u001b[38;5;69m 69  ---> Bourou présente une relâche délicieuse, où, malgré les ordres sévères qui excluent tout navire étranger, le résident permet qu'on se repose après tant de fatigues\n",
      "\u001b[38;5;255m -1  ---> Aotourou, transporté à la vue de tant d'objets nouveaux, demande si Paris est plus beau que Bourou ; mais bientôt son enthousiasme pour les possessions hollandaises se refroidit à la vue des maladies causées par l'air mal sain de Batavia, à laquelle il donne le nom d'Enoua maté, terre qui tue\n",
      "\u001b[38;5;255m -1  ---> De Batavia, les vaisseaux passent à l'Isle-de-France, au cap de Bonne-Espérance, et à Saint-Malo, où ils abordent le 16 mars 1769, après une navigation de deux ans et quatre mois, qui n'a coûté que sept hommes sur plus de deux cents\n",
      "\u001b[38;5;255m -1  ---> Ainsi finit cette expédition brillante dont les avantages, les dangers, l'audace, et le bonheur, viennent d'être justement appréciés par un bon juge dans l'article Bougainville de la nouvelle biographie\n",
      "\u001b[38;5;255m -1  ---> C'était le premier voyage où les Français eussent fait le tour du Monde, c'est-à-dire, traversé les 360∞ de longitude, et tous les méridiens de la terre\n",
      "\u001b[38;5;61m 61  ---> Cette expédition plaça M\n",
      "\u001b[38;5;255m -1  ---> de Bougainville au rang des plus grands navigateurs, et cependant c'était en quelque sorte son apprentissage\n",
      "\u001b[38;5;44m 44  ---> La relation qu'il en donna fut lue avidement, et traduite aussitôt par M\n",
      "\u001b[38;5;29m 29  ---> Forster ; car dans une seconde édition, qu'il en donna lui-même en 1772, il répond à quelques remarques de son traducteur\n",
      "\u001b[38;5;255m -1  ---> Le style en est simple et naturel ; il y montre son caractère, son intrépidité, son mépris pour les dangers, qu'il a plutôt l'air de chercher ; son penchant à saisir en toute chose le côté plaisant ; sa bonté, sa gaîté qui maintinrent toujours la confiance, la subordination et la joie dans son équipage, dont il soignait les plaisirs comme la santé\n",
      "\u001b[38;5;255m -1  ---> Cependant, pour connaître à fond toutes les qualités aimables de l'auteur, il fallait l'entendre lui- même commenter quelques parties de ce voyage célèbre\n",
      "\u001b[38;5;255m -1  ---> On a remarqué avec raison que les cartes et les déterminations géographiques, à la réserve des latitudes, sont la partie faible de cet ouvrage\n",
      "\u001b[38;5;46m 46  ---> Mais il est juste aussi de remarquer qu'il faisait un voyage de découverte et non un de ces voyages de reconnaissance où l'on emploie des mois entiers à la description d'une île ou d'un rivage ; que des temps affreux et des dangers continuels ont rendu inutiles presque toutes ses tentatives astronomiques ; que la science des longitudes ne faisait que de naître ; que les tables de la lune n'étaient pas encore portées au point de perfection où nous les voyons ; que les navigateurs n'avaient aucun des secours qu'on leur prodigue aujourd'hui ; qu'ils avaient encore tout l'embarras des calculs avec lesquels ils n'étaient rien moins que familiarisés ; que M\n",
      "\u001b[38;5;46m 46  ---> Bougainville donna le premier en France l'exemple d'embarquer un astronome pour essayer des méthodes dont il était bien fait pour sentir le prix, mais dont on n'avait encore pu recueillir aucun fruit\n",
      "\u001b[38;5;255m -1  ---> A son retour, la France était en paix\n",
      "\u001b[38;5;7m 7  ---> Une vie errante et agitée lui avait fait perdre le goût des mathématiques ; il se livra à des plaisirs qu'il n'avait guère eu le loisir de connaître dans ses premières années\n",
      "\u001b[38;5;255m -1  ---> Sa célébrité, son humeur chevaleresque, le firent admettre dans la plus haute société ; il en adopta l'esprit et les múurs dont sa conversation traçait si souvent des peintures si piquantes ; mais cette activité si infatigable qui le portait à se distinguer, quelque chose qu'il entreprît, trouva bientôt un aliment plus digne de son caractère quand la France embrassa la cause de l'Amérique\n",
      "\u001b[38;5;69m 69  ---> Sous les amiraux Lamothe- Piquet, d'Estaing, et de Grasse, il fut successivement chargé du commandement des vaisseaux le Bien-Aimé, le Languedoc, le Guerrier, et l'Auguste\n",
      "\u001b[38;5;255m -1  ---> Sur la demande de d'Estaing, il fut nommé chef d'escadre ; la même année il reçut le grade de maréchal-de-camp\n",
      "\u001b[38;5;29m 29  ---> Commandant l'avant-garde au combat naval de la Chesapeak (en 1781), il repoussa vivement l'avant-garde anglaise, et le comte de Grasse lui rendit hautement ce témoignage, qu'il avait contribué plus que personne à la victoire\n",
      "\u001b[38;5;255m -1  ---> Enfin, dans la journée désastreuse du 12 avril 1781, où l'on reprocha au général de s'être plus occupé de son vaisseau que de son escadre, et à quelques parties de l'escadre de n'avoir pas assez puissamment secondé le général ; Bougainville, qui commandait l'arrière-garde, prit cependant à l'action toute la part qui dépendait de lui ; par une manúuvre audacieuse, il eut la gloire de sauver le Northumherland, et quoique l'Auguste, qu'il commandait, fût l'un des vaisseaux les plus mal traités de toute la flotte, il rallia et conduisit à Saint-Eustache une partie de l'escadre battue\n",
      "\u001b[38;5;58m 58  ---> La paix, qui assura la liberté de l'Amérique, vint lui rendre des loisirs qui ranimèrent en lui le goût des sciences ; l'Académie lui conféra le titre d'associé libre\n",
      "\u001b[38;5;255m -1  ---> Lagrange, dont il demanda la voix, lui dit alors ces mots qui durent le flatter autant que son admission : ´ C'était à moi d'être reçu par vous à l'Académie, puisque ce sont vos ouvrages qui m'ont ouvert la carrière\n",
      "\u001b[38;5;58m 58  ---> ª Ce fut vers ce temps que pour servir les sciences d'une manière qui ne pût être qu'à lui, il forma le projet de braver les glaces du nord et de pénétrer jusqu'au pôle\n",
      "\u001b[38;5;255m -1  ---> Un astronome distingué s'était offert à l'accompagner, déjà son plan était tracé ; il avait marqué deux routes différentes\n",
      "\u001b[38;5;255m -1  ---> Le ministre n'accéda point à ses propositions, et la société royale de Londres lui demanda ses plans\n",
      "\u001b[38;5;255m -1  ---> Il les transmit en indiquant la route qu'il préférait\n",
      "\u001b[38;5;255m -1  ---> Le capitaine Phlips ( lord Mulgrave) chargé de l'expédition, préféra l'autre ; mais il ne put s'élever que jusqu'au quatre-vingtième degré\n",
      "\u001b[38;5;255m -1  ---> Blâmerons-nous ou remercierons-nous le ministre qui déconcerta ce projet hardi ? Moins sensibles que le célèbre navigateur au mérite qu'on peut trouver à vaincre des difficultés réputées insurmontables, et ne regardant les dangers de cette expédition que comme un des inconvénients les plus graves quand ils ne sont pas rachetés par un grand objet d'utilité, nous croyons cette utilité tout au moins problématique : est -il bien sûr que le 90∞ degré puisse offrir des phénomènes qu'on n'ait pu tout aussi bien observer à dix degrés du pôle\n",
      "\u001b[38;5;46m 46  ---> Supposons pourtant tous les obstacles surmontés et l'astronome arrivé à ce point si difficile à reconnaître où il verra tout le ciel tourner horizontalement autour de lui où les étoiles toujours les mêmes seront toujours à la même hauteur, où le choix d'un méridien devient arbitraire, où les planètes ne sont visibles que clans la moitié de leurs révolutions, et seront pendant des mois ou même des années cachées à l'observateur, si même elles ne le sont toujours par les brumes ou les nuages, quel fruit pourrait -il retirer de tant de fatigues et de privations ? Quelques observations rares de réfractions, quelques expériences incertaines ou au moins fort difficiles de l'aiguille aimantée, passeront-elles pour un véritable dédommagement ? Sachons donc quelque gré au ministre économe ou timide qui n'a pas voulu qu'un homme aussi distingué s'exposât sans un motif assez apparent d'utilité\n",
      "\u001b[38;5;255m -1  ---> Croyons que M\n",
      "\u001b[38;5;255m -1  ---> Bougainville lui-même eût modifié son projet suivant les obstacles qu'il aurait rencontrés ; alors il eût encore ajouté à sa gloire en montrant tout ce que pouvait l'industrie et l'audace humaine, et les savants qui l'auraient accompagné auraient pu trouver un emploi utile de leur temps, et la récompense de leur dévouement dans la découverte de quelque vérité nouvelle\n",
      "\u001b[38;5;69m 69  --->On sait quel esprit d'insubordination s'était glissé dans la marine française et dans la flotte de Brest, commandée par M\n",
      "\u001b[38;5;0m 0  ---> Albert de Riom\n",
      "\u001b[38;5;255m -1  ---> Bougainville par sa réputation, son courage et sa fermeté, mélangée de qualités aimables, parut le seul homme capable de faire rentrer nos marins dans le devoir\n",
      "\u001b[38;5;8m 8  ---> Il se présenta aux séditieux avec des succès qui ne furent pas de longue durée\n",
      "\u001b[38;5;60m 60  ---> Les esprits étaient trop égarés, trop excités peut-être pour entendre la voix à laquelle dans d'autres temps ils auraient obéi avec joie\n",
      "\u001b[38;5;255m -1  ---> Bougainville vit que c'était l'instant de se retirer du service ; cependant son nom fut encore porté en 1791 dans la liste des vice-amiraux\n",
      "\u001b[38;5;70m 70  ---> Cette dernière distinction redoubla son dévouement pour un prince que tout abandonnait, et à qui, dans les circonstances les plus orageuses, il ne cessa de donner des preuves de la plus courageuse affection\n",
      "\u001b[38;5;29m 29  ---> …chappé, comme par miracle, aux massacres de 1792, il se réfugia dans sa terre de Normandie, où il retrouva ses deux pièces de canon, seule récompense qui lui restât pour quarante ans de service\n",
      "\u001b[38;5;255m -1  --->Là il attendait le retour de la tranquillité, lorsqu'il fut nommé, comme ancien navigateur, à l'une des places du bureau des longitudes\n",
      "\u001b[38;5;255m -1  ---> Mais, soit qu'il ne jugeât pas encore le calme assez assuré, soit que le soin de ce qui lui restait de fortune lui défendît de quitter ses possessions, il envoya sa démission, fut remplacé par M\n",
      "\u001b[38;5;255m -1  ---> le comte de Fleurieu, et remplaça lui-même bientôt après M\n",
      "\u001b[38;5;255m -1  ---> de Borda\n",
      "\u001b[38;5;25m 25  ---> Les temps de la régénération étaient arrivés ; on s'empressait de réparer tant de ruines : l'Institut venait d'être créé pour tenir lieu de toutes les académies\n",
      "\u001b[38;5;255m -1  ---> de Bougainville y fut nommé à une place de navigation et de géographie\n",
      "\u001b[38;5;58m 58  ---> Comme président de la classe des sciences, il eut l'honneur de porter la parole dans une occasion encore unique dans les fastes littéraires\n",
      "\u001b[38;5;255m -1  ---> Il avait assisté constamment à toutes les séances de la commission chargée de rédiger le rapport qui fut porté au pied du trône\n",
      "\u001b[38;5;22m 22  ---> Il ne montra pas moins d'assiduité à présider pendant dix-huit mois une autre commission chargée d'un travail plus délicat\n",
      "\u001b[38;5;31m 31  ---> Toujours le premier au rendez-vous, le plaisir qu'on prenait à l'entendre empêchait qu'on ne remarquât si l'heure du travail avait été retardée par ceux qui n'avaient pas été si ponctuels\n",
      "\u001b[38;5;255m -1  ---> Sénateur et grand- officier de la légion d'honneur, dès la création, il avait tout ce qui peut consoler de vieillir ; loisir et dignité ; mais son ardeur n'était pas éteinte : il avait encore tout le feu et la vivacité de la jeunesse\n",
      "\u001b[38;5;255m -1  ---> Il brûlait de diriger on départager quelque entreprise maritime bien hasardeuse, et quand ses amis lui objectaient son âge, il répondait que Nestor n'avait pas été inutile dans une armée qui avait Achille, Ajax, et Diomède\n",
      "\u001b[38;5;70m 70  ---> Il est douteux que le vieux roi de Pylos eût conservé au même degré ses forces et son courage ; plus douteux encore que ses discours aient toujours fait aux héros grecs le plaisir qu'auraient pris nos jeunes marins à ceux de Bougainville\n",
      "\u001b[38;5;29m 29  ---> Quoiqu'à beaucoup d'égards, il se ménageât trop peu, il était d'une tempérance et d'une sobriété rares qui nous donnaient l'espoir de le conserver longtemps ; nous le perdîmes le 31 août 1811, après dix jours d'une maladie aiguÎ, qui lui laissa jusqu'à son dernier moment toute sa connaissance et toute sa vivacité\n",
      "\u001b[38;5;14m 14  ---> Souvent il m'avait parlé du dessein où il était de me remettre tous ses journaux et ses mémoires\n",
      "\u001b[38;5;255m -1  ---> Cette promesse m'ôta le courage de me présenter à lui quand je le sus en danger, quoique je prévisse combien je perdais par cette réserve\n",
      "\u001b[38;5;3m 3  ---> Espérons que quelque main plus habile saura faire un usage heureux de ces matériaux qui ne doivent pas être perdus\n",
      "\u001b[38;5;35m 35  --->Excellent père, ami chaud et constant, bon confrère, sans cesse occupé des intérêts de la science et de ceux des savants il saisissait ou faisait naître les occasions de leur être utile\n",
      "\u001b[38;5;255m -1  ---> Franc et loyal, il s'éleva sans intrigue ; il se conduisit dans des temps de trouble de manière à mériter l'estime de tous les partis\n",
      "\u001b[38;5;35m 35  ---> Il avait épousé Mme de Montendre, également distinguée par ses grâces et ses qualités estimables\n",
      "\u001b[38;5;35m 35  ---> Il en eut quatre fils ; il en perdit un, les trois autres servent le prince avec un zèle héréditaire\n",
      "\u001b[38;5;23m 23  ---> Il fut remplacé à l'Institut par M\n",
      "\u001b[38;5;55m 55  ---> de Rossel, compagnon, continuateur et éditeur de l'Entrecasteaux\n"
     ]
    }
   ],
   "source": [
    "for sentence, topic in test_print:\n",
    "    print(colors[topic] + str(topic) + '  --->' + sentence)"
   ]
  },
  {
   "cell_type": "code",
   "execution_count": 150,
   "id": "united-incident",
   "metadata": {},
   "outputs": [
    {
     "data": {
      "text/plain": [
       "[('science', 0.20321595537303438),\n",
       " ('progrès', 0.03857673511909464),\n",
       " ('être', 0.03768229938391497),\n",
       " ('qu', 0.032544155172536664),\n",
       " ('homme', 0.03208222593267758),\n",
       " ('avoir', 0.026929214435283573),\n",
       " ('faire', 0.026864094692329477),\n",
       " ('histoire', 0.025158216083782124),\n",
       " ('pouvoir', 0.024905770830642566),\n",
       " ('découvrir', 0.02470108784075995),\n",
       " ('travail', 0.022664559846602084),\n",
       " ('vérité', 0.02260851582024733),\n",
       " ('esprit', 0.022199130429922564),\n",
       " ('génie', 0.01844619870142637),\n",
       " ('temps', 0.018420750335552207),\n",
       " ('devoir', 0.0169500582118842),\n",
       " ('donner', 0.016191168765759996),\n",
       " ('gloire', 0.016146766392747237),\n",
       " ('utilité', 0.015409305900676008),\n",
       " ('rendre', 0.0147505917028798)]"
      ]
     },
     "execution_count": 150,
     "metadata": {},
     "output_type": "execute_result"
    }
   ],
   "source": [
    "top_n_words[58][:20]"
   ]
  },
  {
   "cell_type": "code",
   "execution_count": 148,
   "id": "accessible-circulation",
   "metadata": {},
   "outputs": [
    {
     "name": "stdout",
     "output_type": "stream",
     "text": [
      "\u001b[38;5;255m -1  --->Edme Mariotte naquit à Dijon, ou du moins il y passa une partie de sa vie\n",
      "\u001b[38;5;0m 0  --->\n",
      "\u001b[38;5;0m 0  ---> M\n",
      "\u001b[38;5;0m 0  ---> M\n",
      "\u001b[38;5;0m 0  ---> M\n",
      "\u001b[38;5;16m 16  ---> C’est de Dijon qu’il a daté plusieurs de ses ouvrages, et entre autres celui où il prouve que le nerf optique n’est pas l’organe de la vue\n",
      "\u001b[38;5;255m -1  ---> Peu de villes ont produit un plus grand nombre d’hommes de mérite, parce que peu de villes ont senti avec autant d’enthousiasme le prix des talents, et leur ont autant décerné d’hommages publics [Savoir si ce que je dis ici de la ville de Dijon est vrai ou non]\n",
      "\u001b[38;5;255m -1  --->  Mariotte est le premier philosophe français qui se soit livré à la physique expérimentale\n",
      "\u001b[38;5;255m -1  ---> D’un côté, il était assez profond dans la géométrie pour savoir faire usage des découvertes des géomètres ; de l’autre, il avait l’esprit assez philosophique pour ne tenter que les expériences qui pouvaient servir à faire mieux connaître la nature ; en sorte qu'il sut déduire de ses expériences, avec une égale sagacité, ou des théories nouvelles, ou des preuves incontestables de théories déjà connues\n",
      "\u001b[38;5;255m -1  --->  Les lois du choc des corps avaient été trouvées par une métaphysique et par une application de l’analyse, nouvelles l’une et l’autre, et si subtiles, que les démonstrations de ces lois ne pouvaient satis faire que les grands mathématiciens\n",
      "\u001b[38;5;20m 20  --->  Mariotte chercha à les rendre, pour ainsi dire, populaires, en les appuyant sur des expériences\n",
      "\u001b[38;5;255m -1  ---> Pour les faire avec précision, il fallait donner à des corps une direction et une vitesse déterminées\n",
      "\u001b[38;5;255m -1  ---> Mariotte employa le mouvement circulaire des corps graves, suspendus à un point\n",
      "\u001b[38;5;32m 32  ---> La théorie de ce mouvement, trouvée par Galilée, était encore peu connue ; et il fallait, pour l’appliquer avec succès à des expériences, savoir vaincre ces petites difficultés de détail, que les inventeurs négligent presque toujours d’éclaircir\n",
      "\u001b[38;5;20m 20  ---> Les résultats des expériences de Mariotte furent exactement conformes aux lois que les géomètres avaient découvertes\n",
      "\u001b[38;5;255m -1  ---> Ainsi il donnait de ces lois une preuve que tout le monde pouvait entendre, et il montrait en même temps aux mathématiciens que la nature offre une foule de corps qu’ils peuvent, sans erreur sensible, regarder comme exactement durs, ou comme parfaitement élastiques\n",
      "\u001b[38;5;255m -1  --->  Mariotte s’est fort occupé de la théorie des eaux, et il a cherché, comme dans tous ses autres ouvrages, à appuyer sa théorie sur des expériences auxquelles il pût appliquer tout ce que la géométrie de son temps lui fournissait de secours\n",
      "\u001b[38;5;255m -1  ---> Son livre traite de l’hydrostatique, ou de la Science de l’équilibre des liqueurs, et l’expérience lui en donne les premiers principes et les lois\n",
      "\u001b[38;5;255m -1  ---> Galilée et Pascal venaient de ressusciter cette science connue des anciens, et négligée des philosophes de l’école ; et les expériences étaient alors la seule espèce de démonstration qui pût étendre la connaissance de ses principes\n",
      "\u001b[38;5;255m -1  --->  Les théories nouvelles les mieux prouvées sont peu de progrès, tant qu’elles ne sont appuyées que Sur des principes abstraits ; même les meilleurs esprits, accoutumés à certaines idées abstraites acquises dans la jeunesse, rejettent toutes celles qui ne se lient pas aisément avec les premières, et toutes les vérités spéculatives dont on ne peut leur donner des preuves sensibles sont absolument perdues pour eux\n",
      "\u001b[38;5;54m 54  ---> Ainsi, toutes les fois qu’un homme de génie propose des vérités nouvelles, il n’a pour partisan que ses égaux, et quelques jeunes gens élevés loin des préjugés des écoles publiques : le reste ne l’entend point ou l’entend mal, le persécute ou le tourne en ridicule\n",
      "\u001b[38;5;255m -1  ---> Il ne peut échapper à ce malheur qu’en attaquant, avec des expériences palpables ou par la séduction de l’éloquence, des erreurs que le temps et l’ignorance ont consacrées, et contre lesquelles la raison seule n’agit qu’avec lenteur\n",
      "\u001b[38;5;255m -1  --->  Après avoir mis les principes déjà connus de l’hydrostatique à l’abri de mauvaises objections, Mariotte chercha les lois du mouvement des fluides\n",
      "\u001b[38;5;36m 36  ---> Cette théorie, la plus difficile de toutes les applications de l’analyse à la mécanique, a été depuis l’objet des recherches de la plupart des grands géomètres\n",
      "\u001b[38;5;255m -1  ---> Les premiers ont cherché, comme Mariotte, des lois déduites de l’expérience, et qu’on put employer ensuite pour trouver dans tous les cas les mouvements des masses fluides ; d’autres se sont élevés plus haut ; et partant d’un seul principe, tel que l’égalité de pression, où l’incompressibilité, ou la loi du ressort, ils ont déterminé le mouvement des fluides par celui de chacune de leurs particules voir calculer quelle est alors la dépense\n",
      "\u001b[38;5;255m -1  ---> [Parler ici de Daniel Bernoulli]\n",
      "\u001b[38;5;32m 32  ---> d’Alembert est le premier qui ait osé envisager cette théorie d’une manière si sublime ; il a inventé à la fois et le principe mécanique qui donne les équations de ces problèmes, et la nouvelle analyse nécessaire pour les résoudre\n",
      "\u001b[38;5;32m 32  ---> Mais cette théorie générale et directe est par elle-même si difficile, que jusqu’ici elle n’a pu servir dans la pratique qu’à montrer la nécessité de se défier de toutes les lois sur lesquelles Mariotte et ses successeurs avaient cru pouvoir établir leurs règles\n",
      "\u001b[38;5;20m 20  ---> Celles que Mariotte a déduites de ses expériences ne peuvent pas être employées, même pour l’usage ordinaire\n",
      "\u001b[38;5;20m 20  ---> En effet, il n’a examiné que les écoulements par les ouvertures faites à un vase de peu d’épaisseur ; et comme, dans ce cas, la contraction de la veine est fort différente de ce qu’elle est lorsque l’écoulement se fait par des tuyaux additionnels, on a besoin de nouvelles expériences pour savoir calculer quelle est alors la dépense\n",
      "\u001b[38;5;63m 63  ---> l’abbé Bossut les a faites de manière à ne laisser aucun doute sur l’exactitude de ses résultats, ni sur la certitude des règles qu’il en a déduites\n",
      "\u001b[38;5;255m -1  ---> le chevalier de Borda et M\n",
      "\u001b[38;5;255m -1  ---> l’abbé Bossut ont fait encore, et sur l’action des machines hydrauliques, et sur la résistance des fluides, une suite d’expériences qui manquaient au Traité du mouvement des eaux, et qu’ils ont fondées sur une géométrie bien plus profonde que celle que Mariotte aurait pu employer\n",
      "\u001b[38;5;36m 36  ---> Ceux qui voudront juger combien les pas que la géométrie a fait faire à la physique ont été rapides, n’auront qu’à comparer ce Traité du mouvement des eaux de Mariotte, avec l’Hydrodynamique de l’abbé Bossut, ouvrage où l’auteur a eu renfermer, dans un petit espace, ce qu’on peut trouver ailleurs de plus intéressant sur cette Science, avec une foule de choses nouvelles qui lui appartiennent\n",
      "\u001b[38;5;255m -1  --->  S’il n’y a aucune des matières traitées par Mariotte qui n’ait été plus approfondie dans d’autres ouvrages, il ne serait pas juste cependant de laisser le sien dans l’oubli\n",
      "\u001b[38;5;255m -1  ---> On y voit briller cette sagacité avec laquelle l’auteur savait faire les expériences, les calculer, en comparer les résultats avec les principes ; et l’on y trouve des exemples singulièrement propres à diriger et à développer le talent des expériences dans ceux qui en ont le germe\n",
      "\u001b[38;5;255m -1  ---> Ainsi, dans la géométrie pure, quelle que soit la supériorité des nouvelles méthodes ; quoique les ouvrages d’Archimède ou de Pascal n’offrent plus, même à un écolier, de vérités nouvelles ; cependant il s’en faut bien qu’on doive en négliger la lecture, et que le spectacle d’un génie original, luttant contre les difficultés, puisse jamais être inutile\n",
      "\u001b[38;5;255m -1  --->  Le discours de Mariotte sur la nature de l’air renferme encore une suite d’expériences intéressantes et qui étaient absolument neuves\n",
      "\u001b[38;5;47m 47  ---> Elles prouvent que le ressort de l’air augmente sur la surface de la terre, en raison du poids dont l’air est chargé ; et qu’ainsi, quelque fermé que soit un vaisseau, l’effort de cette élasticité sur une colonne de mercure est égal à celui du poids total de l’atmosphère, au moment où cet air en a été séparé\n",
      "\u001b[38;5;52m 52  ---> Cette vérité, si simple aujourd’hui, et qui même est devenue triviale, était alors une découverte fine et nécessaire pour répondre aux objections qu’on proposait encore contre les preuves de la pesanteur de l’air On voit, en lisant le discours sur l’air, que Mariotte avait remarqué dans ce fluide la propriété de se combiner avec l’eau et avec d’autres liqueurs, et qu’il avait aperçu que cette combinaison n’était pas un simple mélange\n",
      "\u001b[38;5;255m -1  --->  La différence essentielle qui existe entre la combinaison chimique et la composition qui nait du mélange, n’a été bien déterminée que dans ces derniers temps, où, en bannissant de la chimie le langage de la physique systématique, on en a banni en même temps les idées vagues ou fausses que ce langage y avait introduites\n",
      "\u001b[38;5;58m 58  ---> Mais n’a-t-on pas aussi passé le but à n’a-t-on pas trop séparé deux Sciences qui ne peuvent être que deux branches d’un même tronc ? Le génie, qui cherche trop à généraliser, remplit à la vérité les Sciences d’erreurs d’autant plus dangereuses qu’elles sont séduisantes ; mais aussi, quand l’extrême circonspection, se bornant à augmenter la liste des faits isolés, n’ose les rapprocher pour en saisir les rapports et en former des théories, ne ralentit-elle pas la marche des connaissances ? Heureusement la nécessité de plaire au public, tour à tour fatigué de systèmes ou ennuyé de compilations, oblige les savants à une alternative d’audace et de timidité, nécessaire au progrès de l’esprit humain\n",
      "\u001b[38;5;20m 20  --->  Le recueil des ouvrages de Mariotte contient une foule d’autres expériences sur le froid et sur le chaud, sur la vision, sur la lumière, etc\n",
      "\u001b[38;5;255m -1  ---> Partout on y trouve des faits nouveaux ou des vérités déjà connues ; mais qui avaient besoin d’être éclaircies ou prouvées, et sur lesquelles il ne laisse plus rien à désirer ; ou des expériences qui détruisent les erreurs accréditées\n",
      "\u001b[38;5;57m 57  ---> Dans l’état où le respect Superstitieux pour l’antiquité et l’esprit de système avaient mis la philosophie, il n’y avait rien de plus important ni de plus difficile que de la débarrasser de ces préjugés\n",
      "\u001b[38;5;255m -1  --->  Mariotte est peut-être le physicien de son temps chez qui l’on trouve le moins d’opinions données pour des vérités, ou même érigées en principes\n",
      "\u001b[38;5;255m -1  --->  Avouons cependant que lorsqu’il essaya de répéter les expériences de Newton sur la lumière, il les manqua, et qu’il établit, d’après les résultats des siennes, un système tout différent de la théorie de Newton\n",
      "\u001b[38;5;20m 20  ---> Dans cette seule occasion, la sagesse de son esprit et sa dextérité dans les expériences semblent l’avoir abandonné à la fois\n",
      "\u001b[38;5;255m -1  ---> Mais gardons-nous de croire que le désir de trouver des erreurs dans un homme déjà trop supérieur aux autres, ait rendu Mariotte si différent de lui-même\n",
      "\u001b[38;5;57m 57  ---> Peu de philosophes ont montré dans leurs écrits un amour de la vérité plus sincère et plus désintéressé\n",
      "\u001b[38;5;255m -1  --->  Il y a un de ses ouvrages moins connus que les autres, et qui semble mériter quelques détails\n",
      "\u001b[38;5;255m -1  ---> C’est un essai de logique\n",
      "\u001b[38;5;255m -1  --->  La logique, selon lui, est l’art de découvrir des vérités et de les prouver\n",
      "\u001b[38;5;255m -1  ---> Dans la recherche des vérités, on peut avoir à examiner si une proposition énoncée est vraie ou fausse, et alors c’est un théorème à prouver ; ou bien on a seulement deux objets donnés qu’il faut comparer soit un objet dont on connait quelques rapports qui doivent servir à trouver les autres, et alors c’est un problème à résoudre\n",
      "\u001b[38;5;255m -1  ---> Il y a des moyens d’abréger ces recherches : dans chaque Science, on connait un certain nombre de vérités, ou de manières de comparer ses idées ; il n’est plus question que de faire dépendre la vérité cherchée, ou d’une de ces vérités connues, ou d’une de ces opérations\n",
      "\u001b[38;5;36m 36  ---> Les Sciences sont de trois espèces : les sciences intellectuelles, telles que la géométrie, l’algèbre (Mariotte semble même n’en point reconnaitre d’autres, et tire tous ses exemples de celle-ci) les sciences naturelles et les sciences morales\n",
      "\u001b[38;5;255m -1  ---> Dans les sciences intellectuelles, la vérité de chaque proposition compliquée dépend de vérités plus simples, et celles ci d’autres plus simples encore, qu’on appelle principes\n",
      "\u001b[38;5;255m -1  ---> La solution de chaque problème dépend de même d’une suite d’opérations ; d’où il résulte que plus on connaît de ces principes, que plus on est familiarisé avec ces opérations, plus la recherche de la vérité est facile\n",
      "\u001b[38;5;255m -1  ---> Les premiers principes des sciences intellectuelles sont les définitions et il faut surtout y éviter l’abus des mots\n",
      "\u001b[38;5;255m -1  ---> Les premiers principes des sciences naturelles sont des faits généraux ; ainsi, pour prouver une proposition physique, il faut prouver qu’elle énonce un fait général, dont la réalité est connue ; et résoudre un problème physique n’est autre chose que constater par une suite d’expériences un fait général, soigneusement dépouillé de circonstances étrangères\n",
      "\u001b[38;5;58m 58  ---> Les sciences morales ont deux espèces de principes\n",
      "\u001b[38;5;255m -1  ---> Les uns sont des propositions fondées sur le droit naturel, et que l’on regarde comme incontestables, quelle que soit l’origine de ce droit\n",
      "\u001b[38;5;5m 5  ---> Tels sont les axiomes, Il ne faut pas faire à autrui ce que nous ne voudrions pas qu’on nous fit; Les lois doivent être faites pour le bien de ceux qu’elles obligent\n",
      "\u001b[38;5;255m -1  ---> Les autres sont des faits généraux qu’on découvre en observant les hommes\n",
      "\u001b[38;5;255m -1  ---> Les différents devoirs s’établissent par leur conformité avec les principes de la première espèce, et ceux de la seconde servent à régler notre conduite\n",
      "\u001b[38;5;255m -1  ---> Ainsi, c’est par le moyen des principes spéculatifs qu’on examine si un objet qu’on se propose est juste ou injuste ; et lorsqu’on a trouvé qu’il cet juste, les principes de la seconde espèce doivent fournir les moyens d’y arriver\n",
      "\u001b[38;5;255m -1  ---> Mariotte montre, par des exemples, comment on doit chercher la vérité dans les trois espèces de Sciences, et dans les différentes hypothèses dont on vient de parler\n",
      "\u001b[38;5;255m -1  ---> Dans tous ces exemples, il a soin de n’admettre que des propositions bien prouvées d’avance, et de ne faire que des opérations sures, des expériences exactes, et des observations justes\n",
      "\u001b[38;5;255m -1  ---> L’auteur remarque enfin que c’est l’art de découvrir la vérité qu’il expose, mais qu’il ne prétend pas en donner le talent : il se borne à déterminer quelles espèces de moyens peuvent conduire à la vérité, et c’est aussi où l’art doit s’arrêter; le génie seul sait choisir entre ces moyens et les employer\n",
      "\u001b[38;5;255m -1  --->  Quant à la manière de prouver les vérités connues, l’ouvrage de Mariotte ne contient rien qui ne soit dans tous les traités de logique\n",
      "\u001b[38;5;58m 58  ---> On peut regarder la sienne comme un exposé vrai de la méthode qu’il avait suivie dans ses recherches ; et il est intéressant de pouvoir observer de si près la marche d’un des meilleurs esprits dont l’histoire des Sciences fasse mention\n",
      "\u001b[38;5;255m -1  ---> Les auteurs de logiques ne ressemblent que trop souvent aux mécaniciens qui donnent des descriptions d’instruments dont ils ne seraient pas en état de se servir\n",
      "\u001b[38;5;255m -1  ---> Mariotte mourut en 1684 : il était ecclésiastique, et le prieuré de Beaumont fut la récompense de ses travaux\n",
      "\u001b[38;5;255m -1  ---> On crut que c’était avoir servi Dieu que de s’être rendu utile aux hommes, et qu’ainsi ce ne serait pas faire un usage profane des biens de l’Église que d’en récompenser les services rendus à l’humanité\n",
      "\u001b[38;5;255m -1  ---> C’est Mariotte qui, le premier en France, a porté dans la physique un esprit d’observation et de doute, et qui a inspiré ce scrupule, cette timidité si nécessaires à ceux qui interrogent la nature, et qui se chargent d’interpréter ses réponses\n",
      "\u001b[38;5;58m 58  ---> S’il est juste de réserver notre admiration pour les hommes qui ont ouvert dans les Sciences des routes inconnues, il faut avouer du moins que ceux qui nous ont appris à ne plus nous égarer ont autant de droit à notre reconnaissance\n"
     ]
    }
   ],
   "source": [
    "for sentence, topic in df_sent['Tuple_topic_sent'][30]:\n",
    "    print(colors[topic] + str(topic) + '  --->' + sentence)"
   ]
  },
  {
   "cell_type": "code",
   "execution_count": 152,
   "id": "continuing-thought",
   "metadata": {},
   "outputs": [
    {
     "name": "stdout",
     "output_type": "stream",
     "text": [
      "\u001b[38;5;28m 28  --->Louis Élisabeth de la Vergne, comte de Tressan, lieutenant général des armées du roi, commandeur de l’ordre de saint-Lazare, l’un des quarante de l’Académie française, associé libre de celle des sciences ; de la société royale de Londres ; des Académies de Berlin et d’Édimbourg, naquit au Mans, le 4 novembre 1705, de François de la Vergne-Tressan et de Madeleine Brulart de Genlis\n",
      "\u001b[38;5;0m 0  --->\n",
      "\u001b[38;5;0m 0  ---> M\n",
      "\u001b[38;5;0m 0  ---> M\n",
      "\u001b[38;5;0m 0  ---> M\n",
      "\u001b[38;5;0m 0  ---> M\n",
      "\u001b[38;5;0m 0  ---> M\n",
      "\u001b[38;5;0m 0  ---> M\n",
      "\u001b[38;5;255m -1  ---> La maison de la Vergne était établie en Languedoc, lorsque Simon de Montfort, à la tête d’une troupe de brigands que l’amour du pillage et le fanatisme rassemblaient sous sa bannière, vint convertir et ravager cette belle province\n",
      "\u001b[38;5;70m 70  ---> Les la Vergne, fidèles à leur prince Raimond, comte de Toulouse, prirent avec lui la défense de son peuple : mais la férocité l’emporta sur le courage, plus de trois cents mille habitants, paisibles et désarmés, furent la proie des soldats et des bourreaux, tandis que les biens et les titres de ceux qui avaient voulu les défendre devinrent la récompense de leurs assassins\n",
      "\u001b[38;5;255m -1  ---> Les la Vergne abandonnèrent leurs possessions et leur patrie : heureusement qu’un siècle après, un cardinal de la Vergne, archevêque de sens, répara le mal que les légats d’Innocent IIl avaient fait à sa famille, et acheta la terre de Tressan, dont une des branches de la Vergne a depuis toujours porté le nom\n",
      "\u001b[38;5;255m -1  ---> Cette branche embrassa, au seizième siècle, la religion réformée ; à la bataille de Jarnac, la Vergne, suivi de vingt-cinq de ses neveux, défendit longtemps le prince de Condé blessé et abandonné de son armée : quinze de ces braves chevaliers y périrent ; la plupart des autres furent blessés et faits prisonniers\n",
      "\u001b[38;5;255m -1  ---> La Vergne, ami de Coligni, le suivit au mariage de Henri IV ; mais, plus défiant que l’amiral, parce qu’on employait moins d’artifices pour le tromper, il prévit la trahison que l’on tramait contre son parti rassembla chez lui les gentilshommes qui l’avaient suivi à la guerre, arma ses domestiques, se précautionna contre une surprise, et au premier bruit du massacre, fit monter sa troupe à cheval, chargea celle des meurtriers qui entouraient déjà sa maison, les dispersa, et courut se réfugier dans ses terres\n",
      "\u001b[38;5;255m -1  ---> Ainsi, par sa prudence et sa valeur, il sut échapper à cette horrible conspiration d’un roi contre son peuple, attentat dont on ne saurait trop souvent rappeler la mémoire, pour apprendre aux rois quels crimes ils s’exposent à commettre, et aux peuples, à quels malheurs ils doivent s’attendre, lors qu’ils n’ont pas la sagesse d’étouffer les premiers cris du fanatisme sous le poids du mépris et de la risée publique\n",
      "\u001b[38;5;255m -1  ---> Le fils de la Vergne, digne de son père, commanda l’infanterie de l’aile droite à la bataille d’Ivry, et y reçut trois blessures ; il eut pour fils François de Tressan, bisaïeul de celui dont nous faisons ici l’éloge ; Louise de Monteinard sa femme était dans Béziers, lorsque le duc de Montmorency son parent y fut assiégé ; elle demanda au commandant de l’armée du roi, ou plutôt du cardinal de Richelieu, la liberté de sortir de la ville, l’obtint, et emmena avec elle dans sa voiture, le duc de Montmorency, caché sous son vertugadin\n",
      "\u001b[38;5;255m -1  ---> Le cardinal ne put s’empêcher de louer hautement cette action, qui lui enlevait cependant une victime, à la vérité pour bien peu de temps\n",
      "\u001b[38;5;255m -1  ---> Elle eut vingt-deux enfants, dont dix-neuf vécurent plus de soixante-dix ans ; une des filles en vécut cent\n",
      "\u001b[38;5;35m 35  ---> Ces détails généalogiques paraîtront peut-être étrangers à l’éloge d’un académicien, mais ce sont les actions de ses ancêtres, et non leurs titres, que nous venons de rapporter ; et ces actions sont une partie du patrimoine de leurs descendants\n",
      "\u001b[38;5;68m 68  ---> le comte de Tressan fut élevé d’abord chez l’évêque du Mans, son grand-oncle, car sa famille avait quitté la religion réformée ; elle avait même produit un missionnaire célèbre, qui, sous le règne de Louis XIV convertit beaucoup de protestants, et n’en fut pas moins persécuté comme janséniste\n",
      "\u001b[38;5;68m 68  ---> L’évêque du Mans avait quitté la cour de bonne heure, pour se retirer volontairement dans son diocèse, avec un évêque anglais, son ami : ils vécurent ensemble pendant quarante-deux ans, et eurent le bonheur de mourir le même jour\n",
      "\u001b[38;5;255m -1  ---> de Tressan fut alors élevé par son oncle, archevêque de Rouen, premier aumônier du duc d’Orléans, régent du royaume\n",
      "\u001b[38;5;255m -1  ---> L’archevêque de Rouen fit venir son neveu à la cour, école bien dangereuse pour un jeune homme de treize ans ; mais ce jeune homme ne se borna ni aux leçons qu’il pouvait y recevoir, ni aux sociétés qu’il y trouva : il se lia dès sa première jeunesse avec Voltaire et avec Fontenelle, eut l’avantage de leur plaire, et le mérite de sentir le prix de leur amitié ; ils lui inspirèrent le goût de la philosophie et des lettres, et ce respect pour les hommes illustres dans les sciences ou dans la littérature, qui malheureusement n’en est pas toujours une suite : car on a vu souvent les gens du monde, loin de trouver des plaisirs ou un remède contre l’ennui, dans la culture des beaux-arts, devenir les victimes de cet amour propre malheureux qui accompagne les demi-talents, et haïr les hommes célèbres, dont la gloire humiliait en secret leur orgueil\n",
      "\u001b[38;5;255m -1  ---> de Tressan, quoique occupé autant qu’aucun autre homme de la cour, des plaisirs ou de ce qui en a le nom, réservait tous les jours quelques heures qu’il consacrait au travail ; il s’instruisait par le commerce des savants, dont il avait su se concilier la bienveillance, et se préparait des ressources pour le temps de sa vieillesse, des consolations contre les malheurs de l’ambition et de la fortune\n",
      "\u001b[38;5;29m 29  ---> Il fit, dans la guerre de 1741, toutes les campagnes de Flandre, avec le feu roi, dont il était aide de camp à la bataille de Fontenoi, la première qu’un roi de France eût gagnée contre les Anglais, depuis celle de Taillebourg\n",
      "\u001b[38;5;29m 29  ---> En 1750, il entra dans l’Académie comme associé libre ; il s’était déclaré physicien peu de temps auparavant, par un mémoire sur l’électricité ; matière alors très nouvelle et très peu connue\n",
      "\u001b[38;5;255m -1  ---> Dans cet ouvrage, il s’était un peu livré à son imagination, et elle l’avait bien servi, puisqu'il a prédit une partie des découvertes qui ont été faites depuis\n",
      "\u001b[38;5;14m 14  ---> Ces recherches, qui n’ont pas été imprimées, annoncent une étendue de connaissances qu’on est étonné que M\n",
      "\u001b[38;5;58m 58  ---> le comte de Tressan ait eu le temps d’acquérir, et montrent une sagacité qu’on regrette de n’avoir pas été plus constamment employée : elles donnent même lieu de croire que son goût pour la physique serait devenu un véritable talent, s'il avait pu le suivre avec cette opiniâtreté et cette constance sans lesquelles on ne fait, dans les sciences, ni de véritables découvertes, ni même de véritables progrès\n",
      "\u001b[38;5;255m -1  ---> Vers le même temps, il composa pour l’Encyclopédie plusieurs articles, presque tous sur l’art militaire ; et il eut soin d’y faire entrer quelques leçons d’humanité et de justice, que malheureusement on ne peut pas encore regarder comme absolument inutiles\n",
      "\u001b[38;5;255m -1  ---> le comte de Tressan passa de la cour de France à celle de Lorraine, où il fut grand maréchal des logis du roi de Pologne Stanislas, et successivement commandant du Toulois et de la Lorraine allemande\n",
      "\u001b[38;5;255m -1  ---> Il contribua beaucoup à l’établissement de l’Académie de Nancy ; il y lut plusieurs discours, et y prononça souvent l’éloge des hommes célèbres qu’il y avait fait associer\n",
      "\u001b[38;5;255m -1  ---> Le roi de Pologne, qui aimait les lettres et qui les cultivait, avait pris pour M\n",
      "\u001b[38;5;35m 35  ---> de Tressan un goût assez vif pour inspirer de la jalousie au père Menou ; aussi ce jésuite ne manqua-t-il pas d’accuser M\n",
      "\u001b[38;5;57m 57  ---> de Tressan d’avoir mis de la philosophie dans quelques-uns de ses discours académiques ; le roi lui en parla : Je conviens de mon tort, lui répondit M\n",
      "\u001b[38;5;255m -1  ---> de Tressan, mais je supplie Votre Majesté de se rappeler qu’à la procession de la Ligue, il y avait trois mille moines et pas un philosophe\n",
      "\u001b[38;5;35m 35  ---> La mort de ce prince, celle de sa fille et de son petit-fils, firent perdre à M\n",
      "\u001b[38;5;255m -1  ---> de Tressan toutes les personnes augustes dont les bontés pouvaient nourrir en lui des restes d’ambition ; c’est en général pour les hommes la dernière de leurs passions, et surtout elle ne quitte jamais absolument ceux qui ont vécu dans les cours\n",
      "\u001b[38;5;255m -1  ---> Ce fut alors qu’il sentit le prix de l’habitude qu’il s’était formée de cultiver son esprit, et par la lecture et par la composition de quelques ouvrages\n",
      "\u001b[38;5;255m -1  ---> Le premier fruit de sa retraite fut consacré à l’éducation de ses enfants ; mais, après avoir rempli ce devoir par un livre sérieux, intitulé Réflexions sur l’Esprit, il renonça aux recherches philosophiques, abrégea les Amadis, traduisit l’Arioste, et fit des romans de chevalerie Il trouvait dans sa famille les noms de Laure, de Diane, de Château-Morand, de la Fayette, noms célèbres dans les romans ; mais ce dernier pouvait l’exposer à une comparaison dangereuse : aussi eut-il ou la galanterie ou la prudence de ne pas s’exposer au parallèle\n",
      "\u001b[38;5;255m -1  ---> Il crut qu’un chevalier ne devait point parler d’amour comme une femme tendre et sensible ; il substitua une gaieté piquante, mais modeste, des images voluptueuses, mais toujours enveloppées du voile de la décence, une liberté qui amuse, qui séduit, mais sans alarmer la pudeur, à cette douce sensibilité, à cette délicatesse, à cette pureté de sentiments qui caractérisent les ouvrages de Mrs de la Fayette : tous deux semblent avoir conservé le caractère de leur sexe, dans leur manière de peindre l’amour, et l’on y aperçoit à peu près la même différence que parmi les gens du monde on peut observer dans la manière de le sentir\n",
      "\u001b[38;5;61m 61  ---> Il ne nous appartient pas de fixer la place que mérite M\n",
      "\u001b[38;5;56m 56  ---> le comte de Tressan dans un genre moins frivole qu’on ne croit, puisque la plupart des hommes, et surtout des femmes, ont pris dans les romans qu’ils ont lus une partie de leurs préjugés ou de leurs principes ; mais nous nous bornerons à observer qu’il n’est aucun romancier, ni même aucun poète, qui ne puisse envier le tableau si naïf, si original et si touchant de l’éducation d’Ursino\n",
      "\u001b[38;5;21m 21  ---> C’est à l’âge de soixante-treize ans qu’on vit M\n",
      "\u001b[38;5;255m -1  ---> de Tressan se livrer à ces ouvrages dans lesquels on trouve toute la fraicheur, toute la gaieté d’une imagination jeune et riante ; c’est à cet âge qu’il montra pour le travail une ardeur telle qu’un homme de lettres avide de renommée peut l’avoir au commencement de sa carrière\n",
      "\u001b[38;5;21m 21  ---> Au milieu des douleurs de la goutte, il dictait un conte rempli des peintures les plus animées : il semblait que son corps et ses sens eussent vieilli seuls, et que l’âge et les infirmités eussent respecté son imagination et son esprit\n",
      "\u001b[38;5;11m 11  ---> Si l’on regarde ces ouvrages comme ceux d’un vieillard, combien doit-on regretter que dans sa jeunesse il n’ait pas suivi la carrière des lettres avec la même ardeur à mais peut-être aussi que son esprit, qu'il avait exercé toujours sans se fatiguer jamais, avait conservé toute sa force, et que la dépendance où l’âme est de nos organes, n’est ni si absolue ni assujettie à des lois si régulières qu’une observation superficielle nous porte à le croire\n",
      "\u001b[38;5;255m -1  ---> Il désira vivement d’être de l’Académie française, et obtint, à l’âge de soixante-quinze ans, un titre dont il ne devait pas jouir longtemps, mais dont il jouit avec toute la vivacité, toute la sensibilité d’un jeune homme qui l’aurait obtenu pour le prix d’un premier succès\n",
      "\u001b[38;5;2m 2  ---> Le dernier ouvrage de M\n",
      "\u001b[38;5;58m 58  ---> de Tressan doit intéresser particulièrement l’Académie des sciences : c’est un éloge de Fontenelle, de cet homme qu’elle regrettera longtemps, à qui peut-être elle doit une partie de sa gloire, et ce qui est encore plus précieux, de cet esprit philosophique qui lui fait tolérer toutes les hypothèses sans en adopter aucune ; résister aux opinions nouvelles, mais encourager les découvertes ; et, en conservant l’esprit de doute dans les justes bornes que prescrit la sagesse, être à la fois un appui utile pour les véritables inventeurs, et une barrière contre le charlatanisme\n",
      "\u001b[38;5;58m 58  ---> de Tressan avait beaucoup vécu avec Fontenelle ; il l’avait vu contribuer aux progrès des sciences autant peut-être qu’aucun homme de génie, sans cependant les avoir enrichies d’une seule découverte, et cacher avec autant de soin la profondeur et l’étendue de ses vues philosophiques, que d’autres mettent de prétention à en montrer ; ne voulant pas que les hommes apprissent trop tôt tout le bien que la raison pouvait leur faire, ne disant les vérités qu’à mesure qu’il les croyait utiles, mais ayant soin de faire entendre celles qu’il ne disait pas pour qu’elles ne sussent point perdues, et qu’on pût les retrouver lorsqu’il serait temps de les révéler\n",
      "\u001b[38;5;255m -1  ---> de Tressan avait vu Fontenelle, pendant le cours d’une si longue vie, rendre les sciences respectables par ses mœurs, en inspirer le goût, et en faire sentir l’utilité par ses ouvrages, sans jamais leur attirer d’ennemis, sans blesser l’amour propre des ignorants, sans les éblouir par trop d’éclat, ou les effrayer en attaquant de front trop de préjugés à la fois\n",
      "\u001b[38;5;255m -1  ---> Modeste, réservé dans son zèle pour la vérité comme dans sa conduite, il exerçait ainsi sur les esprits de son siècle une influence d’autant plus forte qu’elle se faisait moins sentir, et qu’on profitait de la lumière qu'il avait répandue sans apercevoir de quel point elle était partie : c’était à lui que M\n",
      "\u001b[38;5;255m -1  ---> de Tressan devait en grande partie le bonheur que la culture des lettres avait répandu sur les dernières années de sa vie, et c’est à lui qu’il voulut consacrer les derniers fruits de sa vieillesse\n",
      "\u001b[38;5;255m -1  ---> Dans la préface de cet éloge, M\n",
      "\u001b[38;5;14m 14  ---> de Tressan semble prévoir sa fin prochaine, et céder sans regret à la force qui l’entraînait dans le tombeau, pourvu qu’elle lui permit de s’arrêter encore un moment pour rendre un dernier hommage à une mémoire chérie\n",
      "\u001b[38;5;35m 35  ---> Des attaques de goutte répétées avaient épuisé ses forces, et il y succomba le 31 octobre 1783, laissant deux fils au service, dont l’un ne lui survécut que très peu de temps ; un troisième, grand vicaire de Rouen, et une fille mariée à M\n",
      "\u001b[38;5;255m -1  ---> le marquis de Maupeou\n"
     ]
    }
   ],
   "source": [
    "for sentence, topic in df_sent['Tuple_topic_sent'][70]:\n",
    "    print(colors[topic] + str(topic) + '  --->' + sentence)"
   ]
  },
  {
   "cell_type": "code",
   "execution_count": 158,
   "id": "international-nudist",
   "metadata": {},
   "outputs": [
    {
     "data": {
      "text/plain": [
       "[('mémoire', 0.39818396448003973),\n",
       " ('imprimer', 0.06488732897499772),\n",
       " ('souvenir', 0.06463629668635076),\n",
       " ('avoir', 0.04229386220289431),\n",
       " ('partie', 0.03827555447327808),\n",
       " ('oublier', 0.03723476857943689),\n",
       " ('donner', 0.036036739728993426),\n",
       " ('être', 0.033927840893856774),\n",
       " ('collection', 0.02997396302987066),\n",
       " ('volume', 0.02971788707997089),\n",
       " ('publier', 0.029431510335413906),\n",
       " ('faire', 0.02927934644985865),\n",
       " ('voir', 0.02858170771843142),\n",
       " ('rappeler', 0.026252234944440168),\n",
       " ('ouvrage', 0.026151845003619546),\n",
       " ('qu', 0.025722172420222386),\n",
       " ('recueil', 0.022398405244616188),\n",
       " ('objet', 0.02198335083999575),\n",
       " ('matière', 0.021121499604964764),\n",
       " ('homme', 0.020670018960523676)]"
      ]
     },
     "execution_count": 158,
     "metadata": {},
     "output_type": "execute_result"
    }
   ],
   "source": [
    "top_n_words[14][:20]"
   ]
  },
  {
   "cell_type": "code",
   "execution_count": 174,
   "id": "anticipated-wright",
   "metadata": {},
   "outputs": [
    {
     "name": "stdout",
     "output_type": "stream",
     "text": [
      "[('summos', 2.0005307848061253), ('exe', 2.0005307848061253), ('souhaiter', 1.3567556198324853), ('border', 1.1954604466590957), ('prix', 0.9469591529934598), ('œuvrer', 0.0), ('enfumer', 0.0), ('engorgement', 0.0), ('engloutir', 0.0), ('engendrer', 0.0)]\n",
      "\n",
      "\n",
      "[('matériau', 0.6618465116495704), ('matériaux', 0.373262088843281), ('rassembler', 0.074026855961441), ('papier', 0.05426234110045695), ('ouvrage', 0.04750832006726409), ('année', 0.04380707066427243), ('travail', 0.037711192544145185), ('qu', 0.0370518591130426), ('traiter', 0.03634313679637598), ('être', 0.03478956215795108)]\n",
      "\n",
      "\n",
      "[('année', 0.5277080515328206), ('vie', 0.055334556996880134), ('être', 0.05322808268299745), ('avoir', 0.038122927634807166), ('travail', 0.032192785954338145), ('suivre', 0.030171680954076574), ('qu', 0.027676193141071948), ('an', 0.024685550194160376), ('jour', 0.02462006313564479), ('saison', 0.024026459341850444)]\n",
      "\n",
      "\n",
      "[('institut', 0.7737419386680578), ('académie', 0.22252628770293512), ('institution', 0.1646132631174917), ('placer', 0.15751655927276145), ('collège', 0.10898169375152188), ('donner', 0.09168548058488306), ('remplacer', 0.07734921714808136), ('chaussier', 0.07044122481711709), ('sociét', 0.07044122481711709), ('beudant', 0.07044122481711709)]\n",
      "\n",
      "\n",
      "[('voyage', 0.7571153167763329), ('voyager', 0.2988080072836698), ('pays', 0.11632782769881468), ('partie', 0.10635789655350236), ('entreprendre', 0.10475191123517973), ('relation', 0.07023885726798246), ('avoir', 0.0688646500237333), ('séjour', 0.06109893041253089), ('accompagner', 0.057218278883888855), ('être', 0.05714596975586996)]\n",
      "\n",
      "\n",
      "[('succès', 0.8181970892995665), ('réussir', 0.1670914410393481), ('répondre', 0.14894113905449222), ('voir', 0.10486646090794724), ('attente', 0.09603893796788837), ('tentative', 0.07886238015229269), ('expédition', 0.07537532472863474), ('pouvoir', 0.059892503769427986), ('avoir', 0.05696984683781573), ('bouvart', 0.056421252990731405)]\n",
      "\n",
      "\n",
      "[('card', 0.23779263589947455), ('moi', 0.04487195005106902), ('mois', 0.044543243264461546), ('naître', 0.03410610713869314), ('année', 0.03287738091163235), ('être', 0.03157842945915868), ('an', 0.02972283519152572), ('science', 0.029487347654037002), ('mourir', 0.029034146370016653), ('mémoire', 0.025537598311610243)]\n",
      "\n",
      "\n",
      "[('temps', 0.44203599524262716), ('moment', 0.07714188316081969), ('heure', 0.07661729898627131), ('vie', 0.04790702516884787), ('travail', 0.04769134161431523), ('être', 0.04260531687089088), ('rester', 0.0406926393806569), ('qu', 0.03913667667725085), ('durer', 0.03704540804296549), ('permettre', 0.03611482771874498)]\n",
      "\n",
      "\n",
      "[('planter', 0.07866291859040789), ('plante', 0.07276003668813573), ('jardin', 0.06679202692334892), ('espèce', 0.0609513130796989), ('botaniste', 0.04701759371713845), ('fleur', 0.041139397061912046), ('arbre', 0.03811260992863527), ('former', 0.028491460674990404), ('être', 0.027603218787265602), ('agriculture', 0.02553560983622806)]\n",
      "\n",
      "\n",
      "[('mémoire', 0.47772215925223854), ('donner', 0.0493747358518991), ('souvenir', 0.0445439713213597), ('volume', 0.03990984126215702), ('partie', 0.03863700034478529), ('objet', 0.03216495499602493), ('avoir', 0.031270874012773106), ('dent', 0.030010967162645213), ('recueil', 0.029566449501621298), ('qu', 0.029133965567553335)]\n",
      "\n",
      "\n",
      "[('esprit', 0.46434381285983806), ('âme', 0.1285215106484866), ('caractère', 0.07103194743637599), ('faire', 0.05672695766371332), ('attention', 0.05209264308648985), ('savoir', 0.050634238741722654), ('fièvre', 0.04636112071794965), ('qu', 0.042348501206994835), ('curiosité', 0.039186646167038444), ('porter', 0.0390358967647972)]\n",
      "\n",
      "\n",
      "[('fil', 0.21504939450334548), ('père', 0.15272853156954533), ('fils', 0.1309122658011132), ('famille', 0.05590338329061416), ('fille', 0.04316253234291813), ('enfant', 0.03782908543673948), ('avoir', 0.03561166009616053), ('mariage', 0.030511380963883016), ('marier', 0.030031624165480907), ('être', 0.028546475227514755)]\n",
      "\n",
      "\n",
      "[('être', 0.08999017402277461), ('est', 0.08263973580284538), ('remplir', 0.05661967197109729), ('place', 0.05300711324007845), ('avoir', 0.04499275459024843), ('associer', 0.042043567934639405), ('placer', 0.0411770092355157), ('an', 0.039218758868852004), ('éloge', 0.03509728984683857), ('qu', 0.03224473508691654)]\n",
      "\n",
      "\n",
      "[('traduction', 0.4323596022464724), ('langue', 0.21385100668022644), ('traduire', 0.13751689614237558), ('ouvrage', 0.11552659775615953), ('traducteur', 0.10136906734324162), ('dictionnaire', 0.08109465085858618), ('temps', 0.06414824715493983), ('noter', 0.0565817928325926), ('ouvrager', 0.05567398124308739), ('éditer', 0.05180997538022547)]\n",
      "\n",
      "\n",
      "[('poésie', 0.12020091946646551), ('poème', 0.10676553927393527), ('éloquence', 0.05526899711057305), ('styler', 0.04586897451447887), ('poète', 0.04351807394641173), ('art', 0.040159568903245894), ('auteur', 0.039801567591684475), ('style', 0.038586142055806204), ('être', 0.03825582225215077), ('goût', 0.037356385099623225)]\n",
      "\n",
      "\n",
      "[('honneur', 0.1352281973089614), ('mériter', 0.09560207783536444), ('gloire', 0.07793572139449874), ('être', 0.07092868035899894), ('récompenser', 0.05525694416542957), ('pouvoir', 0.054243959252251395), ('homme', 0.05382462599616618), ('qu', 0.05297084648646061), ('devoir', 0.052623668381513465), ('vanité', 0.04539054539316819)]\n",
      "\n",
      "\n",
      "[('montagne', 0.1713907546335598), ('volcan', 0.09080407898718668), ('lac', 0.059170073562374775), ('neige', 0.059170073562374775), ('rocher', 0.052531508371149165), ('torrent', 0.03828407970457884), ('vallée', 0.03828407970457884), ('mont', 0.03632163159487467), ('mer', 0.03526448831382033), ('glace', 0.03069204085241715)]\n",
      "\n",
      "\n",
      "[('science', 0.213608773997657), ('progrès', 0.040149687183488166), ('être', 0.03749510938502172), ('homme', 0.032631841021423996), ('qu', 0.0324554403593042), ('avoir', 0.027371120256937255), ('histoire', 0.025497193521595417), ('pouvoir', 0.02425347438416728), ('travail', 0.023113456138597187), ('faire', 0.022624711733763868)]\n",
      "\n",
      "\n",
      "[('géomètre', 0.2645997526741008), ('géométrie', 0.17789706998456653), ('avoir', 0.04679123420279265), ('être', 0.03882878158345511), ('méthode', 0.03775690573818169), ('problème', 0.03448225283060348), ('trouver', 0.03147518187813048), ('calcul', 0.0313190187075747), ('qu', 0.029015310871423665), ('ouvrage', 0.027222267398542322)]\n",
      "\n",
      "\n",
      "[('astronome', 0.12887627092433013), ('astronomie', 0.09911989636933963), ('observation', 0.04600256162060704), ('planeter', 0.044824533924025314), ('soleil', 0.04043186703970618), ('mouvement', 0.036527434095081315), ('étoile', 0.035399512690443086), ('satellite', 0.03217031741428531), ('étoiler', 0.030267849715074673), ('temps', 0.030257151579126)]\n",
      "\n",
      "\n",
      "[('vaisseau', 0.15725259718721643), ('île', 0.14212914526235793), ('navire', 0.05467103310669946), ('capitaine', 0.05369986547783365), ('guerre', 0.045733082950761866), ('mer', 0.04394962800710979), ('commander', 0.041203910138809766), ('combat', 0.04033265682779535), ('être', 0.036525799002293545), ('escadre', 0.03556141083067231)]\n",
      "\n",
      "\n",
      "[('roi', 0.13497335735204163), ('prince', 0.13476531759166557), ('avoir', 0.03541124154496051), ('être', 0.031068853355117595), ('duc', 0.031018302768972463), ('qu', 0.028586297712744527), ('maison', 0.023375465724452333), ('faire', 0.023304832598380548), ('demander', 0.023215184840085522), ('pouvoir', 0.023122017723099405)]\n",
      "\n",
      "\n",
      "[('qu', 0.033057706947176566), ('être', 0.032630859412811616), ('avoir', 0.02989145293542099), ('faire', 0.02521868515717634), ('homme', 0.021079127728844144), ('pouvoir', 0.021072993921452825), ('donner', 0.01746995822828077), ('devoir', 0.01492728740522884), ('voir', 0.014337211452258412), ('trouver', 0.01367316070665697)]\n",
      "\n",
      "\n"
     ]
    }
   ],
   "source": [
    "set_top = set()\n",
    "for _, topic in test_print :\n",
    "    set_top.add(topic)\n",
    "\n",
    "for topic in set_top:\n",
    "    print(top_n_words[topic][:10])\n",
    "    print('\\n')"
   ]
  },
  {
   "cell_type": "code",
   "execution_count": 60,
   "id": "union-little",
   "metadata": {},
   "outputs": [],
   "source": [
    "test_print_1 = df_sent['Tuple_topic_sent'][1]\n"
   ]
  },
  {
   "cell_type": "code",
   "execution_count": 61,
   "id": "confirmed-candle",
   "metadata": {
    "scrolled": true
   },
   "outputs": [
    {
     "name": "stdout",
     "output_type": "stream",
     "text": [
      "\u001b[38;5;28m Névil Maskelyne, docteur en théologie, membre du collège de la Trinité à Cambridge, de la Société royale de Londres, l'un des huit associés étrangers de l'Académie des Sciences et de la Classe des Sciences physiques et mathématiques de l'Institut royal, astronome royal d'Angleterre était né à Londres le 6 octobre 1732, d'une ancienne famille établie depuis longtemps dans la partie occidentale de l'Angleterre\n",
      "\u001b[38;5;0m \n",
      "\u001b[38;5;0m  M\n",
      "\u001b[38;5;0m  M\n",
      "\u001b[38;5;0m  M\n",
      "\u001b[38;5;0m  M\n",
      "\u001b[38;5;0m  M\n",
      "\u001b[38;5;0m  M\n",
      "\u001b[38;5;0m  M\n",
      "\u001b[38;5;0m  M\n",
      "\u001b[38;5;0m  M\n",
      "\u001b[38;5;0m  M\n",
      "\u001b[38;5;0m  M\n",
      "\u001b[38;5;0m  M\n",
      "\u001b[38;5;0m  M\n",
      "\u001b[38;5;0m  Maskelyne\n",
      "\u001b[38;5;0m  M\n",
      "\u001b[38;5;255m  Il fut placé à l'âge de neuf ans à l'école de Westminster, où il ne tarda guère à se distinguer\n",
      "\u001b[38;5;255m  Il montra de bonne heure son goût pour l'optique et l'astronomie ; mais ce qui décida sa vocation, ce fut l'éclipsé de soleil de 1748, qui fut de dix doigts à Londres\n",
      "\u001b[38;5;46m  Il est à remarquer que cette éclipse produisit le même effet sur l'esprit de Lalande, plus âgé de trois mois seulement que Maskelyne ; et l'on peut dire avec vérité que jamais phénomène céleste ne fut plus utile à la science que l'éclipsé qui lui donna ces deux astronomes singulièrement distingués, quoique dans des genres différents, dont l'un a beaucoup écrit, longtemps professé, formé un grand nombre d'élèves, mais observé très -peu ; tandis que le second, qui a moins écrit, nous a laissé clans son Recueil d'observations le monument le plus vaste et le plus précieux qui existe en ce genre\n",
      "\u001b[38;5;255m  Maskelyne sentit combien les mathématiques lui seraient nécessaires dans la carrière où il se proposait d'entrer ; il se mit donc de lui-même à les étudier, et au bout de quelques mois, il possédait les éléments de géométrie et d'algèbre\n",
      "\u001b[38;5;46m  Ces premiers succès étaient le gage de ceux qu'il ne pouvait manquer d'obtenir en étudiant les principaux traités d'astronomie et d'analyse plus relevée, dont il fit sa lecture habituelle\n",
      "\u001b[38;5;25m  C'est alors qu'il se rendit à Cambridge, où il fut admis d'abord a Catherine - Hall, et puis au collège de la Trinité, où il reçut avec applaudissement le titre de bachelier ès-arts\n",
      "\u001b[38;5;255m  En 1755, il accepta une cure dans les environs de Londres ; il y résida pendant quelques années, donnant tous ses loisirs à son étude favorite\n",
      "\u001b[38;5;46m  Ce fut aussi vers ce temps qu'il se lia avec le grand astronome Bradley, pour lequel il paraît qu'il fit plusieurs calculs importants\n",
      "\u001b[38;5;29m  En 1768, il fut reçu membre du collège de la Trinité, à Cambridge, et l'année suivante, membre de la Société royale de Londres\n",
      "\u001b[38;5;255m  Mais c'est à l'année 1 761 que commence véritablement sa carrière astronomique, lorsqu'il fut choisi pour aller à l'île de Sainte-Hélène observer le passage de Vénus\n",
      "\u001b[38;5;10m  Pour tirer plus d'utilité de ce voyage, il offrit à la Société royale de faire des recherches sur la parallaxe de Sirius\n",
      "\u001b[38;5;46m  Cette belle étoile avait été fréquemment observée par La Caille au cap de Bonne-Espérance\n",
      "\u001b[38;5;255m  Maskelyne, en calculant ces observations, crut y remarquer la preuve d'une parallaxe de 4∞5, d'où il résulterait pour Sirius une distance à la terre beaucoup moindre qu'on ne croit communément\n",
      "\u001b[38;5;255m  Toutefois, en rendant une justice franche et entière à notre célèbre astronome, et à l'excellent ouvrage où ces observations sont consignées, il remarquait avec justesse que ces observations faites dans une autre vue, ne sont ni assez nombreuses, ni placées dans des circonstances assez favorables pour bien constater la parallaxe, et que les variations qu'on y remarque, quoiqu'assez régulières en général pourraient cependant provenir en partie des erreurs inévitables de l'observation\n",
      "\u001b[38;5;63m  L'abbé de La Caille, apprenant le projet de Maskelyne, écrivit à Wakson, leur ami commun, de lui recommander les passages de la lime au méridien, pour vérifier aussi la parallaxe de cet astre qu'il avait lui-même, avec tant de soins et de succès, déterminée au cap de Bonne-Espérance ; il lui envoyait en même temps une note des observations qu'il jugeait utiles, donnant ainsi une preuve éclatante de cet amour de la vérité, auquel il sacrifiait en toute occasion son temps, son repos et jusqu'aux intérêts de son amour-propre\n",
      "\u001b[38;5;46m  Maskelyne, de son côté, prenait des précautions semblables ; et, sans savoir qu'il était prévenu, il faisait passer aux astronomes français la note des observations qu'il leur recommandait, ainsi que La Caille en avait donné l'exemple huit ans auparavant\n",
      "\u001b[38;5;255m Les nuages empêchèrent l'observation du passage de Vénus, qui avait été l'occasion et le prétexte du voyage ; mais M\n",
      "\u001b[38;5;47m  Maskelyne, muni d'une excellente pendule de Shelton, réglée à Greenwich par Bradley, et qui avait été transportée avec tous les soins imaginables, détermina le nombre d'oscillations qu'elle faisait de moins à Sainte-Hélène qu'à Londres, pour en conclure la diminution de la pesanteur\n",
      "\u001b[38;5;255m  L'objet secondaire du voyage était la parallaxe de Sirius ; cette observation manqua comme la première, elle donna lieu du moins à une remarque utile et curieuse\n",
      "\u001b[38;5;46m  Pour reconnaître si l'étoile Sirius avait une parallaxe sensible, il fallait avoir un instrument plus parfait que celui de La Caille ; il fallait observer l'étoile dans des circonstances choisies ; ce dernier point dépendait de l'astronome, le premier dépendait de l'artiste\n",
      "\u001b[38;5;255m  La Société royale avait tout ex- près fait construire un secteur qui ne fut terminé qu'à l'instant même du départ, et ne put être vérifié à Greenwich\n",
      "\u001b[38;5;255m  Quelle fut la surprise de M\n",
      "\u001b[38;5;255m  Maskelyne quand il vit que cet instrument, destiné aux recherches les plus délicates, lui donnait d'un jour à l'autre des différences de 10, 20 et 30\" dans la mesure d'un même angle\n",
      "\u001b[38;5;255m  En examinant avec soin quelle pouvait être la cause de ces variations singulières, il la démêla sans peine, s'en assura par des épreuves certaines s'attacha à la faire disparaître, mais n'y put réussir qu'en partie ; il réduisit les erreurs à 3\", ce qui était loin de suffire pour l'objet qu'il s'était proposé [Ce défaut venait de ce que le fil à plomb, à son extrémité supérieure, formait une boucle par laquelle il était accroché à un cylindre de 1/20 de pouce de diamètre, planté au centre du secteur\n",
      "\u001b[38;5;255m  On ne pouvait diriger la lunette à une étoile sans donner au cylindre un mouvement de rotation égale à la distance zénithale de l'étoile ; dans ce mouvement par un effet de l'adhérence, le cylindre dérangeait le fil de sa position primitive ; l'arc qui avait passé sous le fil n'était donc pas la véritable distance de l'astre au zénith\n",
      "\u001b[38;5;29m  Maskelyne fit limer le cylindre jusqu'à 1/70 de ligne, et c'est alors que l'erreur se réduisit à 3\"\n",
      "\u001b[38;5;255m  Ce fut à celte occasion sans doute que fut imaginée la suspension actuelle, qui consiste à accrocher le fil plus haut à un point fixe duquel il puisse pendre librement vis-à-vis un point marqué à la surface antérieure et dans l'axe du cylindre\n",
      "\u001b[38;5;255m  Par ce moyen, on est sûr que le fil conserve invariablement la même position, et l'on peut compter sur les distances observées\n",
      "\u001b[38;5;255m  On pourrait demander si le même défaut n'existait pas dans le secteur avec lequel Bradley fit ses belles découvertes de l'aberration et de la nutation\n",
      "\u001b[38;5;255m  La réponse serait la même ; car le secteur de Bradley, ouvrage de Graham, était le modèle sur lequel cet artiste célèbre avait construit le secteur porté en Laponie ; Bradley ne pouvait donc compter sur les distances absolues qu'il mesurait\n",
      "\u001b[38;5;46m  Heureusement l'erreur devait être à fort peu près constante pour chaque étoile qu'il observait ; il n'avait besoin que des distances relatives, et le secteur les donnait presque aussi exactement que si l'erreur eût été nulle\n",
      "\u001b[38;5;46m  Ce défaut, qui existait certainement dans le secteur de Laponie, n'a pas empêché que Le Monnier, à son retour en France, n'ait observé, comme Bradley, toutes les variations produites par l'aberration, et confirmé pleinement la brillante découverte de l'astronome anglais\n",
      "\u001b[38;5;255m  Voyez Degré du méridien entre Paris et Amiens\n",
      "\u001b[38;5;1m  (Paris, 1740\n",
      "\u001b[38;5;0m ) ]\n",
      "\u001b[38;5;255m  Il se voyait donc contraint encore de renoncer à ce second projet, mais du moins il résulta de cette contrariété une amélioration sensible dans cette partie de la construction des instruments astronomiques\n",
      "\u001b[38;5;255m  …clairé par cette triste expérience, il demanda si le secteur de La Caille n'avait pas le même défaut, et il devinait juste ; mais au lieu de cylindre, La Caille n'avait qu'une aiguille très fine, qui ne pouvait guère produire que des erreurs de 2\"\n",
      "\u001b[38;5;255m  Il demandait encore si le secteur que nos académiciens avaient porté au cercle polaire en 1736, n'était pas d'une construction pareille, et sa conjecture était encore juste ; mais les dimensions du cylindre n'étant pas d'une demi- ligne, il n'en avait pu résulter que des erreurs quatre fois moindres que celles qu'on a voulu reprocher à cette opération depuis qu'elle a été recommencée par M\n",
      "\u001b[38;5;255m  Svanberg, avec le cercle répétiteur\n",
      "\u001b[38;5;46m  Il ne pouvait donc plus songer à la parallaxe de la lune, pas plus qu'à celle de Sirius : cependant, pour entrer autant qu'il lui était possible dans les vues de La Caille, il eut recours à l'observation des ascensions droites\n",
      "\u001b[38;5;46m  Il sentit sans doute que ce moyen ne pouvait entrer en comparaison avec celui de l'astronome français ; car il n'a jamais parlé des résultats qu'il avait obtenus, quoiqu'il ait depuis répété ces observations dans son voyage aux Barbades\n",
      "\u001b[38;5;46m  S'il eut le chagrin de voir tous ses projets renversés sans qu'il y eût de sa faute, il sut du moins, à l'exemple de La Caille, rendre sa traversée utile à la science des longitudes ; il fit l'essai des différentes méthodes qu'on avait proposées pour ce problème ; il confirma toutes les conclusions tirées par La Caille en faveur des distances de la lune au soleil ; et comme il avait en sa possession des instruments beaucoup plus précis, il put assurer que les erreurs de la méthode étaient renfermées dans des limites bien plus étroites\n",
      "\u001b[38;5;39m  Il donna des formules nouvelles pour calculer ces observations, et poussa même le scrupule jusqu'à calculer séparément d'abord l'effet de la réfraction, et puis celui de la parallaxe\n",
      "\u001b[38;5;255m  A son retour, il publia son Guide du Marin [Bristish mariners's Guide, 130 pages, 1763], dans lequel il proposait à l'Angleterre d'adopter le plan d'Almanach nautique, tracé par La Caille, après son voyage au cap de Bonne - Espérance\n",
      "\u001b[38;5;255m  La même année il fit aux Barbades un Voyage dont l'objet était d'essayer les horloges marines d'Harrisson\n",
      "\u001b[38;5;255m  Le rapport qu'il fit à son retour, quoique favorable en gênerai à l'artiste célèbre dont il avait dû soumettre l'invention à l'examen le plus sévère, fut loin de contenter Harrisson, qui l'attaqua dans un pamphlet : M\n",
      "\u001b[38;5;255m  Maskelyne ré- pondit\n",
      "\u001b[38;5;255m  Les marins et les savants prirent parti pour ou contre, selon leurs idées ou leurs habitudes\n",
      "\u001b[38;5;62m  de Fleurieu, lié particulièrement avec F\n",
      "\u001b[38;5;255m  Berthoud, et tout dévoué à la cause des horloges, oublia peut-être en cette occasion sa modération accoutumée\n",
      "\u001b[38;5;255m  C'était un grand procès entre deux méthodes utiles et faites pour se prêter des secours mutuels\n",
      "\u001b[38;5;255m  Maskelyne ne trouvait pas les horloges assez sûres ni assez régulières\n",
      "\u001b[38;5;255m  Harrisson prétendait, non sans quelque raison, qu'elles l'étaient dans les limites posées par l'acte du parlement\n",
      "\u001b[38;5;255m  Il demandait la récompense entière, qui lui fut accordée depuis, mais dont on ne lui donnait alors que la moitié\n",
      "\u001b[38;5;255m  En plaidant sa cause, il attaquait les méthodes astronomiques ; il se prévalait de quelques aveux de La Caille qui, avec sa franchise incorruptible, et tout en vantant la méthode des distances, convenait des erreurs qu'elle lui avait données quelquefois\n",
      "\u001b[38;5;20m  Maskelyne prouvait, par son expérience, que les erreurs seraient beaucoup moindres avec des instruments meilleurs que celui de La Caille, et tels que l'on commençait à les construire à Londres\n",
      "\u001b[38;5;46m  Il est possible que dans cette lutte de la mécanique et de l'astronomie, on ait été, de part et d'autre, un peu trop loin\n",
      "\u001b[38;5;255m  Les horloges donnaient tout ce que demandait l'acte de 1714, et nul doute que si, à cette époque, Harrisson eût présenté sa machine, elle n'eût obtenu, sans difficulté, la récompense toute entière\n",
      "\u001b[38;5;255m  Mais cinquante ans après, quand les instruments étaient perfectionnés, quand les tables lunaires avaient reçu des améliorations inespérées, n'était-on pas excusable de se montrer un peu plus exigeant ? Les horloges, par la facilité qu'elles offraient, devaient séduire les marins ennemis de longs calculs, mais leur exactitude ne pouvait se soutenir que dans des traversées médiocres\n",
      "\u001b[38;5;255m  Dans des circonstances moins ordinaires, et dans de longues navigations, la méthode des distances avait un avantage incontestable ; ainsi, M\n",
      "\u001b[38;5;255m  Maskelyne nous paraît avoir montré autant de justice que de discernement en faisant adjuger la moitié de la récompense à Harrisson, pour son horloge, et l'autre moitié aux secondes tables lunaires, que Mayer, avant sa mort, avait envoyées au bureau des longitudes de Londres\n",
      "\u001b[38;5;72m  La nation anglaise céda ensuite à des motifs de générosité autant que de justice, en complétant à Harrisson la récompense à laquelle il avait droit quand on s'en tenait au sens littéral de l'acte du parlement\n",
      "\u001b[38;5;255m  Maskelyne, qui travaillait alors à faire adopter le plan de l'Almanach nautique, dut craindre que la nation, après avoir magnifiquement récompensé une belle invention, ne devînt plus indifférente et plus économe pour une úuvre plus belle et plus utile encore\n",
      "\u001b[38;5;58m  Il était de son devoir de plaider la cause de la science ; il s'acquitta honorablement de cette obligation ; les deux partis gagnèrent leur procès ; M\n",
      "\u001b[38;5;46m  Maskelyne fit agréer le plan que La Caille, enlevé trop tôt à l'astronomie, n'avait pu faire adopter en France ; les Anglais eurent la gloire de le réaliser les premiers, et c'est une obligation que les marins et les astronomes de tous les temps et de toutes les nations auront à M\n",
      "\u001b[38;5;255m  Maskely ne qui, pour réussir, eut besoin de toute sa persévérance et de la considération dont il commençait à jouir à si juste titre\n",
      "\u001b[38;5;46m  Il n'est pas douteux qu'on ne lui doive en partie les améliorations successives qu'a reçues la Théorie de la Lune, dont il s'est constamment occupé\n",
      "\u001b[38;5;255m  Il fut l'éditeur des Tables de Mayer ; il y ajouta des tables de mouvement horaire qui manquaient à l'exemplaire venu de Gottingue ; il compara ces tables aux observations qu'il faisait chaque jour ; c'est sous sa direction que Mason donna une édition corrigée et augmentée de ces mêmes tables, perfectionnées depuis par M\n",
      "\u001b[38;5;62m  Burg, et tout récemment par M\n",
      "\u001b[38;5;34m  Burckhardt, qui ont eu l'avantage de s'appuyer, d'une part, sur des milliers d'observations de M\n",
      "\u001b[38;5;33m  Maskelyne, et de l'autre, sur les recherches analytiques de M\n",
      "\u001b[38;5;39m  Laplace, qui leur fournit des équations qu'il eût été bien difficile de reconnaître parmi tant d'autres, si l'on n'avait eu d'autres secours que celui des observations\n",
      "\u001b[38;5;255m  Ce fut le poste d'astronome royal auquel il fut nommé au commencement de 1765, qui le mit à portée de rendre à la science ce service signalé\n",
      "\u001b[38;5;255m  L'observatoire de Greenwich est placé dans les jardins de l'hôpital de la marine, à quelques lieues de Londres\n",
      "\u001b[38;5;255m  Ce fut dans cette retraite que, pendant quarante-sept ans sans interruption, M\n",
      "\u001b[38;5;46m  Maskelyne observa le ciel, et que, par ses soins, il amassa un trésor inestimable, dans lequel, depuis trente ans, ont puisé tous ceux qui ont voulu améliorer les tables ou les théories astronomiques ; car il ne suffit pas à l'astronome de se sentir un courage capable de surmonter les dégoûts de calculs qui emploient toutes ses journées après qu'il a consacré les nuits au travail des observations, il faut encore qu'il ait à sa disposition un local et des instruments qui sont hors de la portée des particuliers, et qui ne se trouvent que dans les établissements fondés par les gouvernements\n",
      "\u001b[38;5;255m  Cette vérité, bien reconnue, fit bâtir presque en même temps les observatoires de Paris et de Greenwich ; mais dans ces deux établissements célèbres, on oublia également un article essentiel\n",
      "\u001b[38;5;46m  Maskeline songea le premier à faire réparer cet oubli, et c'est par là qu'il a rendu à la science un service important, qui a fait la principale différence entre la destinée des deux observatoires rivaux\n",
      "\u001b[38;5;255m  Il y avait bien dans leur régime une disparité qui ne pouvait manquer d'avoir aussi des effets très sensibles\n",
      "\u001b[38;5;255m  A Paris, on consulta principalement l'architecte, et l'on eut à grands frais un beau monument qui était d'un médiocre secours pour les observations\n",
      "\u001b[38;5;255m  Les astronomes, tous académiciens, y formaient une espèce de république sans magistrats, où chacun s'occupait de travaux utiles, à la vérité, mais sans plan général et suivi\n",
      "\u001b[38;5;255m  Les Cassini, les Lahire, les Maraldi, publiaient de temps à autre leurs découvertes, ou quelque résultat intéressant, mais eux seuls avaient la connaissance de leurs observations, et l'on adoptait sur parole les conséquences qu'ils avaient eu le temps ou la sagacité d'en déduire eux-mêmes\n",
      "\u001b[38;5;46m  A Greenwich, on voyait un bâtiment moins somptueux, mais adapté plus spécialement à l'astronomie, un seul astronome avec un assistant\n",
      "\u001b[38;5;46m  La loi qui l'avait établi lui imposait l'obligation d'observer chaque jour le soleil et la lune, et tout ce qui pouvait intéresser la géographie et la navigation\n",
      "\u001b[38;5;61m  Flamsteed remplit cette place pendant trente ans\n",
      "\u001b[38;5;35m  Une partie de ses observations fut publiée de son vivant, et ses héritiers en donnèrent une édition plus complète et plus soignée\n",
      "\u001b[38;5;29m  A sa mort, en 1720, il fut remplacé par le célèbre Halley, qui continua sur le même plan, avec des instruments meilleurs, jusqu'en 1750 ; mais aucune de ces observations n'a encore vu le jour\n",
      "\u001b[38;5;46m  En fondant la place d'astronome, en lui imposant les obligations qu'il aurait à remplir, on oublia d'ordonner que ses observations seraient publiées chaque année\n",
      "\u001b[38;5;46m  Cette impression exige des soins que l'astronome prendrait avec plaisir, et des frais qu'il ne peut supporter, parce que le débit d'un recueil de ce genre est nécessairement très lent et toujours très borné\n",
      "\u001b[38;5;35m Bradley, succédant à Halley, renouvela les instruments, perfectionna les méthodes, se rendit célèbre par ses décou- vertes, mais ne publia rien ; ses héritiers prétendirent que ses manuscrits appartenaient à sa famille, et ce n'est que quarante ans après sa mort que les astronomes ont été mis en possession de ce trésor\n",
      "\u001b[38;5;255m  En France, la même inattention produisait des effets tout semblables\n",
      "\u001b[38;5;29m  Vers 1740, Lemonnier voulut publier une histoire céleste à l'imitation de celle de Flamsteed\n",
      "\u001b[38;5;29m  Il fit paraître un volume qui contenait les observations de Picard et La Hire, jusqu'à l'année 1685\n",
      "\u001b[38;5;55m  Ce recueil, paraissant cinquante ans trop tard, avait perdu presque tout son prix : tant qu'il aurait pu avoir une utilité réelle, il avait été complètement ignoré\n",
      "\u001b[38;5;255m  Lemonnier promettait une seconde partie, mais le peu de débit de la première l'empêcha de tenir sa promesse\n",
      "\u001b[38;5;14m  Il obtint, par une faveur particulière, que ses propres observations seraient imprimées au Louvre ; mais il restait une lacune de soixante ans qui n'a jamais été remplie\n",
      "\u001b[38;5;255m  Cassini avait annoncé une histoire céleste qui devait contenir les travaux de ses trois prédécesseurs ; mais l'exemple de ce qui était arrivé à Lemonnier peut-être, et les malheurs de la révolution, qui ont si cruellement pesé sur lui, l'ont empêche d'exécuter son projet\n",
      "\u001b[38;5;46m  La Caille ne trouva pas d'autre moyen pour publier ses Fondements de l'Astronomie, que celui de calculer gratuitement vingt années d'éphémérides pour un libraire qui lui imprima son livre au nombre d'exemplaires qu'il demanda, pour en faire présent aux astronomes de son temps\n",
      "\u001b[38;5;255m  Toutes les observations qu'il fit postérieurement a? cette époque sont demeurées inédites\n",
      "\u001b[38;5;46m  On raconte que la reine d'Angleterre, frappée de la modicité du traitement alloué a? l'astronome royal pour un travail si pénible, avait offert de l'augmenter\n",
      "\u001b[38;5;46m  Bradley s'y opposa, dans la crainte que la place d'astronome, si elle valait quelque chose, ne fût plus donnée a? un astronome\n",
      "\u001b[38;5;255m  On admire justement la précaution désintéressée de Bradley ; mais si, en refusant pour lui-même, il eût saisi cette occasion de demander un fonds pour l'impression, la reine eût accédé sans doute a? la demande, et il eût prévenu les débats, qui, pendant quarante ans, ont rendu son travail comme non avenu\n",
      "\u001b[38;5;46m  Bradley manqua une occasion favorable ; Maskelyne la fit naître : il obtint que ses observations seraient annuellement imprimées aux frais de la Société royale ; et c'est par la? qu'il a mérité d'être pendant quarante ans le chef et comme le régulateur des astronomes\n",
      "\u001b[38;5;46m  Piazzi seul eût pu, dans ces derniers temps, lui disputer cette suprématie ; mais quand on songe aux circonstances difficiles ou? cet astronome se trouve depuis si longtemps, on ne s'étonne plus qu'il n'ait publié que la moindre partie de ses nombreuses observations\n",
      "\u001b[38;5;255m  Depuis l'établissement d'un bureau des longitudes en France, les observatoires de Paris et de Greenwich sont dirigés a? peu près selon les mêmes principes, et munis d'instruments pareils ; on en voit sortir annuellement des recueils d'observations également précises qui se serviraient mutuellement de vérification s'il en était besoin, et qui servent de supplément les unes aux autres, quand les nuages qui ont couvert l'un des deux observatoires ne sont pas également étendus sur l'autre\n",
      "\u001b[38;5;255m  Les communications sont continuelles, et les obligations réciproques, si nos tables sont encore en grande partie fondées sur les opérations anglaises, les calculs des Anglais se font sur nos tables ; mais les dernières d'entre ces tables ont du moins été vérifiées sur un nombre égal d'observations françaises et anglaises\n",
      "\u001b[38;5;46m  Maskelyne ne quittait plus son observatoire : ainsi en 1769 il y resta pour observer le passage de Vénus, quoi- qu'une seule phase y fût visible ; mais il dressa des instructions pour les astronomes que l'Angleterre envoyait en différents climats ; il recueillit leurs observations, en conclut la parallaxe du soleil et sa distance à la terre\n",
      "\u001b[38;5;29m  Son résultat fut le même que celui auquel Du Séjour était arrivé par la totalité des deux observations des deux passages de 1761 et 1769\n",
      "\u001b[38;5;46m Dans aucun temps il ne se dispensa de faire lui-même les observations les plus intéressantes et les plus difficiles, telles que celles de la lune ; il ne se reposait sur son assistant que de celles qui étaient plus faciles et moins essentielles\n",
      "\u001b[38;5;46m  Il suivit avec une rigueur inflexible les méthodes établies par son célèbre devancier Bradley, qu'il surpassa même en exactitude dans les observations journalières ; il perfectionna la méthode de Flamsteed pour déterminer à la fois les ascensions droites des étoiles et celles du soleil ; il donna un catalogue d'étoiles peu nombreux, mais soigné d'une manière spéciale, et qui a servi presque uniquement pendant trente ans de fondement à toutes les recherches astronomiques ; enfin l'on peut dire des quatre volumes d'observations qu'il a publiées, que si, par une grande révolution, les sciences venaient à se perdre, et que ce recueil fût conservé, on y retrouverait de quoi reconstruire presque en entier l'édifice de l'astronomie moderne, ce qu'on ne peut dire de nul autre recueil, parce qu'au mérite d'une exactitude qu'on a rarement atteinte et jamais surpassée, le sien réunit l'avantage d'une série bien plus longue d'observations\n",
      "\u001b[38;5;255m  La précision en est si grande, qu'il est peu probable qu'on y puisse ajouter beaucoup\n",
      "\u001b[38;5;255m  Elles sont excellentes pour le temps où elles ont été faites, et ce temps est celui où l'on a le plus approché de la perfection ; elles ne pourront que gagner à mesure qu'elles vieilliront, ce qui n'est malheureusement vrai ni des observations de Tycho ni d'Hevelius ni même de celles de Flamsteed et La Hire, qui ont joui dans leur temps de toute l'exactitude dont on pouvait alors avoir l'idée, mais qui, trop voisines de l'âge pré,eijt, ne pourront jamais, quoique plus anciennes, entrer en concurrence avec celles des grands astronomes du XVIIIe siècle\n",
      "\u001b[38;5;46m  Maskelyne était en correspondance avec tous les astronomes de l'univers ; il suffit pour s'en convaincre de parcourir les Mémoires des savants de toute nation, qu'il a présentés à la Société royale\n",
      "\u001b[38;5;30m  Lui-même il n'a pas écrit aussi souvent qu'on l'eût souhaité\n",
      "\u001b[38;5;46m  Mais il est bien difficile qu'un astronome chargé d'observations de tous les jours et presque de tous les moments, entreprenne de grandes recherches théoriques qu'il se verrait à chaque instant forcé d'interrompre\n",
      "\u001b[38;5;255m  Du moins le peu d'écrits qu'il a laissés se fait remarquer par des notions vraies, des idées justes, une critique éclairée\n",
      "\u001b[38;5;255m  Telle est une dissertation sur l'équation du temps, où il a relevé avec tous les égards convenables une méprise échappée à La Caille et une méprise moins grave de Lalande\n",
      "\u001b[38;5;255m  S'il nous est permis, à notre tour, de trouver quelque chose à reprendre dans sa formule, nous reconnaîtrons au moins que les petites négligences qu'on peut y remarquer n'ont aucun effet sensible, et qu'il les a laissé subsister parce qu'elles n'étaient nullement dangereuses\n",
      "\u001b[38;5;46m  Lalande reçut fort bien l'espèce de leçon qu'on lui donnait ; mais Bernoulli ayant inséré, sept ans après, une traduction du Mémoire de Maskelyne, dans son Recueil pour les Astronomes, un des élèves de Lalande (d'Agelet) prit le parti de son maître d'une manière qui aurait pu causer du refroidissement entre les deux parties intéressées ; la querelle cependant n'eut aucune suite, et les deux astronomes correspondirent comme par le passé\n",
      "\u001b[38;5;255m  On avait voulu jeter quelques doutes sur la longitude et la latitude de Greenwich\n",
      "\u001b[38;5;255m  Maskelyne, à qui le Mémoire fut renvoyé, fit voir avec sa logique et sa modération ordinaire, que les doutes n'étaient nullement fondés ; mais il ne s'opposa point aux moyens proposés pour les dissiper\n",
      "\u001b[38;5;255m  C'est à cette occasion que les Anglais, qui n'avaient presque rien fait encore dans le genre des grandes opérations géographiques, où les Français s'étaient distingués, se signalèrent à leur tour par des moyens qui surpassaient tout ce qu'on avait vu jusqu'alors ; c'est alors aussi que MM\n",
      "\u001b[38;5;0m  MM\n",
      "\u001b[38;5;255m  Cassini et Legendre firent le premier essai du cercle de Borda\n",
      "\u001b[38;5;255m  Bouguer, à la suite de sa mesure des degrés au Pérou avait tenté de déterminer l'attraction des montagnes et la quantité dont elle peut déranger le fil à plomb d'un secteur astronomique\n",
      "\u001b[38;5;41m  Il avait trouvé une attraction réelle et incontestable, mais de moitié moindre qu'elle ne devait résulter de la grosseur de la montagne ; il en avait conclu qu'elle était creuse et intérieurement minée par des volcans\n",
      "\u001b[38;5;255m  On pouvait douter d'un résultat obtenu avec des instruments d'une bonté médiocre\n",
      "\u001b[38;5;20m  Bouguer avait lui-même exprimé le vúu que l'expérience fût recommencée en Europe avec plus de soin et de meilleurs instruments\n",
      "\u001b[38;5;255m  Maskelyne entreprit cette recherche avec le secteur qu'il avait à Sainte-Hélène, mais dont il avait corrigé la suspension et changé la division\n",
      "\u001b[38;5;255m  Il fit choix de la montagne Schehallien en Ecosse\n",
      "\u001b[38;5;14m  Il faut voir dans son mémoire les soins et les peines que lui coûta cette opération qui paraît si facile\n",
      "\u001b[38;5;255m  Il trouva 5\",8 pour le dérangement du fil par l'attraction de la montagne ; il en conclut que la densité de la montagne devait être moitié de la densité moyenne de la terre ; il en résultait que la densité dans l'intérieur de la terre est plus grande qu'à la surface, ce qui était déjà prouvé par les mesures des degrés et du pendule ; enfin que la densité de la terre est environ quatre ou cinq fois celle de l'eau\n",
      "\u001b[38;5;255m  Cavendish, par des épreuves d'un autre genre, trouva depuis, cinq fois et demie ; mais il avait lui-même quelque doute sur l'extrême précision de son propre résultat, et comme celui de Maskelyne est aussi fondé sur quelques suppositions qui ne sont pas de la plus rigoureuse exactitude, on peut, en attendant de nouvelles vérifications supposer que la densité moyenne de la terre est à fort peu près cinq fois celle de l'eau\n",
      "\u001b[38;5;0m  Enfin, M\n",
      "\u001b[38;5;255m  Maskelyne admet comme une chose très possible, que la densité inégale, même à la surface, ait pu occasionner les différences qu'on remarque entre les divers degrés mesurés\n",
      "\u001b[38;5;14m  Tels sont les principaux mémoires publiés par M\n",
      "\u001b[38;5;255m  Maskelyne ; il en a laissé beaucoup d'autres qui n'ont pas encore vu le jour, et les savants apprendront sans doute avec plaisir que le soin d'en faire jouir le public a été remis à M\n",
      "\u001b[38;5;46m  Vince professeur d'astronomie et de physique expérimentale à Cambridge, connu par un traité d'astronomie, et par la description des instruments les plus modernes\n",
      "\u001b[38;5;255m  Nous y trouverons peut-être quelques détails nouveaux sur un micromètre composé d'un prisme qui se meut suivant l'axe de la lunette comme ceux de M\n",
      "\u001b[38;5;255m  Rochon et du P\n",
      "\u001b[38;5;0m  Boscovich\n",
      "\u001b[38;5;255m  Si nous nous en rapportons à ce dernier, M\n",
      "\u001b[38;5;255m  Maskelyne est celui qui, le premier, en a conçu l'idée ; Boscovich prétend être le second\n",
      "\u001b[38;5;255m  Il n'est pas sans exemple qu'une même invention ait été faite presque en même temps par plusieurs personnes qui ne s'étaient rien communiqué\n",
      "\u001b[38;5;255m  Mais jusqu'ici M\n",
      "\u001b[38;5;255m  Rochon est le seul qui ait publié des observations faites avec ce micromètre ; l'idée d'y employer la double réfraction lui appartient incontestablement, et Boscovich lui-même en convient\n",
      "\u001b[38;5;50m  Maskelyne n'employait que le verre commun\n",
      "\u001b[38;5;255m  Il paraît certain qu'il a le premier imaginé de faire mouvoir le prisme dans l'intérieur de la lunette ; il nous reste à savoir le parti qu'il aura tiré de cette construction\n",
      "\u001b[38;5;20m  Maskelyne, qui sentait tout le prix des excellents instruments dont il faisait un continuel usage, mettait tous ses soins à les bien conserver et à les améliorer par les additions que lui suggéraient son expérience et son goût pour l'optique\n",
      "\u001b[38;5;255m  C'est lui qui rendit l'oculaire mobile pour éviter toute parallaxe en amenant l'úil vis-à-vis chacun des cinq fils que l'astre traverse successivement\n",
      "\u001b[38;5;255m  C'est lui qui reconnut les inconvénients des trappes étroites en usage dans tous les observatoires ; il fit élargir celles de Greenwich, après avoir constaté par ses expériences la nécessité de placer les lunettes à l'air libre autant qu'il est possible\n",
      "\u001b[38;5;255m  Malgré tant de soins, on a soupçonné dans ces derniers temps que son quart de cercle était devenu moins exact par un effet des frottements qu'il avait éprouvés dans un exercice continuel de plus de cinquante ans\n",
      "\u001b[38;5;46m  Il était assez naturel que l'astronome qui donnait toujours à ses observations le même degré d'attention, et qui n'apercevait d'ailleurs à son instrument aucun signe de vétusté, ne fût pas le premier à s'apercevoir de ces altérations très légères en elles-mêmes\n",
      "\u001b[38;5;46m  D'autres instruments plus modernes, construits sur des principes différents et placés entre les mains d'astronomes attentifs, firent naître les premiers soupçons\n",
      "\u001b[38;5;255m  Ce n'est pas que les petites variations qu'on avait cru remarquer ne pussent s'expliquer de manière à disculper le quart de cercle de Greenwich\n",
      "\u001b[38;5;255m  Besse et Oltmanns avaient donné des interprétations qui n'étaient pas dépourvues de vraisemblance\n",
      "\u001b[38;5;255m  Mais le plus sûr était de se procurer des instruments nouveaux ; c'est aussi le parti que prit M\n",
      "\u001b[38;5;255m  Ce fut lui qui commanda au célèbre Troughton un grand et superbe cercle, qu'il n'eut pas le plaisir de placer lui-même dans son observatoire, mais qui, remis entre les mains de son successeur M\n",
      "\u001b[38;5;255m  Pond, fera connaître les défauts que l'âge avait fait contracter au quart de cercle, et nous apprendra quelles corrections nous aurons à faire aux dernières observations de Greenwich, pour les rendre aussi précieuses que les premières\n",
      "\u001b[38;5;46m  Ainsi les instruments vieillissent encore plus vite que les hommes, et il est assez rare qu'un astronome consente à se servir de ceux auxquels s'était habitué son prédécesseur\n",
      "\u001b[38;5;29m  Maskelyne est mort le 9 février 1811, âgé de plus de soixante-dix -huit ans\n",
      "\u001b[38;5;46m  Les ouvrages qu'il a laissés, outre ses quatre volumes in-folio d'observations, les mémoires dont nous avons parlé, et les quarante-cinq premiers volumes de l'almanach nautique calculés sous sa direction, et revus par lui, sont: Le Guide du marin anglais ; Les tables nécessaires pour l'usage du nautical almanac des dissertations sur l'astronomie nautique, et l'usage de l'octant ; enfin ses úuvres posthumes, dont nous ignorons encore le contenu, et que les astronomes seront très empressés de se procurer\n",
      "\u001b[38;5;35m  Nous avons fait connaître le savant, mais l'homme, le père, l'ami, n'était pas moins recommandable\n",
      "\u001b[38;5;46m  Tout astronome tout savant trouvait en lui un frère\n",
      "\u001b[38;5;255m  C'est le témoignage que lui rendait M\n",
      "\u001b[38;5;46m  Chabert, à son retour de Londres, où il s'était réfugié dans des temps orageux, et où il avait reçu de l'astronome royal, l'accueil le plus amical, accompagné des attentions les plus délicates et les plus généreuses\n",
      "\u001b[38;5;255m  D'un caractère facile et aimable, il gagna l'affection de tous ceux qui avaient l'avantage de le connaître, et sa mort fut honorée de leurs regrets\n",
      "\u001b[38;5;255m  Destiné d'abord à l'état ecclésiastique, il conserva toujours les vertus et les sentiments, qui sont un devoir plus particulier dans cet état\n",
      "\u001b[38;5;255m  ´ Il mourut comme il avait toujours vécu, en chrétien ferme dans sa croyance, et avec l'espérance de se voir admis à la présence du créateur, dont il avait si longtemps contemplé et admiré les ouvrages\n",
      "\u001b[38;5;35m  ª Il a laissé une fille unique, mademoiselle Marguerite Maskelyne, qui nous a fait passer des renseignements dont nous voudrions avoir fait un plus digne usage\n",
      "\u001b[38;5;35m  Nous espérons du moins qu'elle ne verra pas sans quelque satisfaction, les sentiments d'estime et de reconnaissance, que son respectable père avait inspirés à ses confrères de France, et nous oserons dire de toutes les nations\n"
     ]
    }
   ],
   "source": [
    "for sent, topic in test_print_1:\n",
    "    print(colors[topic] + sent)"
   ]
  },
  {
   "cell_type": "code",
   "execution_count": 136,
   "id": "local-partnership",
   "metadata": {},
   "outputs": [
    {
     "data": {
      "text/plain": [
       "[('card', 0.23779263589947455),\n",
       " ('moi', 0.04487195005106902),\n",
       " ('mois', 0.044543243264461546),\n",
       " ('naître', 0.03410610713869314),\n",
       " ('année', 0.03287738091163235),\n",
       " ('être', 0.03157842945915868),\n",
       " ('an', 0.02972283519152572),\n",
       " ('science', 0.029487347654037002),\n",
       " ('mourir', 0.029034146370016653),\n",
       " ('mémoire', 0.025537598311610243)]"
      ]
     },
     "execution_count": 136,
     "metadata": {},
     "output_type": "execute_result"
    }
   ],
   "source": [
    "top_n_words[test_print_1[0][1]][:10]"
   ]
  },
  {
   "cell_type": "code",
   "execution_count": 142,
   "id": "proof-record",
   "metadata": {
    "scrolled": true
   },
   "outputs": [
    {
     "name": "stdout",
     "output_type": "stream",
     "text": [
      "\u001b[38;5;0m Topic 0 in color\n",
      "\u001b[38;5;1m Topic 1 in color\n",
      "\u001b[38;5;2m Topic 2 in color\n",
      "\u001b[38;5;3m Topic 3 in color\n",
      "\u001b[38;5;4m Topic 4 in color\n",
      "\u001b[38;5;5m Topic 5 in color\n",
      "\u001b[38;5;6m Topic 6 in color\n",
      "\u001b[38;5;7m Topic 7 in color\n",
      "\u001b[38;5;8m Topic 8 in color\n",
      "\u001b[38;5;9m Topic 9 in color\n",
      "\u001b[38;5;10m Topic 10 in color\n",
      "\u001b[38;5;11m Topic 11 in color\n",
      "\u001b[38;5;12m Topic 12 in color\n",
      "\u001b[38;5;13m Topic 13 in color\n",
      "\u001b[38;5;14m Topic 14 in color\n",
      "\u001b[38;5;15m Topic 15 in color\n",
      "\u001b[38;5;16m Topic 16 in color\n",
      "\u001b[38;5;17m Topic 17 in color\n",
      "\u001b[38;5;18m Topic 18 in color\n",
      "\u001b[38;5;19m Topic 19 in color\n",
      "\u001b[38;5;20m Topic 20 in color\n",
      "\u001b[38;5;21m Topic 21 in color\n",
      "\u001b[38;5;22m Topic 22 in color\n",
      "\u001b[38;5;23m Topic 23 in color\n",
      "\u001b[38;5;24m Topic 24 in color\n",
      "\u001b[38;5;25m Topic 25 in color\n",
      "\u001b[38;5;26m Topic 26 in color\n",
      "\u001b[38;5;27m Topic 27 in color\n",
      "\u001b[38;5;28m Topic 28 in color\n",
      "\u001b[38;5;29m Topic 29 in color\n",
      "\u001b[38;5;30m Topic 30 in color\n",
      "\u001b[38;5;31m Topic 31 in color\n",
      "\u001b[38;5;32m Topic 32 in color\n",
      "\u001b[38;5;33m Topic 33 in color\n",
      "\u001b[38;5;34m Topic 34 in color\n",
      "\u001b[38;5;35m Topic 35 in color\n",
      "\u001b[38;5;36m Topic 36 in color\n",
      "\u001b[38;5;37m Topic 37 in color\n",
      "\u001b[38;5;38m Topic 38 in color\n",
      "\u001b[38;5;39m Topic 39 in color\n",
      "\u001b[38;5;40m Topic 40 in color\n",
      "\u001b[38;5;41m Topic 41 in color\n",
      "\u001b[38;5;42m Topic 42 in color\n",
      "\u001b[38;5;43m Topic 43 in color\n",
      "\u001b[38;5;44m Topic 44 in color\n",
      "\u001b[38;5;45m Topic 45 in color\n",
      "\u001b[38;5;46m Topic 46 in color\n",
      "\u001b[38;5;47m Topic 47 in color\n",
      "\u001b[38;5;48m Topic 48 in color\n",
      "\u001b[38;5;49m Topic 49 in color\n",
      "\u001b[38;5;50m Topic 50 in color\n",
      "\u001b[38;5;51m Topic 51 in color\n",
      "\u001b[38;5;52m Topic 52 in color\n",
      "\u001b[38;5;53m Topic 53 in color\n",
      "\u001b[38;5;54m Topic 54 in color\n",
      "\u001b[38;5;55m Topic 55 in color\n",
      "\u001b[38;5;56m Topic 56 in color\n",
      "\u001b[38;5;57m Topic 57 in color\n",
      "\u001b[38;5;58m Topic 58 in color\n",
      "\u001b[38;5;59m Topic 59 in color\n",
      "\u001b[38;5;60m Topic 60 in color\n",
      "\u001b[38;5;61m Topic 61 in color\n",
      "\u001b[38;5;62m Topic 62 in color\n",
      "\u001b[38;5;63m Topic 63 in color\n",
      "\u001b[38;5;64m Topic 64 in color\n",
      "\u001b[38;5;65m Topic 65 in color\n",
      "\u001b[38;5;66m Topic 66 in color\n",
      "\u001b[38;5;67m Topic 67 in color\n",
      "\u001b[38;5;68m Topic 68 in color\n",
      "\u001b[38;5;69m Topic 69 in color\n",
      "\u001b[38;5;70m Topic 70 in color\n",
      "\u001b[38;5;71m Topic 71 in color\n",
      "\u001b[38;5;72m Topic 72 in color\n",
      "\u001b[38;5;73m Topic 73 in color\n"
     ]
    }
   ],
   "source": [
    "for topic in range(topic_sizes.shape[0]):\n",
    "    print(colors[topic] + 'Topic ' + str(topic) +' in color')"
   ]
  },
  {
   "cell_type": "code",
   "execution_count": 62,
   "id": "progressive-jerusalem",
   "metadata": {},
   "outputs": [],
   "source": [
    "import seaborn as sns\n",
    "sns.set_theme(style=\"whitegrid\")"
   ]
  },
  {
   "cell_type": "code",
   "execution_count": 126,
   "id": "bigger-webster",
   "metadata": {},
   "outputs": [
    {
     "data": {
      "text/html": [
       "<div>\n",
       "<style scoped>\n",
       "    .dataframe tbody tr th:only-of-type {\n",
       "        vertical-align: middle;\n",
       "    }\n",
       "\n",
       "    .dataframe tbody tr th {\n",
       "        vertical-align: top;\n",
       "    }\n",
       "\n",
       "    .dataframe thead th {\n",
       "        text-align: right;\n",
       "    }\n",
       "</style>\n",
       "<table border=\"1\" class=\"dataframe\">\n",
       "  <thead>\n",
       "    <tr style=\"text-align: right;\">\n",
       "      <th></th>\n",
       "      <th>Savant</th>\n",
       "      <th>Auteur</th>\n",
       "      <th>Annee</th>\n",
       "      <th>Eloge</th>\n",
       "      <th>Tuple_topic_sent</th>\n",
       "      <th>Topic</th>\n",
       "    </tr>\n",
       "  </thead>\n",
       "  <tbody>\n",
       "    <tr>\n",
       "      <th>0</th>\n",
       "      <td>Bougainville</td>\n",
       "      <td>Delambre</td>\n",
       "      <td>1813.0</td>\n",
       "      <td>Louis-Antoine de Bougainville, sénateur, comte...</td>\n",
       "      <td>(Louis-Antoine de Bougainville, sénateur, comt...</td>\n",
       "      <td>-1</td>\n",
       "    </tr>\n",
       "    <tr>\n",
       "      <th>1</th>\n",
       "      <td>Bougainville</td>\n",
       "      <td>Delambre</td>\n",
       "      <td>1813.0</td>\n",
       "      <td>Louis-Antoine de Bougainville, sénateur, comte...</td>\n",
       "      <td>(, 0)</td>\n",
       "      <td>0</td>\n",
       "    </tr>\n",
       "    <tr>\n",
       "      <th>2</th>\n",
       "      <td>Bougainville</td>\n",
       "      <td>Delambre</td>\n",
       "      <td>1813.0</td>\n",
       "      <td>Louis-Antoine de Bougainville, sénateur, comte...</td>\n",
       "      <td>( Il était fils d'un notaire, échevin de Paris...</td>\n",
       "      <td>35</td>\n",
       "    </tr>\n",
       "    <tr>\n",
       "      <th>3</th>\n",
       "      <td>Bougainville</td>\n",
       "      <td>Delambre</td>\n",
       "      <td>1813.0</td>\n",
       "      <td>Louis-Antoine de Bougainville, sénateur, comte...</td>\n",
       "      <td>( Navigateur célèbre, officier - général de te...</td>\n",
       "      <td>-1</td>\n",
       "    </tr>\n",
       "    <tr>\n",
       "      <th>4</th>\n",
       "      <td>Bougainville</td>\n",
       "      <td>Delambre</td>\n",
       "      <td>1813.0</td>\n",
       "      <td>Louis-Antoine de Bougainville, sénateur, comte...</td>\n",
       "      <td>(Encore au collège, il se faisait déjà remarqu...</td>\n",
       "      <td>-1</td>\n",
       "    </tr>\n",
       "    <tr>\n",
       "      <th>...</th>\n",
       "      <td>...</td>\n",
       "      <td>...</td>\n",
       "      <td>...</td>\n",
       "      <td>...</td>\n",
       "      <td>...</td>\n",
       "      <td>...</td>\n",
       "    </tr>\n",
       "    <tr>\n",
       "      <th>23143</th>\n",
       "      <td>Borda</td>\n",
       "      <td>Lefevre-Gineau</td>\n",
       "      <td>1800.0</td>\n",
       "      <td>Jean-Charles Borda, de l'Institut national, de...</td>\n",
       "      <td>(  Il aimait les lettres et même la poésie ; m...</td>\n",
       "      <td>56</td>\n",
       "    </tr>\n",
       "    <tr>\n",
       "      <th>23144</th>\n",
       "      <td>Borda</td>\n",
       "      <td>Lefevre-Gineau</td>\n",
       "      <td>1800.0</td>\n",
       "      <td>Jean-Charles Borda, de l'Institut national, de...</td>\n",
       "      <td>( Sa lecture favorite était celle d'Homère, l'...</td>\n",
       "      <td>-1</td>\n",
       "    </tr>\n",
       "    <tr>\n",
       "      <th>23145</th>\n",
       "      <td>Borda</td>\n",
       "      <td>Lefevre-Gineau</td>\n",
       "      <td>1800.0</td>\n",
       "      <td>Jean-Charles Borda, de l'Institut national, de...</td>\n",
       "      <td>(  Sa conversation était agréable et instructi...</td>\n",
       "      <td>48</td>\n",
       "    </tr>\n",
       "    <tr>\n",
       "      <th>23146</th>\n",
       "      <td>Borda</td>\n",
       "      <td>Lefevre-Gineau</td>\n",
       "      <td>1800.0</td>\n",
       "      <td>Jean-Charles Borda, de l'Institut national, de...</td>\n",
       "      <td>(  Son cúur était aimant et facile ; il inspir...</td>\n",
       "      <td>-1</td>\n",
       "    </tr>\n",
       "    <tr>\n",
       "      <th>23147</th>\n",
       "      <td>Borda</td>\n",
       "      <td>Lefevre-Gineau</td>\n",
       "      <td>1800.0</td>\n",
       "      <td>Jean-Charles Borda, de l'Institut national, de...</td>\n",
       "      <td>(  Il mettait peu de prix à la célébrité, mais...</td>\n",
       "      <td>-1</td>\n",
       "    </tr>\n",
       "  </tbody>\n",
       "</table>\n",
       "<p>23148 rows × 6 columns</p>\n",
       "</div>"
      ],
      "text/plain": [
       "             Savant          Auteur   Annee  \\\n",
       "0      Bougainville        Delambre  1813.0   \n",
       "1      Bougainville        Delambre  1813.0   \n",
       "2      Bougainville        Delambre  1813.0   \n",
       "3      Bougainville        Delambre  1813.0   \n",
       "4      Bougainville        Delambre  1813.0   \n",
       "...             ...             ...     ...   \n",
       "23143         Borda  Lefevre-Gineau  1800.0   \n",
       "23144         Borda  Lefevre-Gineau  1800.0   \n",
       "23145         Borda  Lefevre-Gineau  1800.0   \n",
       "23146         Borda  Lefevre-Gineau  1800.0   \n",
       "23147         Borda  Lefevre-Gineau  1800.0   \n",
       "\n",
       "                                                   Eloge  \\\n",
       "0      Louis-Antoine de Bougainville, sénateur, comte...   \n",
       "1      Louis-Antoine de Bougainville, sénateur, comte...   \n",
       "2      Louis-Antoine de Bougainville, sénateur, comte...   \n",
       "3      Louis-Antoine de Bougainville, sénateur, comte...   \n",
       "4      Louis-Antoine de Bougainville, sénateur, comte...   \n",
       "...                                                  ...   \n",
       "23143  Jean-Charles Borda, de l'Institut national, de...   \n",
       "23144  Jean-Charles Borda, de l'Institut national, de...   \n",
       "23145  Jean-Charles Borda, de l'Institut national, de...   \n",
       "23146  Jean-Charles Borda, de l'Institut national, de...   \n",
       "23147  Jean-Charles Borda, de l'Institut national, de...   \n",
       "\n",
       "                                        Tuple_topic_sent  Topic  \n",
       "0      (Louis-Antoine de Bougainville, sénateur, comt...     -1  \n",
       "1                                                  (, 0)      0  \n",
       "2      ( Il était fils d'un notaire, échevin de Paris...     35  \n",
       "3      ( Navigateur célèbre, officier - général de te...     -1  \n",
       "4      (Encore au collège, il se faisait déjà remarqu...     -1  \n",
       "...                                                  ...    ...  \n",
       "23143  (  Il aimait les lettres et même la poésie ; m...     56  \n",
       "23144  ( Sa lecture favorite était celle d'Homère, l'...     -1  \n",
       "23145  (  Sa conversation était agréable et instructi...     48  \n",
       "23146  (  Son cúur était aimant et facile ; il inspir...     -1  \n",
       "23147  (  Il mettait peu de prix à la célébrité, mais...     -1  \n",
       "\n",
       "[23148 rows x 6 columns]"
      ]
     },
     "execution_count": 126,
     "metadata": {},
     "output_type": "execute_result"
    }
   ],
   "source": [
    "df_help = df_sent.copy()\n",
    "#df_help['Topic'] = df_help['Tuple_topic_sent'].apply(lambda x : list(set([elem[1] for elem in x])))\n",
    "df_help = df_help.explode('Tuple_topic_sent', ignore_index=True)\n",
    "df_help['Topic'] = df_help['Tuple_topic_sent'].apply(lambda x : x[1])\n",
    "df_help"
   ]
  },
  {
   "cell_type": "code",
   "execution_count": 127,
   "id": "julian-forth",
   "metadata": {},
   "outputs": [
    {
     "data": {
      "text/plain": [
       "[29, 35, 58, 17, 46, 26, 70, 52]"
      ]
     },
     "execution_count": 127,
     "metadata": {},
     "output_type": "execute_result"
    }
   ],
   "source": [
    "import seaborn as sns\n",
    "\n",
    "top = topic_sizes.head(10).Topic.to_list()\n",
    "top.pop(0)\n",
    "top.pop(0)\n",
    "top"
   ]
  },
  {
   "cell_type": "code",
   "execution_count": 128,
   "id": "packed-logan",
   "metadata": {},
   "outputs": [
    {
     "data": {
      "text/html": [
       "<div>\n",
       "<style scoped>\n",
       "    .dataframe tbody tr th:only-of-type {\n",
       "        vertical-align: middle;\n",
       "    }\n",
       "\n",
       "    .dataframe tbody tr th {\n",
       "        vertical-align: top;\n",
       "    }\n",
       "\n",
       "    .dataframe thead th {\n",
       "        text-align: right;\n",
       "    }\n",
       "</style>\n",
       "<table border=\"1\" class=\"dataframe\">\n",
       "  <thead>\n",
       "    <tr style=\"text-align: right;\">\n",
       "      <th></th>\n",
       "      <th>Savant</th>\n",
       "      <th>Auteur</th>\n",
       "      <th>Annee</th>\n",
       "      <th>Eloge</th>\n",
       "      <th>Tuple_topic_sent</th>\n",
       "      <th>Topic</th>\n",
       "    </tr>\n",
       "  </thead>\n",
       "  <tbody>\n",
       "    <tr>\n",
       "      <th>2</th>\n",
       "      <td>Bougainville</td>\n",
       "      <td>Delambre</td>\n",
       "      <td>1813.0</td>\n",
       "      <td>Louis-Antoine de Bougainville, sénateur, comte...</td>\n",
       "      <td>( Il était fils d'un notaire, échevin de Paris...</td>\n",
       "      <td>35</td>\n",
       "    </tr>\n",
       "    <tr>\n",
       "      <th>5</th>\n",
       "      <td>Bougainville</td>\n",
       "      <td>Delambre</td>\n",
       "      <td>1813.0</td>\n",
       "      <td>Louis-Antoine de Bougainville, sénateur, comte...</td>\n",
       "      <td>( Son professeur expliquait un jour les phases...</td>\n",
       "      <td>46</td>\n",
       "    </tr>\n",
       "    <tr>\n",
       "      <th>19</th>\n",
       "      <td>Bougainville</td>\n",
       "      <td>Delambre</td>\n",
       "      <td>1813.0</td>\n",
       "      <td>Louis-Antoine de Bougainville, sénateur, comte...</td>\n",
       "      <td>( En 1768, un détachement de cinq mille França...</td>\n",
       "      <td>29</td>\n",
       "    </tr>\n",
       "    <tr>\n",
       "      <th>31</th>\n",
       "      <td>Bougainville</td>\n",
       "      <td>Delambre</td>\n",
       "      <td>1813.0</td>\n",
       "      <td>Louis-Antoine de Bougainville, sénateur, comte...</td>\n",
       "      <td>( La cour de France y songeait en 1763, 29)</td>\n",
       "      <td>29</td>\n",
       "    </tr>\n",
       "    <tr>\n",
       "      <th>38</th>\n",
       "      <td>Bougainville</td>\n",
       "      <td>Delambre</td>\n",
       "      <td>1813.0</td>\n",
       "      <td>Louis-Antoine de Bougainville, sénateur, comte...</td>\n",
       "      <td>( Une excursion au détroit de Magellan lui pro...</td>\n",
       "      <td>17</td>\n",
       "    </tr>\n",
       "    <tr>\n",
       "      <th>...</th>\n",
       "      <td>...</td>\n",
       "      <td>...</td>\n",
       "      <td>...</td>\n",
       "      <td>...</td>\n",
       "      <td>...</td>\n",
       "      <td>...</td>\n",
       "    </tr>\n",
       "    <tr>\n",
       "      <th>23123</th>\n",
       "      <td>Borda</td>\n",
       "      <td>Lefevre-Gineau</td>\n",
       "      <td>1800.0</td>\n",
       "      <td>Jean-Charles Borda, de l'Institut national, de...</td>\n",
       "      <td>( C'était donner aux navigateurs un instrument...</td>\n",
       "      <td>46</td>\n",
       "    </tr>\n",
       "    <tr>\n",
       "      <th>23124</th>\n",
       "      <td>Borda</td>\n",
       "      <td>Lefevre-Gineau</td>\n",
       "      <td>1800.0</td>\n",
       "      <td>Jean-Charles Borda, de l'Institut national, de...</td>\n",
       "      <td>( Il décrivit cet instrument dans un ouvrage p...</td>\n",
       "      <td>29</td>\n",
       "    </tr>\n",
       "    <tr>\n",
       "      <th>23125</th>\n",
       "      <td>Borda</td>\n",
       "      <td>Lefevre-Gineau</td>\n",
       "      <td>1800.0</td>\n",
       "      <td>Jean-Charles Borda, de l'Institut national, de...</td>\n",
       "      <td>(  Le cercle entier qu'il a fait exécuter plus...</td>\n",
       "      <td>46</td>\n",
       "    </tr>\n",
       "    <tr>\n",
       "      <th>23126</th>\n",
       "      <td>Borda</td>\n",
       "      <td>Lefevre-Gineau</td>\n",
       "      <td>1800.0</td>\n",
       "      <td>Jean-Charles Borda, de l'Institut national, de...</td>\n",
       "      <td>( L'exactitude qu'il donne est due aux mêmes m...</td>\n",
       "      <td>46</td>\n",
       "    </tr>\n",
       "    <tr>\n",
       "      <th>23130</th>\n",
       "      <td>Borda</td>\n",
       "      <td>Lefevre-Gineau</td>\n",
       "      <td>1800.0</td>\n",
       "      <td>Jean-Charles Borda, de l'Institut national, de...</td>\n",
       "      <td>(  Il fut un des commissaires nommés par l'Aca...</td>\n",
       "      <td>29</td>\n",
       "    </tr>\n",
       "  </tbody>\n",
       "</table>\n",
       "<p>3823 rows × 6 columns</p>\n",
       "</div>"
      ],
      "text/plain": [
       "             Savant          Auteur   Annee  \\\n",
       "2      Bougainville        Delambre  1813.0   \n",
       "5      Bougainville        Delambre  1813.0   \n",
       "19     Bougainville        Delambre  1813.0   \n",
       "31     Bougainville        Delambre  1813.0   \n",
       "38     Bougainville        Delambre  1813.0   \n",
       "...             ...             ...     ...   \n",
       "23123         Borda  Lefevre-Gineau  1800.0   \n",
       "23124         Borda  Lefevre-Gineau  1800.0   \n",
       "23125         Borda  Lefevre-Gineau  1800.0   \n",
       "23126         Borda  Lefevre-Gineau  1800.0   \n",
       "23130         Borda  Lefevre-Gineau  1800.0   \n",
       "\n",
       "                                                   Eloge  \\\n",
       "2      Louis-Antoine de Bougainville, sénateur, comte...   \n",
       "5      Louis-Antoine de Bougainville, sénateur, comte...   \n",
       "19     Louis-Antoine de Bougainville, sénateur, comte...   \n",
       "31     Louis-Antoine de Bougainville, sénateur, comte...   \n",
       "38     Louis-Antoine de Bougainville, sénateur, comte...   \n",
       "...                                                  ...   \n",
       "23123  Jean-Charles Borda, de l'Institut national, de...   \n",
       "23124  Jean-Charles Borda, de l'Institut national, de...   \n",
       "23125  Jean-Charles Borda, de l'Institut national, de...   \n",
       "23126  Jean-Charles Borda, de l'Institut national, de...   \n",
       "23130  Jean-Charles Borda, de l'Institut national, de...   \n",
       "\n",
       "                                        Tuple_topic_sent  Topic  \n",
       "2      ( Il était fils d'un notaire, échevin de Paris...     35  \n",
       "5      ( Son professeur expliquait un jour les phases...     46  \n",
       "19     ( En 1768, un détachement de cinq mille França...     29  \n",
       "31           ( La cour de France y songeait en 1763, 29)     29  \n",
       "38     ( Une excursion au détroit de Magellan lui pro...     17  \n",
       "...                                                  ...    ...  \n",
       "23123  ( C'était donner aux navigateurs un instrument...     46  \n",
       "23124  ( Il décrivit cet instrument dans un ouvrage p...     29  \n",
       "23125  (  Le cercle entier qu'il a fait exécuter plus...     46  \n",
       "23126  ( L'exactitude qu'il donne est due aux mêmes m...     46  \n",
       "23130  (  Il fut un des commissaires nommés par l'Aca...     29  \n",
       "\n",
       "[3823 rows x 6 columns]"
      ]
     },
     "execution_count": 128,
     "metadata": {},
     "output_type": "execute_result"
    }
   ],
   "source": [
    "df_topic = df_help[df_help['Topic'].isin(top)]\n",
    "df_topic"
   ]
  },
  {
   "cell_type": "code",
   "execution_count": 129,
   "id": "ambient-porcelain",
   "metadata": {},
   "outputs": [
    {
     "data": {
      "text/html": [
       "<div>\n",
       "<style scoped>\n",
       "    .dataframe tbody tr th:only-of-type {\n",
       "        vertical-align: middle;\n",
       "    }\n",
       "\n",
       "    .dataframe tbody tr th {\n",
       "        vertical-align: top;\n",
       "    }\n",
       "\n",
       "    .dataframe thead th {\n",
       "        text-align: right;\n",
       "    }\n",
       "</style>\n",
       "<table border=\"1\" class=\"dataframe\">\n",
       "  <thead>\n",
       "    <tr style=\"text-align: right;\">\n",
       "      <th></th>\n",
       "      <th>Annee</th>\n",
       "      <th>Topic</th>\n",
       "      <th>NBR</th>\n",
       "    </tr>\n",
       "  </thead>\n",
       "  <tbody>\n",
       "    <tr>\n",
       "      <th>0</th>\n",
       "      <td>1741.0</td>\n",
       "      <td>17</td>\n",
       "      <td>5</td>\n",
       "    </tr>\n",
       "    <tr>\n",
       "      <th>1</th>\n",
       "      <td>1741.0</td>\n",
       "      <td>26</td>\n",
       "      <td>9</td>\n",
       "    </tr>\n",
       "    <tr>\n",
       "      <th>2</th>\n",
       "      <td>1741.0</td>\n",
       "      <td>29</td>\n",
       "      <td>10</td>\n",
       "    </tr>\n",
       "    <tr>\n",
       "      <th>3</th>\n",
       "      <td>1741.0</td>\n",
       "      <td>35</td>\n",
       "      <td>1</td>\n",
       "    </tr>\n",
       "    <tr>\n",
       "      <th>4</th>\n",
       "      <td>1741.0</td>\n",
       "      <td>58</td>\n",
       "      <td>2</td>\n",
       "    </tr>\n",
       "    <tr>\n",
       "      <th>...</th>\n",
       "      <td>...</td>\n",
       "      <td>...</td>\n",
       "      <td>...</td>\n",
       "    </tr>\n",
       "    <tr>\n",
       "      <th>342</th>\n",
       "      <td>1831.0</td>\n",
       "      <td>35</td>\n",
       "      <td>10</td>\n",
       "    </tr>\n",
       "    <tr>\n",
       "      <th>343</th>\n",
       "      <td>1831.0</td>\n",
       "      <td>46</td>\n",
       "      <td>1</td>\n",
       "    </tr>\n",
       "    <tr>\n",
       "      <th>344</th>\n",
       "      <td>1831.0</td>\n",
       "      <td>52</td>\n",
       "      <td>22</td>\n",
       "    </tr>\n",
       "    <tr>\n",
       "      <th>345</th>\n",
       "      <td>1831.0</td>\n",
       "      <td>58</td>\n",
       "      <td>10</td>\n",
       "    </tr>\n",
       "    <tr>\n",
       "      <th>346</th>\n",
       "      <td>1831.0</td>\n",
       "      <td>70</td>\n",
       "      <td>1</td>\n",
       "    </tr>\n",
       "  </tbody>\n",
       "</table>\n",
       "<p>347 rows × 3 columns</p>\n",
       "</div>"
      ],
      "text/plain": [
       "      Annee  Topic  NBR\n",
       "0    1741.0     17    5\n",
       "1    1741.0     26    9\n",
       "2    1741.0     29   10\n",
       "3    1741.0     35    1\n",
       "4    1741.0     58    2\n",
       "..      ...    ...  ...\n",
       "342  1831.0     35   10\n",
       "343  1831.0     46    1\n",
       "344  1831.0     52   22\n",
       "345  1831.0     58   10\n",
       "346  1831.0     70    1\n",
       "\n",
       "[347 rows x 3 columns]"
      ]
     },
     "execution_count": 129,
     "metadata": {},
     "output_type": "execute_result"
    }
   ],
   "source": [
    "df_topic = df_topic.groupby(['Annee', 'Topic']).agg({'Auteur' : 'count'}).rename(columns = {'Auteur' : 'NBR'}).reset_index()\n",
    "df_topic"
   ]
  },
  {
   "cell_type": "code",
   "execution_count": 213,
   "id": "thrown-timothy",
   "metadata": {},
   "outputs": [],
   "source": [
    "df_topic.to_csv('./../../Data/Results/topic_modeling.csv')\n",
    "df_sent.to_csv('./../../Data/Results/df_sent.csv')"
   ]
  },
  {
   "cell_type": "code",
   "execution_count": 131,
   "id": "royal-fetish",
   "metadata": {},
   "outputs": [],
   "source": [
    "dic = {'17' : 'Botanique', '29' : 'Mort_Publier', '35' : 'Famille', '58' : 'Sciences', '46' : 'Astronomie',\n",
    "      '52' : 'Chimie', '70' : 'Roi', '26' : 'Médecine'}"
   ]
  },
  {
   "cell_type": "code",
   "execution_count": 151,
   "id": "royal-granny",
   "metadata": {
    "scrolled": false
   },
   "outputs": [
    {
     "data": {
      "text/plain": [
       "Text(0, 0.5, 'Evolution of the top-ten topics')"
      ]
     },
     "execution_count": 151,
     "metadata": {},
     "output_type": "execute_result"
    },
    {
     "data": {
      "image/png": "[encoded data removed]",
      "text/plain": [
       "<Figure size 1080x576 with 1 Axes>"
      ]
     },
     "metadata": {},
     "output_type": "display_data"
    }
   ],
   "source": [
    "fig, ax = plt.subplots(figsize = (15,8))\n",
    "leg = []\n",
    "\n",
    "for top in df_topic['Topic'].unique():\n",
    "    df_temp = df_topic[df_topic['Topic']==top]\n",
    "    ax = df_temp.plot(ax=ax, kind='line', x='Annee', y='NBR')\n",
    "    leg.append(dic[str(top)])\n",
    "\n",
    "plt.legend(leg)\n",
    "plt.ylabel('Evolution of the top-ten topics')"
   ]
  },
  {
   "cell_type": "code",
   "execution_count": 124,
   "id": "pharmaceutical-championship",
   "metadata": {},
   "outputs": [],
   "source": [
    "dic = {'17' : 'Botanique', '29' : 'Mort_Publier', '35' : 'Famille', '58' : 'Sciences', '46' : 'Astronomie',\n",
    "      '52' : 'Chimie', '70' : 'Roi', '26' : 'Médecine', '2' : 'Livre'}"
   ]
  },
  {
   "cell_type": "code",
   "execution_count": 117,
   "id": "minute-fighter",
   "metadata": {},
   "outputs": [
    {
     "data": {
      "text/plain": [
       "array([17, 26, 29, 35, 58, 46, 52, 70])"
      ]
     },
     "execution_count": 117,
     "metadata": {},
     "output_type": "execute_result"
    }
   ],
   "source": [
    "df_topic['Topic'].unique()"
   ]
  },
  {
   "cell_type": "code",
   "execution_count": 164,
   "id": "tender-battlefield",
   "metadata": {},
   "outputs": [
    {
     "data": {
      "text/plain": [
       "[('loi', 0.4590368811238842),\n",
       " ('phénomène', 0.0836235367964336),\n",
       " ('examen', 0.065090021629584),\n",
       " ('falloir', 0.04914931768094395),\n",
       " ('faire', 0.04836369875840237),\n",
       " ('système', 0.04081252617803648),\n",
       " ('régir', 0.03941720378742565),\n",
       " ('donner', 0.0376995328111586),\n",
       " ('être', 0.036203192514661975),\n",
       " ('irrégularité', 0.03572655992950927),\n",
       " ('découvrir', 0.033831786182009556),\n",
       " ('esprit', 0.032305297803449366),\n",
       " ('qu', 0.03229084174949159),\n",
       " ('législation', 0.03223783673837423),\n",
       " ('coutume', 0.03173492258248962),\n",
       " ('question', 0.031661402498828824),\n",
       " ('désordre', 0.030733869928637258),\n",
       " ('jouer', 0.030243873966536623),\n",
       " ('affinité', 0.029799528271710785),\n",
       " ('trouver', 0.02846292756377745)]"
      ]
     },
     "execution_count": 164,
     "metadata": {},
     "output_type": "execute_result"
    }
   ],
   "source": [
    "top_n_words[5][:20]"
   ]
  },
  {
   "cell_type": "code",
   "execution_count": 141,
   "id": "concrete-spice",
   "metadata": {},
   "outputs": [
    {
     "data": {
      "text/plain": [
       "[('ministre', 0.3398239258262201),\n",
       " ('ministère', 0.04970415521419251),\n",
       " ('avoir', 0.03899486681634077),\n",
       " ('être', 0.03722487770219231),\n",
       " ('affairer', 0.035502968010137505),\n",
       " ('qu', 0.03486222289003393),\n",
       " ('lettre', 0.030442130843321136),\n",
       " ('sceau', 0.024999633587750602),\n",
       " ('faire', 0.02486428193836883),\n",
       " ('faveur', 0.024445445204777903),\n",
       " ('exiger', 0.02327065504438049),\n",
       " ('placer', 0.02312434247689285),\n",
       " ('seychelles', 0.022960776643273093),\n",
       " ('occuper', 0.02286563449549967),\n",
       " ('mettre', 0.022670513017769196),\n",
       " ('forcer', 0.022185200368992918),\n",
       " ('attachement', 0.0218007212674183),\n",
       " ('venir', 0.021677733660434143),\n",
       " ('partir', 0.021668664967984384),\n",
       " ('haine', 0.021570584984051424)]"
      ]
     },
     "execution_count": 141,
     "metadata": {},
     "output_type": "execute_result"
    }
   ],
   "source": [
    "top_n_words[71][:20]"
   ]
  },
  {
   "cell_type": "code",
   "execution_count": null,
   "id": "fifth-schema",
   "metadata": {},
   "outputs": [],
   "source": []
  }
 ],
 "metadata": {
  "kernelspec": {
   "display_name": "Python 3 (ipykernel)",
   "language": "python",
   "name": "python3"
  },
  "language_info": {
   "codemirror_mode": {
    "name": "ipython",
    "version": 3
   },
   "file_extension": ".py",
   "mimetype": "text/x-python",
   "name": "python",
   "nbconvert_exporter": "python",
   "pygments_lexer": "ipython3",
   "version": "3.8.5"
  }
 },
 "nbformat": 4,
 "nbformat_minor": 5
}
